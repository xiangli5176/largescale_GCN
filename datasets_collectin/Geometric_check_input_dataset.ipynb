{
 "cells": [
  {
   "cell_type": "code",
   "execution_count": 1,
   "metadata": {},
   "outputs": [
    {
     "data": {
      "text/html": [
       "<style>.container { width:90% !important; }</style>"
      ],
      "text/plain": [
       "<IPython.core.display.HTML object>"
      ]
     },
     "metadata": {},
     "output_type": "display_data"
    }
   ],
   "source": [
    "from IPython.core.display import display, HTML\n",
    "display(HTML(\"<style>.container { width:90% !important; }</style>\"))"
   ]
  },
  {
   "cell_type": "markdown",
   "metadata": {},
   "source": [
    "### Data used in Geometric Package"
   ]
  },
  {
   "cell_type": "code",
   "execution_count": 3,
   "metadata": {},
   "outputs": [],
   "source": [
    "import copy\n",
    "\n",
    "import os\n",
    "import sys\n",
    "import torch\n",
    "import matplotlib.pyplot as plt\n",
    "import networkx as nx\n",
    "import numpy as np\n",
    "import pandas as pd\n",
    "import seaborn as sns\n",
    "from collections import defaultdict\n",
    "from tqdm import tqdm_notebook as tqdm\n",
    "\n",
    "from utils import filter_out_isolate_normalize_feature, draw_cluster_info, draw_trainer_info, print_data_info, print_edge_index_info\n"
   ]
  },
  {
   "cell_type": "code",
   "execution_count": 4,
   "metadata": {},
   "outputs": [],
   "source": [
    "device = torch.device('cuda' if torch.cuda.is_available() else 'cpu')\n",
    "def print_data_info(data):\n",
    "    \n",
    "    print('Info (attributes) of a single data instance')\n",
    "    print(data, '\\n number of nodes: ', data.num_nodes, '\\n number of edges: ', data.num_edges, \\\n",
    "      '\\n number of features per ndoe: ', data.num_node_features, '\\n number of edge features: ', data.num_edge_features, \\\n",
    "      '\\n number of classifying labels of dataset: ', dataset.num_classes, \\\n",
    "      '\\n all the attributes of data: ', data.keys)"
   ]
  },
  {
   "cell_type": "code",
   "execution_count": 5,
   "metadata": {},
   "outputs": [],
   "source": [
    "local_data_root = '/home/xiangli/projects/tmpdata/GCN/Geometric/'"
   ]
  },
  {
   "cell_type": "markdown",
   "metadata": {},
   "source": [
    "## Belong to the Planetoid series"
   ]
  },
  {
   "cell_type": "markdown",
   "metadata": {},
   "source": [
    "### Cora dataset"
   ]
  },
  {
   "cell_type": "code",
   "execution_count": 7,
   "metadata": {},
   "outputs": [
    {
     "name": "stdout",
     "output_type": "stream",
     "text": [
      "Info (attributes) of a single data instance\n",
      "Data(edge_index=[2, 10556], test_mask=[2708], train_mask=[2708], val_mask=[2708], x=[2708, 1433], y=[2708]) \n",
      " number of nodes:  2708 \n",
      " number of edges:  10556 \n",
      " number of features per ndoe:  1433 \n",
      " number of edge features:  0 \n",
      " number of classifying labels of dataset:  7 \n",
      " all the attributes of data:  ['x', 'edge_index', 'y', 'train_mask', 'val_mask', 'test_mask']\n",
      "\n",
      " This is multi-class task\n",
      "torch.Size([2708]) <class 'torch.Tensor'> tensor([3, 4, 4, 0, 3])\n",
      "torch.Size([2, 10556])\n",
      "\n",
      " isolated nodes in the graph:\n",
      "No isolated nodes number is found \n",
      "Label shape is: torch.Size([2708])\n",
      "edge index shape is :  torch.Size([2, 10556])\n",
      "number of self-loops:  0\n",
      "number of unique edges:  5278\n",
      "Length of the odds:  0\n"
     ]
    }
   ],
   "source": [
    "from torch_geometric.datasets import Planetoid\n",
    "data_name = 'Cora'\n",
    "dataset = Planetoid(root = local_data_root + 'Planetoid/Cora', name=data_name)\n",
    "data = dataset[0]\n",
    "print_data_info(data)\n",
    "\n",
    "print('\\n This is multi-class task')\n",
    "edge_index, features, label = data.edge_index, data.x, data.y\n",
    "print(label.shape, type(label), label[:5])\n",
    "print(edge_index.shape)\n",
    "\n",
    "print('\\n isolated nodes in the graph:')\n",
    "_, _, _ = filter_out_isolate_normalize_feature(edge_index, features, label)\n",
    "\n",
    "print_edge_index_info(edge_index)"
   ]
  },
  {
   "cell_type": "markdown",
   "metadata": {},
   "source": [
    "### Citeseer Dataset"
   ]
  },
  {
   "cell_type": "code",
   "execution_count": null,
   "metadata": {},
   "outputs": [],
   "source": [
    "from torch_geometric.datasets import Planetoid\n",
    "data_name = 'CiteSeer'\n",
    "dataset = Planetoid(root = local_data_root + 'Planetoid/CiteSeer', name=data_name)\n",
    "data = dataset[0]\n",
    "print_data_info(data)"
   ]
  },
  {
   "cell_type": "markdown",
   "metadata": {},
   "source": [
    "### PubMed Dataset"
   ]
  },
  {
   "cell_type": "code",
   "execution_count": null,
   "metadata": {},
   "outputs": [],
   "source": [
    "from torch_geometric.datasets import Planetoid\n",
    "data_name = 'PubMed'\n",
    "dataset = Planetoid(root = local_data_root + 'Planetoid/PubMed', name=data_name)\n",
    "data = dataset[0]\n",
    "print_data_info(data)"
   ]
  },
  {
   "cell_type": "markdown",
   "metadata": {},
   "source": [
    "### Stanford Education Dataset"
   ]
  },
  {
   "cell_type": "code",
   "execution_count": null,
   "metadata": {},
   "outputs": [],
   "source": [
    "from torch_geometric.datasets import SNAPDataset\n",
    "# available_datasets = {\n",
    "#         'ego-facebook': ['facebook.tar.gz'],\n",
    "#         'ego-gplus': ['gplus.tar.gz'],   # data format failure\n",
    "#         'ego-twitter': ['twitter.tar.gz'],    # too large for processing\n",
    "#         'soc-epinions1': ['soc-Epinions1.txt.gz'],\n",
    "#         'soc-livejournal1': ['soc-LiveJournal1.txt.gz'],\n",
    "#         'soc-pokec': ['soc-pokec-relationships.txt.gz'],\n",
    "#         'soc-slashdot0811': ['soc-Slashdot0811.txt.gz'],\n",
    "#         'soc-slashdot0922': ['soc-Slashdot0902.txt.gz'],\n",
    "#         'wiki-vote': ['wiki-Vote.txt.gz'],\n",
    "#     }\n",
    "data_name = 'ego-facebook'\n",
    "dataset = SNAPDataset(root = local_data_root + data_name, name=data_name)\n",
    "print('number of data: ', len(dataset))\n",
    "data = dataset[0]\n",
    "print_data_info(data)"
   ]
  },
  {
   "cell_type": "code",
   "execution_count": null,
   "metadata": {},
   "outputs": [],
   "source": [
    "data_name = 'ego-twitter'\n",
    "dataset = SNAPDataset(root = local_data_root + data_name, name=data_name)\n",
    "print('number of data: ', len(dataset))\n",
    "data = dataset[0]\n",
    "print_data_info(data)"
   ]
  },
  {
   "cell_type": "code",
   "execution_count": null,
   "metadata": {},
   "outputs": [],
   "source": [
    "data_name = 'wiki-vote'\n",
    "dataset = SNAPDataset(root = local_data_root + data_name, name=data_name)\n",
    "print('number of data: ', len(dataset))\n",
    "data = dataset[0]\n",
    "print_data_info(data)"
   ]
  },
  {
   "cell_type": "code",
   "execution_count": null,
   "metadata": {},
   "outputs": [],
   "source": [
    "data_name = 'soc-pokec'\n",
    "dataset = SNAPDataset(root = local_data_root + data_name, name=data_name)\n",
    "print('number of data: ', len(dataset))\n",
    "data = dataset[0]\n",
    "print_data_info(data)"
   ]
  },
  {
   "cell_type": "code",
   "execution_count": null,
   "metadata": {},
   "outputs": [],
   "source": [
    "data_name = 'soc-livejournal1'\n",
    "dataset = SNAPDataset(root = local_data_root + data_name, name=data_name)\n",
    "print('number of data: ', len(dataset))\n",
    "data = dataset[0]\n",
    "print_data_info(data)"
   ]
  },
  {
   "cell_type": "code",
   "execution_count": null,
   "metadata": {},
   "outputs": [],
   "source": [
    "data_name = 'soc-slashdot0811'\n",
    "dataset = SNAPDataset(root = local_data_root + data_name, name=data_name)\n",
    "print('number of data: ', len(dataset))\n",
    "data = dataset[0]\n",
    "print_data_info(data)\n"
   ]
  },
  {
   "cell_type": "markdown",
   "metadata": {},
   "source": [
    "### TUD dataset"
   ]
  },
  {
   "cell_type": "code",
   "execution_count": null,
   "metadata": {},
   "outputs": [],
   "source": [
    "from torch_geometric.datasets import TUDataset\n",
    "data_name = 'FIRSTMM_DB'\n",
    "dataset = TUDataset(root = local_data_root + data_name, name=data_name)\n",
    "print('number of data: ', len(dataset))\n",
    "data = dataset[0]\n",
    "print_data_info(data)\n"
   ]
  },
  {
   "cell_type": "code",
   "execution_count": null,
   "metadata": {},
   "outputs": [],
   "source": [
    "from torch_geometric.datasets import TUDataset\n",
    "data_name = 'REDDIT-MULTI-12K'\n",
    "dataset = TUDataset(root = local_data_root + data_name, name=data_name)\n",
    "print('number of data: ', len(dataset))\n",
    "data = dataset[0]\n",
    "print_data_info(data)\n"
   ]
  },
  {
   "cell_type": "markdown",
   "metadata": {},
   "source": [
    "## Belong to the CitationFull series"
   ]
  },
  {
   "cell_type": "code",
   "execution_count": null,
   "metadata": {},
   "outputs": [],
   "source": [
    "# assert name in ['cora', 'cora_ml', 'citeseer', 'dblp', 'pubmed']\n",
    "from torch_geometric.datasets import CitationFull\n",
    "data_name = 'cora_ml'\n",
    "dataset = CitationFull(root = local_data_root + data_name,  name=data_name)\n",
    "print('number of data: ', len(dataset))\n",
    "data = dataset[0]\n",
    "print_data_info(data)"
   ]
  },
  {
   "cell_type": "code",
   "execution_count": null,
   "metadata": {},
   "outputs": [],
   "source": [
    "data_name = 'citeseer'\n",
    "dataset = CitationFull(root = local_data_root + data_name,  name=data_name)\n",
    "print('number of data: ', len(dataset))\n",
    "data = dataset[0]\n",
    "print_data_info(data)"
   ]
  },
  {
   "cell_type": "code",
   "execution_count": null,
   "metadata": {},
   "outputs": [],
   "source": [
    "data_name = 'dblp'\n",
    "dataset = CitationFull(root = local_data_root + data_name,  name=data_name)\n",
    "print('number of data: ', len(dataset))\n",
    "data = dataset[0]\n",
    "print_data_info(data)"
   ]
  },
  {
   "cell_type": "code",
   "execution_count": null,
   "metadata": {},
   "outputs": [],
   "source": [
    "data_name = 'pubmed'\n",
    "dataset = CitationFull(root = local_data_root + data_name,  name=data_name)\n",
    "print('number of data: ', len(dataset))\n",
    "data = dataset[0]\n",
    "print_data_info(data)"
   ]
  },
  {
   "cell_type": "markdown",
   "metadata": {},
   "source": [
    "### CoraFull dataset (alias for CitationFull with name \"Cora\")"
   ]
  },
  {
   "cell_type": "code",
   "execution_count": null,
   "metadata": {},
   "outputs": [],
   "source": [
    "from torch_geometric.datasets import CoraFull\n",
    "data_name = 'CoraFull'\n",
    "dataset = CoraFull(root = local_data_root + 'CoralFull')\n",
    "print('number of data: ', len(dataset))\n",
    "data = dataset[0]\n",
    "print_data_info(data)"
   ]
  },
  {
   "cell_type": "markdown",
   "metadata": {},
   "source": [
    "### Coauthor dataset"
   ]
  },
  {
   "cell_type": "code",
   "execution_count": null,
   "metadata": {},
   "outputs": [],
   "source": [
    "from torch_geometric.datasets import Coauthor\n",
    "data_name = 'cs'\n",
    "dataset = Coauthor(root = local_data_root + 'Coauthor/' + data_name, name=data_name)\n",
    "print('number of data: ', len(dataset))\n",
    "data = dataset[0]\n",
    "print_data_info(data)"
   ]
  },
  {
   "cell_type": "markdown",
   "metadata": {},
   "source": [
    "### Amazon dataset"
   ]
  },
  {
   "cell_type": "code",
   "execution_count": null,
   "metadata": {},
   "outputs": [],
   "source": [
    "from torch_geometric.datasets import Amazon\n",
    "# data_name  can also be 'computers', 'photos'\n",
    "dataset = Amazon(root = local_data_root + 'Amazon/' + data_name, name='computers')\n",
    "# print('number of data: ', len(dataset))\n",
    "data = dataset[0]\n",
    "# print_data_info(data)"
   ]
  },
  {
   "cell_type": "code",
   "execution_count": null,
   "metadata": {},
   "outputs": [],
   "source": [
    "data_name = 'photo'    # can also be 'computers', 'photos'\n",
    "dataset = Amazon(root = local_data_root + 'Amazon/' + data_name, name=data_name)\n",
    "print('number of data: ', len(dataset))\n",
    "data = dataset[0]\n",
    "print_data_info(data)"
   ]
  },
  {
   "cell_type": "markdown",
   "metadata": {},
   "source": [
    "### PPI dataset"
   ]
  },
  {
   "cell_type": "code",
   "execution_count": null,
   "metadata": {},
   "outputs": [],
   "source": [
    "from torch_geometric.datasets import PPI\n",
    "data_name = 'PPI'    # can also be 'computers'\n",
    "dataset = PPI(root = local_data_root + 'PPI/' + data_name)\n",
    "print('number of data: ', len(dataset))\n",
    "for i in range(len(dataset)):\n",
    "    print('Infor for the data #[{}]'.format(i))\n",
    "    data = dataset[i]\n",
    "    print_data_info(data)"
   ]
  },
  {
   "cell_type": "code",
   "execution_count": null,
   "metadata": {},
   "outputs": [],
   "source": [
    "from torch_geometric.datasets import PPI\n",
    "data_name = 'PPI'    # can also be 'computers'\n",
    "dataset = PPI(root = local_data_root + 'PPI/' + data_name, split=\"test\")\n",
    "print('number of data: ', len(dataset))\n",
    "for i in range(len(dataset)):\n",
    "    print('Infor for the data #[{}]'.format(i))\n",
    "    data = dataset[i]\n",
    "    print_data_info(data)"
   ]
  },
  {
   "cell_type": "code",
   "execution_count": null,
   "metadata": {},
   "outputs": [],
   "source": [
    "from torch_geometric.datasets import PPI\n",
    "data_name = 'PPI'    # can also be 'computers'\n",
    "dataset = PPI(root = local_data_root + 'PPI/' + data_name, split=\"val\")\n",
    "print('number of data: ', len(dataset))\n",
    "data = dataset[0]\n",
    "print_data_info(data)"
   ]
  },
  {
   "cell_type": "markdown",
   "metadata": {},
   "source": [
    "### Reddit dataset"
   ]
  },
  {
   "cell_type": "code",
   "execution_count": null,
   "metadata": {},
   "outputs": [],
   "source": [
    "from torch_geometric.datasets import Reddit\n",
    "data_name = 'Reddit'    # can also be 'computers'\n",
    "dataset = Reddit(root = local_data_root + '/' + data_name)\n",
    "print('number of data: ', len(dataset))\n",
    "data = dataset[0]\n",
    "print_data_info(data)\n",
    "\n",
    "edge_index, features, label = data.edge_index, data.x, data.y\n",
    "print(label.shape, type(label), label[:5])\n",
    "print(edge_index.shape)\n",
    "\n",
    "print('\\n isolated nodes in the graph:')\n",
    "_, _, _ = filter_out_isolate(edge_index, features, label)"
   ]
  },
  {
   "cell_type": "markdown",
   "metadata": {},
   "source": [
    "Info (attributes) of a single data instance, from HPC Pitzer:\n",
    "\n",
    "    Data(edge_index=[2, 114615892], test_mask=[232965], train_mask=[232965], val_mask=[232965], x=[232965, 602], y=[232965]) \n",
    "     number of nodes:  232965 \n",
    "     number of edges:  114615892 \n",
    "     number of features per ndoe:  602 \n",
    "     number of edge features:  0 \n",
    "     number of classifying labels of dataset:  41 \n",
    "     all the attributes of data:  ['x', 'edge_index', 'y', 'train_mask', 'val_mask', 'test_mask']\n",
    "    Start running for train batch num: 75\n",
    "\n",
    "    ====================================================================================================\n",
    "    Start to generate the clustering machine:\n",
    "    No isolated nodes number is found \n",
    "    Batch machine creation costs a total of 740.3321 seconds!\n",
    "\n",
    "    Edge number:  114615892 \n",
    "    Node number:  232965 \n",
    "    Feature number:  602"
   ]
  },
  {
   "cell_type": "markdown",
   "metadata": {},
   "source": [
    "### QM7b dataset"
   ]
  },
  {
   "cell_type": "code",
   "execution_count": null,
   "metadata": {},
   "outputs": [],
   "source": [
    "from torch_geometric.datasets import QM7b\n",
    "data_name = 'QM7b'    # can also be 'computers'\n",
    "dataset = QM7b(root = local_data_root + '/' + data_name)\n",
    "print('number of data: ', len(dataset))\n",
    "data = dataset[0]\n",
    "print_data_info(data)"
   ]
  },
  {
   "cell_type": "markdown",
   "metadata": {},
   "source": [
    "### QM9 dataset"
   ]
  },
  {
   "cell_type": "code",
   "execution_count": null,
   "metadata": {},
   "outputs": [],
   "source": [
    "from torch_geometric.datasets import QM9\n",
    "data_name = 'QM9'    # can also be 'computers'\n",
    "dataset = QM9(root = local_data_root + '/' + data_name)\n",
    "print('number of data: ', len(dataset))\n",
    "data = dataset[0]\n",
    "print_data_info(data)"
   ]
  },
  {
   "cell_type": "markdown",
   "metadata": {},
   "source": [
    "### Entities"
   ]
  },
  {
   "cell_type": "code",
   "execution_count": null,
   "metadata": {},
   "outputs": [],
   "source": [
    "from torch_geometric.datasets import Entities\n",
    "data_name = 'AIFB'    # can also be 'computers'\n",
    "dataset = Entities(root = local_data_root + 'Entities/' + data_name, name=data_name)\n",
    "print('number of data: ', len(dataset))\n",
    "data = dataset[0]\n",
    "print_data_info(data)"
   ]
  },
  {
   "cell_type": "markdown",
   "metadata": {},
   "source": [
    "#### Large data scale :  Entities  AM"
   ]
  },
  {
   "cell_type": "code",
   "execution_count": null,
   "metadata": {},
   "outputs": [],
   "source": [
    "data_name = 'MUTAG'    # can also be 'computers'\n",
    "dataset = Entities(root = local_data_root + 'Entities/' + data_name, name=data_name)\n",
    "print('number of data: ', len(dataset))\n",
    "data = dataset[0]\n",
    "print_data_info(data)"
   ]
  },
  {
   "cell_type": "markdown",
   "metadata": {},
   "source": [
    "##### No node features but with labels"
   ]
  },
  {
   "cell_type": "code",
   "execution_count": null,
   "metadata": {},
   "outputs": [],
   "source": [
    "data_name = 'BGS'    # can also be 'computers'\n",
    "dataset = Entities(root = local_data_root + 'Entities/' + data_name, name=data_name)\n",
    "print('number of data: ', len(dataset))\n",
    "data = dataset[0]\n",
    "print_data_info(data)"
   ]
  },
  {
   "cell_type": "markdown",
   "metadata": {},
   "source": [
    "### GEDDataset"
   ]
  },
  {
   "cell_type": "code",
   "execution_count": null,
   "metadata": {},
   "outputs": [],
   "source": [
    "from torch_geometric.datasets import GEDDataset\n",
    "data_name = 'LINUX'    # can also be 'computers'\n",
    "dataset = GEDDataset(root = local_data_root + 'GEDDataset/' + data_name, name=data_name)\n",
    "print('number of data: ', len(dataset))\n",
    "data = dataset[0]\n",
    "print('Info (attributes) of a single data instance')\n",
    "print(data, '\\n number of nodes: ', data.num_nodes, '\\n number of edges: ', data.num_edges, \\\n",
    "  '\\n number of features per ndoe: ', data.num_node_features, '\\n number of edge features: ', data.num_edge_features, \\\n",
    "  '\\n all the attributes of data: ', data.keys)"
   ]
  },
  {
   "cell_type": "markdown",
   "metadata": {},
   "source": [
    "### MNISTSuperpixels"
   ]
  },
  {
   "cell_type": "code",
   "execution_count": null,
   "metadata": {},
   "outputs": [],
   "source": [
    "from torch_geometric.datasets import MNISTSuperpixels\n",
    "data_name = 'MNISTSuperpixels'    # can also be 'computers'\n",
    "dataset = MNISTSuperpixels(root = local_data_root + '/' + data_name)\n",
    "print('number of data: ', len(dataset))\n",
    "data = dataset[0]\n",
    "print_data_info(data)"
   ]
  },
  {
   "cell_type": "markdown",
   "metadata": {},
   "source": [
    "### ShapeNet"
   ]
  },
  {
   "cell_type": "code",
   "execution_count": null,
   "metadata": {},
   "outputs": [],
   "source": [
    "from torch_geometric.datasets import ShapeNet\n",
    "data_name = 'ShapeNet'    # can also be 'computers'\n",
    "dataset = ShapeNet(root = local_data_root + '/' + data_name)\n",
    "print('number of data: ', len(dataset))\n",
    "data = dataset[0]\n",
    "print_data_info(data)"
   ]
  },
  {
   "cell_type": "markdown",
   "metadata": {},
   "source": [
    "### PCPNetDataset"
   ]
  },
  {
   "cell_type": "code",
   "execution_count": null,
   "metadata": {},
   "outputs": [],
   "source": [
    "from torch_geometric.datasets import PCPNetDataset\n",
    "data_name = 'Noisy'    # can also be 'computers'\n",
    "dataset = PCPNetDataset(root = local_data_root + 'PCPNetDataset/' + data_name, category = 'Noisy')\n",
    "print('number of data: ', len(dataset))\n",
    "data = dataset[0]\n",
    "print('Info (attributes) of a single data instance')\n",
    "print(data, '\\n number of nodes: ', data.num_nodes, '\\n number of edges: ', data.num_edges, \\\n",
    "  '\\n number of features per ndoe: ', data.num_node_features, '\\n number of edge features: ', data.num_edge_features, \\\n",
    "  '\\n all the attributes of data: ', data.keys)"
   ]
  },
  {
   "cell_type": "markdown",
   "metadata": {},
   "source": [
    "### S3DIS"
   ]
  },
  {
   "cell_type": "markdown",
   "metadata": {},
   "source": [
    "All the data set here contains 4096 nodes, with a total number of 20291 data\n",
    "\n",
    "This dataset can be used as the mini-batch directly"
   ]
  },
  {
   "cell_type": "code",
   "execution_count": null,
   "metadata": {},
   "outputs": [],
   "source": [
    "from torch_geometric.datasets import S3DIS\n",
    "data_name = 'S3DIS'    # can also be 'computers'\n",
    "dataset = S3DIS(root = local_data_root + '/' + data_name)\n",
    "print('number of data: ', len(dataset))\n",
    "data = dataset[0]\n",
    "print_data_info(data)"
   ]
  },
  {
   "cell_type": "code",
   "execution_count": null,
   "metadata": {},
   "outputs": [],
   "source": [
    "select = [(idx, data.num_nodes) for idx, data in enumerate(dataset) if data.num_nodes > 5000]\n",
    "print(select)\n",
    "    "
   ]
  },
  {
   "cell_type": "code",
   "execution_count": null,
   "metadata": {},
   "outputs": [],
   "source": [
    "# free GPU memory\n",
    "!(nvidia-smi | grep 'python' | awk '{ print $3 }' | xargs -n1 kill -9)"
   ]
  },
  {
   "cell_type": "code",
   "execution_count": null,
   "metadata": {},
   "outputs": [],
   "source": []
  }
 ],
 "metadata": {
  "kernelspec": {
   "display_name": "Python [conda env:pytorch_1_4_geometric]",
   "language": "python",
   "name": "conda-env-pytorch_1_4_geometric-py"
  },
  "language_info": {
   "codemirror_mode": {
    "name": "ipython",
    "version": 3
   },
   "file_extension": ".py",
   "mimetype": "text/x-python",
   "name": "python",
   "nbconvert_exporter": "python",
   "pygments_lexer": "ipython3",
   "version": "3.7.6"
  }
 },
 "nbformat": 4,
 "nbformat_minor": 2
}
