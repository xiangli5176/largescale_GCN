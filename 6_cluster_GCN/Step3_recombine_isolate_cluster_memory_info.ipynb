{
 "cells": [
  {
   "cell_type": "markdown",
   "metadata": {},
   "source": [
    "## isolated clustering including recombination of mini-cluster for hpc run \n",
    "\n",
    "Comments:\n",
    "\n",
    "By using the read weighted edge list from a csv file, it saves much space on self.graph\n",
    "\n",
    "This will for specific batch number and hop-layer number"
   ]
  },
  {
   "cell_type": "code",
   "execution_count": 29,
   "metadata": {},
   "outputs": [
    {
     "data": {
      "text/html": [
       "<style>.container { width:95% !important; }</style>"
      ],
      "text/plain": [
       "<IPython.core.display.HTML object>"
      ]
     },
     "metadata": {},
     "output_type": "display_data"
    }
   ],
   "source": [
    "from IPython.core.display import display, HTML\n",
    "display(HTML(\"<style>.container { width:95% !important; }</style>\"))"
   ]
  },
  {
   "cell_type": "code",
   "execution_count": 30,
   "metadata": {},
   "outputs": [],
   "source": [
    "import copy\n",
    "import csv\n",
    "import os\n",
    "import sys\n",
    "import torch\n",
    "import matplotlib.pyplot as plt\n",
    "import networkx as nx\n",
    "import numpy as np\n",
    "import pandas as pd\n",
    "import seaborn as sns\n",
    "from collections import defaultdict\n",
    "from tqdm import tqdm_notebook as tqdm\n",
    "import pickle\n",
    "import shutil\n",
    "\n",
    "from utils import *\n"
   ]
  },
  {
   "cell_type": "code",
   "execution_count": 31,
   "metadata": {},
   "outputs": [],
   "source": [
    "import inspect\n",
    "import torch\n",
    "from torch_geometric.utils import scatter_\n",
    "\n",
    "import math\n",
    "import random\n",
    "\n",
    "from torch.nn import Parameter\n",
    "from torch_scatter import scatter_add\n",
    "# from torch_geometric.nn import MessagePassing\n",
    "import torch.nn.functional as F\n",
    "from torch_geometric.nn import GCNConv\n",
    "from torch_geometric.utils import add_remaining_self_loops\n",
    "\n",
    "### ====================== Establish a GCN based model ========================\n",
    "class ListModule(torch.nn.Module):\n",
    "    \"\"\"\n",
    "    Abstract list layer class.\n",
    "    \"\"\"\n",
    "    def __init__(self, *args):\n",
    "        \"\"\"\n",
    "        Module initializing.\n",
    "        \"\"\"\n",
    "        super(ListModule, self).__init__()\n",
    "        idx = 0\n",
    "        for module in args:\n",
    "            self.add_module(str(idx), module)\n",
    "            idx += 1\n",
    "\n",
    "    def __getitem__(self, idx):\n",
    "        \"\"\"\n",
    "        Getting the indexed layer.\n",
    "        \"\"\"\n",
    "        if idx < 0 or idx >= len(self._modules):\n",
    "            raise IndexError('index {} is out of range'.format(idx))\n",
    "        it = iter(self._modules.values())\n",
    "        for i in range(idx):\n",
    "            next(it)\n",
    "        return next(it)\n",
    "\n",
    "    def __iter__(self):\n",
    "        \"\"\"\n",
    "        Iterating on the layers.\n",
    "        \"\"\"\n",
    "        return iter(self._modules.values())\n",
    "\n",
    "    def __len__(self):\n",
    "        \"\"\"\n",
    "        Number of layers.\n",
    "        \"\"\"\n",
    "        return len(self._modules)\n",
    "\n",
    "\n",
    "class Net(torch.nn.Module):\n",
    "    def __init__(self, in_channels, out_channels, input_layers = [16, 16], dropout=0.3):\n",
    "        \"\"\"\n",
    "        input layers: list of integers\n",
    "        dropout: probability of droping out \n",
    "        \"\"\"\n",
    "        super(Net, self).__init__()\n",
    "        \n",
    "        self.in_channels = in_channels\n",
    "        self.out_channels = out_channels\n",
    "        self.input_layers = input_layers\n",
    "        self.dropout = dropout\n",
    "        self.setup_layers()\n",
    "\n",
    "    def setup_layers(self):\n",
    "        \"\"\"\n",
    "        Creating the layes based on the args.\n",
    "        \"\"\"\n",
    "        self.layers = []\n",
    "        self.input_layers = [self.in_channels] + self.input_layers + [self.out_channels]\n",
    "        for i, _ in enumerate(self.input_layers[:-1]):\n",
    "            self.layers.append(GCNConv(self.input_layers[i],self.input_layers[i+1]))\n",
    "        self.layers = ListModule(*self.layers)\n",
    "\n",
    "    # change the dropout positions: \n",
    "    def forward(self, edge_index, features):\n",
    "        if len(self.layers) > 1:\n",
    "            for i in range(len(self.layers)-1):\n",
    "                features = F.relu(self.layers[i](features, edge_index))\n",
    "#                 if i>0:\n",
    "                features = F.dropout(features, p = self.dropout, training = self.training)\n",
    "                    \n",
    "            features = self.layers[len(self.layers)-1](features, edge_index)\n",
    "        else:\n",
    "            features = self.layers[0](features, edge_index)    # for a single layer case\n",
    "\n",
    "        predictions = F.log_softmax(features, dim=1)\n",
    "        return predictions"
   ]
  },
  {
   "cell_type": "markdown",
   "metadata": {},
   "source": [
    "### Partition GCN"
   ]
  },
  {
   "cell_type": "code",
   "execution_count": 32,
   "metadata": {},
   "outputs": [],
   "source": [
    "\n",
    "import metis\n",
    "import random\n",
    "import numpy as np\n",
    "import networkx as nx\n",
    "from sklearn.model_selection import train_test_split\n",
    "from itertools import chain\n",
    "\n",
    "class ClusteringMachine(object):\n",
    "    \"\"\"\n",
    "    Clustering the graph, feature set and label. Performed on the CPU side\n",
    "    \"\"\"\n",
    "    def __init__(self, edge_index, features, label, tmp_folder = './tmp/', info_folder = './info/'):\n",
    "        \"\"\"\n",
    "        :param edge_index: COO format of the edge indices.\n",
    "        :param features: Feature matrix (ndarray).\n",
    "        :param label: label vector (ndarray).\n",
    "        :tmp_folder(string): the path of the folder to contain all the clustering information files\n",
    "        \"\"\"\n",
    "        self.features = features\n",
    "        self.label = label\n",
    "        self._set_sizes()\n",
    "        self.edge_index = edge_index\n",
    "        # store the information folder for memory tracing\n",
    "        self.tmp_folder = tmp_folder\n",
    "        self.info_folder = info_folder\n",
    "        \n",
    "        tmp = edge_index.t().numpy().tolist()\n",
    "        self.graph = nx.from_edgelist(tmp)\n",
    "        \n",
    "    def _set_sizes(self):\n",
    "        \"\"\"\n",
    "        Setting the feature and class count.\n",
    "        \"\"\"\n",
    "        self.node_count = self.features.shape[0]\n",
    "        self.feature_count = self.features.shape[1]    # features all always in the columns\n",
    "        self.label_count = len(np.unique(self.label.numpy()) )\n",
    "    \n",
    "    # 1) first use different clustering method, then split each cluster into train, test and validation nodes, split edges\n",
    "    def split_cluster_nodes_edges(self, test_ratio, validation_ratio, partition_num = 4, batch_num = 2, round_num = 2):\n",
    "        \"\"\"\n",
    "            1) decompose the whole graph into parition_num small mini-clusters, all the mini-cluster relevant use local variables\n",
    "            2) recombine the mini-clusters into batch_num batches (self.sg_nodes_global)\n",
    "        \"\"\"\n",
    "        mini_cluster_nodes_global = self.metis_clustering(self.graph, partition_num)\n",
    "        mini_cluster_id = list(mini_cluster_nodes_global.keys())\n",
    "        \n",
    "        relative_test_ratio = (test_ratio) / (1 - validation_ratio)\n",
    "        \n",
    "        mini_cluster_validation_nodes_global = {}\n",
    "        mini_cluster_train_nodes_global = {}\n",
    "        mini_cluster_test_nodes_global = {}\n",
    "        \n",
    "        for cluster in mini_cluster_id:\n",
    "            mini_cluster_model_nodes_global, mini_cluster_validation_nodes_global[cluster] = \\\n",
    "                    train_test_split(mini_cluster_nodes_global[cluster], test_size = validation_ratio)\n",
    "            mini_cluster_train_nodes_global[cluster], mini_cluster_test_nodes_global[cluster] = \\\n",
    "                    train_test_split(mini_cluster_model_nodes_global, test_size = relative_test_ratio)\n",
    "            \n",
    "        #recombine_mini_cluster_for_batch:\n",
    "        self.sg_nodes_global = {}\n",
    "        self.sg_validation_nodes_global = {}\n",
    "        self.sg_train_nodes_global = {}\n",
    "        self.sg_test_nodes_global = {}\n",
    "        # keep the info of each cluster:\n",
    "        self.info_isolate_cluster_size = {}\n",
    "        self.info_validation_cluster_size = {}\n",
    "        self.info_train_cluster_size = {}\n",
    "        self.info_test_cluster_size = {}\n",
    "        # compute how many elements is inside each batch\n",
    "        chunck_size = partition_num // batch_num\n",
    "        for round_id in range(round_num):\n",
    "            # first shuffle all the mini-cluster ids:\n",
    "            mini_cluster_order = mini_cluster_id\n",
    "            random.shuffle(mini_cluster_order)\n",
    "            combine_group = [mini_cluster_order[i * chunck_size : (i + 1) * chunck_size] for i in range((len(mini_cluster_order) + chunck_size - 1) // chunck_size )]  \n",
    "            for local_batch_id, group in enumerate(combine_group):\n",
    "                global_batch_id = round_id * batch_num + local_batch_id\n",
    "                self.sg_nodes_global[global_batch_id] = list(chain.from_iterable(mini_cluster_nodes_global[cluster_id] for cluster_id in group))\n",
    "                self.sg_validation_nodes_global[global_batch_id] = list(chain.from_iterable(mini_cluster_validation_nodes_global[cluster_id] for cluster_id in group))\n",
    "                self.sg_train_nodes_global[global_batch_id] = list(chain.from_iterable(mini_cluster_train_nodes_global[cluster_id] for cluster_id in group))\n",
    "                self.sg_test_nodes_global[global_batch_id] = list(chain.from_iterable(mini_cluster_test_nodes_global[cluster_id] for cluster_id in group))\n",
    "        \n",
    "        for batch in self.sg_nodes_global.keys():\n",
    "            # record the information of each recombined batch:\n",
    "            self.info_isolate_cluster_size[batch] = len(self.sg_nodes_global[batch])\n",
    "            self.info_validation_cluster_size[batch] = len(self.sg_validation_nodes_global[batch])\n",
    "            self.info_train_cluster_size[batch] = len(self.sg_train_nodes_global[batch])\n",
    "            self.info_test_cluster_size[batch] = len(self.sg_test_nodes_global[batch])\n",
    "    \n",
    "    # just allocate each node to arandom cluster, store the membership inside each dict\n",
    "    def random_clustering(self, target_nodes, partition_num):\n",
    "        \"\"\"\n",
    "            Random clustering the nodes.\n",
    "            Input: \n",
    "                1) target_nodes: list of node \n",
    "                2) partition_num: number of partition to be generated\n",
    "            Output: \n",
    "                1) membership of each node\n",
    "        \"\"\"\n",
    "        # randomly divide into two clusters\n",
    "        nodes_order = [node for node in target_nodes]\n",
    "        random.shuffle(nodes_order)\n",
    "        n = (len(nodes_order) + partition_num - 1) // partition_num\n",
    "        partition_list = [nodes_order[i * n:(i + 1) * n] for i in range(partition_num)]\n",
    "#         cluster_membership = {node : i for i, node_list in enumerate(partition_list) for node in node_list}\n",
    "        cluster_nodes_global = {i : node_list for i, node_list in enumerate(partition_list)}\n",
    "        \n",
    "        return cluster_nodes_global\n",
    "\n",
    "    def metis_clustering(self, target_graph, partition_num):\n",
    "        \"\"\"\n",
    "            Random clustering the nodes.\n",
    "            Input: \n",
    "                1) target_nodes: list of node \n",
    "                2) partition_num: number of partition to be generated\n",
    "            Output: \n",
    "                1) membership of each node\n",
    "        \"\"\"\n",
    "        (st, parts) = metis.part_graph(target_graph, partition_num)\n",
    "        clusters = list(set(parts))\n",
    "        cluster_nodes_global = defaultdict(list)\n",
    "        for node, cluster_id in enumerate(parts):\n",
    "            cluster_nodes_global[cluster_id].append(node)\n",
    "        return cluster_nodes_global\n",
    "        \n",
    "    def mini_batch_generate(self, batch_file_folder, target_seed):\n",
    "        \"\"\"\n",
    "            create the mini-batch focused on the train nodes only, include a total of k layers of neighbors of the original training nodes\n",
    "            k: number of layers of neighbors for each training node\n",
    "            fraction: fraction of neighbor nodes in each layer to be considered\n",
    "            Input:\n",
    "                1) target_seed: global ids of the nodes for seed to generate the batch\n",
    "                    usually one of (train_global, test_global_, validation_global)\n",
    "            Output: all tensors which are gonna be used in the train, forward procedure\n",
    "                local:\n",
    "                    1) sg_mini_edges_local\n",
    "                    2) self.sg_mini_train_edge_weight_local\n",
    "                    3) self.sg_mini_train_nodes_local\n",
    "                    4) self.sg_mini_train_features\n",
    "                    5) self.sg_mini_train_labels\n",
    "            \n",
    "        \"\"\"\n",
    "        info_batch_node_size = {}\n",
    "        info_batch_edge_size = {}\n",
    "                \n",
    "        for cluster in target_seed.keys():\n",
    "            batch_subgraph = self.graph.subgraph(self.sg_nodes_global[cluster])\n",
    "            \n",
    "             # first select all the overlapping nodes of the train nodes\n",
    "            mini_nodes_global = sorted(node for node in batch_subgraph.nodes())\n",
    "            \n",
    "            # store the global edges\n",
    "            mini_edges_global = {edge for edge in batch_subgraph.edges()}\n",
    "            \n",
    "            # map nodes from global index to local index\n",
    "            mini_mapper = {node: i for i, node in enumerate(mini_nodes_global)}\n",
    "            \n",
    "            # store local index of batch nodes\n",
    "            mini_nodes_local = [ mini_mapper[global_idx] for global_idx in target_seed[cluster] ]\n",
    "            \n",
    "            # store local index of batch edges\n",
    "            mini_edges_local = \\\n",
    "                           [ [ mini_mapper[edge[0]], mini_mapper[edge[1]] ] for edge in mini_edges_global ] + \\\n",
    "                           [ [ mini_mapper[edge[1]], mini_mapper[edge[0]] ] for edge in mini_edges_global ]\n",
    "            \n",
    "            # store local features and lables\n",
    "            mini_features = self.features[mini_nodes_global,:]\n",
    "            mini_labels = self.label[mini_nodes_global]\n",
    "            \n",
    "            # record information \n",
    "            info_batch_node_size[cluster] = len(mini_nodes_global)\n",
    "            info_batch_edge_size[cluster] = len(mini_edges_local)\n",
    "            \n",
    "            mini_nodes_local = torch.LongTensor(mini_nodes_local)\n",
    "            mini_edges_local = torch.LongTensor(mini_edges_local).t()\n",
    "            mini_features = torch.FloatTensor(mini_features)\n",
    "            mini_labels = torch.LongTensor(mini_labels)\n",
    "            \n",
    "            minibatch_data = [mini_nodes_local, mini_edges_local, mini_features, mini_labels]\n",
    "            \n",
    "            batch_file_name = batch_file_folder + 'batch_' + str(cluster)\n",
    "            \n",
    "            # store the batch files\n",
    "            t0 = time.time()\n",
    "            with open(batch_file_name, \"wb\") as fp:\n",
    "                pickle.dump(minibatch_data, fp)\n",
    "            store_time = ((time.time() - t0) * 1000)\n",
    "#             print('*** Generate batch file for # {0:3d} batch, writing the batch file costed {1:.2f} ms ***'.format(cluster, store_time) )\n",
    "#             print('writing to the path: ', batch_file_name)\n",
    "            \n",
    "        return info_batch_node_size, info_batch_edge_size\n",
    "    \n",
    "    def save_info_dict(self, data, file_name, target_folder, header = 'key, value'):\n",
    "        # output the batch size information as the csv file\n",
    "        os.makedirs(os.path.dirname(target_folder), exist_ok=True)\n",
    "        target_file = target_folder + file_name\n",
    "        \n",
    "        with open(target_file, 'a', newline='\\n') as fp:\n",
    "            wr = csv.writer(fp, delimiter = ',')\n",
    "            fp.write('\\n')\n",
    "            wr.writerow(header.split(','))\n",
    "            for key, val in data.items():\n",
    "                wr.writerow([key+1, val])\n",
    "    \n",
    "    def mini_batch_train_clustering(self, batch_folder, train_batch_num = 2):\n",
    "        data_type = 'train'\n",
    "        batch_file_folder = batch_folder + data_type + '/'\n",
    "        check_folder_exist(batch_file_folder)\n",
    "        os.makedirs(os.path.dirname(batch_file_folder), exist_ok=True)\n",
    "        \n",
    "        self.info_train_batch_node_size, self.info_train_batch_edge_size  = self.mini_batch_generate(batch_file_folder, self.sg_train_nodes_global)\n",
    "        self.info_train_seed_size = {key : len(val) for key, val in self.sg_train_nodes_global.items()}\n",
    "        \n",
    "        self.save_info_dict(self.info_train_batch_node_size, 'batch_size_info.csv', self.info_folder, header = 'train_batch_node_id, train_batch_node_size')\n",
    "        self.save_info_dict(self.info_train_batch_edge_size, 'batch_size_info.csv', self.info_folder, header = 'train_batch_edge_id, train_batch_edge_size')\n",
    "        self.save_info_dict(self.info_train_seed_size, 'batch_size_info.csv', self.info_folder, header = 'train_seed_node_id, train_seed_node_size')\n",
    "        \n",
    "    def mini_batch_validation_clustering(self, batch_folder, valid_batch_num = 2):\n",
    "        data_type = 'validation'\n",
    "        batch_file_folder = batch_folder + data_type + '/'\n",
    "        check_folder_exist(batch_file_folder)\n",
    "        os.makedirs(os.path.dirname(batch_file_folder), exist_ok=True)\n",
    "\n",
    "        self.info_validation_batch_node_size, self.info_validation_batch_edge_size = self.mini_batch_generate(batch_file_folder, self.sg_validation_nodes_global)\n",
    "        self.info_validation_seed_size = {key : len(val) for key, val in self.sg_validation_nodes_global.items()}\n",
    "        \n",
    "        self.save_info_dict(self.info_validation_batch_node_size, 'batch_size_info.csv', self.info_folder, header = 'validation_batch_node_id, validation_batch_node_size')\n",
    "        self.save_info_dict(self.info_validation_batch_edge_size, 'batch_size_info.csv', self.info_folder, header = 'validation_batch_edge_id, validation_batch_edge_size')\n",
    "        self.save_info_dict(self.info_validation_seed_size, 'batch_size_info.csv', self.info_folder, header = 'validation_seed_node_id, validation_seed_node_size')\n",
    "        \n",
    "    def mini_batch_test_clustering(self, batch_folder, test_batch_num = 2):\n",
    "        data_type = 'test'\n",
    "        batch_file_folder = batch_folder + data_type + '/'\n",
    "        check_folder_exist(batch_file_folder)\n",
    "        os.makedirs(os.path.dirname(batch_file_folder), exist_ok=True)\n",
    "        \n",
    "        self.info_test_batch_node_size, self.info_test_batch_edge_size = self.mini_batch_generate(batch_file_folder, self.sg_test_nodes_global)\n",
    "        self.info_test_seed_size = {key : len(val) for key, val in self.sg_test_nodes_global.items()}\n",
    "        self.save_info_dict(self.info_test_batch_node_size, 'batch_size_info.csv', self.info_folder, header = 'test_batch_node_id, test_batch_node_size')\n",
    "        "
   ]
  },
  {
   "cell_type": "markdown",
   "metadata": {},
   "source": [
    "#### Partition Graph with trainiing and testing"
   ]
  },
  {
   "cell_type": "code",
   "execution_count": 33,
   "metadata": {},
   "outputs": [],
   "source": [
    "# from Custom_GCN_layer import Net\n",
    "import time\n",
    "from torch.autograd import Variable\n",
    "from sklearn.metrics import f1_score\n",
    "from sklearn.metrics import accuracy_score\n",
    "\n",
    "class ClusterGCNTrainer_mini_Train(object):\n",
    "    \"\"\"\n",
    "    Training a ClusterGCN.\n",
    "    \"\"\"\n",
    "    def __init__(self, data_folder, in_channels, out_channels, input_layers = [32, 16], dropout=0.3):\n",
    "        \"\"\"\n",
    "        :param in_channels, out_channels: input and output feature dimension\n",
    "        :param clustering_machine:\n",
    "        \"\"\"  \n",
    "        self.device = torch.device(\"cuda\" if torch.cuda.is_available() else \"cpu\")\n",
    "        self.data_folder = data_folder\n",
    "        self.in_channels = in_channels\n",
    "        self.out_channels = out_channels\n",
    "        self.input_layers = input_layers\n",
    "        self.dropout = dropout\n",
    "        \n",
    "        self.create_model()\n",
    "\n",
    "    def create_model(self):\n",
    "        \"\"\"\n",
    "        Creating a StackedGCN and transferring to CPU/GPU.\n",
    "        \"\"\"\n",
    "#         print('used layers are: ', str(self.input_layers))\n",
    "        self.model = Net(self.in_channels, self.out_channels, input_layers = self.input_layers, dropout = self.dropout)\n",
    "        self.model = self.model.to(self.device)\n",
    "    \n",
    "    # call the forward function batch by batch\n",
    "    def do_forward_pass(self, tr_train_nodes, tr_edges, tr_features, tr_target):\n",
    "        \"\"\"\n",
    "        Making a forward pass with data from a given partition.\n",
    "        :param cluster: Cluster index.\n",
    "        :return average_loss: Average loss on the cluster.\n",
    "        :return node_count: Number of nodes.\n",
    "        \"\"\"\n",
    "        \n",
    "        '''Target and features are one-one mapping'''\n",
    "        # calculate the probabilites from log_sofmax\n",
    "        predictions = self.model(tr_edges, tr_features)\n",
    "        \n",
    "        ave_loss = torch.nn.functional.nll_loss(predictions[tr_train_nodes], tr_target[tr_train_nodes])\n",
    "        node_count = tr_train_nodes.shape[0]\n",
    "\n",
    "        # for each cluster keep track of the counts of the nodes\n",
    "        return ave_loss, node_count\n",
    "\n",
    "    def update_average_loss(self, batch_average_loss, node_count, isolate = True):\n",
    "        \"\"\"\n",
    "        Updating the average loss in the epoch.\n",
    "        :param batch_average_loss: Loss of the cluster. \n",
    "        :param node_count: Number of nodes in currently processed cluster.\n",
    "        :return average_loss: Average loss in the epoch.\n",
    "        \"\"\"\n",
    "        self.accumulated_training_loss = self.accumulated_training_loss + batch_average_loss.item() * node_count\n",
    "        if isolate:\n",
    "            self.node_count_seen = self.node_count_seen + node_count\n",
    "        average_loss = self.accumulated_training_loss / self.node_count_seen\n",
    "        return average_loss\n",
    "\n",
    "    # iterate through epoch and also the clusters\n",
    "    def train_investigate_F1(self, epoch_num=10, learning_rate=0.01, weight_decay = 0.01, mini_epoch_num = 1, output_period = 10, train_batch_num = 2, valid_batch_num = 2):\n",
    "        \"\"\"\n",
    "            *** Periodically output the F1 score during training. After certain number of epochs ***\n",
    "            epoch_num:  number of total training epoch number\n",
    "            learning rate: learning rate during training\n",
    "            weight_decay:  decay coefficients for the regularization\n",
    "            mini_epoch_num:  number of epochs of repeating training after loading data on the GPU\n",
    "            output_period:  number of epochs after which output the F1 and accuray to investigate the model refining process\n",
    "        \"\"\"\n",
    "        self.optimizer = torch.optim.AdamW(self.model.parameters(), lr=learning_rate, weight_decay=weight_decay)\n",
    "        self.model.train()   #   set into train mode, only effective for certain modules such as dropout and batchNorm\n",
    "        self.record_ave_training_loss = []\n",
    "        self.time_train_load_data = 0\n",
    "        \n",
    "        epoch_partition = epoch_num // mini_epoch_num\n",
    "        investigate_f1 = {}\n",
    "        investigate_accuracy = {}\n",
    "        \n",
    "        t0 = time.time()\n",
    "        train_clusters = list(range(train_batch_num))\n",
    "        for epoch_part in range(epoch_partition):\n",
    "#             For test purpose, we let the clusters to follow specific order\n",
    "            random.shuffle(train_clusters)\n",
    "            self.node_count_seen = 0\n",
    "            self.accumulated_training_loss = 0\n",
    "            for cluster in train_clusters:\n",
    "                # for each batch, we load once and train it for multiple epochs:\n",
    "                # read in the train data from the pickle files\n",
    "                batch_file_name = self.data_folder + 'train/batch_' + str(cluster)\n",
    "                \n",
    "                t2 = time.time()\n",
    "                with open(batch_file_name, \"rb\") as fp:\n",
    "                    minibatch_data_train = pickle.load(fp)\n",
    "                read_time = (time.time() - t2) * 1000\n",
    "#                 print('*** During training for # {0:3d} batch, reading batch file costed {1:.2f} ms ***'.format(cluster, read_time) )\n",
    "                \n",
    "                tr_train_nodes, tr_edges, tr_features, tr_target = minibatch_data_train\n",
    "                \n",
    "                t1 = time.time()\n",
    "                tr_train_nodes = tr_train_nodes.to(self.device)\n",
    "                tr_edges = tr_edges.to(self.device)\n",
    "                tr_features = tr_features.to(self.device)\n",
    "                tr_target = tr_target.to(self.device)\n",
    "                \n",
    "                self.time_train_load_data += (time.time() - t1) * 1000\n",
    "                # train each batch for multiple epochs\n",
    "                for mini_epoch in range(mini_epoch_num):\n",
    "                    # record the current overall epoch index:\n",
    "                    real_epoch_num = 1 + mini_epoch + mini_epoch_num * epoch_part # real_epoch_num starts from 0, therefore we add 1\n",
    "                    \n",
    "                    self.optimizer.zero_grad()\n",
    "                    batch_ave_loss, node_count = self.do_forward_pass(tr_train_nodes, tr_edges, tr_features, tr_target)\n",
    "                    batch_ave_loss.backward()\n",
    "                    self.optimizer.step()\n",
    "                    ave_loss = self.update_average_loss(batch_ave_loss, node_count)\n",
    "                    \n",
    "                    # at this point finish a single train duration: update the parameter and calcualte the loss function\n",
    "                    # periodically output the F1-score in the middle of the training process\n",
    "                    if real_epoch_num % output_period == 0:\n",
    "                        investigate_f1[real_epoch_num], investigate_accuracy[real_epoch_num] = self.batch_validate(valid_batch_num = valid_batch_num)\n",
    "                        self.model.train()    # reset to the train mode\n",
    "            \n",
    "            self.record_ave_training_loss.append(ave_loss)\n",
    "        # convert to ms\n",
    "        self.time_train_total = ((time.time() - t0) * 1000)\n",
    "        return investigate_f1, investigate_accuracy\n",
    "\n",
    "    # iterate through epoch and also the clusters\n",
    "    def train(self, epoch_num=10, learning_rate=0.01, weight_decay = 0.01, mini_epoch_num = 1, train_batch_num = 2):\n",
    "        \"\"\"\n",
    "            *** Training a model. ***\n",
    "            epoch_num:  number of total training epoch number\n",
    "            learning rate: learning rate during training\n",
    "            weight_decay:  decay coefficients for the regularization\n",
    "            mini_epoch_num:  number of epochs of repeating training after loading data on the GPU\n",
    "        \"\"\"\n",
    "        self.optimizer = torch.optim.AdamW(self.model.parameters(), lr=learning_rate, weight_decay=weight_decay)\n",
    "        self.model.train()\n",
    "        self.record_ave_training_loss = []\n",
    "        self.time_train_load_data = 0\n",
    "        \n",
    "        epoch_partition = epoch_num // mini_epoch_num\n",
    "        t0 = time.time()\n",
    "        train_clusters = list(range(train_batch_num))\n",
    "        for epoch in range(epoch_partition):\n",
    "#             For test purpose, we let the clusters to follow specific order\n",
    "            random.shuffle(train_clusters)\n",
    "            self.node_count_seen = 0\n",
    "            self.accumulated_training_loss = 0\n",
    "            \n",
    "            for cluster in train_clusters:\n",
    "                # read in the train data from the pickle files\n",
    "                batch_file_name = self.data_folder + 'train/batch_' + str(cluster)\n",
    "                \n",
    "                t2 = time.time()\n",
    "                with open(batch_file_name, \"rb\") as fp:\n",
    "                    minibatch_data_train = pickle.load(fp)\n",
    "                read_time = (time.time() - t2) * 1000\n",
    "#                 print('*** During training for # {0:3d} batch, reading batch file costed {1:.2f} ms ***'.format(cluster, read_time) )\n",
    "                \n",
    "                tr_train_nodes, tr_edges, tr_features, tr_target = minibatch_data_train\n",
    "                \n",
    "                # for each cluster, we load once and train it for multiple epochs:\n",
    "                t1 = time.time()\n",
    "                tr_train_nodes = tr_train_nodes.to(self.device)\n",
    "                tr_edges = tr_edges.to(self.device)\n",
    "                tr_features = tr_features.to(self.device)\n",
    "                tr_target = tr_target.to(self.device)\n",
    "                \n",
    "                self.time_train_load_data += (time.time() - t1) * 1000\n",
    "                # train each batch for multiple epochs\n",
    "                for mini_epoch in range(mini_epoch_num):\n",
    "                    self.optimizer.zero_grad()\n",
    "                    batch_ave_loss, node_count = self.do_forward_pass(tr_train_nodes, tr_edges, tr_features, tr_target)\n",
    "                    batch_ave_loss.backward()\n",
    "                    self.optimizer.step()\n",
    "                    ave_loss = self.update_average_loss(batch_ave_loss, node_count)\n",
    "            \n",
    "            self.record_ave_training_loss.append(ave_loss)\n",
    "        # convert to ms\n",
    "        self.time_train_total = ((time.time() - t0) * 1000)\n",
    "    \n",
    "\n",
    "    def do_batch_validation_prediction(self, valid_validation_nodes, valid_edges, valid_features, valid_target):\n",
    "        \"\"\"\n",
    "        Scoring a cluster.\n",
    "        :param cluster: Cluster index.\n",
    "        :return prediction: Prediction matrix with probabilities.\n",
    "        :return target: Target vector.\n",
    "        \"\"\"\n",
    "        predictions = self.model(valid_edges, valid_features)\n",
    "        return predictions[valid_validation_nodes], valid_target[valid_validation_nodes]\n",
    "\n",
    "    def batch_validate(self, valid_batch_num = 2):\n",
    "        \"\"\"\n",
    "        Scoring the test and printing the F-1 score.\n",
    "        \"\"\"\n",
    "        self.model.eval()   # set into test mode, only effective for certain modules such as dropout and batchNorm\n",
    "        \n",
    "        predictions = []\n",
    "        targets = []\n",
    "        valid_clusters = list(range(valid_batch_num))\n",
    "        for cluster in valid_clusters:\n",
    "            # read in the train data from the pickle files\n",
    "            batch_file_name = self.data_folder + 'validation/batch_' + str(cluster)\n",
    "            \n",
    "            t2 = time.time()\n",
    "            with open(batch_file_name, \"rb\") as fp:\n",
    "                minibatch_data_validation = pickle.load(fp)\n",
    "            read_time = (time.time() - t2) * 1000\n",
    "#             print('*** During validation for # {0:3d} batch, reading batch file costed {1:.2f} ms ***'.format(cluster, read_time) )\n",
    "\n",
    "            valid_validation_nodes, valid_edges, valid_features, valid_target = minibatch_data_validation\n",
    "            \n",
    "            valid_validation_nodes = valid_validation_nodes.to(self.device)\n",
    "            valid_edges = valid_edges.to(self.device)\n",
    "            valid_features = valid_features.to(self.device)\n",
    "            valid_target = valid_target.to(self.device)\n",
    "            \n",
    "            \n",
    "            prediction, target = self.do_batch_validation_prediction(valid_validation_nodes, valid_edges, valid_features, valid_target)\n",
    "\n",
    "            predictions.append(prediction.cpu().detach().numpy())\n",
    "            targets.append(target.cpu().detach().numpy())\n",
    "        \n",
    "        # concatenate all the ndarrays inside this list\n",
    "        targets = np.concatenate(targets)\n",
    "        # along axis:    axis == 1\n",
    "        predictions = np.concatenate(predictions).argmax(1)  # return the indices of maximum probability \n",
    "#         print('shape of the targets and predictions are: ', self.targets.shape, self.predictions.shape)\n",
    "        \n",
    "        f1 = f1_score(targets, predictions, average=\"micro\")\n",
    "        accuracy = accuracy_score(targets, predictions)\n",
    "#         print(\"\\nTest F-1 score: {:.4f}\".format(score))\n",
    "        return (f1, accuracy)\n",
    "\n",
    "# for cross-validation purpose: \n",
    "    def do_prediction(self, cluster):\n",
    "        \"\"\"\n",
    "        Scoring a cluster.\n",
    "        :param cluster: Cluster index.\n",
    "        :return prediction: Prediction matrix with probabilities.\n",
    "        :return target: Target vector.\n",
    "        \"\"\"\n",
    "        test_nodes = self.clustering_machine.sg_test_nodes_global[cluster].to(self.device)\n",
    "        prediction = self.model(self.edges, self.features, self.edge_weights)\n",
    "        \n",
    "        return prediction[test_nodes], self.label[test_nodes]\n",
    "    \n",
    "    def test(self):\n",
    "        \"\"\"\n",
    "        Scoring the test and printing the F-1 score.\n",
    "        \"\"\"\n",
    "        self.model.eval()\n",
    "        self.predictions = []\n",
    "        self.targets = []\n",
    "        \n",
    "        self.edges = self.clustering_machine.edge_index_global_self_loops.to(self.device)\n",
    "        self.features = self.clustering_machine.features.to(self.device)\n",
    "        self.edge_weights = self.clustering_machine.edge_weight_global.to(self.device)\n",
    "        self.label = self.clustering_machine.label.to(self.device)\n",
    "        \n",
    "        for cluster in self.clustering_machine.test_clusters:\n",
    "            prediction, target = self.do_prediction(cluster)\n",
    "\n",
    "            self.predictions.append(prediction.cpu().detach().numpy())\n",
    "            self.targets.append(target.cpu().detach().numpy())\n",
    "        \n",
    "        # concatenate all the ndarrays inside this list\n",
    "        self.targets = np.concatenate(self.targets)\n",
    "        # along axis:    axis == 1\n",
    "        self.predictions = np.concatenate(self.predictions).argmax(1)  # return the indices of maximum probability \n",
    "#         print('shape of the targets and predictions are: ', self.targets.shape, self.predictions.shape)\n",
    "        \n",
    "        f1 = f1_score(self.targets, self.predictions, average=\"micro\")\n",
    "        accuracy = accuracy_score(self.targets, self.predictions)\n",
    "#         print(\"\\nTest F-1 score: {:.4f}\".format(score))\n",
    "        return (f1, accuracy)\n",
    "\n"
   ]
  },
  {
   "cell_type": "markdown",
   "metadata": {},
   "source": [
    "### Use Trivial data"
   ]
  },
  {
   "cell_type": "code",
   "execution_count": 34,
   "metadata": {},
   "outputs": [
    {
     "name": "stdout",
     "output_type": "stream",
     "text": [
      "tensor([[0., 0.],\n",
      "        [0., 1.],\n",
      "        [0., 2.],\n",
      "        [0., 3.],\n",
      "        [0., 4.],\n",
      "        [0., 5.],\n",
      "        [0., 6.],\n",
      "        [0., 7.],\n",
      "        [0., 8.],\n",
      "        [0., 9.]]) torch.Size([10, 2])\n"
     ]
    }
   ],
   "source": [
    "'''Trivial data'''\n",
    "edge_index = torch.tensor([[0, 1, 1, 3, 1, 2, 4, 2, 4, 6, 6, 7, 7, 9, 2, 5, 9, 8], \n",
    "                           [1, 0, 3, 1, 2, 1, 2, 4, 6, 4, 7, 6, 9, 7, 5, 2, 8, 9]])\n",
    "# features = torch.rand(10, 3)\n",
    "features = torch.tensor([[0, 0], [0, 1], [0, 2], [0, 3], [0, 4],  \n",
    "                           [0, 5], [0, 6], [0, 7], [0, 8], [0, 9]], dtype = torch.float)\n",
    "# label = torch.tensor([0, 1, 2, 3, 4, 5, 6, 7, 8, 9])\n",
    "label = torch.tensor([0, 1, 1, 0, 1, 1, 1, 0, 0, 0])\n",
    "print(features, features.shape)\n",
    "\n",
    "# set the tmp folder\n",
    "# tmp_folder = './tmp/'\n",
    "# check_folder_exist(tmp_folder)\n",
    "# os.makedirs(os.path.dirname(tmp_folder), exist_ok=True)\n",
    "# set the store clustering path\n",
    "clustering_folder = './res_save_batch/clustering/'\n",
    "check_folder_exist(clustering_folder)\n",
    "clustering_file_name = clustering_folder + 'check_clustering_machine.txt'\n",
    "os.makedirs(os.path.dirname(clustering_file_name), exist_ok=True)\n",
    "\n",
    "node_count = features.shape[0]\n",
    "clustering_machine = ClusteringMachine(edge_index, features, label)\n",
    "clustering_machine.split_cluster_nodes_edges(0.4, 0.4, partition_num = 2)\n",
    "\n",
    "with open(clustering_file_name, \"wb\") as fp:\n",
    "    pickle.dump(clustering_machine, fp)"
   ]
  },
  {
   "cell_type": "markdown",
   "metadata": {},
   "source": [
    "### minibatch train nodes and batch validatioin "
   ]
  },
  {
   "cell_type": "code",
   "execution_count": 35,
   "metadata": {},
   "outputs": [
    {
     "data": {
      "text/plain": [
       "(0.5, 0.5)"
      ]
     },
     "execution_count": 35,
     "metadata": {},
     "output_type": "execute_result"
    }
   ],
   "source": [
    "\n",
    "mini_batch_folder = './res_save_batch/mini_batch_files/'\n",
    "check_folder_exist(mini_batch_folder)\n",
    "\n",
    "with open(clustering_file_name, \"rb\") as fp:\n",
    "    clustering_machine = pickle.load(fp)\n",
    "\n",
    "# generate the batches for train and validation\n",
    "clustering_machine.mini_batch_train_clustering(mini_batch_folder, train_batch_num = 2) # include number of layers\n",
    "\n",
    "clustering_machine.mini_batch_validation_clustering(mini_batch_folder, valid_batch_num = 2)\n",
    "\n",
    "# construct the batch trainer\n",
    "gcn_trainer_batch = ClusterGCNTrainer_mini_Train(mini_batch_folder, 2, 2, input_layers = [16], dropout=0.3)\n",
    "\n",
    "gcn_trainer_batch.train(1, 0.0001, 0.1, train_batch_num = 2)\n",
    "gcn_trainer_batch.batch_validate(valid_batch_num = 2)"
   ]
  },
  {
   "cell_type": "markdown",
   "metadata": {},
   "source": [
    "### Check the train loss "
   ]
  },
  {
   "cell_type": "code",
   "execution_count": 36,
   "metadata": {},
   "outputs": [],
   "source": [
    "def check_train_loss_converge(mini_batch_folder, data_name, dataset, image_path,  comments, input_layer = [32, 16], epoch_num = 300, \\\n",
    "                              dropout = 0.3, lr = 0.0001, weight_decay = 0.01, mini_epoch_num = 5, \\\n",
    "                               valid_part_num = 2, train_part_num = 2, test_part_num = 1):\n",
    "    # mini-batch, but valid also in batches\n",
    "    Trainer_folder = mini_batch_folder + 'GCNtrainer/'\n",
    "    check_folder_exist(Trainer_folder)\n",
    "    os.makedirs(os.path.dirname(Trainer_folder), exist_ok=True)\n",
    "    \n",
    "    trainer_id = 0\n",
    "    Cluster_train_batch_run(trainer_id, mini_batch_folder, data_name, dataset, image_path, input_layer = input_layer, epochs=epoch_num, \\\n",
    "                                                                               dropout = dropout, lr = lr, weight_decay = weight_decay, mini_epoch_num = mini_epoch_num, \\\n",
    "                                                                               train_part_num = train_part_num, test_part_num = test_part_num)\n",
    "    trainer_file_name = mini_batch_folder + 'GCNtrainer/GCN_trainer_' + str(trainer_id)\n",
    "    with open(trainer_file_name, \"rb\") as fp:\n",
    "        Cluster_train_batch_trainer = pickle.load(fp)\n",
    "    \n",
    "    draw_Cluster_train_valid_batch = draw_trainer_info(data_name, Cluster_train_batch_trainer, image_path, 'train_valid_batch_' + comments)\n",
    "    draw_Cluster_train_valid_batch.draw_ave_loss_per_node()\n",
    "    \n",
    "\n",
    "''' Draw the information about the GCN calculating batch size '''\n",
    "def draw_cluster_info(clustering_machine, data_name, img_path, comments = '_cluster_node_distr'):\n",
    "    \"\"\"\n",
    "        Won't call this for mini-batch with no clustering \n",
    "    \"\"\"\n",
    "    cluster_id = clustering_machine.train_clusters    # a list of cluster indices\n",
    "    cluster_datapoints = {'cluster_id': cluster_id,  \\\n",
    "                          'train_batch' : [clustering_machine.info_train_batch_size[idx] for idx in cluster_id], \\\n",
    "                          'cluster_size' : [clustering_machine.info_isolate_cluster_size[idx] for idx in cluster_id], \\\n",
    "                         }\n",
    "                         \n",
    "    df = pd.DataFrame(data=cluster_datapoints, dtype=np.int32)\n",
    "    # print(df)\n",
    "    df_reshape = df.melt('cluster_id', var_name = 'clusters', value_name = 'node_num')\n",
    "    \n",
    "    plt.clf()\n",
    "    plt.figure()\n",
    "    sns.set(style='whitegrid')\n",
    "    g = sns.catplot(x=\"cluster_id\", y=\"node_num\", hue='clusters', kind='bar', data=df_reshape)\n",
    "    g.despine(left=True)\n",
    "    g.fig.suptitle(data_name + comments)\n",
    "    g.set_xlabels(\"Cluster ID\")\n",
    "    g.set_ylabels(\"Number of nodes\")\n",
    "    \n",
    "    img_name = img_path + data_name + comments\n",
    "    os.makedirs(os.path.dirname(img_name), exist_ok=True)\n",
    "    g.savefig(img_name, bbox_inches='tight')"
   ]
  },
  {
   "cell_type": "markdown",
   "metadata": {},
   "source": [
    "### Specific model run"
   ]
  },
  {
   "cell_type": "code",
   "execution_count": 37,
   "metadata": {},
   "outputs": [],
   "source": [
    "''' Execute the testing program '''\n",
    "def set_clustering_machine(data, image_path, intermediate_data_folder, test_ratio = 0.05, validation_ratio = 0.85, train_part_num = 2, mini_cluster_num = 16, round_num = 2):\n",
    "    \"\"\"\n",
    "        Set the batch machine plus generate the training batches\n",
    "            1) data: the target dataset data\n",
    "            2) intermediate_data_folder: path to store the intermediate generated data\n",
    "            3) test_ratio, validation_ratio: data split ratio\n",
    "            4) neigh_layer: number of hops (layers) for the neighbor nodes \n",
    "            5) train_frac: each time including fraction of the neigbor nodes in each layer\n",
    "            6) valid_part_num, train_part_num, test_part_num :  batch number for validation, train and test data correspondingly\n",
    "    \"\"\"\n",
    "    # set the tmp file for garbage tmp files, just collect the info:\n",
    "    tmp_folder = './tmp/'\n",
    "    check_folder_exist(tmp_folder)\n",
    "    os.makedirs(os.path.dirname(tmp_folder), exist_ok=True)\n",
    "    \n",
    "    # Set the clustering information storing path\n",
    "    clustering_file_folder = intermediate_data_folder + 'clustering/'\n",
    "    check_folder_exist(clustering_file_folder)  # if exist then delete\n",
    "    clustering_file_name = clustering_file_folder + 'clustering_machine.txt'\n",
    "    os.makedirs(os.path.dirname(clustering_file_folder), exist_ok=True)\n",
    "    \n",
    "    # if we use the random assignment of the code, then filtering out the isolated data may not be necessary\n",
    "#     connect_edge_index, connect_features, connect_label = filter_out_isolate(data.edge_index, data.x, data.y)\n",
    "#     clustering_machine = ClusteringMachine(connect_edge_index, connect_features, connect_label)\n",
    "    print('\\n' + '=' * 100)\n",
    "    print('Start to generate the clustering machine:')\n",
    "    t0 = time.time()\n",
    "    clustering_machine = ClusteringMachine(data.edge_index, data.x, data.y, tmp_folder, info_folder = image_path)\n",
    "    batch_machine_create = time.time() - t0\n",
    "    print('Batch machine creation costs a total of {0:.4f} seconds!'.format(batch_machine_create))\n",
    "    \n",
    "    # at last output the information inside the folder:\n",
    "    print_dir_content_info(tmp_folder)\n",
    "    \n",
    "#     clustering_machine.split_cluster_nodes_edges(test_ratio, validation_ratio, partition_num = train_part_num)\n",
    "    # mini-batch only: split to train test valid before clustering\n",
    "    print('Start to split data into train, test, validation:')\n",
    "    t1 = time.time()\n",
    "    clustering_machine.split_cluster_nodes_edges(test_ratio, validation_ratio, partition_num = mini_cluster_num, batch_num = train_part_num, round_num = round_num)\n",
    "    data_split_time = time.time() - t1\n",
    "    print('Data splitting costs a total of {0:.4f} seconds!'.format(data_split_time))\n",
    "    \n",
    "    print('Start to store the batch machine file:')\n",
    "    t3 = time.time()\n",
    "    with open(clustering_file_name, \"wb\") as fp:\n",
    "        pickle.dump(clustering_machine, fp)\n",
    "    batch_machine_store_time = time.time() - t3\n",
    "    print('Storing batch machine after training batches generation costs a total of {0:.4f} seconds!'.format(batch_machine_store_time))\n",
    "    print('\\n' + '=' * 100)\n",
    "    # output the memory usage information\n",
    "    output_GPU_memory_usage('Memory_use_setting_cluster.txt', image_path, comment ='after setting clustering machine: ')\n",
    "    \n",
    "def set_clustering_machine_train_batch(image_path, intermediate_data_folder, train_part_num = 2):\n",
    "    \"\"\"\n",
    "        Generate the train batches\n",
    "    \"\"\"\n",
    "    clustering_file_folder = intermediate_data_folder + 'clustering/'\n",
    "    clustering_file_name = clustering_file_folder + 'clustering_machine.txt'\n",
    "    print('\\n' + '=' * 100)\n",
    "    \n",
    "    t0 = time.time()\n",
    "    with open(clustering_file_name, \"rb\") as fp:\n",
    "        clustering_machine = pickle.load(fp)\n",
    "    batch_machine_read = time.time() - t0\n",
    "    print('Batch machine reading costs a total of {0:.4f} seconds!'.format(batch_machine_read))\n",
    "    \n",
    "    mini_batch_folder = intermediate_data_folder\n",
    "#     check_folder_exist(mini_batch_folder)  # if exist then delete\n",
    "    print('Start to generate the training batches:')\n",
    "    t2 = time.time()\n",
    "    clustering_machine.mini_batch_train_clustering(mini_batch_folder, train_batch_num = train_part_num)\n",
    "    train_batch_production_time = time.time() - t2\n",
    "    print('Train batches production costs a total of {0:.4f} seconds!'.format(train_batch_production_time))\n",
    "    print_dir_content_info(mini_batch_folder + 'train/')\n",
    "    print('=' * 100)\n",
    "\n",
    "def set_clustering_machine_validation_batch(image_path, intermediate_data_folder, valid_part_num = 2):\n",
    "    \"\"\"\n",
    "        Generate the validation batches\n",
    "    \"\"\"\n",
    "    clustering_file_folder = intermediate_data_folder + 'clustering/'\n",
    "    clustering_file_name = clustering_file_folder + 'clustering_machine.txt'\n",
    "    print('\\n' + '=' * 100)\n",
    "    \n",
    "    t0 = time.time()\n",
    "    with open(clustering_file_name, \"rb\") as fp:\n",
    "        clustering_machine = pickle.load(fp)\n",
    "    batch_machine_read = time.time() - t0\n",
    "    print('Batch machine reading costs a total of {0:.4f} seconds!'.format(batch_machine_read))\n",
    "    \n",
    "    print('Start to generate the validation batches:')\n",
    "    mini_batch_folder = intermediate_data_folder\n",
    "    t1 = time.time()\n",
    "    # for validation , fraction has to be 1.0 so that to include the information form original graph\n",
    "    clustering_machine.mini_batch_validation_clustering(mini_batch_folder, valid_batch_num = valid_part_num)\n",
    "    validation_batch_production_time = time.time() - t1\n",
    "    print('Validation batches production costs a total of {0:.4f} seconds!'.format(validation_batch_production_time))\n",
    "    print_dir_content_info(mini_batch_folder + 'validation/')\n",
    "    print('=' * 100)\n",
    "    # output the memory usage information\n",
    "    output_GPU_memory_usage('Memory_use_setting_cluster.txt', image_path, comment ='after generating validation batches: ')\n",
    "\n",
    "def Cluster_train_batch_run(trainer_id, mini_batch_folder, data_name, dataset, image_path, input_layer = [16, 16], epochs=300, \\\n",
    "                           dropout = 0.3, lr = 0.01, weight_decay = 0.01, mini_epoch_num = 5, \\\n",
    "                                 train_part_num = 2, test_part_num = 1):\n",
    "    \"\"\"\n",
    "    # Run the mini-batch model (train and validate both in batches)\n",
    "    Tuning parameters:  dropout, lr (learning rate), weight_decay: l2 regularization\n",
    "    return: validation accuracy value, validation F-1 value, time_training (ms), time_data_load (ms)\n",
    "    \"\"\"\n",
    "#     print('\\n' + '=' * 100)\n",
    "#     print('Start generate the trainer:')\n",
    "    t0 = time.time()\n",
    "    gcn_trainer = ClusterGCNTrainer_mini_Train(mini_batch_folder, dataset.num_node_features, dataset.num_classes, input_layers = input_layer, dropout = dropout)\n",
    "    train_create = time.time() - t0\n",
    "#     print('Trainer creation costs a total of {0:.4f} seconds!'.format(train_create))\n",
    "    \n",
    "#     print('Start train the model:')\n",
    "    t1 = time.time()\n",
    "    gcn_trainer.train(epoch_num=epochs, learning_rate=lr, weight_decay=weight_decay, mini_epoch_num = mini_epoch_num, train_batch_num = train_part_num)\n",
    "    train_period = time.time() - t1\n",
    "#     print('Training costs a total of {0:.4f} seconds!'.format(train_period))\n",
    "    \n",
    "#     print('Start to save the GCN trainer model (parameters: weights, bias):')\n",
    "    trainer_file_name = mini_batch_folder + 'GCNtrainer/GCN_trainer_' + str(trainer_id)\n",
    "    t2 = time.time()\n",
    "    with open(trainer_file_name, \"wb\") as fp:\n",
    "        pickle.dump(gcn_trainer, fp)\n",
    "    store_trainer = time.time() - t2\n",
    "#     print('Storing the trainer costs a total of {0:.4f} seconds!'.format(store_trainer))\n",
    "#     print('-' * 80)\n",
    "    output_GPU_memory_usage('Memory_use_batch_train.txt', image_path, comment ='after generating trainer and train minibatches: ')\n",
    "\n",
    "def Cluster_valid_batch_run(trainer_id, mini_batch_folder, data_name, dataset, image_path, input_layer = [16, 16], epochs=300, \\\n",
    "                           dropout = 0.3, lr = 0.01, weight_decay = 0.01, mini_epoch_num = 5, \\\n",
    "                                 valid_part_num = 2):\n",
    "#     print('Start to read the GCN trainer model (parameters: weights, bias):')\n",
    "    trainer_file_name = mini_batch_folder + 'GCNtrainer/GCN_trainer_' + str(trainer_id)\n",
    "    t1 = time.time()\n",
    "    with open(trainer_file_name, \"rb\") as fp:\n",
    "        gcn_trainer = pickle.load(fp)\n",
    "    read_trainer = (time.time() - t1) * 1000\n",
    "#     print('Reading the trainer costs a total of {0:.4f} seconds!'.format(read_trainer))\n",
    "    \n",
    "#     print('Start validate the model:')\n",
    "    t2 = time.time()\n",
    "    validation_F1, validation_accuracy = gcn_trainer.batch_validate(valid_batch_num = valid_part_num)\n",
    "    validation_period = time.time() - t2\n",
    "#     print('Validatoin costs a total of {0:.4f} seconds!'.format(validation_period))\n",
    "#     print('Finish train and validate the model:')\n",
    "#     print('=' * 100)\n",
    "    time_train_total = gcn_trainer.time_train_total\n",
    "    time_data_load = gcn_trainer.time_train_load_data\n",
    "    \n",
    "    output_GPU_memory_usage('Memory_use_batch_validation.txt', image_path, comment ='after validating minibatches: ')\n",
    "    \n",
    "    return validation_accuracy, validation_F1, time_train_total, time_data_load\n",
    "\n",
    "\n",
    "def Cluster_train_valid_batch_investigate(mini_batch_folder, data_name, dataset, image_path, input_layer = [16, 16], epochs=300, \\\n",
    "                           dropout = 0.3, lr = 0.01, weight_decay = 0.01, mini_epoch_num = 5, output_period = 10, \n",
    "                                         valid_part_num = 2, train_part_num = 2, test_part_num = 1):\n",
    "    \"\"\"\n",
    "        *** dynamically investigate the F1 score in the middle of the training after certain period ***\n",
    "        output: two dict containing F1-score and accuracy of a certain epoch index\n",
    "    \"\"\"\n",
    "#     print('\\n' + '=' * 100)\n",
    "#     print('Start generate the trainer:')\n",
    "    t0 = time.time()\n",
    "    gcn_trainer = ClusterGCNTrainer_mini_Train(mini_batch_folder, dataset.num_node_features, dataset.num_classes, input_layers = input_layer, dropout = dropout)\n",
    "    train_create = time.time() - t0\n",
    "#     print('Trainer creation costs a total of {0:.4f} seconds!'.format(train_create))\n",
    "    \n",
    "#     print('Start train the model:')\n",
    "    t1 = time.time()\n",
    "    Train_period_F1, Train_period_accuracy = gcn_trainer.train_investigate_F1(epoch_num=epochs, learning_rate=lr, weight_decay=weight_decay, mini_epoch_num = mini_epoch_num, \\\n",
    "                                                            output_period = output_period, train_batch_num = train_part_num, valid_batch_num = valid_part_num)\n",
    "    train_period = time.time() - t1\n",
    "    print('In-process Training costs a total of {0:.4f} seconds!'.format(train_period))\n",
    "#     print('=' * 100)\n",
    "    output_GPU_memory_usage('Memory_use_investigate_batch_train_valid.txt', image_path, comment ='after train_validation investigate batches  minibatches: ')\n",
    "    return Train_period_F1, Train_period_accuracy\n",
    "\n",
    "# for the purpose for tuning \n",
    "def Cluster_train_valid_batch_run(mini_batch_folder, data_name, dataset, image_path, input_layer = [16, 16], epochs=300, \\\n",
    "                           dropout = 0.3, lr = 0.01, weight_decay = 0.01, mini_epoch_num = 5, \\\n",
    "                                 valid_part_num = 2, train_part_num = 2, test_part_num = 1):\n",
    "    \"\"\"\n",
    "    # Run the mini-batch model (train and validate both in batches)\n",
    "    Tuning parameters:  dropout, lr (learning rate), weight_decay: l2 regularization\n",
    "    return: validation accuracy value, validation F-1 value, time_training (ms), time_data_load (ms)\n",
    "    \"\"\"\n",
    "#     gcn_trainer_batch = ClusterGCNTrainer_mini_Train(mini_batch_folder, 2, 2, 2, 2, 2, input_layers = [16], dropout=0.3)\n",
    "#     print('\\n' + '=' * 100)\n",
    "#     print('Start generate the trainer:')\n",
    "    t0 = time.time()\n",
    "    gcn_trainer = ClusterGCNTrainer_mini_Train(mini_batch_folder, dataset.num_node_features, dataset.num_classes, input_layers = input_layer, dropout = dropout)\n",
    "    train_create = time.time() - t0\n",
    "#     print('Trainer creation costs a total of {0:.4f} seconds!'.format(train_create))\n",
    "    \n",
    "#     print('Start train the model:')\n",
    "    t1 = time.time()\n",
    "    gcn_trainer.train(epoch_num=epochs, learning_rate=lr, weight_decay=weight_decay, mini_epoch_num = mini_epoch_num, train_batch_num = train_part_num)\n",
    "    train_period = time.time() - t1\n",
    "#     print('Training costs a total of {0:.4f} seconds!'.format(train_period))\n",
    "#     print('-' * 80)\n",
    "    \n",
    "#     print('Start validate the model:')\n",
    "    t2 = time.time()\n",
    "    validation_F1, validation_accuracy = gcn_trainer.batch_validate(valid_batch_num = valid_part_num)\n",
    "    validation_period = time.time() - t2\n",
    "#     print('Validatoin costs a total of {0:.4f} seconds!'.format(validation_period))\n",
    "#     print('=' * 100)\n",
    "    time_train_total = gcn_trainer.time_train_total\n",
    "    time_data_load = gcn_trainer.time_train_load_data\n",
    "    output_GPU_memory_usage('Memory_use_train_validation_together.txt', image_path, comment ='after train_validation batches  minibatches together: ')\n",
    "    return validation_accuracy, validation_F1, time_train_total, time_data_load"
   ]
  },
  {
   "cell_type": "markdown",
   "metadata": {},
   "source": [
    "### Test and compare different models"
   ]
  },
  {
   "cell_type": "code",
   "execution_count": 38,
   "metadata": {},
   "outputs": [],
   "source": [
    "def execute_one_train(mini_batch_folder, image_path, repeate_time = 5, input_layer = [32], epoch_num = 300, \\\n",
    "                dropout = 0.3, lr = 0.0001, weight_decay = 0.01, mini_epoch_num = 5, \\\n",
    "                train_part_num = 2, test_part_num = 1):\n",
    "    \"\"\"\n",
    "        Perform one train and store the results for all trainer\n",
    "    \"\"\"\n",
    "    Trainer_folder = mini_batch_folder + 'GCNtrainer/'\n",
    "    check_folder_exist(Trainer_folder)\n",
    "    os.makedirs(os.path.dirname(Trainer_folder), exist_ok=True)\n",
    "#     graph_model = ['batch_valid', 'train_batch', 'whole_graph', 'isolate']\n",
    "    for trainer_id in range(repeate_time):\n",
    "        model_res = []\n",
    "        \n",
    "        Cluster_train_batch_run(trainer_id, mini_batch_folder, data_name, dataset, image_path, input_layer = input_layer, epochs=epoch_num, \\\n",
    "                                                         dropout = dropout, lr = lr, weight_decay = weight_decay, mini_epoch_num = mini_epoch_num, \\\n",
    "                                                         train_part_num = train_part_num, test_part_num = test_part_num)\n",
    "        \n",
    "def execute_one_validation(mini_batch_folder, image_path, repeate_time = 5, input_layer = [32], epoch_num = 300, \\\n",
    "                dropout = 0.3, lr = 0.0001, weight_decay = 0.01, mini_epoch_num = 5, \\\n",
    "                valid_part_num = 2):\n",
    "    \"\"\"\n",
    "        return all test-F1 and validation-F1 for all four models\n",
    "    \"\"\"\n",
    "    validation_accuracy = {}\n",
    "    validation_f1 = {}\n",
    "    time_total_train = {}\n",
    "    time_data_load = {}\n",
    "    \n",
    "    # Each graph model corresponds to one function below\n",
    "#     graph_model = ['batch_valid', 'train_batch', 'whole_graph', 'isolate']\n",
    "    graph_model = ['batch_valid']\n",
    "    for trainer_id in range(repeate_time):\n",
    "        model_res = []\n",
    "        model_res.append(Cluster_valid_batch_run(trainer_id, mini_batch_folder, data_name, dataset, image_path, input_layer = input_layer, epochs=epoch_num, \\\n",
    "                                                         dropout = dropout, lr = lr, weight_decay = weight_decay, mini_epoch_num = mini_epoch_num, \\\n",
    "                                                      valid_part_num = valid_part_num)[:4])\n",
    "        \n",
    "        validation_accuracy[trainer_id], validation_f1[trainer_id], time_total_train[trainer_id], time_data_load[trainer_id] = zip(*model_res)\n",
    "    return graph_model, validation_accuracy, validation_f1, time_total_train, time_data_load\n",
    "\n",
    "def store_data_multi_tests(f1_data, data_name, graph_model, img_path, comments):\n",
    "    run_id = sorted(f1_data.keys())\n",
    "    run_data = {'run_id': run_id}\n",
    "    \n",
    "    run_data.update({model_name : [f1_data[key][idx] for key in run_id] for idx, model_name in enumerate(graph_model)})\n",
    "    \n",
    "    pickle_filename = img_path + data_name + '_' + comments + '.pkl'\n",
    "    os.makedirs(os.path.dirname(pickle_filename), exist_ok=True)\n",
    "    df = pd.DataFrame(data=run_data, dtype=np.int32)\n",
    "    df.to_pickle(pickle_filename)\n",
    "    return pickle_filename\n",
    "\n",
    "def draw_data_multi_tests(pickle_filename, data_name, comments, xlabel, ylabel):\n",
    "    df = pd.read_pickle(pickle_filename)\n",
    "    df_reshape = df.melt('run_id', var_name = 'model', value_name = ylabel)\n",
    "\n",
    "    plt.clf()\n",
    "    plt.figure()\n",
    "    sns.set(style='whitegrid')\n",
    "    g = sns.catplot(x=\"model\", y=ylabel, kind='box', data=df_reshape)\n",
    "    g.despine(left=True)\n",
    "    g.fig.suptitle(data_name + ' ' + ylabel + ' ' + comments)\n",
    "    g.set_xlabels(xlabel)\n",
    "    g.set_ylabels(ylabel)\n",
    "\n",
    "    img_name = pickle_filename[:-4] + '_img'\n",
    "    os.makedirs(os.path.dirname(img_name), exist_ok=True)\n",
    "    plt.savefig(img_name, bbox_inches='tight')\n",
    "    \n",
    "    "
   ]
  },
  {
   "cell_type": "markdown",
   "metadata": {},
   "source": [
    "### Investigate performance in the middle of the training process"
   ]
  },
  {
   "cell_type": "code",
   "execution_count": 39,
   "metadata": {},
   "outputs": [],
   "source": [
    "def execute_investigate(mini_batch_folder, image_path, repeate_time = 5, input_layer = [32], epoch_num = 300, \\\n",
    "                        dropout = 0.3, lr = 0.0001, weight_decay = 0.01, mini_epoch_num = 5, output_period = 10, \\\n",
    "                         valid_part_num = 2, train_part_num = 2, test_part_num = 1):\n",
    "    \"\"\"\n",
    "        return all test-F1 and validation-F1 for all four models\n",
    "    \"\"\"\n",
    "    \n",
    "    Train_peroid_f1 = {}\n",
    "    Train_peroid_accuracy = {}\n",
    "    \n",
    "    for i in range(repeate_time):\n",
    "        Train_peroid_f1[i], Train_peroid_accuracy[i] = Cluster_train_valid_batch_investigate(mini_batch_folder, data_name, dataset, image_path, input_layer = input_layer, epochs=epoch_num, \\\n",
    "                                            dropout = dropout, lr = lr, weight_decay = weight_decay, mini_epoch_num = mini_epoch_num, output_period = output_period, \\\n",
    "                                                                    valid_part_num = valid_part_num, train_part_num = train_part_num, test_part_num = test_part_num)\n",
    "        \n",
    "    return Train_peroid_f1, Train_peroid_accuracy\n",
    "\n",
    "def store_data_multi_investigate(investigate_res, data_name, res_name, img_path, comments):\n",
    "    \"\"\"\n",
    "        investigate_res: currently either F1-score or accuracy a dict {epoch num : value}\n",
    "    \"\"\"\n",
    "    run_id = sorted(investigate_res.keys())\n",
    "    run_data = {'run_id': run_id}\n",
    "    \n",
    "    epoch_num_range = sorted(investigate_res[0].keys())  # at least one entry exists inside the dictionary and the epoch range is fixed\n",
    "    run_data.update({epoch_num : [investigate_res[key][epoch_num] for key in run_id] for epoch_num in epoch_num_range})\n",
    "    \n",
    "    pickle_filename = img_path + data_name + '_' + res_name + '_' + comments + '.pkl'\n",
    "    os.makedirs(os.path.dirname(pickle_filename), exist_ok=True)\n",
    "    df = pd.DataFrame(data=run_data, dtype=np.int32)\n",
    "    df.to_pickle(pickle_filename)\n",
    "    return pickle_filename"
   ]
  },
  {
   "cell_type": "markdown",
   "metadata": {},
   "source": [
    "### Tune hyperparameters"
   ]
  },
  {
   "cell_type": "code",
   "execution_count": 40,
   "metadata": {},
   "outputs": [],
   "source": [
    "\"\"\"To test one single model for different parameter values\"\"\"\n",
    "def execute_tuning(tune_params, mini_batch_folder, image_path, repeate_time = 7, input_layer = [32], epoch_num = 400, \\\n",
    "                  dropout = 0.1, lr = 0.0001, weight_decay = 0.1, mini_epoch_num = 20, \\\n",
    "                  valid_part_num = 2, train_part_num = 2, test_part_num = 1):\n",
    "    \"\"\"\n",
    "        Tune all the hyperparameters\n",
    "        1) learning rate\n",
    "        2) dropout\n",
    "        3) layer unit number\n",
    "        4) weight decay\n",
    "    \"\"\"\n",
    "    validation_accuracy = {}\n",
    "    validation_f1 = {}\n",
    "    time_total_train = {}\n",
    "    time_data_load = {}\n",
    "    \n",
    "    res = [{tune_val : Cluster_train_valid_batch_run(mini_batch_folder, data_name, dataset, image_path, input_layer = input_layer, epochs=epoch_num, \\\n",
    "            dropout = dropout, lr = lr, weight_decay = weight_decay, mini_epoch_num = tune_val, \\\n",
    "            valid_part_num = valid_part_num, train_part_num = train_part_num, test_part_num = test_part_num) for tune_val in tune_params} for i in range(repeate_time)]\n",
    "    \n",
    "    for i, ref in enumerate(res):\n",
    "        validation_accuracy[i] = {tune_val : res_lst[0] for tune_val, res_lst in ref.items()}\n",
    "        validation_f1[i] = {tune_val : res_lst[1] for tune_val, res_lst in ref.items()}\n",
    "        time_total_train[i] = {tune_val : res_lst[2] for tune_val, res_lst in ref.items()}\n",
    "        time_data_load[i] = {tune_val : res_lst[3] for tune_val, res_lst in ref.items()}\n",
    "        \n",
    "    return validation_accuracy, validation_f1, time_total_train, time_data_load\n",
    "\n",
    "def store_data_multi_tuning(tune_params, target, data_name, img_path, comments):\n",
    "    \"\"\"\n",
    "        tune_params: is the tuning parameter list\n",
    "        target: is the result, here should be F1-score, accuraycy, load time, train time\n",
    "    \"\"\"\n",
    "    run_ids = sorted(target.keys())   # key is the run_id\n",
    "    run_data = {'run_id': run_ids}\n",
    "    # the key can be converted to string or not: i.e. str(tune_val)\n",
    "    # here we keep it as integer such that we want it to follow order\n",
    "    tmp = {tune_val : [target[run_id][tune_val] for run_id in run_ids] for tune_val in tune_params}  # the value is list\n",
    "    run_data.update(tmp)\n",
    "    \n",
    "    pickle_filename = img_path + data_name + '_' + comments + '.pkl'\n",
    "    os.makedirs(os.path.dirname(pickle_filename), exist_ok=True)\n",
    "    df = pd.DataFrame(data=run_data, dtype=np.int32)\n",
    "    df.to_pickle(pickle_filename)\n",
    "    return pickle_filename"
   ]
  },
  {
   "cell_type": "markdown",
   "metadata": {},
   "source": [
    "### Multi-test execution"
   ]
  },
  {
   "cell_type": "code",
   "execution_count": 42,
   "metadata": {},
   "outputs": [],
   "source": [
    "def output_train_loss(data, data_name, dataset, image_data_path, intermediate_data_path, partition_nums, layers, \\\n",
    "                      dropout = 0.1, lr = 0.0001, weight_decay = 0.1, mini_epoch_num = 20, \\\n",
    "                      valid_part_num = 2, mini_cluster_num = 16, round_num = 2):\n",
    "    for partn in partition_nums:\n",
    "        for GCN_layer in layers:\n",
    "            net_layer = len(GCN_layer) + 1\n",
    "            hop_layer = net_layer\n",
    "            print('Start checking train loss for partition num: ' + str(partn) + ' hop layer: ' + str(hop_layer))\n",
    "            img_path = image_data_path + 'cluster_num_' + str(partn) + '/' + 'net_layer_' + str(net_layer) + '_hop_layer_' + str(hop_layer) + '/'\n",
    "            img_path += 'output_train_loss/'  # further subfolder for different task\n",
    "            intermediate_data_folder = intermediate_data_path\n",
    "            \n",
    "            # set the batch for validation and train\n",
    "            mini_batch_folder = intermediate_data_folder\n",
    "            set_clustering_machine(data, img_path, intermediate_data_folder, test_ratio = 0.05, validation_ratio = 0.85, train_part_num = partn, mini_cluster_num = mini_cluster_num, round_num = round_num)\n",
    "            set_clustering_machine_train_batch(img_path, intermediate_data_folder, train_part_num = partn)\n",
    "            set_clustering_machine_validation_batch(img_path, intermediate_data_folder, valid_part_num = partn)\n",
    "            \n",
    "            check_train_loss_converge(mini_batch_folder, data_name, dataset, img_path, 'part_num_' + str(partn), input_layer = GCN_layer, epoch_num = 400, \\\n",
    "                                     dropout = dropout, lr = lr, weight_decay = weight_decay, mini_epoch_num = mini_epoch_num, \n",
    "                                     valid_part_num = partn, train_part_num = partn, test_part_num = 1)\n",
    "            \n",
    "#             # for the large dataset and split first case, the cluster info cannot be generated\n",
    "#             clustering_machine.mini_batch_train_clustering(hop_layer)\n",
    "#             draw_cluster_info(clustering_machine, data_name, img_path, comments = '_cluster_node_distr_' + str(hop_layer) + '_hops')\n",
    "            \n",
    "def output_F1_score(data, data_name, dataset, image_data_path, intermediate_data_path, partition_nums, layers, \\\n",
    "                    dropout = 0.1, lr = 0.0001, weight_decay = 0.1, mini_epoch_num = 20, \\\n",
    "                    valid_part_num = 2, mini_cluster_num = 16, round_num = 2):            \n",
    "    for partn in partition_nums:\n",
    "        for GCN_layer in layers:\n",
    "            net_layer = len(GCN_layer) + 1\n",
    "            hop_layer = net_layer\n",
    "            \n",
    "            # set the save path\n",
    "            print('Start running for partition num: ' + str(partn) + ' hop layer ' + str(hop_layer))\n",
    "            img_path = image_data_path + 'cluster_num_' + str(partn) + '/' + 'net_layer_' + str(net_layer) + '_hop_layer_' + str(hop_layer) + '/'\n",
    "            img_path += 'output_F1_score/'  # further subfolder for different task\n",
    "            intermediate_data_folder = intermediate_data_path\n",
    "            \n",
    "            # set the batch for validation and train\n",
    "            mini_batch_folder = intermediate_data_folder\n",
    "            set_clustering_machine(data, img_path, intermediate_data_folder, test_ratio = 0.05, validation_ratio = 0.85, train_part_num = partn, mini_cluster_num = mini_cluster_num, round_num = round_num)\n",
    "            set_clustering_machine_train_batch(img_path, intermediate_data_folder, train_part_num = partn)\n",
    "            set_clustering_machine_validation_batch(img_path, intermediate_data_folder, valid_part_num = partn)\n",
    "            \n",
    "            # start to run the model, train and validation \n",
    "            execute_one_train(mini_batch_folder, img_path, repeate_time = 7, input_layer = GCN_layer, epoch_num = 400, \n",
    "                                            dropout = dropout, lr = lr, weight_decay = weight_decay, mini_epoch_num = mini_epoch_num, \\\n",
    "                                             train_part_num = partn, test_part_num = 1)\n",
    "            \n",
    "            graph_model, validation_accuracy, validation_f1, time_total_train, time_data_load = \\\n",
    "                execute_one_validation(mini_batch_folder, img_path, repeate_time = 7, input_layer = GCN_layer, epoch_num = 400, \n",
    "                                            dropout = dropout, lr = lr, weight_decay = weight_decay, mini_epoch_num = mini_epoch_num, \\\n",
    "                                             valid_part_num = partn)\n",
    "            \n",
    "            \n",
    "            validation_accuracy = store_data_multi_tests(validation_accuracy, data_name, graph_model, img_path, 'test_cluster_num_' + str(partn) + '_hops_' + str(hop_layer))\n",
    "            draw_data_multi_tests(validation_accuracy, data_name, 'vali_cluster_num_' + str(partn) + '_hop_' + str(hop_layer), 'models', 'Accuracy')\n",
    "\n",
    "            validation_f1 = store_data_multi_tests(validation_f1, data_name, graph_model, img_path, 'validation_cluster_num_' + str(partn) + '_hops_' + str(hop_layer))\n",
    "            draw_data_multi_tests(validation_f1, data_name, 'vali_cluster_num_' + str(partn) + '_hop_' + str(hop_layer), 'models', 'F1 score')\n",
    "\n",
    "            time_train = store_data_multi_tests(time_total_train, data_name, graph_model, img_path, 'train_time_cluster_num_' + str(partn) + '_hops_' + str(hop_layer))\n",
    "            draw_data_multi_tests(time_train, data_name, 'train_time_cluster_num_' + str(partn) + '_hop_' + str(hop_layer), 'models', 'Train Time (ms)')\n",
    "\n",
    "            time_load = store_data_multi_tests(time_data_load, data_name, graph_model, img_path, 'load_time_cluster_num_' + str(partn) + '_hops_' + str(hop_layer))\n",
    "            draw_data_multi_tests(time_load, data_name, 'load_time_cluster_num_' + str(partn) + '_hop_' + str(hop_layer), 'models', 'Load Time (ms)')\n",
    "\n",
    "def output_train_investigate(data, data_name, dataset, image_data_path, intermediate_data_path, partition_nums, layers, \\\n",
    "                             dropout = 0.1, lr = 0.0001, weight_decay = 0.1, mini_epoch_num = 20, output_period = 40, \\\n",
    "                             valid_part_num = 2, mini_cluster_num = 16, round_num = 2):            \n",
    "    for partn in partition_nums:\n",
    "        for GCN_layer in layers:\n",
    "            net_layer = len(GCN_layer) + 1\n",
    "            hop_layer = net_layer\n",
    "            # set the save path\n",
    "            print('Start running for partition num: ' + str(partn) + ' hop layer ' + str(hop_layer))\n",
    "            img_path = image_data_path + 'cluster_num_' + str(partn) + '/' + 'net_layer_' + str(net_layer) + '_hop_layer_' + str(hop_layer) + '/'\n",
    "            img_path += 'train_investigate/'  # further subfolder for different task\n",
    "            intermediate_data_folder = intermediate_data_path\n",
    "            \n",
    "            # set the batch for validation and train\n",
    "            mini_batch_folder = intermediate_data_folder\n",
    "            set_clustering_machine(data, img_path, intermediate_data_folder, test_ratio = 0.05, validation_ratio = 0.85, train_part_num = partn, mini_cluster_num = mini_cluster_num, round_num = round_num)\n",
    "            set_clustering_machine_train_batch(img_path, intermediate_data_folder, train_part_num = partn)\n",
    "            set_clustering_machine_validation_batch(img_path, intermediate_data_folder, valid_part_num = partn)\n",
    "\n",
    "            Train_peroid_f1, Train_peroid_accuracy = execute_investigate(mini_batch_folder, img_path, repeate_time = 7, input_layer = GCN_layer, epoch_num = 400, \\\n",
    "                                            dropout = dropout, lr = lr, weight_decay = weight_decay, mini_epoch_num = mini_epoch_num, output_period = output_period, \\\n",
    "                                            valid_part_num = partn, train_part_num = partn, test_part_num = 1)\n",
    "            \n",
    "            Train_peroid_f1 = store_data_multi_investigate(Train_peroid_f1, data_name, 'F1_score', img_path, 'invest_batch_num_' + str(partn) + '_hops_' + str(hop_layer))\n",
    "            draw_data_multi_tests(Train_peroid_f1, data_name, 'Train_process_batch_num_' + str(partn) + '_hop_' + str(hop_layer), 'epoch number', 'F1 score')\n",
    "\n",
    "            Train_peroid_accuracy = store_data_multi_investigate(Train_peroid_accuracy, data_name, 'Accuracy', img_path, 'invest_batch_num_' + str(partn) + '_hops_' + str(hop_layer))\n",
    "            draw_data_multi_tests(Train_peroid_accuracy, data_name, 'Train_process_batch_num_' + str(partn) + '_hop_' + str(hop_layer), 'epoch number', 'Accuracy')\n",
    "            \n",
    "            \n",
    "            \n",
    "def output_tune_param(data, data_name, dataset, image_data_path, intermediate_data_path, partition_nums, layers, \\\n",
    "                      dropout = 0.1, lr = 0.0001, weight_decay = 0.1, mini_epoch_num = 20, \\\n",
    "                     valid_part_num = 2, mini_cluster_num = 16, round_num = 2):\n",
    "    for partn in partition_nums:\n",
    "        for GCN_layer in layers:\n",
    "            net_layer = len(GCN_layer) + 1\n",
    "            hop_layer = net_layer\n",
    "            # Set the tune parameters and name\n",
    "            tune_name = 'batch_epoch_num'\n",
    "            tune_params = [400, 200, 100, 50, 20, 10, 5, 1]\n",
    "#             tune_name = 'weight_decay'\n",
    "#             tune_params = [0.01, 0.1, 0.3, 0.5]\n",
    "\n",
    "            img_path = image_data_path + 'cluster_num_' + str(partn) + '/' + 'net_layer_' + str(net_layer) + '_hop_layer_' + str(hop_layer) + '/'\n",
    "            img_path += 'tune_' + tune_name + '/'  # further subfolder for different task\n",
    "            intermediate_data_folder = intermediate_data_path\n",
    "            print('Start tuning for tuning param: ' + tune_name + ' partition num: ' + str(partn) + ' hop layer ' + str(hop_layer))\n",
    "            \n",
    "            # set the batch for validation and train\n",
    "            mini_batch_folder = intermediate_data_folder\n",
    "            set_clustering_machine(data, img_path, intermediate_data_folder, test_ratio = 0.05, validation_ratio = 0.85, train_part_num = partn, mini_cluster_num = mini_cluster_num, round_num = round_num)\n",
    "            set_clustering_machine_train_batch(img_path, intermediate_data_folder, train_part_num = partn)\n",
    "            set_clustering_machine_validation_batch(img_path, intermediate_data_folder, valid_part_num = partn)\n",
    "\n",
    "            validation_accuracy, validation_f1, time_total_train, time_data_load = execute_tuning(tune_params, mini_batch_folder, img_path, repeate_time = 7, \\\n",
    "                                                input_layer = GCN_layer, epoch_num = 400, dropout = dropout, lr = lr, weight_decay = weight_decay, mini_epoch_num = mini_epoch_num, \\\n",
    "                                                valid_part_num = partn, train_part_num = partn, test_part_num = 1)\n",
    "\n",
    "            validation_accuracy = store_data_multi_tuning(tune_params,validation_accuracy, data_name, img_path, 'accuracy_cluster_num_' + str(partn) + '_hops_' + str(hop_layer))\n",
    "            draw_data_multi_tests(validation_accuracy, data_name, 'vali_cluster_num_' + str(partn) + '_hop_' + str(hop_layer), 'epochs_per_batch', 'Accuracy')\n",
    "\n",
    "            validation_f1 = store_data_multi_tuning(tune_params, validation_f1, data_name, img_path, 'validation_cluster_num_' + str(partn) + '_hops_' + str(hop_layer))\n",
    "            draw_data_multi_tests(validation_f1, data_name, 'vali_cluster_num_' + str(partn) + '_hop_' + str(hop_layer), 'epochs_per_batch', 'F1 score')\n",
    "\n",
    "            time_train = store_data_multi_tuning(tune_params, time_total_train, data_name, img_path, 'train_time_cluster_num_' + str(partn) + '_hops_' + str(hop_layer))\n",
    "            draw_data_multi_tests(time_train, data_name, 'train_time_cluster_num_' + str(partn) + '_hop_' + str(hop_layer), 'epochs_per_batch', 'Train Time (ms)')\n",
    "\n",
    "            time_load = store_data_multi_tuning(tune_params, time_data_load, data_name, img_path, 'load_time_cluster_num_' + str(partn) + '_hops_' + str(hop_layer))\n",
    "            draw_data_multi_tests(time_load, data_name, 'load_time_cluster_num_' + str(partn) + '_hop_' + str(hop_layer), 'epochs_per_batch', 'Load Time (ms)')\n",
    "            \n",
    "            \n"
   ]
  },
  {
   "cell_type": "markdown",
   "metadata": {},
   "source": [
    "### Use data from pytorch geometric datasets"
   ]
  },
  {
   "cell_type": "code",
   "execution_count": 43,
   "metadata": {},
   "outputs": [],
   "source": [
    "local_data_root = '/media/xiangli/storage1/projects/tmpdata/'\n",
    "test_folder_name = 'recombine_isolate_cluster/train_10%_mini_cluster_16_round_2/'"
   ]
  },
  {
   "cell_type": "markdown",
   "metadata": {},
   "source": [
    "### Cora dataset"
   ]
  },
  {
   "cell_type": "code",
   "execution_count": 17,
   "metadata": {},
   "outputs": [],
   "source": [
    "from torch_geometric.datasets import Planetoid\n",
    "data_name = 'Cora'\n",
    "dataset = Planetoid(root = local_data_root + 'Planetoid/Cora', name=data_name)\n",
    "data = dataset[0]\n",
    "image_data_path = './results/' + data_name + '/' + test_folder_name\n",
    "# set the current folder as the intermediate data folder so that we can easily copy either clustering \n",
    "intermediate_data_folder = './'\n",
    "\n",
    "partition_nums = [2, 4, 8]\n",
    "layers = [[], [32], [32, 32]]\n"
   ]
  },
  {
   "cell_type": "markdown",
   "metadata": {},
   "source": [
    "### PubMed dataset"
   ]
  },
  {
   "cell_type": "code",
   "execution_count": 19,
   "metadata": {},
   "outputs": [],
   "source": [
    "from torch_geometric.datasets import Planetoid\n",
    "data_name = 'PubMed'\n",
    "dataset = Planetoid(root = local_data_root + 'Planetoid/PubMed', name=data_name)\n",
    "data = dataset[0]\n",
    "image_data_path = './results/' + data_name + '/' + test_folder_name\n",
    "intermediate_data_folder = './'\n",
    "partition_nums = [2, 4, 8]\n",
    "layers = [[], [64], [64, 64]]"
   ]
  },
  {
   "cell_type": "markdown",
   "metadata": {},
   "source": [
    "### CoraFull Dataset"
   ]
  },
  {
   "cell_type": "code",
   "execution_count": 45,
   "metadata": {},
   "outputs": [
    {
     "name": "stdout",
     "output_type": "stream",
     "text": [
      "number of data:  1\n"
     ]
    }
   ],
   "source": [
    "from torch_geometric.datasets import CoraFull\n",
    "data_name = 'CoraFull'\n",
    "dataset = CoraFull(root = local_data_root + 'CoralFull')\n",
    "print('number of data: ', len(dataset))\n",
    "data = dataset[0]\n",
    "\n",
    "image_data_path = './results/' + data_name + '/' + test_folder_name\n",
    "intermediate_data_folder = './'\n",
    "partition_nums = [2, 4, 8]\n",
    "layers = [[], [128], [128, 128]]"
   ]
  },
  {
   "cell_type": "markdown",
   "metadata": {},
   "source": [
    "#### tune hyper parameters"
   ]
  },
  {
   "cell_type": "code",
   "execution_count": 18,
   "metadata": {},
   "outputs": [
    {
     "name": "stdout",
     "output_type": "stream",
     "text": [
      "Start tuning for tuning param: batch_epoch_num partition num: 2 hop layer 1\n",
      "\n",
      "====================================================================================================\n",
      "Start to generate the clustering machine:\n",
      "Batch machine creation costs a total of 0.1663 seconds!\n",
      "\n",
      " Information about the content of ./tmp/\n",
      "\n",
      "Start to split data into train, test, validation:\n",
      "Data splitting costs a total of 0.1739 seconds!\n",
      "Start to store the batch machine file:\n",
      "Storing batch machine after training batches generation costs a total of 0.0412 seconds!\n",
      "\n",
      "====================================================================================================\n",
      "\n",
      "====================================================================================================\n",
      "Batch machine reading costs a total of 0.0534 seconds!\n",
      "Start to generate the training batches:\n",
      "Train batches production costs a total of 0.2785 seconds!\n",
      "\n",
      " Information about the content of ./train/\n",
      "File name: [ batch_1 ]; with size: 19695.7998046875 KB\n",
      "File name: [ batch_3 ]; with size: 19806.2216796875 KB\n",
      "File name: [ batch_0 ]; with size: 19678.5107421875 KB\n",
      "File name: [ batch_2 ]; with size: 19561.5576171875 KB\n",
      "\n",
      "====================================================================================================\n",
      "\n",
      "====================================================================================================\n",
      "Batch machine reading costs a total of 0.0747 seconds!\n",
      "Start to generate the validation batches:\n",
      "Validation batches production costs a total of 0.2715 seconds!\n",
      "\n",
      " Information about the content of ./validation/\n",
      "File name: [ batch_1 ]; with size: 19753.6279296875 KB\n",
      "File name: [ batch_3 ]; with size: 19864.4404296875 KB\n",
      "File name: [ batch_0 ]; with size: 19736.3466796875 KB\n",
      "File name: [ batch_2 ]; with size: 19619.0029296875 KB\n",
      "\n",
      "====================================================================================================\n",
      "Start tuning for tuning param: batch_epoch_num partition num: 2 hop layer 2\n",
      "\n",
      "====================================================================================================\n",
      "Start to generate the clustering machine:\n",
      "Batch machine creation costs a total of 0.1648 seconds!\n",
      "\n",
      " Information about the content of ./tmp/\n",
      "\n",
      "Start to split data into train, test, validation:\n",
      "Data splitting costs a total of 0.1691 seconds!\n",
      "Start to store the batch machine file:\n",
      "Storing batch machine after training batches generation costs a total of 0.0314 seconds!\n",
      "\n",
      "====================================================================================================\n",
      "\n",
      "====================================================================================================\n",
      "Batch machine reading costs a total of 0.0382 seconds!\n",
      "Start to generate the training batches:\n",
      "Train batches production costs a total of 0.2757 seconds!\n",
      "\n",
      " Information about the content of ./train/\n",
      "File name: [ batch_1 ]; with size: 19722.5107421875 KB\n",
      "File name: [ batch_3 ]; with size: 19670.0810546875 KB\n",
      "File name: [ batch_0 ]; with size: 19647.2685546875 KB\n",
      "File name: [ batch_2 ]; with size: 19706.6357421875 KB\n",
      "\n",
      "====================================================================================================\n",
      "\n",
      "====================================================================================================\n",
      "Batch machine reading costs a total of 0.0746 seconds!\n",
      "Start to generate the validation batches:\n",
      "Validation batches production costs a total of 0.2685 seconds!\n",
      "\n",
      " Information about the content of ./validation/\n",
      "File name: [ batch_1 ]; with size: 19780.4638671875 KB\n",
      "File name: [ batch_3 ]; with size: 19727.8388671875 KB\n",
      "File name: [ batch_0 ]; with size: 19704.9794921875 KB\n",
      "File name: [ batch_2 ]; with size: 19764.5419921875 KB\n",
      "\n",
      "====================================================================================================\n",
      "Start tuning for tuning param: batch_epoch_num partition num: 2 hop layer 3\n",
      "\n",
      "====================================================================================================\n",
      "Start to generate the clustering machine:\n",
      "Batch machine creation costs a total of 0.1767 seconds!\n",
      "\n",
      " Information about the content of ./tmp/\n",
      "\n",
      "Start to split data into train, test, validation:\n",
      "Data splitting costs a total of 0.1774 seconds!\n",
      "Start to store the batch machine file:\n",
      "Storing batch machine after training batches generation costs a total of 0.0328 seconds!\n",
      "\n",
      "====================================================================================================\n",
      "\n",
      "====================================================================================================\n",
      "Batch machine reading costs a total of 0.0385 seconds!\n",
      "Start to generate the training batches:\n",
      "Train batches production costs a total of 0.2696 seconds!\n",
      "\n",
      " Information about the content of ./train/\n",
      "File name: [ batch_1 ]; with size: 19693.8310546875 KB\n",
      "File name: [ batch_3 ]; with size: 19686.4638671875 KB\n",
      "File name: [ batch_0 ]; with size: 19681.6982421875 KB\n",
      "File name: [ batch_2 ]; with size: 19686.6904296875 KB\n",
      "\n",
      "====================================================================================================\n",
      "\n",
      "====================================================================================================\n",
      "Batch machine reading costs a total of 0.0384 seconds!\n",
      "Start to generate the validation batches:\n",
      "Validation batches production costs a total of 0.3150 seconds!\n",
      "\n",
      " Information about the content of ./validation/\n",
      "File name: [ batch_1 ]; with size: 19751.6435546875 KB\n",
      "File name: [ batch_3 ]; with size: 19744.2763671875 KB\n",
      "File name: [ batch_0 ]; with size: 19739.5498046875 KB\n",
      "File name: [ batch_2 ]; with size: 19744.5419921875 KB\n",
      "\n",
      "====================================================================================================\n"
     ]
    },
    {
     "name": "stderr",
     "output_type": "stream",
     "text": [
      "/home/xiangli/anaconda3/envs/pytorch_geometric/lib/python3.7/site-packages/seaborn/axisgrid.py:311: RuntimeWarning: More than 20 figures have been opened. Figures created through the pyplot interface (`matplotlib.pyplot.figure`) are retained until explicitly closed and may consume too much memory. (To control this warning, see the rcParam `figure.max_open_warning`).\n",
      "  fig, axes = plt.subplots(nrow, ncol, **kwargs)\n",
      "/home/xiangli/anaconda3/envs/pytorch_geometric/lib/python3.7/site-packages/ipykernel_launcher.py:58: RuntimeWarning: More than 20 figures have been opened. Figures created through the pyplot interface (`matplotlib.pyplot.figure`) are retained until explicitly closed and may consume too much memory. (To control this warning, see the rcParam `figure.max_open_warning`).\n",
      "/home/xiangli/anaconda3/envs/pytorch_geometric/lib/python3.7/site-packages/seaborn/axisgrid.py:311: RuntimeWarning: More than 20 figures have been opened. Figures created through the pyplot interface (`matplotlib.pyplot.figure`) are retained until explicitly closed and may consume too much memory. (To control this warning, see the rcParam `figure.max_open_warning`).\n",
      "  fig, axes = plt.subplots(nrow, ncol, **kwargs)\n",
      "/home/xiangli/anaconda3/envs/pytorch_geometric/lib/python3.7/site-packages/ipykernel_launcher.py:58: RuntimeWarning: More than 20 figures have been opened. Figures created through the pyplot interface (`matplotlib.pyplot.figure`) are retained until explicitly closed and may consume too much memory. (To control this warning, see the rcParam `figure.max_open_warning`).\n",
      "/home/xiangli/anaconda3/envs/pytorch_geometric/lib/python3.7/site-packages/seaborn/axisgrid.py:311: RuntimeWarning: More than 20 figures have been opened. Figures created through the pyplot interface (`matplotlib.pyplot.figure`) are retained until explicitly closed and may consume too much memory. (To control this warning, see the rcParam `figure.max_open_warning`).\n",
      "  fig, axes = plt.subplots(nrow, ncol, **kwargs)\n"
     ]
    },
    {
     "name": "stdout",
     "output_type": "stream",
     "text": [
      "Start tuning for tuning param: batch_epoch_num partition num: 4 hop layer 1\n",
      "\n",
      "====================================================================================================\n",
      "Start to generate the clustering machine:\n",
      "Batch machine creation costs a total of 0.1308 seconds!\n",
      "\n",
      " Information about the content of ./tmp/\n",
      "\n",
      "Start to split data into train, test, validation:\n",
      "Data splitting costs a total of 0.2171 seconds!\n",
      "Start to store the batch machine file:\n",
      "Storing batch machine after training batches generation costs a total of 0.0329 seconds!\n",
      "\n",
      "====================================================================================================\n",
      "\n",
      "====================================================================================================\n",
      "Batch machine reading costs a total of 0.0387 seconds!\n",
      "Start to generate the training batches:\n",
      "Train batches production costs a total of 0.2015 seconds!\n",
      "\n",
      " Information about the content of ./train/\n",
      "File name: [ batch_1 ]; with size: 9721.3544921875 KB\n",
      "File name: [ batch_7 ]; with size: 9728.1513671875 KB\n",
      "File name: [ batch_3 ]; with size: 9791.4716796875 KB\n",
      "File name: [ batch_4 ]; with size: 9814.0263671875 KB\n",
      "File name: [ batch_6 ]; with size: 9820.2763671875 KB\n",
      "File name: [ batch_0 ]; with size: 9767.1279296875 KB\n",
      "File name: [ batch_5 ]; with size: 9663.9091796875 KB\n",
      "File name: [ batch_2 ]; with size: 9742.7529296875 KB\n",
      "\n",
      "====================================================================================================\n",
      "\n",
      "====================================================================================================\n",
      "Batch machine reading costs a total of 0.0753 seconds!\n",
      "Start to generate the validation batches:\n",
      "Validation batches production costs a total of 0.2037 seconds!\n",
      "\n",
      " Information about the content of ./validation/\n",
      "File name: [ batch_1 ]; with size: 9750.1748046875 KB\n",
      "File name: [ batch_7 ]; with size: 9756.9638671875 KB\n",
      "File name: [ batch_3 ]; with size: 9820.4794921875 KB\n",
      "File name: [ batch_4 ]; with size: 9843.1201171875 KB\n",
      "File name: [ batch_6 ]; with size: 9849.3935546875 KB\n",
      "File name: [ batch_0 ]; with size: 9796.0810546875 KB\n",
      "File name: [ batch_5 ]; with size: 9692.5498046875 KB\n",
      "File name: [ batch_2 ]; with size: 9771.6357421875 KB\n",
      "\n",
      "====================================================================================================\n"
     ]
    },
    {
     "name": "stderr",
     "output_type": "stream",
     "text": [
      "/home/xiangli/anaconda3/envs/pytorch_geometric/lib/python3.7/site-packages/ipykernel_launcher.py:58: RuntimeWarning: More than 20 figures have been opened. Figures created through the pyplot interface (`matplotlib.pyplot.figure`) are retained until explicitly closed and may consume too much memory. (To control this warning, see the rcParam `figure.max_open_warning`).\n",
      "/home/xiangli/anaconda3/envs/pytorch_geometric/lib/python3.7/site-packages/seaborn/axisgrid.py:311: RuntimeWarning: More than 20 figures have been opened. Figures created through the pyplot interface (`matplotlib.pyplot.figure`) are retained until explicitly closed and may consume too much memory. (To control this warning, see the rcParam `figure.max_open_warning`).\n",
      "  fig, axes = plt.subplots(nrow, ncol, **kwargs)\n",
      "/home/xiangli/anaconda3/envs/pytorch_geometric/lib/python3.7/site-packages/ipykernel_launcher.py:58: RuntimeWarning: More than 20 figures have been opened. Figures created through the pyplot interface (`matplotlib.pyplot.figure`) are retained until explicitly closed and may consume too much memory. (To control this warning, see the rcParam `figure.max_open_warning`).\n",
      "/home/xiangli/anaconda3/envs/pytorch_geometric/lib/python3.7/site-packages/seaborn/axisgrid.py:311: RuntimeWarning: More than 20 figures have been opened. Figures created through the pyplot interface (`matplotlib.pyplot.figure`) are retained until explicitly closed and may consume too much memory. (To control this warning, see the rcParam `figure.max_open_warning`).\n",
      "  fig, axes = plt.subplots(nrow, ncol, **kwargs)\n",
      "/home/xiangli/anaconda3/envs/pytorch_geometric/lib/python3.7/site-packages/ipykernel_launcher.py:58: RuntimeWarning: More than 20 figures have been opened. Figures created through the pyplot interface (`matplotlib.pyplot.figure`) are retained until explicitly closed and may consume too much memory. (To control this warning, see the rcParam `figure.max_open_warning`).\n",
      "/home/xiangli/anaconda3/envs/pytorch_geometric/lib/python3.7/site-packages/seaborn/axisgrid.py:311: RuntimeWarning: More than 20 figures have been opened. Figures created through the pyplot interface (`matplotlib.pyplot.figure`) are retained until explicitly closed and may consume too much memory. (To control this warning, see the rcParam `figure.max_open_warning`).\n",
      "  fig, axes = plt.subplots(nrow, ncol, **kwargs)\n",
      "/home/xiangli/anaconda3/envs/pytorch_geometric/lib/python3.7/site-packages/ipykernel_launcher.py:58: RuntimeWarning: More than 20 figures have been opened. Figures created through the pyplot interface (`matplotlib.pyplot.figure`) are retained until explicitly closed and may consume too much memory. (To control this warning, see the rcParam `figure.max_open_warning`).\n",
      "/home/xiangli/anaconda3/envs/pytorch_geometric/lib/python3.7/site-packages/seaborn/axisgrid.py:311: RuntimeWarning: More than 20 figures have been opened. Figures created through the pyplot interface (`matplotlib.pyplot.figure`) are retained until explicitly closed and may consume too much memory. (To control this warning, see the rcParam `figure.max_open_warning`).\n",
      "  fig, axes = plt.subplots(nrow, ncol, **kwargs)\n"
     ]
    },
    {
     "name": "stdout",
     "output_type": "stream",
     "text": [
      "Start tuning for tuning param: batch_epoch_num partition num: 4 hop layer 2\n",
      "\n",
      "====================================================================================================\n",
      "Start to generate the clustering machine:\n",
      "Batch machine creation costs a total of 0.1297 seconds!\n",
      "\n",
      " Information about the content of ./tmp/\n",
      "\n",
      "Start to split data into train, test, validation:\n",
      "Data splitting costs a total of 0.1707 seconds!\n",
      "Start to store the batch machine file:\n",
      "Storing batch machine after training batches generation costs a total of 0.0327 seconds!\n",
      "\n",
      "====================================================================================================\n",
      "\n",
      "====================================================================================================\n",
      "Batch machine reading costs a total of 0.0377 seconds!\n",
      "Start to generate the training batches:\n",
      "Train batches production costs a total of 0.1983 seconds!\n",
      "\n",
      " Information about the content of ./train/\n",
      "File name: [ batch_1 ]; with size: 9733.7451171875 KB\n",
      "File name: [ batch_7 ]; with size: 9692.8935546875 KB\n",
      "File name: [ batch_3 ]; with size: 9776.2763671875 KB\n",
      "File name: [ batch_4 ]; with size: 9792.9482421875 KB\n",
      "File name: [ batch_6 ]; with size: 9782.3076171875 KB\n",
      "File name: [ batch_0 ]; with size: 9778.5185546875 KB\n",
      "File name: [ batch_5 ]; with size: 9762.3076171875 KB\n",
      "File name: [ batch_2 ]; with size: 9738.1357421875 KB\n",
      "\n",
      "====================================================================================================\n",
      "\n",
      "====================================================================================================\n",
      "Batch machine reading costs a total of 0.0734 seconds!\n",
      "Start to generate the validation batches:\n",
      "Validation batches production costs a total of 0.1963 seconds!\n",
      "\n",
      " Information about the content of ./validation/\n",
      "File name: [ batch_1 ]; with size: 9762.6044921875 KB\n",
      "File name: [ batch_7 ]; with size: 9721.6279296875 KB\n",
      "File name: [ batch_3 ]; with size: 9805.2451171875 KB\n",
      "File name: [ batch_4 ]; with size: 9821.9482421875 KB\n",
      "File name: [ batch_6 ]; with size: 9811.2998046875 KB\n",
      "File name: [ batch_0 ]; with size: 9807.4873046875 KB\n",
      "File name: [ batch_5 ]; with size: 9791.2451171875 KB\n",
      "File name: [ batch_2 ]; with size: 9767.0029296875 KB\n",
      "\n",
      "====================================================================================================\n"
     ]
    },
    {
     "name": "stderr",
     "output_type": "stream",
     "text": [
      "/home/xiangli/anaconda3/envs/pytorch_geometric/lib/python3.7/site-packages/ipykernel_launcher.py:58: RuntimeWarning: More than 20 figures have been opened. Figures created through the pyplot interface (`matplotlib.pyplot.figure`) are retained until explicitly closed and may consume too much memory. (To control this warning, see the rcParam `figure.max_open_warning`).\n",
      "/home/xiangli/anaconda3/envs/pytorch_geometric/lib/python3.7/site-packages/seaborn/axisgrid.py:311: RuntimeWarning: More than 20 figures have been opened. Figures created through the pyplot interface (`matplotlib.pyplot.figure`) are retained until explicitly closed and may consume too much memory. (To control this warning, see the rcParam `figure.max_open_warning`).\n",
      "  fig, axes = plt.subplots(nrow, ncol, **kwargs)\n",
      "/home/xiangli/anaconda3/envs/pytorch_geometric/lib/python3.7/site-packages/ipykernel_launcher.py:58: RuntimeWarning: More than 20 figures have been opened. Figures created through the pyplot interface (`matplotlib.pyplot.figure`) are retained until explicitly closed and may consume too much memory. (To control this warning, see the rcParam `figure.max_open_warning`).\n",
      "/home/xiangli/anaconda3/envs/pytorch_geometric/lib/python3.7/site-packages/seaborn/axisgrid.py:311: RuntimeWarning: More than 20 figures have been opened. Figures created through the pyplot interface (`matplotlib.pyplot.figure`) are retained until explicitly closed and may consume too much memory. (To control this warning, see the rcParam `figure.max_open_warning`).\n",
      "  fig, axes = plt.subplots(nrow, ncol, **kwargs)\n",
      "/home/xiangli/anaconda3/envs/pytorch_geometric/lib/python3.7/site-packages/ipykernel_launcher.py:58: RuntimeWarning: More than 20 figures have been opened. Figures created through the pyplot interface (`matplotlib.pyplot.figure`) are retained until explicitly closed and may consume too much memory. (To control this warning, see the rcParam `figure.max_open_warning`).\n",
      "/home/xiangli/anaconda3/envs/pytorch_geometric/lib/python3.7/site-packages/seaborn/axisgrid.py:311: RuntimeWarning: More than 20 figures have been opened. Figures created through the pyplot interface (`matplotlib.pyplot.figure`) are retained until explicitly closed and may consume too much memory. (To control this warning, see the rcParam `figure.max_open_warning`).\n",
      "  fig, axes = plt.subplots(nrow, ncol, **kwargs)\n",
      "/home/xiangli/anaconda3/envs/pytorch_geometric/lib/python3.7/site-packages/ipykernel_launcher.py:58: RuntimeWarning: More than 20 figures have been opened. Figures created through the pyplot interface (`matplotlib.pyplot.figure`) are retained until explicitly closed and may consume too much memory. (To control this warning, see the rcParam `figure.max_open_warning`).\n",
      "/home/xiangli/anaconda3/envs/pytorch_geometric/lib/python3.7/site-packages/seaborn/axisgrid.py:311: RuntimeWarning: More than 20 figures have been opened. Figures created through the pyplot interface (`matplotlib.pyplot.figure`) are retained until explicitly closed and may consume too much memory. (To control this warning, see the rcParam `figure.max_open_warning`).\n",
      "  fig, axes = plt.subplots(nrow, ncol, **kwargs)\n"
     ]
    },
    {
     "name": "stdout",
     "output_type": "stream",
     "text": [
      "Start tuning for tuning param: batch_epoch_num partition num: 4 hop layer 3\n",
      "\n",
      "====================================================================================================\n",
      "Start to generate the clustering machine:\n",
      "Batch machine creation costs a total of 0.1330 seconds!\n",
      "\n",
      " Information about the content of ./tmp/\n",
      "\n",
      "Start to split data into train, test, validation:\n",
      "Data splitting costs a total of 0.1687 seconds!\n",
      "Start to store the batch machine file:\n",
      "Storing batch machine after training batches generation costs a total of 0.0322 seconds!\n",
      "\n",
      "====================================================================================================\n",
      "\n",
      "====================================================================================================\n",
      "Batch machine reading costs a total of 0.0371 seconds!\n",
      "Start to generate the training batches:\n",
      "Train batches production costs a total of 0.2388 seconds!\n",
      "\n",
      " Information about the content of ./train/\n",
      "File name: [ batch_1 ]; with size: 9699.5654296875 KB\n",
      "File name: [ batch_7 ]; with size: 9789.5107421875 KB\n",
      "File name: [ batch_3 ]; with size: 9879.4951171875 KB\n",
      "File name: [ batch_4 ]; with size: 9808.8779296875 KB\n",
      "File name: [ batch_6 ]; with size: 9768.4013671875 KB\n",
      "File name: [ batch_0 ]; with size: 9779.9638671875 KB\n",
      "File name: [ batch_5 ]; with size: 9663.6669921875 KB\n",
      "File name: [ batch_2 ]; with size: 9668.8076171875 KB\n",
      "\n",
      "====================================================================================================\n",
      "\n",
      "====================================================================================================\n",
      "Batch machine reading costs a total of 0.0386 seconds!\n",
      "Start to generate the validation batches:\n",
      "Validation batches production costs a total of 0.2017 seconds!\n",
      "\n",
      " Information about the content of ./validation/\n",
      "File name: [ batch_1 ]; with size: 9728.3232421875 KB\n",
      "File name: [ batch_7 ]; with size: 9818.5185546875 KB\n",
      "File name: [ batch_3 ]; with size: 9908.7685546875 KB\n",
      "File name: [ batch_4 ]; with size: 9837.9326171875 KB\n",
      "File name: [ batch_6 ]; with size: 9797.3701171875 KB\n",
      "File name: [ batch_0 ]; with size: 9808.9169921875 KB\n",
      "File name: [ batch_5 ]; with size: 9692.2998046875 KB\n",
      "File name: [ batch_2 ]; with size: 9697.4873046875 KB\n",
      "\n",
      "====================================================================================================\n"
     ]
    },
    {
     "name": "stderr",
     "output_type": "stream",
     "text": [
      "/home/xiangli/anaconda3/envs/pytorch_geometric/lib/python3.7/site-packages/ipykernel_launcher.py:58: RuntimeWarning: More than 20 figures have been opened. Figures created through the pyplot interface (`matplotlib.pyplot.figure`) are retained until explicitly closed and may consume too much memory. (To control this warning, see the rcParam `figure.max_open_warning`).\n",
      "/home/xiangli/anaconda3/envs/pytorch_geometric/lib/python3.7/site-packages/seaborn/axisgrid.py:311: RuntimeWarning: More than 20 figures have been opened. Figures created through the pyplot interface (`matplotlib.pyplot.figure`) are retained until explicitly closed and may consume too much memory. (To control this warning, see the rcParam `figure.max_open_warning`).\n",
      "  fig, axes = plt.subplots(nrow, ncol, **kwargs)\n",
      "/home/xiangli/anaconda3/envs/pytorch_geometric/lib/python3.7/site-packages/ipykernel_launcher.py:58: RuntimeWarning: More than 20 figures have been opened. Figures created through the pyplot interface (`matplotlib.pyplot.figure`) are retained until explicitly closed and may consume too much memory. (To control this warning, see the rcParam `figure.max_open_warning`).\n",
      "/home/xiangli/anaconda3/envs/pytorch_geometric/lib/python3.7/site-packages/seaborn/axisgrid.py:311: RuntimeWarning: More than 20 figures have been opened. Figures created through the pyplot interface (`matplotlib.pyplot.figure`) are retained until explicitly closed and may consume too much memory. (To control this warning, see the rcParam `figure.max_open_warning`).\n",
      "  fig, axes = plt.subplots(nrow, ncol, **kwargs)\n",
      "/home/xiangli/anaconda3/envs/pytorch_geometric/lib/python3.7/site-packages/ipykernel_launcher.py:58: RuntimeWarning: More than 20 figures have been opened. Figures created through the pyplot interface (`matplotlib.pyplot.figure`) are retained until explicitly closed and may consume too much memory. (To control this warning, see the rcParam `figure.max_open_warning`).\n",
      "/home/xiangli/anaconda3/envs/pytorch_geometric/lib/python3.7/site-packages/seaborn/axisgrid.py:311: RuntimeWarning: More than 20 figures have been opened. Figures created through the pyplot interface (`matplotlib.pyplot.figure`) are retained until explicitly closed and may consume too much memory. (To control this warning, see the rcParam `figure.max_open_warning`).\n",
      "  fig, axes = plt.subplots(nrow, ncol, **kwargs)\n",
      "/home/xiangli/anaconda3/envs/pytorch_geometric/lib/python3.7/site-packages/ipykernel_launcher.py:58: RuntimeWarning: More than 20 figures have been opened. Figures created through the pyplot interface (`matplotlib.pyplot.figure`) are retained until explicitly closed and may consume too much memory. (To control this warning, see the rcParam `figure.max_open_warning`).\n",
      "/home/xiangli/anaconda3/envs/pytorch_geometric/lib/python3.7/site-packages/seaborn/axisgrid.py:311: RuntimeWarning: More than 20 figures have been opened. Figures created through the pyplot interface (`matplotlib.pyplot.figure`) are retained until explicitly closed and may consume too much memory. (To control this warning, see the rcParam `figure.max_open_warning`).\n",
      "  fig, axes = plt.subplots(nrow, ncol, **kwargs)\n"
     ]
    },
    {
     "name": "stdout",
     "output_type": "stream",
     "text": [
      "Start tuning for tuning param: batch_epoch_num partition num: 8 hop layer 1\n",
      "\n",
      "====================================================================================================\n",
      "Start to generate the clustering machine:\n",
      "Batch machine creation costs a total of 0.1354 seconds!\n",
      "\n",
      " Information about the content of ./tmp/\n",
      "\n",
      "Start to split data into train, test, validation:\n",
      "Data splitting costs a total of 0.1717 seconds!\n",
      "Start to store the batch machine file:\n",
      "Storing batch machine after training batches generation costs a total of 0.0330 seconds!\n",
      "\n",
      "====================================================================================================\n",
      "\n",
      "====================================================================================================\n",
      "Batch machine reading costs a total of 0.0751 seconds!\n",
      "Start to generate the training batches:\n",
      "Train batches production costs a total of 0.1924 seconds!\n",
      "\n",
      " Information about the content of ./train/\n",
      "File name: [ batch_9 ]; with size: 4879.1181640625 KB\n",
      "File name: [ batch_1 ]; with size: 4851.0087890625 KB\n",
      "File name: [ batch_15 ]; with size: 4892.2353515625 KB\n",
      "File name: [ batch_8 ]; with size: 4816.9775390625 KB\n",
      "File name: [ batch_13 ]; with size: 4889.2041015625 KB\n",
      "File name: [ batch_11 ]; with size: 4823.3916015625 KB\n",
      "File name: [ batch_7 ]; with size: 4884.5634765625 KB\n",
      "File name: [ batch_3 ]; with size: 4847.4541015625 KB\n",
      "File name: [ batch_4 ]; with size: 4911.0087890625 KB\n",
      "File name: [ batch_6 ]; with size: 4840.9228515625 KB\n",
      "File name: [ batch_0 ]; with size: 4850.2275390625 KB\n",
      "File name: [ batch_5 ]; with size: 4847.5791015625 KB\n",
      "File name: [ batch_14 ]; with size: 4911.1962890625 KB\n",
      "File name: [ batch_10 ]; with size: 4820.7978515625 KB\n",
      "File name: [ batch_2 ]; with size: 4826.8447265625 KB\n",
      "File name: [ batch_12 ]; with size: 4825.4072265625 KB\n",
      "\n",
      "====================================================================================================\n",
      "\n",
      "====================================================================================================\n",
      "Batch machine reading costs a total of 0.0393 seconds!\n",
      "Start to generate the validation batches:\n",
      "Validation batches production costs a total of 0.1899 seconds!\n",
      "\n",
      " Information about the content of ./validation/\n",
      "File name: [ batch_9 ]; with size: 4893.6513671875 KB\n",
      "File name: [ batch_1 ]; with size: 4865.4404296875 KB\n",
      "File name: [ batch_15 ]; with size: 4906.7998046875 KB\n",
      "File name: [ batch_8 ]; with size: 4831.3154296875 KB\n",
      "File name: [ batch_13 ]; with size: 4903.7607421875 KB\n",
      "File name: [ batch_11 ]; with size: 4837.7451171875 KB\n",
      "File name: [ batch_7 ]; with size: 4899.1123046875 KB\n",
      "File name: [ batch_3 ]; with size: 4861.8857421875 KB\n",
      "File name: [ batch_4 ]; with size: 4925.6279296875 KB\n",
      "File name: [ batch_6 ]; with size: 4855.3232421875 KB\n",
      "File name: [ batch_0 ]; with size: 4864.6669921875 KB\n",
      "File name: [ batch_5 ]; with size: 4862.0185546875 KB\n",
      "File name: [ batch_14 ]; with size: 4925.8154296875 KB\n",
      "File name: [ batch_10 ]; with size: 4835.1513671875 KB\n",
      "File name: [ batch_2 ]; with size: 4841.2138671875 KB\n",
      "File name: [ batch_12 ]; with size: 4839.7685546875 KB\n",
      "\n",
      "====================================================================================================\n"
     ]
    },
    {
     "name": "stderr",
     "output_type": "stream",
     "text": [
      "/home/xiangli/anaconda3/envs/pytorch_geometric/lib/python3.7/site-packages/ipykernel_launcher.py:58: RuntimeWarning: More than 20 figures have been opened. Figures created through the pyplot interface (`matplotlib.pyplot.figure`) are retained until explicitly closed and may consume too much memory. (To control this warning, see the rcParam `figure.max_open_warning`).\n",
      "/home/xiangli/anaconda3/envs/pytorch_geometric/lib/python3.7/site-packages/seaborn/axisgrid.py:311: RuntimeWarning: More than 20 figures have been opened. Figures created through the pyplot interface (`matplotlib.pyplot.figure`) are retained until explicitly closed and may consume too much memory. (To control this warning, see the rcParam `figure.max_open_warning`).\n",
      "  fig, axes = plt.subplots(nrow, ncol, **kwargs)\n",
      "/home/xiangli/anaconda3/envs/pytorch_geometric/lib/python3.7/site-packages/ipykernel_launcher.py:58: RuntimeWarning: More than 20 figures have been opened. Figures created through the pyplot interface (`matplotlib.pyplot.figure`) are retained until explicitly closed and may consume too much memory. (To control this warning, see the rcParam `figure.max_open_warning`).\n",
      "/home/xiangli/anaconda3/envs/pytorch_geometric/lib/python3.7/site-packages/seaborn/axisgrid.py:311: RuntimeWarning: More than 20 figures have been opened. Figures created through the pyplot interface (`matplotlib.pyplot.figure`) are retained until explicitly closed and may consume too much memory. (To control this warning, see the rcParam `figure.max_open_warning`).\n",
      "  fig, axes = plt.subplots(nrow, ncol, **kwargs)\n",
      "/home/xiangli/anaconda3/envs/pytorch_geometric/lib/python3.7/site-packages/ipykernel_launcher.py:58: RuntimeWarning: More than 20 figures have been opened. Figures created through the pyplot interface (`matplotlib.pyplot.figure`) are retained until explicitly closed and may consume too much memory. (To control this warning, see the rcParam `figure.max_open_warning`).\n",
      "/home/xiangli/anaconda3/envs/pytorch_geometric/lib/python3.7/site-packages/seaborn/axisgrid.py:311: RuntimeWarning: More than 20 figures have been opened. Figures created through the pyplot interface (`matplotlib.pyplot.figure`) are retained until explicitly closed and may consume too much memory. (To control this warning, see the rcParam `figure.max_open_warning`).\n",
      "  fig, axes = plt.subplots(nrow, ncol, **kwargs)\n",
      "/home/xiangli/anaconda3/envs/pytorch_geometric/lib/python3.7/site-packages/ipykernel_launcher.py:58: RuntimeWarning: More than 20 figures have been opened. Figures created through the pyplot interface (`matplotlib.pyplot.figure`) are retained until explicitly closed and may consume too much memory. (To control this warning, see the rcParam `figure.max_open_warning`).\n",
      "/home/xiangli/anaconda3/envs/pytorch_geometric/lib/python3.7/site-packages/seaborn/axisgrid.py:311: RuntimeWarning: More than 20 figures have been opened. Figures created through the pyplot interface (`matplotlib.pyplot.figure`) are retained until explicitly closed and may consume too much memory. (To control this warning, see the rcParam `figure.max_open_warning`).\n",
      "  fig, axes = plt.subplots(nrow, ncol, **kwargs)\n"
     ]
    },
    {
     "name": "stdout",
     "output_type": "stream",
     "text": [
      "Start tuning for tuning param: batch_epoch_num partition num: 8 hop layer 2\n",
      "\n",
      "====================================================================================================\n",
      "Start to generate the clustering machine:\n",
      "Batch machine creation costs a total of 0.1313 seconds!\n",
      "\n",
      " Information about the content of ./tmp/\n",
      "\n",
      "Start to split data into train, test, validation:\n",
      "Data splitting costs a total of 0.1714 seconds!\n",
      "Start to store the batch machine file:\n",
      "Storing batch machine after training batches generation costs a total of 0.0330 seconds!\n",
      "\n",
      "====================================================================================================\n",
      "\n",
      "====================================================================================================\n",
      "Batch machine reading costs a total of 0.0374 seconds!\n",
      "Start to generate the training batches:\n",
      "Train batches production costs a total of 0.1939 seconds!\n",
      "\n",
      " Information about the content of ./train/\n",
      "File name: [ batch_9 ]; with size: 4825.4072265625 KB\n",
      "File name: [ batch_1 ]; with size: 4898.3759765625 KB\n",
      "File name: [ batch_15 ]; with size: 4858.2822265625 KB\n",
      "File name: [ batch_8 ]; with size: 4823.3916015625 KB\n",
      "File name: [ batch_13 ]; with size: 4847.9931640625 KB\n",
      "File name: [ batch_11 ]; with size: 4820.7978515625 KB\n",
      "File name: [ batch_7 ]; with size: 4848.2587890625 KB\n",
      "File name: [ batch_3 ]; with size: 4874.6025390625 KB\n",
      "File name: [ batch_4 ]; with size: 4830.8056640625 KB\n",
      "File name: [ batch_6 ]; with size: 4898.2119140625 KB\n",
      "File name: [ batch_0 ]; with size: 4779.6728515625 KB\n",
      "File name: [ batch_5 ]; with size: 4836.0322265625 KB\n",
      "File name: [ batch_14 ]; with size: 4862.4697265625 KB\n",
      "File name: [ batch_10 ]; with size: 4917.3369140625 KB\n",
      "File name: [ batch_2 ]; with size: 4897.9306640625 KB\n",
      "File name: [ batch_12 ]; with size: 4904.8369140625 KB\n",
      "\n",
      "====================================================================================================\n",
      "\n",
      "====================================================================================================\n",
      "Batch machine reading costs a total of 0.0738 seconds!\n",
      "Start to generate the validation batches:\n",
      "Validation batches production costs a total of 0.1929 seconds!\n",
      "\n",
      " Information about the content of ./validation/\n",
      "File name: [ batch_9 ]; with size: 4839.7685546875 KB\n",
      "File name: [ batch_1 ]; with size: 4912.9482421875 KB\n",
      "File name: [ batch_15 ]; with size: 4872.7529296875 KB\n",
      "File name: [ batch_8 ]; with size: 4837.7451171875 KB\n",
      "File name: [ batch_13 ]; with size: 4862.4169921875 KB\n",
      "File name: [ batch_11 ]; with size: 4835.1513671875 KB\n",
      "File name: [ batch_7 ]; with size: 4862.6982421875 KB\n",
      "File name: [ batch_3 ]; with size: 4889.1201171875 KB\n",
      "File name: [ batch_4 ]; with size: 4845.1826171875 KB\n",
      "File name: [ batch_6 ]; with size: 4912.7919921875 KB\n",
      "File name: [ batch_0 ]; with size: 4793.9013671875 KB\n",
      "File name: [ batch_5 ]; with size: 4850.4169921875 KB\n",
      "File name: [ batch_14 ]; with size: 4876.9404296875 KB\n",
      "File name: [ batch_10 ]; with size: 4931.9716796875 KB\n",
      "File name: [ batch_2 ]; with size: 4912.5107421875 KB\n",
      "File name: [ batch_12 ]; with size: 4919.4482421875 KB\n",
      "\n",
      "====================================================================================================\n"
     ]
    },
    {
     "name": "stderr",
     "output_type": "stream",
     "text": [
      "/home/xiangli/anaconda3/envs/pytorch_geometric/lib/python3.7/site-packages/ipykernel_launcher.py:58: RuntimeWarning: More than 20 figures have been opened. Figures created through the pyplot interface (`matplotlib.pyplot.figure`) are retained until explicitly closed and may consume too much memory. (To control this warning, see the rcParam `figure.max_open_warning`).\n",
      "/home/xiangli/anaconda3/envs/pytorch_geometric/lib/python3.7/site-packages/seaborn/axisgrid.py:311: RuntimeWarning: More than 20 figures have been opened. Figures created through the pyplot interface (`matplotlib.pyplot.figure`) are retained until explicitly closed and may consume too much memory. (To control this warning, see the rcParam `figure.max_open_warning`).\n",
      "  fig, axes = plt.subplots(nrow, ncol, **kwargs)\n",
      "/home/xiangli/anaconda3/envs/pytorch_geometric/lib/python3.7/site-packages/ipykernel_launcher.py:58: RuntimeWarning: More than 20 figures have been opened. Figures created through the pyplot interface (`matplotlib.pyplot.figure`) are retained until explicitly closed and may consume too much memory. (To control this warning, see the rcParam `figure.max_open_warning`).\n",
      "/home/xiangli/anaconda3/envs/pytorch_geometric/lib/python3.7/site-packages/seaborn/axisgrid.py:311: RuntimeWarning: More than 20 figures have been opened. Figures created through the pyplot interface (`matplotlib.pyplot.figure`) are retained until explicitly closed and may consume too much memory. (To control this warning, see the rcParam `figure.max_open_warning`).\n",
      "  fig, axes = plt.subplots(nrow, ncol, **kwargs)\n",
      "/home/xiangli/anaconda3/envs/pytorch_geometric/lib/python3.7/site-packages/ipykernel_launcher.py:58: RuntimeWarning: More than 20 figures have been opened. Figures created through the pyplot interface (`matplotlib.pyplot.figure`) are retained until explicitly closed and may consume too much memory. (To control this warning, see the rcParam `figure.max_open_warning`).\n",
      "/home/xiangli/anaconda3/envs/pytorch_geometric/lib/python3.7/site-packages/seaborn/axisgrid.py:311: RuntimeWarning: More than 20 figures have been opened. Figures created through the pyplot interface (`matplotlib.pyplot.figure`) are retained until explicitly closed and may consume too much memory. (To control this warning, see the rcParam `figure.max_open_warning`).\n",
      "  fig, axes = plt.subplots(nrow, ncol, **kwargs)\n",
      "/home/xiangli/anaconda3/envs/pytorch_geometric/lib/python3.7/site-packages/ipykernel_launcher.py:58: RuntimeWarning: More than 20 figures have been opened. Figures created through the pyplot interface (`matplotlib.pyplot.figure`) are retained until explicitly closed and may consume too much memory. (To control this warning, see the rcParam `figure.max_open_warning`).\n",
      "/home/xiangli/anaconda3/envs/pytorch_geometric/lib/python3.7/site-packages/seaborn/axisgrid.py:311: RuntimeWarning: More than 20 figures have been opened. Figures created through the pyplot interface (`matplotlib.pyplot.figure`) are retained until explicitly closed and may consume too much memory. (To control this warning, see the rcParam `figure.max_open_warning`).\n",
      "  fig, axes = plt.subplots(nrow, ncol, **kwargs)\n"
     ]
    },
    {
     "name": "stdout",
     "output_type": "stream",
     "text": [
      "Start tuning for tuning param: batch_epoch_num partition num: 8 hop layer 3\n",
      "\n",
      "====================================================================================================\n",
      "Start to generate the clustering machine:\n",
      "Batch machine creation costs a total of 0.1761 seconds!\n",
      "\n",
      " Information about the content of ./tmp/\n",
      "\n",
      "Start to split data into train, test, validation:\n",
      "Data splitting costs a total of 0.1730 seconds!\n",
      "Start to store the batch machine file:\n",
      "Storing batch machine after training batches generation costs a total of 0.0332 seconds!\n",
      "\n",
      "====================================================================================================\n",
      "\n",
      "====================================================================================================\n",
      "Batch machine reading costs a total of 0.0367 seconds!\n",
      "Start to generate the training batches:\n",
      "Train batches production costs a total of 0.1918 seconds!\n",
      "\n",
      " Information about the content of ./train/\n",
      "File name: [ batch_9 ]; with size: 4779.6728515625 KB\n",
      "File name: [ batch_1 ]; with size: 4823.8837890625 KB\n",
      "File name: [ batch_15 ]; with size: 4884.0087890625 KB\n",
      "File name: [ batch_8 ]; with size: 4841.3525390625 KB\n",
      "File name: [ batch_13 ]; with size: 4878.9072265625 KB\n",
      "File name: [ batch_11 ]; with size: 4881.3603515625 KB\n",
      "File name: [ batch_7 ]; with size: 4851.0087890625 KB\n",
      "File name: [ batch_3 ]; with size: 4832.6259765625 KB\n",
      "File name: [ batch_4 ]; with size: 4884.5634765625 KB\n",
      "File name: [ batch_6 ]; with size: 4840.9228515625 KB\n",
      "File name: [ batch_0 ]; with size: 4811.3056640625 KB\n",
      "File name: [ batch_5 ]; with size: 4974.0009765625 KB\n",
      "File name: [ batch_14 ]; with size: 4948.5322265625 KB\n",
      "File name: [ batch_10 ]; with size: 4803.8603515625 KB\n",
      "File name: [ batch_2 ]; with size: 4841.6103515625 KB\n",
      "File name: [ batch_12 ]; with size: 4842.6962890625 KB\n",
      "\n",
      "====================================================================================================\n",
      "\n",
      "====================================================================================================\n",
      "Batch machine reading costs a total of 0.0386 seconds!\n",
      "Start to generate the validation batches:\n",
      "Validation batches production costs a total of 0.1916 seconds!\n",
      "\n",
      " Information about the content of ./validation/\n",
      "File name: [ batch_9 ]; with size: 4793.9013671875 KB\n",
      "File name: [ batch_1 ]; with size: 4838.2451171875 KB\n",
      "File name: [ batch_15 ]; with size: 4898.5576171875 KB\n",
      "File name: [ batch_8 ]; with size: 4855.7607421875 KB\n",
      "File name: [ batch_13 ]; with size: 4893.4326171875 KB\n",
      "File name: [ batch_11 ]; with size: 4895.8935546875 KB\n",
      "File name: [ batch_7 ]; with size: 4865.4404296875 KB\n",
      "File name: [ batch_3 ]; with size: 4847.0263671875 KB\n",
      "File name: [ batch_4 ]; with size: 4899.1123046875 KB\n",
      "File name: [ batch_6 ]; with size: 4855.3232421875 KB\n",
      "File name: [ batch_0 ]; with size: 4825.6279296875 KB\n",
      "File name: [ batch_5 ]; with size: 4988.8076171875 KB\n",
      "File name: [ batch_14 ]; with size: 4963.2607421875 KB\n",
      "File name: [ batch_10 ]; with size: 4818.1591796875 KB\n",
      "File name: [ batch_2 ]; with size: 4856.0185546875 KB\n",
      "File name: [ batch_12 ]; with size: 4857.1044921875 KB\n",
      "\n",
      "====================================================================================================\n"
     ]
    },
    {
     "name": "stderr",
     "output_type": "stream",
     "text": [
      "/home/xiangli/anaconda3/envs/pytorch_geometric/lib/python3.7/site-packages/ipykernel_launcher.py:58: RuntimeWarning: More than 20 figures have been opened. Figures created through the pyplot interface (`matplotlib.pyplot.figure`) are retained until explicitly closed and may consume too much memory. (To control this warning, see the rcParam `figure.max_open_warning`).\n",
      "/home/xiangli/anaconda3/envs/pytorch_geometric/lib/python3.7/site-packages/seaborn/axisgrid.py:311: RuntimeWarning: More than 20 figures have been opened. Figures created through the pyplot interface (`matplotlib.pyplot.figure`) are retained until explicitly closed and may consume too much memory. (To control this warning, see the rcParam `figure.max_open_warning`).\n",
      "  fig, axes = plt.subplots(nrow, ncol, **kwargs)\n",
      "/home/xiangli/anaconda3/envs/pytorch_geometric/lib/python3.7/site-packages/ipykernel_launcher.py:58: RuntimeWarning: More than 20 figures have been opened. Figures created through the pyplot interface (`matplotlib.pyplot.figure`) are retained until explicitly closed and may consume too much memory. (To control this warning, see the rcParam `figure.max_open_warning`).\n",
      "/home/xiangli/anaconda3/envs/pytorch_geometric/lib/python3.7/site-packages/seaborn/axisgrid.py:311: RuntimeWarning: More than 20 figures have been opened. Figures created through the pyplot interface (`matplotlib.pyplot.figure`) are retained until explicitly closed and may consume too much memory. (To control this warning, see the rcParam `figure.max_open_warning`).\n",
      "  fig, axes = plt.subplots(nrow, ncol, **kwargs)\n",
      "/home/xiangli/anaconda3/envs/pytorch_geometric/lib/python3.7/site-packages/ipykernel_launcher.py:58: RuntimeWarning: More than 20 figures have been opened. Figures created through the pyplot interface (`matplotlib.pyplot.figure`) are retained until explicitly closed and may consume too much memory. (To control this warning, see the rcParam `figure.max_open_warning`).\n",
      "/home/xiangli/anaconda3/envs/pytorch_geometric/lib/python3.7/site-packages/seaborn/axisgrid.py:311: RuntimeWarning: More than 20 figures have been opened. Figures created through the pyplot interface (`matplotlib.pyplot.figure`) are retained until explicitly closed and may consume too much memory. (To control this warning, see the rcParam `figure.max_open_warning`).\n",
      "  fig, axes = plt.subplots(nrow, ncol, **kwargs)\n",
      "/home/xiangli/anaconda3/envs/pytorch_geometric/lib/python3.7/site-packages/ipykernel_launcher.py:58: RuntimeWarning: More than 20 figures have been opened. Figures created through the pyplot interface (`matplotlib.pyplot.figure`) are retained until explicitly closed and may consume too much memory. (To control this warning, see the rcParam `figure.max_open_warning`).\n",
      "/home/xiangli/anaconda3/envs/pytorch_geometric/lib/python3.7/site-packages/seaborn/axisgrid.py:311: RuntimeWarning: More than 20 figures have been opened. Figures created through the pyplot interface (`matplotlib.pyplot.figure`) are retained until explicitly closed and may consume too much memory. (To control this warning, see the rcParam `figure.max_open_warning`).\n",
      "  fig, axes = plt.subplots(nrow, ncol, **kwargs)\n"
     ]
    },
    {
     "data": {
      "text/plain": [
       "<Figure size 432x288 with 0 Axes>"
      ]
     },
     "metadata": {},
     "output_type": "display_data"
    },
    {
     "data": {
      "text/plain": [
       "<Figure size 432x288 with 0 Axes>"
      ]
     },
     "metadata": {},
     "output_type": "display_data"
    },
    {
     "data": {
      "text/plain": [
       "<Figure size 360x360 with 0 Axes>"
      ]
     },
     "metadata": {},
     "output_type": "display_data"
    },
    {
     "data": {
      "text/plain": [
       "<Figure size 432x288 with 0 Axes>"
      ]
     },
     "metadata": {},
     "output_type": "display_data"
    },
    {
     "data": {
      "text/plain": [
       "<Figure size 360x360 with 0 Axes>"
      ]
     },
     "metadata": {},
     "output_type": "display_data"
    },
    {
     "data": {
      "text/plain": [
       "<Figure size 432x288 with 0 Axes>"
      ]
     },
     "metadata": {},
     "output_type": "display_data"
    },
    {
     "data": {
      "text/plain": [
       "<Figure size 360x360 with 0 Axes>"
      ]
     },
     "metadata": {},
     "output_type": "display_data"
    },
    {
     "data": {
      "text/plain": [
       "<Figure size 432x288 with 0 Axes>"
      ]
     },
     "metadata": {},
     "output_type": "display_data"
    },
    {
     "data": {
      "text/plain": [
       "<Figure size 360x360 with 0 Axes>"
      ]
     },
     "metadata": {},
     "output_type": "display_data"
    },
    {
     "data": {
      "text/plain": [
       "<Figure size 432x288 with 0 Axes>"
      ]
     },
     "metadata": {},
     "output_type": "display_data"
    },
    {
     "data": {
      "text/plain": [
       "<Figure size 360x360 with 0 Axes>"
      ]
     },
     "metadata": {},
     "output_type": "display_data"
    },
    {
     "data": {
      "text/plain": [
       "<Figure size 432x288 with 0 Axes>"
      ]
     },
     "metadata": {},
     "output_type": "display_data"
    },
    {
     "data": {
      "text/plain": [
       "<Figure size 360x360 with 0 Axes>"
      ]
     },
     "metadata": {},
     "output_type": "display_data"
    },
    {
     "data": {
      "text/plain": [
       "<Figure size 432x288 with 0 Axes>"
      ]
     },
     "metadata": {},
     "output_type": "display_data"
    },
    {
     "data": {
      "text/plain": [
       "<Figure size 360x360 with 0 Axes>"
      ]
     },
     "metadata": {},
     "output_type": "display_data"
    },
    {
     "data": {
      "text/plain": [
       "<Figure size 432x288 with 0 Axes>"
      ]
     },
     "metadata": {},
     "output_type": "display_data"
    },
    {
     "data": {
      "text/plain": [
       "<Figure size 360x360 with 0 Axes>"
      ]
     },
     "metadata": {},
     "output_type": "display_data"
    },
    {
     "data": {
      "text/plain": [
       "<Figure size 432x288 with 0 Axes>"
      ]
     },
     "metadata": {},
     "output_type": "display_data"
    },
    {
     "data": {
      "text/plain": [
       "<Figure size 360x360 with 0 Axes>"
      ]
     },
     "metadata": {},
     "output_type": "display_data"
    },
    {
     "data": {
      "text/plain": [
       "<Figure size 432x288 with 0 Axes>"
      ]
     },
     "metadata": {},
     "output_type": "display_data"
    },
    {
     "data": {
      "text/plain": [
       "<Figure size 360x360 with 0 Axes>"
      ]
     },
     "metadata": {},
     "output_type": "display_data"
    },
    {
     "data": {
      "text/plain": [
       "<Figure size 432x288 with 0 Axes>"
      ]
     },
     "metadata": {},
     "output_type": "display_data"
    },
    {
     "data": {
      "text/plain": [
       "<Figure size 360x360 with 0 Axes>"
      ]
     },
     "metadata": {},
     "output_type": "display_data"
    },
    {
     "data": {
      "text/plain": [
       "<Figure size 432x288 with 0 Axes>"
      ]
     },
     "metadata": {},
     "output_type": "display_data"
    },
    {
     "data": {
      "text/plain": [
       "<Figure size 360x360 with 0 Axes>"
      ]
     },
     "metadata": {},
     "output_type": "display_data"
    },
    {
     "data": {
      "text/plain": [
       "<Figure size 432x288 with 0 Axes>"
      ]
     },
     "metadata": {},
     "output_type": "display_data"
    },
    {
     "data": {
      "text/plain": [
       "<Figure size 360x360 with 0 Axes>"
      ]
     },
     "metadata": {},
     "output_type": "display_data"
    },
    {
     "data": {
      "text/plain": [
       "<Figure size 432x288 with 0 Axes>"
      ]
     },
     "metadata": {},
     "output_type": "display_data"
    },
    {
     "data": {
      "text/plain": [
       "<Figure size 360x360 with 0 Axes>"
      ]
     },
     "metadata": {},
     "output_type": "display_data"
    },
    {
     "data": {
      "text/plain": [
       "<Figure size 432x288 with 0 Axes>"
      ]
     },
     "metadata": {},
     "output_type": "display_data"
    },
    {
     "data": {
      "text/plain": [
       "<Figure size 360x360 with 0 Axes>"
      ]
     },
     "metadata": {},
     "output_type": "display_data"
    },
    {
     "data": {
      "text/plain": [
       "<Figure size 432x288 with 0 Axes>"
      ]
     },
     "metadata": {},
     "output_type": "display_data"
    },
    {
     "data": {
      "text/plain": [
       "<Figure size 360x360 with 0 Axes>"
      ]
     },
     "metadata": {},
     "output_type": "display_data"
    },
    {
     "data": {
      "text/plain": [
       "<Figure size 432x288 with 0 Axes>"
      ]
     },
     "metadata": {},
     "output_type": "display_data"
    },
    {
     "data": {
      "text/plain": [
       "<Figure size 360x360 with 0 Axes>"
      ]
     },
     "metadata": {},
     "output_type": "display_data"
    },
    {
     "data": {
      "text/plain": [
       "<Figure size 432x288 with 0 Axes>"
      ]
     },
     "metadata": {},
     "output_type": "display_data"
    },
    {
     "data": {
      "text/plain": [
       "<Figure size 360x360 with 0 Axes>"
      ]
     },
     "metadata": {},
     "output_type": "display_data"
    },
    {
     "data": {
      "text/plain": [
       "<Figure size 432x288 with 0 Axes>"
      ]
     },
     "metadata": {},
     "output_type": "display_data"
    },
    {
     "data": {
      "text/plain": [
       "<Figure size 360x360 with 0 Axes>"
      ]
     },
     "metadata": {},
     "output_type": "display_data"
    },
    {
     "data": {
      "text/plain": [
       "<Figure size 432x288 with 0 Axes>"
      ]
     },
     "metadata": {},
     "output_type": "display_data"
    },
    {
     "data": {
      "text/plain": [
       "<Figure size 360x360 with 0 Axes>"
      ]
     },
     "metadata": {},
     "output_type": "display_data"
    },
    {
     "data": {
      "text/plain": [
       "<Figure size 432x288 with 0 Axes>"
      ]
     },
     "metadata": {},
     "output_type": "display_data"
    },
    {
     "data": {
      "text/plain": [
       "<Figure size 360x360 with 0 Axes>"
      ]
     },
     "metadata": {},
     "output_type": "display_data"
    },
    {
     "data": {
      "text/plain": [
       "<Figure size 432x288 with 0 Axes>"
      ]
     },
     "metadata": {},
     "output_type": "display_data"
    },
    {
     "data": {
      "text/plain": [
       "<Figure size 360x360 with 0 Axes>"
      ]
     },
     "metadata": {},
     "output_type": "display_data"
    },
    {
     "data": {
      "text/plain": [
       "<Figure size 432x288 with 0 Axes>"
      ]
     },
     "metadata": {},
     "output_type": "display_data"
    },
    {
     "data": {
      "text/plain": [
       "<Figure size 360x360 with 0 Axes>"
      ]
     },
     "metadata": {},
     "output_type": "display_data"
    },
    {
     "data": {
      "text/plain": [
       "<Figure size 432x288 with 0 Axes>"
      ]
     },
     "metadata": {},
     "output_type": "display_data"
    },
    {
     "data": {
      "text/plain": [
       "<Figure size 360x360 with 0 Axes>"
      ]
     },
     "metadata": {},
     "output_type": "display_data"
    },
    {
     "data": {
      "text/plain": [
       "<Figure size 432x288 with 0 Axes>"
      ]
     },
     "metadata": {},
     "output_type": "display_data"
    },
    {
     "data": {
      "text/plain": [
       "<Figure size 360x360 with 0 Axes>"
      ]
     },
     "metadata": {},
     "output_type": "display_data"
    },
    {
     "data": {
      "text/plain": [
       "<Figure size 432x288 with 0 Axes>"
      ]
     },
     "metadata": {},
     "output_type": "display_data"
    },
    {
     "data": {
      "text/plain": [
       "<Figure size 360x360 with 0 Axes>"
      ]
     },
     "metadata": {},
     "output_type": "display_data"
    },
    {
     "data": {
      "text/plain": [
       "<Figure size 432x288 with 0 Axes>"
      ]
     },
     "metadata": {},
     "output_type": "display_data"
    },
    {
     "data": {
      "text/plain": [
       "<Figure size 360x360 with 0 Axes>"
      ]
     },
     "metadata": {},
     "output_type": "display_data"
    },
    {
     "data": {
      "text/plain": [
       "<Figure size 432x288 with 0 Axes>"
      ]
     },
     "metadata": {},
     "output_type": "display_data"
    },
    {
     "data": {
      "text/plain": [
       "<Figure size 360x360 with 0 Axes>"
      ]
     },
     "metadata": {},
     "output_type": "display_data"
    },
    {
     "data": {
      "text/plain": [
       "<Figure size 432x288 with 0 Axes>"
      ]
     },
     "metadata": {},
     "output_type": "display_data"
    },
    {
     "data": {
      "text/plain": [
       "<Figure size 360x360 with 0 Axes>"
      ]
     },
     "metadata": {},
     "output_type": "display_data"
    },
    {
     "data": {
      "text/plain": [
       "<Figure size 432x288 with 0 Axes>"
      ]
     },
     "metadata": {},
     "output_type": "display_data"
    },
    {
     "data": {
      "text/plain": [
       "<Figure size 360x360 with 0 Axes>"
      ]
     },
     "metadata": {},
     "output_type": "display_data"
    },
    {
     "data": {
      "text/plain": [
       "<Figure size 432x288 with 0 Axes>"
      ]
     },
     "metadata": {},
     "output_type": "display_data"
    },
    {
     "data": {
      "text/plain": [
       "<Figure size 360x360 with 0 Axes>"
      ]
     },
     "metadata": {},
     "output_type": "display_data"
    },
    {
     "data": {
      "text/plain": [
       "<Figure size 432x288 with 0 Axes>"
      ]
     },
     "metadata": {},
     "output_type": "display_data"
    },
    {
     "data": {
      "text/plain": [
       "<Figure size 360x360 with 0 Axes>"
      ]
     },
     "metadata": {},
     "output_type": "display_data"
    },
    {
     "data": {
      "text/plain": [
       "<Figure size 432x288 with 0 Axes>"
      ]
     },
     "metadata": {},
     "output_type": "display_data"
    },
    {
     "data": {
      "text/plain": [
       "<Figure size 360x360 with 0 Axes>"
      ]
     },
     "metadata": {},
     "output_type": "display_data"
    },
    {
     "data": {
      "text/plain": [
       "<Figure size 432x288 with 0 Axes>"
      ]
     },
     "metadata": {},
     "output_type": "display_data"
    },
    {
     "data": {
      "text/plain": [
       "<Figure size 360x360 with 0 Axes>"
      ]
     },
     "metadata": {},
     "output_type": "display_data"
    },
    {
     "data": {
      "text/plain": [
       "<Figure size 432x288 with 0 Axes>"
      ]
     },
     "metadata": {},
     "output_type": "display_data"
    },
    {
     "data": {
      "text/plain": [
       "<Figure size 360x360 with 0 Axes>"
      ]
     },
     "metadata": {},
     "output_type": "display_data"
    },
    {
     "data": {
      "text/plain": [
       "<Figure size 432x288 with 0 Axes>"
      ]
     },
     "metadata": {},
     "output_type": "display_data"
    },
    {
     "data": {
      "image/png": "[encoded data removed]",
      "text/plain": [
       "<Figure size 360x360 with 1 Axes>"
      ]
     },
     "metadata": {},
     "output_type": "display_data"
    }
   ],
   "source": [
    "# tuning the mini_epoch\n",
    "output_tune_param(data, data_name, dataset, image_data_path, intermediate_data_folder, partition_nums, layers, \\\n",
    "                  dropout = 0.3, lr = 0.0001, weight_decay = 0.001, mini_epoch_num = 20, valid_part_num = 2, mini_cluster_num = 16, round_num = 2)"
   ]
  },
  {
   "cell_type": "markdown",
   "metadata": {},
   "source": [
    "#### Checking training loss"
   ]
  },
  {
   "cell_type": "code",
   "execution_count": 19,
   "metadata": {},
   "outputs": [
    {
     "name": "stdout",
     "output_type": "stream",
     "text": [
      "Start checking train loss for partition num: 2 hop layer: 1\n",
      "\n",
      "====================================================================================================\n",
      "Start to generate the clustering machine:\n",
      "Batch machine creation costs a total of 0.1375 seconds!\n",
      "\n",
      " Information about the content of ./tmp/\n",
      "\n",
      "Start to split data into train, test, validation:\n",
      "Data splitting costs a total of 0.2193 seconds!\n",
      "Start to store the batch machine file:\n",
      "Storing batch machine after training batches generation costs a total of 0.0316 seconds!\n",
      "\n",
      "====================================================================================================\n",
      "\n",
      "====================================================================================================\n",
      "Batch machine reading costs a total of 0.0377 seconds!\n",
      "Start to generate the training batches:\n",
      "Train batches production costs a total of 0.2791 seconds!\n",
      "\n",
      " Information about the content of ./train/\n",
      "File name: [ batch_1 ]; with size: 19725.1982421875 KB\n",
      "File name: [ batch_3 ]; with size: 19663.1279296875 KB\n",
      "File name: [ batch_0 ]; with size: 19650.9248046875 KB\n",
      "File name: [ batch_2 ]; with size: 19716.8076171875 KB\n",
      "\n",
      "====================================================================================================\n",
      "\n",
      "====================================================================================================\n",
      "Batch machine reading costs a total of 0.0898 seconds!\n",
      "Start to generate the validation batches:\n",
      "Validation batches production costs a total of 0.2783 seconds!\n",
      "\n",
      " Information about the content of ./validation/\n",
      "File name: [ batch_1 ]; with size: 19783.1435546875 KB\n",
      "File name: [ batch_3 ]; with size: 19720.8779296875 KB\n",
      "File name: [ batch_0 ]; with size: 19708.6435546875 KB\n",
      "File name: [ batch_2 ]; with size: 19774.7216796875 KB\n",
      "\n",
      "====================================================================================================\n",
      "Start checking train loss for partition num: 2 hop layer: 2\n",
      "\n",
      "====================================================================================================\n",
      "Start to generate the clustering machine:\n",
      "Batch machine creation costs a total of 0.1658 seconds!\n",
      "\n",
      " Information about the content of ./tmp/\n",
      "\n",
      "Start to split data into train, test, validation:\n",
      "Data splitting costs a total of 0.1735 seconds!\n",
      "Start to store the batch machine file:\n",
      "Storing batch machine after training batches generation costs a total of 0.0415 seconds!\n",
      "\n",
      "====================================================================================================\n",
      "\n",
      "====================================================================================================\n",
      "Batch machine reading costs a total of 0.0522 seconds!\n",
      "Start to generate the training batches:\n",
      "Train batches production costs a total of 0.2714 seconds!\n",
      "\n",
      " Information about the content of ./train/\n",
      "File name: [ batch_1 ]; with size: 19656.9091796875 KB\n",
      "File name: [ batch_3 ]; with size: 19565.0341796875 KB\n",
      "File name: [ batch_0 ]; with size: 19717.5576171875 KB\n",
      "File name: [ batch_2 ]; with size: 19808.6201171875 KB\n",
      "\n",
      "====================================================================================================\n",
      "\n",
      "====================================================================================================\n",
      "Batch machine reading costs a total of 0.0739 seconds!\n",
      "Start to generate the validation batches:\n",
      "Validation batches production costs a total of 0.2822 seconds!\n",
      "\n",
      " Information about the content of ./validation/\n",
      "File name: [ batch_1 ]; with size: 19714.6904296875 KB\n",
      "File name: [ batch_3 ]; with size: 19622.5263671875 KB\n",
      "File name: [ batch_0 ]; with size: 19775.4404296875 KB\n",
      "File name: [ batch_2 ]; with size: 19866.7919921875 KB\n",
      "\n",
      "====================================================================================================\n",
      "Start checking train loss for partition num: 2 hop layer: 3\n",
      "\n",
      "====================================================================================================\n",
      "Start to generate the clustering machine:\n",
      "Batch machine creation costs a total of 0.1681 seconds!\n",
      "\n",
      " Information about the content of ./tmp/\n",
      "\n",
      "Start to split data into train, test, validation:\n",
      "Data splitting costs a total of 0.1744 seconds!\n",
      "Start to store the batch machine file:\n",
      "Storing batch machine after training batches generation costs a total of 0.0426 seconds!\n",
      "\n",
      "====================================================================================================\n",
      "\n",
      "====================================================================================================\n",
      "Batch machine reading costs a total of 0.0537 seconds!\n",
      "Start to generate the training batches:\n",
      "Train batches production costs a total of 0.2833 seconds!\n",
      "\n",
      " Information about the content of ./train/\n",
      "File name: [ batch_1 ]; with size: 19732.0419921875 KB\n",
      "File name: [ batch_3 ]; with size: 19645.5810546875 KB\n",
      "File name: [ batch_0 ]; with size: 19642.4873046875 KB\n",
      "File name: [ batch_2 ]; with size: 19727.1044921875 KB\n",
      "\n",
      "====================================================================================================\n",
      "\n",
      "====================================================================================================\n",
      "Batch machine reading costs a total of 0.0734 seconds!\n",
      "Start to generate the validation batches:\n",
      "Validation batches production costs a total of 0.2893 seconds!\n",
      "\n",
      " Information about the content of ./validation/\n",
      "File name: [ batch_1 ]; with size: 19790.0263671875 KB\n",
      "File name: [ batch_3 ]; with size: 19703.2607421875 KB\n",
      "File name: [ batch_0 ]; with size: 19700.1669921875 KB\n",
      "File name: [ batch_2 ]; with size: 19785.0888671875 KB\n",
      "\n",
      "====================================================================================================\n",
      "Start checking train loss for partition num: 4 hop layer: 1\n",
      "\n",
      "====================================================================================================\n",
      "Start to generate the clustering machine:\n",
      "Batch machine creation costs a total of 0.1619 seconds!\n",
      "\n",
      " Information about the content of ./tmp/\n",
      "\n",
      "Start to split data into train, test, validation:\n",
      "Data splitting costs a total of 0.1736 seconds!\n",
      "Start to store the batch machine file:\n",
      "Storing batch machine after training batches generation costs a total of 0.0424 seconds!\n",
      "\n",
      "====================================================================================================\n",
      "\n",
      "====================================================================================================\n",
      "Batch machine reading costs a total of 0.0528 seconds!\n",
      "Start to generate the training batches:\n",
      "Train batches production costs a total of 0.2075 seconds!\n",
      "\n",
      " Information about the content of ./train/\n",
      "File name: [ batch_1 ]; with size: 9927.4091796875 KB\n",
      "File name: [ batch_7 ]; with size: 9743.5419921875 KB\n",
      "File name: [ batch_3 ]; with size: 9688.2060546875 KB\n",
      "File name: [ batch_4 ]; with size: 9756.9794921875 KB\n",
      "File name: [ batch_6 ]; with size: 9724.3154296875 KB\n",
      "File name: [ batch_0 ]; with size: 9767.9716796875 KB\n",
      "File name: [ batch_5 ]; with size: 9801.2763671875 KB\n",
      "File name: [ batch_2 ]; with size: 9649.9326171875 KB\n",
      "\n",
      "====================================================================================================\n",
      "\n",
      "====================================================================================================\n",
      "Batch machine reading costs a total of 0.0539 seconds!\n",
      "Start to generate the validation batches:\n",
      "Validation batches production costs a total of 0.2425 seconds!\n",
      "\n",
      " Information about the content of ./validation/\n",
      "File name: [ batch_1 ]; with size: 9956.8310546875 KB\n",
      "File name: [ batch_7 ]; with size: 9772.4404296875 KB\n",
      "File name: [ batch_3 ]; with size: 9716.9091796875 KB\n",
      "File name: [ batch_4 ]; with size: 9785.9091796875 KB\n",
      "File name: [ batch_6 ]; with size: 9753.1123046875 KB\n",
      "File name: [ batch_0 ]; with size: 9796.9013671875 KB\n",
      "File name: [ batch_5 ]; with size: 9830.3154296875 KB\n",
      "File name: [ batch_2 ]; with size: 9678.5419921875 KB\n",
      "\n",
      "====================================================================================================\n",
      "Start checking train loss for partition num: 4 hop layer: 2\n",
      "\n",
      "====================================================================================================\n",
      "Start to generate the clustering machine:\n",
      "Batch machine creation costs a total of 0.1666 seconds!\n",
      "\n",
      " Information about the content of ./tmp/\n",
      "\n",
      "Start to split data into train, test, validation:\n"
     ]
    },
    {
     "name": "stdout",
     "output_type": "stream",
     "text": [
      "Data splitting costs a total of 0.1725 seconds!\n",
      "Start to store the batch machine file:\n",
      "Storing batch machine after training batches generation costs a total of 0.0410 seconds!\n",
      "\n",
      "====================================================================================================\n",
      "\n",
      "====================================================================================================\n",
      "Batch machine reading costs a total of 0.0511 seconds!\n",
      "Start to generate the training batches:\n",
      "Train batches production costs a total of 0.1993 seconds!\n",
      "\n",
      " Information about the content of ./train/\n",
      "File name: [ batch_1 ]; with size: 9728.0263671875 KB\n",
      "File name: [ batch_7 ]; with size: 9748.1826171875 KB\n",
      "File name: [ batch_3 ]; with size: 9770.3232421875 KB\n",
      "File name: [ batch_4 ]; with size: 9764.9169921875 KB\n",
      "File name: [ batch_6 ]; with size: 9793.9404296875 KB\n",
      "File name: [ batch_0 ]; with size: 9759.6201171875 KB\n",
      "File name: [ batch_5 ]; with size: 9719.7919921875 KB\n",
      "File name: [ batch_2 ]; with size: 9769.1748046875 KB\n",
      "\n",
      "====================================================================================================\n",
      "\n",
      "====================================================================================================\n",
      "Batch machine reading costs a total of 0.0873 seconds!\n",
      "Start to generate the validation batches:\n",
      "Validation batches production costs a total of 0.2051 seconds!\n",
      "\n",
      " Information about the content of ./validation/\n",
      "File name: [ batch_1 ]; with size: 9756.8701171875 KB\n",
      "File name: [ batch_7 ]; with size: 9777.0966796875 KB\n",
      "File name: [ batch_3 ]; with size: 9799.2685546875 KB\n",
      "File name: [ batch_4 ]; with size: 9793.8623046875 KB\n",
      "File name: [ batch_6 ]; with size: 9822.9482421875 KB\n",
      "File name: [ batch_0 ]; with size: 9788.5498046875 KB\n",
      "File name: [ batch_5 ]; with size: 9748.5888671875 KB\n",
      "File name: [ batch_2 ]; with size: 9798.1201171875 KB\n",
      "\n",
      "====================================================================================================\n",
      "Start checking train loss for partition num: 4 hop layer: 3\n",
      "\n",
      "====================================================================================================\n",
      "Start to generate the clustering machine:\n",
      "Batch machine creation costs a total of 0.1653 seconds!\n",
      "\n",
      " Information about the content of ./tmp/\n",
      "\n",
      "Start to split data into train, test, validation:\n",
      "Data splitting costs a total of 0.1739 seconds!\n",
      "Start to store the batch machine file:\n",
      "Storing batch machine after training batches generation costs a total of 0.0431 seconds!\n",
      "\n",
      "====================================================================================================\n",
      "\n",
      "====================================================================================================\n",
      "Batch machine reading costs a total of 0.0526 seconds!\n",
      "Start to generate the training batches:\n",
      "Train batches production costs a total of 0.2042 seconds!\n",
      "\n",
      " Information about the content of ./train/\n",
      "File name: [ batch_1 ]; with size: 9633.5966796875 KB\n",
      "File name: [ batch_7 ]; with size: 9713.9873046875 KB\n",
      "File name: [ batch_3 ]; with size: 9807.9091796875 KB\n",
      "File name: [ batch_4 ]; with size: 9714.4091796875 KB\n",
      "File name: [ batch_6 ]; with size: 9753.4873046875 KB\n",
      "File name: [ batch_0 ]; with size: 9839.9169921875 KB\n",
      "File name: [ batch_5 ]; with size: 9847.1357421875 KB\n",
      "File name: [ batch_2 ]; with size: 9747.8466796875 KB\n",
      "\n",
      "====================================================================================================\n",
      "\n",
      "====================================================================================================\n",
      "Batch machine reading costs a total of 0.0907 seconds!\n",
      "Start to generate the validation batches:\n",
      "Validation batches production costs a total of 0.2047 seconds!\n",
      "\n",
      " Information about the content of ./validation/\n",
      "File name: [ batch_1 ]; with size: 9662.1435546875 KB\n",
      "File name: [ batch_7 ]; with size: 9742.7763671875 KB\n",
      "File name: [ batch_3 ]; with size: 9836.9638671875 KB\n",
      "File name: [ batch_4 ]; with size: 9743.1826171875 KB\n",
      "File name: [ batch_6 ]; with size: 9782.4013671875 KB\n",
      "File name: [ batch_0 ]; with size: 9869.0732421875 KB\n",
      "File name: [ batch_5 ]; with size: 9876.3232421875 KB\n",
      "File name: [ batch_2 ]; with size: 9776.7529296875 KB\n",
      "\n",
      "====================================================================================================\n",
      "Start checking train loss for partition num: 8 hop layer: 1\n",
      "\n",
      "====================================================================================================\n",
      "Start to generate the clustering machine:\n",
      "Batch machine creation costs a total of 0.1647 seconds!\n",
      "\n",
      " Information about the content of ./tmp/\n",
      "\n",
      "Start to split data into train, test, validation:\n",
      "Data splitting costs a total of 0.1734 seconds!\n",
      "Start to store the batch machine file:\n",
      "Storing batch machine after training batches generation costs a total of 0.0417 seconds!\n",
      "\n",
      "====================================================================================================\n",
      "\n",
      "====================================================================================================\n",
      "Batch machine reading costs a total of 0.0522 seconds!\n",
      "Start to generate the training batches:\n",
      "Train batches production costs a total of 0.1893 seconds!\n",
      "\n",
      " Information about the content of ./train/\n",
      "File name: [ batch_9 ]; with size: 4928.3134765625 KB\n",
      "File name: [ batch_1 ]; with size: 4866.5478515625 KB\n",
      "File name: [ batch_15 ]; with size: 4840.9228515625 KB\n",
      "File name: [ batch_8 ]; with size: 4867.4228515625 KB\n",
      "File name: [ batch_13 ]; with size: 4804.8212890625 KB\n",
      "File name: [ batch_11 ]; with size: 4819.2822265625 KB\n",
      "File name: [ batch_7 ]; with size: 4881.3603515625 KB\n",
      "File name: [ batch_3 ]; with size: 4772.9384765625 KB\n",
      "File name: [ batch_4 ]; with size: 4889.2041015625 KB\n",
      "File name: [ batch_6 ]; with size: 4884.0087890625 KB\n",
      "File name: [ batch_0 ]; with size: 4867.8291015625 KB\n",
      "File name: [ batch_5 ]; with size: 4852.4384765625 KB\n",
      "File name: [ batch_14 ]; with size: 4888.4697265625 KB\n",
      "File name: [ batch_10 ]; with size: 4870.8369140625 KB\n",
      "File name: [ batch_2 ]; with size: 4842.4384765625 KB\n",
      "File name: [ batch_12 ]; with size: 4841.3525390625 KB\n",
      "\n",
      "====================================================================================================\n",
      "\n",
      "====================================================================================================\n",
      "Batch machine reading costs a total of 0.0526 seconds!\n",
      "Start to generate the validation batches:\n",
      "Validation batches production costs a total of 0.1964 seconds!\n",
      "\n",
      " Information about the content of ./validation/\n",
      "File name: [ batch_9 ]; with size: 4942.9951171875 KB\n",
      "File name: [ batch_1 ]; with size: 4881.0263671875 KB\n",
      "File name: [ batch_15 ]; with size: 4855.3232421875 KB\n",
      "File name: [ batch_8 ]; with size: 4881.9091796875 KB\n",
      "File name: [ batch_13 ]; with size: 4819.1279296875 KB\n",
      "File name: [ batch_11 ]; with size: 4833.6201171875 KB\n",
      "File name: [ batch_7 ]; with size: 4895.8935546875 KB\n",
      "File name: [ batch_3 ]; with size: 4787.1513671875 KB\n",
      "File name: [ batch_4 ]; with size: 4903.7607421875 KB\n",
      "File name: [ batch_6 ]; with size: 4898.5576171875 KB\n",
      "File name: [ batch_0 ]; with size: 4882.3076171875 KB\n",
      "File name: [ batch_5 ]; with size: 4866.8857421875 KB\n",
      "File name: [ batch_14 ]; with size: 4903.0185546875 KB\n",
      "File name: [ batch_10 ]; with size: 4885.3466796875 KB\n",
      "File name: [ batch_2 ]; with size: 4856.8623046875 KB\n",
      "File name: [ batch_12 ]; with size: 4855.7607421875 KB\n",
      "\n",
      "====================================================================================================\n",
      "Start checking train loss for partition num: 8 hop layer: 2\n",
      "\n",
      "====================================================================================================\n",
      "Start to generate the clustering machine:\n",
      "Batch machine creation costs a total of 0.1593 seconds!\n",
      "\n",
      " Information about the content of ./tmp/\n",
      "\n",
      "Start to split data into train, test, validation:\n",
      "Data splitting costs a total of 0.1722 seconds!\n",
      "Start to store the batch machine file:\n",
      "Storing batch machine after training batches generation costs a total of 0.0420 seconds!\n",
      "\n",
      "====================================================================================================\n",
      "\n",
      "====================================================================================================\n",
      "Batch machine reading costs a total of 0.0516 seconds!\n",
      "Start to generate the training batches:\n"
     ]
    },
    {
     "name": "stdout",
     "output_type": "stream",
     "text": [
      "Train batches production costs a total of 0.1914 seconds!\n",
      "\n",
      " Information about the content of ./train/\n",
      "File name: [ batch_9 ]; with size: 4798.5947265625 KB\n",
      "File name: [ batch_1 ]; with size: 4816.2822265625 KB\n",
      "File name: [ batch_15 ]; with size: 4922.5322265625 KB\n",
      "File name: [ batch_8 ]; with size: 4830.8056640625 KB\n",
      "File name: [ batch_13 ]; with size: 4894.0166015625 KB\n",
      "File name: [ batch_11 ]; with size: 4820.5478515625 KB\n",
      "File name: [ batch_7 ]; with size: 4874.3291015625 KB\n",
      "File name: [ batch_3 ]; with size: 4852.4384765625 KB\n",
      "File name: [ batch_4 ]; with size: 4820.8212890625 KB\n",
      "File name: [ batch_6 ]; with size: 4857.3994140625 KB\n",
      "File name: [ batch_0 ]; with size: 4888.4697265625 KB\n",
      "File name: [ batch_5 ]; with size: 4862.3525390625 KB\n",
      "File name: [ batch_14 ]; with size: 4848.5869140625 KB\n",
      "File name: [ batch_10 ]; with size: 4904.8369140625 KB\n",
      "File name: [ batch_2 ]; with size: 4890.8603515625 KB\n",
      "File name: [ batch_12 ]; with size: 4840.9072265625 KB\n",
      "\n",
      "====================================================================================================\n",
      "\n",
      "====================================================================================================\n",
      "Batch machine reading costs a total of 0.0523 seconds!\n",
      "Start to generate the validation batches:\n",
      "Validation batches production costs a total of 0.2318 seconds!\n",
      "\n",
      " Information about the content of ./validation/\n",
      "File name: [ batch_9 ]; with size: 4812.8779296875 KB\n",
      "File name: [ batch_1 ]; with size: 4830.6201171875 KB\n",
      "File name: [ batch_15 ]; with size: 4937.1826171875 KB\n",
      "File name: [ batch_8 ]; with size: 4845.1826171875 KB\n",
      "File name: [ batch_13 ]; with size: 4908.5732421875 KB\n",
      "File name: [ batch_11 ]; with size: 4834.9013671875 KB\n",
      "File name: [ batch_7 ]; with size: 4888.8388671875 KB\n",
      "File name: [ batch_3 ]; with size: 4866.8857421875 KB\n",
      "File name: [ batch_4 ]; with size: 4835.1826171875 KB\n",
      "File name: [ batch_6 ]; with size: 4871.8466796875 KB\n",
      "File name: [ batch_0 ]; with size: 4903.0185546875 KB\n",
      "File name: [ batch_5 ]; with size: 4876.8154296875 KB\n",
      "File name: [ batch_14 ]; with size: 4863.0107421875 KB\n",
      "File name: [ batch_10 ]; with size: 4919.4482421875 KB\n",
      "File name: [ batch_2 ]; with size: 4905.4248046875 KB\n",
      "File name: [ batch_12 ]; with size: 4855.3310546875 KB\n",
      "\n",
      "====================================================================================================\n",
      "Start checking train loss for partition num: 8 hop layer: 3\n",
      "\n",
      "====================================================================================================\n",
      "Start to generate the clustering machine:\n",
      "Batch machine creation costs a total of 0.1267 seconds!\n",
      "\n",
      " Information about the content of ./tmp/\n",
      "\n",
      "Start to split data into train, test, validation:\n",
      "Data splitting costs a total of 0.1725 seconds!\n",
      "Start to store the batch machine file:\n",
      "Storing batch machine after training batches generation costs a total of 0.0419 seconds!\n",
      "\n",
      "====================================================================================================\n",
      "\n",
      "====================================================================================================\n",
      "Batch machine reading costs a total of 0.0882 seconds!\n",
      "Start to generate the training batches:\n",
      "Train batches production costs a total of 0.2017 seconds!\n",
      "\n",
      " Information about the content of ./train/\n",
      "File name: [ batch_9 ]; with size: 4974.0009765625 KB\n",
      "File name: [ batch_1 ]; with size: 4897.9306640625 KB\n",
      "File name: [ batch_15 ]; with size: 4915.9853515625 KB\n",
      "File name: [ batch_8 ]; with size: 4779.6728515625 KB\n",
      "File name: [ batch_13 ]; with size: 4824.5712890625 KB\n",
      "File name: [ batch_11 ]; with size: 4811.3056640625 KB\n",
      "File name: [ batch_7 ]; with size: 4831.1103515625 KB\n",
      "File name: [ batch_3 ]; with size: 4873.4306640625 KB\n",
      "File name: [ batch_4 ]; with size: 4823.3916015625 KB\n",
      "File name: [ batch_6 ]; with size: 4836.0322265625 KB\n",
      "File name: [ batch_0 ]; with size: 4884.0087890625 KB\n",
      "File name: [ batch_5 ]; with size: 4904.8369140625 KB\n",
      "File name: [ batch_14 ]; with size: 4848.2587890625 KB\n",
      "File name: [ batch_10 ]; with size: 4840.9228515625 KB\n",
      "File name: [ batch_2 ]; with size: 4811.1181640625 KB\n",
      "File name: [ batch_12 ]; with size: 4867.8291015625 KB\n",
      "\n",
      "====================================================================================================\n",
      "\n",
      "====================================================================================================\n",
      "Batch machine reading costs a total of 0.0525 seconds!\n",
      "Start to generate the validation batches:\n",
      "Validation batches production costs a total of 0.1956 seconds!\n",
      "\n",
      " Information about the content of ./validation/\n",
      "File name: [ batch_9 ]; with size: 4988.8076171875 KB\n",
      "File name: [ batch_1 ]; with size: 4912.5107421875 KB\n",
      "File name: [ batch_15 ]; with size: 4930.6279296875 KB\n",
      "File name: [ batch_8 ]; with size: 4793.9013671875 KB\n",
      "File name: [ batch_13 ]; with size: 4838.9326171875 KB\n",
      "File name: [ batch_11 ]; with size: 4825.6279296875 KB\n",
      "File name: [ batch_7 ]; with size: 4845.4873046875 KB\n",
      "File name: [ batch_3 ]; with size: 4887.9326171875 KB\n",
      "File name: [ batch_4 ]; with size: 4837.7451171875 KB\n",
      "File name: [ batch_6 ]; with size: 4850.4169921875 KB\n",
      "File name: [ batch_0 ]; with size: 4898.5576171875 KB\n",
      "File name: [ batch_5 ]; with size: 4919.4482421875 KB\n",
      "File name: [ batch_14 ]; with size: 4862.6982421875 KB\n",
      "File name: [ batch_10 ]; with size: 4855.3232421875 KB\n",
      "File name: [ batch_2 ]; with size: 4825.4404296875 KB\n",
      "File name: [ batch_12 ]; with size: 4882.3076171875 KB\n",
      "\n",
      "====================================================================================================\n"
     ]
    },
    {
     "data": {
      "text/plain": [
       "<Figure size 432x288 with 0 Axes>"
      ]
     },
     "metadata": {},
     "output_type": "display_data"
    },
    {
     "data": {
      "text/plain": [
       "<Figure size 432x288 with 0 Axes>"
      ]
     },
     "metadata": {},
     "output_type": "display_data"
    },
    {
     "data": {
      "text/plain": [
       "<Figure size 432x288 with 0 Axes>"
      ]
     },
     "metadata": {},
     "output_type": "display_data"
    },
    {
     "data": {
      "text/plain": [
       "<Figure size 432x288 with 0 Axes>"
      ]
     },
     "metadata": {},
     "output_type": "display_data"
    },
    {
     "data": {
      "text/plain": [
       "<Figure size 432x288 with 0 Axes>"
      ]
     },
     "metadata": {},
     "output_type": "display_data"
    },
    {
     "data": {
      "text/plain": [
       "<Figure size 432x288 with 0 Axes>"
      ]
     },
     "metadata": {},
     "output_type": "display_data"
    },
    {
     "data": {
      "text/plain": [
       "<Figure size 432x288 with 0 Axes>"
      ]
     },
     "metadata": {},
     "output_type": "display_data"
    },
    {
     "data": {
      "text/plain": [
       "<Figure size 432x288 with 0 Axes>"
      ]
     },
     "metadata": {},
     "output_type": "display_data"
    },
    {
     "data": {
      "text/plain": [
       "<Figure size 432x288 with 0 Axes>"
      ]
     },
     "metadata": {},
     "output_type": "display_data"
    },
    {
     "data": {
      "image/png": "[encoded data removed]",
      "text/plain": [
       "<Figure size 432x288 with 1 Axes>"
      ]
     },
     "metadata": {},
     "output_type": "display_data"
    }
   ],
   "source": [
    "# check training loss\n",
    "output_train_loss(data, data_name, dataset, image_data_path, intermediate_data_folder, partition_nums, layers, \\\n",
    "                  dropout = 0.3, lr = 0.0001, weight_decay = 0.001, mini_epoch_num = 20, valid_part_num = 2, mini_cluster_num = 16, round_num = 2)"
   ]
  },
  {
   "cell_type": "markdown",
   "metadata": {},
   "source": [
    "\n",
    "### Check in_train performance"
   ]
  },
  {
   "cell_type": "code",
   "execution_count": 20,
   "metadata": {},
   "outputs": [
    {
     "name": "stdout",
     "output_type": "stream",
     "text": [
      "Start running for partition num: 2 hop layer 1\n",
      "\n",
      "====================================================================================================\n",
      "Start to generate the clustering machine:\n",
      "Batch machine creation costs a total of 0.1688 seconds!\n",
      "\n",
      " Information about the content of ./tmp/\n",
      "\n",
      "Start to split data into train, test, validation:\n",
      "Data splitting costs a total of 0.1724 seconds!\n",
      "Start to store the batch machine file:\n",
      "Storing batch machine after training batches generation costs a total of 0.0408 seconds!\n",
      "\n",
      "====================================================================================================\n",
      "\n",
      "====================================================================================================\n",
      "Batch machine reading costs a total of 0.0509 seconds!\n",
      "Start to generate the training batches:\n",
      "Train batches production costs a total of 0.2789 seconds!\n",
      "\n",
      " Information about the content of ./train/\n",
      "File name: [ batch_1 ]; with size: 19690.0966796875 KB\n",
      "File name: [ batch_3 ]; with size: 19648.7373046875 KB\n",
      "File name: [ batch_0 ]; with size: 19679.9638671875 KB\n",
      "File name: [ batch_2 ]; with size: 19730.8544921875 KB\n",
      "\n",
      "====================================================================================================\n",
      "\n",
      "====================================================================================================\n",
      "Batch machine reading costs a total of 0.0735 seconds!\n",
      "Start to generate the validation batches:\n",
      "Validation batches production costs a total of 0.2870 seconds!\n",
      "\n",
      " Information about the content of ./validation/\n",
      "File name: [ batch_1 ]; with size: 19747.9794921875 KB\n",
      "File name: [ batch_3 ]; with size: 19706.4248046875 KB\n",
      "File name: [ batch_0 ]; with size: 19737.7451171875 KB\n",
      "File name: [ batch_2 ]; with size: 19788.8310546875 KB\n",
      "\n",
      "====================================================================================================\n",
      "In-process Training costs a total of 2.0410 seconds!\n",
      "In-process Training costs a total of 2.0144 seconds!\n",
      "In-process Training costs a total of 2.0369 seconds!\n",
      "In-process Training costs a total of 2.0139 seconds!\n",
      "In-process Training costs a total of 2.0942 seconds!\n",
      "In-process Training costs a total of 2.0606 seconds!\n",
      "In-process Training costs a total of 2.0624 seconds!\n",
      "Start running for partition num: 2 hop layer 2\n",
      "\n",
      "====================================================================================================\n",
      "Start to generate the clustering machine:\n",
      "Batch machine creation costs a total of 0.1723 seconds!\n",
      "\n",
      " Information about the content of ./tmp/\n",
      "\n",
      "Start to split data into train, test, validation:\n",
      "Data splitting costs a total of 0.1735 seconds!\n",
      "Start to store the batch machine file:\n",
      "Storing batch machine after training batches generation costs a total of 0.0422 seconds!\n",
      "\n",
      "====================================================================================================\n",
      "\n",
      "====================================================================================================\n",
      "Batch machine reading costs a total of 0.0525 seconds!\n",
      "Start to generate the training batches:\n",
      "Train batches production costs a total of 0.2908 seconds!\n",
      "\n",
      " Information about the content of ./train/\n",
      "File name: [ batch_1 ]; with size: 19513.2841796875 KB\n",
      "File name: [ batch_3 ]; with size: 19701.8857421875 KB\n",
      "File name: [ batch_0 ]; with size: 19859.3076171875 KB\n",
      "File name: [ batch_2 ]; with size: 19677.0498046875 KB\n",
      "\n",
      "====================================================================================================\n",
      "\n",
      "====================================================================================================\n",
      "Batch machine reading costs a total of 0.0795 seconds!\n",
      "Start to generate the validation batches:\n",
      "Validation batches production costs a total of 0.3042 seconds!\n",
      "\n",
      " Information about the content of ./validation/\n",
      "File name: [ batch_1 ]; with size: 19570.6123046875 KB\n",
      "File name: [ batch_3 ]; with size: 19759.7607421875 KB\n",
      "File name: [ batch_0 ]; with size: 19917.6435546875 KB\n",
      "File name: [ batch_2 ]; with size: 19734.8388671875 KB\n",
      "\n",
      "====================================================================================================\n",
      "In-process Training costs a total of 3.0420 seconds!\n",
      "In-process Training costs a total of 2.9983 seconds!\n",
      "In-process Training costs a total of 3.0537 seconds!\n",
      "In-process Training costs a total of 3.0011 seconds!\n",
      "In-process Training costs a total of 3.0424 seconds!\n",
      "In-process Training costs a total of 3.0178 seconds!\n",
      "In-process Training costs a total of 2.9994 seconds!\n",
      "Start running for partition num: 2 hop layer 3\n",
      "\n",
      "====================================================================================================\n",
      "Start to generate the clustering machine:\n",
      "Batch machine creation costs a total of 0.1701 seconds!\n",
      "\n",
      " Information about the content of ./tmp/\n",
      "\n",
      "Start to split data into train, test, validation:\n",
      "Data splitting costs a total of 0.1726 seconds!\n",
      "Start to store the batch machine file:\n",
      "Storing batch machine after training batches generation costs a total of 0.0420 seconds!\n",
      "\n",
      "====================================================================================================\n",
      "\n",
      "====================================================================================================\n",
      "Batch machine reading costs a total of 0.0522 seconds!\n",
      "Start to generate the training batches:\n",
      "Train batches production costs a total of 0.2815 seconds!\n",
      "\n",
      " Information about the content of ./train/\n",
      "File name: [ batch_1 ]; with size: 19800.6591796875 KB\n",
      "File name: [ batch_3 ]; with size: 19664.7138671875 KB\n",
      "File name: [ batch_0 ]; with size: 19570.8076171875 KB\n",
      "File name: [ batch_2 ]; with size: 19707.2216796875 KB\n",
      "\n",
      "====================================================================================================\n",
      "\n",
      "====================================================================================================\n",
      "Batch machine reading costs a total of 0.0382 seconds!\n",
      "Start to generate the validation batches:\n",
      "Validation batches production costs a total of 0.3264 seconds!\n",
      "\n",
      " Information about the content of ./validation/\n",
      "File name: [ batch_1 ]; with size: 19858.8544921875 KB\n",
      "File name: [ batch_3 ]; with size: 19722.5185546875 KB\n",
      "File name: [ batch_0 ]; with size: 19628.2763671875 KB\n",
      "File name: [ batch_2 ]; with size: 19765.0810546875 KB\n",
      "\n",
      "====================================================================================================\n",
      "In-process Training costs a total of 4.0298 seconds!\n",
      "In-process Training costs a total of 3.9412 seconds!\n",
      "In-process Training costs a total of 4.0212 seconds!\n",
      "In-process Training costs a total of 3.9900 seconds!\n",
      "In-process Training costs a total of 4.0543 seconds!\n",
      "In-process Training costs a total of 3.9930 seconds!\n",
      "In-process Training costs a total of 3.9513 seconds!\n",
      "Start running for partition num: 4 hop layer 1\n",
      "\n",
      "====================================================================================================\n",
      "Start to generate the clustering machine:\n",
      "Batch machine creation costs a total of 0.1710 seconds!\n",
      "\n",
      " Information about the content of ./tmp/\n",
      "\n",
      "Start to split data into train, test, validation:\n",
      "Data splitting costs a total of 0.1718 seconds!\n",
      "Start to store the batch machine file:\n",
      "Storing batch machine after training batches generation costs a total of 0.0422 seconds!\n",
      "\n",
      "====================================================================================================\n",
      "\n",
      "====================================================================================================\n",
      "Batch machine reading costs a total of 0.0522 seconds!\n",
      "Start to generate the training batches:\n",
      "Train batches production costs a total of 0.2047 seconds!\n",
      "\n",
      " Information about the content of ./train/\n",
      "File name: [ batch_1 ]; with size: 9729.4091796875 KB\n",
      "File name: [ batch_7 ]; with size: 9829.8857421875 KB\n",
      "File name: [ batch_3 ]; with size: 9723.7685546875 KB\n",
      "File name: [ batch_4 ]; with size: 9697.3623046875 KB\n",
      "File name: [ batch_6 ]; with size: 9734.8310546875 KB\n",
      "File name: [ batch_0 ]; with size: 9842.4326171875 KB\n",
      "File name: [ batch_5 ]; with size: 9767.5966796875 KB\n",
      "File name: [ batch_2 ]; with size: 9734.7216796875 KB\n",
      "\n",
      "====================================================================================================\n",
      "\n",
      "====================================================================================================\n",
      "Batch machine reading costs a total of 0.0909 seconds!\n",
      "Start to generate the validation batches:\n"
     ]
    },
    {
     "name": "stdout",
     "output_type": "stream",
     "text": [
      "Validation batches production costs a total of 0.2047 seconds!\n",
      "\n",
      " Information about the content of ./validation/\n",
      "File name: [ batch_1 ]; with size: 9758.2685546875 KB\n",
      "File name: [ batch_7 ]; with size: 9859.0107421875 KB\n",
      "File name: [ batch_3 ]; with size: 9752.5810546875 KB\n",
      "File name: [ batch_4 ]; with size: 9726.1044921875 KB\n",
      "File name: [ batch_6 ]; with size: 9763.6748046875 KB\n",
      "File name: [ batch_0 ]; with size: 9871.5732421875 KB\n",
      "File name: [ batch_5 ]; with size: 9796.5498046875 KB\n",
      "File name: [ batch_2 ]; with size: 9763.5732421875 KB\n",
      "\n",
      "====================================================================================================\n",
      "In-process Training costs a total of 3.4271 seconds!\n",
      "In-process Training costs a total of 3.4667 seconds!\n",
      "In-process Training costs a total of 3.4751 seconds!\n",
      "In-process Training costs a total of 3.4419 seconds!\n",
      "In-process Training costs a total of 3.4311 seconds!\n",
      "In-process Training costs a total of 3.4395 seconds!\n",
      "In-process Training costs a total of 3.4216 seconds!\n",
      "Start running for partition num: 4 hop layer 2\n",
      "\n",
      "====================================================================================================\n",
      "Start to generate the clustering machine:\n",
      "Batch machine creation costs a total of 0.1677 seconds!\n",
      "\n",
      " Information about the content of ./tmp/\n",
      "\n",
      "Start to split data into train, test, validation:\n",
      "Data splitting costs a total of 0.1686 seconds!\n",
      "Start to store the batch machine file:\n",
      "Storing batch machine after training batches generation costs a total of 0.0416 seconds!\n",
      "\n",
      "====================================================================================================\n",
      "\n",
      "====================================================================================================\n",
      "Batch machine reading costs a total of 0.0522 seconds!\n",
      "Start to generate the training batches:\n",
      "Train batches production costs a total of 0.2029 seconds!\n",
      "\n",
      " Information about the content of ./train/\n",
      "File name: [ batch_1 ]; with size: 9744.1513671875 KB\n",
      "File name: [ batch_7 ]; with size: 9824.9873046875 KB\n",
      "File name: [ batch_3 ]; with size: 9839.9248046875 KB\n",
      "File name: [ batch_4 ]; with size: 9690.6748046875 KB\n",
      "File name: [ batch_6 ]; with size: 9780.6748046875 KB\n",
      "File name: [ batch_0 ]; with size: 9746.8935546875 KB\n",
      "File name: [ batch_5 ]; with size: 9730.9638671875 KB\n",
      "File name: [ batch_2 ]; with size: 9701.6123046875 KB\n",
      "\n",
      "====================================================================================================\n",
      "\n",
      "====================================================================================================\n",
      "Batch machine reading costs a total of 0.0920 seconds!\n",
      "Start to generate the validation batches:\n",
      "Validation batches production costs a total of 0.2046 seconds!\n",
      "\n",
      " Information about the content of ./validation/\n",
      "File name: [ batch_1 ]; with size: 9773.0107421875 KB\n",
      "File name: [ batch_7 ]; with size: 9854.0810546875 KB\n",
      "File name: [ batch_3 ]; with size: 9869.0810546875 KB\n",
      "File name: [ batch_4 ]; with size: 9719.3857421875 KB\n",
      "File name: [ batch_6 ]; with size: 9809.6669921875 KB\n",
      "File name: [ batch_0 ]; with size: 9775.7841796875 KB\n",
      "File name: [ batch_5 ]; with size: 9759.8310546875 KB\n",
      "File name: [ batch_2 ]; with size: 9730.3701171875 KB\n",
      "\n",
      "====================================================================================================\n",
      "In-process Training costs a total of 4.8429 seconds!\n",
      "In-process Training costs a total of 4.8207 seconds!\n",
      "In-process Training costs a total of 4.8023 seconds!\n",
      "In-process Training costs a total of 4.7791 seconds!\n",
      "In-process Training costs a total of 4.8167 seconds!\n",
      "In-process Training costs a total of 4.8250 seconds!\n",
      "In-process Training costs a total of 4.7925 seconds!\n"
     ]
    },
    {
     "name": "stderr",
     "output_type": "stream",
     "text": [
      "/home/xiangli/anaconda3/envs/pytorch_geometric/lib/python3.7/site-packages/seaborn/axisgrid.py:311: RuntimeWarning: More than 20 figures have been opened. Figures created through the pyplot interface (`matplotlib.pyplot.figure`) are retained until explicitly closed and may consume too much memory. (To control this warning, see the rcParam `figure.max_open_warning`).\n",
      "  fig, axes = plt.subplots(nrow, ncol, **kwargs)\n"
     ]
    },
    {
     "name": "stdout",
     "output_type": "stream",
     "text": [
      "Start running for partition num: 4 hop layer 3\n",
      "\n",
      "====================================================================================================\n",
      "Start to generate the clustering machine:\n",
      "Batch machine creation costs a total of 0.2004 seconds!\n",
      "\n",
      " Information about the content of ./tmp/\n",
      "\n",
      "Start to split data into train, test, validation:\n",
      "Data splitting costs a total of 0.1748 seconds!\n",
      "Start to store the batch machine file:\n",
      "Storing batch machine after training batches generation costs a total of 0.0424 seconds!\n",
      "\n",
      "====================================================================================================\n",
      "\n",
      "====================================================================================================\n",
      "Batch machine reading costs a total of 0.0524 seconds!\n",
      "Start to generate the training batches:\n",
      "Train batches production costs a total of 0.3463 seconds!\n",
      "\n",
      " Information about the content of ./train/\n",
      "File name: [ batch_1 ]; with size: 9801.6201171875 KB\n",
      "File name: [ batch_7 ]; with size: 9839.9248046875 KB\n",
      "File name: [ batch_3 ]; with size: 9725.0419921875 KB\n",
      "File name: [ batch_4 ]; with size: 9706.6591796875 KB\n",
      "File name: [ batch_6 ]; with size: 9785.5029296875 KB\n",
      "File name: [ batch_0 ]; with size: 9764.4013671875 KB\n",
      "File name: [ batch_5 ]; with size: 9700.6201171875 KB\n",
      "File name: [ batch_2 ]; with size: 9735.9560546875 KB\n",
      "\n",
      "====================================================================================================\n",
      "\n",
      "====================================================================================================\n",
      "Batch machine reading costs a total of 0.0906 seconds!\n",
      "Start to generate the validation batches:\n",
      "Validation batches production costs a total of 0.3062 seconds!\n",
      "\n",
      " Information about the content of ./validation/\n",
      "File name: [ batch_1 ]; with size: 9830.6591796875 KB\n",
      "File name: [ batch_7 ]; with size: 9869.0810546875 KB\n",
      "File name: [ batch_3 ]; with size: 9753.8701171875 KB\n",
      "File name: [ batch_4 ]; with size: 9735.4248046875 KB\n",
      "File name: [ batch_6 ]; with size: 9814.5185546875 KB\n",
      "File name: [ batch_0 ]; with size: 9793.3623046875 KB\n",
      "File name: [ batch_5 ]; with size: 9729.3466796875 KB\n",
      "File name: [ batch_2 ]; with size: 9764.7919921875 KB\n",
      "\n",
      "====================================================================================================\n",
      "In-process Training costs a total of 6.2916 seconds!\n",
      "In-process Training costs a total of 6.2695 seconds!\n",
      "In-process Training costs a total of 6.2494 seconds!\n",
      "In-process Training costs a total of 6.2740 seconds!\n",
      "In-process Training costs a total of 6.2307 seconds!\n",
      "In-process Training costs a total of 6.2849 seconds!\n",
      "In-process Training costs a total of 6.2717 seconds!\n"
     ]
    },
    {
     "name": "stderr",
     "output_type": "stream",
     "text": [
      "/home/xiangli/anaconda3/envs/pytorch_geometric/lib/python3.7/site-packages/ipykernel_launcher.py:58: RuntimeWarning: More than 20 figures have been opened. Figures created through the pyplot interface (`matplotlib.pyplot.figure`) are retained until explicitly closed and may consume too much memory. (To control this warning, see the rcParam `figure.max_open_warning`).\n",
      "/home/xiangli/anaconda3/envs/pytorch_geometric/lib/python3.7/site-packages/seaborn/axisgrid.py:311: RuntimeWarning: More than 20 figures have been opened. Figures created through the pyplot interface (`matplotlib.pyplot.figure`) are retained until explicitly closed and may consume too much memory. (To control this warning, see the rcParam `figure.max_open_warning`).\n",
      "  fig, axes = plt.subplots(nrow, ncol, **kwargs)\n",
      "/home/xiangli/anaconda3/envs/pytorch_geometric/lib/python3.7/site-packages/ipykernel_launcher.py:58: RuntimeWarning: More than 20 figures have been opened. Figures created through the pyplot interface (`matplotlib.pyplot.figure`) are retained until explicitly closed and may consume too much memory. (To control this warning, see the rcParam `figure.max_open_warning`).\n",
      "/home/xiangli/anaconda3/envs/pytorch_geometric/lib/python3.7/site-packages/seaborn/axisgrid.py:311: RuntimeWarning: More than 20 figures have been opened. Figures created through the pyplot interface (`matplotlib.pyplot.figure`) are retained until explicitly closed and may consume too much memory. (To control this warning, see the rcParam `figure.max_open_warning`).\n",
      "  fig, axes = plt.subplots(nrow, ncol, **kwargs)\n"
     ]
    },
    {
     "name": "stdout",
     "output_type": "stream",
     "text": [
      "Start running for partition num: 8 hop layer 1\n",
      "\n",
      "====================================================================================================\n",
      "Start to generate the clustering machine:\n",
      "Batch machine creation costs a total of 0.1708 seconds!\n",
      "\n",
      " Information about the content of ./tmp/\n",
      "\n",
      "Start to split data into train, test, validation:\n",
      "Data splitting costs a total of 0.1734 seconds!\n",
      "Start to store the batch machine file:\n",
      "Storing batch machine after training batches generation costs a total of 0.0420 seconds!\n",
      "\n",
      "====================================================================================================\n",
      "\n",
      "====================================================================================================\n",
      "Batch machine reading costs a total of 0.0513 seconds!\n",
      "Start to generate the training batches:\n",
      "Train batches production costs a total of 0.1896 seconds!\n",
      "\n",
      " Information about the content of ./train/\n",
      "File name: [ batch_9 ]; with size: 4874.6025390625 KB\n",
      "File name: [ batch_1 ]; with size: 4797.9462890625 KB\n",
      "File name: [ batch_15 ]; with size: 4840.9228515625 KB\n",
      "File name: [ batch_8 ]; with size: 4948.5322265625 KB\n",
      "File name: [ batch_13 ]; with size: 4832.6259765625 KB\n",
      "File name: [ batch_11 ]; with size: 4919.2978515625 KB\n",
      "File name: [ batch_7 ]; with size: 4867.3212890625 KB\n",
      "File name: [ batch_3 ]; with size: 4874.4541015625 KB\n",
      "File name: [ batch_4 ]; with size: 4852.5712890625 KB\n",
      "File name: [ batch_6 ]; with size: 4884.0087890625 KB\n",
      "File name: [ batch_0 ]; with size: 4881.3603515625 KB\n",
      "File name: [ batch_5 ]; with size: 4911.0087890625 KB\n",
      "File name: [ batch_14 ]; with size: 4816.2587890625 KB\n",
      "File name: [ batch_10 ]; with size: 4831.1103515625 KB\n",
      "File name: [ batch_2 ]; with size: 4789.2509765625 KB\n",
      "File name: [ batch_12 ]; with size: 4797.9462890625 KB\n",
      "\n",
      "====================================================================================================\n",
      "\n",
      "====================================================================================================\n",
      "Batch machine reading costs a total of 0.0526 seconds!\n",
      "Start to generate the validation batches:\n",
      "Validation batches production costs a total of 0.2329 seconds!\n",
      "\n",
      " Information about the content of ./validation/\n",
      "File name: [ batch_9 ]; with size: 4889.1201171875 KB\n",
      "File name: [ batch_1 ]; with size: 4812.2294921875 KB\n",
      "File name: [ batch_15 ]; with size: 4855.3232421875 KB\n",
      "File name: [ batch_8 ]; with size: 4963.2607421875 KB\n",
      "File name: [ batch_13 ]; with size: 4847.0263671875 KB\n",
      "File name: [ batch_11 ]; with size: 4933.9326171875 KB\n",
      "File name: [ batch_7 ]; with size: 4881.8076171875 KB\n",
      "File name: [ batch_3 ]; with size: 4888.9638671875 KB\n",
      "File name: [ batch_4 ]; with size: 4867.0107421875 KB\n",
      "File name: [ batch_6 ]; with size: 4898.5576171875 KB\n",
      "File name: [ batch_0 ]; with size: 4895.8935546875 KB\n",
      "File name: [ batch_5 ]; with size: 4925.6279296875 KB\n",
      "File name: [ batch_14 ]; with size: 4830.5966796875 KB\n",
      "File name: [ batch_10 ]; with size: 4845.4873046875 KB\n",
      "File name: [ batch_2 ]; with size: 4803.5107421875 KB\n",
      "File name: [ batch_12 ]; with size: 4812.2294921875 KB\n",
      "\n",
      "====================================================================================================\n",
      "In-process Training costs a total of 6.6229 seconds!\n",
      "In-process Training costs a total of 6.6385 seconds!\n",
      "In-process Training costs a total of 6.6061 seconds!\n",
      "In-process Training costs a total of 6.6460 seconds!\n",
      "In-process Training costs a total of 6.6091 seconds!\n",
      "In-process Training costs a total of 6.6057 seconds!\n",
      "In-process Training costs a total of 6.5993 seconds!\n"
     ]
    },
    {
     "name": "stderr",
     "output_type": "stream",
     "text": [
      "/home/xiangli/anaconda3/envs/pytorch_geometric/lib/python3.7/site-packages/ipykernel_launcher.py:58: RuntimeWarning: More than 20 figures have been opened. Figures created through the pyplot interface (`matplotlib.pyplot.figure`) are retained until explicitly closed and may consume too much memory. (To control this warning, see the rcParam `figure.max_open_warning`).\n",
      "/home/xiangli/anaconda3/envs/pytorch_geometric/lib/python3.7/site-packages/seaborn/axisgrid.py:311: RuntimeWarning: More than 20 figures have been opened. Figures created through the pyplot interface (`matplotlib.pyplot.figure`) are retained until explicitly closed and may consume too much memory. (To control this warning, see the rcParam `figure.max_open_warning`).\n",
      "  fig, axes = plt.subplots(nrow, ncol, **kwargs)\n",
      "/home/xiangli/anaconda3/envs/pytorch_geometric/lib/python3.7/site-packages/ipykernel_launcher.py:58: RuntimeWarning: More than 20 figures have been opened. Figures created through the pyplot interface (`matplotlib.pyplot.figure`) are retained until explicitly closed and may consume too much memory. (To control this warning, see the rcParam `figure.max_open_warning`).\n",
      "/home/xiangli/anaconda3/envs/pytorch_geometric/lib/python3.7/site-packages/seaborn/axisgrid.py:311: RuntimeWarning: More than 20 figures have been opened. Figures created through the pyplot interface (`matplotlib.pyplot.figure`) are retained until explicitly closed and may consume too much memory. (To control this warning, see the rcParam `figure.max_open_warning`).\n",
      "  fig, axes = plt.subplots(nrow, ncol, **kwargs)\n"
     ]
    },
    {
     "name": "stdout",
     "output_type": "stream",
     "text": [
      "Start running for partition num: 8 hop layer 2\n",
      "\n",
      "====================================================================================================\n",
      "Start to generate the clustering machine:\n",
      "Batch machine creation costs a total of 0.1324 seconds!\n",
      "\n",
      " Information about the content of ./tmp/\n",
      "\n",
      "Start to split data into train, test, validation:\n",
      "Data splitting costs a total of 0.2228 seconds!\n",
      "Start to store the batch machine file:\n",
      "Storing batch machine after training batches generation costs a total of 0.0417 seconds!\n",
      "\n",
      "====================================================================================================\n",
      "\n",
      "====================================================================================================\n",
      "Batch machine reading costs a total of 0.0515 seconds!\n",
      "Start to generate the training batches:\n",
      "Train batches production costs a total of 0.1947 seconds!\n",
      "\n",
      " Information about the content of ./train/\n",
      "File name: [ batch_9 ]; with size: 4847.5791015625 KB\n",
      "File name: [ batch_1 ]; with size: 4864.7275390625 KB\n",
      "File name: [ batch_15 ]; with size: 4840.6337890625 KB\n",
      "File name: [ batch_8 ]; with size: 4925.0009765625 KB\n",
      "File name: [ batch_13 ]; with size: 4897.9306640625 KB\n",
      "File name: [ batch_11 ]; with size: 4826.8447265625 KB\n",
      "File name: [ batch_7 ]; with size: 4861.1650390625 KB\n",
      "File name: [ batch_3 ]; with size: 4820.8681640625 KB\n",
      "File name: [ batch_4 ]; with size: 4943.1181640625 KB\n",
      "File name: [ batch_6 ]; with size: 4841.3525390625 KB\n",
      "File name: [ batch_0 ]; with size: 4820.8212890625 KB\n",
      "File name: [ batch_5 ]; with size: 4850.2275390625 KB\n",
      "File name: [ batch_14 ]; with size: 4880.2119140625 KB\n",
      "File name: [ batch_10 ]; with size: 4819.2822265625 KB\n",
      "File name: [ batch_2 ]; with size: 4858.4541015625 KB\n",
      "File name: [ batch_12 ]; with size: 4825.4072265625 KB\n",
      "\n",
      "====================================================================================================\n",
      "\n",
      "====================================================================================================\n",
      "Batch machine reading costs a total of 0.0528 seconds!\n",
      "Start to generate the validation batches:\n",
      "Validation batches production costs a total of 0.1938 seconds!\n",
      "\n",
      " Information about the content of ./validation/\n",
      "File name: [ batch_9 ]; with size: 4862.0185546875 KB\n",
      "File name: [ batch_1 ]; with size: 4879.2216796875 KB\n",
      "File name: [ batch_15 ]; with size: 4855.0419921875 KB\n",
      "File name: [ batch_8 ]; with size: 4939.6513671875 KB\n",
      "File name: [ batch_13 ]; with size: 4912.5107421875 KB\n",
      "File name: [ batch_11 ]; with size: 4841.2138671875 KB\n",
      "File name: [ batch_7 ]; with size: 4875.6279296875 KB\n",
      "File name: [ batch_3 ]; with size: 4835.2216796875 KB\n",
      "File name: [ batch_4 ]; with size: 4957.8232421875 KB\n",
      "File name: [ batch_6 ]; with size: 4855.7607421875 KB\n",
      "File name: [ batch_0 ]; with size: 4835.1826171875 KB\n",
      "File name: [ batch_5 ]; with size: 4864.6669921875 KB\n",
      "File name: [ batch_14 ]; with size: 4894.7451171875 KB\n",
      "File name: [ batch_10 ]; with size: 4833.6201171875 KB\n",
      "File name: [ batch_2 ]; with size: 4872.9091796875 KB\n",
      "File name: [ batch_12 ]; with size: 4839.7685546875 KB\n",
      "\n",
      "====================================================================================================\n",
      "In-process Training costs a total of 9.7949 seconds!\n",
      "In-process Training costs a total of 9.8287 seconds!\n",
      "In-process Training costs a total of 9.8123 seconds!\n",
      "In-process Training costs a total of 9.7837 seconds!\n",
      "In-process Training costs a total of 9.8443 seconds!\n",
      "In-process Training costs a total of 9.8229 seconds!\n",
      "In-process Training costs a total of 9.8102 seconds!\n"
     ]
    },
    {
     "name": "stderr",
     "output_type": "stream",
     "text": [
      "/home/xiangli/anaconda3/envs/pytorch_geometric/lib/python3.7/site-packages/ipykernel_launcher.py:58: RuntimeWarning: More than 20 figures have been opened. Figures created through the pyplot interface (`matplotlib.pyplot.figure`) are retained until explicitly closed and may consume too much memory. (To control this warning, see the rcParam `figure.max_open_warning`).\n",
      "/home/xiangli/anaconda3/envs/pytorch_geometric/lib/python3.7/site-packages/seaborn/axisgrid.py:311: RuntimeWarning: More than 20 figures have been opened. Figures created through the pyplot interface (`matplotlib.pyplot.figure`) are retained until explicitly closed and may consume too much memory. (To control this warning, see the rcParam `figure.max_open_warning`).\n",
      "  fig, axes = plt.subplots(nrow, ncol, **kwargs)\n",
      "/home/xiangli/anaconda3/envs/pytorch_geometric/lib/python3.7/site-packages/ipykernel_launcher.py:58: RuntimeWarning: More than 20 figures have been opened. Figures created through the pyplot interface (`matplotlib.pyplot.figure`) are retained until explicitly closed and may consume too much memory. (To control this warning, see the rcParam `figure.max_open_warning`).\n",
      "/home/xiangli/anaconda3/envs/pytorch_geometric/lib/python3.7/site-packages/seaborn/axisgrid.py:311: RuntimeWarning: More than 20 figures have been opened. Figures created through the pyplot interface (`matplotlib.pyplot.figure`) are retained until explicitly closed and may consume too much memory. (To control this warning, see the rcParam `figure.max_open_warning`).\n",
      "  fig, axes = plt.subplots(nrow, ncol, **kwargs)\n"
     ]
    },
    {
     "name": "stdout",
     "output_type": "stream",
     "text": [
      "Start running for partition num: 8 hop layer 3\n",
      "\n",
      "====================================================================================================\n",
      "Start to generate the clustering machine:\n",
      "Batch machine creation costs a total of 0.1667 seconds!\n",
      "\n",
      " Information about the content of ./tmp/\n",
      "\n",
      "Start to split data into train, test, validation:\n",
      "Data splitting costs a total of 0.1726 seconds!\n",
      "Start to store the batch machine file:\n",
      "Storing batch machine after training batches generation costs a total of 0.0413 seconds!\n",
      "\n",
      "====================================================================================================\n",
      "\n",
      "====================================================================================================\n",
      "Batch machine reading costs a total of 0.0512 seconds!\n",
      "Start to generate the training batches:\n",
      "Train batches production costs a total of 0.1974 seconds!\n",
      "\n",
      " Information about the content of ./train/\n",
      "File name: [ batch_9 ]; with size: 4820.5478515625 KB\n",
      "File name: [ batch_1 ]; with size: 4805.9462890625 KB\n",
      "File name: [ batch_15 ]; with size: 4862.4697265625 KB\n",
      "File name: [ batch_8 ]; with size: 4789.2509765625 KB\n",
      "File name: [ batch_13 ]; with size: 4840.9072265625 KB\n",
      "File name: [ batch_11 ]; with size: 4824.5712890625 KB\n",
      "File name: [ batch_7 ]; with size: 4852.4384765625 KB\n",
      "File name: [ batch_3 ]; with size: 4897.9306640625 KB\n",
      "File name: [ batch_4 ]; with size: 4881.3603515625 KB\n",
      "File name: [ batch_6 ]; with size: 4861.1650390625 KB\n",
      "File name: [ batch_0 ]; with size: 4911.1962890625 KB\n",
      "File name: [ batch_5 ]; with size: 4809.8369140625 KB\n",
      "File name: [ batch_14 ]; with size: 4943.1181640625 KB\n",
      "File name: [ batch_10 ]; with size: 4872.0947265625 KB\n",
      "File name: [ batch_2 ]; with size: 4841.6103515625 KB\n",
      "File name: [ batch_12 ]; with size: 4904.8369140625 KB\n",
      "\n",
      "====================================================================================================\n",
      "\n",
      "====================================================================================================\n",
      "Batch machine reading costs a total of 0.0897 seconds!\n",
      "Start to generate the validation batches:\n",
      "Validation batches production costs a total of 0.1947 seconds!\n",
      "\n",
      " Information about the content of ./validation/\n",
      "File name: [ batch_9 ]; with size: 4834.9013671875 KB\n",
      "File name: [ batch_1 ]; with size: 4820.2607421875 KB\n",
      "File name: [ batch_15 ]; with size: 4876.9404296875 KB\n",
      "File name: [ batch_8 ]; with size: 4803.5107421875 KB\n",
      "File name: [ batch_13 ]; with size: 4855.3310546875 KB\n",
      "File name: [ batch_11 ]; with size: 4838.9326171875 KB\n",
      "File name: [ batch_7 ]; with size: 4866.8857421875 KB\n",
      "File name: [ batch_3 ]; with size: 4912.5107421875 KB\n",
      "File name: [ batch_4 ]; with size: 4895.8935546875 KB\n",
      "File name: [ batch_6 ]; with size: 4875.6279296875 KB\n",
      "File name: [ batch_0 ]; with size: 4925.8154296875 KB\n",
      "File name: [ batch_5 ]; with size: 4824.1513671875 KB\n",
      "File name: [ batch_14 ]; with size: 4957.8232421875 KB\n",
      "File name: [ batch_10 ]; with size: 4886.5888671875 KB\n",
      "File name: [ batch_2 ]; with size: 4856.0185546875 KB\n",
      "File name: [ batch_12 ]; with size: 4919.4482421875 KB\n",
      "\n",
      "====================================================================================================\n",
      "In-process Training costs a total of 12.9240 seconds!\n",
      "In-process Training costs a total of 12.9246 seconds!\n",
      "In-process Training costs a total of 12.8466 seconds!\n",
      "In-process Training costs a total of 12.8700 seconds!\n",
      "In-process Training costs a total of 12.8690 seconds!\n",
      "In-process Training costs a total of 12.9519 seconds!\n",
      "In-process Training costs a total of 12.8950 seconds!\n"
     ]
    },
    {
     "name": "stderr",
     "output_type": "stream",
     "text": [
      "/home/xiangli/anaconda3/envs/pytorch_geometric/lib/python3.7/site-packages/ipykernel_launcher.py:58: RuntimeWarning: More than 20 figures have been opened. Figures created through the pyplot interface (`matplotlib.pyplot.figure`) are retained until explicitly closed and may consume too much memory. (To control this warning, see the rcParam `figure.max_open_warning`).\n",
      "/home/xiangli/anaconda3/envs/pytorch_geometric/lib/python3.7/site-packages/seaborn/axisgrid.py:311: RuntimeWarning: More than 20 figures have been opened. Figures created through the pyplot interface (`matplotlib.pyplot.figure`) are retained until explicitly closed and may consume too much memory. (To control this warning, see the rcParam `figure.max_open_warning`).\n",
      "  fig, axes = plt.subplots(nrow, ncol, **kwargs)\n",
      "/home/xiangli/anaconda3/envs/pytorch_geometric/lib/python3.7/site-packages/ipykernel_launcher.py:58: RuntimeWarning: More than 20 figures have been opened. Figures created through the pyplot interface (`matplotlib.pyplot.figure`) are retained until explicitly closed and may consume too much memory. (To control this warning, see the rcParam `figure.max_open_warning`).\n",
      "/home/xiangli/anaconda3/envs/pytorch_geometric/lib/python3.7/site-packages/seaborn/axisgrid.py:311: RuntimeWarning: More than 20 figures have been opened. Figures created through the pyplot interface (`matplotlib.pyplot.figure`) are retained until explicitly closed and may consume too much memory. (To control this warning, see the rcParam `figure.max_open_warning`).\n",
      "  fig, axes = plt.subplots(nrow, ncol, **kwargs)\n"
     ]
    },
    {
     "data": {
      "text/plain": [
       "<Figure size 432x288 with 0 Axes>"
      ]
     },
     "metadata": {},
     "output_type": "display_data"
    },
    {
     "data": {
      "text/plain": [
       "<Figure size 432x288 with 0 Axes>"
      ]
     },
     "metadata": {},
     "output_type": "display_data"
    },
    {
     "data": {
      "text/plain": [
       "<Figure size 360x360 with 0 Axes>"
      ]
     },
     "metadata": {},
     "output_type": "display_data"
    },
    {
     "data": {
      "text/plain": [
       "<Figure size 432x288 with 0 Axes>"
      ]
     },
     "metadata": {},
     "output_type": "display_data"
    },
    {
     "data": {
      "text/plain": [
       "<Figure size 360x360 with 0 Axes>"
      ]
     },
     "metadata": {},
     "output_type": "display_data"
    },
    {
     "data": {
      "text/plain": [
       "<Figure size 432x288 with 0 Axes>"
      ]
     },
     "metadata": {},
     "output_type": "display_data"
    },
    {
     "data": {
      "text/plain": [
       "<Figure size 360x360 with 0 Axes>"
      ]
     },
     "metadata": {},
     "output_type": "display_data"
    },
    {
     "data": {
      "text/plain": [
       "<Figure size 432x288 with 0 Axes>"
      ]
     },
     "metadata": {},
     "output_type": "display_data"
    },
    {
     "data": {
      "text/plain": [
       "<Figure size 360x360 with 0 Axes>"
      ]
     },
     "metadata": {},
     "output_type": "display_data"
    },
    {
     "data": {
      "text/plain": [
       "<Figure size 432x288 with 0 Axes>"
      ]
     },
     "metadata": {},
     "output_type": "display_data"
    },
    {
     "data": {
      "text/plain": [
       "<Figure size 360x360 with 0 Axes>"
      ]
     },
     "metadata": {},
     "output_type": "display_data"
    },
    {
     "data": {
      "text/plain": [
       "<Figure size 432x288 with 0 Axes>"
      ]
     },
     "metadata": {},
     "output_type": "display_data"
    },
    {
     "data": {
      "text/plain": [
       "<Figure size 360x360 with 0 Axes>"
      ]
     },
     "metadata": {},
     "output_type": "display_data"
    },
    {
     "data": {
      "text/plain": [
       "<Figure size 432x288 with 0 Axes>"
      ]
     },
     "metadata": {},
     "output_type": "display_data"
    },
    {
     "data": {
      "text/plain": [
       "<Figure size 360x360 with 0 Axes>"
      ]
     },
     "metadata": {},
     "output_type": "display_data"
    },
    {
     "data": {
      "text/plain": [
       "<Figure size 432x288 with 0 Axes>"
      ]
     },
     "metadata": {},
     "output_type": "display_data"
    },
    {
     "data": {
      "text/plain": [
       "<Figure size 360x360 with 0 Axes>"
      ]
     },
     "metadata": {},
     "output_type": "display_data"
    },
    {
     "data": {
      "text/plain": [
       "<Figure size 432x288 with 0 Axes>"
      ]
     },
     "metadata": {},
     "output_type": "display_data"
    },
    {
     "data": {
      "text/plain": [
       "<Figure size 360x360 with 0 Axes>"
      ]
     },
     "metadata": {},
     "output_type": "display_data"
    },
    {
     "data": {
      "text/plain": [
       "<Figure size 432x288 with 0 Axes>"
      ]
     },
     "metadata": {},
     "output_type": "display_data"
    },
    {
     "data": {
      "text/plain": [
       "<Figure size 360x360 with 0 Axes>"
      ]
     },
     "metadata": {},
     "output_type": "display_data"
    },
    {
     "data": {
      "text/plain": [
       "<Figure size 432x288 with 0 Axes>"
      ]
     },
     "metadata": {},
     "output_type": "display_data"
    },
    {
     "data": {
      "text/plain": [
       "<Figure size 360x360 with 0 Axes>"
      ]
     },
     "metadata": {},
     "output_type": "display_data"
    },
    {
     "data": {
      "text/plain": [
       "<Figure size 432x288 with 0 Axes>"
      ]
     },
     "metadata": {},
     "output_type": "display_data"
    },
    {
     "data": {
      "text/plain": [
       "<Figure size 360x360 with 0 Axes>"
      ]
     },
     "metadata": {},
     "output_type": "display_data"
    },
    {
     "data": {
      "text/plain": [
       "<Figure size 432x288 with 0 Axes>"
      ]
     },
     "metadata": {},
     "output_type": "display_data"
    },
    {
     "data": {
      "text/plain": [
       "<Figure size 360x360 with 0 Axes>"
      ]
     },
     "metadata": {},
     "output_type": "display_data"
    },
    {
     "data": {
      "text/plain": [
       "<Figure size 432x288 with 0 Axes>"
      ]
     },
     "metadata": {},
     "output_type": "display_data"
    },
    {
     "data": {
      "text/plain": [
       "<Figure size 360x360 with 0 Axes>"
      ]
     },
     "metadata": {},
     "output_type": "display_data"
    },
    {
     "data": {
      "text/plain": [
       "<Figure size 432x288 with 0 Axes>"
      ]
     },
     "metadata": {},
     "output_type": "display_data"
    },
    {
     "data": {
      "text/plain": [
       "<Figure size 360x360 with 0 Axes>"
      ]
     },
     "metadata": {},
     "output_type": "display_data"
    },
    {
     "data": {
      "text/plain": [
       "<Figure size 432x288 with 0 Axes>"
      ]
     },
     "metadata": {},
     "output_type": "display_data"
    },
    {
     "data": {
      "text/plain": [
       "<Figure size 360x360 with 0 Axes>"
      ]
     },
     "metadata": {},
     "output_type": "display_data"
    },
    {
     "data": {
      "text/plain": [
       "<Figure size 432x288 with 0 Axes>"
      ]
     },
     "metadata": {},
     "output_type": "display_data"
    },
    {
     "data": {
      "text/plain": [
       "<Figure size 360x360 with 0 Axes>"
      ]
     },
     "metadata": {},
     "output_type": "display_data"
    },
    {
     "data": {
      "text/plain": [
       "<Figure size 432x288 with 0 Axes>"
      ]
     },
     "metadata": {},
     "output_type": "display_data"
    },
    {
     "data": {
      "image/png": "[encoded data removed]",
      "text/plain": [
       "<Figure size 360x360 with 1 Axes>"
      ]
     },
     "metadata": {},
     "output_type": "display_data"
    }
   ],
   "source": [
    "\n",
    "output_train_investigate(data, data_name, dataset, image_data_path, intermediate_data_folder, partition_nums, layers, \\\n",
    "                         dropout = 0.1, lr = 0.0001, weight_decay = 0.001, mini_epoch_num = 20, output_period = 40, \\\n",
    "                         valid_part_num = 2, mini_cluster_num = 16, round_num = 2)"
   ]
  },
  {
   "cell_type": "markdown",
   "metadata": {},
   "source": [
    "### Output_F1"
   ]
  },
  {
   "cell_type": "code",
   "execution_count": null,
   "metadata": {},
   "outputs": [
    {
     "name": "stdout",
     "output_type": "stream",
     "text": [
      "Start running for partition num: 2 hop layer 1\n",
      "\n",
      "====================================================================================================\n",
      "Start to generate the clustering machine:\n",
      "Batch machine creation costs a total of 0.2043 seconds!\n",
      "\n",
      " Information about the content of ./tmp/\n",
      "\n",
      "Start to split data into train, test, validation:\n",
      "Data splitting costs a total of 0.2018 seconds!\n",
      "Start to store the batch machine file:\n",
      "Storing batch machine after training batches generation costs a total of 0.4779 seconds!\n",
      "\n",
      "====================================================================================================\n",
      "\n",
      "====================================================================================================\n",
      "Batch machine reading costs a total of 0.6452 seconds!\n",
      "Start to generate the training batches:\n",
      "Train batches production costs a total of 9.3198 seconds!\n",
      "\n",
      " Information about the content of ./train/\n",
      "File name: [ batch_1 ]; with size: 340926.7939453125 KB\n",
      "File name: [ batch_3 ]; with size: 333775.9501953125 KB\n",
      "File name: [ batch_0 ]; with size: 333725.5419921875 KB\n",
      "File name: [ batch_2 ]; with size: 340877.2626953125 KB\n",
      "\n",
      "====================================================================================================\n",
      "\n",
      "====================================================================================================\n",
      "Batch machine reading costs a total of 0.6858 seconds!\n",
      "Start to generate the validation batches:\n",
      "Validation batches production costs a total of 13.5641 seconds!\n",
      "\n",
      " Information about the content of ./validation/\n",
      "File name: [ batch_1 ]; with size: 340985.4423828125 KB\n",
      "File name: [ batch_3 ]; with size: 333833.3720703125 KB\n",
      "File name: [ batch_0 ]; with size: 333782.9638671875 KB\n",
      "File name: [ batch_2 ]; with size: 340935.9111328125 KB\n",
      "\n",
      "====================================================================================================\n",
      "Start running for partition num: 2 hop layer 2\n",
      "\n",
      "====================================================================================================\n",
      "Start to generate the clustering machine:\n",
      "Batch machine creation costs a total of 0.2025 seconds!\n",
      "\n",
      " Information about the content of ./tmp/\n",
      "\n",
      "Start to split data into train, test, validation:\n",
      "Data splitting costs a total of 0.2012 seconds!\n",
      "Start to store the batch machine file:\n",
      "Storing batch machine after training batches generation costs a total of 0.4768 seconds!\n",
      "\n",
      "====================================================================================================\n",
      "\n",
      "====================================================================================================\n",
      "Batch machine reading costs a total of 0.6457 seconds!\n",
      "Start to generate the training batches:\n",
      "Train batches production costs a total of 9.5806 seconds!\n",
      "\n",
      " Information about the content of ./train/\n",
      "File name: [ batch_1 ]; with size: 335632.8408203125 KB\n",
      "File name: [ batch_3 ]; with size: 335911.0908203125 KB\n",
      "File name: [ batch_0 ]; with size: 339026.9345703125 KB\n",
      "File name: [ batch_2 ]; with size: 338731.3408203125 KB\n",
      "\n",
      "====================================================================================================\n",
      "\n",
      "====================================================================================================\n",
      "Batch machine reading costs a total of 0.6504 seconds!\n",
      "Start to generate the validation batches:\n",
      "Validation batches production costs a total of 13.4376 seconds!\n",
      "\n",
      " Information about the content of ./validation/\n",
      "File name: [ batch_1 ]; with size: 335690.5751953125 KB\n",
      "File name: [ batch_3 ]; with size: 335968.8798828125 KB\n",
      "File name: [ batch_0 ]; with size: 339085.2705078125 KB\n",
      "File name: [ batch_2 ]; with size: 338789.6220703125 KB\n",
      "\n",
      "====================================================================================================\n",
      "Start running for partition num: 2 hop layer 3\n",
      "\n",
      "====================================================================================================\n",
      "Start to generate the clustering machine:\n",
      "Batch machine creation costs a total of 0.1956 seconds!\n",
      "\n",
      " Information about the content of ./tmp/\n",
      "\n",
      "Start to split data into train, test, validation:\n",
      "Data splitting costs a total of 0.2494 seconds!\n",
      "Start to store the batch machine file:\n",
      "Storing batch machine after training batches generation costs a total of 0.4795 seconds!\n",
      "\n",
      "====================================================================================================\n",
      "\n",
      "====================================================================================================\n",
      "Batch machine reading costs a total of 0.6413 seconds!\n",
      "Start to generate the training batches:\n",
      "Train batches production costs a total of 9.6979 seconds!\n",
      "\n",
      " Information about the content of ./train/\n",
      "File name: [ batch_1 ]; with size: 338239.6533203125 KB\n",
      "File name: [ batch_3 ]; with size: 338214.5517578125 KB\n",
      "File name: [ batch_0 ]; with size: 336414.4345703125 KB\n",
      "File name: [ batch_2 ]; with size: 336435.4404296875 KB\n",
      "\n",
      "====================================================================================================\n",
      "\n",
      "====================================================================================================\n",
      "Batch machine reading costs a total of 0.6464 seconds!\n",
      "Start to generate the validation batches:\n",
      "Validation batches production costs a total of 13.7462 seconds!\n",
      "\n",
      " Information about the content of ./validation/\n",
      "File name: [ batch_1 ]; with size: 338297.8251953125 KB\n",
      "File name: [ batch_3 ]; with size: 338272.7314453125 KB\n",
      "File name: [ batch_0 ]; with size: 336472.3330078125 KB\n",
      "File name: [ batch_2 ]; with size: 336493.3310546875 KB\n",
      "\n",
      "====================================================================================================\n"
     ]
    },
    {
     "name": "stderr",
     "output_type": "stream",
     "text": [
      "/home/xiangli/anaconda3/envs/pytorch_geometric/lib/python3.7/site-packages/seaborn/axisgrid.py:311: RuntimeWarning: More than 20 figures have been opened. Figures created through the pyplot interface (`matplotlib.pyplot.figure`) are retained until explicitly closed and may consume too much memory. (To control this warning, see the rcParam `figure.max_open_warning`).\n",
      "  fig, axes = plt.subplots(nrow, ncol, **kwargs)\n",
      "/home/xiangli/anaconda3/envs/pytorch_geometric/lib/python3.7/site-packages/ipykernel_launcher.py:58: RuntimeWarning: More than 20 figures have been opened. Figures created through the pyplot interface (`matplotlib.pyplot.figure`) are retained until explicitly closed and may consume too much memory. (To control this warning, see the rcParam `figure.max_open_warning`).\n",
      "/home/xiangli/anaconda3/envs/pytorch_geometric/lib/python3.7/site-packages/seaborn/axisgrid.py:311: RuntimeWarning: More than 20 figures have been opened. Figures created through the pyplot interface (`matplotlib.pyplot.figure`) are retained until explicitly closed and may consume too much memory. (To control this warning, see the rcParam `figure.max_open_warning`).\n",
      "  fig, axes = plt.subplots(nrow, ncol, **kwargs)\n",
      "/home/xiangli/anaconda3/envs/pytorch_geometric/lib/python3.7/site-packages/ipykernel_launcher.py:58: RuntimeWarning: More than 20 figures have been opened. Figures created through the pyplot interface (`matplotlib.pyplot.figure`) are retained until explicitly closed and may consume too much memory. (To control this warning, see the rcParam `figure.max_open_warning`).\n",
      "/home/xiangli/anaconda3/envs/pytorch_geometric/lib/python3.7/site-packages/seaborn/axisgrid.py:311: RuntimeWarning: More than 20 figures have been opened. Figures created through the pyplot interface (`matplotlib.pyplot.figure`) are retained until explicitly closed and may consume too much memory. (To control this warning, see the rcParam `figure.max_open_warning`).\n",
      "  fig, axes = plt.subplots(nrow, ncol, **kwargs)\n"
     ]
    },
    {
     "name": "stdout",
     "output_type": "stream",
     "text": [
      "Start running for partition num: 4 hop layer 1\n",
      "\n",
      "====================================================================================================\n",
      "Start to generate the clustering machine:\n",
      "Batch machine creation costs a total of 0.1977 seconds!\n",
      "\n",
      " Information about the content of ./tmp/\n",
      "\n",
      "Start to split data into train, test, validation:\n",
      "Data splitting costs a total of 0.1990 seconds!\n",
      "Start to store the batch machine file:\n",
      "Storing batch machine after training batches generation costs a total of 0.4736 seconds!\n",
      "\n",
      "====================================================================================================\n",
      "\n",
      "====================================================================================================\n",
      "Batch machine reading costs a total of 0.6358 seconds!\n",
      "Start to generate the training batches:\n",
      "Train batches production costs a total of 9.2232 seconds!\n",
      "\n",
      " Information about the content of ./train/\n",
      "File name: [ batch_1 ]; with size: 169564.0498046875 KB\n",
      "File name: [ batch_7 ]; with size: 166857.8232421875 KB\n",
      "File name: [ batch_3 ]; with size: 168966.3388671875 KB\n",
      "File name: [ batch_4 ]; with size: 170308.2763671875 KB\n",
      "File name: [ batch_6 ]; with size: 166525.6279296875 KB\n",
      "File name: [ batch_0 ]; with size: 169245.2216796875 KB\n",
      "File name: [ batch_5 ]; with size: 170498.5029296875 KB\n",
      "File name: [ batch_2 ]; with size: 166417.4638671875 KB\n",
      "\n",
      "====================================================================================================\n",
      "\n",
      "====================================================================================================\n",
      "Batch machine reading costs a total of 0.6473 seconds!\n",
      "Start to generate the validation batches:\n",
      "Validation batches production costs a total of 13.6175 seconds!\n",
      "\n",
      " Information about the content of ./validation/\n",
      "File name: [ batch_1 ]; with size: 169593.2294921875 KB\n",
      "File name: [ batch_7 ]; with size: 166886.5576171875 KB\n",
      "File name: [ batch_3 ]; with size: 168995.4326171875 KB\n",
      "File name: [ batch_4 ]; with size: 170337.5966796875 KB\n",
      "File name: [ batch_6 ]; with size: 166554.2998046875 KB\n",
      "File name: [ batch_0 ]; with size: 169274.3544921875 KB\n",
      "File name: [ batch_5 ]; with size: 170527.8466796875 KB\n",
      "File name: [ batch_2 ]; with size: 166446.1279296875 KB\n",
      "\n",
      "====================================================================================================\n"
     ]
    },
    {
     "name": "stderr",
     "output_type": "stream",
     "text": [
      "/home/xiangli/anaconda3/envs/pytorch_geometric/lib/python3.7/site-packages/ipykernel_launcher.py:58: RuntimeWarning: More than 20 figures have been opened. Figures created through the pyplot interface (`matplotlib.pyplot.figure`) are retained until explicitly closed and may consume too much memory. (To control this warning, see the rcParam `figure.max_open_warning`).\n",
      "/home/xiangli/anaconda3/envs/pytorch_geometric/lib/python3.7/site-packages/seaborn/axisgrid.py:311: RuntimeWarning: More than 20 figures have been opened. Figures created through the pyplot interface (`matplotlib.pyplot.figure`) are retained until explicitly closed and may consume too much memory. (To control this warning, see the rcParam `figure.max_open_warning`).\n",
      "  fig, axes = plt.subplots(nrow, ncol, **kwargs)\n",
      "/home/xiangli/anaconda3/envs/pytorch_geometric/lib/python3.7/site-packages/ipykernel_launcher.py:58: RuntimeWarning: More than 20 figures have been opened. Figures created through the pyplot interface (`matplotlib.pyplot.figure`) are retained until explicitly closed and may consume too much memory. (To control this warning, see the rcParam `figure.max_open_warning`).\n",
      "/home/xiangli/anaconda3/envs/pytorch_geometric/lib/python3.7/site-packages/seaborn/axisgrid.py:311: RuntimeWarning: More than 20 figures have been opened. Figures created through the pyplot interface (`matplotlib.pyplot.figure`) are retained until explicitly closed and may consume too much memory. (To control this warning, see the rcParam `figure.max_open_warning`).\n",
      "  fig, axes = plt.subplots(nrow, ncol, **kwargs)\n",
      "/home/xiangli/anaconda3/envs/pytorch_geometric/lib/python3.7/site-packages/ipykernel_launcher.py:58: RuntimeWarning: More than 20 figures have been opened. Figures created through the pyplot interface (`matplotlib.pyplot.figure`) are retained until explicitly closed and may consume too much memory. (To control this warning, see the rcParam `figure.max_open_warning`).\n",
      "/home/xiangli/anaconda3/envs/pytorch_geometric/lib/python3.7/site-packages/seaborn/axisgrid.py:311: RuntimeWarning: More than 20 figures have been opened. Figures created through the pyplot interface (`matplotlib.pyplot.figure`) are retained until explicitly closed and may consume too much memory. (To control this warning, see the rcParam `figure.max_open_warning`).\n",
      "  fig, axes = plt.subplots(nrow, ncol, **kwargs)\n",
      "/home/xiangli/anaconda3/envs/pytorch_geometric/lib/python3.7/site-packages/ipykernel_launcher.py:58: RuntimeWarning: More than 20 figures have been opened. Figures created through the pyplot interface (`matplotlib.pyplot.figure`) are retained until explicitly closed and may consume too much memory. (To control this warning, see the rcParam `figure.max_open_warning`).\n",
      "/home/xiangli/anaconda3/envs/pytorch_geometric/lib/python3.7/site-packages/seaborn/axisgrid.py:311: RuntimeWarning: More than 20 figures have been opened. Figures created through the pyplot interface (`matplotlib.pyplot.figure`) are retained until explicitly closed and may consume too much memory. (To control this warning, see the rcParam `figure.max_open_warning`).\n",
      "  fig, axes = plt.subplots(nrow, ncol, **kwargs)\n"
     ]
    },
    {
     "name": "stdout",
     "output_type": "stream",
     "text": [
      "Start running for partition num: 4 hop layer 2\n",
      "\n",
      "====================================================================================================\n",
      "Start to generate the clustering machine:\n",
      "Batch machine creation costs a total of 0.1941 seconds!\n",
      "\n",
      " Information about the content of ./tmp/\n",
      "\n",
      "Start to split data into train, test, validation:\n",
      "Data splitting costs a total of 0.2521 seconds!\n",
      "Start to store the batch machine file:\n",
      "Storing batch machine after training batches generation costs a total of 0.4782 seconds!\n",
      "\n",
      "====================================================================================================\n",
      "\n",
      "====================================================================================================\n",
      "Batch machine reading costs a total of 0.6453 seconds!\n",
      "Start to generate the training batches:\n",
      "Train batches production costs a total of 9.1729 seconds!\n",
      "\n",
      " Information about the content of ./train/\n",
      "File name: [ batch_1 ]; with size: 164102.7685546875 KB\n",
      "File name: [ batch_7 ]; with size: 167215.8310546875 KB\n",
      "File name: [ batch_3 ]; with size: 169806.1435546875 KB\n",
      "File name: [ batch_4 ]; with size: 167249.1748046875 KB\n",
      "File name: [ batch_6 ]; with size: 169521.3623046875 KB\n",
      "File name: [ batch_0 ]; with size: 169393.1279296875 KB\n",
      "File name: [ batch_5 ]; with size: 170202.6748046875 KB\n",
      "File name: [ batch_2 ]; with size: 170903.5341796875 KB\n",
      "\n",
      "====================================================================================================\n",
      "\n",
      "====================================================================================================\n",
      "Batch machine reading costs a total of 0.6498 seconds!\n",
      "Start to generate the validation batches:\n",
      "Validation batches production costs a total of 13.9359 seconds!\n",
      "\n",
      " Information about the content of ./validation/\n",
      "File name: [ batch_1 ]; with size: 164131.0107421875 KB\n",
      "File name: [ batch_7 ]; with size: 167244.6201171875 KB\n",
      "File name: [ batch_3 ]; with size: 169835.3701171875 KB\n",
      "File name: [ batch_4 ]; with size: 167277.9716796875 KB\n",
      "File name: [ batch_6 ]; with size: 169550.5341796875 KB\n",
      "File name: [ batch_0 ]; with size: 169422.2998046875 KB\n",
      "File name: [ batch_5 ]; with size: 170231.9873046875 KB\n",
      "File name: [ batch_2 ]; with size: 170932.9638671875 KB\n",
      "\n",
      "====================================================================================================\n"
     ]
    },
    {
     "name": "stderr",
     "output_type": "stream",
     "text": [
      "/home/xiangli/anaconda3/envs/pytorch_geometric/lib/python3.7/site-packages/ipykernel_launcher.py:58: RuntimeWarning: More than 20 figures have been opened. Figures created through the pyplot interface (`matplotlib.pyplot.figure`) are retained until explicitly closed and may consume too much memory. (To control this warning, see the rcParam `figure.max_open_warning`).\n",
      "/home/xiangli/anaconda3/envs/pytorch_geometric/lib/python3.7/site-packages/seaborn/axisgrid.py:311: RuntimeWarning: More than 20 figures have been opened. Figures created through the pyplot interface (`matplotlib.pyplot.figure`) are retained until explicitly closed and may consume too much memory. (To control this warning, see the rcParam `figure.max_open_warning`).\n",
      "  fig, axes = plt.subplots(nrow, ncol, **kwargs)\n",
      "/home/xiangli/anaconda3/envs/pytorch_geometric/lib/python3.7/site-packages/ipykernel_launcher.py:58: RuntimeWarning: More than 20 figures have been opened. Figures created through the pyplot interface (`matplotlib.pyplot.figure`) are retained until explicitly closed and may consume too much memory. (To control this warning, see the rcParam `figure.max_open_warning`).\n",
      "/home/xiangli/anaconda3/envs/pytorch_geometric/lib/python3.7/site-packages/seaborn/axisgrid.py:311: RuntimeWarning: More than 20 figures have been opened. Figures created through the pyplot interface (`matplotlib.pyplot.figure`) are retained until explicitly closed and may consume too much memory. (To control this warning, see the rcParam `figure.max_open_warning`).\n",
      "  fig, axes = plt.subplots(nrow, ncol, **kwargs)\n",
      "/home/xiangli/anaconda3/envs/pytorch_geometric/lib/python3.7/site-packages/ipykernel_launcher.py:58: RuntimeWarning: More than 20 figures have been opened. Figures created through the pyplot interface (`matplotlib.pyplot.figure`) are retained until explicitly closed and may consume too much memory. (To control this warning, see the rcParam `figure.max_open_warning`).\n",
      "/home/xiangli/anaconda3/envs/pytorch_geometric/lib/python3.7/site-packages/seaborn/axisgrid.py:311: RuntimeWarning: More than 20 figures have been opened. Figures created through the pyplot interface (`matplotlib.pyplot.figure`) are retained until explicitly closed and may consume too much memory. (To control this warning, see the rcParam `figure.max_open_warning`).\n",
      "  fig, axes = plt.subplots(nrow, ncol, **kwargs)\n",
      "/home/xiangli/anaconda3/envs/pytorch_geometric/lib/python3.7/site-packages/ipykernel_launcher.py:58: RuntimeWarning: More than 20 figures have been opened. Figures created through the pyplot interface (`matplotlib.pyplot.figure`) are retained until explicitly closed and may consume too much memory. (To control this warning, see the rcParam `figure.max_open_warning`).\n",
      "/home/xiangli/anaconda3/envs/pytorch_geometric/lib/python3.7/site-packages/seaborn/axisgrid.py:311: RuntimeWarning: More than 20 figures have been opened. Figures created through the pyplot interface (`matplotlib.pyplot.figure`) are retained until explicitly closed and may consume too much memory. (To control this warning, see the rcParam `figure.max_open_warning`).\n",
      "  fig, axes = plt.subplots(nrow, ncol, **kwargs)\n"
     ]
    },
    {
     "name": "stdout",
     "output_type": "stream",
     "text": [
      "Start running for partition num: 4 hop layer 3\n",
      "\n",
      "====================================================================================================\n",
      "Start to generate the clustering machine:\n",
      "Batch machine creation costs a total of 0.2038 seconds!\n",
      "\n",
      " Information about the content of ./tmp/\n",
      "\n",
      "Start to split data into train, test, validation:\n",
      "Data splitting costs a total of 0.1992 seconds!\n",
      "Start to store the batch machine file:\n",
      "Storing batch machine after training batches generation costs a total of 0.4771 seconds!\n",
      "\n",
      "====================================================================================================\n",
      "\n",
      "====================================================================================================\n",
      "Batch machine reading costs a total of 0.6451 seconds!\n",
      "Start to generate the training batches:\n",
      "Train batches production costs a total of 9.3861 seconds!\n",
      "\n",
      " Information about the content of ./train/\n",
      "File name: [ batch_1 ]; with size: 167441.2763671875 KB\n",
      "File name: [ batch_7 ]; with size: 167286.0185546875 KB\n",
      "File name: [ batch_3 ]; with size: 167418.0654296875 KB\n",
      "File name: [ batch_4 ]; with size: 166409.0263671875 KB\n",
      "File name: [ batch_6 ]; with size: 173090.0888671875 KB\n",
      "File name: [ batch_0 ]; with size: 171512.2373046875 KB\n",
      "File name: [ batch_5 ]; with size: 167405.6279296875 KB\n",
      "File name: [ batch_2 ]; with size: 167829.2763671875 KB\n",
      "\n",
      "====================================================================================================\n",
      "\n",
      "====================================================================================================\n",
      "Batch machine reading costs a total of 0.6551 seconds!\n",
      "Start to generate the validation batches:\n",
      "Validation batches production costs a total of 14.1426 seconds!\n",
      "\n",
      " Information about the content of ./validation/\n",
      "File name: [ batch_1 ]; with size: 167470.1044921875 KB\n",
      "File name: [ batch_7 ]; with size: 167314.8232421875 KB\n",
      "File name: [ batch_3 ]; with size: 167446.8701171875 KB\n",
      "File name: [ batch_4 ]; with size: 166437.6904296875 KB\n",
      "File name: [ batch_6 ]; with size: 173119.8857421875 KB\n",
      "File name: [ batch_0 ]; with size: 171541.7685546875 KB\n",
      "File name: [ batch_5 ]; with size: 167434.4326171875 KB\n",
      "File name: [ batch_2 ]; with size: 167858.1826171875 KB\n",
      "\n",
      "====================================================================================================\n"
     ]
    },
    {
     "name": "stderr",
     "output_type": "stream",
     "text": [
      "/home/xiangli/anaconda3/envs/pytorch_geometric/lib/python3.7/site-packages/ipykernel_launcher.py:58: RuntimeWarning: More than 20 figures have been opened. Figures created through the pyplot interface (`matplotlib.pyplot.figure`) are retained until explicitly closed and may consume too much memory. (To control this warning, see the rcParam `figure.max_open_warning`).\n",
      "/home/xiangli/anaconda3/envs/pytorch_geometric/lib/python3.7/site-packages/seaborn/axisgrid.py:311: RuntimeWarning: More than 20 figures have been opened. Figures created through the pyplot interface (`matplotlib.pyplot.figure`) are retained until explicitly closed and may consume too much memory. (To control this warning, see the rcParam `figure.max_open_warning`).\n",
      "  fig, axes = plt.subplots(nrow, ncol, **kwargs)\n",
      "/home/xiangli/anaconda3/envs/pytorch_geometric/lib/python3.7/site-packages/ipykernel_launcher.py:58: RuntimeWarning: More than 20 figures have been opened. Figures created through the pyplot interface (`matplotlib.pyplot.figure`) are retained until explicitly closed and may consume too much memory. (To control this warning, see the rcParam `figure.max_open_warning`).\n",
      "/home/xiangli/anaconda3/envs/pytorch_geometric/lib/python3.7/site-packages/seaborn/axisgrid.py:311: RuntimeWarning: More than 20 figures have been opened. Figures created through the pyplot interface (`matplotlib.pyplot.figure`) are retained until explicitly closed and may consume too much memory. (To control this warning, see the rcParam `figure.max_open_warning`).\n",
      "  fig, axes = plt.subplots(nrow, ncol, **kwargs)\n",
      "/home/xiangli/anaconda3/envs/pytorch_geometric/lib/python3.7/site-packages/ipykernel_launcher.py:58: RuntimeWarning: More than 20 figures have been opened. Figures created through the pyplot interface (`matplotlib.pyplot.figure`) are retained until explicitly closed and may consume too much memory. (To control this warning, see the rcParam `figure.max_open_warning`).\n",
      "/home/xiangli/anaconda3/envs/pytorch_geometric/lib/python3.7/site-packages/seaborn/axisgrid.py:311: RuntimeWarning: More than 20 figures have been opened. Figures created through the pyplot interface (`matplotlib.pyplot.figure`) are retained until explicitly closed and may consume too much memory. (To control this warning, see the rcParam `figure.max_open_warning`).\n",
      "  fig, axes = plt.subplots(nrow, ncol, **kwargs)\n",
      "/home/xiangli/anaconda3/envs/pytorch_geometric/lib/python3.7/site-packages/ipykernel_launcher.py:58: RuntimeWarning: More than 20 figures have been opened. Figures created through the pyplot interface (`matplotlib.pyplot.figure`) are retained until explicitly closed and may consume too much memory. (To control this warning, see the rcParam `figure.max_open_warning`).\n",
      "/home/xiangli/anaconda3/envs/pytorch_geometric/lib/python3.7/site-packages/seaborn/axisgrid.py:311: RuntimeWarning: More than 20 figures have been opened. Figures created through the pyplot interface (`matplotlib.pyplot.figure`) are retained until explicitly closed and may consume too much memory. (To control this warning, see the rcParam `figure.max_open_warning`).\n",
      "  fig, axes = plt.subplots(nrow, ncol, **kwargs)\n"
     ]
    },
    {
     "name": "stdout",
     "output_type": "stream",
     "text": [
      "Start running for partition num: 8 hop layer 1\n",
      "\n",
      "====================================================================================================\n",
      "Start to generate the clustering machine:\n",
      "Batch machine creation costs a total of 0.2065 seconds!\n",
      "\n",
      " Information about the content of ./tmp/\n",
      "\n",
      "Start to split data into train, test, validation:\n",
      "Data splitting costs a total of 0.1968 seconds!\n",
      "Start to store the batch machine file:\n",
      "Storing batch machine after training batches generation costs a total of 0.4691 seconds!\n",
      "\n",
      "====================================================================================================\n",
      "\n",
      "====================================================================================================\n",
      "Batch machine reading costs a total of 0.6365 seconds!\n",
      "Start to generate the training batches:\n",
      "Train batches production costs a total of 9.3090 seconds!\n",
      "\n",
      " Information about the content of ./train/\n",
      "File name: [ batch_9 ]; with size: 86009.0322265625 KB\n",
      "File name: [ batch_1 ]; with size: 84894.5087890625 KB\n",
      "File name: [ batch_15 ]; with size: 84686.9697265625 KB\n",
      "File name: [ batch_8 ]; with size: 83118.1650390625 KB\n",
      "File name: [ batch_13 ]; with size: 83862.3994140625 KB\n",
      "File name: [ batch_11 ]; with size: 84824.6337890625 KB\n",
      "File name: [ batch_7 ]; with size: 81784.6650390625 KB\n",
      "File name: [ batch_3 ]; with size: 84098.3056640625 KB\n",
      "File name: [ batch_4 ]; with size: 86390.9541015625 KB\n",
      "File name: [ batch_6 ]; with size: 82878.5869140625 KB\n",
      "File name: [ batch_0 ]; with size: 84247.9384765625 KB\n",
      "File name: [ batch_5 ]; with size: 85606.1259765625 KB\n",
      "File name: [ batch_14 ]; with size: 84821.8212890625 KB\n",
      "File name: [ batch_10 ]; with size: 84278.7197265625 KB\n",
      "File name: [ batch_2 ]; with size: 84062.8916015625 KB\n",
      "File name: [ batch_12 ]; with size: 82362.6103515625 KB\n",
      "\n",
      "====================================================================================================\n",
      "\n",
      "====================================================================================================\n",
      "Batch machine reading costs a total of 0.6502 seconds!\n",
      "Start to generate the validation batches:\n",
      "Validation batches production costs a total of 14.7618 seconds!\n",
      "\n",
      " Information about the content of ./validation/\n",
      "File name: [ batch_9 ]; with size: 86023.8544921875 KB\n",
      "File name: [ batch_1 ]; with size: 84909.1357421875 KB\n",
      "File name: [ batch_15 ]; with size: 84701.5654296875 KB\n",
      "File name: [ batch_8 ]; with size: 83132.4716796875 KB\n",
      "File name: [ batch_13 ]; with size: 83876.8388671875 KB\n",
      "File name: [ batch_11 ]; with size: 84839.2451171875 KB\n",
      "File name: [ batch_7 ]; with size: 81798.7451171875 KB\n",
      "File name: [ batch_3 ]; with size: 84112.7919921875 KB\n",
      "File name: [ batch_4 ]; with size: 86405.8310546875 KB\n",
      "File name: [ batch_6 ]; with size: 82892.8701171875 KB\n",
      "File name: [ batch_0 ]; with size: 84262.4404296875 KB\n",
      "File name: [ batch_5 ]; with size: 85620.8623046875 KB\n",
      "File name: [ batch_14 ]; with size: 84836.4326171875 KB\n",
      "File name: [ batch_10 ]; with size: 84293.2294921875 KB\n",
      "File name: [ batch_2 ]; with size: 84077.3857421875 KB\n",
      "File name: [ batch_12 ]; with size: 82376.7998046875 KB\n",
      "\n",
      "====================================================================================================\n"
     ]
    },
    {
     "name": "stderr",
     "output_type": "stream",
     "text": [
      "/home/xiangli/anaconda3/envs/pytorch_geometric/lib/python3.7/site-packages/ipykernel_launcher.py:58: RuntimeWarning: More than 20 figures have been opened. Figures created through the pyplot interface (`matplotlib.pyplot.figure`) are retained until explicitly closed and may consume too much memory. (To control this warning, see the rcParam `figure.max_open_warning`).\n",
      "/home/xiangli/anaconda3/envs/pytorch_geometric/lib/python3.7/site-packages/seaborn/axisgrid.py:311: RuntimeWarning: More than 20 figures have been opened. Figures created through the pyplot interface (`matplotlib.pyplot.figure`) are retained until explicitly closed and may consume too much memory. (To control this warning, see the rcParam `figure.max_open_warning`).\n",
      "  fig, axes = plt.subplots(nrow, ncol, **kwargs)\n",
      "/home/xiangli/anaconda3/envs/pytorch_geometric/lib/python3.7/site-packages/ipykernel_launcher.py:58: RuntimeWarning: More than 20 figures have been opened. Figures created through the pyplot interface (`matplotlib.pyplot.figure`) are retained until explicitly closed and may consume too much memory. (To control this warning, see the rcParam `figure.max_open_warning`).\n",
      "/home/xiangli/anaconda3/envs/pytorch_geometric/lib/python3.7/site-packages/seaborn/axisgrid.py:311: RuntimeWarning: More than 20 figures have been opened. Figures created through the pyplot interface (`matplotlib.pyplot.figure`) are retained until explicitly closed and may consume too much memory. (To control this warning, see the rcParam `figure.max_open_warning`).\n",
      "  fig, axes = plt.subplots(nrow, ncol, **kwargs)\n",
      "/home/xiangli/anaconda3/envs/pytorch_geometric/lib/python3.7/site-packages/ipykernel_launcher.py:58: RuntimeWarning: More than 20 figures have been opened. Figures created through the pyplot interface (`matplotlib.pyplot.figure`) are retained until explicitly closed and may consume too much memory. (To control this warning, see the rcParam `figure.max_open_warning`).\n",
      "/home/xiangli/anaconda3/envs/pytorch_geometric/lib/python3.7/site-packages/seaborn/axisgrid.py:311: RuntimeWarning: More than 20 figures have been opened. Figures created through the pyplot interface (`matplotlib.pyplot.figure`) are retained until explicitly closed and may consume too much memory. (To control this warning, see the rcParam `figure.max_open_warning`).\n",
      "  fig, axes = plt.subplots(nrow, ncol, **kwargs)\n",
      "/home/xiangli/anaconda3/envs/pytorch_geometric/lib/python3.7/site-packages/ipykernel_launcher.py:58: RuntimeWarning: More than 20 figures have been opened. Figures created through the pyplot interface (`matplotlib.pyplot.figure`) are retained until explicitly closed and may consume too much memory. (To control this warning, see the rcParam `figure.max_open_warning`).\n",
      "/home/xiangli/anaconda3/envs/pytorch_geometric/lib/python3.7/site-packages/seaborn/axisgrid.py:311: RuntimeWarning: More than 20 figures have been opened. Figures created through the pyplot interface (`matplotlib.pyplot.figure`) are retained until explicitly closed and may consume too much memory. (To control this warning, see the rcParam `figure.max_open_warning`).\n",
      "  fig, axes = plt.subplots(nrow, ncol, **kwargs)\n"
     ]
    },
    {
     "name": "stdout",
     "output_type": "stream",
     "text": [
      "Start running for partition num: 8 hop layer 2\n",
      "\n",
      "====================================================================================================\n",
      "Start to generate the clustering machine:\n",
      "Batch machine creation costs a total of 0.1595 seconds!\n",
      "\n",
      " Information about the content of ./tmp/\n",
      "\n",
      "Start to split data into train, test, validation:\n",
      "Data splitting costs a total of 0.2472 seconds!\n",
      "Start to store the batch machine file:\n",
      "Storing batch machine after training batches generation costs a total of 0.4716 seconds!\n",
      "\n",
      "====================================================================================================\n",
      "\n",
      "====================================================================================================\n",
      "Batch machine reading costs a total of 0.6380 seconds!\n",
      "Start to generate the training batches:\n",
      "Train batches production costs a total of 9.1947 seconds!\n",
      "\n",
      " Information about the content of ./train/\n",
      "File name: [ batch_9 ]; with size: 84756.6572265625 KB\n",
      "File name: [ batch_1 ]; with size: 83520.9150390625 KB\n",
      "File name: [ batch_15 ]; with size: 86767.8369140625 KB\n",
      "File name: [ batch_8 ]; with size: 84237.5634765625 KB\n",
      "File name: [ batch_13 ]; with size: 83520.9150390625 KB\n",
      "File name: [ batch_11 ]; with size: 82297.0791015625 KB\n",
      "File name: [ batch_7 ]; with size: 86771.8056640625 KB\n",
      "File name: [ batch_3 ]; with size: 84278.7197265625 KB\n",
      "File name: [ batch_4 ]; with size: 82878.5869140625 KB\n",
      "File name: [ batch_6 ]; with size: 85477.3681640625 KB\n",
      "File name: [ batch_0 ]; with size: 84824.6337890625 KB\n",
      "File name: [ batch_5 ]; with size: 83862.3994140625 KB\n",
      "File name: [ batch_14 ]; with size: 82872.5869140625 KB\n",
      "File name: [ batch_10 ]; with size: 85233.7119140625 KB\n",
      "File name: [ batch_2 ]; with size: 82362.6103515625 KB\n",
      "File name: [ batch_12 ]; with size: 84288.0634765625 KB\n",
      "\n",
      "====================================================================================================\n",
      "\n",
      "====================================================================================================\n",
      "Batch machine reading costs a total of 0.6574 seconds!\n",
      "Start to generate the validation batches:\n",
      "Validation batches production costs a total of 14.6769 seconds!\n",
      "\n",
      " Information about the content of ./validation/\n",
      "File name: [ batch_9 ]; with size: 84771.2685546875 KB\n",
      "File name: [ batch_1 ]; with size: 83535.3076171875 KB\n",
      "File name: [ batch_15 ]; with size: 86782.7763671875 KB\n",
      "File name: [ batch_8 ]; with size: 84252.0654296875 KB\n",
      "File name: [ batch_13 ]; with size: 83535.3076171875 KB\n",
      "File name: [ batch_11 ]; with size: 82311.2529296875 KB\n",
      "File name: [ batch_7 ]; with size: 86786.7451171875 KB\n",
      "File name: [ batch_3 ]; with size: 84293.2294921875 KB\n",
      "File name: [ batch_4 ]; with size: 82892.8701171875 KB\n",
      "File name: [ batch_6 ]; with size: 85492.0888671875 KB\n",
      "File name: [ batch_0 ]; with size: 84839.2451171875 KB\n",
      "File name: [ batch_5 ]; with size: 83876.8388671875 KB\n",
      "File name: [ batch_14 ]; with size: 82886.8701171875 KB\n",
      "File name: [ batch_10 ]; with size: 85248.3857421875 KB\n",
      "File name: [ batch_2 ]; with size: 82376.7998046875 KB\n",
      "File name: [ batch_12 ]; with size: 84302.5732421875 KB\n",
      "\n",
      "====================================================================================================\n"
     ]
    }
   ],
   "source": [
    "# check F1-score\n",
    "output_F1_score(data, data_name, dataset, image_data_path, intermediate_data_folder, partition_nums, layers, \\\n",
    "                dropout = 0.1, lr = 0.0001, weight_decay = 0.1, mini_epoch_num = 20, \\\n",
    "                valid_part_num = 2, mini_cluster_num = 16, round_num = 2)\n",
    "        "
   ]
  },
  {
   "cell_type": "markdown",
   "metadata": {},
   "source": [
    "### CoraFull dataset"
   ]
  },
  {
   "cell_type": "code",
   "execution_count": null,
   "metadata": {},
   "outputs": [],
   "source": [
    "from torch_geometric.datasets import CoraFull\n",
    "data_name = 'CoraFull'\n",
    "dataset = CoraFull(root = local_data_root + 'CoralFull')\n",
    "print('number of data: ', len(dataset))\n",
    "data = dataset[0]\n",
    "\n",
    "image_data_path = './results/' + data_name + '/' + test_folder_name\n",
    "intermediate_data_folder = './intermediate_data/' + data_name + '/' + test_folder_name\n",
    "\n",
    "partition_nums = [4]\n",
    "layers = [[128, 128]]\n"
   ]
  },
  {
   "cell_type": "code",
   "execution_count": null,
   "metadata": {},
   "outputs": [],
   "source": [
    "# tune the parameter\n",
    "\n",
    "output_tune_param(data, data_name, dataset, image_data_path, intermediate_data_folder, partition_nums, layers, \\\n",
    "                  dropout = 0.5, lr = 0.0001, weight_decay = 0.001, mini_epoch_num = 20, valid_part_num = 2)\n",
    "\n",
    "# in-train process\n",
    "# output_train_investigate(data, data_name, dataset, image_data_path, intermediate_data_folder, partition_nums, layers, \\\n",
    "#                          dropout = 0.5, lr = 0.0001, weight_decay = 0.001, mini_epoch_num = 20, output_period = 40, valid_part_num = 2)"
   ]
  },
  {
   "cell_type": "code",
   "execution_count": null,
   "metadata": {},
   "outputs": [],
   "source": [
    "# # check F1-score\n",
    "# output_F1_score(data, data_name, dataset, image_data_path, intermediate_data_folder, partition_nums, layers, \\\n",
    "#                 dropout = 0.1, lr = 0.0001, weight_decay = 0.1, mini_epoch_num = 20, valid_part_num = 2)"
   ]
  },
  {
   "cell_type": "markdown",
   "metadata": {},
   "source": [
    "### CiteSeer Dataset"
   ]
  },
  {
   "cell_type": "code",
   "execution_count": null,
   "metadata": {},
   "outputs": [],
   "source": [
    "from torch_geometric.datasets import Planetoid\n",
    "data_name = 'CiteSeer'\n",
    "dataset = Planetoid(root = local_data_root + 'Planetoid/CiteSeer', name=data_name)\n",
    "data = dataset[0]\n",
    "image_data_path = './results/' + data_name + '/' + test_folder_name\n",
    "\n",
    "partition_nums = [2, 4, 8]\n",
    "layers = [[], [16], [16, 16]]"
   ]
  },
  {
   "cell_type": "markdown",
   "metadata": {},
   "source": [
    "### Tuning the epoch number per batch"
   ]
  },
  {
   "cell_type": "markdown",
   "metadata": {},
   "source": [
    "#### Checking train loss"
   ]
  },
  {
   "cell_type": "markdown",
   "metadata": {},
   "source": [
    "### PubMed dataset"
   ]
  },
  {
   "cell_type": "code",
   "execution_count": null,
   "metadata": {},
   "outputs": [],
   "source": [
    "from torch_geometric.datasets import Planetoid\n",
    "data_name = 'PubMed'\n",
    "dataset = Planetoid(root = local_data_root + 'Planetoid/PubMed', name=data_name)\n",
    "data = dataset[0]\n",
    "image_data_path = './results/' + data_name + '/' + test_folder_name\n",
    "\n",
    "partition_nums = [2, 4, 8]\n",
    "layers = [[], [64], [64, 64], [64, 64, 64]]"
   ]
  },
  {
   "cell_type": "markdown",
   "metadata": {},
   "source": [
    "#### Tune epoch number per batch"
   ]
  },
  {
   "cell_type": "markdown",
   "metadata": {},
   "source": [
    "### Check the train error"
   ]
  },
  {
   "cell_type": "markdown",
   "metadata": {},
   "source": [
    "### Appendix"
   ]
  },
  {
   "cell_type": "code",
   "execution_count": null,
   "metadata": {},
   "outputs": [],
   "source": [
    "# free GPU memory\n",
    "# !(nvidia-smi | grep 'python' | awk '{ print $3 }' | xargs -n1 kill -9)"
   ]
  },
  {
   "cell_type": "code",
   "execution_count": null,
   "metadata": {},
   "outputs": [],
   "source": []
  }
 ],
 "metadata": {
  "kernelspec": {
   "display_name": "Python [conda env:pytorch_geometric]",
   "language": "python",
   "name": "conda-env-pytorch_geometric-py"
  },
  "language_info": {
   "codemirror_mode": {
    "name": "ipython",
    "version": 3
   },
   "file_extension": ".py",
   "mimetype": "text/x-python",
   "name": "python",
   "nbconvert_exporter": "python",
   "pygments_lexer": "ipython3",
   "version": "3.7.3"
  }
 },
 "nbformat": 4,
 "nbformat_minor": 2
}
