{
 "cells": [
  {
   "cell_type": "code",
   "execution_count": 1,
   "metadata": {},
   "outputs": [
    {
     "data": {
      "text/html": [
       "<style>.container { width:90% !important; }</style>"
      ],
      "text/plain": [
       "<IPython.core.display.HTML object>"
      ]
     },
     "metadata": {},
     "output_type": "display_data"
    }
   ],
   "source": [
    "from IPython.core.display import display, HTML\n",
    "display(HTML(\"<style>.container { width:90% !important; }</style>\"))"
   ]
  },
  {
   "cell_type": "markdown",
   "metadata": {},
   "source": [
    "### Study the graph constructed with weighted graph\n",
    "\n",
    "General Doc\n",
    "\n",
    "https://networkx.github.io/documentation/stable/reference/introduction.html#graph-creation"
   ]
  },
  {
   "cell_type": "code",
   "execution_count": 2,
   "metadata": {},
   "outputs": [],
   "source": [
    "import copy\n",
    "\n",
    "import os\n",
    "import sys\n",
    "import torch\n",
    "import matplotlib.pyplot as plt\n",
    "import networkx as nx\n",
    "import numpy as np\n",
    "import pandas as pd\n",
    "import seaborn as sns\n",
    "from collections import defaultdict\n",
    "import pickle\n",
    "import shutil"
   ]
  },
  {
   "cell_type": "code",
   "execution_count": 4,
   "metadata": {},
   "outputs": [
    {
     "name": "stdout",
     "output_type": "stream",
     "text": [
      "{1: {2: {'weight': 0.5}, 3: {'weight': 0.75}}, 2: {1: {'weight': 0.5}}, 3: {1: {'weight': 0.75}}}\n"
     ]
    }
   ],
   "source": [
    "# construct an undirected graph with \n",
    "G = nx.Graph(day=\"Friday\")\n",
    "G.add_weighted_edges_from([(1,2,0.5), (3,1,0.75)])\n",
    "print(G.adj)"
   ]
  },
  {
   "cell_type": "markdown",
   "metadata": {},
   "source": [
    "### Construct graph by reading weighed edge list\n",
    "\n",
    "Documentation:\n",
    "\n",
    "https://networkx.github.io/documentation/networkx-1.10/reference/generated/networkx.readwrite.edgelist.read_weighted_edgelist.html"
   ]
  },
  {
   "cell_type": "code",
   "execution_count": 10,
   "metadata": {},
   "outputs": [
    {
     "name": "stdout",
     "output_type": "stream",
     "text": [
      "{'a': {'b': {'weight': 1.0}, 'c': {'weight': 3.14159}, 'a': {'weight': 50.0}}, 'b': {'a': {'weight': 1.0}}, 'c': {'a': {'weight': 3.14159}}, 'd': {'e': {'weight': 42.0}}, 'e': {'d': {'weight': 42.0}}}\n",
      "output weights for each edge of G1:\n",
      "edge (a, b) weight is:  1.0\n",
      "edge (a, c) weight is:  3.14159\n",
      "edge (a, a) weight is:  50.0\n",
      "edge (d, e) weight is:  42.0\n",
      "\n",
      "edge (b, a) weight is:  1.0\n",
      "edge (c, a) weight is:  3.14159\n",
      "edge (a, a) weight is:  50.0\n",
      "edge (e, d) weight is:  42.0\n",
      "edge (a, b) weight is:  1.0\n",
      "edge (a, a) weight is:  50.0\n"
     ]
    }
   ],
   "source": [
    "# for our case need to confirm:\n",
    "# 1) that the two direction of the edge share the same value of weight\n",
    "# 2) subgraph generation can still separate edge together its weight\n",
    "# 3) self_loop (the weight on the node itself) will be handled separately or not (Graph can add self-loop edge)\n",
    "file_path = './data_use/networkx_data/'\n",
    "file_name = 'weight_edge_list_1.txt'\n",
    "\"\"\" for the undirected graph, default two direction of an edge share the same weight\"\"\"\n",
    "G1 = nx.read_weighted_edgelist(file_path + file_name, create_using = nx.Graph)   # indicate that create an undirected graph: nx.Graph\n",
    "print(G1.adj)\n",
    "\n",
    "# source target data\n",
    "# a b 1\n",
    "# a c 3.14159\n",
    "# d e 42\n",
    "\n",
    "# output the corresponding weight\n",
    "print('output weights for each edge of G1:')\n",
    "\"\"\" The edges() only return one direction of each edge, including the self-loop\"\"\"\n",
    "for left, right in G1.edges():\n",
    "    print('edge ({}, {}) weight is: '.format(left, right), G1[left][right]['weight'])\n",
    "#     print('edge ({}, {}) weight is: '.format(right, left), G1[right][left]['weight'])\n",
    "print()\n",
    "for left, right in G1.edges():\n",
    "#     print('edge ({}, {}) weight is: '.format(left, right), G1[left][right]['weight'])\n",
    "    print('edge ({}, {}) weight is: '.format(right, left), G1[right][left]['weight'])\n",
    "    \n",
    "sub_ab = G1.subgraph(['a', 'b'])\n",
    "for left, right in sub_ab.edges():\n",
    "#     print('edge ({}, {}) weight is: '.format(left, right), G1[left][right]['weight'])\n",
    "    print('edge ({}, {}) weight is: '.format(right, left), G1[right][left]['weight'])"
   ]
  },
  {
   "cell_type": "code",
   "execution_count": 31,
   "metadata": {},
   "outputs": [
    {
     "name": "stdout",
     "output_type": "stream",
     "text": [
      "{'a': {'b': {'weight': 1.0}, 'c': {'weight': 8.8}}, 'b': {'a': {'weight': 1.0}}, 'c': {'a': {'weight': 8.8}}, 'd': {'e': {'weight': 21.0}}, 'e': {'d': {'weight': 21.0}}}\n",
      "output weights for each edge of G2:\n",
      "edge (a, b) weight is:  1.0\n",
      "edge (b, a) weight is:  1.0\n",
      "edge (a, c) weight is:  8.8\n",
      "edge (c, a) weight is:  8.8\n",
      "edge (d, e) weight is:  21.0\n",
      "edge (e, d) weight is:  21.0\n"
     ]
    }
   ],
   "source": [
    "file_path = './data_use/networkx_data/'\n",
    "file_name = 'weight_edge_list_2.txt'\n",
    "\"\"\" If we have different weight for different direction of the same edge, it is also fine, just use the most recent result: \"\"\"\n",
    "G2 = nx.read_weighted_edgelist(file_path + file_name, create_using = nx.Graph)   # indicate that create an undirected graph: nx.Graph\n",
    "# print the datastructure\n",
    "print(G2.adj)\n",
    "# print(G2.edges())\n",
    "# output the corresponding weight\n",
    "print('output weights for each edge of G2:')\n",
    "for left, right in G2.edges():\n",
    "    print('edge ({}, {}) weight is: '.format(left, right), G2[left][right]['weight'])\n",
    "    print('edge ({}, {}) weight is: '.format(right, left), G2[right][left]['weight'])"
   ]
  },
  {
   "cell_type": "markdown",
   "metadata": {},
   "source": [
    "#### cosntruct graph by reading from the in-memory weigted edge list"
   ]
  },
  {
   "cell_type": "code",
   "execution_count": 3,
   "metadata": {},
   "outputs": [
    {
     "name": "stdout",
     "output_type": "stream",
     "text": [
      "{0: {0: {'weight': 1}}, 1: {1: {'weight': 2}}, 2: {2: {'weight': 3}}, 3: {3: {'weight': 4}}, 4: {4: {'weight': 5}}, 5: {5: {'weight': 6}}, 6: {6: {'weight': 7}}, 7: {7: {'weight': 8}}}\n",
      "{1: {2: {'weight': 5.0}, 3: {'weight': 1.0}}, 2: {1: {'weight': 5.0}, 3: {'weight': 3.0}}, 3: {2: {'weight': 3.0}, 1: {'weight': 1.0}, 4: {'weight': 7.3}}, 4: {3: {'weight': 7.3}, 4: {'weight': 100}}}\n",
      "Frist way of iterate output weights for each edge of G3:\n",
      "edge (1, 2) weight is:  5.0\n",
      "edge (2, 1) weight is:  5.0\n",
      "edge (1, 3) weight is:  1.0\n",
      "edge (3, 1) weight is:  1.0\n",
      "edge (2, 3) weight is:  3.0\n",
      "edge (3, 2) weight is:  3.0\n",
      "edge (3, 4) weight is:  7.3\n",
      "edge (4, 3) weight is:  7.3\n",
      "edge (4, 4) weight is:  100\n",
      "edge (4, 4) weight is:  100\n",
      "second way of iterate output weights for each edge of G3:\n",
      "edge (1, 2) weight is:  5.0\n",
      "edge (2, 1) weight is:  5.0\n",
      "edge (1, 3) weight is:  1.0\n",
      "edge (3, 1) weight is:  1.0\n",
      "edge (2, 3) weight is:  3.0\n",
      "edge (3, 2) weight is:  3.0\n",
      "edge (3, 4) weight is:  7.3\n",
      "edge (4, 3) weight is:  7.3\n",
      "edge (4, 4) weight is:  100\n",
      "edge (4, 4) weight is:  100\n",
      "third way of iterate output weights for each edge of G3:\n",
      "edge (1, 2) weight is:  5.0\n",
      "edge (2, 1) weight is:  5.0\n",
      "edge (1, 3) weight is:  1.0\n",
      "edge (3, 1) weight is:  1.0\n",
      "edge (2, 3) weight is:  3.0\n",
      "edge (3, 2) weight is:  3.0\n",
      "edge (3, 4) weight is:  7.3\n",
      "edge (4, 3) weight is:  7.3\n",
      "edge (4, 4) weight is:  100\n",
      "edge (4, 4) weight is:  100\n"
     ]
    }
   ],
   "source": [
    "# elist = [(1, 2), (2, 3), (1, 4), (4, 2)]\n",
    "# G.add_edges_from(elist)\n",
    "\"\"\"\n",
    "    The Graph object does allow a self-loop as one edge with a specific edge weight:\n",
    "\"\"\"\n",
    "G4 = nx.Graph() \n",
    "egen = ((i, i, i+1) for i in range(8))\n",
    "G4.add_weighted_edges_from(egen)\n",
    "print(G4.adj)\n",
    "\n",
    "\n",
    "G3 = nx.Graph() \n",
    "elist = [(1, 2, 5.0), (2, 3, 3.0), (1, 3, 1.0), (3, 4, 7.3), (4, 4, 100)]\n",
    "G3.add_weighted_edges_from(elist)\n",
    "print(G3.adj)\n",
    "# print(G2.edges())\n",
    "# output the corresponding weight\n",
    "print('Frist way of iterate output weights for each edge of G3:')\n",
    "for left, right in G3.edges():\n",
    "    print('edge ({}, {}) weight is: '.format(left, right), G3[left][right]['weight'])\n",
    "    print('edge ({}, {}) weight is: '.format(right, left), G3[right][left]['weight'])\n",
    "    \n",
    "print('second way of iterate output weights for each edge of G3:')\n",
    "for left, right in G3.edges():\n",
    "    print('edge ({}, {}) weight is: '.format(left, right), G3.edges[left, right]['weight'])\n",
    "    print('edge ({}, {}) weight is: '.format(right, left), G3.edges[right, left]['weight'])\n",
    "    \n",
    "print('third way of iterate output weights for each edge of G3:')\n",
    "# print(G3.edges.data('weight'))\n",
    "for left, right, weight in G3.edges.data('weight'):\n",
    "    print('edge ({}, {}) weight is: '.format(left, right), weight)\n",
    "    print('edge ({}, {}) weight is: '.format(right, left), weight)"
   ]
  },
  {
   "cell_type": "code",
   "execution_count": 47,
   "metadata": {},
   "outputs": [
    {
     "name": "stdout",
     "output_type": "stream",
     "text": [
      "{1: FilterAtlas({2: {'weight': 5.0}, 3: {'weight': 1.0}}, <function FilterAdjacency.__getitem__.<locals>.new_node_ok at 0x7f435e4a8e18>), 2: FilterAtlas({1: {'weight': 5.0}, 3: {'weight': 3.0}}, <function FilterAdjacency.__getitem__.<locals>.new_node_ok at 0x7f435e4a8ea0>), 3: FilterAtlas({2: {'weight': 3.0}, 1: {'weight': 1.0}, 4: {'weight': 7.3}}, <function FilterAdjacency.__getitem__.<locals>.new_node_ok at 0x7f435e4a8c80>)}\n",
      "edge (1, 2) weight is:  5.0\n",
      "edge (2, 1) weight is:  5.0\n",
      "edge (1, 3) weight is:  1.0\n",
      "edge (3, 1) weight is:  1.0\n",
      "edge (2, 3) weight is:  3.0\n",
      "edge (3, 2) weight is:  3.0\n"
     ]
    }
   ],
   "source": [
    "# create the subgraph from the G3 above to check the weight is also separated:\n",
    "G3_subgraph = G3.subgraph({1, 2, 3})\n",
    "print(G3_subgraph.adj)\n",
    "for left, right, weight in G3_subgraph.edges.data('weight'):\n",
    "    print('edge ({}, {}) weight is: '.format(left, right), weight)\n",
    "    print('edge ({}, {}) weight is: '.format(right, left), weight)"
   ]
  },
  {
   "cell_type": "markdown",
   "metadata": {},
   "source": [
    "#### Graph algorithm implement"
   ]
  },
  {
   "cell_type": "code",
   "execution_count": 42,
   "metadata": {},
   "outputs": [
    {
     "name": "stdout",
     "output_type": "stream",
     "text": [
      "['a', 'c', 'd']\n"
     ]
    }
   ],
   "source": [
    "# As an example here is code to use Dijkstra’s algorithm to find the shortest weighted path:\n",
    "G = nx.Graph()\n",
    "e = [('a', 'b', 0.3), ('b', 'c', 0.9), ('a', 'c', 0.5), ('c', 'd', 1.2)]\n",
    "G.add_weighted_edges_from(e)\n",
    "print(nx.dijkstra_path(G, 'a', 'd'))\n"
   ]
  },
  {
   "cell_type": "markdown",
   "metadata": {},
   "source": [
    "### Draw a weighted graph"
   ]
  },
  {
   "cell_type": "code",
   "execution_count": 50,
   "metadata": {},
   "outputs": [
    {
     "data": {
      "image/png": "[encoded data removed]",
      "text/plain": [
       "<Figure size 432x288 with 1 Axes>"
      ]
     },
     "metadata": {},
     "output_type": "display_data"
    }
   ],
   "source": [
    "G = nx.Graph()\n",
    "\n",
    "G.add_edge('a', 'b', weight=0.6)\n",
    "G.add_edge('a', 'c', weight=0.2)\n",
    "G.add_edge('c', 'd', weight=0.1)\n",
    "G.add_edge('c', 'e', weight=0.7)\n",
    "G.add_edge('c', 'f', weight=0.9)\n",
    "G.add_edge('a', 'd', weight=0.3)\n",
    "\n",
    "elarge = [(u, v) for (u, v, w) in G.edges.data('weight') if w > 0.5]\n",
    "# elarge = [(u, v) for (u, v, d) in G.edges(data=True) if d['weight'] > 0.5]\n",
    "# data (string or bool, optional (default=False)) – The edge attribute returned in 3-tuple (u, v, ddict[data]). If True, return edge attribute dict in 3-tuple (u, v, ddict). If False, return 2-tuple (u, v).\n",
    "esmall = [(u, v) for (u, v, d) in G.edges(data=True) if d['weight'] <= 0.5]\n",
    "\n",
    "pos = nx.spring_layout(G)  # positions for all nodes\n",
    "\"\"\"\n",
    "Position nodes using Fruchterman-Reingold force-directed algorithm.\n",
    "The algorithm simulates a force-directed representation of the network treating edges as springs holding nodes close,\n",
    "while treating nodes as repelling objects, \n",
    "sometimes called an anti-gravity force. Simulation continues until the positions are close to an equilibrium.\n",
    "\"\"\"\n",
    "# nodes\n",
    "nx.draw_networkx_nodes(G, pos, node_size=700)\n",
    "\n",
    "# edges\n",
    "nx.draw_networkx_edges(G, pos, edgelist=elarge,\n",
    "                       width=6)\n",
    "nx.draw_networkx_edges(G, pos, edgelist=esmall,\n",
    "                       width=6, alpha=0.5, edge_color='b', style='dashed')\n",
    "\n",
    "# labels\n",
    "nx.draw_networkx_labels(G, pos, font_size=20, font_family='sans-serif')\n",
    "\n",
    "plt.axis('off')\n",
    "plt.show()"
   ]
  },
  {
   "cell_type": "markdown",
   "metadata": {},
   "source": [
    "### Directed graph"
   ]
  },
  {
   "cell_type": "code",
   "execution_count": 25,
   "metadata": {},
   "outputs": [
    {
     "name": "stdout",
     "output_type": "stream",
     "text": [
      "0.5\n",
      "1.25\n",
      "<dict_keyiterator object at 0x7fc9facfa4a8>\n",
      "<dict_keyiterator object at 0x7fc9facfa4a8>\n"
     ]
    }
   ],
   "source": [
    "DG=nx.DiGraph()\n",
    "DG.add_weighted_edges_from([(1,2,0.5), (3,1,0.75)])\n",
    "\n",
    "print(DG.out_degree(1,weight='weight') )\n",
    "print(DG.degree(1,weight='weight') )\n",
    "print(DG.successors(1) )\n",
    "print(DG.neighbors(1) )"
   ]
  },
  {
   "cell_type": "markdown",
   "metadata": {},
   "source": [
    "### Get files information"
   ]
  },
  {
   "cell_type": "code",
   "execution_count": 24,
   "metadata": {},
   "outputs": [],
   "source": [
    "import os\n",
    "def print_dir_content_info(path):\n",
    "    \"\"\"\n",
    "        print out the file information under the path :  (name, size(KB))\n",
    "    \"\"\"\n",
    "    with os.scandir(path) as dir_contents:\n",
    "        for entry in dir_contents:\n",
    "            if entry.is_file():\n",
    "                info = entry.stat()\n",
    "                print('File name: [ {} ]; with size: {} KB'.format(entry.name, info.st_size / 1024))\n",
    "print_dir_content_info('./empty/')"
   ]
  },
  {
   "cell_type": "code",
   "execution_count": 22,
   "metadata": {},
   "outputs": [],
   "source": [
    "# %mkdir empty\n"
   ]
  },
  {
   "cell_type": "code",
   "execution_count": null,
   "metadata": {},
   "outputs": [],
   "source": []
  }
 ],
 "metadata": {
  "kernelspec": {
   "display_name": "Python [conda env:pytorch_geometric]",
   "language": "python",
   "name": "conda-env-pytorch_geometric-py"
  },
  "language_info": {
   "codemirror_mode": {
    "name": "ipython",
    "version": 3
   },
   "file_extension": ".py",
   "mimetype": "text/x-python",
   "name": "python",
   "nbconvert_exporter": "python",
   "pygments_lexer": "ipython3",
   "version": "3.7.3"
  }
 },
 "nbformat": 4,
 "nbformat_minor": 2
}
