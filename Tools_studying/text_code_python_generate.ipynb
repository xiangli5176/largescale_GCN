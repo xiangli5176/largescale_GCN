{
 "cells": [
  {
   "cell_type": "markdown",
   "metadata": {},
   "source": [
    "### Use python to batch generating source code and bash jobs"
   ]
  },
  {
   "cell_type": "code",
   "execution_count": 20,
   "metadata": {},
   "outputs": [],
   "source": [
    "import shutil\n",
    "import os"
   ]
  },
  {
   "cell_type": "code",
   "execution_count": 17,
   "metadata": {},
   "outputs": [],
   "source": [
    "# datapath = \"./data_use/text_job/\"\n",
    "# src_file = datapath + \"step3_train_run_id_0.batch\"\n",
    "# dst_file = datapath + \"step3_train_run_id_2.batch\"\n",
    "# copied_dst = shutil.copyfile(src_file, dst_file)\n",
    "# print(copied_dst)"
   ]
  },
  {
   "cell_type": "code",
   "execution_count": 24,
   "metadata": {},
   "outputs": [],
   "source": [
    "def generate_train_pbsfile(dst_file, src_file, trainer_id):\n",
    "    update_python_src = \"formal_exec_id_\" + str(trainer_id) + \".py\"\n",
    "    with open(src_file, \"r\") as readin:\n",
    "        with open(dst_file, \"w\") as writeout:\n",
    "            for line in readin:\n",
    "                if line.startswith(\"singularity\"):\n",
    "                    tmpline = line.split()\n",
    "                    tmpline[-1] = update_python_src\n",
    "                    line = ' '.join(tmpline) + '\\n'\n",
    "                writeout.write(line)\n",
    "\n",
    "# src_file = datapath + \"step3_train_run_id_0.batch\"\n",
    "# dst_file = datapath + \"step3_train_run_id_3.batch\"\n",
    "\n",
    "# trainer_id = 3\n",
    "# generate_train_pbsfile(dst_file, src_file, trainer_id)"
   ]
  },
  {
   "cell_type": "code",
   "execution_count": 25,
   "metadata": {},
   "outputs": [],
   "source": [
    "def generate_src_file(dst_file, src_file, tune_val, trainer_id):\n",
    "    with open(src_file, \"r\") as readin:\n",
    "        with open(dst_file, \"w\") as writeout:\n",
    "            for line in readin:\n",
    "                if line.strip().startswith(\"tune_val_list\"):\n",
    "                    line = \" \" * 4 + \"tune_val_list = [\" + str(tune_val) + \"]\\n\"\n",
    "                elif line.strip().startswith(\"trainer_list\"):\n",
    "                    line = \" \" * 4 + \"trainer_list = [\" + str(trainer_id) + \"]\\n\"\n",
    "                \n",
    "                writeout.write(line)\n",
    "\n",
    "# trainer_id = 3\n",
    "# tune_val = 10\n",
    "# src_file = datapath + \"formal_exec_id_0.py\"\n",
    "# dst_file = datapath + \"formal_exec_id_\" + str(trainer_id) + \".py\"\n",
    "\n",
    "\n",
    "# generate_src_file(dst_file, src_file, tune_val, trainer_id)"
   ]
  },
  {
   "cell_type": "code",
   "execution_count": 26,
   "metadata": {},
   "outputs": [],
   "source": [
    "datapath = \"./data_use/text_job/\"\n",
    "tune_val_list = [10, 5]\n",
    "trainer_ids = list(range(1, 7))\n",
    "src_file_py = datapath + \"formal_exec_id_0.py\"\n",
    "src_file_pbs = datapath + \"step3_train_run_id_0.batch\"\n",
    "\n",
    "for tune_val in tune_val_list:\n",
    "    tune_val_folder = datapath + \"tune_val_\" + str(tune_val) + '/'\n",
    "    os.makedirs(os.path.dirname(tune_val_folder), exist_ok=True)\n",
    "    for trainer_id in trainer_ids:\n",
    "        dst_file_py = tune_val_folder + \"formal_exec_id_\" + str(trainer_id) + \".py\"\n",
    "        generate_src_file(dst_file_py, src_file_py, tune_val, trainer_id)\n",
    "        dst_file_pbs = tune_val_folder + \"step3_train_run_id_\" + str(trainer_id) + \".batch\"\n",
    "        generate_train_pbsfile(dst_file_pbs, src_file_pbs, trainer_id)"
   ]
  },
  {
   "cell_type": "code",
   "execution_count": null,
   "metadata": {},
   "outputs": [],
   "source": []
  }
 ],
 "metadata": {
  "kernelspec": {
   "display_name": "Python 3",
   "language": "python",
   "name": "python3"
  },
  "language_info": {
   "codemirror_mode": {
    "name": "ipython",
    "version": 3
   },
   "file_extension": ".py",
   "mimetype": "text/x-python",
   "name": "python",
   "nbconvert_exporter": "python",
   "pygments_lexer": "ipython3",
   "version": "3.7.3"
  }
 },
 "nbformat": 4,
 "nbformat_minor": 2
}
