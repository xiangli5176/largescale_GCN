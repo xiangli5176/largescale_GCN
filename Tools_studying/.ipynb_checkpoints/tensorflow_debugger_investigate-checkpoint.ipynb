{
 "cells": [
  {
   "cell_type": "markdown",
   "metadata": {},
   "source": [
    "### Learn the tfdbg  (tensorflow debugger)"
   ]
  },
  {
   "cell_type": "code",
   "execution_count": 1,
   "metadata": {},
   "outputs": [],
   "source": [
    "import numpy as np\n",
    "import tensorflow as tf\n",
    "# import tensorflow.python.debug as tf_debug   # does not work\n",
    "from tensorflow.python import debug as tf_debug\n"
   ]
  },
  {
   "cell_type": "code",
   "execution_count": 2,
   "metadata": {},
   "outputs": [],
   "source": [
    "xs = np.linspace(-0.5, 0.49, 100)\n",
    "x = tf.placeholder(tf.float32, shape=[None], name=\"x\")\n",
    "y = tf.placeholder(tf.float32, shape=[None], name=\"y\")\n",
    "k = tf.Variable([0.0], name=\"k\")\n",
    "y_hat = tf.multiply(k, x, name=\"y_hat\")\n",
    "sse = tf.reduce_sum((y - y_hat) * (y - y_hat), name=\"sse\")\n",
    "train_op = tf.train.GradientDescentOptimizer(learning_rate=0.02).minimize(sse)\n",
    "\n",
    "sess = tf.Session()\n",
    "sess.run(tf.global_variables_initializer())\n",
    "\n"
   ]
  },
  {
   "cell_type": "code",
   "execution_count": 3,
   "metadata": {},
   "outputs": [],
   "source": [
    "# currently the tfdbg will be stuck when called from the jupyter-notebook\n",
    "sess = tf_debug.LocalCLIDebugWrapperSession(sess)\n",
    "for _ in range(10):\n",
    "    sess.run(train_op, feed_dict={x: xs, y: 42 * xs})"
   ]
  },
  {
   "cell_type": "code",
   "execution_count": 4,
   "metadata": {},
   "outputs": [
    {
     "name": "stdout",
     "output_type": "stream",
     "text": [
      "name: \"GradientDescent\"\n",
      "op: \"NoOp\"\n",
      "input: \"^GradientDescent/update_k/ApplyGradientDescent\"\n",
      "\n"
     ]
    }
   ],
   "source": [
    "print(train_op)"
   ]
  },
  {
   "cell_type": "code",
   "execution_count": null,
   "metadata": {},
   "outputs": [],
   "source": [
    "# free GPU memory\n",
    "# !(nvidia-smi | grep 'python' | awk '{ print $3 }' | xargs -n1 kill -9)"
   ]
  },
  {
   "cell_type": "code",
   "execution_count": null,
   "metadata": {},
   "outputs": [],
   "source": []
  }
 ],
 "metadata": {
  "kernelspec": {
   "display_name": "Python 3.7.3 64-bit ('tensorflow_1_pytorch_geometric': conda)",
   "language": "python",
   "name": "python37364bittensorflow1pytorchgeometricconda50eea9e53f134a3d905f494d6e21a49c"
  },
  "language_info": {
   "codemirror_mode": {
    "name": "ipython",
    "version": 3
   },
   "file_extension": ".py",
   "mimetype": "text/x-python",
   "name": "python",
   "nbconvert_exporter": "python",
   "pygments_lexer": "ipython3",
   "version": "3.7.3"
  }
 },
 "nbformat": 4,
 "nbformat_minor": 2
}
