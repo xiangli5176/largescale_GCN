{
 "cells": [
  {
   "cell_type": "code",
   "execution_count": 1,
   "metadata": {},
   "outputs": [
    {
     "data": {
      "text/html": [
       "<style>.container { width:90% !important; }</style>"
      ],
      "text/plain": [
       "<IPython.core.display.HTML object>"
      ]
     },
     "metadata": {},
     "output_type": "display_data"
    }
   ],
   "source": [
    "from IPython.core.display import display, HTML\n",
    "display(HTML(\"<style>.container { width:90% !important; }</style>\"))"
   ]
  },
  {
   "cell_type": "code",
   "execution_count": 18,
   "metadata": {},
   "outputs": [],
   "source": [
    "import networkx as nx\n",
    "import metis\n",
    "import time\n",
    "import numpy as np\n",
    "import tensorflow as tf\n",
    "import scipy.sparse as sp\n"
   ]
  },
  {
   "cell_type": "markdown",
   "metadata": {},
   "source": [
    "### Study the sparse matrix "
   ]
  },
  {
   "cell_type": "code",
   "execution_count": 19,
   "metadata": {},
   "outputs": [
    {
     "name": "stdout",
     "output_type": "stream",
     "text": [
      "[[3 4]\n",
      " [5 6]]\n"
     ]
    }
   ],
   "source": [
    "# convert a list of tuples into a numpy array\n",
    "a = [(3, 4), (5, 6)]\n",
    "b = np.array(a, dtype = np.int32)\n",
    "print(b)"
   ]
  },
  {
   "cell_type": "code",
   "execution_count": 20,
   "metadata": {},
   "outputs": [
    {
     "name": "stdout",
     "output_type": "stream",
     "text": [
      "<class 'scipy.sparse.csr.csr_matrix'>\n",
      "  (0, 0)\t1\n",
      "  (0, 2)\t2\n",
      "  (1, 2)\t3\n",
      "  (2, 0)\t4\n",
      "  (2, 1)\t5\n",
      "  (2, 2)\t6\n",
      "\n",
      "  (0, 0)\t1\n",
      "  (2, 0)\t2\n",
      "  (2, 1)\t3\n",
      "  (0, 2)\t4\n",
      "  (1, 2)\t5\n",
      "  (2, 2)\t6\n",
      "\n",
      "  (0, 0)\t2\n",
      "  (0, 2)\t6\n",
      "  (1, 2)\t8\n",
      "  (2, 0)\t6\n",
      "  (2, 1)\t8\n",
      "  (2, 2)\t12\n",
      "\n",
      "[[1 0 2]\n",
      " [0 0 3]\n",
      " [4 5 6]]\n",
      "\n",
      "[[ 2  0  6]\n",
      " [ 0  0  8]\n",
      " [ 6  8 12]]\n"
     ]
    }
   ],
   "source": [
    "# create an array in the csr format\n",
    "row = array([0,0,1,2,2,2])\n",
    "col = array([0,2,2,0,1,2])\n",
    "data = array([1,2,3,4,5,6])\n",
    "res = sp.csr_matrix( (data,(row,col)), shape=(3,3) )\n",
    "\n",
    "print(type(res) )\n",
    "print(res)\n",
    "print()\n",
    "print(res.transpose())\n",
    "print()\n",
    "combine = res + res.transpose()\n",
    "print(combine)\n",
    "print()\n",
    "\n",
    "# output the dense format of the csr format matrix\n",
    "print(res.todense())\n",
    "print()\n",
    "print(combine.todense())"
   ]
  },
  {
   "cell_type": "code",
   "execution_count": 21,
   "metadata": {},
   "outputs": [
    {
     "name": "stdout",
     "output_type": "stream",
     "text": [
      "<class 'scipy.sparse.csr.csr_matrix'> <class 'scipy.sparse.csr.csr_matrix'>\n",
      "  (0, 0)\t1\n",
      "  (0, 2)\t2\n",
      "  (1, 2)\t3\n",
      "  (2, 0)\t4\n",
      "  (2, 1)\t5\n",
      "  (2, 2)\t6\n",
      "<class 'scipy.sparse.lil.lil_matrix'>\n",
      "print all the edge starting with 0 node: \n",
      "  (0, 0)\t1\n",
      "  (0, 2)\t2\n",
      "print all the edge starting with 1 node: \n",
      "  (0, 2)\t3\n",
      "print all the edge starting with 2 node: \n",
      "  (0, 0)\t4\n",
      "  (0, 1)\t5\n",
      "  (0, 2)\t6\n",
      "print all the nodes linked to 2: \n",
      "[0 1 2]\n",
      "\n",
      "output the lil format info\n",
      "[list([0, 2])]\n",
      "[list([2])]\n",
      "Extract the neighbor nodes of node 0, including the node list\n",
      "[0, 2]\n"
     ]
    }
   ],
   "source": [
    "\"\"\"\n",
    "    Use csr_matrix object to trace the neighbor list of the matrix\n",
    "\"\"\"\n",
    "# dig into the csr_matrix object:  res\n",
    "idx_nodes = np.array([0, 1, 2])\n",
    "a = res[idx_nodes, :][:, idx_nodes]\n",
    "print(type(a), type(res))\n",
    "print(res)\n",
    "tmp = res[idx_nodes, :][:, idx_nodes].tolil() \n",
    "print(type(tmp) )\n",
    "# this csr_matrix can index by the node id\n",
    "print('print all the edge starting with 0 node: ')\n",
    "print(res[0])   # output all the edge with first node 0 and and its value,  \n",
    "print('print all the edge starting with 1 node: ')\n",
    "print(res[1])   # (0, 2)  3;   is actually (1, 2)  3;  just take the node itself as 0\n",
    "print('print all the edge starting with 2 node: ')\n",
    "print(res[2])\n",
    "print('print all the nodes linked to 2: ')\n",
    "print(res[2].indices)\n",
    "print('\\noutput the lil format info')\n",
    "print(tmp[0].rows)    # after convertion, output a list of all the neighbor lists\n",
    "print(tmp[1].rows)\n",
    "print('Extract the neighbor nodes of node 0, including the node list')\n",
    "print(tmp[0].rows[0])"
   ]
  },
  {
   "cell_type": "markdown",
   "metadata": {},
   "source": [
    "#### Study the sparse csr_matrix"
   ]
  },
  {
   "cell_type": "code",
   "execution_count": 27,
   "metadata": {},
   "outputs": [
    {
     "ename": "SyntaxError",
     "evalue": "invalid syntax (<ipython-input-27-776776a042e8>, line 7)",
     "output_type": "error",
     "traceback": [
      "\u001b[0;36m  File \u001b[0;32m\"<ipython-input-27-776776a042e8>\"\u001b[0;36m, line \u001b[0;32m7\u001b[0m\n\u001b[0;31m    print(edges..shape)\u001b[0m\n\u001b[0m                ^\u001b[0m\n\u001b[0;31mSyntaxError\u001b[0m\u001b[0;31m:\u001b[0m invalid syntax\n"
     ]
    }
   ],
   "source": [
    "# Compressed Sparse Row matrix\n",
    "# csr_matrix((data, ij), [shape=(M, N)])\n",
    "# where data and ij satisfy the relationship a[ij[0, k], ij[1, k]] = data[k]\n",
    "row = array([0,0,1,2,2,2])\n",
    "col = array([0,2,2,0,1,2])\n",
    "edges = np.array([row, col]).transpose()\n",
    "print(edges.shape)\n",
    "# adj = sp.csr_matrix( ( np.ones((edges.shape[0]), dtype=np.float32), (edges[:, 0], edges[:, 1]) ), shape=(nodes_count, nodes_count) )"
   ]
  },
  {
   "cell_type": "code",
   "execution_count": null,
   "metadata": {},
   "outputs": [],
   "source": []
  }
 ],
 "metadata": {
  "kernelspec": {
   "display_name": "Python [conda env:tensorflow_1_pytorch_geometric]",
   "language": "python",
   "name": "conda-env-tensorflow_1_pytorch_geometric-py"
  },
  "language_info": {
   "codemirror_mode": {
    "name": "ipython",
    "version": 3
   },
   "file_extension": ".py",
   "mimetype": "text/x-python",
   "name": "python",
   "nbconvert_exporter": "python",
   "pygments_lexer": "ipython3",
   "version": "3.7.3"
  }
 },
 "nbformat": 4,
 "nbformat_minor": 2
}
