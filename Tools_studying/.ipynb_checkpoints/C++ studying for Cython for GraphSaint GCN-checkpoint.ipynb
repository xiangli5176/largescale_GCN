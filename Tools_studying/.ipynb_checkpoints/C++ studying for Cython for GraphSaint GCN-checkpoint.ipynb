{
 "cells": [
  {
   "cell_type": "code",
   "execution_count": 14,
   "metadata": {},
   "outputs": [],
   "source": [
    "#include <vector>\n",
    "#include <iostream>\n",
    "using namespace std;"
   ]
  },
  {
   "cell_type": "code",
   "execution_count": 15,
   "metadata": {},
   "outputs": [
    {
     "name": "stdout",
     "output_type": "stream",
     "text": [
      "7\n",
      "5\n",
      "16\n",
      "8\n",
      "25\n",
      "13\n"
     ]
    }
   ],
   "source": [
    "// #include <vector>\n",
    "// #include <iostream>\n",
    "// Trying to test the vector slicing, similar to numpy?\n",
    "std::vector<int> v = {7, 5, 16, 8};\n",
    " \n",
    "// Add two more integers to vector\n",
    "v.push_back(25);\n",
    "v.push_back(13);\n",
    "\n",
    "// Iterate and print values of vector\n",
    "for(int n : v) {\n",
    "    std::cout << n << '\\n';\n",
    "}\n"
   ]
  },
  {
   "cell_type": "code",
   "execution_count": 16,
   "metadata": {},
   "outputs": [
    {
     "name": "stdout",
     "output_type": "stream",
     "text": [
      "7\n",
      "5\n",
      "16\n",
      "8\n",
      "25\n",
      "13\n",
      "5\n",
      "16\n"
     ]
    }
   ],
   "source": [
    "std::vector<int> v_2 = {7, 5, 16, 8};\n",
    "\n",
    "v.reserve(v.size() + distance(v_2.begin(),v_2.end()));\n",
    "v.insert(v.end(),v_2.begin() + 1,v_2.end()-1);\n",
    "\n",
    "for(int n : v) {\n",
    "    std::cout << n << '\\n';\n",
    "}\n"
   ]
  },
  {
   "cell_type": "code",
   "execution_count": 31,
   "metadata": {},
   "outputs": [
    {
     "name": "stderr",
     "output_type": "stream",
     "text": [
      "\u001b[1minput_line_39:3:25: \u001b[0m\u001b[0;1;31merror: \u001b[0m\u001b[1mexpected ';' at end of declaration\u001b[0m\n",
      "vector<vector<int>> v(2) = {{}, {}};\n",
      "\u001b[0;1;32m                        ^\n",
      "\u001b[0m\u001b[0;32m                        ;\n",
      "\u001b[0mIn file included from input_line_5:1:\n",
      "In file included from /home/xiangli/anaconda3/envs/cling/include/xeus/xinterpreter.hpp:15:\n",
      "In file included from /home/xiangli/anaconda3/envs/cling/bin/../lib/gcc/x86_64-conda-linux-gnu/7.5.0/../../../../x86_64-conda-linux-gnu/include/c++/7.5.0/vector:62:\n",
      "\u001b[1m/home/xiangli/anaconda3/envs/cling/bin/../lib/gcc/x86_64-conda-linux-gnu/7.5.0/../../../../x86_64-conda-linux-gnu/include/c++/7.5.0/bits/stl_construct.h:75:38: \u001b[0m\u001b[0;1;31merror: \u001b[0m\u001b[1mno matching constructor for initialization of 'std::vector<int,\n",
      "      std::allocator<int> >'\u001b[0m\n",
      "    { ::new(static_cast<void*>(__p)) _T1(std::forward<_Args>(__args)...); }\n",
      "\u001b[0;1;32m                                     ^\n",
      "\u001b[0m\u001b[1m/home/xiangli/anaconda3/envs/cling/bin/../lib/gcc/x86_64-conda-linux-gnu/7.5.0/../../../../x86_64-conda-linux-gnu/include/c++/7.5.0/bits/stl_uninitialized.h:527:8: \u001b[0m\u001b[0;1;30mnote: \u001b[0min instantiation of function template specialization\n",
      "      'std::_Construct<std::vector<int, std::allocator<int> >>' requested here\u001b[0m\n",
      "                std::_Construct(std::__addressof(*__cur));\n",
      "\u001b[0;1;32m                     ^\n",
      "\u001b[0m\u001b[1m/home/xiangli/anaconda3/envs/cling/bin/../lib/gcc/x86_64-conda-linux-gnu/7.5.0/../../../../x86_64-conda-linux-gnu/include/c++/7.5.0/bits/stl_uninitialized.h:583:2: \u001b[0m\u001b[0;1;30mnote: \u001b[0min instantiation of function template specialization\n",
      "      'std::__uninitialized_default_n_1<false>::__uninit_default_n<std::vector<int,\n",
      "      std::allocator<int> > *, unsigned long>' requested here\u001b[0m\n",
      "        __uninit_default_n(__first, __n);\n",
      "\u001b[0;1;32m        ^\n",
      "\u001b[0m\u001b[1m/home/xiangli/anaconda3/envs/cling/bin/../lib/gcc/x86_64-conda-linux-gnu/7.5.0/../../../../x86_64-conda-linux-gnu/include/c++/7.5.0/bits/stl_uninitialized.h:645:19: \u001b[0m\u001b[0;1;30mnote: \u001b[0min instantiation of function template specialization\n",
      "      'std::__uninitialized_default_n<std::vector<int, std::allocator<int> > *,\n",
      "      unsigned long>' requested here\u001b[0m\n",
      "    { return std::__uninitialized_default_n(__first, __n); }\n",
      "\u001b[0;1;32m                  ^\n",
      "\u001b[0m\u001b[1m/home/xiangli/anaconda3/envs/cling/bin/../lib/gcc/x86_64-conda-linux-gnu/7.5.0/../../../../x86_64-conda-linux-gnu/include/c++/7.5.0/bits/stl_vector.h:1352:9: \u001b[0m\u001b[0;1;30mnote: \u001b[0min instantiation of function template specialization\n",
      "      'std::__uninitialized_default_n_a<std::vector<int, std::allocator<int> >\n",
      "      *, unsigned long, std::vector<int, std::allocator<int> > >' requested here\u001b[0m\n",
      "          std::__uninitialized_default_n_a(this->_M_impl._M_start, __n,\n",
      "\u001b[0;1;32m               ^\n",
      "\u001b[0m\u001b[1m/home/xiangli/anaconda3/envs/cling/bin/../lib/gcc/x86_64-conda-linux-gnu/7.5.0/../../../../x86_64-conda-linux-gnu/include/c++/7.5.0/bits/stl_vector.h:285:9: \u001b[0m\u001b[0;1;30mnote: \u001b[0min instantiation of member function 'std::vector<std::vector<int,\n",
      "      std::allocator<int> >, std::allocator<std::vector<int, std::allocator<int>\n",
      "      > > >::_M_default_initialize' requested here\u001b[0m\n",
      "      { _M_default_initialize(__n); }\n",
      "\u001b[0;1;32m        ^\n",
      "\u001b[0m\u001b[1minput_line_39:3:21: \u001b[0m\u001b[0;1;30mnote: \u001b[0min instantiation of member function 'std::vector<std::vector<int,\n",
      "      std::allocator<int> >, std::allocator<std::vector<int, std::allocator<int>\n",
      "      > > >::vector' requested here\u001b[0m\n",
      "vector<vector<int>> v(2) = {{}, {}};\n",
      "\u001b[0;1;32m                    ^\n",
      "\u001b[0m\u001b[1m/home/xiangli/anaconda3/envs/cling/bin/../lib/gcc/x86_64-conda-linux-gnu/7.5.0/../../../../x86_64-conda-linux-gnu/include/c++/7.5.0/bits/stl_vector.h:411:2: \u001b[0m\u001b[0;1;30mnote: \u001b[0mcandidate constructor template not viable: requires at least 2 arguments, but 0\n",
      "      were provided\u001b[0m\n",
      "        vector(_InputIterator __first, _InputIterator __last,\n",
      "\u001b[0;1;32m        ^\n",
      "\u001b[0m\u001b[1m/home/xiangli/anaconda3/envs/cling/bin/../lib/gcc/x86_64-conda-linux-gnu/7.5.0/../../../../x86_64-conda-linux-gnu/include/c++/7.5.0/bits/stl_vector.h:270:7: \u001b[0m\u001b[0;1;30mnote: \u001b[0mcandidate constructor not viable: requires single argument '__a', but no\n",
      "      arguments were provided\u001b[0m\n",
      "      vector(const allocator_type& __a) _GLIBCXX_NOEXCEPT\n",
      "\u001b[0;1;32m      ^\n",
      "\u001b[0m\u001b[1m/home/xiangli/anaconda3/envs/cling/bin/../lib/gcc/x86_64-conda-linux-gnu/7.5.0/../../../../x86_64-conda-linux-gnu/include/c++/7.5.0/bits/stl_vector.h:326:7: \u001b[0m\u001b[0;1;30mnote: \u001b[0mcandidate constructor not viable: requires single argument '__x', but no\n",
      "      arguments were provided\u001b[0m\n",
      "      vector(const vector& __x)\n",
      "\u001b[0;1;32m      ^\n",
      "\u001b[0m\u001b[1m/home/xiangli/anaconda3/envs/cling/bin/../lib/gcc/x86_64-conda-linux-gnu/7.5.0/../../../../x86_64-conda-linux-gnu/include/c++/7.5.0/bits/stl_vector.h:344:7: \u001b[0m\u001b[0;1;30mnote: \u001b[0mcandidate constructor not viable: requires single argument '__x', but no\n",
      "      arguments were provided\u001b[0m\n",
      "      vector(vector&& __x) noexcept\n",
      "\u001b[0;1;32m      ^\n",
      "\u001b[0m\u001b[1m/home/xiangli/anaconda3/envs/cling/bin/../lib/gcc/x86_64-conda-linux-gnu/7.5.0/../../../../x86_64-conda-linux-gnu/include/c++/7.5.0/bits/stl_vector.h:283:7: \u001b[0m\u001b[0;1;30mnote: \u001b[0mcandidate constructor not viable: requires at least argument '__n', but no\n",
      "      arguments were provided\u001b[0m\n",
      "      vector(size_type __n, const allocator_type& __a = allocator_type())\n",
      "\u001b[0;1;32m      ^\n",
      "\u001b[0m\u001b[1m/home/xiangli/anaconda3/envs/cling/bin/../lib/gcc/x86_64-conda-linux-gnu/7.5.0/../../../../x86_64-conda-linux-gnu/include/c++/7.5.0/bits/stl_vector.h:348:7: \u001b[0m\u001b[0;1;30mnote: \u001b[0mcandidate constructor not viable: requires 2 arguments, but 0 were provided\u001b[0m\n",
      "      vector(const vector& __x, const allocator_type& __a)\n",
      "\u001b[0;1;32m      ^\n",
      "\u001b[0m\u001b[1m/home/xiangli/anaconda3/envs/cling/bin/../lib/gcc/x86_64-conda-linux-gnu/7.5.0/../../../../x86_64-conda-linux-gnu/include/c++/7.5.0/bits/stl_vector.h:358:7: \u001b[0m\u001b[0;1;30mnote: \u001b[0mcandidate constructor not viable: requires 2 arguments, but 0 were provided\u001b[0m\n",
      "      vector(vector&& __rv, const allocator_type& __m)\n",
      "\u001b[0;1;32m      ^\n",
      "\u001b[0m\u001b[1m/home/xiangli/anaconda3/envs/cling/bin/../lib/gcc/x86_64-conda-linux-gnu/7.5.0/../../../../x86_64-conda-linux-gnu/include/c++/7.5.0/bits/stl_vector.h:383:7: \u001b[0m\u001b[0;1;30mnote: \u001b[0mcandidate constructor not viable: requires at least argument '__l', but no\n",
      "      arguments were provided\u001b[0m\n",
      "      vector(initializer_list<value_type> __l,\n",
      "\u001b[0;1;32m      ^\n",
      "\u001b[0m\u001b[1m/home/xiangli/anaconda3/envs/cling/bin/../lib/gcc/x86_64-conda-linux-gnu/7.5.0/../../../../x86_64-conda-linux-gnu/include/c++/7.5.0/bits/stl_vector.h:295:7: \u001b[0m\u001b[0;1;30mnote: \u001b[0mcandidate constructor not viable: requires at least 2 arguments, but 0 were\n",
      "      provided\u001b[0m\n",
      "      vector(size_type __n, const value_type& __value,\n",
      "\u001b[0;1;32m      ^\n",
      "\u001b[0m"
     ]
    },
    {
     "ename": "Interpreter Error",
     "evalue": "",
     "output_type": "error",
     "traceback": [
      "Interpreter Error: "
     ]
    }
   ],
   "source": [
    "using namespace std;\n",
    "vector<vector<int>> v = {{}, {}};\n",
    "// vector<int> v = {7, 5, 16, 8};\n",
    "\n",
    "// std::vector<std::vector<int>> v_2D(10); \n",
    "    \n",
    "// v_2D[0].push_back(2)\n",
    "// v_2D[1].push_back(3)\n",
    "// v_2D[1].push_back(4)"
   ]
  },
  {
   "cell_type": "code",
   "execution_count": null,
   "metadata": {},
   "outputs": [],
   "source": []
  }
 ],
 "metadata": {
  "kernelspec": {
   "display_name": "C++14 [conda env:cling]",
   "language": "C++14",
   "name": "conda-env-cling-xcpp14"
  },
  "language_info": {
   "codemirror_mode": "text/x-c++src",
   "file_extension": ".cpp",
   "mimetype": "text/x-c++src",
   "name": "c++",
   "version": "14"
  }
 },
 "nbformat": 4,
 "nbformat_minor": 4
}
