{
 "cells": [
  {
   "cell_type": "code",
   "execution_count": 1,
   "metadata": {},
   "outputs": [
    {
     "data": {
      "text/html": [
       "<style>.container { width:95% !important; }</style>"
      ],
      "text/plain": [
       "<IPython.core.display.HTML object>"
      ]
     },
     "metadata": {},
     "output_type": "display_data"
    }
   ],
   "source": [
    "from IPython.core.display import display, HTML\n",
    "display(HTML(\"<style>.container { width:95% !important; }</style>\"))"
   ]
  },
  {
   "cell_type": "code",
   "execution_count": 2,
   "metadata": {},
   "outputs": [],
   "source": [
    "from Post_utils import *\n",
    "from multi_exec import *\n",
    "import dill"
   ]
  },
  {
   "cell_type": "code",
   "execution_count": 3,
   "metadata": {},
   "outputs": [],
   "source": [
    "datapath = '/home/xiangli/projects/tmpdata/GCN/GraphSaint/'\n",
    "\n",
    "working_dir = './res_step1_consice_sage/'\n",
    "prepare_data_folder = working_dir + 'prepare_data/'\n",
    "img_path = working_dir + 'result/'\n",
    "\n",
    "core_par_sampler = 1\n",
    "samples_per_processor = -(-200 // core_par_sampler) # round up division\n",
    "eval_train_every = 5  # period to record the train loss\n",
    "\n",
    "### ================ Start to do flexible settings according to different dataset: \n",
    "# read the total epoch number from the yml file to determine the mini_epoch_num and eval_train_every\n",
    "data_name = 'Flickr'\n",
    "# train_config_yml = './table2/flickr2_e.yml'\n",
    "train_config_yml = './table2/flickr2_sage.yml'\n",
    "multilabel_tag = False\n",
    "\n",
    "# data_name = 'PPI_small'\n",
    "# train_config_yml = './table2/ppi2_e.yml'\n",
    "\n",
    "\n",
    "tune_param_name = 'mini_epoch_num'\n",
    "tune_val_label_list = [1, 5] \n",
    "tune_val_list = [val for val in tune_val_label_list]\n",
    "\n",
    "snapshot_period = 5   # period when to take a snapshot of the model for validation later\n",
    "\n",
    "# refer to the yml file to decide the training period:\n",
    "model_epoch_list = list(range(snapshot_period, 31, snapshot_period))    # snapshot epoch list for validation\n",
    "\n",
    "trainer_list = list(range(3))"
   ]
  },
  {
   "cell_type": "markdown",
   "metadata": {},
   "source": [
    "### prepare data"
   ]
  },
  {
   "cell_type": "code",
   "execution_count": 4,
   "metadata": {},
   "outputs": [
    {
     "name": "stderr",
     "output_type": "stream",
     "text": [
      "/home/xiangli/projects/GCN_program/largescale_GCN/HPC_version_GCN/21_GraphSage_custom_hpc_version/base_exec.py:39: YAMLLoadWarning: calling yaml.load() without Loader=... is deprecated, as the default Loader is unsafe. Please read https://msg.pyyaml.org/load for full details.\n",
      "  train_config = yaml.load(f_train_config)\n"
     ]
    },
    {
     "name": "stdout",
     "output_type": "stream",
     "text": [
      "Loading training data..\n",
      "Done loading training data..\n"
     ]
    }
   ],
   "source": [
    "# =============== Step1 *** prepare for the batches, models, model_evaluation\n",
    "train_params, train_phases, train_data, arch_gcn = train_setting(data_name, datapath, train_config_yml)\n",
    "prepare(working_dir, train_data, train_params, arch_gcn)\n",
    "train_phase_file_name = prepare_data_folder + 'model_train_phase'\n",
    "with open(train_phase_file_name, \"wb\") as fp:\n",
    "    dill.dump(train_phases, fp)"
   ]
  },
  {
   "cell_type": "markdown",
   "metadata": {},
   "source": [
    "### Training process"
   ]
  },
  {
   "cell_type": "code",
   "execution_count": 5,
   "metadata": {},
   "outputs": [
    {
     "name": "stdout",
     "output_type": "stream",
     "text": [
      "\u001b[4mSTART PHASE    0\u001b[0m\n",
      "Start shuffling the node_train...\n",
      "using sage node sampler! \n",
      "sampling 200 subgraphs:   time = 0.292 sec\n"
     ]
    },
    {
     "name": "stderr",
     "output_type": "stream",
     "text": [
      "/home/xiangli/projects/GCN_program/largescale_GCN/HPC_version_GCN/21_GraphSage_custom_hpc_version/batch_machine.py:161: RuntimeWarning: invalid value encountered in true_divide\n",
      "  val = np.clip(self.norm_loss_train[v]/self.norm_aggr_train[i_s:i_e], 0, 1e4)\n",
      "/home/xiangli/projects/GCN_program/largescale_GCN/HPC_version_GCN/21_GraphSage_custom_hpc_version/batch_machine.py:161: RuntimeWarning: divide by zero encountered in true_divide\n",
      "  val = np.clip(self.norm_loss_train[v]/self.norm_aggr_train[i_s:i_e], 0, 1e4)\n"
     ]
    },
    {
     "name": "stdout",
     "output_type": "stream",
     "text": [
      "\u001b[1mEpoch    1, Batch ID 0\u001b[0m\n",
      "\u001b[1mEpoch    1, Batch ID 1\u001b[0m\n",
      "\u001b[1mEpoch    1, Batch ID 2\u001b[0m\n",
      "\u001b[1mEpoch    1, Batch ID 3\u001b[0m\n",
      "\u001b[1mEpoch    1, Batch ID 4\u001b[0m\n",
      "\u001b[1mEpoch    1, Batch ID 5\u001b[0m\n",
      "\u001b[1mEpoch    2, Batch ID 0\u001b[0m\n",
      "\u001b[1mEpoch    2, Batch ID 1\u001b[0m\n",
      "\u001b[1mEpoch    2, Batch ID 2\u001b[0m\n",
      "\u001b[1mEpoch    2, Batch ID 3\u001b[0m\n",
      "\u001b[1mEpoch    2, Batch ID 4\u001b[0m\n",
      "\u001b[1mEpoch    2, Batch ID 5\u001b[0m\n",
      "\u001b[1mEpoch    3, Batch ID 0\u001b[0m\n",
      "\u001b[1mEpoch    3, Batch ID 1\u001b[0m\n",
      "\u001b[1mEpoch    3, Batch ID 2\u001b[0m\n",
      "\u001b[1mEpoch    3, Batch ID 3\u001b[0m\n",
      "\u001b[1mEpoch    3, Batch ID 4\u001b[0m\n",
      "\u001b[1mEpoch    3, Batch ID 5\u001b[0m\n",
      "\u001b[1mEpoch    4, Batch ID 0\u001b[0m\n",
      "\u001b[1mEpoch    4, Batch ID 1\u001b[0m\n",
      "\u001b[1mEpoch    4, Batch ID 2\u001b[0m\n",
      "\u001b[1mEpoch    4, Batch ID 3\u001b[0m\n",
      "\u001b[1mEpoch    4, Batch ID 4\u001b[0m\n",
      "\u001b[1mEpoch    4, Batch ID 5\u001b[0m\n",
      "\u001b[1mEpoch    5, Batch ID 0\u001b[0m\n",
      "\u001b[1mEpoch    5, Batch ID 1\u001b[0m\n",
      "\u001b[1mEpoch    5, Batch ID 2\u001b[0m\n",
      "\u001b[1mEpoch    5, Batch ID 3\u001b[0m\n",
      "\u001b[1mEpoch    5, Batch ID 4\u001b[0m\n",
      "\u001b[1mEpoch    5, Batch ID 5\u001b[0m\n",
      "\u001b[1mEpoch    6, Batch ID 0\u001b[0m\n",
      "\u001b[1mEpoch    6, Batch ID 1\u001b[0m\n",
      "\u001b[1mEpoch    6, Batch ID 2\u001b[0m\n",
      "\u001b[1mEpoch    6, Batch ID 3\u001b[0m\n",
      "\u001b[1mEpoch    6, Batch ID 4\u001b[0m\n",
      "\u001b[1mEpoch    6, Batch ID 5\u001b[0m\n",
      "\u001b[1mEpoch    7, Batch ID 0\u001b[0m\n",
      "\u001b[1mEpoch    7, Batch ID 1\u001b[0m\n",
      "\u001b[1mEpoch    7, Batch ID 2\u001b[0m\n",
      "\u001b[1mEpoch    7, Batch ID 3\u001b[0m\n",
      "\u001b[1mEpoch    7, Batch ID 4\u001b[0m\n",
      "\u001b[1mEpoch    7, Batch ID 5\u001b[0m\n",
      "\u001b[1mEpoch    8, Batch ID 0\u001b[0m\n",
      "\u001b[1mEpoch    8, Batch ID 1\u001b[0m\n",
      "\u001b[1mEpoch    8, Batch ID 2\u001b[0m\n",
      "\u001b[1mEpoch    8, Batch ID 3\u001b[0m\n",
      "\u001b[1mEpoch    8, Batch ID 4\u001b[0m\n",
      "\u001b[1mEpoch    8, Batch ID 5\u001b[0m\n",
      "\u001b[1mEpoch    9, Batch ID 0\u001b[0m\n",
      "\u001b[1mEpoch    9, Batch ID 1\u001b[0m\n",
      "\u001b[1mEpoch    9, Batch ID 2\u001b[0m\n",
      "\u001b[1mEpoch    9, Batch ID 3\u001b[0m\n",
      "\u001b[1mEpoch    9, Batch ID 4\u001b[0m\n",
      "\u001b[1mEpoch    9, Batch ID 5\u001b[0m\n",
      "\u001b[1mEpoch   10, Batch ID 0\u001b[0m\n",
      "\u001b[1mEpoch   10, Batch ID 1\u001b[0m\n",
      "\u001b[1mEpoch   10, Batch ID 2\u001b[0m\n",
      "\u001b[1mEpoch   10, Batch ID 3\u001b[0m\n",
      "\u001b[1mEpoch   10, Batch ID 4\u001b[0m\n",
      "\u001b[1mEpoch   10, Batch ID 5\u001b[0m\n",
      "\u001b[1mEpoch   11, Batch ID 0\u001b[0m\n",
      "\u001b[1mEpoch   11, Batch ID 1\u001b[0m\n",
      "\u001b[1mEpoch   11, Batch ID 2\u001b[0m\n",
      "\u001b[1mEpoch   11, Batch ID 3\u001b[0m\n",
      "\u001b[1mEpoch   11, Batch ID 4\u001b[0m\n",
      "\u001b[1mEpoch   11, Batch ID 5\u001b[0m\n",
      "\u001b[1mEpoch   12, Batch ID 0\u001b[0m\n",
      "\u001b[1mEpoch   12, Batch ID 1\u001b[0m\n",
      "\u001b[1mEpoch   12, Batch ID 2\u001b[0m\n",
      "\u001b[1mEpoch   12, Batch ID 3\u001b[0m\n",
      "\u001b[1mEpoch   12, Batch ID 4\u001b[0m\n",
      "\u001b[1mEpoch   12, Batch ID 5\u001b[0m\n",
      "\u001b[1mEpoch   13, Batch ID 0\u001b[0m\n",
      "\u001b[1mEpoch   13, Batch ID 1\u001b[0m\n",
      "\u001b[1mEpoch   13, Batch ID 2\u001b[0m\n",
      "\u001b[1mEpoch   13, Batch ID 3\u001b[0m\n",
      "\u001b[1mEpoch   13, Batch ID 4\u001b[0m\n",
      "\u001b[1mEpoch   13, Batch ID 5\u001b[0m\n",
      "\u001b[1mEpoch   14, Batch ID 0\u001b[0m\n",
      "\u001b[1mEpoch   14, Batch ID 1\u001b[0m\n",
      "\u001b[1mEpoch   14, Batch ID 2\u001b[0m\n",
      "\u001b[1mEpoch   14, Batch ID 3\u001b[0m\n",
      "\u001b[1mEpoch   14, Batch ID 4\u001b[0m\n",
      "\u001b[1mEpoch   14, Batch ID 5\u001b[0m\n",
      "\u001b[1mEpoch   15, Batch ID 0\u001b[0m\n",
      "\u001b[1mEpoch   15, Batch ID 1\u001b[0m\n",
      "\u001b[1mEpoch   15, Batch ID 2\u001b[0m\n",
      "\u001b[1mEpoch   15, Batch ID 3\u001b[0m\n",
      "\u001b[1mEpoch   15, Batch ID 4\u001b[0m\n",
      "\u001b[1mEpoch   15, Batch ID 5\u001b[0m\n",
      "\u001b[1mEpoch   16, Batch ID 0\u001b[0m\n",
      "\u001b[1mEpoch   16, Batch ID 1\u001b[0m\n",
      "\u001b[1mEpoch   16, Batch ID 2\u001b[0m\n",
      "\u001b[1mEpoch   16, Batch ID 3\u001b[0m\n",
      "\u001b[1mEpoch   16, Batch ID 4\u001b[0m\n",
      "\u001b[1mEpoch   16, Batch ID 5\u001b[0m\n",
      "\u001b[1mEpoch   17, Batch ID 0\u001b[0m\n",
      "\u001b[1mEpoch   17, Batch ID 1\u001b[0m\n",
      "\u001b[1mEpoch   17, Batch ID 2\u001b[0m\n",
      "\u001b[1mEpoch   17, Batch ID 3\u001b[0m\n",
      "\u001b[1mEpoch   17, Batch ID 4\u001b[0m\n",
      "\u001b[1mEpoch   17, Batch ID 5\u001b[0m\n",
      "\u001b[1mEpoch   18, Batch ID 0\u001b[0m\n",
      "\u001b[1mEpoch   18, Batch ID 1\u001b[0m\n",
      "\u001b[1mEpoch   18, Batch ID 2\u001b[0m\n",
      "\u001b[1mEpoch   18, Batch ID 3\u001b[0m\n",
      "\u001b[1mEpoch   18, Batch ID 4\u001b[0m\n",
      "\u001b[1mEpoch   18, Batch ID 5\u001b[0m\n",
      "\u001b[1mEpoch   19, Batch ID 0\u001b[0m\n",
      "\u001b[1mEpoch   19, Batch ID 1\u001b[0m\n",
      "\u001b[1mEpoch   19, Batch ID 2\u001b[0m\n",
      "\u001b[1mEpoch   19, Batch ID 3\u001b[0m\n",
      "\u001b[1mEpoch   19, Batch ID 4\u001b[0m\n",
      "\u001b[1mEpoch   19, Batch ID 5\u001b[0m\n",
      "\u001b[1mEpoch   20, Batch ID 0\u001b[0m\n",
      "\u001b[1mEpoch   20, Batch ID 1\u001b[0m\n",
      "\u001b[1mEpoch   20, Batch ID 2\u001b[0m\n",
      "\u001b[1mEpoch   20, Batch ID 3\u001b[0m\n",
      "\u001b[1mEpoch   20, Batch ID 4\u001b[0m\n",
      "\u001b[1mEpoch   20, Batch ID 5\u001b[0m\n",
      "\u001b[1mEpoch   21, Batch ID 0\u001b[0m\n",
      "\u001b[1mEpoch   21, Batch ID 1\u001b[0m\n",
      "\u001b[1mEpoch   21, Batch ID 2\u001b[0m\n",
      "\u001b[1mEpoch   21, Batch ID 3\u001b[0m\n",
      "\u001b[1mEpoch   21, Batch ID 4\u001b[0m\n",
      "\u001b[1mEpoch   21, Batch ID 5\u001b[0m\n",
      "\u001b[1mEpoch   22, Batch ID 0\u001b[0m\n",
      "\u001b[1mEpoch   22, Batch ID 1\u001b[0m\n",
      "\u001b[1mEpoch   22, Batch ID 2\u001b[0m\n",
      "\u001b[1mEpoch   22, Batch ID 3\u001b[0m\n",
      "\u001b[1mEpoch   22, Batch ID 4\u001b[0m\n",
      "\u001b[1mEpoch   22, Batch ID 5\u001b[0m\n",
      "\u001b[1mEpoch   23, Batch ID 0\u001b[0m\n",
      "\u001b[1mEpoch   23, Batch ID 1\u001b[0m\n",
      "\u001b[1mEpoch   23, Batch ID 2\u001b[0m\n",
      "\u001b[1mEpoch   23, Batch ID 3\u001b[0m\n",
      "\u001b[1mEpoch   23, Batch ID 4\u001b[0m\n",
      "\u001b[1mEpoch   23, Batch ID 5\u001b[0m\n",
      "\u001b[1mEpoch   24, Batch ID 0\u001b[0m\n",
      "\u001b[1mEpoch   24, Batch ID 1\u001b[0m\n",
      "\u001b[1mEpoch   24, Batch ID 2\u001b[0m\n",
      "\u001b[1mEpoch   24, Batch ID 3\u001b[0m\n",
      "\u001b[1mEpoch   24, Batch ID 4\u001b[0m\n",
      "\u001b[1mEpoch   24, Batch ID 5\u001b[0m\n",
      "\u001b[1mEpoch   25, Batch ID 0\u001b[0m\n",
      "\u001b[1mEpoch   25, Batch ID 1\u001b[0m\n",
      "\u001b[1mEpoch   25, Batch ID 2\u001b[0m\n",
      "\u001b[1mEpoch   25, Batch ID 3\u001b[0m\n",
      "\u001b[1mEpoch   25, Batch ID 4\u001b[0m\n",
      "\u001b[1mEpoch   25, Batch ID 5\u001b[0m\n",
      "\u001b[1mEpoch   26, Batch ID 0\u001b[0m\n",
      "\u001b[1mEpoch   26, Batch ID 1\u001b[0m\n",
      "\u001b[1mEpoch   26, Batch ID 2\u001b[0m\n",
      "\u001b[1mEpoch   26, Batch ID 3\u001b[0m\n",
      "\u001b[1mEpoch   26, Batch ID 4\u001b[0m\n",
      "\u001b[1mEpoch   26, Batch ID 5\u001b[0m\n",
      "\u001b[1mEpoch   27, Batch ID 0\u001b[0m\n",
      "\u001b[1mEpoch   27, Batch ID 1\u001b[0m\n",
      "\u001b[1mEpoch   27, Batch ID 2\u001b[0m\n",
      "\u001b[1mEpoch   27, Batch ID 3\u001b[0m\n",
      "\u001b[1mEpoch   27, Batch ID 4\u001b[0m\n",
      "\u001b[1mEpoch   27, Batch ID 5\u001b[0m\n",
      "\u001b[1mEpoch   28, Batch ID 0\u001b[0m\n",
      "\u001b[1mEpoch   28, Batch ID 1\u001b[0m\n",
      "\u001b[1mEpoch   28, Batch ID 2\u001b[0m\n",
      "\u001b[1mEpoch   28, Batch ID 3\u001b[0m\n",
      "\u001b[1mEpoch   28, Batch ID 4\u001b[0m\n",
      "\u001b[1mEpoch   28, Batch ID 5\u001b[0m\n",
      "\u001b[1mEpoch   29, Batch ID 0\u001b[0m\n",
      "\u001b[1mEpoch   29, Batch ID 1\u001b[0m\n",
      "\u001b[1mEpoch   29, Batch ID 2\u001b[0m\n",
      "\u001b[1mEpoch   29, Batch ID 3\u001b[0m\n",
      "\u001b[1mEpoch   29, Batch ID 4\u001b[0m\n",
      "\u001b[1mEpoch   29, Batch ID 5\u001b[0m\n",
      "\u001b[1mEpoch   30, Batch ID 0\u001b[0m\n",
      "\u001b[1mEpoch   30, Batch ID 1\u001b[0m\n",
      "\u001b[1mEpoch   30, Batch ID 2\u001b[0m\n",
      "\u001b[1mEpoch   30, Batch ID 3\u001b[0m\n",
      "\u001b[1mEpoch   30, Batch ID 4\u001b[0m\n",
      "\u001b[1mEpoch   30, Batch ID 5\u001b[0m\n",
      "\u001b[93mOptimization Finished!\u001b[0m\n",
      "\u001b[91mTotal training time: 4740.87 ms\u001b[0m\n",
      "\u001b[91mTotal train data uploading time: 343.18 ms\u001b[0m\n",
      "\u001b[4mSTART PHASE    0\u001b[0m\n",
      "Start shuffling the node_train...\n",
      "using sage node sampler! \n",
      "sampling 200 subgraphs:   time = 0.294 sec\n",
      "\u001b[1mEpoch    1, Batch ID 0\u001b[0m\n",
      "\u001b[1mEpoch    1, Batch ID 1\u001b[0m\n",
      "\u001b[1mEpoch    1, Batch ID 2\u001b[0m\n",
      "\u001b[1mEpoch    1, Batch ID 3\u001b[0m\n",
      "\u001b[1mEpoch    1, Batch ID 4\u001b[0m\n",
      "\u001b[1mEpoch    1, Batch ID 5\u001b[0m\n",
      "\u001b[1mEpoch    2, Batch ID 0\u001b[0m\n",
      "\u001b[1mEpoch    2, Batch ID 1\u001b[0m\n",
      "\u001b[1mEpoch    2, Batch ID 2\u001b[0m\n",
      "\u001b[1mEpoch    2, Batch ID 3\u001b[0m\n",
      "\u001b[1mEpoch    2, Batch ID 4\u001b[0m\n",
      "\u001b[1mEpoch    2, Batch ID 5\u001b[0m\n",
      "\u001b[1mEpoch    3, Batch ID 0\u001b[0m\n",
      "\u001b[1mEpoch    3, Batch ID 1\u001b[0m\n",
      "\u001b[1mEpoch    3, Batch ID 2\u001b[0m\n",
      "\u001b[1mEpoch    3, Batch ID 3\u001b[0m\n",
      "\u001b[1mEpoch    3, Batch ID 4\u001b[0m\n",
      "\u001b[1mEpoch    3, Batch ID 5\u001b[0m\n",
      "\u001b[1mEpoch    4, Batch ID 0\u001b[0m\n",
      "\u001b[1mEpoch    4, Batch ID 1\u001b[0m\n",
      "\u001b[1mEpoch    4, Batch ID 2\u001b[0m\n",
      "\u001b[1mEpoch    4, Batch ID 3\u001b[0m\n",
      "\u001b[1mEpoch    4, Batch ID 4\u001b[0m\n",
      "\u001b[1mEpoch    4, Batch ID 5\u001b[0m\n",
      "\u001b[1mEpoch    5, Batch ID 0\u001b[0m\n",
      "\u001b[1mEpoch    5, Batch ID 1\u001b[0m\n",
      "\u001b[1mEpoch    5, Batch ID 2\u001b[0m\n",
      "\u001b[1mEpoch    5, Batch ID 3\u001b[0m\n",
      "\u001b[1mEpoch    5, Batch ID 4\u001b[0m\n",
      "\u001b[1mEpoch    5, Batch ID 5\u001b[0m\n",
      "\u001b[1mEpoch    6, Batch ID 0\u001b[0m\n",
      "\u001b[1mEpoch    6, Batch ID 1\u001b[0m\n",
      "\u001b[1mEpoch    6, Batch ID 2\u001b[0m\n",
      "\u001b[1mEpoch    6, Batch ID 3\u001b[0m\n",
      "\u001b[1mEpoch    6, Batch ID 4\u001b[0m\n",
      "\u001b[1mEpoch    6, Batch ID 5\u001b[0m\n",
      "\u001b[1mEpoch    7, Batch ID 0\u001b[0m\n",
      "\u001b[1mEpoch    7, Batch ID 1\u001b[0m\n",
      "\u001b[1mEpoch    7, Batch ID 2\u001b[0m\n",
      "\u001b[1mEpoch    7, Batch ID 3\u001b[0m\n",
      "\u001b[1mEpoch    7, Batch ID 4\u001b[0m\n",
      "\u001b[1mEpoch    7, Batch ID 5\u001b[0m\n",
      "\u001b[1mEpoch    8, Batch ID 0\u001b[0m\n",
      "\u001b[1mEpoch    8, Batch ID 1\u001b[0m\n",
      "\u001b[1mEpoch    8, Batch ID 2\u001b[0m\n",
      "\u001b[1mEpoch    8, Batch ID 3\u001b[0m\n",
      "\u001b[1mEpoch    8, Batch ID 4\u001b[0m\n",
      "\u001b[1mEpoch    8, Batch ID 5\u001b[0m\n",
      "\u001b[1mEpoch    9, Batch ID 0\u001b[0m\n",
      "\u001b[1mEpoch    9, Batch ID 1\u001b[0m\n",
      "\u001b[1mEpoch    9, Batch ID 2\u001b[0m\n",
      "\u001b[1mEpoch    9, Batch ID 3\u001b[0m\n",
      "\u001b[1mEpoch    9, Batch ID 4\u001b[0m\n",
      "\u001b[1mEpoch    9, Batch ID 5\u001b[0m\n",
      "\u001b[1mEpoch   10, Batch ID 0\u001b[0m\n",
      "\u001b[1mEpoch   10, Batch ID 1\u001b[0m\n",
      "\u001b[1mEpoch   10, Batch ID 2\u001b[0m\n",
      "\u001b[1mEpoch   10, Batch ID 3\u001b[0m\n",
      "\u001b[1mEpoch   10, Batch ID 4\u001b[0m\n",
      "\u001b[1mEpoch   10, Batch ID 5\u001b[0m\n",
      "\u001b[1mEpoch   11, Batch ID 0\u001b[0m\n",
      "\u001b[1mEpoch   11, Batch ID 1\u001b[0m\n",
      "\u001b[1mEpoch   11, Batch ID 2\u001b[0m\n",
      "\u001b[1mEpoch   11, Batch ID 3\u001b[0m\n",
      "\u001b[1mEpoch   11, Batch ID 4\u001b[0m\n",
      "\u001b[1mEpoch   11, Batch ID 5\u001b[0m\n",
      "\u001b[1mEpoch   12, Batch ID 0\u001b[0m\n",
      "\u001b[1mEpoch   12, Batch ID 1\u001b[0m\n",
      "\u001b[1mEpoch   12, Batch ID 2\u001b[0m\n",
      "\u001b[1mEpoch   12, Batch ID 3\u001b[0m\n",
      "\u001b[1mEpoch   12, Batch ID 4\u001b[0m\n",
      "\u001b[1mEpoch   12, Batch ID 5\u001b[0m\n",
      "\u001b[1mEpoch   13, Batch ID 0\u001b[0m\n",
      "\u001b[1mEpoch   13, Batch ID 1\u001b[0m\n",
      "\u001b[1mEpoch   13, Batch ID 2\u001b[0m\n",
      "\u001b[1mEpoch   13, Batch ID 3\u001b[0m\n",
      "\u001b[1mEpoch   13, Batch ID 4\u001b[0m\n"
     ]
    },
    {
     "name": "stdout",
     "output_type": "stream",
     "text": [
      "\u001b[1mEpoch   13, Batch ID 5\u001b[0m\n",
      "\u001b[1mEpoch   14, Batch ID 0\u001b[0m\n",
      "\u001b[1mEpoch   14, Batch ID 1\u001b[0m\n",
      "\u001b[1mEpoch   14, Batch ID 2\u001b[0m\n",
      "\u001b[1mEpoch   14, Batch ID 3\u001b[0m\n",
      "\u001b[1mEpoch   14, Batch ID 4\u001b[0m\n",
      "\u001b[1mEpoch   14, Batch ID 5\u001b[0m\n",
      "\u001b[1mEpoch   15, Batch ID 0\u001b[0m\n",
      "\u001b[1mEpoch   15, Batch ID 1\u001b[0m\n",
      "\u001b[1mEpoch   15, Batch ID 2\u001b[0m\n",
      "\u001b[1mEpoch   15, Batch ID 3\u001b[0m\n",
      "\u001b[1mEpoch   15, Batch ID 4\u001b[0m\n",
      "\u001b[1mEpoch   15, Batch ID 5\u001b[0m\n",
      "\u001b[1mEpoch   16, Batch ID 0\u001b[0m\n",
      "\u001b[1mEpoch   16, Batch ID 1\u001b[0m\n",
      "\u001b[1mEpoch   16, Batch ID 2\u001b[0m\n",
      "\u001b[1mEpoch   16, Batch ID 3\u001b[0m\n",
      "\u001b[1mEpoch   16, Batch ID 4\u001b[0m\n",
      "\u001b[1mEpoch   16, Batch ID 5\u001b[0m\n",
      "\u001b[1mEpoch   17, Batch ID 0\u001b[0m\n",
      "\u001b[1mEpoch   17, Batch ID 1\u001b[0m\n",
      "\u001b[1mEpoch   17, Batch ID 2\u001b[0m\n",
      "\u001b[1mEpoch   17, Batch ID 3\u001b[0m\n",
      "\u001b[1mEpoch   17, Batch ID 4\u001b[0m\n",
      "\u001b[1mEpoch   17, Batch ID 5\u001b[0m\n",
      "\u001b[1mEpoch   18, Batch ID 0\u001b[0m\n",
      "\u001b[1mEpoch   18, Batch ID 1\u001b[0m\n",
      "\u001b[1mEpoch   18, Batch ID 2\u001b[0m\n",
      "\u001b[1mEpoch   18, Batch ID 3\u001b[0m\n",
      "\u001b[1mEpoch   18, Batch ID 4\u001b[0m\n",
      "\u001b[1mEpoch   18, Batch ID 5\u001b[0m\n",
      "\u001b[1mEpoch   19, Batch ID 0\u001b[0m\n",
      "\u001b[1mEpoch   19, Batch ID 1\u001b[0m\n",
      "\u001b[1mEpoch   19, Batch ID 2\u001b[0m\n",
      "\u001b[1mEpoch   19, Batch ID 3\u001b[0m\n",
      "\u001b[1mEpoch   19, Batch ID 4\u001b[0m\n",
      "\u001b[1mEpoch   19, Batch ID 5\u001b[0m\n",
      "\u001b[1mEpoch   20, Batch ID 0\u001b[0m\n",
      "\u001b[1mEpoch   20, Batch ID 1\u001b[0m\n",
      "\u001b[1mEpoch   20, Batch ID 2\u001b[0m\n",
      "\u001b[1mEpoch   20, Batch ID 3\u001b[0m\n",
      "\u001b[1mEpoch   20, Batch ID 4\u001b[0m\n",
      "\u001b[1mEpoch   20, Batch ID 5\u001b[0m\n",
      "\u001b[1mEpoch   21, Batch ID 0\u001b[0m\n",
      "\u001b[1mEpoch   21, Batch ID 1\u001b[0m\n",
      "\u001b[1mEpoch   21, Batch ID 2\u001b[0m\n",
      "\u001b[1mEpoch   21, Batch ID 3\u001b[0m\n",
      "\u001b[1mEpoch   21, Batch ID 4\u001b[0m\n",
      "\u001b[1mEpoch   21, Batch ID 5\u001b[0m\n",
      "\u001b[1mEpoch   22, Batch ID 0\u001b[0m\n",
      "\u001b[1mEpoch   22, Batch ID 1\u001b[0m\n",
      "\u001b[1mEpoch   22, Batch ID 2\u001b[0m\n",
      "\u001b[1mEpoch   22, Batch ID 3\u001b[0m\n",
      "\u001b[1mEpoch   22, Batch ID 4\u001b[0m\n",
      "\u001b[1mEpoch   22, Batch ID 5\u001b[0m\n",
      "\u001b[1mEpoch   23, Batch ID 0\u001b[0m\n",
      "\u001b[1mEpoch   23, Batch ID 1\u001b[0m\n",
      "\u001b[1mEpoch   23, Batch ID 2\u001b[0m\n",
      "\u001b[1mEpoch   23, Batch ID 3\u001b[0m\n",
      "\u001b[1mEpoch   23, Batch ID 4\u001b[0m\n",
      "\u001b[1mEpoch   23, Batch ID 5\u001b[0m\n",
      "\u001b[1mEpoch   24, Batch ID 0\u001b[0m\n",
      "\u001b[1mEpoch   24, Batch ID 1\u001b[0m\n",
      "\u001b[1mEpoch   24, Batch ID 2\u001b[0m\n",
      "\u001b[1mEpoch   24, Batch ID 3\u001b[0m\n",
      "\u001b[1mEpoch   24, Batch ID 4\u001b[0m\n",
      "\u001b[1mEpoch   24, Batch ID 5\u001b[0m\n",
      "\u001b[1mEpoch   25, Batch ID 0\u001b[0m\n",
      "\u001b[1mEpoch   25, Batch ID 1\u001b[0m\n",
      "\u001b[1mEpoch   25, Batch ID 2\u001b[0m\n",
      "\u001b[1mEpoch   25, Batch ID 3\u001b[0m\n",
      "\u001b[1mEpoch   25, Batch ID 4\u001b[0m\n",
      "\u001b[1mEpoch   25, Batch ID 5\u001b[0m\n",
      "\u001b[1mEpoch   26, Batch ID 0\u001b[0m\n",
      "\u001b[1mEpoch   26, Batch ID 1\u001b[0m\n",
      "\u001b[1mEpoch   26, Batch ID 2\u001b[0m\n",
      "\u001b[1mEpoch   26, Batch ID 3\u001b[0m\n",
      "\u001b[1mEpoch   26, Batch ID 4\u001b[0m\n",
      "\u001b[1mEpoch   26, Batch ID 5\u001b[0m\n",
      "\u001b[1mEpoch   27, Batch ID 0\u001b[0m\n",
      "\u001b[1mEpoch   27, Batch ID 1\u001b[0m\n",
      "\u001b[1mEpoch   27, Batch ID 2\u001b[0m\n",
      "\u001b[1mEpoch   27, Batch ID 3\u001b[0m\n",
      "\u001b[1mEpoch   27, Batch ID 4\u001b[0m\n",
      "\u001b[1mEpoch   27, Batch ID 5\u001b[0m\n",
      "\u001b[1mEpoch   28, Batch ID 0\u001b[0m\n",
      "\u001b[1mEpoch   28, Batch ID 1\u001b[0m\n",
      "\u001b[1mEpoch   28, Batch ID 2\u001b[0m\n",
      "\u001b[1mEpoch   28, Batch ID 3\u001b[0m\n",
      "\u001b[1mEpoch   28, Batch ID 4\u001b[0m\n",
      "\u001b[1mEpoch   28, Batch ID 5\u001b[0m\n",
      "\u001b[1mEpoch   29, Batch ID 0\u001b[0m\n",
      "\u001b[1mEpoch   29, Batch ID 1\u001b[0m\n",
      "\u001b[1mEpoch   29, Batch ID 2\u001b[0m\n",
      "\u001b[1mEpoch   29, Batch ID 3\u001b[0m\n",
      "\u001b[1mEpoch   29, Batch ID 4\u001b[0m\n",
      "\u001b[1mEpoch   29, Batch ID 5\u001b[0m\n",
      "\u001b[1mEpoch   30, Batch ID 0\u001b[0m\n",
      "\u001b[1mEpoch   30, Batch ID 1\u001b[0m\n",
      "\u001b[1mEpoch   30, Batch ID 2\u001b[0m\n",
      "\u001b[1mEpoch   30, Batch ID 3\u001b[0m\n",
      "\u001b[1mEpoch   30, Batch ID 4\u001b[0m\n",
      "\u001b[1mEpoch   30, Batch ID 5\u001b[0m\n",
      "\u001b[93mOptimization Finished!\u001b[0m\n",
      "\u001b[91mTotal training time: 4045.15 ms\u001b[0m\n",
      "\u001b[91mTotal train data uploading time: 324.91 ms\u001b[0m\n",
      "\u001b[4mSTART PHASE    0\u001b[0m\n",
      "Start shuffling the node_train...\n",
      "using sage node sampler! \n",
      "sampling 200 subgraphs:   time = 0.282 sec\n",
      "\u001b[1mEpoch    1, Batch ID 0\u001b[0m\n",
      "\u001b[1mEpoch    1, Batch ID 1\u001b[0m\n",
      "\u001b[1mEpoch    1, Batch ID 2\u001b[0m\n",
      "\u001b[1mEpoch    1, Batch ID 3\u001b[0m\n",
      "\u001b[1mEpoch    1, Batch ID 4\u001b[0m\n",
      "\u001b[1mEpoch    1, Batch ID 5\u001b[0m\n",
      "\u001b[1mEpoch    2, Batch ID 0\u001b[0m\n",
      "\u001b[1mEpoch    2, Batch ID 1\u001b[0m\n",
      "\u001b[1mEpoch    2, Batch ID 2\u001b[0m\n",
      "\u001b[1mEpoch    2, Batch ID 3\u001b[0m\n",
      "\u001b[1mEpoch    2, Batch ID 4\u001b[0m\n",
      "\u001b[1mEpoch    2, Batch ID 5\u001b[0m\n",
      "\u001b[1mEpoch    3, Batch ID 0\u001b[0m\n",
      "\u001b[1mEpoch    3, Batch ID 1\u001b[0m\n",
      "\u001b[1mEpoch    3, Batch ID 2\u001b[0m\n",
      "\u001b[1mEpoch    3, Batch ID 3\u001b[0m\n",
      "\u001b[1mEpoch    3, Batch ID 4\u001b[0m\n",
      "\u001b[1mEpoch    3, Batch ID 5\u001b[0m\n",
      "\u001b[1mEpoch    4, Batch ID 0\u001b[0m\n",
      "\u001b[1mEpoch    4, Batch ID 1\u001b[0m\n",
      "\u001b[1mEpoch    4, Batch ID 2\u001b[0m\n",
      "\u001b[1mEpoch    4, Batch ID 3\u001b[0m\n",
      "\u001b[1mEpoch    4, Batch ID 4\u001b[0m\n",
      "\u001b[1mEpoch    4, Batch ID 5\u001b[0m\n",
      "\u001b[1mEpoch    5, Batch ID 0\u001b[0m\n",
      "\u001b[1mEpoch    5, Batch ID 1\u001b[0m\n",
      "\u001b[1mEpoch    5, Batch ID 2\u001b[0m\n",
      "\u001b[1mEpoch    5, Batch ID 3\u001b[0m\n",
      "\u001b[1mEpoch    5, Batch ID 4\u001b[0m\n",
      "\u001b[1mEpoch    5, Batch ID 5\u001b[0m\n",
      "\u001b[1mEpoch    6, Batch ID 0\u001b[0m\n",
      "\u001b[1mEpoch    6, Batch ID 1\u001b[0m\n",
      "\u001b[1mEpoch    6, Batch ID 2\u001b[0m\n",
      "\u001b[1mEpoch    6, Batch ID 3\u001b[0m\n",
      "\u001b[1mEpoch    6, Batch ID 4\u001b[0m\n",
      "\u001b[1mEpoch    6, Batch ID 5\u001b[0m\n",
      "\u001b[1mEpoch    7, Batch ID 0\u001b[0m\n",
      "\u001b[1mEpoch    7, Batch ID 1\u001b[0m\n",
      "\u001b[1mEpoch    7, Batch ID 2\u001b[0m\n",
      "\u001b[1mEpoch    7, Batch ID 3\u001b[0m\n",
      "\u001b[1mEpoch    7, Batch ID 4\u001b[0m\n",
      "\u001b[1mEpoch    7, Batch ID 5\u001b[0m\n",
      "\u001b[1mEpoch    8, Batch ID 0\u001b[0m\n",
      "\u001b[1mEpoch    8, Batch ID 1\u001b[0m\n",
      "\u001b[1mEpoch    8, Batch ID 2\u001b[0m\n",
      "\u001b[1mEpoch    8, Batch ID 3\u001b[0m\n",
      "\u001b[1mEpoch    8, Batch ID 4\u001b[0m\n",
      "\u001b[1mEpoch    8, Batch ID 5\u001b[0m\n",
      "\u001b[1mEpoch    9, Batch ID 0\u001b[0m\n",
      "\u001b[1mEpoch    9, Batch ID 1\u001b[0m\n",
      "\u001b[1mEpoch    9, Batch ID 2\u001b[0m\n",
      "\u001b[1mEpoch    9, Batch ID 3\u001b[0m\n",
      "\u001b[1mEpoch    9, Batch ID 4\u001b[0m\n",
      "\u001b[1mEpoch    9, Batch ID 5\u001b[0m\n",
      "\u001b[1mEpoch   10, Batch ID 0\u001b[0m\n",
      "\u001b[1mEpoch   10, Batch ID 1\u001b[0m\n",
      "\u001b[1mEpoch   10, Batch ID 2\u001b[0m\n",
      "\u001b[1mEpoch   10, Batch ID 3\u001b[0m\n",
      "\u001b[1mEpoch   10, Batch ID 4\u001b[0m\n",
      "\u001b[1mEpoch   10, Batch ID 5\u001b[0m\n",
      "\u001b[1mEpoch   11, Batch ID 0\u001b[0m\n",
      "\u001b[1mEpoch   11, Batch ID 1\u001b[0m\n",
      "\u001b[1mEpoch   11, Batch ID 2\u001b[0m\n",
      "\u001b[1mEpoch   11, Batch ID 3\u001b[0m\n",
      "\u001b[1mEpoch   11, Batch ID 4\u001b[0m\n",
      "\u001b[1mEpoch   11, Batch ID 5\u001b[0m\n",
      "\u001b[1mEpoch   12, Batch ID 0\u001b[0m\n",
      "\u001b[1mEpoch   12, Batch ID 1\u001b[0m\n",
      "\u001b[1mEpoch   12, Batch ID 2\u001b[0m\n",
      "\u001b[1mEpoch   12, Batch ID 3\u001b[0m\n",
      "\u001b[1mEpoch   12, Batch ID 4\u001b[0m\n",
      "\u001b[1mEpoch   12, Batch ID 5\u001b[0m\n",
      "\u001b[1mEpoch   13, Batch ID 0\u001b[0m\n",
      "\u001b[1mEpoch   13, Batch ID 1\u001b[0m\n",
      "\u001b[1mEpoch   13, Batch ID 2\u001b[0m\n",
      "\u001b[1mEpoch   13, Batch ID 3\u001b[0m\n",
      "\u001b[1mEpoch   13, Batch ID 4\u001b[0m\n",
      "\u001b[1mEpoch   13, Batch ID 5\u001b[0m\n",
      "\u001b[1mEpoch   14, Batch ID 0\u001b[0m\n",
      "\u001b[1mEpoch   14, Batch ID 1\u001b[0m\n",
      "\u001b[1mEpoch   14, Batch ID 2\u001b[0m\n",
      "\u001b[1mEpoch   14, Batch ID 3\u001b[0m\n",
      "\u001b[1mEpoch   14, Batch ID 4\u001b[0m\n",
      "\u001b[1mEpoch   14, Batch ID 5\u001b[0m\n",
      "\u001b[1mEpoch   15, Batch ID 0\u001b[0m\n",
      "\u001b[1mEpoch   15, Batch ID 1\u001b[0m\n",
      "\u001b[1mEpoch   15, Batch ID 2\u001b[0m\n",
      "\u001b[1mEpoch   15, Batch ID 3\u001b[0m\n",
      "\u001b[1mEpoch   15, Batch ID 4\u001b[0m\n",
      "\u001b[1mEpoch   15, Batch ID 5\u001b[0m\n",
      "\u001b[1mEpoch   16, Batch ID 0\u001b[0m\n",
      "\u001b[1mEpoch   16, Batch ID 1\u001b[0m\n",
      "\u001b[1mEpoch   16, Batch ID 2\u001b[0m\n",
      "\u001b[1mEpoch   16, Batch ID 3\u001b[0m\n",
      "\u001b[1mEpoch   16, Batch ID 4\u001b[0m\n",
      "\u001b[1mEpoch   16, Batch ID 5\u001b[0m\n",
      "\u001b[1mEpoch   17, Batch ID 0\u001b[0m\n",
      "\u001b[1mEpoch   17, Batch ID 1\u001b[0m\n",
      "\u001b[1mEpoch   17, Batch ID 2\u001b[0m\n",
      "\u001b[1mEpoch   17, Batch ID 3\u001b[0m\n",
      "\u001b[1mEpoch   17, Batch ID 4\u001b[0m\n",
      "\u001b[1mEpoch   17, Batch ID 5\u001b[0m\n",
      "\u001b[1mEpoch   18, Batch ID 0\u001b[0m\n",
      "\u001b[1mEpoch   18, Batch ID 1\u001b[0m\n",
      "\u001b[1mEpoch   18, Batch ID 2\u001b[0m\n",
      "\u001b[1mEpoch   18, Batch ID 3\u001b[0m\n",
      "\u001b[1mEpoch   18, Batch ID 4\u001b[0m\n",
      "\u001b[1mEpoch   18, Batch ID 5\u001b[0m\n",
      "\u001b[1mEpoch   19, Batch ID 0\u001b[0m\n",
      "\u001b[1mEpoch   19, Batch ID 1\u001b[0m\n",
      "\u001b[1mEpoch   19, Batch ID 2\u001b[0m\n",
      "\u001b[1mEpoch   19, Batch ID 3\u001b[0m\n",
      "\u001b[1mEpoch   19, Batch ID 4\u001b[0m\n",
      "\u001b[1mEpoch   19, Batch ID 5\u001b[0m\n",
      "\u001b[1mEpoch   20, Batch ID 0\u001b[0m\n",
      "\u001b[1mEpoch   20, Batch ID 1\u001b[0m\n",
      "\u001b[1mEpoch   20, Batch ID 2\u001b[0m\n",
      "\u001b[1mEpoch   20, Batch ID 3\u001b[0m\n",
      "\u001b[1mEpoch   20, Batch ID 4\u001b[0m\n",
      "\u001b[1mEpoch   20, Batch ID 5\u001b[0m\n",
      "\u001b[1mEpoch   21, Batch ID 0\u001b[0m\n",
      "\u001b[1mEpoch   21, Batch ID 1\u001b[0m\n",
      "\u001b[1mEpoch   21, Batch ID 2\u001b[0m\n",
      "\u001b[1mEpoch   21, Batch ID 3\u001b[0m\n",
      "\u001b[1mEpoch   21, Batch ID 4\u001b[0m\n",
      "\u001b[1mEpoch   21, Batch ID 5\u001b[0m\n",
      "\u001b[1mEpoch   22, Batch ID 0\u001b[0m\n",
      "\u001b[1mEpoch   22, Batch ID 1\u001b[0m\n",
      "\u001b[1mEpoch   22, Batch ID 2\u001b[0m\n",
      "\u001b[1mEpoch   22, Batch ID 3\u001b[0m\n",
      "\u001b[1mEpoch   22, Batch ID 4\u001b[0m\n",
      "\u001b[1mEpoch   22, Batch ID 5\u001b[0m\n",
      "\u001b[1mEpoch   23, Batch ID 0\u001b[0m\n",
      "\u001b[1mEpoch   23, Batch ID 1\u001b[0m\n",
      "\u001b[1mEpoch   23, Batch ID 2\u001b[0m\n",
      "\u001b[1mEpoch   23, Batch ID 3\u001b[0m\n",
      "\u001b[1mEpoch   23, Batch ID 4\u001b[0m\n",
      "\u001b[1mEpoch   23, Batch ID 5\u001b[0m\n",
      "\u001b[1mEpoch   24, Batch ID 0\u001b[0m\n",
      "\u001b[1mEpoch   24, Batch ID 1\u001b[0m\n",
      "\u001b[1mEpoch   24, Batch ID 2\u001b[0m\n",
      "\u001b[1mEpoch   24, Batch ID 3\u001b[0m\n",
      "\u001b[1mEpoch   24, Batch ID 4\u001b[0m\n",
      "\u001b[1mEpoch   24, Batch ID 5\u001b[0m\n",
      "\u001b[1mEpoch   25, Batch ID 0\u001b[0m\n",
      "\u001b[1mEpoch   25, Batch ID 1\u001b[0m\n",
      "\u001b[1mEpoch   25, Batch ID 2\u001b[0m\n",
      "\u001b[1mEpoch   25, Batch ID 3\u001b[0m\n",
      "\u001b[1mEpoch   25, Batch ID 4\u001b[0m\n",
      "\u001b[1mEpoch   25, Batch ID 5\u001b[0m\n",
      "\u001b[1mEpoch   26, Batch ID 0\u001b[0m\n",
      "\u001b[1mEpoch   26, Batch ID 1\u001b[0m\n",
      "\u001b[1mEpoch   26, Batch ID 2\u001b[0m\n",
      "\u001b[1mEpoch   26, Batch ID 3\u001b[0m\n"
     ]
    },
    {
     "name": "stdout",
     "output_type": "stream",
     "text": [
      "\u001b[1mEpoch   26, Batch ID 4\u001b[0m\n",
      "\u001b[1mEpoch   26, Batch ID 5\u001b[0m\n",
      "\u001b[1mEpoch   27, Batch ID 0\u001b[0m\n",
      "\u001b[1mEpoch   27, Batch ID 1\u001b[0m\n",
      "\u001b[1mEpoch   27, Batch ID 2\u001b[0m\n",
      "\u001b[1mEpoch   27, Batch ID 3\u001b[0m\n",
      "\u001b[1mEpoch   27, Batch ID 4\u001b[0m\n",
      "\u001b[1mEpoch   27, Batch ID 5\u001b[0m\n",
      "\u001b[1mEpoch   28, Batch ID 0\u001b[0m\n",
      "\u001b[1mEpoch   28, Batch ID 1\u001b[0m\n",
      "\u001b[1mEpoch   28, Batch ID 2\u001b[0m\n",
      "\u001b[1mEpoch   28, Batch ID 3\u001b[0m\n",
      "\u001b[1mEpoch   28, Batch ID 4\u001b[0m\n",
      "\u001b[1mEpoch   28, Batch ID 5\u001b[0m\n",
      "\u001b[1mEpoch   29, Batch ID 0\u001b[0m\n",
      "\u001b[1mEpoch   29, Batch ID 1\u001b[0m\n",
      "\u001b[1mEpoch   29, Batch ID 2\u001b[0m\n",
      "\u001b[1mEpoch   29, Batch ID 3\u001b[0m\n",
      "\u001b[1mEpoch   29, Batch ID 4\u001b[0m\n",
      "\u001b[1mEpoch   29, Batch ID 5\u001b[0m\n",
      "\u001b[1mEpoch   30, Batch ID 0\u001b[0m\n",
      "\u001b[1mEpoch   30, Batch ID 1\u001b[0m\n",
      "\u001b[1mEpoch   30, Batch ID 2\u001b[0m\n",
      "\u001b[1mEpoch   30, Batch ID 3\u001b[0m\n",
      "\u001b[1mEpoch   30, Batch ID 4\u001b[0m\n",
      "\u001b[1mEpoch   30, Batch ID 5\u001b[0m\n",
      "\u001b[93mOptimization Finished!\u001b[0m\n",
      "\u001b[91mTotal training time: 3997.20 ms\u001b[0m\n",
      "\u001b[91mTotal train data uploading time: 340.36 ms\u001b[0m\n",
      "\u001b[4mSTART PHASE    0\u001b[0m\n",
      "Start shuffling the node_train...\n",
      "using sage node sampler! \n",
      "sampling 200 subgraphs:   time = 0.285 sec\n",
      "\u001b[1mEpoch    1, Batch ID 0\u001b[0m\n",
      "\u001b[1mEpoch    2, Batch ID 0\u001b[0m\n",
      "\u001b[1mEpoch    3, Batch ID 0\u001b[0m\n",
      "\u001b[1mEpoch    4, Batch ID 0\u001b[0m\n",
      "\u001b[1mEpoch    5, Batch ID 0\u001b[0m\n",
      "\u001b[1mEpoch    1, Batch ID 1\u001b[0m\n",
      "\u001b[1mEpoch    2, Batch ID 1\u001b[0m\n",
      "\u001b[1mEpoch    3, Batch ID 1\u001b[0m\n",
      "\u001b[1mEpoch    4, Batch ID 1\u001b[0m\n",
      "\u001b[1mEpoch    5, Batch ID 1\u001b[0m\n",
      "\u001b[1mEpoch    1, Batch ID 2\u001b[0m\n",
      "\u001b[1mEpoch    2, Batch ID 2\u001b[0m\n",
      "\u001b[1mEpoch    3, Batch ID 2\u001b[0m\n",
      "\u001b[1mEpoch    4, Batch ID 2\u001b[0m\n",
      "\u001b[1mEpoch    5, Batch ID 2\u001b[0m\n",
      "\u001b[1mEpoch    1, Batch ID 3\u001b[0m\n",
      "\u001b[1mEpoch    2, Batch ID 3\u001b[0m\n",
      "\u001b[1mEpoch    3, Batch ID 3\u001b[0m\n",
      "\u001b[1mEpoch    4, Batch ID 3\u001b[0m\n",
      "\u001b[1mEpoch    5, Batch ID 3\u001b[0m\n",
      "\u001b[1mEpoch    1, Batch ID 4\u001b[0m\n",
      "\u001b[1mEpoch    2, Batch ID 4\u001b[0m\n",
      "\u001b[1mEpoch    3, Batch ID 4\u001b[0m\n",
      "\u001b[1mEpoch    4, Batch ID 4\u001b[0m\n",
      "\u001b[1mEpoch    5, Batch ID 4\u001b[0m\n",
      "\u001b[1mEpoch    1, Batch ID 5\u001b[0m\n",
      "\u001b[1mEpoch    2, Batch ID 5\u001b[0m\n",
      "\u001b[1mEpoch    3, Batch ID 5\u001b[0m\n",
      "\u001b[1mEpoch    4, Batch ID 5\u001b[0m\n",
      "\u001b[1mEpoch    5, Batch ID 5\u001b[0m\n",
      "\u001b[1mEpoch    6, Batch ID 0\u001b[0m\n",
      "\u001b[1mEpoch    7, Batch ID 0\u001b[0m\n",
      "\u001b[1mEpoch    8, Batch ID 0\u001b[0m\n",
      "\u001b[1mEpoch    9, Batch ID 0\u001b[0m\n",
      "\u001b[1mEpoch   10, Batch ID 0\u001b[0m\n",
      "\u001b[1mEpoch    6, Batch ID 1\u001b[0m\n",
      "\u001b[1mEpoch    7, Batch ID 1\u001b[0m\n",
      "\u001b[1mEpoch    8, Batch ID 1\u001b[0m\n",
      "\u001b[1mEpoch    9, Batch ID 1\u001b[0m\n",
      "\u001b[1mEpoch   10, Batch ID 1\u001b[0m\n",
      "\u001b[1mEpoch    6, Batch ID 2\u001b[0m\n",
      "\u001b[1mEpoch    7, Batch ID 2\u001b[0m\n",
      "\u001b[1mEpoch    8, Batch ID 2\u001b[0m\n",
      "\u001b[1mEpoch    9, Batch ID 2\u001b[0m\n",
      "\u001b[1mEpoch   10, Batch ID 2\u001b[0m\n",
      "\u001b[1mEpoch    6, Batch ID 3\u001b[0m\n",
      "\u001b[1mEpoch    7, Batch ID 3\u001b[0m\n",
      "\u001b[1mEpoch    8, Batch ID 3\u001b[0m\n",
      "\u001b[1mEpoch    9, Batch ID 3\u001b[0m\n",
      "\u001b[1mEpoch   10, Batch ID 3\u001b[0m\n",
      "\u001b[1mEpoch    6, Batch ID 4\u001b[0m\n",
      "\u001b[1mEpoch    7, Batch ID 4\u001b[0m\n",
      "\u001b[1mEpoch    8, Batch ID 4\u001b[0m\n",
      "\u001b[1mEpoch    9, Batch ID 4\u001b[0m\n",
      "\u001b[1mEpoch   10, Batch ID 4\u001b[0m\n",
      "\u001b[1mEpoch    6, Batch ID 5\u001b[0m\n",
      "\u001b[1mEpoch    7, Batch ID 5\u001b[0m\n",
      "\u001b[1mEpoch    8, Batch ID 5\u001b[0m\n",
      "\u001b[1mEpoch    9, Batch ID 5\u001b[0m\n",
      "\u001b[1mEpoch   10, Batch ID 5\u001b[0m\n",
      "\u001b[1mEpoch   11, Batch ID 0\u001b[0m\n",
      "\u001b[1mEpoch   12, Batch ID 0\u001b[0m\n",
      "\u001b[1mEpoch   13, Batch ID 0\u001b[0m\n",
      "\u001b[1mEpoch   14, Batch ID 0\u001b[0m\n",
      "\u001b[1mEpoch   15, Batch ID 0\u001b[0m\n",
      "\u001b[1mEpoch   11, Batch ID 1\u001b[0m\n",
      "\u001b[1mEpoch   12, Batch ID 1\u001b[0m\n",
      "\u001b[1mEpoch   13, Batch ID 1\u001b[0m\n",
      "\u001b[1mEpoch   14, Batch ID 1\u001b[0m\n",
      "\u001b[1mEpoch   15, Batch ID 1\u001b[0m\n",
      "\u001b[1mEpoch   11, Batch ID 2\u001b[0m\n",
      "\u001b[1mEpoch   12, Batch ID 2\u001b[0m\n",
      "\u001b[1mEpoch   13, Batch ID 2\u001b[0m\n",
      "\u001b[1mEpoch   14, Batch ID 2\u001b[0m\n",
      "\u001b[1mEpoch   15, Batch ID 2\u001b[0m\n",
      "\u001b[1mEpoch   11, Batch ID 3\u001b[0m\n",
      "\u001b[1mEpoch   12, Batch ID 3\u001b[0m\n",
      "\u001b[1mEpoch   13, Batch ID 3\u001b[0m\n",
      "\u001b[1mEpoch   14, Batch ID 3\u001b[0m\n",
      "\u001b[1mEpoch   15, Batch ID 3\u001b[0m\n",
      "\u001b[1mEpoch   11, Batch ID 4\u001b[0m\n",
      "\u001b[1mEpoch   12, Batch ID 4\u001b[0m\n",
      "\u001b[1mEpoch   13, Batch ID 4\u001b[0m\n",
      "\u001b[1mEpoch   14, Batch ID 4\u001b[0m\n",
      "\u001b[1mEpoch   15, Batch ID 4\u001b[0m\n",
      "\u001b[1mEpoch   11, Batch ID 5\u001b[0m\n",
      "\u001b[1mEpoch   12, Batch ID 5\u001b[0m\n",
      "\u001b[1mEpoch   13, Batch ID 5\u001b[0m\n",
      "\u001b[1mEpoch   14, Batch ID 5\u001b[0m\n",
      "\u001b[1mEpoch   15, Batch ID 5\u001b[0m\n",
      "\u001b[1mEpoch   16, Batch ID 0\u001b[0m\n",
      "\u001b[1mEpoch   17, Batch ID 0\u001b[0m\n",
      "\u001b[1mEpoch   18, Batch ID 0\u001b[0m\n",
      "\u001b[1mEpoch   19, Batch ID 0\u001b[0m\n",
      "\u001b[1mEpoch   20, Batch ID 0\u001b[0m\n",
      "\u001b[1mEpoch   16, Batch ID 1\u001b[0m\n",
      "\u001b[1mEpoch   17, Batch ID 1\u001b[0m\n",
      "\u001b[1mEpoch   18, Batch ID 1\u001b[0m\n",
      "\u001b[1mEpoch   19, Batch ID 1\u001b[0m\n",
      "\u001b[1mEpoch   20, Batch ID 1\u001b[0m\n",
      "\u001b[1mEpoch   16, Batch ID 2\u001b[0m\n",
      "\u001b[1mEpoch   17, Batch ID 2\u001b[0m\n",
      "\u001b[1mEpoch   18, Batch ID 2\u001b[0m\n",
      "\u001b[1mEpoch   19, Batch ID 2\u001b[0m\n",
      "\u001b[1mEpoch   20, Batch ID 2\u001b[0m\n",
      "\u001b[1mEpoch   16, Batch ID 3\u001b[0m\n",
      "\u001b[1mEpoch   17, Batch ID 3\u001b[0m\n",
      "\u001b[1mEpoch   18, Batch ID 3\u001b[0m\n",
      "\u001b[1mEpoch   19, Batch ID 3\u001b[0m\n",
      "\u001b[1mEpoch   20, Batch ID 3\u001b[0m\n",
      "\u001b[1mEpoch   16, Batch ID 4\u001b[0m\n",
      "\u001b[1mEpoch   17, Batch ID 4\u001b[0m\n",
      "\u001b[1mEpoch   18, Batch ID 4\u001b[0m\n",
      "\u001b[1mEpoch   19, Batch ID 4\u001b[0m\n",
      "\u001b[1mEpoch   20, Batch ID 4\u001b[0m\n",
      "\u001b[1mEpoch   16, Batch ID 5\u001b[0m\n",
      "\u001b[1mEpoch   17, Batch ID 5\u001b[0m\n",
      "\u001b[1mEpoch   18, Batch ID 5\u001b[0m\n",
      "\u001b[1mEpoch   19, Batch ID 5\u001b[0m\n",
      "\u001b[1mEpoch   20, Batch ID 5\u001b[0m\n",
      "\u001b[1mEpoch   21, Batch ID 0\u001b[0m\n",
      "\u001b[1mEpoch   22, Batch ID 0\u001b[0m\n",
      "\u001b[1mEpoch   23, Batch ID 0\u001b[0m\n",
      "\u001b[1mEpoch   24, Batch ID 0\u001b[0m\n",
      "\u001b[1mEpoch   25, Batch ID 0\u001b[0m\n",
      "\u001b[1mEpoch   21, Batch ID 1\u001b[0m\n",
      "\u001b[1mEpoch   22, Batch ID 1\u001b[0m\n",
      "\u001b[1mEpoch   23, Batch ID 1\u001b[0m\n",
      "\u001b[1mEpoch   24, Batch ID 1\u001b[0m\n",
      "\u001b[1mEpoch   25, Batch ID 1\u001b[0m\n",
      "\u001b[1mEpoch   21, Batch ID 2\u001b[0m\n",
      "\u001b[1mEpoch   22, Batch ID 2\u001b[0m\n",
      "\u001b[1mEpoch   23, Batch ID 2\u001b[0m\n",
      "\u001b[1mEpoch   24, Batch ID 2\u001b[0m\n",
      "\u001b[1mEpoch   25, Batch ID 2\u001b[0m\n",
      "\u001b[1mEpoch   21, Batch ID 3\u001b[0m\n",
      "\u001b[1mEpoch   22, Batch ID 3\u001b[0m\n",
      "\u001b[1mEpoch   23, Batch ID 3\u001b[0m\n",
      "\u001b[1mEpoch   24, Batch ID 3\u001b[0m\n",
      "\u001b[1mEpoch   25, Batch ID 3\u001b[0m\n",
      "\u001b[1mEpoch   21, Batch ID 4\u001b[0m\n",
      "\u001b[1mEpoch   22, Batch ID 4\u001b[0m\n",
      "\u001b[1mEpoch   23, Batch ID 4\u001b[0m\n",
      "\u001b[1mEpoch   24, Batch ID 4\u001b[0m\n",
      "\u001b[1mEpoch   25, Batch ID 4\u001b[0m\n",
      "\u001b[1mEpoch   21, Batch ID 5\u001b[0m\n",
      "\u001b[1mEpoch   22, Batch ID 5\u001b[0m\n",
      "\u001b[1mEpoch   23, Batch ID 5\u001b[0m\n",
      "\u001b[1mEpoch   24, Batch ID 5\u001b[0m\n",
      "\u001b[1mEpoch   25, Batch ID 5\u001b[0m\n",
      "\u001b[1mEpoch   26, Batch ID 0\u001b[0m\n",
      "\u001b[1mEpoch   27, Batch ID 0\u001b[0m\n",
      "\u001b[1mEpoch   28, Batch ID 0\u001b[0m\n",
      "\u001b[1mEpoch   29, Batch ID 0\u001b[0m\n",
      "\u001b[1mEpoch   30, Batch ID 0\u001b[0m\n",
      "\u001b[1mEpoch   26, Batch ID 1\u001b[0m\n",
      "\u001b[1mEpoch   27, Batch ID 1\u001b[0m\n",
      "\u001b[1mEpoch   28, Batch ID 1\u001b[0m\n",
      "\u001b[1mEpoch   29, Batch ID 1\u001b[0m\n",
      "\u001b[1mEpoch   30, Batch ID 1\u001b[0m\n",
      "\u001b[1mEpoch   26, Batch ID 2\u001b[0m\n",
      "\u001b[1mEpoch   27, Batch ID 2\u001b[0m\n",
      "\u001b[1mEpoch   28, Batch ID 2\u001b[0m\n",
      "\u001b[1mEpoch   29, Batch ID 2\u001b[0m\n",
      "\u001b[1mEpoch   30, Batch ID 2\u001b[0m\n",
      "\u001b[1mEpoch   26, Batch ID 3\u001b[0m\n",
      "\u001b[1mEpoch   27, Batch ID 3\u001b[0m\n",
      "\u001b[1mEpoch   28, Batch ID 3\u001b[0m\n",
      "\u001b[1mEpoch   29, Batch ID 3\u001b[0m\n",
      "\u001b[1mEpoch   30, Batch ID 3\u001b[0m\n",
      "\u001b[1mEpoch   26, Batch ID 4\u001b[0m\n",
      "\u001b[1mEpoch   27, Batch ID 4\u001b[0m\n",
      "\u001b[1mEpoch   28, Batch ID 4\u001b[0m\n",
      "\u001b[1mEpoch   29, Batch ID 4\u001b[0m\n",
      "\u001b[1mEpoch   30, Batch ID 4\u001b[0m\n",
      "\u001b[1mEpoch   26, Batch ID 5\u001b[0m\n",
      "\u001b[1mEpoch   27, Batch ID 5\u001b[0m\n",
      "\u001b[1mEpoch   28, Batch ID 5\u001b[0m\n",
      "\u001b[1mEpoch   29, Batch ID 5\u001b[0m\n",
      "\u001b[1mEpoch   30, Batch ID 5\u001b[0m\n",
      "\u001b[93mOptimization Finished!\u001b[0m\n",
      "\u001b[91mTotal training time: 3850.25 ms\u001b[0m\n",
      "\u001b[91mTotal train data uploading time:  64.60 ms\u001b[0m\n",
      "\u001b[4mSTART PHASE    0\u001b[0m\n",
      "Start shuffling the node_train...\n",
      "using sage node sampler! \n",
      "sampling 200 subgraphs:   time = 0.270 sec\n",
      "\u001b[1mEpoch    1, Batch ID 0\u001b[0m\n",
      "\u001b[1mEpoch    2, Batch ID 0\u001b[0m\n",
      "\u001b[1mEpoch    3, Batch ID 0\u001b[0m\n",
      "\u001b[1mEpoch    4, Batch ID 0\u001b[0m\n",
      "\u001b[1mEpoch    5, Batch ID 0\u001b[0m\n",
      "\u001b[1mEpoch    1, Batch ID 1\u001b[0m\n",
      "\u001b[1mEpoch    2, Batch ID 1\u001b[0m\n",
      "\u001b[1mEpoch    3, Batch ID 1\u001b[0m\n",
      "\u001b[1mEpoch    4, Batch ID 1\u001b[0m\n",
      "\u001b[1mEpoch    5, Batch ID 1\u001b[0m\n",
      "\u001b[1mEpoch    1, Batch ID 2\u001b[0m\n",
      "\u001b[1mEpoch    2, Batch ID 2\u001b[0m\n",
      "\u001b[1mEpoch    3, Batch ID 2\u001b[0m\n",
      "\u001b[1mEpoch    4, Batch ID 2\u001b[0m\n",
      "\u001b[1mEpoch    5, Batch ID 2\u001b[0m\n",
      "\u001b[1mEpoch    1, Batch ID 3\u001b[0m\n",
      "\u001b[1mEpoch    2, Batch ID 3\u001b[0m\n",
      "\u001b[1mEpoch    3, Batch ID 3\u001b[0m\n",
      "\u001b[1mEpoch    4, Batch ID 3\u001b[0m\n",
      "\u001b[1mEpoch    5, Batch ID 3\u001b[0m\n",
      "\u001b[1mEpoch    1, Batch ID 4\u001b[0m\n",
      "\u001b[1mEpoch    2, Batch ID 4\u001b[0m\n",
      "\u001b[1mEpoch    3, Batch ID 4\u001b[0m\n",
      "\u001b[1mEpoch    4, Batch ID 4\u001b[0m\n",
      "\u001b[1mEpoch    5, Batch ID 4\u001b[0m\n",
      "\u001b[1mEpoch    1, Batch ID 5\u001b[0m\n",
      "\u001b[1mEpoch    2, Batch ID 5\u001b[0m\n",
      "\u001b[1mEpoch    3, Batch ID 5\u001b[0m\n",
      "\u001b[1mEpoch    4, Batch ID 5\u001b[0m\n",
      "\u001b[1mEpoch    5, Batch ID 5\u001b[0m\n",
      "\u001b[1mEpoch    6, Batch ID 0\u001b[0m\n",
      "\u001b[1mEpoch    7, Batch ID 0\u001b[0m\n",
      "\u001b[1mEpoch    8, Batch ID 0\u001b[0m\n",
      "\u001b[1mEpoch    9, Batch ID 0\u001b[0m\n",
      "\u001b[1mEpoch   10, Batch ID 0\u001b[0m\n",
      "\u001b[1mEpoch    6, Batch ID 1\u001b[0m\n",
      "\u001b[1mEpoch    7, Batch ID 1\u001b[0m\n",
      "\u001b[1mEpoch    8, Batch ID 1\u001b[0m\n",
      "\u001b[1mEpoch    9, Batch ID 1\u001b[0m\n",
      "\u001b[1mEpoch   10, Batch ID 1\u001b[0m\n",
      "\u001b[1mEpoch    6, Batch ID 2\u001b[0m\n",
      "\u001b[1mEpoch    7, Batch ID 2\u001b[0m\n",
      "\u001b[1mEpoch    8, Batch ID 2\u001b[0m\n"
     ]
    },
    {
     "name": "stdout",
     "output_type": "stream",
     "text": [
      "\u001b[1mEpoch    9, Batch ID 2\u001b[0m\n",
      "\u001b[1mEpoch   10, Batch ID 2\u001b[0m\n",
      "\u001b[1mEpoch    6, Batch ID 3\u001b[0m\n",
      "\u001b[1mEpoch    7, Batch ID 3\u001b[0m\n",
      "\u001b[1mEpoch    8, Batch ID 3\u001b[0m\n",
      "\u001b[1mEpoch    9, Batch ID 3\u001b[0m\n",
      "\u001b[1mEpoch   10, Batch ID 3\u001b[0m\n",
      "\u001b[1mEpoch    6, Batch ID 4\u001b[0m\n",
      "\u001b[1mEpoch    7, Batch ID 4\u001b[0m\n",
      "\u001b[1mEpoch    8, Batch ID 4\u001b[0m\n",
      "\u001b[1mEpoch    9, Batch ID 4\u001b[0m\n",
      "\u001b[1mEpoch   10, Batch ID 4\u001b[0m\n",
      "\u001b[1mEpoch    6, Batch ID 5\u001b[0m\n",
      "\u001b[1mEpoch    7, Batch ID 5\u001b[0m\n",
      "\u001b[1mEpoch    8, Batch ID 5\u001b[0m\n",
      "\u001b[1mEpoch    9, Batch ID 5\u001b[0m\n",
      "\u001b[1mEpoch   10, Batch ID 5\u001b[0m\n",
      "\u001b[1mEpoch   11, Batch ID 0\u001b[0m\n",
      "\u001b[1mEpoch   12, Batch ID 0\u001b[0m\n",
      "\u001b[1mEpoch   13, Batch ID 0\u001b[0m\n",
      "\u001b[1mEpoch   14, Batch ID 0\u001b[0m\n",
      "\u001b[1mEpoch   15, Batch ID 0\u001b[0m\n",
      "\u001b[1mEpoch   11, Batch ID 1\u001b[0m\n",
      "\u001b[1mEpoch   12, Batch ID 1\u001b[0m\n",
      "\u001b[1mEpoch   13, Batch ID 1\u001b[0m\n",
      "\u001b[1mEpoch   14, Batch ID 1\u001b[0m\n",
      "\u001b[1mEpoch   15, Batch ID 1\u001b[0m\n",
      "\u001b[1mEpoch   11, Batch ID 2\u001b[0m\n",
      "\u001b[1mEpoch   12, Batch ID 2\u001b[0m\n",
      "\u001b[1mEpoch   13, Batch ID 2\u001b[0m\n",
      "\u001b[1mEpoch   14, Batch ID 2\u001b[0m\n",
      "\u001b[1mEpoch   15, Batch ID 2\u001b[0m\n",
      "\u001b[1mEpoch   11, Batch ID 3\u001b[0m\n",
      "\u001b[1mEpoch   12, Batch ID 3\u001b[0m\n",
      "\u001b[1mEpoch   13, Batch ID 3\u001b[0m\n",
      "\u001b[1mEpoch   14, Batch ID 3\u001b[0m\n",
      "\u001b[1mEpoch   15, Batch ID 3\u001b[0m\n",
      "\u001b[1mEpoch   11, Batch ID 4\u001b[0m\n",
      "\u001b[1mEpoch   12, Batch ID 4\u001b[0m\n",
      "\u001b[1mEpoch   13, Batch ID 4\u001b[0m\n",
      "\u001b[1mEpoch   14, Batch ID 4\u001b[0m\n",
      "\u001b[1mEpoch   15, Batch ID 4\u001b[0m\n",
      "\u001b[1mEpoch   11, Batch ID 5\u001b[0m\n",
      "\u001b[1mEpoch   12, Batch ID 5\u001b[0m\n",
      "\u001b[1mEpoch   13, Batch ID 5\u001b[0m\n",
      "\u001b[1mEpoch   14, Batch ID 5\u001b[0m\n",
      "\u001b[1mEpoch   15, Batch ID 5\u001b[0m\n",
      "\u001b[1mEpoch   16, Batch ID 0\u001b[0m\n",
      "\u001b[1mEpoch   17, Batch ID 0\u001b[0m\n",
      "\u001b[1mEpoch   18, Batch ID 0\u001b[0m\n",
      "\u001b[1mEpoch   19, Batch ID 0\u001b[0m\n",
      "\u001b[1mEpoch   20, Batch ID 0\u001b[0m\n",
      "\u001b[1mEpoch   16, Batch ID 1\u001b[0m\n",
      "\u001b[1mEpoch   17, Batch ID 1\u001b[0m\n",
      "\u001b[1mEpoch   18, Batch ID 1\u001b[0m\n",
      "\u001b[1mEpoch   19, Batch ID 1\u001b[0m\n",
      "\u001b[1mEpoch   20, Batch ID 1\u001b[0m\n",
      "\u001b[1mEpoch   16, Batch ID 2\u001b[0m\n",
      "\u001b[1mEpoch   17, Batch ID 2\u001b[0m\n",
      "\u001b[1mEpoch   18, Batch ID 2\u001b[0m\n",
      "\u001b[1mEpoch   19, Batch ID 2\u001b[0m\n",
      "\u001b[1mEpoch   20, Batch ID 2\u001b[0m\n",
      "\u001b[1mEpoch   16, Batch ID 3\u001b[0m\n",
      "\u001b[1mEpoch   17, Batch ID 3\u001b[0m\n",
      "\u001b[1mEpoch   18, Batch ID 3\u001b[0m\n",
      "\u001b[1mEpoch   19, Batch ID 3\u001b[0m\n",
      "\u001b[1mEpoch   20, Batch ID 3\u001b[0m\n",
      "\u001b[1mEpoch   16, Batch ID 4\u001b[0m\n",
      "\u001b[1mEpoch   17, Batch ID 4\u001b[0m\n",
      "\u001b[1mEpoch   18, Batch ID 4\u001b[0m\n",
      "\u001b[1mEpoch   19, Batch ID 4\u001b[0m\n",
      "\u001b[1mEpoch   20, Batch ID 4\u001b[0m\n",
      "\u001b[1mEpoch   16, Batch ID 5\u001b[0m\n",
      "\u001b[1mEpoch   17, Batch ID 5\u001b[0m\n",
      "\u001b[1mEpoch   18, Batch ID 5\u001b[0m\n",
      "\u001b[1mEpoch   19, Batch ID 5\u001b[0m\n",
      "\u001b[1mEpoch   20, Batch ID 5\u001b[0m\n",
      "\u001b[1mEpoch   21, Batch ID 0\u001b[0m\n",
      "\u001b[1mEpoch   22, Batch ID 0\u001b[0m\n",
      "\u001b[1mEpoch   23, Batch ID 0\u001b[0m\n",
      "\u001b[1mEpoch   24, Batch ID 0\u001b[0m\n",
      "\u001b[1mEpoch   25, Batch ID 0\u001b[0m\n",
      "\u001b[1mEpoch   21, Batch ID 1\u001b[0m\n",
      "\u001b[1mEpoch   22, Batch ID 1\u001b[0m\n",
      "\u001b[1mEpoch   23, Batch ID 1\u001b[0m\n",
      "\u001b[1mEpoch   24, Batch ID 1\u001b[0m\n",
      "\u001b[1mEpoch   25, Batch ID 1\u001b[0m\n",
      "\u001b[1mEpoch   21, Batch ID 2\u001b[0m\n",
      "\u001b[1mEpoch   22, Batch ID 2\u001b[0m\n",
      "\u001b[1mEpoch   23, Batch ID 2\u001b[0m\n",
      "\u001b[1mEpoch   24, Batch ID 2\u001b[0m\n",
      "\u001b[1mEpoch   25, Batch ID 2\u001b[0m\n",
      "\u001b[1mEpoch   21, Batch ID 3\u001b[0m\n",
      "\u001b[1mEpoch   22, Batch ID 3\u001b[0m\n",
      "\u001b[1mEpoch   23, Batch ID 3\u001b[0m\n",
      "\u001b[1mEpoch   24, Batch ID 3\u001b[0m\n",
      "\u001b[1mEpoch   25, Batch ID 3\u001b[0m\n",
      "\u001b[1mEpoch   21, Batch ID 4\u001b[0m\n",
      "\u001b[1mEpoch   22, Batch ID 4\u001b[0m\n",
      "\u001b[1mEpoch   23, Batch ID 4\u001b[0m\n",
      "\u001b[1mEpoch   24, Batch ID 4\u001b[0m\n",
      "\u001b[1mEpoch   25, Batch ID 4\u001b[0m\n",
      "\u001b[1mEpoch   21, Batch ID 5\u001b[0m\n",
      "\u001b[1mEpoch   22, Batch ID 5\u001b[0m\n",
      "\u001b[1mEpoch   23, Batch ID 5\u001b[0m\n",
      "\u001b[1mEpoch   24, Batch ID 5\u001b[0m\n",
      "\u001b[1mEpoch   25, Batch ID 5\u001b[0m\n",
      "\u001b[1mEpoch   26, Batch ID 0\u001b[0m\n",
      "\u001b[1mEpoch   27, Batch ID 0\u001b[0m\n",
      "\u001b[1mEpoch   28, Batch ID 0\u001b[0m\n",
      "\u001b[1mEpoch   29, Batch ID 0\u001b[0m\n",
      "\u001b[1mEpoch   30, Batch ID 0\u001b[0m\n",
      "\u001b[1mEpoch   26, Batch ID 1\u001b[0m\n",
      "\u001b[1mEpoch   27, Batch ID 1\u001b[0m\n",
      "\u001b[1mEpoch   28, Batch ID 1\u001b[0m\n",
      "\u001b[1mEpoch   29, Batch ID 1\u001b[0m\n",
      "\u001b[1mEpoch   30, Batch ID 1\u001b[0m\n",
      "\u001b[1mEpoch   26, Batch ID 2\u001b[0m\n",
      "\u001b[1mEpoch   27, Batch ID 2\u001b[0m\n",
      "\u001b[1mEpoch   28, Batch ID 2\u001b[0m\n",
      "\u001b[1mEpoch   29, Batch ID 2\u001b[0m\n",
      "\u001b[1mEpoch   30, Batch ID 2\u001b[0m\n",
      "\u001b[1mEpoch   26, Batch ID 3\u001b[0m\n",
      "\u001b[1mEpoch   27, Batch ID 3\u001b[0m\n",
      "\u001b[1mEpoch   28, Batch ID 3\u001b[0m\n",
      "\u001b[1mEpoch   29, Batch ID 3\u001b[0m\n",
      "\u001b[1mEpoch   30, Batch ID 3\u001b[0m\n",
      "\u001b[1mEpoch   26, Batch ID 4\u001b[0m\n",
      "\u001b[1mEpoch   27, Batch ID 4\u001b[0m\n",
      "\u001b[1mEpoch   28, Batch ID 4\u001b[0m\n",
      "\u001b[1mEpoch   29, Batch ID 4\u001b[0m\n",
      "\u001b[1mEpoch   30, Batch ID 4\u001b[0m\n",
      "\u001b[1mEpoch   26, Batch ID 5\u001b[0m\n",
      "\u001b[1mEpoch   27, Batch ID 5\u001b[0m\n",
      "\u001b[1mEpoch   28, Batch ID 5\u001b[0m\n",
      "\u001b[1mEpoch   29, Batch ID 5\u001b[0m\n",
      "\u001b[1mEpoch   30, Batch ID 5\u001b[0m\n",
      "\u001b[93mOptimization Finished!\u001b[0m\n",
      "\u001b[91mTotal training time: 3802.86 ms\u001b[0m\n",
      "\u001b[91mTotal train data uploading time:  63.85 ms\u001b[0m\n",
      "\u001b[4mSTART PHASE    0\u001b[0m\n",
      "Start shuffling the node_train...\n",
      "using sage node sampler! \n",
      "sampling 200 subgraphs:   time = 0.279 sec\n",
      "\u001b[1mEpoch    1, Batch ID 0\u001b[0m\n",
      "\u001b[1mEpoch    2, Batch ID 0\u001b[0m\n",
      "\u001b[1mEpoch    3, Batch ID 0\u001b[0m\n",
      "\u001b[1mEpoch    4, Batch ID 0\u001b[0m\n",
      "\u001b[1mEpoch    5, Batch ID 0\u001b[0m\n",
      "\u001b[1mEpoch    1, Batch ID 1\u001b[0m\n",
      "\u001b[1mEpoch    2, Batch ID 1\u001b[0m\n",
      "\u001b[1mEpoch    3, Batch ID 1\u001b[0m\n",
      "\u001b[1mEpoch    4, Batch ID 1\u001b[0m\n",
      "\u001b[1mEpoch    5, Batch ID 1\u001b[0m\n",
      "\u001b[1mEpoch    1, Batch ID 2\u001b[0m\n",
      "\u001b[1mEpoch    2, Batch ID 2\u001b[0m\n",
      "\u001b[1mEpoch    3, Batch ID 2\u001b[0m\n",
      "\u001b[1mEpoch    4, Batch ID 2\u001b[0m\n",
      "\u001b[1mEpoch    5, Batch ID 2\u001b[0m\n",
      "\u001b[1mEpoch    1, Batch ID 3\u001b[0m\n",
      "\u001b[1mEpoch    2, Batch ID 3\u001b[0m\n",
      "\u001b[1mEpoch    3, Batch ID 3\u001b[0m\n",
      "\u001b[1mEpoch    4, Batch ID 3\u001b[0m\n",
      "\u001b[1mEpoch    5, Batch ID 3\u001b[0m\n",
      "\u001b[1mEpoch    1, Batch ID 4\u001b[0m\n",
      "\u001b[1mEpoch    2, Batch ID 4\u001b[0m\n",
      "\u001b[1mEpoch    3, Batch ID 4\u001b[0m\n",
      "\u001b[1mEpoch    4, Batch ID 4\u001b[0m\n",
      "\u001b[1mEpoch    5, Batch ID 4\u001b[0m\n",
      "\u001b[1mEpoch    1, Batch ID 5\u001b[0m\n",
      "\u001b[1mEpoch    2, Batch ID 5\u001b[0m\n",
      "\u001b[1mEpoch    3, Batch ID 5\u001b[0m\n",
      "\u001b[1mEpoch    4, Batch ID 5\u001b[0m\n",
      "\u001b[1mEpoch    5, Batch ID 5\u001b[0m\n",
      "\u001b[1mEpoch    6, Batch ID 0\u001b[0m\n",
      "\u001b[1mEpoch    7, Batch ID 0\u001b[0m\n",
      "\u001b[1mEpoch    8, Batch ID 0\u001b[0m\n",
      "\u001b[1mEpoch    9, Batch ID 0\u001b[0m\n",
      "\u001b[1mEpoch   10, Batch ID 0\u001b[0m\n",
      "\u001b[1mEpoch    6, Batch ID 1\u001b[0m\n",
      "\u001b[1mEpoch    7, Batch ID 1\u001b[0m\n",
      "\u001b[1mEpoch    8, Batch ID 1\u001b[0m\n",
      "\u001b[1mEpoch    9, Batch ID 1\u001b[0m\n",
      "\u001b[1mEpoch   10, Batch ID 1\u001b[0m\n",
      "\u001b[1mEpoch    6, Batch ID 2\u001b[0m\n",
      "\u001b[1mEpoch    7, Batch ID 2\u001b[0m\n",
      "\u001b[1mEpoch    8, Batch ID 2\u001b[0m\n",
      "\u001b[1mEpoch    9, Batch ID 2\u001b[0m\n",
      "\u001b[1mEpoch   10, Batch ID 2\u001b[0m\n",
      "\u001b[1mEpoch    6, Batch ID 3\u001b[0m\n",
      "\u001b[1mEpoch    7, Batch ID 3\u001b[0m\n",
      "\u001b[1mEpoch    8, Batch ID 3\u001b[0m\n",
      "\u001b[1mEpoch    9, Batch ID 3\u001b[0m\n",
      "\u001b[1mEpoch   10, Batch ID 3\u001b[0m\n",
      "\u001b[1mEpoch    6, Batch ID 4\u001b[0m\n",
      "\u001b[1mEpoch    7, Batch ID 4\u001b[0m\n",
      "\u001b[1mEpoch    8, Batch ID 4\u001b[0m\n",
      "\u001b[1mEpoch    9, Batch ID 4\u001b[0m\n",
      "\u001b[1mEpoch   10, Batch ID 4\u001b[0m\n",
      "\u001b[1mEpoch    6, Batch ID 5\u001b[0m\n",
      "\u001b[1mEpoch    7, Batch ID 5\u001b[0m\n",
      "\u001b[1mEpoch    8, Batch ID 5\u001b[0m\n",
      "\u001b[1mEpoch    9, Batch ID 5\u001b[0m\n",
      "\u001b[1mEpoch   10, Batch ID 5\u001b[0m\n",
      "\u001b[1mEpoch   11, Batch ID 0\u001b[0m\n",
      "\u001b[1mEpoch   12, Batch ID 0\u001b[0m\n",
      "\u001b[1mEpoch   13, Batch ID 0\u001b[0m\n",
      "\u001b[1mEpoch   14, Batch ID 0\u001b[0m\n",
      "\u001b[1mEpoch   15, Batch ID 0\u001b[0m\n",
      "\u001b[1mEpoch   11, Batch ID 1\u001b[0m\n",
      "\u001b[1mEpoch   12, Batch ID 1\u001b[0m\n",
      "\u001b[1mEpoch   13, Batch ID 1\u001b[0m\n",
      "\u001b[1mEpoch   14, Batch ID 1\u001b[0m\n",
      "\u001b[1mEpoch   15, Batch ID 1\u001b[0m\n",
      "\u001b[1mEpoch   11, Batch ID 2\u001b[0m\n",
      "\u001b[1mEpoch   12, Batch ID 2\u001b[0m\n",
      "\u001b[1mEpoch   13, Batch ID 2\u001b[0m\n",
      "\u001b[1mEpoch   14, Batch ID 2\u001b[0m\n",
      "\u001b[1mEpoch   15, Batch ID 2\u001b[0m\n",
      "\u001b[1mEpoch   11, Batch ID 3\u001b[0m\n",
      "\u001b[1mEpoch   12, Batch ID 3\u001b[0m\n",
      "\u001b[1mEpoch   13, Batch ID 3\u001b[0m\n",
      "\u001b[1mEpoch   14, Batch ID 3\u001b[0m\n",
      "\u001b[1mEpoch   15, Batch ID 3\u001b[0m\n",
      "\u001b[1mEpoch   11, Batch ID 4\u001b[0m\n",
      "\u001b[1mEpoch   12, Batch ID 4\u001b[0m\n",
      "\u001b[1mEpoch   13, Batch ID 4\u001b[0m\n",
      "\u001b[1mEpoch   14, Batch ID 4\u001b[0m\n",
      "\u001b[1mEpoch   15, Batch ID 4\u001b[0m\n",
      "\u001b[1mEpoch   11, Batch ID 5\u001b[0m\n",
      "\u001b[1mEpoch   12, Batch ID 5\u001b[0m\n",
      "\u001b[1mEpoch   13, Batch ID 5\u001b[0m\n",
      "\u001b[1mEpoch   14, Batch ID 5\u001b[0m\n",
      "\u001b[1mEpoch   15, Batch ID 5\u001b[0m\n",
      "\u001b[1mEpoch   16, Batch ID 0\u001b[0m\n",
      "\u001b[1mEpoch   17, Batch ID 0\u001b[0m\n",
      "\u001b[1mEpoch   18, Batch ID 0\u001b[0m\n",
      "\u001b[1mEpoch   19, Batch ID 0\u001b[0m\n",
      "\u001b[1mEpoch   20, Batch ID 0\u001b[0m\n",
      "\u001b[1mEpoch   16, Batch ID 1\u001b[0m\n",
      "\u001b[1mEpoch   17, Batch ID 1\u001b[0m\n",
      "\u001b[1mEpoch   18, Batch ID 1\u001b[0m\n",
      "\u001b[1mEpoch   19, Batch ID 1\u001b[0m\n",
      "\u001b[1mEpoch   20, Batch ID 1\u001b[0m\n",
      "\u001b[1mEpoch   16, Batch ID 2\u001b[0m\n",
      "\u001b[1mEpoch   17, Batch ID 2\u001b[0m\n",
      "\u001b[1mEpoch   18, Batch ID 2\u001b[0m\n",
      "\u001b[1mEpoch   19, Batch ID 2\u001b[0m\n",
      "\u001b[1mEpoch   20, Batch ID 2\u001b[0m\n",
      "\u001b[1mEpoch   16, Batch ID 3\u001b[0m\n",
      "\u001b[1mEpoch   17, Batch ID 3\u001b[0m\n",
      "\u001b[1mEpoch   18, Batch ID 3\u001b[0m\n",
      "\u001b[1mEpoch   19, Batch ID 3\u001b[0m\n",
      "\u001b[1mEpoch   20, Batch ID 3\u001b[0m\n",
      "\u001b[1mEpoch   16, Batch ID 4\u001b[0m\n",
      "\u001b[1mEpoch   17, Batch ID 4\u001b[0m\n",
      "\u001b[1mEpoch   18, Batch ID 4\u001b[0m\n",
      "\u001b[1mEpoch   19, Batch ID 4\u001b[0m\n",
      "\u001b[1mEpoch   20, Batch ID 4\u001b[0m\n",
      "\u001b[1mEpoch   16, Batch ID 5\u001b[0m\n",
      "\u001b[1mEpoch   17, Batch ID 5\u001b[0m\n",
      "\u001b[1mEpoch   18, Batch ID 5\u001b[0m\n",
      "\u001b[1mEpoch   19, Batch ID 5\u001b[0m\n",
      "\u001b[1mEpoch   20, Batch ID 5\u001b[0m\n",
      "\u001b[1mEpoch   21, Batch ID 0\u001b[0m\n",
      "\u001b[1mEpoch   22, Batch ID 0\u001b[0m\n",
      "\u001b[1mEpoch   23, Batch ID 0\u001b[0m\n",
      "\u001b[1mEpoch   24, Batch ID 0\u001b[0m\n",
      "\u001b[1mEpoch   25, Batch ID 0\u001b[0m\n",
      "\u001b[1mEpoch   21, Batch ID 1\u001b[0m\n"
     ]
    },
    {
     "name": "stdout",
     "output_type": "stream",
     "text": [
      "\u001b[1mEpoch   22, Batch ID 1\u001b[0m\n",
      "\u001b[1mEpoch   23, Batch ID 1\u001b[0m\n",
      "\u001b[1mEpoch   24, Batch ID 1\u001b[0m\n",
      "\u001b[1mEpoch   25, Batch ID 1\u001b[0m\n",
      "\u001b[1mEpoch   21, Batch ID 2\u001b[0m\n",
      "\u001b[1mEpoch   22, Batch ID 2\u001b[0m\n",
      "\u001b[1mEpoch   23, Batch ID 2\u001b[0m\n",
      "\u001b[1mEpoch   24, Batch ID 2\u001b[0m\n",
      "\u001b[1mEpoch   25, Batch ID 2\u001b[0m\n",
      "\u001b[1mEpoch   21, Batch ID 3\u001b[0m\n",
      "\u001b[1mEpoch   22, Batch ID 3\u001b[0m\n",
      "\u001b[1mEpoch   23, Batch ID 3\u001b[0m\n",
      "\u001b[1mEpoch   24, Batch ID 3\u001b[0m\n",
      "\u001b[1mEpoch   25, Batch ID 3\u001b[0m\n",
      "\u001b[1mEpoch   21, Batch ID 4\u001b[0m\n",
      "\u001b[1mEpoch   22, Batch ID 4\u001b[0m\n",
      "\u001b[1mEpoch   23, Batch ID 4\u001b[0m\n",
      "\u001b[1mEpoch   24, Batch ID 4\u001b[0m\n",
      "\u001b[1mEpoch   25, Batch ID 4\u001b[0m\n",
      "\u001b[1mEpoch   21, Batch ID 5\u001b[0m\n",
      "\u001b[1mEpoch   22, Batch ID 5\u001b[0m\n",
      "\u001b[1mEpoch   23, Batch ID 5\u001b[0m\n",
      "\u001b[1mEpoch   24, Batch ID 5\u001b[0m\n",
      "\u001b[1mEpoch   25, Batch ID 5\u001b[0m\n",
      "\u001b[1mEpoch   26, Batch ID 0\u001b[0m\n",
      "\u001b[1mEpoch   27, Batch ID 0\u001b[0m\n",
      "\u001b[1mEpoch   28, Batch ID 0\u001b[0m\n",
      "\u001b[1mEpoch   29, Batch ID 0\u001b[0m\n",
      "\u001b[1mEpoch   30, Batch ID 0\u001b[0m\n",
      "\u001b[1mEpoch   26, Batch ID 1\u001b[0m\n",
      "\u001b[1mEpoch   27, Batch ID 1\u001b[0m\n",
      "\u001b[1mEpoch   28, Batch ID 1\u001b[0m\n",
      "\u001b[1mEpoch   29, Batch ID 1\u001b[0m\n",
      "\u001b[1mEpoch   30, Batch ID 1\u001b[0m\n",
      "\u001b[1mEpoch   26, Batch ID 2\u001b[0m\n",
      "\u001b[1mEpoch   27, Batch ID 2\u001b[0m\n",
      "\u001b[1mEpoch   28, Batch ID 2\u001b[0m\n",
      "\u001b[1mEpoch   29, Batch ID 2\u001b[0m\n",
      "\u001b[1mEpoch   30, Batch ID 2\u001b[0m\n",
      "\u001b[1mEpoch   26, Batch ID 3\u001b[0m\n",
      "\u001b[1mEpoch   27, Batch ID 3\u001b[0m\n",
      "\u001b[1mEpoch   28, Batch ID 3\u001b[0m\n",
      "\u001b[1mEpoch   29, Batch ID 3\u001b[0m\n",
      "\u001b[1mEpoch   30, Batch ID 3\u001b[0m\n",
      "\u001b[1mEpoch   26, Batch ID 4\u001b[0m\n",
      "\u001b[1mEpoch   27, Batch ID 4\u001b[0m\n",
      "\u001b[1mEpoch   28, Batch ID 4\u001b[0m\n",
      "\u001b[1mEpoch   29, Batch ID 4\u001b[0m\n",
      "\u001b[1mEpoch   30, Batch ID 4\u001b[0m\n",
      "\u001b[1mEpoch   26, Batch ID 5\u001b[0m\n",
      "\u001b[1mEpoch   27, Batch ID 5\u001b[0m\n",
      "\u001b[1mEpoch   28, Batch ID 5\u001b[0m\n",
      "\u001b[1mEpoch   29, Batch ID 5\u001b[0m\n",
      "\u001b[1mEpoch   30, Batch ID 5\u001b[0m\n",
      "\u001b[93mOptimization Finished!\u001b[0m\n",
      "\u001b[91mTotal training time: 3917.82 ms\u001b[0m\n",
      "\u001b[91mTotal train data uploading time:  64.34 ms\u001b[0m\n"
     ]
    }
   ],
   "source": [
    "# ============== Step2 *** conduct the training process\n",
    "train_input_file_name = prepare_data_folder + 'model_train_input'\n",
    "with open(train_input_file_name, \"rb\") as fp:\n",
    "    minibatch, model = dill.load(fp)\n",
    "\n",
    "\n",
    "train_phase_file_name = prepare_data_folder + 'model_train_phase'\n",
    "with open(train_phase_file_name, \"rb\") as fp:\n",
    "    train_phases = dill.load(fp)\n",
    "\n",
    "for tune_val_label, tune_val in zip(tune_val_label_list, tune_val_list):\n",
    "    for trainer_id in trainer_list:\n",
    "        execute_train_investigate(img_path, working_dir, train_phases, model, minibatch, eval_train_every, \n",
    "                                  tune_param_name, tune_val_label, tune_val, trainer_id = trainer_id,\n",
    "                                  snapshot_every = snapshot_period, mini_epoch_num = 5, multilabel = multilabel_tag, input_neigh_deg = [10, 5],\n",
    "                                  core_par_sampler = core_par_sampler, samples_per_processor = samples_per_processor)\n"
   ]
  },
  {
   "cell_type": "markdown",
   "metadata": {},
   "source": [
    "### Investigate validation"
   ]
  },
  {
   "cell_type": "code",
   "execution_count": 6,
   "metadata": {},
   "outputs": [],
   "source": [
    "# ================ Step3*** investigate validation:\n",
    "evaluation_input_file_name = prepare_data_folder + 'model_eval_input'\n",
    "with open(evaluation_input_file_name, \"rb\") as fp:\n",
    "    minibatch_eval, model_eval = dill.load(fp)\n",
    "\n",
    "for tune_val_label, tune_val in zip(tune_val_label_list, tune_val_list):\n",
    "    for trainer_id in trainer_list:\n",
    "        execute_validation_investigate(img_path, working_dir, minibatch_eval, model_eval, model_epoch_list, \n",
    "                                tune_param_name, tune_val_label, tune_val, trainer_id = trainer_id)\n",
    "\n"
   ]
  },
  {
   "cell_type": "markdown",
   "metadata": {},
   "source": [
    "### Investigate test"
   ]
  },
  {
   "cell_type": "code",
   "execution_count": 7,
   "metadata": {},
   "outputs": [],
   "source": [
    "\n",
    "# ================= Step4*** investigate test:\n",
    "evaluation_input_file_name = prepare_data_folder + 'model_eval_input'\n",
    "with open(evaluation_input_file_name, \"rb\") as fp:\n",
    "    minibatch_eval, model_eval = dill.load(fp)\n",
    "\n",
    "for tune_val_label, tune_val in zip(tune_val_label_list, tune_val_list):\n",
    "    for trainer_id in trainer_list:\n",
    "        execute_test_tuning(img_path, working_dir, minibatch_eval, model_eval, model_epoch_list, \n",
    "                                tune_param_name, tune_val_label, tune_val, trainer_id = trainer_id)"
   ]
  },
  {
   "cell_type": "markdown",
   "metadata": {},
   "source": [
    "### Post processing"
   ]
  },
  {
   "cell_type": "code",
   "execution_count": 8,
   "metadata": {},
   "outputs": [
    {
     "name": "stdout",
     "output_type": "stream",
     "text": [
      "Start summarizing for dataset : Flickr\n",
      "Start summarizing for dataset : Flickr\n"
     ]
    },
    {
     "name": "stderr",
     "output_type": "stream",
     "text": [
      "/home/xiangli/anaconda3/envs/pytorch_1_4_geometric/lib/python3.7/site-packages/seaborn/axisgrid.py:324: RuntimeWarning: More than 20 figures have been opened. Figures created through the pyplot interface (`matplotlib.pyplot.figure`) are retained until explicitly closed and may consume too much memory. (To control this warning, see the rcParam `figure.max_open_warning`).\n",
      "  fig, axes = plt.subplots(nrow, ncol, **kwargs)\n",
      "/home/xiangli/projects/GCN_program/largescale_GCN/HPC_version_GCN/21_GraphSage_custom_hpc_version/Post_utils.py:76: RuntimeWarning: More than 20 figures have been opened. Figures created through the pyplot interface (`matplotlib.pyplot.figure`) are retained until explicitly closed and may consume too much memory. (To control this warning, see the rcParam `figure.max_open_warning`).\n",
      "  plt.figure()\n",
      "/home/xiangli/anaconda3/envs/pytorch_1_4_geometric/lib/python3.7/site-packages/seaborn/axisgrid.py:324: RuntimeWarning: More than 20 figures have been opened. Figures created through the pyplot interface (`matplotlib.pyplot.figure`) are retained until explicitly closed and may consume too much memory. (To control this warning, see the rcParam `figure.max_open_warning`).\n",
      "  fig, axes = plt.subplots(nrow, ncol, **kwargs)\n",
      "/home/xiangli/projects/GCN_program/largescale_GCN/HPC_version_GCN/21_GraphSage_custom_hpc_version/Post_utils.py:76: RuntimeWarning: More than 20 figures have been opened. Figures created through the pyplot interface (`matplotlib.pyplot.figure`) are retained until explicitly closed and may consume too much memory. (To control this warning, see the rcParam `figure.max_open_warning`).\n",
      "  plt.figure()\n",
      "/home/xiangli/anaconda3/envs/pytorch_1_4_geometric/lib/python3.7/site-packages/seaborn/axisgrid.py:324: RuntimeWarning: More than 20 figures have been opened. Figures created through the pyplot interface (`matplotlib.pyplot.figure`) are retained until explicitly closed and may consume too much memory. (To control this warning, see the rcParam `figure.max_open_warning`).\n",
      "  fig, axes = plt.subplots(nrow, ncol, **kwargs)\n"
     ]
    },
    {
     "name": "stdout",
     "output_type": "stream",
     "text": [
      "Start summarizing for dataset : Flickr\n"
     ]
    },
    {
     "name": "stderr",
     "output_type": "stream",
     "text": [
      "/home/xiangli/projects/GCN_program/largescale_GCN/HPC_version_GCN/21_GraphSage_custom_hpc_version/Post_utils.py:76: RuntimeWarning: More than 20 figures have been opened. Figures created through the pyplot interface (`matplotlib.pyplot.figure`) are retained until explicitly closed and may consume too much memory. (To control this warning, see the rcParam `figure.max_open_warning`).\n",
      "  plt.figure()\n",
      "/home/xiangli/anaconda3/envs/pytorch_1_4_geometric/lib/python3.7/site-packages/seaborn/axisgrid.py:324: RuntimeWarning: More than 20 figures have been opened. Figures created through the pyplot interface (`matplotlib.pyplot.figure`) are retained until explicitly closed and may consume too much memory. (To control this warning, see the rcParam `figure.max_open_warning`).\n",
      "  fig, axes = plt.subplots(nrow, ncol, **kwargs)\n",
      "/home/xiangli/projects/GCN_program/largescale_GCN/HPC_version_GCN/21_GraphSage_custom_hpc_version/Post_utils.py:76: RuntimeWarning: More than 20 figures have been opened. Figures created through the pyplot interface (`matplotlib.pyplot.figure`) are retained until explicitly closed and may consume too much memory. (To control this warning, see the rcParam `figure.max_open_warning`).\n",
      "  plt.figure()\n",
      "/home/xiangli/anaconda3/envs/pytorch_1_4_geometric/lib/python3.7/site-packages/seaborn/axisgrid.py:324: RuntimeWarning: More than 20 figures have been opened. Figures created through the pyplot interface (`matplotlib.pyplot.figure`) are retained until explicitly closed and may consume too much memory. (To control this warning, see the rcParam `figure.max_open_warning`).\n",
      "  fig, axes = plt.subplots(nrow, ncol, **kwargs)\n",
      "/home/xiangli/projects/GCN_program/largescale_GCN/HPC_version_GCN/21_GraphSage_custom_hpc_version/Post_utils.py:76: RuntimeWarning: More than 20 figures have been opened. Figures created through the pyplot interface (`matplotlib.pyplot.figure`) are retained until explicitly closed and may consume too much memory. (To control this warning, see the rcParam `figure.max_open_warning`).\n",
      "  plt.figure()\n",
      "/home/xiangli/anaconda3/envs/pytorch_1_4_geometric/lib/python3.7/site-packages/seaborn/axisgrid.py:324: RuntimeWarning: More than 20 figures have been opened. Figures created through the pyplot interface (`matplotlib.pyplot.figure`) are retained until explicitly closed and may consume too much memory. (To control this warning, see the rcParam `figure.max_open_warning`).\n",
      "  fig, axes = plt.subplots(nrow, ncol, **kwargs)\n",
      "/home/xiangli/projects/GCN_program/largescale_GCN/HPC_version_GCN/21_GraphSage_custom_hpc_version/Post_utils.py:76: RuntimeWarning: More than 20 figures have been opened. Figures created through the pyplot interface (`matplotlib.pyplot.figure`) are retained until explicitly closed and may consume too much memory. (To control this warning, see the rcParam `figure.max_open_warning`).\n",
      "  plt.figure()\n",
      "/home/xiangli/anaconda3/envs/pytorch_1_4_geometric/lib/python3.7/site-packages/seaborn/axisgrid.py:324: RuntimeWarning: More than 20 figures have been opened. Figures created through the pyplot interface (`matplotlib.pyplot.figure`) are retained until explicitly closed and may consume too much memory. (To control this warning, see the rcParam `figure.max_open_warning`).\n",
      "  fig, axes = plt.subplots(nrow, ncol, **kwargs)\n",
      "/home/xiangli/projects/GCN_program/largescale_GCN/HPC_version_GCN/21_GraphSage_custom_hpc_version/Post_utils.py:76: RuntimeWarning: More than 20 figures have been opened. Figures created through the pyplot interface (`matplotlib.pyplot.figure`) are retained until explicitly closed and may consume too much memory. (To control this warning, see the rcParam `figure.max_open_warning`).\n",
      "  plt.figure()\n",
      "/home/xiangli/anaconda3/envs/pytorch_1_4_geometric/lib/python3.7/site-packages/seaborn/axisgrid.py:324: RuntimeWarning: More than 20 figures have been opened. Figures created through the pyplot interface (`matplotlib.pyplot.figure`) are retained until explicitly closed and may consume too much memory. (To control this warning, see the rcParam `figure.max_open_warning`).\n",
      "  fig, axes = plt.subplots(nrow, ncol, **kwargs)\n",
      "/home/xiangli/projects/GCN_program/largescale_GCN/HPC_version_GCN/21_GraphSage_custom_hpc_version/Post_utils.py:76: RuntimeWarning: More than 20 figures have been opened. Figures created through the pyplot interface (`matplotlib.pyplot.figure`) are retained until explicitly closed and may consume too much memory. (To control this warning, see the rcParam `figure.max_open_warning`).\n",
      "  plt.figure()\n",
      "/home/xiangli/anaconda3/envs/pytorch_1_4_geometric/lib/python3.7/site-packages/seaborn/axisgrid.py:324: RuntimeWarning: More than 20 figures have been opened. Figures created through the pyplot interface (`matplotlib.pyplot.figure`) are retained until explicitly closed and may consume too much memory. (To control this warning, see the rcParam `figure.max_open_warning`).\n",
      "  fig, axes = plt.subplots(nrow, ncol, **kwargs)\n"
     ]
    },
    {
     "name": "stdout",
     "output_type": "stream",
     "text": [
      "Start summarizing for dataset : Flickr\n"
     ]
    },
    {
     "name": "stderr",
     "output_type": "stream",
     "text": [
      "/home/xiangli/projects/GCN_program/largescale_GCN/HPC_version_GCN/21_GraphSage_custom_hpc_version/Post_utils.py:76: RuntimeWarning: More than 20 figures have been opened. Figures created through the pyplot interface (`matplotlib.pyplot.figure`) are retained until explicitly closed and may consume too much memory. (To control this warning, see the rcParam `figure.max_open_warning`).\n",
      "  plt.figure()\n",
      "/home/xiangli/anaconda3/envs/pytorch_1_4_geometric/lib/python3.7/site-packages/seaborn/axisgrid.py:324: RuntimeWarning: More than 20 figures have been opened. Figures created through the pyplot interface (`matplotlib.pyplot.figure`) are retained until explicitly closed and may consume too much memory. (To control this warning, see the rcParam `figure.max_open_warning`).\n",
      "  fig, axes = plt.subplots(nrow, ncol, **kwargs)\n",
      "/home/xiangli/projects/GCN_program/largescale_GCN/HPC_version_GCN/21_GraphSage_custom_hpc_version/Post_utils.py:76: RuntimeWarning: More than 20 figures have been opened. Figures created through the pyplot interface (`matplotlib.pyplot.figure`) are retained until explicitly closed and may consume too much memory. (To control this warning, see the rcParam `figure.max_open_warning`).\n",
      "  plt.figure()\n",
      "/home/xiangli/anaconda3/envs/pytorch_1_4_geometric/lib/python3.7/site-packages/seaborn/axisgrid.py:324: RuntimeWarning: More than 20 figures have been opened. Figures created through the pyplot interface (`matplotlib.pyplot.figure`) are retained until explicitly closed and may consume too much memory. (To control this warning, see the rcParam `figure.max_open_warning`).\n",
      "  fig, axes = plt.subplots(nrow, ncol, **kwargs)\n",
      "/home/xiangli/projects/GCN_program/largescale_GCN/HPC_version_GCN/21_GraphSage_custom_hpc_version/Post_utils.py:76: RuntimeWarning: More than 20 figures have been opened. Figures created through the pyplot interface (`matplotlib.pyplot.figure`) are retained until explicitly closed and may consume too much memory. (To control this warning, see the rcParam `figure.max_open_warning`).\n",
      "  plt.figure()\n",
      "/home/xiangli/anaconda3/envs/pytorch_1_4_geometric/lib/python3.7/site-packages/seaborn/axisgrid.py:324: RuntimeWarning: More than 20 figures have been opened. Figures created through the pyplot interface (`matplotlib.pyplot.figure`) are retained until explicitly closed and may consume too much memory. (To control this warning, see the rcParam `figure.max_open_warning`).\n",
      "  fig, axes = plt.subplots(nrow, ncol, **kwargs)\n",
      "/home/xiangli/projects/GCN_program/largescale_GCN/HPC_version_GCN/21_GraphSage_custom_hpc_version/Post_utils.py:76: RuntimeWarning: More than 20 figures have been opened. Figures created through the pyplot interface (`matplotlib.pyplot.figure`) are retained until explicitly closed and may consume too much memory. (To control this warning, see the rcParam `figure.max_open_warning`).\n",
      "  plt.figure()\n",
      "/home/xiangli/anaconda3/envs/pytorch_1_4_geometric/lib/python3.7/site-packages/seaborn/axisgrid.py:324: RuntimeWarning: More than 20 figures have been opened. Figures created through the pyplot interface (`matplotlib.pyplot.figure`) are retained until explicitly closed and may consume too much memory. (To control this warning, see the rcParam `figure.max_open_warning`).\n",
      "  fig, axes = plt.subplots(nrow, ncol, **kwargs)\n",
      "/home/xiangli/projects/GCN_program/largescale_GCN/HPC_version_GCN/21_GraphSage_custom_hpc_version/Post_utils.py:76: RuntimeWarning: More than 20 figures have been opened. Figures created through the pyplot interface (`matplotlib.pyplot.figure`) are retained until explicitly closed and may consume too much memory. (To control this warning, see the rcParam `figure.max_open_warning`).\n",
      "  plt.figure()\n",
      "/home/xiangli/anaconda3/envs/pytorch_1_4_geometric/lib/python3.7/site-packages/seaborn/axisgrid.py:324: RuntimeWarning: More than 20 figures have been opened. Figures created through the pyplot interface (`matplotlib.pyplot.figure`) are retained until explicitly closed and may consume too much memory. (To control this warning, see the rcParam `figure.max_open_warning`).\n",
      "  fig, axes = plt.subplots(nrow, ncol, **kwargs)\n",
      "/home/xiangli/projects/GCN_program/largescale_GCN/HPC_version_GCN/21_GraphSage_custom_hpc_version/Post_utils.py:76: RuntimeWarning: More than 20 figures have been opened. Figures created through the pyplot interface (`matplotlib.pyplot.figure`) are retained until explicitly closed and may consume too much memory. (To control this warning, see the rcParam `figure.max_open_warning`).\n",
      "  plt.figure()\n",
      "/home/xiangli/anaconda3/envs/pytorch_1_4_geometric/lib/python3.7/site-packages/seaborn/axisgrid.py:324: RuntimeWarning: More than 20 figures have been opened. Figures created through the pyplot interface (`matplotlib.pyplot.figure`) are retained until explicitly closed and may consume too much memory. (To control this warning, see the rcParam `figure.max_open_warning`).\n",
      "  fig, axes = plt.subplots(nrow, ncol, **kwargs)\n"
     ]
    },
    {
     "name": "stdout",
     "output_type": "stream",
     "text": [
      "Start summarizing for dataset : Flickr\n"
     ]
    },
    {
     "name": "stderr",
     "output_type": "stream",
     "text": [
      "/home/xiangli/projects/GCN_program/largescale_GCN/HPC_version_GCN/21_GraphSage_custom_hpc_version/Post_utils.py:76: RuntimeWarning: More than 20 figures have been opened. Figures created through the pyplot interface (`matplotlib.pyplot.figure`) are retained until explicitly closed and may consume too much memory. (To control this warning, see the rcParam `figure.max_open_warning`).\n",
      "  plt.figure()\n",
      "/home/xiangli/anaconda3/envs/pytorch_1_4_geometric/lib/python3.7/site-packages/seaborn/axisgrid.py:324: RuntimeWarning: More than 20 figures have been opened. Figures created through the pyplot interface (`matplotlib.pyplot.figure`) are retained until explicitly closed and may consume too much memory. (To control this warning, see the rcParam `figure.max_open_warning`).\n",
      "  fig, axes = plt.subplots(nrow, ncol, **kwargs)\n",
      "/home/xiangli/projects/GCN_program/largescale_GCN/HPC_version_GCN/21_GraphSage_custom_hpc_version/Post_utils.py:76: RuntimeWarning: More than 20 figures have been opened. Figures created through the pyplot interface (`matplotlib.pyplot.figure`) are retained until explicitly closed and may consume too much memory. (To control this warning, see the rcParam `figure.max_open_warning`).\n",
      "  plt.figure()\n",
      "/home/xiangli/anaconda3/envs/pytorch_1_4_geometric/lib/python3.7/site-packages/seaborn/axisgrid.py:324: RuntimeWarning: More than 20 figures have been opened. Figures created through the pyplot interface (`matplotlib.pyplot.figure`) are retained until explicitly closed and may consume too much memory. (To control this warning, see the rcParam `figure.max_open_warning`).\n",
      "  fig, axes = plt.subplots(nrow, ncol, **kwargs)\n",
      "/home/xiangli/projects/GCN_program/largescale_GCN/HPC_version_GCN/21_GraphSage_custom_hpc_version/Post_utils.py:76: RuntimeWarning: More than 20 figures have been opened. Figures created through the pyplot interface (`matplotlib.pyplot.figure`) are retained until explicitly closed and may consume too much memory. (To control this warning, see the rcParam `figure.max_open_warning`).\n",
      "  plt.figure()\n",
      "/home/xiangli/anaconda3/envs/pytorch_1_4_geometric/lib/python3.7/site-packages/seaborn/axisgrid.py:324: RuntimeWarning: More than 20 figures have been opened. Figures created through the pyplot interface (`matplotlib.pyplot.figure`) are retained until explicitly closed and may consume too much memory. (To control this warning, see the rcParam `figure.max_open_warning`).\n",
      "  fig, axes = plt.subplots(nrow, ncol, **kwargs)\n",
      "/home/xiangli/projects/GCN_program/largescale_GCN/HPC_version_GCN/21_GraphSage_custom_hpc_version/Post_utils.py:76: RuntimeWarning: More than 20 figures have been opened. Figures created through the pyplot interface (`matplotlib.pyplot.figure`) are retained until explicitly closed and may consume too much memory. (To control this warning, see the rcParam `figure.max_open_warning`).\n",
      "  plt.figure()\n",
      "/home/xiangli/anaconda3/envs/pytorch_1_4_geometric/lib/python3.7/site-packages/seaborn/axisgrid.py:324: RuntimeWarning: More than 20 figures have been opened. Figures created through the pyplot interface (`matplotlib.pyplot.figure`) are retained until explicitly closed and may consume too much memory. (To control this warning, see the rcParam `figure.max_open_warning`).\n",
      "  fig, axes = plt.subplots(nrow, ncol, **kwargs)\n",
      "/home/xiangli/projects/GCN_program/largescale_GCN/HPC_version_GCN/21_GraphSage_custom_hpc_version/Post_utils.py:76: RuntimeWarning: More than 20 figures have been opened. Figures created through the pyplot interface (`matplotlib.pyplot.figure`) are retained until explicitly closed and may consume too much memory. (To control this warning, see the rcParam `figure.max_open_warning`).\n",
      "  plt.figure()\n",
      "/home/xiangli/anaconda3/envs/pytorch_1_4_geometric/lib/python3.7/site-packages/seaborn/axisgrid.py:324: RuntimeWarning: More than 20 figures have been opened. Figures created through the pyplot interface (`matplotlib.pyplot.figure`) are retained until explicitly closed and may consume too much memory. (To control this warning, see the rcParam `figure.max_open_warning`).\n",
      "  fig, axes = plt.subplots(nrow, ncol, **kwargs)\n",
      "/home/xiangli/projects/GCN_program/largescale_GCN/HPC_version_GCN/21_GraphSage_custom_hpc_version/Post_utils.py:76: RuntimeWarning: More than 20 figures have been opened. Figures created through the pyplot interface (`matplotlib.pyplot.figure`) are retained until explicitly closed and may consume too much memory. (To control this warning, see the rcParam `figure.max_open_warning`).\n",
      "  plt.figure()\n",
      "/home/xiangli/anaconda3/envs/pytorch_1_4_geometric/lib/python3.7/site-packages/seaborn/axisgrid.py:324: RuntimeWarning: More than 20 figures have been opened. Figures created through the pyplot interface (`matplotlib.pyplot.figure`) are retained until explicitly closed and may consume too much memory. (To control this warning, see the rcParam `figure.max_open_warning`).\n",
      "  fig, axes = plt.subplots(nrow, ncol, **kwargs)\n"
     ]
    },
    {
     "name": "stdout",
     "output_type": "stream",
     "text": [
      "Start summarizing for dataset : Flickr\n"
     ]
    },
    {
     "name": "stderr",
     "output_type": "stream",
     "text": [
      "/home/xiangli/projects/GCN_program/largescale_GCN/HPC_version_GCN/21_GraphSage_custom_hpc_version/Post_utils.py:76: RuntimeWarning: More than 20 figures have been opened. Figures created through the pyplot interface (`matplotlib.pyplot.figure`) are retained until explicitly closed and may consume too much memory. (To control this warning, see the rcParam `figure.max_open_warning`).\n",
      "  plt.figure()\n",
      "/home/xiangli/anaconda3/envs/pytorch_1_4_geometric/lib/python3.7/site-packages/seaborn/axisgrid.py:324: RuntimeWarning: More than 20 figures have been opened. Figures created through the pyplot interface (`matplotlib.pyplot.figure`) are retained until explicitly closed and may consume too much memory. (To control this warning, see the rcParam `figure.max_open_warning`).\n",
      "  fig, axes = plt.subplots(nrow, ncol, **kwargs)\n",
      "/home/xiangli/projects/GCN_program/largescale_GCN/HPC_version_GCN/21_GraphSage_custom_hpc_version/Post_utils.py:76: RuntimeWarning: More than 20 figures have been opened. Figures created through the pyplot interface (`matplotlib.pyplot.figure`) are retained until explicitly closed and may consume too much memory. (To control this warning, see the rcParam `figure.max_open_warning`).\n",
      "  plt.figure()\n",
      "/home/xiangli/anaconda3/envs/pytorch_1_4_geometric/lib/python3.7/site-packages/seaborn/axisgrid.py:324: RuntimeWarning: More than 20 figures have been opened. Figures created through the pyplot interface (`matplotlib.pyplot.figure`) are retained until explicitly closed and may consume too much memory. (To control this warning, see the rcParam `figure.max_open_warning`).\n",
      "  fig, axes = plt.subplots(nrow, ncol, **kwargs)\n",
      "/home/xiangli/projects/GCN_program/largescale_GCN/HPC_version_GCN/21_GraphSage_custom_hpc_version/Post_utils.py:76: RuntimeWarning: More than 20 figures have been opened. Figures created through the pyplot interface (`matplotlib.pyplot.figure`) are retained until explicitly closed and may consume too much memory. (To control this warning, see the rcParam `figure.max_open_warning`).\n",
      "  plt.figure()\n",
      "/home/xiangli/anaconda3/envs/pytorch_1_4_geometric/lib/python3.7/site-packages/seaborn/axisgrid.py:324: RuntimeWarning: More than 20 figures have been opened. Figures created through the pyplot interface (`matplotlib.pyplot.figure`) are retained until explicitly closed and may consume too much memory. (To control this warning, see the rcParam `figure.max_open_warning`).\n",
      "  fig, axes = plt.subplots(nrow, ncol, **kwargs)\n",
      "/home/xiangli/projects/GCN_program/largescale_GCN/HPC_version_GCN/21_GraphSage_custom_hpc_version/Post_utils.py:76: RuntimeWarning: More than 20 figures have been opened. Figures created through the pyplot interface (`matplotlib.pyplot.figure`) are retained until explicitly closed and may consume too much memory. (To control this warning, see the rcParam `figure.max_open_warning`).\n",
      "  plt.figure()\n",
      "/home/xiangli/anaconda3/envs/pytorch_1_4_geometric/lib/python3.7/site-packages/seaborn/axisgrid.py:324: RuntimeWarning: More than 20 figures have been opened. Figures created through the pyplot interface (`matplotlib.pyplot.figure`) are retained until explicitly closed and may consume too much memory. (To control this warning, see the rcParam `figure.max_open_warning`).\n",
      "  fig, axes = plt.subplots(nrow, ncol, **kwargs)\n",
      "/home/xiangli/projects/GCN_program/largescale_GCN/HPC_version_GCN/21_GraphSage_custom_hpc_version/Post_utils.py:76: RuntimeWarning: More than 20 figures have been opened. Figures created through the pyplot interface (`matplotlib.pyplot.figure`) are retained until explicitly closed and may consume too much memory. (To control this warning, see the rcParam `figure.max_open_warning`).\n",
      "  plt.figure()\n",
      "/home/xiangli/anaconda3/envs/pytorch_1_4_geometric/lib/python3.7/site-packages/seaborn/axisgrid.py:324: RuntimeWarning: More than 20 figures have been opened. Figures created through the pyplot interface (`matplotlib.pyplot.figure`) are retained until explicitly closed and may consume too much memory. (To control this warning, see the rcParam `figure.max_open_warning`).\n",
      "  fig, axes = plt.subplots(nrow, ncol, **kwargs)\n",
      "/home/xiangli/projects/GCN_program/largescale_GCN/HPC_version_GCN/21_GraphSage_custom_hpc_version/Post_utils.py:76: RuntimeWarning: More than 20 figures have been opened. Figures created through the pyplot interface (`matplotlib.pyplot.figure`) are retained until explicitly closed and may consume too much memory. (To control this warning, see the rcParam `figure.max_open_warning`).\n",
      "  plt.figure()\n",
      "/home/xiangli/anaconda3/envs/pytorch_1_4_geometric/lib/python3.7/site-packages/seaborn/axisgrid.py:324: RuntimeWarning: More than 20 figures have been opened. Figures created through the pyplot interface (`matplotlib.pyplot.figure`) are retained until explicitly closed and may consume too much memory. (To control this warning, see the rcParam `figure.max_open_warning`).\n",
      "  fig, axes = plt.subplots(nrow, ncol, **kwargs)\n"
     ]
    },
    {
     "name": "stdout",
     "output_type": "stream",
     "text": [
      "Start running training for dataset: Flickr\n"
     ]
    },
    {
     "name": "stderr",
     "output_type": "stream",
     "text": [
      "/home/xiangli/projects/GCN_program/largescale_GCN/HPC_version_GCN/21_GraphSage_custom_hpc_version/Post_utils.py:178: RuntimeWarning: More than 20 figures have been opened. Figures created through the pyplot interface (`matplotlib.pyplot.figure`) are retained until explicitly closed and may consume too much memory. (To control this warning, see the rcParam `figure.max_open_warning`).\n",
      "  plt.figure()\n",
      "/home/xiangli/anaconda3/envs/pytorch_1_4_geometric/lib/python3.7/site-packages/seaborn/axisgrid.py:324: RuntimeWarning: More than 20 figures have been opened. Figures created through the pyplot interface (`matplotlib.pyplot.figure`) are retained until explicitly closed and may consume too much memory. (To control this warning, see the rcParam `figure.max_open_warning`).\n",
      "  fig, axes = plt.subplots(nrow, ncol, **kwargs)\n",
      "/home/xiangli/projects/GCN_program/largescale_GCN/HPC_version_GCN/21_GraphSage_custom_hpc_version/Post_utils.py:178: RuntimeWarning: More than 20 figures have been opened. Figures created through the pyplot interface (`matplotlib.pyplot.figure`) are retained until explicitly closed and may consume too much memory. (To control this warning, see the rcParam `figure.max_open_warning`).\n",
      "  plt.figure()\n",
      "/home/xiangli/anaconda3/envs/pytorch_1_4_geometric/lib/python3.7/site-packages/seaborn/axisgrid.py:324: RuntimeWarning: More than 20 figures have been opened. Figures created through the pyplot interface (`matplotlib.pyplot.figure`) are retained until explicitly closed and may consume too much memory. (To control this warning, see the rcParam `figure.max_open_warning`).\n",
      "  fig, axes = plt.subplots(nrow, ncol, **kwargs)\n",
      "/home/xiangli/projects/GCN_program/largescale_GCN/HPC_version_GCN/21_GraphSage_custom_hpc_version/Post_utils.py:178: RuntimeWarning: More than 20 figures have been opened. Figures created through the pyplot interface (`matplotlib.pyplot.figure`) are retained until explicitly closed and may consume too much memory. (To control this warning, see the rcParam `figure.max_open_warning`).\n",
      "  plt.figure()\n",
      "/home/xiangli/anaconda3/envs/pytorch_1_4_geometric/lib/python3.7/site-packages/seaborn/axisgrid.py:324: RuntimeWarning: More than 20 figures have been opened. Figures created through the pyplot interface (`matplotlib.pyplot.figure`) are retained until explicitly closed and may consume too much memory. (To control this warning, see the rcParam `figure.max_open_warning`).\n",
      "  fig, axes = plt.subplots(nrow, ncol, **kwargs)\n",
      "/home/xiangli/projects/GCN_program/largescale_GCN/HPC_version_GCN/21_GraphSage_custom_hpc_version/Post_utils.py:178: RuntimeWarning: More than 20 figures have been opened. Figures created through the pyplot interface (`matplotlib.pyplot.figure`) are retained until explicitly closed and may consume too much memory. (To control this warning, see the rcParam `figure.max_open_warning`).\n",
      "  plt.figure()\n",
      "/home/xiangli/anaconda3/envs/pytorch_1_4_geometric/lib/python3.7/site-packages/seaborn/axisgrid.py:324: RuntimeWarning: More than 20 figures have been opened. Figures created through the pyplot interface (`matplotlib.pyplot.figure`) are retained until explicitly closed and may consume too much memory. (To control this warning, see the rcParam `figure.max_open_warning`).\n",
      "  fig, axes = plt.subplots(nrow, ncol, **kwargs)\n"
     ]
    },
    {
     "name": "stdout",
     "output_type": "stream",
     "text": [
      "Start running training for dataset: Flickr\n"
     ]
    },
    {
     "name": "stderr",
     "output_type": "stream",
     "text": [
      "/home/xiangli/projects/GCN_program/largescale_GCN/HPC_version_GCN/21_GraphSage_custom_hpc_version/Post_utils.py:178: RuntimeWarning: More than 20 figures have been opened. Figures created through the pyplot interface (`matplotlib.pyplot.figure`) are retained until explicitly closed and may consume too much memory. (To control this warning, see the rcParam `figure.max_open_warning`).\n",
      "  plt.figure()\n",
      "/home/xiangli/anaconda3/envs/pytorch_1_4_geometric/lib/python3.7/site-packages/seaborn/axisgrid.py:324: RuntimeWarning: More than 20 figures have been opened. Figures created through the pyplot interface (`matplotlib.pyplot.figure`) are retained until explicitly closed and may consume too much memory. (To control this warning, see the rcParam `figure.max_open_warning`).\n",
      "  fig, axes = plt.subplots(nrow, ncol, **kwargs)\n",
      "/home/xiangli/projects/GCN_program/largescale_GCN/HPC_version_GCN/21_GraphSage_custom_hpc_version/Post_utils.py:178: RuntimeWarning: More than 20 figures have been opened. Figures created through the pyplot interface (`matplotlib.pyplot.figure`) are retained until explicitly closed and may consume too much memory. (To control this warning, see the rcParam `figure.max_open_warning`).\n",
      "  plt.figure()\n",
      "/home/xiangli/anaconda3/envs/pytorch_1_4_geometric/lib/python3.7/site-packages/seaborn/axisgrid.py:324: RuntimeWarning: More than 20 figures have been opened. Figures created through the pyplot interface (`matplotlib.pyplot.figure`) are retained until explicitly closed and may consume too much memory. (To control this warning, see the rcParam `figure.max_open_warning`).\n",
      "  fig, axes = plt.subplots(nrow, ncol, **kwargs)\n",
      "/home/xiangli/projects/GCN_program/largescale_GCN/HPC_version_GCN/21_GraphSage_custom_hpc_version/Post_utils.py:178: RuntimeWarning: More than 20 figures have been opened. Figures created through the pyplot interface (`matplotlib.pyplot.figure`) are retained until explicitly closed and may consume too much memory. (To control this warning, see the rcParam `figure.max_open_warning`).\n",
      "  plt.figure()\n",
      "/home/xiangli/anaconda3/envs/pytorch_1_4_geometric/lib/python3.7/site-packages/seaborn/axisgrid.py:324: RuntimeWarning: More than 20 figures have been opened. Figures created through the pyplot interface (`matplotlib.pyplot.figure`) are retained until explicitly closed and may consume too much memory. (To control this warning, see the rcParam `figure.max_open_warning`).\n",
      "  fig, axes = plt.subplots(nrow, ncol, **kwargs)\n",
      "/home/xiangli/projects/GCN_program/largescale_GCN/HPC_version_GCN/21_GraphSage_custom_hpc_version/Post_utils.py:178: RuntimeWarning: More than 20 figures have been opened. Figures created through the pyplot interface (`matplotlib.pyplot.figure`) are retained until explicitly closed and may consume too much memory. (To control this warning, see the rcParam `figure.max_open_warning`).\n",
      "  plt.figure()\n",
      "/home/xiangli/anaconda3/envs/pytorch_1_4_geometric/lib/python3.7/site-packages/seaborn/axisgrid.py:324: RuntimeWarning: More than 20 figures have been opened. Figures created through the pyplot interface (`matplotlib.pyplot.figure`) are retained until explicitly closed and may consume too much memory. (To control this warning, see the rcParam `figure.max_open_warning`).\n",
      "  fig, axes = plt.subplots(nrow, ncol, **kwargs)\n"
     ]
    },
    {
     "name": "stdout",
     "output_type": "stream",
     "text": [
      "Start running training for dataset: Flickr\n"
     ]
    },
    {
     "name": "stderr",
     "output_type": "stream",
     "text": [
      "/home/xiangli/projects/GCN_program/largescale_GCN/HPC_version_GCN/21_GraphSage_custom_hpc_version/Post_utils.py:178: RuntimeWarning: More than 20 figures have been opened. Figures created through the pyplot interface (`matplotlib.pyplot.figure`) are retained until explicitly closed and may consume too much memory. (To control this warning, see the rcParam `figure.max_open_warning`).\n",
      "  plt.figure()\n",
      "/home/xiangli/anaconda3/envs/pytorch_1_4_geometric/lib/python3.7/site-packages/seaborn/axisgrid.py:324: RuntimeWarning: More than 20 figures have been opened. Figures created through the pyplot interface (`matplotlib.pyplot.figure`) are retained until explicitly closed and may consume too much memory. (To control this warning, see the rcParam `figure.max_open_warning`).\n",
      "  fig, axes = plt.subplots(nrow, ncol, **kwargs)\n",
      "/home/xiangli/projects/GCN_program/largescale_GCN/HPC_version_GCN/21_GraphSage_custom_hpc_version/Post_utils.py:178: RuntimeWarning: More than 20 figures have been opened. Figures created through the pyplot interface (`matplotlib.pyplot.figure`) are retained until explicitly closed and may consume too much memory. (To control this warning, see the rcParam `figure.max_open_warning`).\n",
      "  plt.figure()\n",
      "/home/xiangli/anaconda3/envs/pytorch_1_4_geometric/lib/python3.7/site-packages/seaborn/axisgrid.py:324: RuntimeWarning: More than 20 figures have been opened. Figures created through the pyplot interface (`matplotlib.pyplot.figure`) are retained until explicitly closed and may consume too much memory. (To control this warning, see the rcParam `figure.max_open_warning`).\n",
      "  fig, axes = plt.subplots(nrow, ncol, **kwargs)\n",
      "/home/xiangli/projects/GCN_program/largescale_GCN/HPC_version_GCN/21_GraphSage_custom_hpc_version/Post_utils.py:178: RuntimeWarning: More than 20 figures have been opened. Figures created through the pyplot interface (`matplotlib.pyplot.figure`) are retained until explicitly closed and may consume too much memory. (To control this warning, see the rcParam `figure.max_open_warning`).\n",
      "  plt.figure()\n",
      "/home/xiangli/anaconda3/envs/pytorch_1_4_geometric/lib/python3.7/site-packages/seaborn/axisgrid.py:324: RuntimeWarning: More than 20 figures have been opened. Figures created through the pyplot interface (`matplotlib.pyplot.figure`) are retained until explicitly closed and may consume too much memory. (To control this warning, see the rcParam `figure.max_open_warning`).\n",
      "  fig, axes = plt.subplots(nrow, ncol, **kwargs)\n",
      "/home/xiangli/projects/GCN_program/largescale_GCN/HPC_version_GCN/21_GraphSage_custom_hpc_version/Post_utils.py:178: RuntimeWarning: More than 20 figures have been opened. Figures created through the pyplot interface (`matplotlib.pyplot.figure`) are retained until explicitly closed and may consume too much memory. (To control this warning, see the rcParam `figure.max_open_warning`).\n",
      "  plt.figure()\n",
      "/home/xiangli/anaconda3/envs/pytorch_1_4_geometric/lib/python3.7/site-packages/seaborn/axisgrid.py:324: RuntimeWarning: More than 20 figures have been opened. Figures created through the pyplot interface (`matplotlib.pyplot.figure`) are retained until explicitly closed and may consume too much memory. (To control this warning, see the rcParam `figure.max_open_warning`).\n",
      "  fig, axes = plt.subplots(nrow, ncol, **kwargs)\n"
     ]
    },
    {
     "name": "stdout",
     "output_type": "stream",
     "text": [
      "Start running training for dataset: Flickr\n"
     ]
    },
    {
     "name": "stderr",
     "output_type": "stream",
     "text": [
      "/home/xiangli/projects/GCN_program/largescale_GCN/HPC_version_GCN/21_GraphSage_custom_hpc_version/Post_utils.py:178: RuntimeWarning: More than 20 figures have been opened. Figures created through the pyplot interface (`matplotlib.pyplot.figure`) are retained until explicitly closed and may consume too much memory. (To control this warning, see the rcParam `figure.max_open_warning`).\n",
      "  plt.figure()\n",
      "/home/xiangli/anaconda3/envs/pytorch_1_4_geometric/lib/python3.7/site-packages/seaborn/axisgrid.py:324: RuntimeWarning: More than 20 figures have been opened. Figures created through the pyplot interface (`matplotlib.pyplot.figure`) are retained until explicitly closed and may consume too much memory. (To control this warning, see the rcParam `figure.max_open_warning`).\n",
      "  fig, axes = plt.subplots(nrow, ncol, **kwargs)\n",
      "/home/xiangli/projects/GCN_program/largescale_GCN/HPC_version_GCN/21_GraphSage_custom_hpc_version/Post_utils.py:178: RuntimeWarning: More than 20 figures have been opened. Figures created through the pyplot interface (`matplotlib.pyplot.figure`) are retained until explicitly closed and may consume too much memory. (To control this warning, see the rcParam `figure.max_open_warning`).\n",
      "  plt.figure()\n",
      "/home/xiangli/anaconda3/envs/pytorch_1_4_geometric/lib/python3.7/site-packages/seaborn/axisgrid.py:324: RuntimeWarning: More than 20 figures have been opened. Figures created through the pyplot interface (`matplotlib.pyplot.figure`) are retained until explicitly closed and may consume too much memory. (To control this warning, see the rcParam `figure.max_open_warning`).\n",
      "  fig, axes = plt.subplots(nrow, ncol, **kwargs)\n",
      "/home/xiangli/projects/GCN_program/largescale_GCN/HPC_version_GCN/21_GraphSage_custom_hpc_version/Post_utils.py:178: RuntimeWarning: More than 20 figures have been opened. Figures created through the pyplot interface (`matplotlib.pyplot.figure`) are retained until explicitly closed and may consume too much memory. (To control this warning, see the rcParam `figure.max_open_warning`).\n",
      "  plt.figure()\n",
      "/home/xiangli/anaconda3/envs/pytorch_1_4_geometric/lib/python3.7/site-packages/seaborn/axisgrid.py:324: RuntimeWarning: More than 20 figures have been opened. Figures created through the pyplot interface (`matplotlib.pyplot.figure`) are retained until explicitly closed and may consume too much memory. (To control this warning, see the rcParam `figure.max_open_warning`).\n",
      "  fig, axes = plt.subplots(nrow, ncol, **kwargs)\n",
      "/home/xiangli/projects/GCN_program/largescale_GCN/HPC_version_GCN/21_GraphSage_custom_hpc_version/Post_utils.py:178: RuntimeWarning: More than 20 figures have been opened. Figures created through the pyplot interface (`matplotlib.pyplot.figure`) are retained until explicitly closed and may consume too much memory. (To control this warning, see the rcParam `figure.max_open_warning`).\n",
      "  plt.figure()\n",
      "/home/xiangli/anaconda3/envs/pytorch_1_4_geometric/lib/python3.7/site-packages/seaborn/axisgrid.py:324: RuntimeWarning: More than 20 figures have been opened. Figures created through the pyplot interface (`matplotlib.pyplot.figure`) are retained until explicitly closed and may consume too much memory. (To control this warning, see the rcParam `figure.max_open_warning`).\n",
      "  fig, axes = plt.subplots(nrow, ncol, **kwargs)\n",
      "/home/xiangli/projects/GCN_program/largescale_GCN/HPC_version_GCN/21_GraphSage_custom_hpc_version/Post_utils.py:178: RuntimeWarning: More than 20 figures have been opened. Figures created through the pyplot interface (`matplotlib.pyplot.figure`) are retained until explicitly closed and may consume too much memory. (To control this warning, see the rcParam `figure.max_open_warning`).\n",
      "  plt.figure()\n",
      "/home/xiangli/anaconda3/envs/pytorch_1_4_geometric/lib/python3.7/site-packages/seaborn/axisgrid.py:324: RuntimeWarning: More than 20 figures have been opened. Figures created through the pyplot interface (`matplotlib.pyplot.figure`) are retained until explicitly closed and may consume too much memory. (To control this warning, see the rcParam `figure.max_open_warning`).\n",
      "  fig, axes = plt.subplots(nrow, ncol, **kwargs)\n"
     ]
    },
    {
     "name": "stdout",
     "output_type": "stream",
     "text": [
      "Start running training for dataset: Flickr\n"
     ]
    },
    {
     "name": "stderr",
     "output_type": "stream",
     "text": [
      "/home/xiangli/projects/GCN_program/largescale_GCN/HPC_version_GCN/21_GraphSage_custom_hpc_version/Post_utils.py:178: RuntimeWarning: More than 20 figures have been opened. Figures created through the pyplot interface (`matplotlib.pyplot.figure`) are retained until explicitly closed and may consume too much memory. (To control this warning, see the rcParam `figure.max_open_warning`).\n",
      "  plt.figure()\n",
      "/home/xiangli/anaconda3/envs/pytorch_1_4_geometric/lib/python3.7/site-packages/seaborn/axisgrid.py:324: RuntimeWarning: More than 20 figures have been opened. Figures created through the pyplot interface (`matplotlib.pyplot.figure`) are retained until explicitly closed and may consume too much memory. (To control this warning, see the rcParam `figure.max_open_warning`).\n",
      "  fig, axes = plt.subplots(nrow, ncol, **kwargs)\n",
      "/home/xiangli/projects/GCN_program/largescale_GCN/HPC_version_GCN/21_GraphSage_custom_hpc_version/Post_utils.py:178: RuntimeWarning: More than 20 figures have been opened. Figures created through the pyplot interface (`matplotlib.pyplot.figure`) are retained until explicitly closed and may consume too much memory. (To control this warning, see the rcParam `figure.max_open_warning`).\n",
      "  plt.figure()\n",
      "/home/xiangli/anaconda3/envs/pytorch_1_4_geometric/lib/python3.7/site-packages/seaborn/axisgrid.py:324: RuntimeWarning: More than 20 figures have been opened. Figures created through the pyplot interface (`matplotlib.pyplot.figure`) are retained until explicitly closed and may consume too much memory. (To control this warning, see the rcParam `figure.max_open_warning`).\n",
      "  fig, axes = plt.subplots(nrow, ncol, **kwargs)\n",
      "/home/xiangli/projects/GCN_program/largescale_GCN/HPC_version_GCN/21_GraphSage_custom_hpc_version/Post_utils.py:178: RuntimeWarning: More than 20 figures have been opened. Figures created through the pyplot interface (`matplotlib.pyplot.figure`) are retained until explicitly closed and may consume too much memory. (To control this warning, see the rcParam `figure.max_open_warning`).\n",
      "  plt.figure()\n",
      "/home/xiangli/anaconda3/envs/pytorch_1_4_geometric/lib/python3.7/site-packages/seaborn/axisgrid.py:324: RuntimeWarning: More than 20 figures have been opened. Figures created through the pyplot interface (`matplotlib.pyplot.figure`) are retained until explicitly closed and may consume too much memory. (To control this warning, see the rcParam `figure.max_open_warning`).\n",
      "  fig, axes = plt.subplots(nrow, ncol, **kwargs)\n",
      "/home/xiangli/projects/GCN_program/largescale_GCN/HPC_version_GCN/21_GraphSage_custom_hpc_version/Post_utils.py:178: RuntimeWarning: More than 20 figures have been opened. Figures created through the pyplot interface (`matplotlib.pyplot.figure`) are retained until explicitly closed and may consume too much memory. (To control this warning, see the rcParam `figure.max_open_warning`).\n",
      "  plt.figure()\n",
      "/home/xiangli/anaconda3/envs/pytorch_1_4_geometric/lib/python3.7/site-packages/seaborn/axisgrid.py:324: RuntimeWarning: More than 20 figures have been opened. Figures created through the pyplot interface (`matplotlib.pyplot.figure`) are retained until explicitly closed and may consume too much memory. (To control this warning, see the rcParam `figure.max_open_warning`).\n",
      "  fig, axes = plt.subplots(nrow, ncol, **kwargs)\n"
     ]
    },
    {
     "name": "stdout",
     "output_type": "stream",
     "text": [
      "Start running training for dataset: Flickr\n"
     ]
    },
    {
     "name": "stderr",
     "output_type": "stream",
     "text": [
      "/home/xiangli/projects/GCN_program/largescale_GCN/HPC_version_GCN/21_GraphSage_custom_hpc_version/Post_utils.py:178: RuntimeWarning: More than 20 figures have been opened. Figures created through the pyplot interface (`matplotlib.pyplot.figure`) are retained until explicitly closed and may consume too much memory. (To control this warning, see the rcParam `figure.max_open_warning`).\n",
      "  plt.figure()\n",
      "/home/xiangli/anaconda3/envs/pytorch_1_4_geometric/lib/python3.7/site-packages/seaborn/axisgrid.py:324: RuntimeWarning: More than 20 figures have been opened. Figures created through the pyplot interface (`matplotlib.pyplot.figure`) are retained until explicitly closed and may consume too much memory. (To control this warning, see the rcParam `figure.max_open_warning`).\n",
      "  fig, axes = plt.subplots(nrow, ncol, **kwargs)\n",
      "/home/xiangli/projects/GCN_program/largescale_GCN/HPC_version_GCN/21_GraphSage_custom_hpc_version/Post_utils.py:178: RuntimeWarning: More than 20 figures have been opened. Figures created through the pyplot interface (`matplotlib.pyplot.figure`) are retained until explicitly closed and may consume too much memory. (To control this warning, see the rcParam `figure.max_open_warning`).\n",
      "  plt.figure()\n",
      "/home/xiangli/anaconda3/envs/pytorch_1_4_geometric/lib/python3.7/site-packages/seaborn/axisgrid.py:324: RuntimeWarning: More than 20 figures have been opened. Figures created through the pyplot interface (`matplotlib.pyplot.figure`) are retained until explicitly closed and may consume too much memory. (To control this warning, see the rcParam `figure.max_open_warning`).\n",
      "  fig, axes = plt.subplots(nrow, ncol, **kwargs)\n",
      "/home/xiangli/projects/GCN_program/largescale_GCN/HPC_version_GCN/21_GraphSage_custom_hpc_version/Post_utils.py:178: RuntimeWarning: More than 20 figures have been opened. Figures created through the pyplot interface (`matplotlib.pyplot.figure`) are retained until explicitly closed and may consume too much memory. (To control this warning, see the rcParam `figure.max_open_warning`).\n",
      "  plt.figure()\n",
      "/home/xiangli/anaconda3/envs/pytorch_1_4_geometric/lib/python3.7/site-packages/seaborn/axisgrid.py:324: RuntimeWarning: More than 20 figures have been opened. Figures created through the pyplot interface (`matplotlib.pyplot.figure`) are retained until explicitly closed and may consume too much memory. (To control this warning, see the rcParam `figure.max_open_warning`).\n",
      "  fig, axes = plt.subplots(nrow, ncol, **kwargs)\n"
     ]
    },
    {
     "data": {
      "text/plain": [
       "<Figure size 432x288 with 0 Axes>"
      ]
     },
     "metadata": {},
     "output_type": "display_data"
    },
    {
     "data": {
      "text/plain": [
       "<Figure size 432x288 with 0 Axes>"
      ]
     },
     "metadata": {},
     "output_type": "display_data"
    },
    {
     "data": {
      "text/plain": [
       "<Figure size 360x360 with 0 Axes>"
      ]
     },
     "metadata": {},
     "output_type": "display_data"
    },
    {
     "data": {
      "text/plain": [
       "<Figure size 432x288 with 0 Axes>"
      ]
     },
     "metadata": {},
     "output_type": "display_data"
    },
    {
     "data": {
      "text/plain": [
       "<Figure size 360x360 with 0 Axes>"
      ]
     },
     "metadata": {},
     "output_type": "display_data"
    },
    {
     "data": {
      "text/plain": [
       "<Figure size 432x288 with 0 Axes>"
      ]
     },
     "metadata": {},
     "output_type": "display_data"
    },
    {
     "data": {
      "text/plain": [
       "<Figure size 360x360 with 0 Axes>"
      ]
     },
     "metadata": {},
     "output_type": "display_data"
    },
    {
     "data": {
      "text/plain": [
       "<Figure size 432x288 with 0 Axes>"
      ]
     },
     "metadata": {},
     "output_type": "display_data"
    },
    {
     "data": {
      "text/plain": [
       "<Figure size 360x360 with 0 Axes>"
      ]
     },
     "metadata": {},
     "output_type": "display_data"
    },
    {
     "data": {
      "text/plain": [
       "<Figure size 432x288 with 0 Axes>"
      ]
     },
     "metadata": {},
     "output_type": "display_data"
    },
    {
     "data": {
      "text/plain": [
       "<Figure size 360x360 with 0 Axes>"
      ]
     },
     "metadata": {},
     "output_type": "display_data"
    },
    {
     "data": {
      "text/plain": [
       "<Figure size 432x288 with 0 Axes>"
      ]
     },
     "metadata": {},
     "output_type": "display_data"
    },
    {
     "data": {
      "text/plain": [
       "<Figure size 360x360 with 0 Axes>"
      ]
     },
     "metadata": {},
     "output_type": "display_data"
    },
    {
     "data": {
      "text/plain": [
       "<Figure size 432x288 with 0 Axes>"
      ]
     },
     "metadata": {},
     "output_type": "display_data"
    },
    {
     "data": {
      "text/plain": [
       "<Figure size 360x360 with 0 Axes>"
      ]
     },
     "metadata": {},
     "output_type": "display_data"
    },
    {
     "data": {
      "text/plain": [
       "<Figure size 432x288 with 0 Axes>"
      ]
     },
     "metadata": {},
     "output_type": "display_data"
    },
    {
     "data": {
      "text/plain": [
       "<Figure size 360x360 with 0 Axes>"
      ]
     },
     "metadata": {},
     "output_type": "display_data"
    },
    {
     "data": {
      "text/plain": [
       "<Figure size 432x288 with 0 Axes>"
      ]
     },
     "metadata": {},
     "output_type": "display_data"
    },
    {
     "data": {
      "text/plain": [
       "<Figure size 360x360 with 0 Axes>"
      ]
     },
     "metadata": {},
     "output_type": "display_data"
    },
    {
     "data": {
      "text/plain": [
       "<Figure size 432x288 with 0 Axes>"
      ]
     },
     "metadata": {},
     "output_type": "display_data"
    },
    {
     "data": {
      "text/plain": [
       "<Figure size 360x360 with 0 Axes>"
      ]
     },
     "metadata": {},
     "output_type": "display_data"
    },
    {
     "data": {
      "text/plain": [
       "<Figure size 432x288 with 0 Axes>"
      ]
     },
     "metadata": {},
     "output_type": "display_data"
    },
    {
     "data": {
      "text/plain": [
       "<Figure size 360x360 with 0 Axes>"
      ]
     },
     "metadata": {},
     "output_type": "display_data"
    },
    {
     "data": {
      "text/plain": [
       "<Figure size 432x288 with 0 Axes>"
      ]
     },
     "metadata": {},
     "output_type": "display_data"
    },
    {
     "data": {
      "text/plain": [
       "<Figure size 360x360 with 0 Axes>"
      ]
     },
     "metadata": {},
     "output_type": "display_data"
    },
    {
     "data": {
      "text/plain": [
       "<Figure size 432x288 with 0 Axes>"
      ]
     },
     "metadata": {},
     "output_type": "display_data"
    },
    {
     "data": {
      "text/plain": [
       "<Figure size 360x360 with 0 Axes>"
      ]
     },
     "metadata": {},
     "output_type": "display_data"
    },
    {
     "data": {
      "text/plain": [
       "<Figure size 432x288 with 0 Axes>"
      ]
     },
     "metadata": {},
     "output_type": "display_data"
    },
    {
     "data": {
      "text/plain": [
       "<Figure size 360x360 with 0 Axes>"
      ]
     },
     "metadata": {},
     "output_type": "display_data"
    },
    {
     "data": {
      "text/plain": [
       "<Figure size 432x288 with 0 Axes>"
      ]
     },
     "metadata": {},
     "output_type": "display_data"
    },
    {
     "data": {
      "text/plain": [
       "<Figure size 360x360 with 0 Axes>"
      ]
     },
     "metadata": {},
     "output_type": "display_data"
    },
    {
     "data": {
      "text/plain": [
       "<Figure size 432x288 with 0 Axes>"
      ]
     },
     "metadata": {},
     "output_type": "display_data"
    },
    {
     "data": {
      "text/plain": [
       "<Figure size 360x360 with 0 Axes>"
      ]
     },
     "metadata": {},
     "output_type": "display_data"
    },
    {
     "data": {
      "text/plain": [
       "<Figure size 432x288 with 0 Axes>"
      ]
     },
     "metadata": {},
     "output_type": "display_data"
    },
    {
     "data": {
      "text/plain": [
       "<Figure size 360x360 with 0 Axes>"
      ]
     },
     "metadata": {},
     "output_type": "display_data"
    },
    {
     "data": {
      "text/plain": [
       "<Figure size 432x288 with 0 Axes>"
      ]
     },
     "metadata": {},
     "output_type": "display_data"
    },
    {
     "data": {
      "text/plain": [
       "<Figure size 360x360 with 0 Axes>"
      ]
     },
     "metadata": {},
     "output_type": "display_data"
    },
    {
     "data": {
      "text/plain": [
       "<Figure size 432x288 with 0 Axes>"
      ]
     },
     "metadata": {},
     "output_type": "display_data"
    },
    {
     "data": {
      "text/plain": [
       "<Figure size 360x360 with 0 Axes>"
      ]
     },
     "metadata": {},
     "output_type": "display_data"
    },
    {
     "data": {
      "text/plain": [
       "<Figure size 432x288 with 0 Axes>"
      ]
     },
     "metadata": {},
     "output_type": "display_data"
    },
    {
     "data": {
      "text/plain": [
       "<Figure size 360x360 with 0 Axes>"
      ]
     },
     "metadata": {},
     "output_type": "display_data"
    },
    {
     "data": {
      "text/plain": [
       "<Figure size 432x288 with 0 Axes>"
      ]
     },
     "metadata": {},
     "output_type": "display_data"
    },
    {
     "data": {
      "text/plain": [
       "<Figure size 360x360 with 0 Axes>"
      ]
     },
     "metadata": {},
     "output_type": "display_data"
    },
    {
     "data": {
      "text/plain": [
       "<Figure size 432x288 with 0 Axes>"
      ]
     },
     "metadata": {},
     "output_type": "display_data"
    },
    {
     "data": {
      "text/plain": [
       "<Figure size 360x360 with 0 Axes>"
      ]
     },
     "metadata": {},
     "output_type": "display_data"
    },
    {
     "data": {
      "text/plain": [
       "<Figure size 432x288 with 0 Axes>"
      ]
     },
     "metadata": {},
     "output_type": "display_data"
    },
    {
     "data": {
      "text/plain": [
       "<Figure size 360x360 with 0 Axes>"
      ]
     },
     "metadata": {},
     "output_type": "display_data"
    },
    {
     "data": {
      "text/plain": [
       "<Figure size 432x288 with 0 Axes>"
      ]
     },
     "metadata": {},
     "output_type": "display_data"
    },
    {
     "data": {
      "text/plain": [
       "<Figure size 360x360 with 0 Axes>"
      ]
     },
     "metadata": {},
     "output_type": "display_data"
    },
    {
     "data": {
      "text/plain": [
       "<Figure size 432x288 with 0 Axes>"
      ]
     },
     "metadata": {},
     "output_type": "display_data"
    },
    {
     "data": {
      "text/plain": [
       "<Figure size 360x360 with 0 Axes>"
      ]
     },
     "metadata": {},
     "output_type": "display_data"
    },
    {
     "data": {
      "text/plain": [
       "<Figure size 432x288 with 0 Axes>"
      ]
     },
     "metadata": {},
     "output_type": "display_data"
    },
    {
     "data": {
      "text/plain": [
       "<Figure size 360x360 with 0 Axes>"
      ]
     },
     "metadata": {},
     "output_type": "display_data"
    },
    {
     "data": {
      "text/plain": [
       "<Figure size 432x288 with 0 Axes>"
      ]
     },
     "metadata": {},
     "output_type": "display_data"
    },
    {
     "data": {
      "text/plain": [
       "<Figure size 360x360 with 0 Axes>"
      ]
     },
     "metadata": {},
     "output_type": "display_data"
    },
    {
     "data": {
      "text/plain": [
       "<Figure size 432x288 with 0 Axes>"
      ]
     },
     "metadata": {},
     "output_type": "display_data"
    },
    {
     "data": {
      "text/plain": [
       "<Figure size 360x360 with 0 Axes>"
      ]
     },
     "metadata": {},
     "output_type": "display_data"
    },
    {
     "data": {
      "text/plain": [
       "<Figure size 432x288 with 0 Axes>"
      ]
     },
     "metadata": {},
     "output_type": "display_data"
    },
    {
     "data": {
      "text/plain": [
       "<Figure size 360x360 with 0 Axes>"
      ]
     },
     "metadata": {},
     "output_type": "display_data"
    },
    {
     "data": {
      "text/plain": [
       "<Figure size 432x288 with 0 Axes>"
      ]
     },
     "metadata": {},
     "output_type": "display_data"
    },
    {
     "data": {
      "text/plain": [
       "<Figure size 360x360 with 0 Axes>"
      ]
     },
     "metadata": {},
     "output_type": "display_data"
    },
    {
     "data": {
      "text/plain": [
       "<Figure size 432x288 with 0 Axes>"
      ]
     },
     "metadata": {},
     "output_type": "display_data"
    },
    {
     "data": {
      "text/plain": [
       "<Figure size 360x360 with 0 Axes>"
      ]
     },
     "metadata": {},
     "output_type": "display_data"
    },
    {
     "data": {
      "text/plain": [
       "<Figure size 432x288 with 0 Axes>"
      ]
     },
     "metadata": {},
     "output_type": "display_data"
    },
    {
     "data": {
      "text/plain": [
       "<Figure size 360x360 with 0 Axes>"
      ]
     },
     "metadata": {},
     "output_type": "display_data"
    },
    {
     "data": {
      "text/plain": [
       "<Figure size 432x288 with 0 Axes>"
      ]
     },
     "metadata": {},
     "output_type": "display_data"
    },
    {
     "data": {
      "text/plain": [
       "<Figure size 360x360 with 0 Axes>"
      ]
     },
     "metadata": {},
     "output_type": "display_data"
    },
    {
     "data": {
      "text/plain": [
       "<Figure size 432x288 with 0 Axes>"
      ]
     },
     "metadata": {},
     "output_type": "display_data"
    },
    {
     "data": {
      "text/plain": [
       "<Figure size 360x360 with 0 Axes>"
      ]
     },
     "metadata": {},
     "output_type": "display_data"
    },
    {
     "data": {
      "text/plain": [
       "<Figure size 432x288 with 0 Axes>"
      ]
     },
     "metadata": {},
     "output_type": "display_data"
    },
    {
     "data": {
      "text/plain": [
       "<Figure size 360x360 with 0 Axes>"
      ]
     },
     "metadata": {},
     "output_type": "display_data"
    },
    {
     "data": {
      "text/plain": [
       "<Figure size 432x288 with 0 Axes>"
      ]
     },
     "metadata": {},
     "output_type": "display_data"
    },
    {
     "data": {
      "text/plain": [
       "<Figure size 360x360 with 0 Axes>"
      ]
     },
     "metadata": {},
     "output_type": "display_data"
    },
    {
     "data": {
      "text/plain": [
       "<Figure size 432x288 with 0 Axes>"
      ]
     },
     "metadata": {},
     "output_type": "display_data"
    },
    {
     "data": {
      "text/plain": [
       "<Figure size 360x360 with 0 Axes>"
      ]
     },
     "metadata": {},
     "output_type": "display_data"
    },
    {
     "data": {
      "text/plain": [
       "<Figure size 432x288 with 0 Axes>"
      ]
     },
     "metadata": {},
     "output_type": "display_data"
    },
    {
     "data": {
      "text/plain": [
       "<Figure size 360x360 with 0 Axes>"
      ]
     },
     "metadata": {},
     "output_type": "display_data"
    },
    {
     "data": {
      "text/plain": [
       "<Figure size 432x288 with 0 Axes>"
      ]
     },
     "metadata": {},
     "output_type": "display_data"
    },
    {
     "data": {
      "text/plain": [
       "<Figure size 360x360 with 0 Axes>"
      ]
     },
     "metadata": {},
     "output_type": "display_data"
    },
    {
     "data": {
      "text/plain": [
       "<Figure size 432x288 with 0 Axes>"
      ]
     },
     "metadata": {},
     "output_type": "display_data"
    },
    {
     "data": {
      "text/plain": [
       "<Figure size 360x360 with 0 Axes>"
      ]
     },
     "metadata": {},
     "output_type": "display_data"
    },
    {
     "data": {
      "text/plain": [
       "<Figure size 432x288 with 0 Axes>"
      ]
     },
     "metadata": {},
     "output_type": "display_data"
    },
    {
     "data": {
      "text/plain": [
       "<Figure size 360x360 with 0 Axes>"
      ]
     },
     "metadata": {},
     "output_type": "display_data"
    },
    {
     "data": {
      "text/plain": [
       "<Figure size 432x288 with 0 Axes>"
      ]
     },
     "metadata": {},
     "output_type": "display_data"
    },
    {
     "data": {
      "text/plain": [
       "<Figure size 360x360 with 0 Axes>"
      ]
     },
     "metadata": {},
     "output_type": "display_data"
    },
    {
     "data": {
      "text/plain": [
       "<Figure size 432x288 with 0 Axes>"
      ]
     },
     "metadata": {},
     "output_type": "display_data"
    },
    {
     "data": {
      "text/plain": [
       "<Figure size 360x360 with 0 Axes>"
      ]
     },
     "metadata": {},
     "output_type": "display_data"
    },
    {
     "data": {
      "text/plain": [
       "<Figure size 432x288 with 0 Axes>"
      ]
     },
     "metadata": {},
     "output_type": "display_data"
    },
    {
     "data": {
      "text/plain": [
       "<Figure size 360x360 with 0 Axes>"
      ]
     },
     "metadata": {},
     "output_type": "display_data"
    },
    {
     "data": {
      "text/plain": [
       "<Figure size 432x288 with 0 Axes>"
      ]
     },
     "metadata": {},
     "output_type": "display_data"
    },
    {
     "data": {
      "text/plain": [
       "<Figure size 360x360 with 0 Axes>"
      ]
     },
     "metadata": {},
     "output_type": "display_data"
    },
    {
     "data": {
      "text/plain": [
       "<Figure size 432x288 with 0 Axes>"
      ]
     },
     "metadata": {},
     "output_type": "display_data"
    },
    {
     "data": {
      "text/plain": [
       "<Figure size 360x360 with 0 Axes>"
      ]
     },
     "metadata": {},
     "output_type": "display_data"
    },
    {
     "data": {
      "text/plain": [
       "<Figure size 432x288 with 0 Axes>"
      ]
     },
     "metadata": {},
     "output_type": "display_data"
    },
    {
     "data": {
      "text/plain": [
       "<Figure size 360x360 with 0 Axes>"
      ]
     },
     "metadata": {},
     "output_type": "display_data"
    },
    {
     "data": {
      "text/plain": [
       "<Figure size 432x288 with 0 Axes>"
      ]
     },
     "metadata": {},
     "output_type": "display_data"
    },
    {
     "data": {
      "text/plain": [
       "<Figure size 360x360 with 0 Axes>"
      ]
     },
     "metadata": {},
     "output_type": "display_data"
    },
    {
     "data": {
      "text/plain": [
       "<Figure size 432x288 with 0 Axes>"
      ]
     },
     "metadata": {},
     "output_type": "display_data"
    },
    {
     "data": {
      "text/plain": [
       "<Figure size 360x360 with 0 Axes>"
      ]
     },
     "metadata": {},
     "output_type": "display_data"
    },
    {
     "data": {
      "text/plain": [
       "<Figure size 432x288 with 0 Axes>"
      ]
     },
     "metadata": {},
     "output_type": "display_data"
    },
    {
     "data": {
      "text/plain": [
       "<Figure size 360x360 with 0 Axes>"
      ]
     },
     "metadata": {},
     "output_type": "display_data"
    },
    {
     "data": {
      "text/plain": [
       "<Figure size 432x288 with 0 Axes>"
      ]
     },
     "metadata": {},
     "output_type": "display_data"
    },
    {
     "data": {
      "text/plain": [
       "<Figure size 360x360 with 0 Axes>"
      ]
     },
     "metadata": {},
     "output_type": "display_data"
    },
    {
     "data": {
      "text/plain": [
       "<Figure size 432x288 with 0 Axes>"
      ]
     },
     "metadata": {},
     "output_type": "display_data"
    },
    {
     "data": {
      "text/plain": [
       "<Figure size 360x360 with 0 Axes>"
      ]
     },
     "metadata": {},
     "output_type": "display_data"
    },
    {
     "data": {
      "text/plain": [
       "<Figure size 432x288 with 0 Axes>"
      ]
     },
     "metadata": {},
     "output_type": "display_data"
    },
    {
     "data": {
      "text/plain": [
       "<Figure size 360x360 with 0 Axes>"
      ]
     },
     "metadata": {},
     "output_type": "display_data"
    },
    {
     "data": {
      "text/plain": [
       "<Figure size 432x288 with 0 Axes>"
      ]
     },
     "metadata": {},
     "output_type": "display_data"
    },
    {
     "data": {
      "text/plain": [
       "<Figure size 360x360 with 0 Axes>"
      ]
     },
     "metadata": {},
     "output_type": "display_data"
    },
    {
     "data": {
      "text/plain": [
       "<Figure size 432x288 with 0 Axes>"
      ]
     },
     "metadata": {},
     "output_type": "display_data"
    },
    {
     "data": {
      "text/plain": [
       "<Figure size 360x360 with 0 Axes>"
      ]
     },
     "metadata": {},
     "output_type": "display_data"
    },
    {
     "data": {
      "text/plain": [
       "<Figure size 432x288 with 0 Axes>"
      ]
     },
     "metadata": {},
     "output_type": "display_data"
    },
    {
     "data": {
      "text/plain": [
       "<Figure size 360x360 with 0 Axes>"
      ]
     },
     "metadata": {},
     "output_type": "display_data"
    },
    {
     "data": {
      "text/plain": [
       "<Figure size 432x288 with 0 Axes>"
      ]
     },
     "metadata": {},
     "output_type": "display_data"
    },
    {
     "data": {
      "text/plain": [
       "<Figure size 360x360 with 0 Axes>"
      ]
     },
     "metadata": {},
     "output_type": "display_data"
    },
    {
     "data": {
      "text/plain": [
       "<Figure size 432x288 with 0 Axes>"
      ]
     },
     "metadata": {},
     "output_type": "display_data"
    },
    {
     "data": {
      "text/plain": [
       "<Figure size 360x360 with 0 Axes>"
      ]
     },
     "metadata": {},
     "output_type": "display_data"
    },
    {
     "data": {
      "text/plain": [
       "<Figure size 432x288 with 0 Axes>"
      ]
     },
     "metadata": {},
     "output_type": "display_data"
    },
    {
     "data": {
      "text/plain": [
       "<Figure size 360x360 with 0 Axes>"
      ]
     },
     "metadata": {},
     "output_type": "display_data"
    },
    {
     "data": {
      "text/plain": [
       "<Figure size 432x288 with 0 Axes>"
      ]
     },
     "metadata": {},
     "output_type": "display_data"
    },
    {
     "data": {
      "image/png": "[encoded data removed]",
      "text/plain": [
       "<Figure size 360x360 with 1 Axes>"
      ]
     },
     "metadata": {},
     "output_type": "display_data"
    }
   ],
   "source": [
    "for tune_val_label, tune_val in zip(tune_val_label_list, tune_val_list):\n",
    "    for trainer_id in trainer_list:\n",
    "        step51_run_investigation_summarize_whole(data_name, img_path,\n",
    "                                         tune_param_name, tune_val_label, tune_val,\n",
    "                                            trainer_list, model_epoch_list)\n",
    "    \n",
    "for tune_val_label, tune_val in zip(tune_val_label_list, tune_val_list):\n",
    "    for trainer_id in trainer_list:\n",
    "        step50_run_tune_summarize_whole(data_name, img_path, \n",
    "                                    tune_param_name, tune_val_label_list, tune_val_list,\n",
    "                                    trainer_list)"
   ]
  },
  {
   "cell_type": "code",
   "execution_count": null,
   "metadata": {},
   "outputs": [],
   "source": []
  }
 ],
 "metadata": {
  "kernelspec": {
   "display_name": "Python [conda env:pytorch_1_4_geometric]",
   "language": "python",
   "name": "conda-env-pytorch_1_4_geometric-py"
  },
  "language_info": {
   "codemirror_mode": {
    "name": "ipython",
    "version": 3
   },
   "file_extension": ".py",
   "mimetype": "text/x-python",
   "name": "python",
   "nbconvert_exporter": "python",
   "pygments_lexer": "ipython3",
   "version": "3.7.6"
  }
 },
 "nbformat": 4,
 "nbformat_minor": 4
}
