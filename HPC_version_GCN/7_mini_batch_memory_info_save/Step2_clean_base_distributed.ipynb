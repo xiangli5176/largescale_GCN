{
 "cells": [
  {
   "cell_type": "markdown",
   "metadata": {},
   "source": [
    "## Mini-batch model for hpc run with input edge weights in csv file\n",
    "\n",
    "Comments:\n",
    "\n",
    "By using the read weighted edge list from a csv file, it saves much space on self.graph\n",
    "\n",
    "This will for specific batch number and hop-layer number"
   ]
  },
  {
   "cell_type": "code",
   "execution_count": 1,
   "metadata": {},
   "outputs": [
    {
     "data": {
      "text/html": [
       "<style>.container { width:90% !important; }</style>"
      ],
      "text/plain": [
       "<IPython.core.display.HTML object>"
      ]
     },
     "metadata": {},
     "output_type": "display_data"
    }
   ],
   "source": [
    "from IPython.core.display import display, HTML\n",
    "display(HTML(\"<style>.container { width:90% !important; }</style>\"))"
   ]
  },
  {
   "cell_type": "code",
   "execution_count": 2,
   "metadata": {},
   "outputs": [],
   "source": [
    "import copy\n",
    "import csv\n",
    "import os\n",
    "import sys\n",
    "import torch\n",
    "import matplotlib.pyplot as plt\n",
    "import networkx as nx\n",
    "import numpy as np\n",
    "import pandas as pd\n",
    "import seaborn as sns\n",
    "from collections import defaultdict\n",
    "import pickle\n",
    "import shutil\n",
    "\n",
    "from utils import *\n"
   ]
  },
  {
   "cell_type": "code",
   "execution_count": 3,
   "metadata": {},
   "outputs": [],
   "source": [
    "import inspect\n",
    "import torch\n",
    "from torch_geometric.utils import scatter_\n",
    "\n",
    "special_args = [\n",
    "    'edge_index', 'edge_index_i', 'edge_index_j', 'size', 'size_i', 'size_j'\n",
    "]\n",
    "__size_error_msg__ = ('All tensors which should get mapped to the same source '\n",
    "                      'or target nodes must be of same size in dimension 0.')\n",
    "\n",
    "is_python2 = sys.version_info[0] < 3\n",
    "getargspec = inspect.getargspec if is_python2 else inspect.getfullargspec\n",
    "\n",
    "\n",
    "class MessagePassing(torch.nn.Module):\n",
    "    r\"\"\"Base class for creating message passing layers\n",
    "\n",
    "    .. math::\n",
    "        \\mathbf{x}_i^{\\prime} = \\gamma_{\\mathbf{\\Theta}} \\left( \\mathbf{x}_i,\n",
    "        \\square_{j \\in \\mathcal{N}(i)} \\, \\phi_{\\mathbf{\\Theta}}\n",
    "        \\left(\\mathbf{x}_i, \\mathbf{x}_j,\\mathbf{e}_{i,j}\\right) \\right),\n",
    "\n",
    "    where :math:`\\square` denotes a differentiable, permutation invariant\n",
    "    function, *e.g.*, sum, mean or max, and :math:`\\gamma_{\\mathbf{\\Theta}}`\n",
    "    and :math:`\\phi_{\\mathbf{\\Theta}}` denote differentiable functions such as\n",
    "    MLPs.\n",
    "    See `here <https://pytorch-geometric.readthedocs.io/en/latest/notes/\n",
    "    create_gnn.html>`__ for the accompanying tutorial.\n",
    "\n",
    "    Args:\n",
    "        aggr (string, optional): The aggregation scheme to use\n",
    "            (:obj:`\"add\"`, :obj:`\"mean\"` or :obj:`\"max\"`).\n",
    "            (default: :obj:`\"add\"`)\n",
    "        flow (string, optional): The flow direction of message passing\n",
    "            (:obj:`\"source_to_target\"` or :obj:`\"target_to_source\"`).\n",
    "            (default: :obj:`\"source_to_target\"`)\n",
    "    \"\"\"\n",
    "\n",
    "    def __init__(self, aggr='add', flow='source_to_target'):\n",
    "        super(MessagePassing, self).__init__()\n",
    "\n",
    "        self.aggr = aggr\n",
    "        assert self.aggr in ['add', 'mean', 'max']\n",
    "\n",
    "        self.flow = flow\n",
    "        # give a warning if the option is not valid\n",
    "        assert self.flow in ['source_to_target', 'target_to_source']\n",
    "\n",
    "        self.__message_args__ = getargspec(self.message)[0][1:]\n",
    "        # we will have [x_j, norm ] put into self.__message_args__\n",
    "        \n",
    "        self.__special_args__ = [(i, arg)\n",
    "                                 for i, arg in enumerate(self.__message_args__)\n",
    "                                 if arg in special_args]\n",
    "        \n",
    "        self.__message_args__ = [arg for arg in self.__message_args__ if arg not in special_args]\n",
    "        \n",
    "        self.__update_args__ = getargspec(self.update)[0][2:]\n",
    "        # empty, since there is nothing beyond: agg_out\n",
    "\n",
    "#     function call: res = self.propagate(edge_index, x=x, norm=norm)\n",
    "    def propagate(self, edge_index, size=None, **kwargs):\n",
    "        r\"\"\"The initial call to start propagating messages.\n",
    "\n",
    "        Args:\n",
    "            edge_index (Tensor): The indices of a general (sparse) assignment\n",
    "                matrix with shape :obj:`[N, M]` (can be directed or\n",
    "                undirected).\n",
    "            size (list or tuple, optional): The size :obj:`[N, M]` of the\n",
    "                assignment matrix. If set to :obj:`None`, the size is tried to\n",
    "                get automatically inferred. (default: :obj:`None`)\n",
    "            **kwargs: Any additional data which is needed to construct messages\n",
    "                and to update node embeddings.\n",
    "        \"\"\"\n",
    "        dim = 0\n",
    "        size = [None, None] if size is None else list(size)\n",
    "        assert len(size) == 2\n",
    "\n",
    "        i, j = (0, 1) if self.flow == 'target_to_source' else (1, 0)\n",
    "        # here (i, j) == (1, 0)\n",
    "        ij = {\"_i\": i, \"_j\": j}\n",
    "\n",
    "        message_args = []\n",
    "        \n",
    "        for arg in self.__message_args__:\n",
    "#             arg[-2] == '_j'\n",
    "            if arg[-2:] in ij.keys():\n",
    "#                 tmp == x, is inside the dwargs\n",
    "                tmp = kwargs.get(arg[:-2], None)   # get the value of the parameter\n",
    "                if tmp is None:  # pragma: no cover\n",
    "                    message_args.append(tmp)\n",
    "                else:\n",
    "                    idx = ij[arg[-2:]]    # idx == 0\n",
    "                    if isinstance(tmp, tuple) or isinstance(tmp, list):\n",
    "                        assert len(tmp) == 2\n",
    "                        if tmp[1 - idx] is not None:\n",
    "                            if size[1 - idx] is None:\n",
    "                                size[1 - idx] = tmp[1 - idx].size(dim)\n",
    "                            if size[1 - idx] != tmp[1 - idx].size(dim):\n",
    "                                raise ValueError(__size_error_msg__)\n",
    "                        tmp = tmp[idx]\n",
    "                    \n",
    "                    if tmp is None:\n",
    "                        message_args.append(tmp)\n",
    "                    else:\n",
    "                        if size[idx] is None:\n",
    "                            size[idx] = tmp.size(dim)\n",
    "                        if size[idx] != tmp.size(dim):\n",
    "                            raise ValueError(__size_error_msg__)\n",
    "                        # dim == 0, we duplicate part of the embeddings x by using the edge_index[idx]\n",
    "#                         print('Inside the propagate, edge_index[idx]: \\n', edge_index[idx].shape, '\\n', edge_index[idx])\n",
    "                        tmp = torch.index_select(tmp, dim, edge_index[idx])\n",
    "                        message_args.append(tmp)   # here we append x from the kwargs\n",
    "            else:\n",
    "                message_args.append(kwargs.get(arg, None))   # here we append norm\n",
    "        \n",
    "#         message_args are: x_j, norm \n",
    "#         size:  [8, None] \n",
    "#         kwargs:  dict_keys(['x', 'norm']) \n",
    "#         special keys:  []\n",
    "        \n",
    "        size[0] = size[1] if size[0] is None else size[0]\n",
    "        size[1] = size[0] if size[1] is None else size[1]\n",
    "\n",
    "        kwargs['edge_index'] = edge_index\n",
    "        kwargs['size'] = size\n",
    "        \n",
    "        # for now self.__special_args__ is empty\n",
    "        for (idx, arg) in self.__special_args__:\n",
    "            if arg[-2:] in ij.keys():\n",
    "                # here we will change the content of x (features)\n",
    "                # features will be corresponds to edge_index\n",
    "                message_args.insert(idx, kwargs[arg[:-2]][ij[arg[-2:]]])\n",
    "            else:\n",
    "                message_args.insert(idx, kwargs[arg])\n",
    "\n",
    "        update_args = [kwargs[arg] for arg in self.__update_args__]\n",
    "#         message_args are: x_j, norm \n",
    "        out = self.message(*message_args)\n",
    "        # here i = 1, edge_index is the target endpoint of an edge, size[i] is the size of target endpoints\n",
    "        out = scatter_(self.aggr, out, edge_index[i], dim_size=size[i])\n",
    "        out = self.update(out, *update_args)\n",
    "        return out\n",
    "\n",
    "    def message(self, x_j):  # pragma: no cover\n",
    "        r\"\"\"Constructs messages in analogy to :math:`\\phi_{\\mathbf{\\Theta}}`\n",
    "        for each edge in :math:`(i,j) \\in \\mathcal{E}`.\n",
    "        Can take any argument which was initially passed to :meth:`propagate`.\n",
    "        In addition, features can be lifted to the source node :math:`i` and\n",
    "        target node :math:`j` by appending :obj:`_i` or :obj:`_j` to the\n",
    "        variable name, *.e.g.* :obj:`x_i` and :obj:`x_j`.\"\"\"\n",
    "\n",
    "        return x_j\n",
    "\n",
    "    def update(self, aggr_out):  # pragma: no cover\n",
    "        r\"\"\"Updates node embeddings in analogy to\n",
    "        :math:`\\gamma_{\\mathbf{\\Theta}}` for each node\n",
    "        :math:`i \\in \\mathcal{V}`.\n",
    "        Takes in the output of aggregation as first argument and any argument\n",
    "        which was initially passed to :meth:`propagate`.\"\"\"\n",
    "\n",
    "        return aggr_out\n"
   ]
  },
  {
   "cell_type": "code",
   "execution_count": 4,
   "metadata": {},
   "outputs": [],
   "source": [
    "import math\n",
    "import random\n",
    "\n",
    "from torch.nn import Parameter\n",
    "from torch_scatter import scatter_add\n",
    "# from torch_geometric.nn import MessagePassing\n",
    "import torch.nn.functional as F\n",
    "from torch_geometric.nn import GCNConv\n",
    "from torch_geometric.utils import add_remaining_self_loops\n",
    "\n",
    "### ================== Definition of custom GCN\n",
    "\n",
    "def glorot(tensor):\n",
    "    if tensor is not None:\n",
    "        stdv = math.sqrt(6.0 / (tensor.size(-2) + tensor.size(-1)))\n",
    "        tensor.data.uniform_(-stdv, stdv)\n",
    "#         tensor.data.fill_(1.0)   # trivial example\n",
    "        \n",
    "def zeros(tensor):\n",
    "    if tensor is not None:\n",
    "        tensor.data.fill_(0)\n",
    "\n",
    "class custom_GCNConv(MessagePassing):\n",
    "    def __init__(self, in_channels, out_channels, improved=False, cached=False,\n",
    "                 bias=True, **kwargs):\n",
    "        super().__init__(aggr='add', **kwargs)\n",
    "\n",
    "        self.in_channels = in_channels\n",
    "        self.out_channels = out_channels\n",
    "        self.improved = improved\n",
    "        self.cached = cached\n",
    "\n",
    "        self.weight = Parameter(torch.Tensor(in_channels, out_channels))\n",
    "\n",
    "        if bias:\n",
    "            self.bias = Parameter(torch.Tensor(out_channels))\n",
    "        else:\n",
    "            self.register_parameter('bias', None)\n",
    "\n",
    "        self.reset_parameters()\n",
    "\n",
    "    def reset_parameters(self):\n",
    "        glorot(self.weight)\n",
    "        zeros(self.bias)\n",
    "        self.cached_result = None\n",
    "        self.cached_num_edges = None\n",
    "\n",
    "\n",
    "    @staticmethod\n",
    "    def norm(edge_index, num_nodes, edge_weight=None, improved=False, dtype=None):\n",
    "        \n",
    "        if edge_weight is None:\n",
    "            edge_weight = torch.ones((edge_index.size(1), ), dtype=dtype, device=edge_index.device)\n",
    "        \n",
    "        fill_value = 1 if not improved else 2\n",
    "        \n",
    "        edge_index, edge_weight = add_remaining_self_loops(\n",
    "            edge_index, edge_weight, fill_value, num_nodes)\n",
    "        \n",
    "        row, col = edge_index   \n",
    "        # row includes the starting points of the edges  (first row of edge_index)\n",
    "        # col includes the ending points of the edges   (second row of edge_index)\n",
    "\n",
    "        deg = scatter_add(edge_weight, row, dim=0, dim_size=num_nodes)\n",
    "        # row records the source nodes, which is the index we are trying to add\n",
    "        # deg will record the out-degree of each node of x_i in all edges (x_i, x_j) including self_loops\n",
    "        \n",
    "        deg_inv_sqrt = deg.pow(-0.5)\n",
    "        deg_inv_sqrt[deg_inv_sqrt == float('inf')] = 0\n",
    "        normalized_edge_weight = deg_inv_sqrt[row] * edge_weight * deg_inv_sqrt[col]\n",
    "        \n",
    "#         print('whole GCN training normalized_edge_weight: \\n', normalized_edge_weight)\n",
    "        return edge_index, normalized_edge_weight\n",
    "\n",
    "    def forward(self, x, edge_index, edge_weight = None):\n",
    "        \"\"\"\"\"\"\n",
    "#         print('current weight is: ')\n",
    "#         print(self.weight)\n",
    "#         print('current bias is: ')\n",
    "#         print(self.bias)\n",
    "        \n",
    "        x = torch.matmul(x, self.weight)   # update x (embeddings)\n",
    "        \n",
    "#         print('inside custom_GCN, edge_index: ', edge_index.shape, '\\n', edge_index)\n",
    "        res = self.propagate(edge_index, x = x, norm = edge_weight)\n",
    "        return res\n",
    "\n",
    "    # self is the first parameter of the message func\n",
    "    def message(self, x_j, norm):\n",
    "        # in source code of the MessagePassing:\n",
    "#         self.__message_args__ = getargspec(self.message)[0][1:]  : will be initialized as [x_j, norm]\n",
    "        \n",
    "        # view is to reshape the tensor, here make it only a single column\n",
    "        # use the normalized weights multiplied by the feature of the target nodes\n",
    "        '''\n",
    "        For each of extended edge_index:(x_i, x_j), assume there is N such edges\n",
    "        x_j of shape (N, k) , assume there is k features, value along each row are the same\n",
    "        norm of shape (1, m), assume there is m edges (including self loops), 1-D tensor\n",
    "        '''\n",
    "#         print('inside the message custom_GCN: norm \\n', norm.shape, '\\n', norm)\n",
    "#         print('inside the message custom_GCN: x_j \\n', x_j.shape, '\\n', x_j)\n",
    "        res = norm.view(-1, 1) * x_j  # use the element wise multiplication\n",
    "        return res\n",
    "\n",
    "    def update(self, aggr_out):\n",
    "        # update the embeddings of each node\n",
    "        if self.bias is not None:\n",
    "            aggr_out = aggr_out + self.bias\n",
    "        return aggr_out\n",
    "\n",
    "    def __repr__(self):\n",
    "        return '{}({}, {})'.format(self.__class__.__name__, self.in_channels,\n",
    "                                   self.out_channels)\n",
    "\n"
   ]
  },
  {
   "cell_type": "code",
   "execution_count": 5,
   "metadata": {},
   "outputs": [],
   "source": [
    "### ====================== Establish a GCN based model ========================\n",
    "class ListModule(torch.nn.Module):\n",
    "    \"\"\"\n",
    "    Abstract list layer class.\n",
    "    \"\"\"\n",
    "    def __init__(self, *args):\n",
    "        \"\"\"\n",
    "        Module initializing.\n",
    "        \"\"\"\n",
    "        super(ListModule, self).__init__()\n",
    "        idx = 0\n",
    "        for module in args:\n",
    "            self.add_module(str(idx), module)\n",
    "            idx += 1\n",
    "\n",
    "    def __getitem__(self, idx):\n",
    "        \"\"\"\n",
    "        Getting the indexed layer.\n",
    "        \"\"\"\n",
    "        if idx < 0 or idx >= len(self._modules):\n",
    "            raise IndexError('index {} is out of range'.format(idx))\n",
    "        it = iter(self._modules.values())\n",
    "        for i in range(idx):\n",
    "            next(it)\n",
    "        return next(it)\n",
    "\n",
    "    def __iter__(self):\n",
    "        \"\"\"\n",
    "        Iterating on the layers.\n",
    "        \"\"\"\n",
    "        return iter(self._modules.values())\n",
    "\n",
    "    def __len__(self):\n",
    "        \"\"\"\n",
    "        Number of layers.\n",
    "        \"\"\"\n",
    "        return len(self._modules)\n",
    "\n",
    "\n",
    "class Net(torch.nn.Module):\n",
    "    def __init__(self, in_channels, out_channels, input_layers = [16, 16], dropout=0.3):\n",
    "        \"\"\"\n",
    "        input layers: list of integers\n",
    "        dropout: probability of droping out \n",
    "        \"\"\"\n",
    "        super(Net, self).__init__()\n",
    "        # one trivial example\n",
    "#         self.conv1 = custom_GCNConv(in_channels, out_channels)\n",
    "#         self.conv2 = GCNConv(16, dataset.num_classes)\n",
    "        \n",
    "        self.in_channels = in_channels\n",
    "        self.out_channels = out_channels\n",
    "        self.input_layers = input_layers\n",
    "        self.dropout = dropout\n",
    "        self.setup_layers()\n",
    "\n",
    "    def setup_layers(self):\n",
    "        \"\"\"\n",
    "        Creating the layes based on the args.\n",
    "        \"\"\"\n",
    "        self.layers = []\n",
    "        self.input_layers = [self.in_channels] + self.input_layers + [self.out_channels]\n",
    "        for i, _ in enumerate(self.input_layers[:-1]):\n",
    "            self.layers.append(custom_GCNConv(self.input_layers[i],self.input_layers[i+1]))\n",
    "        self.layers = ListModule(*self.layers)\n",
    "\n",
    "    # change the dropout positions: \n",
    "    def forward(self, edge_index, features, edge_weights = None):\n",
    "        if len(self.layers) > 1:\n",
    "            for i in range(len(self.layers)-1):\n",
    "                features = F.relu(self.layers[i](features, edge_index, edge_weights))\n",
    "#                 if i>0:\n",
    "                features = F.dropout(features, p = self.dropout, training = self.training)\n",
    "                    \n",
    "            features = self.layers[len(self.layers)-1](features, edge_index, edge_weights)\n",
    "        else:\n",
    "            features = self.layers[0](features, edge_index, edge_weights)    # for a single layer case\n",
    "\n",
    "        predictions = F.log_softmax(features, dim=1)\n",
    "        return predictions"
   ]
  },
  {
   "cell_type": "markdown",
   "metadata": {},
   "source": [
    "### Utility functions"
   ]
  },
  {
   "cell_type": "code",
   "execution_count": 6,
   "metadata": {},
   "outputs": [],
   "source": [
    "def get_edge_weight(edge_index, num_nodes, edge_weight=None, improved=False, dtype=None, store_path='./tmp/'):\n",
    "    \"\"\"\n",
    "        edge_index(ndarray): undirected edge index (two-directions both included)\n",
    "        num_nodes(int):  number of nodes inside the graph\n",
    "        edge_weight(ndarray): if any weights already assigned, otherwise will be generated \n",
    "        improved(boolean):   may assign 2 to the self loop weight if true\n",
    "        store_path(string): the path of the folder to contain all the clustering information files\n",
    "    \"\"\"\n",
    "    # calculate the global graph properties, global edge weights\n",
    "    if edge_weight is None:\n",
    "        edge_weight = torch.ones((edge_index.size(1), ), dtype=dtype, device=edge_index.device)\n",
    "\n",
    "    fill_value = 1 if not improved else 2\n",
    "    # there are num_nodes self-loop edges added after the edge_index\n",
    "    edge_index, edge_weight = add_remaining_self_loops(edge_index, edge_weight, fill_value, num_nodes)\n",
    "\n",
    "    row, col = edge_index   \n",
    "    # row includes the starting points of the edges  (first row of edge_index)\n",
    "    # col includes the ending points of the edges   (second row of edge_index)\n",
    "\n",
    "    deg = scatter_add(edge_weight, row, dim=0, dim_size=num_nodes)\n",
    "    # row records the source nodes, which is the index we are trying to add\n",
    "    # deg will record the out-degree of each node of x_i in all edges (x_i, x_j) including self_loops\n",
    "\n",
    "    deg_inv_sqrt = deg.pow(-0.5)\n",
    "    deg_inv_sqrt[deg_inv_sqrt == float('inf')] = 0\n",
    "    # normalize the edge weight\n",
    "    normalized_edge_weight = deg_inv_sqrt[row] * edge_weight * deg_inv_sqrt[col]\n",
    "\n",
    "    # transfer from tensor to the numpy to construct the dict for the edge_weights\n",
    "    edge_index = edge_index.t().numpy()\n",
    "    normalized_edge_weight = normalized_edge_weight.numpy()\n",
    "\n",
    "    num_edge = edge_index.shape[0]\n",
    "\n",
    "    output = ([edge_index[i][0], edge_index[i][1], normalized_edge_weight[i]] for i in range(num_edge))\n",
    "\n",
    "    # output the edge weights as the csv file\n",
    "    input_edge_weight_txt_file = store_path + 'input_edge_weight_list.csv'\n",
    "    os.makedirs(os.path.dirname(input_edge_weight_txt_file), exist_ok=True)\n",
    "    with open(input_edge_weight_txt_file, 'w', newline='\\n') as fp:\n",
    "        wr = csv.writer(fp, delimiter = ' ')\n",
    "        for line in output:\n",
    "            wr.writerow(line)\n",
    "    return input_edge_weight_txt_file"
   ]
  },
  {
   "cell_type": "markdown",
   "metadata": {},
   "source": [
    "### Partition GCN"
   ]
  },
  {
   "cell_type": "markdown",
   "metadata": {},
   "source": [
    "#### Partition method"
   ]
  },
  {
   "cell_type": "code",
   "execution_count": 7,
   "metadata": {},
   "outputs": [],
   "source": [
    "\n",
    "import metis\n",
    "import random\n",
    "import numpy as np\n",
    "import networkx as nx\n",
    "from sklearn.model_selection import train_test_split\n",
    "from itertools import chain\n",
    "\n",
    "class ClusteringMachine(object):\n",
    "    \"\"\"\n",
    "    Clustering the graph, feature set and label. Performed on the CPU side\n",
    "    \"\"\"\n",
    "    def __init__(self, edge_index, features, label, tmp_folder = './tmp/'):\n",
    "        \"\"\"\n",
    "        :param edge_index: COO format of the edge indices.\n",
    "        :param features: Feature matrix (ndarray).\n",
    "        :param label: label vector (ndarray).\n",
    "        :tmp_folder(string): the path of the folder to contain all the clustering information files\n",
    "        \"\"\"\n",
    "        self.features = features\n",
    "        self.label = label\n",
    "        self._set_sizes()\n",
    "        self.edge_index = edge_index\n",
    "        # store the information folder for memory tracing\n",
    "        self.tmp_folder = tmp_folder\n",
    "        \n",
    "        edge_weight_file = self.tmp_folder + 'input_edge_weight_list.csv'\n",
    "        self.graph = nx.read_weighted_edgelist(edge_weight_file, create_using = nx.Graph, nodetype = int)\n",
    "\n",
    "    def _set_sizes(self):\n",
    "        \"\"\"\n",
    "        Setting the feature and class count.\n",
    "        \"\"\"\n",
    "        self.node_count = self.features.shape[0]\n",
    "        self.feature_count = self.features.shape[1]    # features all always in the columns\n",
    "        self.label_count = len(np.unique(self.label.numpy()) )\n",
    "    \n",
    "    # 2) first assign train, test, validation nodes, split edges; this is based on the assumption that the clustering is no longer that important\n",
    "    def split_whole_nodes_edges_then_cluster(self, test_ratio, validation_ratio, train_batch_num = 2, valid_batch_num = 2, test_batch_num = 2):\n",
    "        \"\"\"\n",
    "            Only split nodes\n",
    "            First create train-test splits, then split train and validation into different batch seeds\n",
    "            Input:  \n",
    "                1) ratio of test, validation\n",
    "                2) partition number of train nodes, test nodes, validation nodes\n",
    "            Output:\n",
    "                1) self.sg_validation_nodes_global, self.sg_train_nodes_global, self.sg_test_nodes_global\n",
    "        \"\"\"\n",
    "        relative_test_ratio = (test_ratio) / (1 - validation_ratio)\n",
    "        \n",
    "        # first divide the nodes for the whole graph, result will always be a list of lists \n",
    "        model_nodes_global, valid_nodes_global = train_test_split(list(self.graph.nodes()), test_size = validation_ratio)\n",
    "        train_nodes_global, test_nodes_global = train_test_split(model_nodes_global, test_size = relative_test_ratio)\n",
    "        \n",
    "#         self.sg_train_nodes_global = self.random_clustering(train_nodes_global, train_batch_num)\n",
    "#         self.sg_validation_nodes_global = self.random_clustering(valid_nodes_global, valid_batch_num)\n",
    "#         self.sg_test_nodes_global = self.random_clustering(test_nodes_global, test_batch_num)\n",
    "\n",
    "        self.sg_train_nodes_global = self.metis_clustering(train_nodes_global, train_batch_num)\n",
    "        self.sg_validation_nodes_global = self.metis_clustering(valid_nodes_global, valid_batch_num)\n",
    "        self.sg_test_nodes_global = self.metis_clustering(test_nodes_global, test_batch_num)\n",
    "        \n",
    "    # just allocate each node to arandom cluster, store the membership inside each dict\n",
    "    def random_clustering(self, target_nodes, partition_num):\n",
    "        \"\"\"\n",
    "            Random clustering the nodes.\n",
    "            Input: \n",
    "                1) target_nodes: list of node \n",
    "                2) partition_num: number of partition to be generated\n",
    "            Output: \n",
    "                1) membership of each node\n",
    "        \"\"\"\n",
    "        # randomly divide into two clusters\n",
    "        nodes_order = [node for node in target_nodes]\n",
    "        random.shuffle(nodes_order)\n",
    "        n = (len(nodes_order) + partition_num - 1) // partition_num\n",
    "        partition_list = [nodes_order[i * n:(i + 1) * n] for i in range(partition_num)]\n",
    "#         cluster_membership = {node : i for i, node_list in enumerate(partition_list) for node in node_list}\n",
    "        cluster_nodes_global = {i : node_list for i, node_list in enumerate(partition_list)}\n",
    "        \n",
    "        return cluster_nodes_global\n",
    "\n",
    "    def metis_clustering(self, target_nodes, partition_num):\n",
    "        \"\"\"\n",
    "            Random clustering the nodes.\n",
    "            Input: \n",
    "                1) target_nodes: list of node \n",
    "                2) partition_num: number of partition to be generated\n",
    "            Output: \n",
    "                1) membership of each node\n",
    "        \"\"\"\n",
    "        target_graph = self.graph.subgraph(target_nodes)\n",
    "        (st, parts) = metis.part_graph(target_graph, partition_num)\n",
    "        clusters = list(set(parts))\n",
    "        cluster_nodes_global = defaultdict(list)\n",
    "        for node, cluster_id in enumerate(parts):\n",
    "            cluster_nodes_global[cluster_id].append(node)\n",
    "        return cluster_nodes_global\n",
    "        \n",
    "    # select the training nodes as the mini-batch for each cluster\n",
    "    def mini_batch_sample(self, target_seed, k, frac = 1):\n",
    "        \"\"\"\n",
    "            This function is to generate the neighbors of the seed (either train nodes or validation nodes)\n",
    "            params: cluster index, number of layer k, fraction of sampling from each neighbor layer\n",
    "            input: \n",
    "                1) target_seed: this is the 0 layer inside self.neighbor\n",
    "            output:\n",
    "                1) neighbor: nodes global idx inside each layer of the batch\n",
    "                2) accum_neighbor: accumulating neighbors , i.e. the final batch nodes\n",
    "        \"\"\"\n",
    "        accum_neighbor = defaultdict(set)\n",
    "        for cluster in target_seed.keys():\n",
    "            neighbor = set(target_seed[cluster])  # first layer of the neighbor nodes of each cluster\n",
    "            for layer in range(k):\n",
    "                # first accumulate last layer\n",
    "                accum_neighbor[cluster] |= neighbor\n",
    "                tmp_level = set()\n",
    "                for node in neighbor:\n",
    "                    tmp_level |= set(self.graph.neighbors(node))  # the key here we are using self.graph, extract neighbor from the whole graph\n",
    "                # add the new layer of neighbors\n",
    "                tmp_level -= accum_neighbor[cluster]\n",
    "                # each layer will only contains partial nodes from the previous layer\n",
    "                neighbor = set(random.sample(tmp_level, int(len(tmp_level) * frac) ) ) if 0 < frac < 1 else tmp_level\n",
    "    #                 print('layer ' + str(layer + 1) + ' : ', self.neighbor[cluster][layer+1])\n",
    "            # the most outside layer: kth layer will be added:\n",
    "            accum_neighbor[cluster] |= neighbor\n",
    "        return accum_neighbor\n",
    "        \n",
    "    def mini_batch_generate(self, batch_file_folder, target_seed, k, fraction = 1.0, batch_range = (0, 1)):\n",
    "        \"\"\"\n",
    "            create the mini-batch focused on the train nodes only, include a total of k layers of neighbors of the original training nodes\n",
    "            k: number of layers of neighbors for each training node\n",
    "            fraction: fraction of neighbor nodes in each layer to be considered\n",
    "            Input:\n",
    "                1) target_seed: global ids of the nodes for seed to generate the batch\n",
    "                    usually one of (train_global, test_global_, validation_global)\n",
    "            Output: all tensors which are gonna be used in the train, forward procedure\n",
    "                local:\n",
    "                    1) sg_mini_edges_local\n",
    "                    2) self.sg_mini_train_edge_weight_local\n",
    "                    3) self.sg_mini_train_nodes_local\n",
    "                    4) self.sg_mini_train_features\n",
    "                    5) self.sg_mini_train_labels\n",
    "            \n",
    "        \"\"\"\n",
    "        # these are currently believed to be the main memory cost, storing all overlapping batch information\n",
    "        # instead we store all the information inside one list to be stored in a pickle file as out-of-core mini-batch\n",
    "        \n",
    "        # this will get the edge weights in a complete graph\n",
    "        \n",
    "        info_batch_node_size = {}\n",
    "        info_batch_edge_size = {}\n",
    "                \n",
    "        accum_neighbor = self.mini_batch_sample(target_seed, k, frac = fraction)\n",
    "        batch_start, batch_end = batch_range\n",
    "        for cluster in range(batch_start, batch_end):\n",
    "            batch_subgraph = self.graph.subgraph(accum_neighbor[cluster])\n",
    "            \n",
    "             # first select all the overlapping nodes of the train nodes\n",
    "            mini_nodes_global = sorted(node for node in batch_subgraph.nodes())\n",
    "            \n",
    "            # store the global edges\n",
    "            mini_edges_global = {edge for edge in batch_subgraph.edges()}\n",
    "            \n",
    "            # map nodes from global index to local index\n",
    "            mini_mapper = {node: i for i, node in enumerate(mini_nodes_global)}\n",
    "            \n",
    "            # store local index of batch nodes\n",
    "            mini_nodes_local = [ mini_mapper[global_idx] for global_idx in target_seed[cluster] ]\n",
    "            \n",
    "            # store local index of batch edges\n",
    "            mini_edges_local = \\\n",
    "                           [ [ mini_mapper[edge[0]], mini_mapper[edge[1]] ] for edge in mini_edges_global ] + \\\n",
    "                           [ [ mini_mapper[edge[1]], mini_mapper[edge[0]] ] for edge in mini_edges_global ] + \\\n",
    "                           [ [i, i] for i in sorted(mini_mapper.values()) ]  \n",
    "#             self.edge_index_noloop, self.edge_index_selfloop\n",
    "#             self.normalized_edge_weight_noloop, self.normalized_edge_weight_selfloop \n",
    "#             # store local edge weights\n",
    "\n",
    "            mini_edge_weight_local = \\\n",
    "                            [ self.graph.edges[left, right]['weight'] for left, right in mini_edges_global ] + \\\n",
    "                            [ self.graph.edges[right, left]['weight'] for left, right in mini_edges_global ] + \\\n",
    "                            [ self.graph.edges[i, i]['weight'] for i in mini_nodes_global ]\n",
    "            \n",
    "            # store local features and lables\n",
    "            mini_features = self.features[mini_nodes_global,:]\n",
    "            mini_labels = self.label[mini_nodes_global]\n",
    "            \n",
    "            # record information \n",
    "            info_batch_node_size[cluster] = len(mini_nodes_global)\n",
    "            info_batch_edge_size[cluster] = len(mini_edges_local)\n",
    "            \n",
    "            # transform all the data to the tensor form\n",
    "            mini_nodes_local = torch.LongTensor(mini_nodes_local)\n",
    "            mini_edges_local = torch.LongTensor(mini_edges_local).t()\n",
    "            mini_edge_weight_local = torch.FloatTensor(mini_edge_weight_local)\n",
    "            mini_features = torch.FloatTensor(mini_features)\n",
    "            mini_labels = torch.LongTensor(mini_labels)\n",
    "            \n",
    "            minibatch_data = [mini_nodes_local, mini_edges_local, mini_edge_weight_local, mini_features, mini_labels]\n",
    "            \n",
    "            batch_file_name = batch_file_folder + 'batch_' + str(cluster)\n",
    "            \n",
    "            # store the batch files\n",
    "            t0 = time.time()\n",
    "            with open(batch_file_name, \"wb\") as fp:\n",
    "                pickle.dump(minibatch_data, fp)\n",
    "            store_time = ((time.time() - t0) * 1000)\n",
    "            print('*** Generate batch file for # {0:3d} batch, writing the batch file costed {1:.2f} ms ***'.format(cluster, store_time) )\n",
    "            \n",
    "        return info_batch_node_size, info_batch_edge_size\n",
    "    \n",
    "    def save_info_dict(self, data, file_name, target_folder, header = 'key, value'):\n",
    "        # output the batch size information as the csv file\n",
    "#         os.makedirs(os.path.dirname(target_folder), exist_ok=True)\n",
    "        target_file = target_folder + file_name\n",
    "        \n",
    "        with open(target_file, 'a', newline='\\n') as fp:\n",
    "            wr = csv.writer(fp, delimiter = ',')\n",
    "            fp.write('\\n')\n",
    "            wr.writerow(header.split(','))\n",
    "            for key, val in data.items():\n",
    "                wr.writerow([key+1, val])\n",
    "    \n",
    "    def mini_batch_train_clustering(self, batch_folder, k, fraction = 1.0, batch_range = (0, 1), info_folder = './info/', info_file = 'train_batch_size_info.csv'):\n",
    "        \"\"\"\n",
    "            batch_folder : to save the batch file to this target folder \n",
    "            info_folder : to save the batch information as csv file to this folder\n",
    "            k:  number of hop of neighbor layer\n",
    "            fraction:  fraction of each neighbor layer\n",
    "            batch_range:   generate the batch from this range [start, end)  \n",
    "        \"\"\"\n",
    "        data_type = 'train'\n",
    "        batch_file_folder = batch_folder + data_type + '/'\n",
    "#         check_folder_exist(batch_file_folder)\n",
    "        os.makedirs(os.path.dirname(batch_file_folder), exist_ok=True)\n",
    "        \n",
    "        self.info_train_batch_node_size, self.info_train_batch_edge_size  = self.mini_batch_generate(batch_file_folder, self.sg_train_nodes_global, k, fraction = fraction, batch_range = batch_range)\n",
    "        self.info_train_seed_size = {key : len(val) for key, val in self.sg_train_nodes_global.items()}\n",
    "        \n",
    "        self.save_info_dict(self.info_train_batch_node_size, info_file, info_folder, header = 'train_batch_node_id, train_batch_node_size')\n",
    "        self.save_info_dict(self.info_train_batch_edge_size, info_file, info_folder, header = 'train_batch_edge_id, train_batch_edge_size')\n",
    "        self.save_info_dict(self.info_train_seed_size, info_file, info_folder, header = 'train_seed_node_id, train_seed_node_size')\n",
    "        \n",
    "    def mini_batch_validation_clustering(self, batch_folder, k, fraction = 1.0, batch_range = (0, 1), info_folder = './info/', info_file = 'validation_batch_size_info.csv'):\n",
    "        data_type = 'validation'\n",
    "        batch_file_folder = batch_folder + data_type + '/'\n",
    "#         check_folder_exist(batch_file_folder)\n",
    "        os.makedirs(os.path.dirname(batch_file_folder), exist_ok=True)\n",
    "        \n",
    "        self.info_validation_batch_node_size, self.info_validation_batch_edge_size = self.mini_batch_generate(batch_file_folder, self.sg_validation_nodes_global, k, fraction = fraction, batch_range = batch_range)\n",
    "        self.info_validation_seed_size = {key : len(val) for key, val in self.sg_validation_nodes_global.items()}\n",
    "        \n",
    "        self.save_info_dict(self.info_validation_batch_node_size, info_file, info_folder, header = 'validation_batch_node_id, validation_batch_node_size')\n",
    "        self.save_info_dict(self.info_validation_batch_edge_size, info_file, info_folder, header = 'validation_batch_edge_id, validation_batch_edge_size')\n",
    "        self.save_info_dict(self.info_validation_seed_size, info_file, info_folder, header = 'validation_seed_node_id, validation_seed_node_size')\n",
    "        \n",
    "    def mini_batch_test_clustering(self, batch_folder, k, fraction = 1.0, batch_range = (0, 1), info_folder = './info/', info_file = 'test_batch_size_info.csv'):\n",
    "        data_type = 'test'\n",
    "        batch_file_folder = batch_folder + data_type + '/'\n",
    "#         check_folder_exist(batch_file_folder)\n",
    "        os.makedirs(os.path.dirname(batch_file_folder), exist_ok=True)\n",
    "    \n",
    "        self.info_test_batch_node_size, self.info_test_batch_edge_size = self.mini_batch_generate(batch_file_folder, self.sg_test_nodes_global, k, fraction = fraction, batch_range = batch_range)\n",
    "        self.info_test_seed_size = {key : len(val) for key, val in self.sg_test_nodes_global.items()}\n",
    "        \n",
    "        self.save_info_dict(self.info_test_batch_node_size, info_file, info_folder, header = 'test_batch_node_id, test_batch_node_size')\n",
    "        \n"
   ]
  },
  {
   "cell_type": "markdown",
   "metadata": {},
   "source": [
    "#### Partition Graph with trainiing and testing"
   ]
  },
  {
   "cell_type": "code",
   "execution_count": 8,
   "metadata": {},
   "outputs": [],
   "source": [
    "# from Custom_GCN_layer import Net\n",
    "import time\n",
    "from tqdm import tqdm_notebook as tqdm\n",
    "from torch.autograd import Variable\n",
    "from sklearn.metrics import f1_score\n",
    "from sklearn.metrics import accuracy_score\n",
    "\n",
    "class ClusterGCNTrainer_mini_Train(object):\n",
    "    \"\"\"\n",
    "    Training a ClusterGCN.\n",
    "    \"\"\"\n",
    "    def __init__(self, data_folder, in_channels, out_channels, input_layers = [32, 16], dropout=0.3):\n",
    "        \"\"\"\n",
    "        :param in_channels, out_channels: input and output feature dimension\n",
    "        :param clustering_machine:\n",
    "        \"\"\"  \n",
    "        self.device = torch.device(\"cuda\" if torch.cuda.is_available() else \"cpu\")\n",
    "        self.data_folder = data_folder\n",
    "        self.in_channels = in_channels\n",
    "        self.out_channels = out_channels\n",
    "        self.input_layers = input_layers\n",
    "        self.dropout = dropout\n",
    "        \n",
    "        self.create_model()\n",
    "\n",
    "    def create_model(self):\n",
    "        \"\"\"\n",
    "        Creating a StackedGCN and transferring to CPU/GPU.\n",
    "        \"\"\"\n",
    "#         print('used layers are: ', str(self.input_layers))\n",
    "        self.model = Net(self.in_channels, self.out_channels, input_layers = self.input_layers, dropout = self.dropout)\n",
    "        self.model = self.model.to(self.device)\n",
    "    \n",
    "    # call the forward function batch by batch\n",
    "    def do_forward_pass(self, tr_train_nodes, tr_edges, tr_edge_weights, tr_features, tr_target):\n",
    "        \"\"\"\n",
    "        Making a forward pass with data from a given partition.\n",
    "        :param cluster: Cluster index.\n",
    "        :return average_loss: Average loss on the cluster.\n",
    "        :return node_count: Number of nodes.\n",
    "        \"\"\"\n",
    "        \n",
    "        '''Target and features are one-one mapping'''\n",
    "        # calculate the probabilites from log_sofmax\n",
    "        predictions = self.model(tr_edges, tr_features, tr_edge_weights)\n",
    "        \n",
    "        ave_loss = torch.nn.functional.nll_loss(predictions[tr_train_nodes], tr_target[tr_train_nodes])\n",
    "        node_count = tr_train_nodes.shape[0]\n",
    "\n",
    "        # for each cluster keep track of the counts of the nodes\n",
    "        return ave_loss, node_count\n",
    "\n",
    "\n",
    "    def update_average_loss(self, batch_average_loss, node_count, isolate = True):\n",
    "        \"\"\"\n",
    "        Updating the average loss in the epoch.\n",
    "        :param batch_average_loss: Loss of the cluster. \n",
    "        :param node_count: Number of nodes in currently processed cluster.\n",
    "        :return average_loss: Average loss in the epoch.\n",
    "        \"\"\"\n",
    "        self.accumulated_training_loss = self.accumulated_training_loss + batch_average_loss.item() * node_count\n",
    "        if isolate:\n",
    "            self.node_count_seen = self.node_count_seen + node_count\n",
    "        average_loss = self.accumulated_training_loss / self.node_count_seen\n",
    "        return average_loss\n",
    "\n",
    "    # iterate through epoch and also the clusters\n",
    "    def train_investigate_F1(self, epoch_num=10, learning_rate=0.01, weight_decay = 0.01, mini_epoch_num = 1, output_period = 10, train_batch_num = 2, valid_batch_num = 2):\n",
    "        \"\"\"\n",
    "            *** Periodically output the F1 score during training. After certain number of epochs ***\n",
    "            epoch_num:  number of total training epoch number\n",
    "            learning rate: learning rate during training\n",
    "            weight_decay:  decay coefficients for the regularization\n",
    "            mini_epoch_num:  number of epochs of repeating training after loading data on the GPU\n",
    "            output_period:  number of epochs after which output the F1 and accuray to investigate the model refining process\n",
    "        \"\"\"\n",
    "        self.optimizer = torch.optim.AdamW(self.model.parameters(), lr=learning_rate, weight_decay=weight_decay)\n",
    "        self.model.train()   #   set into train mode, only effective for certain modules such as dropout and batchNorm\n",
    "        self.record_ave_training_loss = []\n",
    "        self.time_train_load_data = 0\n",
    "        \n",
    "        epoch_partition = epoch_num // mini_epoch_num\n",
    "        investigate_f1 = {}\n",
    "        investigate_accuracy = {}\n",
    "        \n",
    "        t0 = time.time()\n",
    "        train_clusters = list(range(train_batch_num))\n",
    "        for epoch_part in range(epoch_partition):\n",
    "#             For test purpose, we let the clusters to follow specific order\n",
    "            random.shuffle(train_clusters)\n",
    "            self.node_count_seen = 0\n",
    "            self.accumulated_training_loss = 0\n",
    "            for cluster in train_clusters:\n",
    "                # for each batch, we load once and train it for multiple epochs:\n",
    "                # read in the train data from the pickle files\n",
    "                batch_file_name = self.data_folder + 'train/batch_' + str(cluster)\n",
    "                \n",
    "                t2 = time.time()\n",
    "                with open(batch_file_name, \"rb\") as fp:\n",
    "                    minibatch_data_train = pickle.load(fp)\n",
    "                read_time = (time.time() - t2) * 1000\n",
    "                print('*** During training for # {0:3d} batch, reading batch file costed {1:.2f} ms ***'.format(cluster, read_time) )\n",
    "                \n",
    "                tr_train_nodes, tr_edges, tr_edge_weights, tr_features, tr_target = minibatch_data_train\n",
    "                \n",
    "                t1 = time.time()\n",
    "                tr_train_nodes = tr_train_nodes.to(self.device)\n",
    "                tr_edges = tr_edges.to(self.device)\n",
    "                tr_edge_weights = tr_edge_weights.to(self.device)\n",
    "                tr_features = tr_features.to(self.device)\n",
    "                tr_target = tr_target.to(self.device)\n",
    "                \n",
    "                self.time_train_load_data += (time.time() - t1) * 1000\n",
    "                # train each batch for multiple epochs\n",
    "                for mini_epoch in range(mini_epoch_num):\n",
    "                    # record the current overall epoch index:\n",
    "                    real_epoch_num = 1 + mini_epoch + mini_epoch_num * epoch_part # real_epoch_num starts from 0, therefore we add 1\n",
    "                    \n",
    "                    self.optimizer.zero_grad()\n",
    "                    batch_ave_loss, node_count = self.do_forward_pass(tr_train_nodes, tr_edges, tr_edge_weights, tr_features, tr_target)\n",
    "                    batch_ave_loss.backward()\n",
    "                    self.optimizer.step()\n",
    "                    ave_loss = self.update_average_loss(batch_ave_loss, node_count)\n",
    "                    \n",
    "                    # at this point finish a single train duration: update the parameter and calcualte the loss function\n",
    "                    # periodically output the F1-score in the middle of the training process\n",
    "                    if real_epoch_num % output_period == 0:\n",
    "                        investigate_f1[real_epoch_num], investigate_accuracy[real_epoch_num] = self.batch_validate(valid_batch_num = valid_batch_num)\n",
    "                        self.model.train()    # reset to the train mode\n",
    "            \n",
    "            self.record_ave_training_loss.append(ave_loss)\n",
    "        # convert to ms\n",
    "        self.time_train_total = ((time.time() - t0) * 1000)\n",
    "        return investigate_f1, investigate_accuracy\n",
    "\n",
    "    # iterate through epoch and also the clusters\n",
    "    def train(self, epoch_num=10, learning_rate=0.01, weight_decay = 0.01, mini_epoch_num = 1, train_batch_num = 2):\n",
    "        \"\"\"\n",
    "            *** Training a model. ***\n",
    "            epoch_num:  number of total training epoch number\n",
    "            learning rate: learning rate during training\n",
    "            weight_decay:  decay coefficients for the regularization\n",
    "            mini_epoch_num:  number of epochs of repeating training after loading data on the GPU\n",
    "        \"\"\"\n",
    "        self.optimizer = torch.optim.AdamW(self.model.parameters(), lr=learning_rate, weight_decay=weight_decay)\n",
    "        self.model.train()\n",
    "        self.record_ave_training_loss = []\n",
    "        self.time_train_load_data = 0\n",
    "        \n",
    "        epoch_partition = epoch_num // mini_epoch_num\n",
    "        t0 = time.time()\n",
    "        train_clusters = list(range(train_batch_num))\n",
    "        for epoch in range(epoch_partition):\n",
    "#             For test purpose, we let the clusters to follow specific order\n",
    "            random.shuffle(train_clusters)\n",
    "            self.node_count_seen = 0\n",
    "            self.accumulated_training_loss = 0\n",
    "            \n",
    "            for cluster in train_clusters:\n",
    "                # read in the train data from the pickle files\n",
    "                batch_file_name = self.data_folder + 'train/batch_' + str(cluster)\n",
    "                \n",
    "                t2 = time.time()\n",
    "                with open(batch_file_name, \"rb\") as fp:\n",
    "                    minibatch_data_train = pickle.load(fp)\n",
    "                read_time = (time.time() - t2) * 1000\n",
    "                print('*** During training for # {0:3d} batch, reading batch file costed {1:.2f} ms ***'.format(cluster, read_time) )\n",
    "                \n",
    "                tr_train_nodes, tr_edges, tr_edge_weights, tr_features, tr_target = minibatch_data_train\n",
    "                \n",
    "                # for each cluster, we load once and train it for multiple epochs:\n",
    "                t1 = time.time()\n",
    "                tr_train_nodes = tr_train_nodes.to(self.device)\n",
    "                tr_edges = tr_edges.to(self.device)\n",
    "                tr_edge_weights = tr_edge_weights.to(self.device)\n",
    "                tr_features = tr_features.to(self.device)\n",
    "                tr_target = tr_target.to(self.device)\n",
    "                \n",
    "                \n",
    "                self.time_train_load_data += (time.time() - t1) * 1000\n",
    "                # train each batch for multiple epochs\n",
    "                for mini_epoch in range(mini_epoch_num):\n",
    "                    self.optimizer.zero_grad()\n",
    "                    batch_ave_loss, node_count = self.do_forward_pass(tr_train_nodes, tr_edges, tr_edge_weights, tr_features, tr_target)\n",
    "                    batch_ave_loss.backward()\n",
    "                    self.optimizer.step()\n",
    "                    ave_loss = self.update_average_loss(batch_ave_loss, node_count)\n",
    "            \n",
    "            self.record_ave_training_loss.append(ave_loss)\n",
    "        # convert to ms\n",
    "        self.time_train_total = ((time.time() - t0) * 1000)\n",
    "    \n",
    "\n",
    "    def do_batch_validation_prediction(self, valid_validation_nodes, valid_edges, valid_edge_weights, valid_features, valid_target):\n",
    "        \"\"\"\n",
    "        Scoring a cluster.\n",
    "        :param cluster: Cluster index.\n",
    "        :return prediction: Prediction matrix with probabilities.\n",
    "        :return target: Target vector.\n",
    "        \"\"\"\n",
    "        predictions = self.model(valid_edges, valid_features, valid_edge_weights)\n",
    "        return predictions[valid_validation_nodes], valid_target[valid_validation_nodes]\n",
    "\n",
    "    def batch_validate(self, valid_batch_num = 2):\n",
    "        \"\"\"\n",
    "        Scoring the test and printing the F-1 score.\n",
    "        \"\"\"\n",
    "        self.model.eval()   # set into test mode, only effective for certain modules such as dropout and batchNorm\n",
    "        \n",
    "        predictions = []\n",
    "        targets = []\n",
    "        valid_clusters = list(range(valid_batch_num))\n",
    "        for cluster in valid_clusters:\n",
    "            # read in the train data from the pickle files\n",
    "            batch_file_name = self.data_folder + 'validation/batch_' + str(cluster)\n",
    "            \n",
    "            t2 = time.time()\n",
    "            with open(batch_file_name, \"rb\") as fp:\n",
    "                minibatch_data_validation = pickle.load(fp)\n",
    "            read_time = (time.time() - t2) * 1000\n",
    "            print('*** During validation for # {0:3d} batch, reading batch file costed {1:.2f} ms ***'.format(cluster, read_time) )\n",
    "\n",
    "            valid_validation_nodes, valid_edges, valid_edge_weights, valid_features, valid_target = minibatch_data_validation\n",
    "            \n",
    "            valid_validation_nodes = valid_validation_nodes.to(self.device)\n",
    "            valid_edges = valid_edges.to(self.device)\n",
    "            valid_edge_weights = valid_edge_weights.to(self.device)\n",
    "            valid_features = valid_features.to(self.device)\n",
    "            valid_target = valid_target.to(self.device)\n",
    "            \n",
    "            \n",
    "            prediction, target = self.do_batch_validation_prediction(valid_validation_nodes, valid_edges, valid_edge_weights, valid_features, valid_target)\n",
    "\n",
    "            predictions.append(prediction.cpu().detach().numpy())\n",
    "            targets.append(target.cpu().detach().numpy())\n",
    "        \n",
    "        # concatenate all the ndarrays inside this list\n",
    "        targets = np.concatenate(targets)\n",
    "        # along axis:    axis == 1\n",
    "        predictions = np.concatenate(predictions).argmax(1)  # return the indices of maximum probability \n",
    "        \n",
    "        f1 = f1_score(targets, predictions, average=\"micro\")\n",
    "        accuracy = accuracy_score(targets, predictions)\n",
    "#         print(\"\\nTest F-1 score: {:.4f}\".format(score))\n",
    "        return (f1, accuracy)\n",
    "\n",
    "# for cross-validation purpose: \n",
    "    def do_prediction(self, cluster):\n",
    "        \"\"\"\n",
    "        Scoring a cluster.\n",
    "        :param cluster: Cluster index.\n",
    "        :return prediction: Prediction matrix with probabilities.\n",
    "        :return target: Target vector.\n",
    "        \"\"\"\n",
    "        test_nodes = self.clustering_machine.sg_test_nodes_global[cluster].to(self.device)\n",
    "        prediction = self.model(self.edges, self.features, self.edge_weights)\n",
    "        \n",
    "        return prediction[test_nodes], self.label[test_nodes]\n",
    "    \n",
    "    def test(self):\n",
    "        \"\"\"\n",
    "        Scoring the test and printing the F-1 score.\n",
    "        \"\"\"\n",
    "        self.model.eval()\n",
    "        self.predictions = []\n",
    "        self.targets = []\n",
    "        \n",
    "        self.edges = self.clustering_machine.edge_index_global_self_loops.to(self.device)\n",
    "        self.features = self.clustering_machine.features.to(self.device)\n",
    "        self.edge_weights = self.clustering_machine.edge_weight_global.to(self.device)\n",
    "        self.label = self.clustering_machine.label.to(self.device)\n",
    "        \n",
    "        for cluster in self.clustering_machine.test_clusters:\n",
    "            prediction, target = self.do_prediction(cluster)\n",
    "\n",
    "            self.predictions.append(prediction.cpu().detach().numpy())\n",
    "            self.targets.append(target.cpu().detach().numpy())\n",
    "        \n",
    "        # concatenate all the ndarrays inside this list\n",
    "        self.targets = np.concatenate(self.targets)\n",
    "        # along axis:    axis == 1\n",
    "        self.predictions = np.concatenate(self.predictions).argmax(1)  # return the indices of maximum probability \n",
    "        \n",
    "        f1 = f1_score(self.targets, self.predictions, average=\"micro\")\n",
    "        accuracy = accuracy_score(self.targets, self.predictions)\n",
    "#         print(\"\\nTest F-1 score: {:.4f}\".format(score))\n",
    "        return (f1, accuracy)\n",
    "\n"
   ]
  },
  {
   "cell_type": "markdown",
   "metadata": {},
   "source": [
    "### Use Trivial data"
   ]
  },
  {
   "cell_type": "code",
   "execution_count": 9,
   "metadata": {},
   "outputs": [
    {
     "name": "stdout",
     "output_type": "stream",
     "text": [
      "tensor([[0., 0.],\n",
      "        [0., 1.],\n",
      "        [0., 2.],\n",
      "        [0., 3.],\n",
      "        [0., 4.],\n",
      "        [0., 5.],\n",
      "        [0., 6.],\n",
      "        [0., 7.],\n",
      "        [0., 8.],\n",
      "        [0., 9.]]) torch.Size([10, 2])\n"
     ]
    }
   ],
   "source": [
    "'''Trivial data'''\n",
    "edge_index = torch.tensor([[0, 1, 1, 3, 1, 2, 4, 2, 4, 6, 6, 7, 7, 9, 2, 5, 9, 8], \n",
    "                           [1, 0, 3, 1, 2, 1, 2, 4, 6, 4, 7, 6, 9, 7, 5, 2, 8, 9]])\n",
    "# features = torch.rand(10, 3)\n",
    "features = torch.tensor([[0, 0], [0, 1], [0, 2], [0, 3], [0, 4],  \n",
    "                           [0, 5], [0, 6], [0, 7], [0, 8], [0, 9]], dtype = torch.float)\n",
    "# label = torch.tensor([0, 1, 2, 3, 4, 5, 6, 7, 8, 9])\n",
    "label = torch.tensor([0, 1, 1, 0, 1, 1, 1, 0, 0, 0])\n",
    "print(features, features.shape)\n",
    "\n",
    "# set the tmp folder\n",
    "# tmp_folder = './tmp/'\n",
    "# check_folder_exist(tmp_folder)\n",
    "# os.makedirs(os.path.dirname(tmp_folder), exist_ok=True)\n",
    "# set the store clustering path\n",
    "tmp_folder = './res_save_batch/tmp/'\n",
    "check_folder_exist(tmp_folder)\n",
    "clustering_file_name = tmp_folder + 'check_clustering_machine.txt'\n",
    "os.makedirs(os.path.dirname(tmp_folder), exist_ok=True)\n",
    "info_folder = './res_save_batch/info/'\n",
    "check_folder_exist(info_folder)\n",
    "os.makedirs(os.path.dirname(info_folder), exist_ok=True)\n",
    "\n",
    "node_count = features.shape[0]\n",
    "get_edge_weight(edge_index, node_count, store_path = tmp_folder)\n",
    "clustering_machine = ClusteringMachine(edge_index, features, label, tmp_folder)\n",
    "\n",
    "with open(clustering_file_name, \"wb\") as fp:\n",
    "    pickle.dump(clustering_machine, fp)"
   ]
  },
  {
   "cell_type": "markdown",
   "metadata": {},
   "source": [
    "### minibatch train nodes and batch validatioin "
   ]
  },
  {
   "cell_type": "code",
   "execution_count": 12,
   "metadata": {},
   "outputs": [
    {
     "name": "stdout",
     "output_type": "stream",
     "text": [
      "*** Generate batch file for #   0 batch, writing the batch file costed 0.20 ms ***\n",
      "*** Generate batch file for #   1 batch, writing the batch file costed 0.19 ms ***\n",
      "*** Generate batch file for #   0 batch, writing the batch file costed 0.17 ms ***\n",
      "*** Generate batch file for #   1 batch, writing the batch file costed 0.16 ms ***\n",
      "*** During training for #   0 batch, reading batch file costed 0.21 ms ***\n",
      "*** During training for #   1 batch, reading batch file costed 0.20 ms ***\n",
      "*** During validation for #   0 batch, reading batch file costed 0.18 ms ***\n",
      "*** During validation for #   1 batch, reading batch file costed 0.19 ms ***\n"
     ]
    }
   ],
   "source": [
    "\n",
    "mini_batch_folder = './res_save_batch/mini_batch_files/'\n",
    "check_folder_exist(mini_batch_folder)\n",
    "\n",
    "with open(clustering_file_name, \"rb\") as fp:\n",
    "    clustering_machine = pickle.load(fp)\n",
    "\n",
    "clustering_machine.split_whole_nodes_edges_then_cluster(0.4, 0.4, train_batch_num = 2, valid_batch_num = 2, test_batch_num = 2)\n",
    "\n",
    "output_GPU_memory_usage('Memory_use.txt', info_folder, comment ='after split: ')\n",
    "\n",
    "# generate the batches for train and validation\n",
    "clustering_machine.mini_batch_train_clustering(mini_batch_folder, 1, batch_range = (0, 2), info_folder = info_folder) # include number of layers\n",
    "\n",
    "output_GPU_memory_usage('Memory_use.txt', info_folder, comment ='after train clustering: ')\n",
    "\n",
    "clustering_machine.mini_batch_validation_clustering(mini_batch_folder, 1, batch_range = (0, 2), info_folder = info_folder)\n",
    "\n",
    "output_GPU_memory_usage('Memory_use.txt', info_folder, comment ='after validation clustering:  ')\n",
    "\n",
    "# construct the batch trainer\n",
    "gcn_trainer_batch = ClusterGCNTrainer_mini_Train(mini_batch_folder, 2, 2, input_layers = [16], dropout=0.3)\n",
    "\n",
    "output_GPU_memory_usage('Memory_use.txt', info_folder, comment = 'after generating trainer:  ')\n",
    "\n",
    "gcn_trainer_batch.train(1, 0.0001, 0.1, train_batch_num = 2)\n",
    "\n",
    "output_GPU_memory_usage('Memory_use.txt', info_folder, comment = 'after training the batch:  ')\n",
    "\n",
    "gcn_trainer_batch.batch_validate(valid_batch_num = 2)\n",
    "\n",
    "output_GPU_memory_usage('Memory_use.txt', info_folder, comment = 'after validating the batch:  ')"
   ]
  },
  {
   "cell_type": "markdown",
   "metadata": {},
   "source": [
    "### Check the train loss "
   ]
  },
  {
   "cell_type": "code",
   "execution_count": 13,
   "metadata": {},
   "outputs": [],
   "source": [
    "def check_train_loss_converge(mini_batch_folder, data_name, dataset, image_path,  comments, input_layer = [32, 16], epoch_num = 300, \\\n",
    "                              dropout = 0.3, lr = 0.0001, weight_decay = 0.01, mini_epoch_num = 5, \\\n",
    "                               valid_part_num = 2, train_part_num = 2, test_part_num = 1):\n",
    "    # mini-batch, but valid also in batches\n",
    "    Trainer_folder = mini_batch_folder + 'GCNtrainer/'\n",
    "    check_folder_exist(Trainer_folder)\n",
    "    os.makedirs(os.path.dirname(Trainer_folder), exist_ok=True)\n",
    "    \n",
    "    trainer_id = 0\n",
    "    Cluster_train_batch_run(trainer_id, mini_batch_folder, data_name, dataset, image_path, input_layer = input_layer, epochs=epoch_num, \\\n",
    "                                                                               dropout = dropout, lr = lr, weight_decay = weight_decay, mini_epoch_num = mini_epoch_num, \\\n",
    "                                                                               train_part_num = train_part_num, test_part_num = test_part_num)\n",
    "    trainer_file_name = mini_batch_folder + 'GCNtrainer/GCN_trainer_' + str(trainer_id)\n",
    "    with open(trainer_file_name, \"rb\") as fp:\n",
    "        Cluster_train_batch_trainer = pickle.load(fp)\n",
    "    \n",
    "    draw_Cluster_train_valid_batch = draw_trainer_info(data_name, Cluster_train_batch_trainer, image_path, 'train_valid_batch_' + comments)\n",
    "    draw_Cluster_train_valid_batch.draw_ave_loss_per_node()\n",
    "    \n",
    "\n",
    "''' Draw the information about the GCN calculating batch size '''\n",
    "def draw_cluster_info(clustering_machine, data_name, img_path, comments = '_cluster_node_distr'):\n",
    "    \"\"\"\n",
    "        Won't call this for mini-batch with no clustering \n",
    "    \"\"\"\n",
    "    cluster_id = clustering_machine.train_clusters    # a list of cluster indices\n",
    "    cluster_datapoints = {'cluster_id': cluster_id,  \\\n",
    "                          'train_batch' : [clustering_machine.info_train_batch_size[idx] for idx in cluster_id], \\\n",
    "                          'cluster_size' : [clustering_machine.info_isolate_cluster_size[idx] for idx in cluster_id], \\\n",
    "                         }\n",
    "                         \n",
    "    df = pd.DataFrame(data=cluster_datapoints, dtype=np.int32)\n",
    "    # print(df)\n",
    "    df_reshape = df.melt('cluster_id', var_name = 'clusters', value_name = 'node_num')\n",
    "    \n",
    "    plt.clf()\n",
    "    plt.figure()\n",
    "    sns.set(style='whitegrid')\n",
    "    g = sns.catplot(x=\"cluster_id\", y=\"node_num\", hue='clusters', kind='bar', data=df_reshape)\n",
    "    g.despine(left=True)\n",
    "    g.fig.suptitle(data_name + comments)\n",
    "    g.set_xlabels(\"Cluster ID\")\n",
    "    g.set_ylabels(\"Number of nodes\")\n",
    "    \n",
    "    img_name = img_path + data_name + comments\n",
    "    os.makedirs(os.path.dirname(img_name), exist_ok=True)\n",
    "    g.savefig(img_name, bbox_inches='tight')"
   ]
  },
  {
   "cell_type": "markdown",
   "metadata": {},
   "source": [
    "### Specific model run"
   ]
  },
  {
   "cell_type": "code",
   "execution_count": 14,
   "metadata": {},
   "outputs": [],
   "source": [
    "''' Execute the testing program '''\n",
    "def set_clustering_machine(data, dataset, image_path, intermediate_data_folder, test_ratio = 0.05, validation_ratio = 0.85, train_batch_num = 2, valid_batch_num = 2, test_batch_num = 2):\n",
    "    \"\"\"\n",
    "        Set the batch machine plus generate the training batches\n",
    "            1) data: the target dataset data\n",
    "            2) intermediate_data_folder: path to store the intermediate generated data\n",
    "            3) test_ratio, validation_ratio: data split ratio\n",
    "            4) neigh_layer: number of hops (layers) for the neighbor nodes \n",
    "            5) train_frac: each time including fraction of the neigbor nodes in each layer\n",
    "            6) valid_part_num, train_part_num, test_part_num :  batch number for validation, train and test data correspondingly\n",
    "    \"\"\"\n",
    "    # set the tmp file for garbage tmp files, just collect the info:\n",
    "    tmp_folder = './tmp/'\n",
    "    check_folder_exist(tmp_folder)\n",
    "    os.makedirs(os.path.dirname(tmp_folder), exist_ok=True)\n",
    "    \n",
    "    # Set the clustering information storing path\n",
    "    clustering_file_folder = intermediate_data_folder + 'clustering/'\n",
    "    check_folder_exist(clustering_file_folder)  # if exist then delete\n",
    "    clustering_file_name = clustering_file_folder + 'clustering_machine.txt'\n",
    "    data_info_file_name = clustering_file_folder + 'data_info_file.txt'\n",
    "    os.makedirs(os.path.dirname(clustering_file_folder), exist_ok=True)\n",
    "    \n",
    "    # if we use the random assignment of the code, then filtering out the isolated data may not be necessary\n",
    "#     connect_edge_index, connect_features, connect_label = filter_out_isolate(data.edge_index, data.x, data.y)\n",
    "#     clustering_machine = ClusteringMachine(connect_edge_index, connect_features, connect_label)\n",
    "    print('\\n' + '=' * 100)\n",
    "    # start to generate the edge weights\n",
    "    print('Start to generate the global edge weights')\n",
    "    t00 = time.time()\n",
    "    node_count = data.x.shape[0]\n",
    "    get_edge_weight(data.edge_index, node_count, store_path = tmp_folder)\n",
    "    edge_weight_create = time.time() - t00\n",
    "    print('Edge weights creation costs a total of {0:.4f} seconds!'.format(edge_weight_create))\n",
    "    \n",
    "    print('Start to generate the clustering machine:')\n",
    "    t0 = time.time()\n",
    "    clustering_machine = ClusteringMachine(data.edge_index, data.x, data.y, tmp_folder)\n",
    "    batch_machine_create = time.time() - t0\n",
    "    print('Batch machine creation costs a total of {0:.4f} seconds!'.format(batch_machine_create))\n",
    "    \n",
    "    # at last output the information inside the folder:\n",
    "    print_dir_content_info(tmp_folder)\n",
    "    \n",
    "#     clustering_machine.split_cluster_nodes_edges(test_ratio, validation_ratio, partition_num = train_part_num)\n",
    "    # mini-batch only: split to train test valid before clustering\n",
    "    print('Start to split data into train, test, validation:')\n",
    "    t1 = time.time()\n",
    "    clustering_machine.split_whole_nodes_edges_then_cluster(test_ratio, validation_ratio, \\\n",
    "                                    train_batch_num = train_batch_num, valid_batch_num = valid_batch_num, test_batch_num = test_batch_num)\n",
    "    data_split_time = time.time() - t1\n",
    "    print('Data splitting costs a total of {0:.4f} seconds!'.format(data_split_time))\n",
    "    \n",
    "    print('Start to store the batch machine file:')\n",
    "    t3 = time.time()\n",
    "    with open(clustering_file_name, \"wb\") as fp:\n",
    "        pickle.dump(clustering_machine, fp)\n",
    "    data_info = (dataset.num_node_features, dataset.num_classes )\n",
    "    with open(data_info_file_name, \"wb\") as fp:\n",
    "        pickle.dump(data_info, fp)\n",
    "    \n",
    "    batch_machine_store_time = time.time() - t3\n",
    "    print('Storing batch machine after training batches generation costs a total of {0:.4f} seconds!'.format(batch_machine_store_time))\n",
    "    print('\\n' + '=' * 100)\n",
    "    # output the memory usage information\n",
    "    output_GPU_memory_usage('Memory_use_setting_cluster.txt', './info_GPU_memory/', comment ='after setting clustering machine: ')\n",
    "    \n",
    "    \n",
    "def set_clustering_machine_train_batch(image_path, intermediate_data_folder, neigh_layer = 1, train_frac = 1.0, \\\n",
    "                                       batch_range = (0, 1), info_folder = './info_train_batch/', info_file = 'train_batch_size_info.csv'):\n",
    "    \"\"\"\n",
    "        Generate the train batches\n",
    "    \"\"\"\n",
    "    clustering_file_folder = intermediate_data_folder + 'clustering/'\n",
    "    clustering_file_name = clustering_file_folder + 'clustering_machine.txt'\n",
    "    print('\\n' + '=' * 100)\n",
    "    \n",
    "    t0 = time.time()\n",
    "    with open(clustering_file_name, \"rb\") as fp:\n",
    "        clustering_machine = pickle.load(fp)\n",
    "    batch_machine_read = time.time() - t0\n",
    "    print('Batch machine reading costs a total of {0:.4f} seconds!'.format(batch_machine_read))\n",
    "    \n",
    "#     check_folder_exist(intermediate_data_folder)  # if exist then delete\n",
    "    print('Start to generate the training batches:')\n",
    "    os.makedirs(os.path.dirname(info_folder), exist_ok=True)\n",
    "    t2 = time.time()\n",
    "    clustering_machine.mini_batch_train_clustering(intermediate_data_folder, neigh_layer, fraction = train_frac, \\\n",
    "                                                   batch_range = batch_range, info_folder = info_folder, info_file = info_file)\n",
    "    train_batch_production_time = time.time() - t2\n",
    "    print('Train batches production costs a total of {0:.4f} seconds!'.format(train_batch_production_time))\n",
    "    print_dir_content_info(intermediate_data_folder + 'train/')\n",
    "    print('=' * 100)\n",
    "    # output the memory usage information\n",
    "    output_GPU_memory_usage(info_file, './info_GPU_memory/', comment ='after generating train batches: ')\n",
    "\n",
    "def set_clustering_machine_validation_batch(image_path, intermediate_data_folder, neigh_layer = 1, validation_frac = 1.0, \\\n",
    "                                            batch_range = (0, 1), info_folder = './info_validation_batch/', info_file = 'validation_batch_size_info.csv'):\n",
    "    \"\"\"\n",
    "        Generate the validation batches\n",
    "    \"\"\"\n",
    "    clustering_file_folder = intermediate_data_folder + 'clustering/'\n",
    "    clustering_file_name = clustering_file_folder + 'clustering_machine.txt'\n",
    "    print('\\n' + '=' * 100)\n",
    "    \n",
    "    t0 = time.time()\n",
    "    with open(clustering_file_name, \"rb\") as fp:\n",
    "        clustering_machine = pickle.load(fp)\n",
    "    batch_machine_read = time.time() - t0\n",
    "    print('Batch machine reading costs a total of {0:.4f} seconds!'.format(batch_machine_read))\n",
    "    \n",
    "    print('Start to generate the validation batches:')\n",
    "    os.makedirs(os.path.dirname(info_folder), exist_ok=True)\n",
    "    t1 = time.time()\n",
    "    # for validation , fraction has to be 1.0 so that to include the information form original graph\n",
    "    clustering_machine.mini_batch_validation_clustering(intermediate_data_folder, neigh_layer, fraction = validation_frac, \\\n",
    "                                                        batch_range = batch_range, info_folder = info_folder, info_file = info_file)\n",
    "    validation_batch_production_time = time.time() - t1\n",
    "    print('Validation batches production costs a total of {0:.4f} seconds!'.format(validation_batch_production_time))\n",
    "    print_dir_content_info(intermediate_data_folder + 'validation/')\n",
    "    print('=' * 100)\n",
    "    # output the memory usage information\n",
    "    output_GPU_memory_usage(info_file, './info_GPU_memory/', comment ='after generating validation batches: ')\n",
    "\n",
    "def Cluster_train_batch_run(trainer_id, intermediate_data_folder, image_path, input_layer = [16, 16], epochs=300, \\\n",
    "                           dropout = 0.3, lr = 0.01, weight_decay = 0.01, mini_epoch_num = 5, \\\n",
    "                                 train_part_num = 2, test_part_num = 1):\n",
    "    \"\"\"\n",
    "    # Run the mini-batch model (train and validate both in batches)\n",
    "    Tuning parameters:  dropout, lr (learning rate), weight_decay: l2 regularization\n",
    "    return: validation accuracy value, validation F-1 value, time_training (ms), time_data_load (ms)\n",
    "    \"\"\"\n",
    "    \n",
    "    clustering_file_folder = intermediate_data_folder + 'clustering/'\n",
    "    data_info_file = clustering_file_folder + 'data_info_file.txt'\n",
    "    with open(data_info_file, \"rb\") as fp:\n",
    "        num_node_features, num_classes = pickle.load(fp)\n",
    "    \n",
    "    print('\\n' + '=' * 100)\n",
    "    print('Start generate the trainer:')\n",
    "    t0 = time.time()\n",
    "    gcn_trainer = ClusterGCNTrainer_mini_Train(intermediate_data_folder, num_node_features, num_classes, input_layers = input_layer, dropout = dropout)\n",
    "    train_create = time.time() - t0\n",
    "    print('Trainer creation costs a total of {0:.4f} seconds!'.format(train_create))\n",
    "    \n",
    "    print('Start train the model:')\n",
    "    t1 = time.time()\n",
    "    gcn_trainer.train(epoch_num=epochs, learning_rate=lr, weight_decay=weight_decay, mini_epoch_num = mini_epoch_num, train_batch_num = train_part_num)\n",
    "    train_period = time.time() - t1\n",
    "    print('Training costs a total of {0:.4f} seconds!'.format(train_period))\n",
    "    \n",
    "    print('Start to save the GCN trainer model (parameters: weights, bias):')\n",
    "    trainer_file_name = intermediate_data_folder + 'GCNtrainer/GCN_trainer_' + str(trainer_id)\n",
    "    t2 = time.time()\n",
    "    with open(trainer_file_name, \"wb\") as fp:\n",
    "        pickle.dump(gcn_trainer, fp)\n",
    "    store_trainer = time.time() - t2\n",
    "    print('Storing the trainer costs a total of {0:.4f} seconds!'.format(store_trainer))\n",
    "    print('-' * 80)\n",
    "    output_GPU_memory_usage('Memory_use_batch_train.txt', './info_GPU_memory/', comment ='after generating trainer and train minibatches: ')\n",
    "\n",
    "def Cluster_valid_batch_run(trainer_id, intermediate_data_folder, image_path, input_layer = [16, 16], epochs=300, \\\n",
    "                           dropout = 0.3, lr = 0.01, weight_decay = 0.01, mini_epoch_num = 5, \\\n",
    "                                 valid_part_num = 2):\n",
    "    print('Start to read the GCN trainer model (parameters: weights, bias):')\n",
    "    trainer_file_name = intermediate_data_folder + 'GCNtrainer/GCN_trainer_' + str(trainer_id)\n",
    "    t1 = time.time()\n",
    "    with open(trainer_file_name, \"rb\") as fp:\n",
    "        gcn_trainer = pickle.load(fp)\n",
    "    read_trainer = (time.time() - t1) * 1000\n",
    "    print('Reading the trainer costs a total of {0:.4f} seconds!'.format(read_trainer))\n",
    "    \n",
    "    print('Start validate the model:')\n",
    "    t2 = time.time()\n",
    "    validation_F1, validation_accuracy = gcn_trainer.batch_validate(valid_batch_num = valid_part_num)\n",
    "    validation_period = time.time() - t2\n",
    "    print('Validatoin costs a total of {0:.4f} seconds!'.format(validation_period))\n",
    "    print('=' * 100)\n",
    "    time_train_total = gcn_trainer.time_train_total\n",
    "    time_data_load = gcn_trainer.time_train_load_data\n",
    "    \n",
    "    output_GPU_memory_usage('Memory_use_batch_validation.txt', './info_GPU_memory/', comment ='after validating minibatches: ')\n",
    "    \n",
    "    return validation_accuracy, validation_F1, time_train_total, time_data_load\n",
    "\n",
    "\n",
    "def Cluster_train_valid_batch_investigate(intermediate_data_folder, image_path, input_layer = [16, 16], epochs=300, \\\n",
    "                           dropout = 0.3, lr = 0.01, weight_decay = 0.01, mini_epoch_num = 5, output_period = 10, \n",
    "                                         valid_part_num = 2, train_part_num = 2, test_part_num = 1):\n",
    "    \"\"\"\n",
    "        *** dynamically investigate the F1 score in the middle of the training after certain period ***\n",
    "        output: two dict containing F1-score and accuracy of a certain epoch index\n",
    "    \"\"\"\n",
    "    clustering_file_folder = intermediate_data_folder + 'clustering/'\n",
    "    data_info_file = clustering_file_folder + 'data_info_file.txt'\n",
    "    with open(data_info_file, \"rb\") as fp:\n",
    "        num_node_features, num_classes = pickle.load(fp)\n",
    "    \n",
    "    print('\\n' + '=' * 100)\n",
    "    print('Start generate the trainer:')\n",
    "    t0 = time.time()\n",
    "    gcn_trainer = ClusterGCNTrainer_mini_Train(intermediate_data_folder, num_node_features, num_classes, input_layers = input_layer, dropout = dropout)\n",
    "    train_create = time.time() - t0\n",
    "    print('Trainer creation costs a total of {0:.4f} seconds!'.format(train_create))\n",
    "    \n",
    "    print('Start train the model:')\n",
    "    t1 = time.time()\n",
    "    Train_period_F1, Train_period_accuracy = gcn_trainer.train_investigate_F1(epoch_num=epochs, learning_rate=lr, weight_decay=weight_decay, mini_epoch_num = mini_epoch_num, \\\n",
    "                                                            output_period = output_period, train_batch_num = train_part_num, valid_batch_num = valid_part_num)\n",
    "    train_period = time.time() - t1\n",
    "    print('In-process Training costs a total of {0:.4f} seconds!'.format(train_period))\n",
    "    print('=' * 100)\n",
    "    \n",
    "    output_GPU_memory_usage('Memory_use_investigate_batch_train_valid.txt', './info_GPU_memory/', comment ='after train_validation investigate batches  minibatches: ')\n",
    "    return Train_period_F1, Train_period_accuracy\n",
    "\n",
    "# for the purpose for tuning \n",
    "def Cluster_train_valid_batch_run(intermediate_data_folder, image_path, input_layer = [16, 16], epochs=300, \\\n",
    "                           dropout = 0.3, lr = 0.01, weight_decay = 0.01, mini_epoch_num = 5, \\\n",
    "                                 valid_part_num = 2, train_part_num = 2, test_part_num = 1):\n",
    "    \"\"\"\n",
    "    # Run the mini-batch model (train and validate both in batches)\n",
    "    Tuning parameters:  dropout, lr (learning rate), weight_decay: l2 regularization\n",
    "    return: validation accuracy value, validation F-1 value, time_training (ms), time_data_load (ms)\n",
    "    \"\"\"\n",
    "    clustering_file_folder = intermediate_data_folder + 'clustering/'\n",
    "    data_info_file = clustering_file_folder + 'data_info_file.txt'\n",
    "    with open(data_info_file, \"rb\") as fp:\n",
    "        num_node_features, num_classes = pickle.load(fp)\n",
    "    \n",
    "    print('\\n' + '=' * 100)\n",
    "    print('Start generate the trainer:')\n",
    "    t0 = time.time()\n",
    "    gcn_trainer = ClusterGCNTrainer_mini_Train(intermediate_data_folder, num_node_features, num_classes, input_layers = input_layer, dropout = dropout)\n",
    "    train_create = time.time() - t0\n",
    "    print('Trainer creation costs a total of {0:.4f} seconds!'.format(train_create))\n",
    "    \n",
    "    print('Start train the model:')\n",
    "    t1 = time.time()\n",
    "    gcn_trainer.train(epoch_num=epochs, learning_rate=lr, weight_decay=weight_decay, mini_epoch_num = mini_epoch_num, train_batch_num = train_part_num)\n",
    "    train_period = time.time() - t1\n",
    "    print('Training costs a total of {0:.4f} seconds!'.format(train_period))\n",
    "    print('-' * 80)\n",
    "    \n",
    "    print('Start validate the model:')\n",
    "    t2 = time.time()\n",
    "    validation_F1, validation_accuracy = gcn_trainer.batch_validate(valid_batch_num = valid_part_num)\n",
    "    validation_period = time.time() - t2\n",
    "    print('Validatoin costs a total of {0:.4f} seconds!'.format(validation_period))\n",
    "    print('=' * 100)\n",
    "    time_train_total = gcn_trainer.time_train_total\n",
    "    time_data_load = gcn_trainer.time_train_load_data\n",
    "    \n",
    "    output_GPU_memory_usage('Memory_use_train_validation_together.txt', './info_GPU_memory/', comment ='after train_validation batches  minibatches together: ')\n",
    "    return validation_accuracy, validation_F1, time_train_total, time_data_load\n"
   ]
  },
  {
   "cell_type": "markdown",
   "metadata": {},
   "source": [
    "### Test and compare different models"
   ]
  },
  {
   "cell_type": "code",
   "execution_count": 15,
   "metadata": {},
   "outputs": [],
   "source": [
    "def execute_one_train(mini_batch_folder, image_path, repeate_time = 5, input_layer = [32], epoch_num = 300, \\\n",
    "                dropout = 0.3, lr = 0.0001, weight_decay = 0.01, mini_epoch_num = 5, \\\n",
    "                train_part_num = 2, test_part_num = 1):\n",
    "    \"\"\"\n",
    "        Perform one train and store the results for all trainer\n",
    "    \"\"\"\n",
    "    Trainer_folder = mini_batch_folder + 'GCNtrainer/'\n",
    "    check_folder_exist(Trainer_folder)\n",
    "    os.makedirs(os.path.dirname(Trainer_folder), exist_ok=True)\n",
    "#     graph_model = ['batch_valid', 'train_batch', 'whole_graph', 'isolate']\n",
    "    for trainer_id in range(repeate_time):\n",
    "        model_res = []\n",
    "        \n",
    "        Cluster_train_batch_run(trainer_id, mini_batch_folder, image_path, input_layer = input_layer, epochs=epoch_num, \\\n",
    "                                                         dropout = dropout, lr = lr, weight_decay = weight_decay, mini_epoch_num = mini_epoch_num, \\\n",
    "                                                         train_part_num = train_part_num, test_part_num = test_part_num)\n",
    "        \n",
    "def execute_one_validation(mini_batch_folder, image_path, repeate_time = 5, input_layer = [32], epoch_num = 300, \\\n",
    "                dropout = 0.3, lr = 0.0001, weight_decay = 0.01, mini_epoch_num = 5, \\\n",
    "                valid_part_num = 2):\n",
    "    \"\"\"\n",
    "        return all test-F1 and validation-F1 for all four models\n",
    "    \"\"\"\n",
    "    validation_accuracy = {}\n",
    "    validation_f1 = {}\n",
    "    time_total_train = {}\n",
    "    time_data_load = {}\n",
    "    \n",
    "    # Each graph model corresponds to one function below\n",
    "#     graph_model = ['batch_valid', 'train_batch', 'whole_graph', 'isolate']\n",
    "    graph_model = ['batch_valid']\n",
    "    for trainer_id in range(repeate_time):\n",
    "        model_res = []\n",
    "        model_res.append(Cluster_valid_batch_run(trainer_id, mini_batch_folder, image_path, input_layer = input_layer, epochs=epoch_num, \\\n",
    "                                                         dropout = dropout, lr = lr, weight_decay = weight_decay, mini_epoch_num = mini_epoch_num, \\\n",
    "                                                      valid_part_num = valid_part_num)[:4])\n",
    "        \n",
    "        validation_accuracy[trainer_id], validation_f1[trainer_id], time_total_train[trainer_id], time_data_load[trainer_id] = zip(*model_res)\n",
    "    return graph_model, validation_accuracy, validation_f1, time_total_train, time_data_load\n",
    "\n",
    "def store_data_multi_tests(f1_data, data_name, graph_model, img_path, comments):\n",
    "    run_id = sorted(f1_data.keys())\n",
    "    run_data = {'run_id': run_id}\n",
    "    \n",
    "    run_data.update({model_name : [f1_data[key][idx] for key in run_id] for idx, model_name in enumerate(graph_model)})\n",
    "    \n",
    "    pickle_filename = img_path + data_name + '_' + comments + '.pkl'\n",
    "    os.makedirs(os.path.dirname(pickle_filename), exist_ok=True)\n",
    "    df = pd.DataFrame(data=run_data, dtype=np.int32)\n",
    "    df.to_pickle(pickle_filename)\n",
    "    return pickle_filename\n",
    "\n",
    "def draw_data_multi_tests(pickle_filename, data_name, comments, xlabel, ylabel):\n",
    "    df = pd.read_pickle(pickle_filename)\n",
    "    df_reshape = df.melt('run_id', var_name = 'model', value_name = ylabel)\n",
    "\n",
    "    plt.clf()\n",
    "    plt.figure()\n",
    "    sns.set(style='whitegrid')\n",
    "    g = sns.catplot(x=\"model\", y=ylabel, kind='box', data=df_reshape)\n",
    "    g.despine(left=True)\n",
    "    g.fig.suptitle(data_name + ' ' + ylabel + ' ' + comments)\n",
    "    g.set_xlabels(xlabel)\n",
    "    g.set_ylabels(ylabel)\n",
    "\n",
    "    img_name = pickle_filename[:-4] + '_img'\n",
    "    os.makedirs(os.path.dirname(img_name), exist_ok=True)\n",
    "    plt.savefig(img_name, bbox_inches='tight')\n",
    "    \n",
    "    "
   ]
  },
  {
   "cell_type": "markdown",
   "metadata": {},
   "source": [
    "### Investigate performance in the middle of the training process"
   ]
  },
  {
   "cell_type": "code",
   "execution_count": 16,
   "metadata": {},
   "outputs": [],
   "source": [
    "def execute_investigate(mini_batch_folder, image_path, repeate_time = 5, input_layer = [32], epoch_num = 300, \\\n",
    "                        dropout = 0.3, lr = 0.0001, weight_decay = 0.01, mini_epoch_num = 5, output_period = 10, \\\n",
    "                         valid_part_num = 2, train_part_num = 2, test_part_num = 1):\n",
    "    \"\"\"\n",
    "        return all test-F1 and validation-F1 for all four models\n",
    "    \"\"\"\n",
    "    \n",
    "    Train_peroid_f1 = {}\n",
    "    Train_peroid_accuracy = {}\n",
    "    \n",
    "    for i in range(repeate_time):\n",
    "        Train_peroid_f1[i], Train_peroid_accuracy[i] = Cluster_train_valid_batch_investigate(mini_batch_folder, image_path, input_layer = input_layer, epochs=epoch_num, \\\n",
    "                                            dropout = dropout, lr = lr, weight_decay = weight_decay, mini_epoch_num = mini_epoch_num, output_period = output_period, \\\n",
    "                                                                    valid_part_num = valid_part_num, train_part_num = train_part_num, test_part_num = test_part_num)\n",
    "        \n",
    "    return Train_peroid_f1, Train_peroid_accuracy\n",
    "\n",
    "def store_data_multi_investigate(investigate_res, data_name, res_name, img_path, comments):\n",
    "    \"\"\"\n",
    "        investigate_res: currently either F1-score or accuracy a dict {epoch num : value}\n",
    "    \"\"\"\n",
    "    run_id = sorted(investigate_res.keys())\n",
    "    run_data = {'run_id': run_id}\n",
    "    \n",
    "    epoch_num_range = sorted(investigate_res[0].keys())  # at least one entry exists inside the dictionary and the epoch range is fixed\n",
    "    run_data.update({epoch_num : [investigate_res[key][epoch_num] for key in run_id] for epoch_num in epoch_num_range})\n",
    "    \n",
    "    pickle_filename = img_path + data_name + '_' + res_name + '_' + comments + '.pkl'\n",
    "    os.makedirs(os.path.dirname(pickle_filename), exist_ok=True)\n",
    "    df = pd.DataFrame(data=run_data, dtype=np.int32)\n",
    "    df.to_pickle(pickle_filename)\n",
    "    return pickle_filename"
   ]
  },
  {
   "cell_type": "markdown",
   "metadata": {},
   "source": [
    "### Tune hyperparameters"
   ]
  },
  {
   "cell_type": "code",
   "execution_count": 17,
   "metadata": {},
   "outputs": [],
   "source": [
    "\"\"\"To test one single model for different parameter values\"\"\"\n",
    "def execute_tuning(tune_params, mini_batch_folder, image_path, repeate_time = 7, input_layer = [32], epoch_num = 400, \\\n",
    "                  dropout = 0.1, lr = 0.0001, weight_decay = 0.1, mini_epoch_num = 20, \\\n",
    "                  valid_part_num = 2, train_part_num = 2, test_part_num = 1):\n",
    "    \"\"\"\n",
    "        Tune all the hyperparameters\n",
    "        1) learning rate\n",
    "        2) dropout\n",
    "        3) layer unit number\n",
    "        4) weight decay\n",
    "    \"\"\"\n",
    "    validation_accuracy = {}\n",
    "    validation_f1 = {}\n",
    "    time_total_train = {}\n",
    "    time_data_load = {}\n",
    "    \n",
    "    res = [{tune_val : Cluster_train_valid_batch_run(mini_batch_folder, image_path, input_layer = input_layer, epochs=epoch_num, \\\n",
    "            dropout = dropout, lr = lr, weight_decay = weight_decay, mini_epoch_num = tune_val, \\\n",
    "            valid_part_num = valid_part_num, train_part_num = train_part_num, test_part_num = test_part_num) for tune_val in tune_params} for i in range(repeate_time)]\n",
    "    \n",
    "    for i, ref in enumerate(res):\n",
    "        validation_accuracy[i] = {tune_val : res_lst[0] for tune_val, res_lst in ref.items()}\n",
    "        validation_f1[i] = {tune_val : res_lst[1] for tune_val, res_lst in ref.items()}\n",
    "        time_total_train[i] = {tune_val : res_lst[2] for tune_val, res_lst in ref.items()}\n",
    "        time_data_load[i] = {tune_val : res_lst[3] for tune_val, res_lst in ref.items()}\n",
    "        \n",
    "    return validation_accuracy, validation_f1, time_total_train, time_data_load\n",
    "\n",
    "def store_data_multi_tuning(tune_params, target, data_name, img_path, comments):\n",
    "    \"\"\"\n",
    "        tune_params: is the tuning parameter list\n",
    "        target: is the result, here should be F1-score, accuraycy, load time, train time\n",
    "    \"\"\"\n",
    "    run_ids = sorted(target.keys())   # key is the run_id\n",
    "    run_data = {'run_id': run_ids}\n",
    "    # the key can be converted to string or not: i.e. str(tune_val)\n",
    "    # here we keep it as integer such that we want it to follow order\n",
    "    tmp = {tune_val : [target[run_id][tune_val] for run_id in run_ids] for tune_val in tune_params}  # the value is list\n",
    "    run_data.update(tmp)\n",
    "    \n",
    "    pickle_filename = img_path + data_name + '_' + comments + '.pkl'\n",
    "    os.makedirs(os.path.dirname(pickle_filename), exist_ok=True)\n",
    "    df = pd.DataFrame(data=run_data, dtype=np.int32)\n",
    "    df.to_pickle(pickle_filename)\n",
    "    return pickle_filename"
   ]
  },
  {
   "cell_type": "markdown",
   "metadata": {},
   "source": [
    "### Multi-test execution"
   ]
  },
  {
   "cell_type": "code",
   "execution_count": 18,
   "metadata": {},
   "outputs": [],
   "source": [
    "def output_train_loss(data, data_name, dataset, image_data_path, intermediate_data_path, partition_nums, layers, \\\n",
    "                      train_frac = 1.0, validation_frac = 1.0, valid_part_num = 2, \\\n",
    "                      dropout = 0.1, lr = 0.0001, weight_decay = 0.1, mini_epoch_num = 20):\n",
    "    for partn in partition_nums:\n",
    "        for GCN_layer in layers:\n",
    "            net_layer = len(GCN_layer) + 1\n",
    "            hop_layer = net_layer\n",
    "            print('Start checking train loss for partition num: ' + str(partn) + ' hop layer: ' + str(hop_layer))\n",
    "            img_path = image_data_path + 'cluster_num_' + str(partn) + '/' + 'net_layer_' + str(net_layer) + '_hop_layer_' + str(hop_layer) + '/'\n",
    "            img_path += 'output_train_loss/'  # further subfolder for different task\n",
    "            intermediate_data_folder = intermediate_data_path\n",
    "            \n",
    "            # set the batch for validation and train\n",
    "            mini_batch_folder = intermediate_data_folder\n",
    "            set_clustering_machine(data, dataset, img_path, intermediate_data_folder, test_ratio = 0.05, validation_ratio = 0.85, train_batch_num = partn, valid_batch_num = valid_part_num, test_batch_num = 2)\n",
    "            set_clustering_machine_train_batch(img_path, intermediate_data_folder, neigh_layer = hop_layer, train_frac = train_frac, batch_range = (0, partn))\n",
    "            set_clustering_machine_validation_batch(img_path, intermediate_data_folder, neigh_layer = hop_layer, validation_frac = validation_frac, batch_range = (0, valid_part_num))\n",
    "            \n",
    "            check_train_loss_converge(mini_batch_folder, data_name, dataset, img_path, 'part_num_' + str(partn), input_layer = GCN_layer, epoch_num = 400, \\\n",
    "                                     dropout = dropout, lr = lr, weight_decay = weight_decay, mini_epoch_num = mini_epoch_num, \n",
    "                                     valid_part_num = valid_part_num, train_part_num = partn, test_part_num = 1)\n",
    "            \n",
    "#             # for the large dataset and split first case, the cluster info cannot be generated\n",
    "#             clustering_machine.mini_batch_train_clustering(hop_layer)\n",
    "#             draw_cluster_info(clustering_machine, data_name, img_path, comments = '_cluster_node_distr_' + str(hop_layer) + '_hops')\n",
    "            \n",
    "def output_F1_score(data, data_name, dataset, image_data_path, intermediate_data_path, partition_nums, layers, \\\n",
    "                    train_frac = 1.0, validation_frac = 1.0, valid_part_num = 2, \\\n",
    "                    dropout = 0.1, lr = 0.0001, weight_decay = 0.1, mini_epoch_num = 20):            \n",
    "    for partn in partition_nums:\n",
    "        for GCN_layer in layers:\n",
    "            net_layer = len(GCN_layer) + 1\n",
    "            hop_layer = net_layer\n",
    "            \n",
    "            # set the save path\n",
    "            print('Start running for partition num: ' + str(partn) + ' hop layer ' + str(hop_layer))\n",
    "            img_path = image_data_path + 'cluster_num_' + str(partn) + '/' + 'net_layer_' + str(net_layer) + '_hop_layer_' + str(hop_layer) + '/'\n",
    "            img_path += 'output_F1_score/'  # further subfolder for different task\n",
    "            intermediate_data_folder = intermediate_data_path\n",
    "            \n",
    "            # set the batch for validation and train\n",
    "            mini_batch_folder = intermediate_data_folder\n",
    "            set_clustering_machine(data, dataset, img_path, intermediate_data_folder, test_ratio = 0.05, validation_ratio = 0.85, train_batch_num = partn, valid_batch_num = valid_part_num, test_batch_num = 2)\n",
    "            set_clustering_machine_train_batch(img_path, intermediate_data_folder, neigh_layer = hop_layer, train_frac = train_frac, batch_range = (0, partn) )\n",
    "            set_clustering_machine_validation_batch(img_path, intermediate_data_folder, neigh_layer = hop_layer, validation_frac = validation_frac, batch_range = (0, valid_part_num))\n",
    "            \n",
    "            # start to run the model, train and validation \n",
    "            execute_one_train(mini_batch_folder, img_path, repeate_time = 7, input_layer = GCN_layer, epoch_num = 400, \n",
    "                                            dropout = dropout, lr = lr, weight_decay = weight_decay, mini_epoch_num = mini_epoch_num, \\\n",
    "                                             train_part_num = partn, test_part_num = 1)\n",
    "            \n",
    "            graph_model, validation_accuracy, validation_f1, time_total_train, time_data_load = \\\n",
    "                execute_one_validation(mini_batch_folder, img_path, repeate_time = 7, input_layer = GCN_layer, epoch_num = 400, \n",
    "                                            dropout = dropout, lr = lr, weight_decay = weight_decay, mini_epoch_num = mini_epoch_num, \\\n",
    "                                             valid_part_num = valid_part_num)\n",
    "            \n",
    "            \n",
    "            validation_accuracy = store_data_multi_tests(validation_accuracy, data_name, graph_model, img_path, 'test_cluster_num_' + str(partn) + '_hops_' + str(hop_layer))\n",
    "            draw_data_multi_tests(validation_accuracy, data_name, 'vali_cluster_num_' + str(partn) + '_hop_' + str(hop_layer), 'models', 'Accuracy')\n",
    "\n",
    "            validation_f1 = store_data_multi_tests(validation_f1, data_name, graph_model, img_path, 'validation_cluster_num_' + str(partn) + '_hops_' + str(hop_layer))\n",
    "            draw_data_multi_tests(validation_f1, data_name, 'vali_cluster_num_' + str(partn) + '_hop_' + str(hop_layer), 'models', 'F1 score')\n",
    "\n",
    "            time_train = store_data_multi_tests(time_total_train, data_name, graph_model, img_path, 'train_time_cluster_num_' + str(partn) + '_hops_' + str(hop_layer))\n",
    "            draw_data_multi_tests(time_train, data_name, 'train_time_cluster_num_' + str(partn) + '_hop_' + str(hop_layer), 'models', 'Train Time (ms)')\n",
    "\n",
    "            time_load = store_data_multi_tests(time_data_load, data_name, graph_model, img_path, 'load_time_cluster_num_' + str(partn) + '_hops_' + str(hop_layer))\n",
    "            draw_data_multi_tests(time_load, data_name, 'load_time_cluster_num_' + str(partn) + '_hop_' + str(hop_layer), 'models', 'Load Time (ms)')\n",
    "\n",
    "def output_train_investigate(data, data_name, dataset, image_data_path, intermediate_data_path, partition_nums, layers, \\\n",
    "                             train_frac = 1.0, validation_frac = 1.0, valid_part_num = 2, \\\n",
    "                             dropout = 0.1, lr = 0.0001, weight_decay = 0.1, mini_epoch_num = 20, output_period = 40):            \n",
    "    for partn in partition_nums:\n",
    "        for GCN_layer in layers:\n",
    "            net_layer = len(GCN_layer) + 1\n",
    "            hop_layer = net_layer\n",
    "            # set the save path\n",
    "            print('Start running for partition num: ' + str(partn) + ' hop layer ' + str(hop_layer))\n",
    "            img_path = image_data_path + 'cluster_num_' + str(partn) + '/' + 'net_layer_' + str(net_layer) + '_hop_layer_' + str(hop_layer) + '/'\n",
    "            img_path += 'train_investigate/'  # further subfolder for different task\n",
    "            intermediate_data_folder = intermediate_data_path\n",
    "            \n",
    "            # set the batch for validation and train\n",
    "            mini_batch_folder = intermediate_data_folder\n",
    "            set_clustering_machine(data, dataset, img_path, intermediate_data_folder, test_ratio = 0.05, validation_ratio = 0.85, train_batch_num = partn, valid_batch_num = valid_part_num, test_batch_num = 2)\n",
    "            set_clustering_machine_train_batch(img_path, intermediate_data_folder, neigh_layer = hop_layer, train_frac = train_frac, batch_range = (0, partn))\n",
    "            set_clustering_machine_validation_batch(img_path, intermediate_data_folder, neigh_layer = hop_layer, validation_frac = validation_frac, batch_range = (0, valid_part_num)) \n",
    "\n",
    "            Train_peroid_f1, Train_peroid_accuracy = execute_investigate(mini_batch_folder, img_path, repeate_time = 7, input_layer = GCN_layer, epoch_num = 400, \\\n",
    "                                            dropout = dropout, lr = lr, weight_decay = weight_decay, mini_epoch_num = mini_epoch_num, output_period = output_period, \\\n",
    "                                            valid_part_num = valid_part_num, train_part_num = partn, test_part_num = 1)\n",
    "            \n",
    "            Train_peroid_f1 = store_data_multi_investigate(Train_peroid_f1, data_name, 'F1_score', img_path, 'invest_batch_num_' + str(partn) + '_hops_' + str(hop_layer))\n",
    "            draw_data_multi_tests(Train_peroid_f1, data_name, 'Train_process_batch_num_' + str(partn) + '_hop_' + str(hop_layer), 'epoch number', 'F1 score')\n",
    "\n",
    "            Train_peroid_accuracy = store_data_multi_investigate(Train_peroid_accuracy, data_name, 'Accuracy', img_path, 'invest_batch_num_' + str(partn) + '_hops_' + str(hop_layer))\n",
    "            draw_data_multi_tests(Train_peroid_accuracy, data_name, 'Train_process_batch_num_' + str(partn) + '_hop_' + str(hop_layer), 'epoch number', 'Accuracy')\n",
    "            \n",
    "            \n",
    "            \n",
    "def output_tune_param(data, data_name, dataset, image_data_path, intermediate_data_path, partition_nums, layers, \\\n",
    "                      train_frac = 1.0, validation_frac = 1.0, valid_part_num = 2, \\\n",
    "                      dropout = 0.1, lr = 0.0001, weight_decay = 0.1, mini_epoch_num = 20):\n",
    "    for partn in partition_nums:\n",
    "        for GCN_layer in layers:\n",
    "            net_layer = len(GCN_layer) + 1\n",
    "            hop_layer = net_layer\n",
    "            # Set the tune parameters and name\n",
    "            tune_name = 'batch_epoch_num'\n",
    "            tune_params = [400, 200, 100, 50, 20, 10, 5]\n",
    "#             tune_name = 'weight_decay'\n",
    "#             tune_params = [0.0001, 0.001, 0.01, 0.1]\n",
    "\n",
    "            img_path = image_data_path + 'cluster_num_' + str(partn) + '/' + 'net_layer_' + str(net_layer) + '_hop_layer_' + str(hop_layer) + '/'\n",
    "            img_path += 'tune_' + tune_name + '/'  # further subfolder for different task\n",
    "            intermediate_data_folder = intermediate_data_path\n",
    "            print('Start tuning for tuning param: ' + tune_name + ' partition num: ' + str(partn) + ' hop layer ' + str(hop_layer))\n",
    "            \n",
    "            # set the batch for validation and train\n",
    "            mini_batch_folder = intermediate_data_folder\n",
    "            set_clustering_machine(data, dataset, img_path, intermediate_data_folder, test_ratio = 0.05, validation_ratio = 0.85, train_batch_num = partn, valid_batch_num = valid_part_num, test_batch_num = 2)\n",
    "            set_clustering_machine_train_batch(img_path, intermediate_data_folder, neigh_layer = hop_layer, train_frac = train_frac, batch_range = (0, partn) )\n",
    "            set_clustering_machine_validation_batch(img_path, intermediate_data_folder, neigh_layer = hop_layer, validation_frac = validation_frac, batch_range = (0, valid_part_num) )\n",
    "\n",
    "            validation_accuracy, validation_f1, time_total_train, time_data_load = execute_tuning(tune_params, mini_batch_folder, img_path, repeate_time = 7, \\\n",
    "                                                input_layer = GCN_layer, epoch_num = 400, dropout = dropout, lr = lr, weight_decay = weight_decay, mini_epoch_num = mini_epoch_num, \\\n",
    "                                                valid_part_num = valid_part_num, train_part_num = partn, test_part_num = 1)\n",
    "\n",
    "            validation_accuracy = store_data_multi_tuning(tune_params,validation_accuracy, data_name, img_path, 'accuracy_cluster_num_' + str(partn) + '_hops_' + str(hop_layer))\n",
    "            draw_data_multi_tests(validation_accuracy, data_name, 'vali_cluster_num_' + str(partn) + '_hop_' + str(hop_layer), 'epochs_per_batch', 'Accuracy')\n",
    "\n",
    "            validation_f1 = store_data_multi_tuning(tune_params, validation_f1, data_name, img_path, 'validation_cluster_num_' + str(partn) + '_hops_' + str(hop_layer))\n",
    "            draw_data_multi_tests(validation_f1, data_name, 'vali_cluster_num_' + str(partn) + '_hop_' + str(hop_layer), 'epochs_per_batch', 'F1 score')\n",
    "\n",
    "            time_train = store_data_multi_tuning(tune_params, time_total_train, data_name, img_path, 'train_time_cluster_num_' + str(partn) + '_hops_' + str(hop_layer))\n",
    "            draw_data_multi_tests(time_train, data_name, 'train_time_cluster_num_' + str(partn) + '_hop_' + str(hop_layer), 'epochs_per_batch', 'Train Time (ms)')\n",
    "\n",
    "            time_load = store_data_multi_tuning(tune_params, time_data_load, data_name, img_path, 'load_time_cluster_num_' + str(partn) + '_hops_' + str(hop_layer))\n",
    "            draw_data_multi_tests(time_load, data_name, 'load_time_cluster_num_' + str(partn) + '_hop_' + str(hop_layer), 'epochs_per_batch', 'Load Time (ms)')\n",
    "            \n",
    "            \n"
   ]
  },
  {
   "cell_type": "markdown",
   "metadata": {},
   "source": [
    "### Separate steps of HPC execution"
   ]
  },
  {
   "cell_type": "code",
   "execution_count": 19,
   "metadata": {},
   "outputs": [],
   "source": [
    "def step0_generate_clustering_machine(data, dataset, image_data_path, intermediate_data_path, partition_nums, layers, valid_part_num = 2):            \n",
    "    for partn in partition_nums:\n",
    "        for GCN_layer in layers:\n",
    "            net_layer = len(GCN_layer) + 1\n",
    "            hop_layer = net_layer - 1\n",
    "            \n",
    "            # set the save path\n",
    "            print('Start running for partition num: ' + str(partn) + ' hop layer ' + str(hop_layer))\n",
    "            img_path = image_data_path + 'cluster_num_' + str(partn) + '/' + 'net_layer_' + str(net_layer) + '_hop_layer_' + str(hop_layer) + '/'\n",
    "            img_path += 'output_f1_score/'  # further subfolder for different task\n",
    "\n",
    "            intermediate_data_folder = intermediate_data_path\n",
    "            \n",
    "            # set the batch for train\n",
    "            set_clustering_machine(data, dataset, img_path, intermediate_data_folder, test_ratio = 0.05, validation_ratio = 0.85, train_batch_num = partn, valid_batch_num = valid_part_num, test_batch_num = 2)\n",
    "\n",
    "def step1_generate_train_batch(image_data_path, intermediate_data_path, partition_nums, layers, train_frac = 1.0, \\\n",
    "                               batch_range = (0, 1), info_folder = './info/', info_file = 'train_batch_size_info.csv'):            \n",
    "    for partn in partition_nums:\n",
    "        for GCN_layer in layers:\n",
    "            net_layer = len(GCN_layer) + 1\n",
    "            hop_layer = net_layer - 1\n",
    "            \n",
    "            # set the save path\n",
    "            print('Start running for partition num: ' + str(partn) + ' hop layer ' + str(hop_layer))\n",
    "            img_path = image_data_path + 'cluster_num_' + str(partn) + '/' + 'net_layer_' + str(net_layer) + '_hop_layer_' + str(hop_layer) + '/'\n",
    "            img_path += 'output_f1_score/'  # further subfolder for different task\n",
    "\n",
    "            intermediate_data_folder = intermediate_data_path\n",
    "            \n",
    "            # set the batch for train\n",
    "            set_clustering_machine_train_batch(img_path, intermediate_data_folder, neigh_layer = hop_layer, train_frac = train_frac, \\\n",
    "                                               batch_range = batch_range, info_folder = info_folder, info_file = info_file)\n",
    "\n",
    "    \n",
    "def step2_generate_validation_batch(image_data_path, intermediate_data_path, partition_nums, layers, validation_frac = 1.0, \\\n",
    "                                    batch_range = (0, 1), info_folder = './info/', info_file = 'validation_batch_size_info.csv'):            \n",
    "    for partn in partition_nums:\n",
    "        for GCN_layer in layers:\n",
    "            net_layer = len(GCN_layer) + 1\n",
    "            hop_layer = net_layer - 1\n",
    "            \n",
    "            # set the save path\n",
    "            print('Start running for partition num: ' + str(partn) + ' hop layer ' + str(hop_layer))\n",
    "            img_path = image_data_path + 'cluster_num_' + str(partn) + '/' + 'net_layer_' + str(net_layer) + '_hop_layer_' + str(hop_layer) + '/'\n",
    "            img_path += 'output_f1_score/'  # further subfolder for different task\n",
    "\n",
    "            intermediate_data_folder = intermediate_data_path\n",
    "            # set the batch for validation\n",
    "            set_clustering_machine_validation_batch(img_path, intermediate_data_folder, neigh_layer = hop_layer, validation_frac = validation_frac, \\\n",
    "                                                    batch_range = batch_range, info_folder = info_folder, info_file = info_file)\n",
    "       \n",
    "def step3_run_train_batch(image_data_path, intermediate_data_path, partition_nums, layers, \\\n",
    "                    dropout = 0.1, lr = 0.0001, weight_decay = 0.1, mini_epoch_num = 20):            \n",
    "    for partn in partition_nums:\n",
    "        for GCN_layer in layers:\n",
    "            net_layer = len(GCN_layer) + 1\n",
    "            hop_layer = net_layer - 1\n",
    "            \n",
    "            # set the save path\n",
    "            print('Start running training for partition num: ' + str(partn) + ' hop layer ' + str(hop_layer))\n",
    "            img_path = image_data_path + 'cluster_num_' + str(partn) + '/' + 'net_layer_' + str(net_layer) + '_hop_layer_' + str(hop_layer) + '/'\n",
    "            img_path += 'output_f1_score/'  # further subfolder for different task\n",
    "            # set the batch for validation and train\n",
    "            # start to run the model, train and validation \n",
    "            execute_one_train(intermediate_data_path, img_path, repeate_time = 7, input_layer = GCN_layer, epoch_num = 400, \n",
    "                                            dropout = dropout, lr = lr, weight_decay = weight_decay, mini_epoch_num = mini_epoch_num, \\\n",
    "                                             train_part_num = 1, test_part_num = 1)\n",
    "            \n",
    "\n",
    "def step4_run_validation_batch(image_data_path, intermediate_data_path, partition_nums, layers, \\\n",
    "                    dropout = 0.1, lr = 0.0001, weight_decay = 0.1, mini_epoch_num = 20, valid_part_num = 2):            \n",
    "    for partn in partition_nums:\n",
    "        for GCN_layer in layers:\n",
    "            net_layer = len(GCN_layer) + 1\n",
    "            hop_layer = net_layer - 1\n",
    "            \n",
    "            # set the save path\n",
    "            print('Start running validation for partition num: ' + str(partn) + ' hop layer ' + str(hop_layer))\n",
    "            img_path = image_data_path + 'cluster_num_' + str(partn) + '/' + 'net_layer_' + str(net_layer) + '_hop_layer_' + str(hop_layer) + '/'\n",
    "            img_path += 'output_f1_score/'  # further subfolder for different task\n",
    "\n",
    "            graph_model, validation_accuracy, validation_f1, time_total_train, time_data_load = \\\n",
    "                execute_one_validation(intermediate_data_path, img_path, repeate_time = 7, input_layer = GCN_layer, epoch_num = 400, \n",
    "                                            dropout = dropout, lr = lr, weight_decay = weight_decay, mini_epoch_num = mini_epoch_num, \\\n",
    "                                             valid_part_num = valid_part_num)\n",
    "            \n",
    "            \n",
    "            validation_accuracy = store_data_multi_tests(validation_accuracy, data_name, graph_model, img_path, 'test_cluster_num_' + str(partn) + '_hops_' + str(hop_layer))\n",
    "            draw_data_multi_tests(validation_accuracy, data_name, 'vali_cluster_num_' + str(partn) + '_hop_' + str(hop_layer), 'models', 'Accuracy')\n",
    "\n",
    "            validation_f1 = store_data_multi_tests(validation_f1, data_name, graph_model, img_path, 'validation_cluster_num_' + str(partn) + '_hops_' + str(hop_layer))\n",
    "            draw_data_multi_tests(validation_f1, data_name, 'vali_cluster_num_' + str(partn) + '_hop_' + str(hop_layer), 'models', 'F1 score')\n",
    "\n",
    "            time_train = store_data_multi_tests(time_total_train, data_name, graph_model, img_path, 'train_time_cluster_num_' + str(partn) + '_hops_' + str(hop_layer))\n",
    "            draw_data_multi_tests(time_train, data_name, 'train_time_cluster_num_' + str(partn) + '_hop_' + str(hop_layer), 'models', 'Train Time (ms)')\n",
    "\n",
    "            time_load = store_data_multi_tests(time_data_load, data_name, graph_model, img_path, 'load_time_cluster_num_' + str(partn) + '_hops_' + str(hop_layer))\n",
    "            draw_data_multi_tests(time_load, data_name, 'load_time_cluster_num_' + str(partn) + '_hop_' + str(hop_layer), 'models', 'Load Time (ms)')\n"
   ]
  },
  {
   "cell_type": "markdown",
   "metadata": {},
   "source": [
    "### Use data from pytorch geometric datasets"
   ]
  },
  {
   "cell_type": "code",
   "execution_count": 20,
   "metadata": {},
   "outputs": [],
   "source": [
    "local_data_root = '/media/xiangli/storage1/projects/tmpdata/'\n",
    "test_folder_name = 'info_separate_distributed_batch/metis_train_10%_half_neigh_train_half_validation/'"
   ]
  },
  {
   "cell_type": "markdown",
   "metadata": {},
   "source": [
    "### Cora dataset"
   ]
  },
  {
   "cell_type": "code",
   "execution_count": 21,
   "metadata": {},
   "outputs": [],
   "source": [
    "from torch_geometric.datasets import Planetoid\n",
    "data_name = 'Cora'\n",
    "dataset = Planetoid(root = local_data_root + 'Planetoid/Cora', name=data_name)\n",
    "data = dataset[0]\n",
    "image_data_path = './results/' + data_name + '/' + test_folder_name\n",
    "# set the current folder as the intermediate data folder so that we can easily copy either clustering \n",
    "intermediate_data_folder = './'\n",
    "partition_nums = [2]\n",
    "layers = [[32]]"
   ]
  },
  {
   "cell_type": "code",
   "execution_count": 26,
   "metadata": {},
   "outputs": [
    {
     "name": "stdout",
     "output_type": "stream",
     "text": [
      "Start running validation for partition num: 2 hop layer 1\n",
      "Start to read the GCN trainer model (parameters: weights, bias):\n",
      "Reading the trainer costs a total of 16.0432 seconds!\n",
      "Start validate the model:\n",
      "*** During validation for #   0 batch, reading batch file costed 2.73 ms ***\n",
      "*** During validation for #   1 batch, reading batch file costed 2.38 ms ***\n",
      "*** During validation for #   2 batch, reading batch file costed 2.57 ms ***\n",
      "*** During validation for #   3 batch, reading batch file costed 3.70 ms ***\n",
      "Validatoin costs a total of 0.0199 seconds!\n",
      "====================================================================================================\n",
      "Start to read the GCN trainer model (parameters: weights, bias):\n",
      "Reading the trainer costs a total of 1.0841 seconds!\n",
      "Start validate the model:\n",
      "*** During validation for #   0 batch, reading batch file costed 2.30 ms ***\n",
      "*** During validation for #   1 batch, reading batch file costed 2.12 ms ***\n",
      "*** During validation for #   2 batch, reading batch file costed 3.38 ms ***\n",
      "*** During validation for #   3 batch, reading batch file costed 2.55 ms ***\n",
      "Validatoin costs a total of 0.0185 seconds!\n",
      "====================================================================================================\n",
      "Start to read the GCN trainer model (parameters: weights, bias):\n",
      "Reading the trainer costs a total of 1.0531 seconds!\n",
      "Start validate the model:\n",
      "*** During validation for #   0 batch, reading batch file costed 2.25 ms ***\n",
      "*** During validation for #   1 batch, reading batch file costed 2.03 ms ***\n",
      "*** During validation for #   2 batch, reading batch file costed 2.07 ms ***\n",
      "*** During validation for #   3 batch, reading batch file costed 2.20 ms ***\n",
      "Validatoin costs a total of 0.0166 seconds!\n",
      "====================================================================================================\n",
      "Start to read the GCN trainer model (parameters: weights, bias):\n",
      "Reading the trainer costs a total of 0.9735 seconds!\n",
      "Start validate the model:\n",
      "*** During validation for #   0 batch, reading batch file costed 2.33 ms ***\n",
      "*** During validation for #   1 batch, reading batch file costed 2.02 ms ***\n",
      "*** During validation for #   2 batch, reading batch file costed 2.07 ms ***\n",
      "*** During validation for #   3 batch, reading batch file costed 2.17 ms ***\n",
      "Validatoin costs a total of 0.0154 seconds!\n",
      "====================================================================================================\n",
      "Start to read the GCN trainer model (parameters: weights, bias):\n",
      "Reading the trainer costs a total of 1.0860 seconds!\n",
      "Start validate the model:\n",
      "*** During validation for #   0 batch, reading batch file costed 2.17 ms ***\n",
      "*** During validation for #   1 batch, reading batch file costed 2.04 ms ***\n",
      "*** During validation for #   2 batch, reading batch file costed 2.06 ms ***\n",
      "*** During validation for #   3 batch, reading batch file costed 2.15 ms ***\n",
      "Validatoin costs a total of 0.0151 seconds!\n",
      "====================================================================================================\n",
      "Start to read the GCN trainer model (parameters: weights, bias):\n",
      "Reading the trainer costs a total of 0.9906 seconds!\n",
      "Start validate the model:\n",
      "*** During validation for #   0 batch, reading batch file costed 2.28 ms ***\n",
      "*** During validation for #   1 batch, reading batch file costed 2.09 ms ***\n",
      "*** During validation for #   2 batch, reading batch file costed 2.05 ms ***\n",
      "*** During validation for #   3 batch, reading batch file costed 2.15 ms ***\n",
      "Validatoin costs a total of 0.0152 seconds!\n",
      "====================================================================================================\n",
      "Start to read the GCN trainer model (parameters: weights, bias):\n",
      "Reading the trainer costs a total of 0.9906 seconds!\n",
      "Start validate the model:\n",
      "*** During validation for #   0 batch, reading batch file costed 2.01 ms ***\n",
      "*** During validation for #   1 batch, reading batch file costed 2.31 ms ***\n",
      "*** During validation for #   2 batch, reading batch file costed 2.11 ms ***\n",
      "*** During validation for #   3 batch, reading batch file costed 2.17 ms ***\n",
      "Validatoin costs a total of 0.0156 seconds!\n",
      "====================================================================================================\n"
     ]
    },
    {
     "data": {
      "text/plain": [
       "<Figure size 432x288 with 0 Axes>"
      ]
     },
     "metadata": {},
     "output_type": "display_data"
    },
    {
     "data": {
      "text/plain": [
       "<Figure size 432x288 with 0 Axes>"
      ]
     },
     "metadata": {},
     "output_type": "display_data"
    },
    {
     "data": {
      "text/plain": [
       "<Figure size 360x360 with 0 Axes>"
      ]
     },
     "metadata": {},
     "output_type": "display_data"
    },
    {
     "data": {
      "text/plain": [
       "<Figure size 432x288 with 0 Axes>"
      ]
     },
     "metadata": {},
     "output_type": "display_data"
    },
    {
     "data": {
      "text/plain": [
       "<Figure size 360x360 with 0 Axes>"
      ]
     },
     "metadata": {},
     "output_type": "display_data"
    },
    {
     "data": {
      "text/plain": [
       "<Figure size 432x288 with 0 Axes>"
      ]
     },
     "metadata": {},
     "output_type": "display_data"
    },
    {
     "data": {
      "text/plain": [
       "<Figure size 360x360 with 0 Axes>"
      ]
     },
     "metadata": {},
     "output_type": "display_data"
    },
    {
     "data": {
      "text/plain": [
       "<Figure size 432x288 with 0 Axes>"
      ]
     },
     "metadata": {},
     "output_type": "display_data"
    },
    {
     "data": {
      "image/png": "[encoded data removed]",
      "text/plain": [
       "<Figure size 360x360 with 1 Axes>"
      ]
     },
     "metadata": {},
     "output_type": "display_data"
    }
   ],
   "source": [
    "step0_generate_clustering_machine(data, dataset, image_data_path, intermediate_data_folder, partition_nums, layers, valid_part_num = 4)\n",
    "\n",
    "step1_generate_train_batch(image_data_path, intermediate_data_folder, partition_nums, layers, train_frac = 0.5, \\\n",
    "                           batch_range = (0, 2), info_folder = './info_train_batch/', info_file = 'train_batch_size_info_{}.csv'.format('[0,2)') )\n",
    "\n",
    "step2_generate_validation_batch(image_data_path, intermediate_data_folder, partition_nums, layers, validation_frac = 0.5, \\\n",
    "                                batch_range = (0, 2), info_folder = './info_validation_batch/', info_file = 'validation_batch_size_info_{}.csv'.format('[0,2)'))\n",
    "\n",
    "step2_generate_validation_batch(image_data_path, intermediate_data_folder, partition_nums, layers, validation_frac = 0.5, \\\n",
    "                                batch_range = (2, 4), info_folder = './info_validation_batch/', info_file = 'validation_batch_size_info_{}.csv'.format('[2,4)'))\n",
    "\n",
    "step3_run_train_batch(image_data_path, intermediate_data_folder, partition_nums, layers, \\\n",
    "                dropout = 0.1, lr = 0.0001, weight_decay = 0.1, mini_epoch_num = 20)\n",
    "\n",
    "step4_run_validation_batch(image_data_path, intermediate_data_folder, partition_nums, layers, \\\n",
    "                dropout = 0.1, lr = 0.0001, weight_decay = 0.1, mini_epoch_num = 20, valid_part_num = 4)"
   ]
  },
  {
   "cell_type": "markdown",
   "metadata": {},
   "source": [
    "### PubMed dataset"
   ]
  },
  {
   "cell_type": "code",
   "execution_count": 129,
   "metadata": {},
   "outputs": [],
   "source": [
    "from torch_geometric.datasets import Planetoid\n",
    "data_name = 'PubMed'\n",
    "dataset = Planetoid(root = local_data_root + 'Planetoid/PubMed', name=data_name)\n",
    "data = dataset[0]\n",
    "image_data_path = './results/' + data_name + '/' + test_folder_name\n",
    "# set the current folder as the intermediate data folder so that we can easily copy either clustering \n",
    "intermediate_data_folder = './'\n",
    "partition_nums = [2, 4, 8]\n",
    "layers = [[], [64], [64, 64]]"
   ]
  },
  {
   "cell_type": "markdown",
   "metadata": {},
   "source": [
    "### CoraFull dataset"
   ]
  },
  {
   "cell_type": "code",
   "execution_count": 126,
   "metadata": {},
   "outputs": [
    {
     "name": "stdout",
     "output_type": "stream",
     "text": [
      "number of data:  1\n"
     ]
    }
   ],
   "source": [
    "from torch_geometric.datasets import CoraFull\n",
    "data_name = 'CoraFull'\n",
    "dataset = CoraFull(root = local_data_root + 'CoralFull')\n",
    "print('number of data: ', len(dataset))\n",
    "data = dataset[0]\n",
    "\n",
    "image_data_path = './results/' + data_name + '/' + test_folder_name\n",
    "# set the current folder as the intermediate data folder so that we can easily copy either clustering \n",
    "intermediate_data_folder = './'\n",
    "partition_nums = [2, 4, 8]\n",
    "layers = [[], [128], [128, 128]]\n"
   ]
  },
  {
   "cell_type": "markdown",
   "metadata": {},
   "source": [
    "### Output F1"
   ]
  },
  {
   "cell_type": "code",
   "execution_count": 20,
   "metadata": {},
   "outputs": [
    {
     "name": "stdout",
     "output_type": "stream",
     "text": [
      "Start running for partition num: 2 hop layer 2\n",
      "\n",
      "====================================================================================================\n",
      "Start to generate the global edge weights\n",
      "Edge weights creation costs a total of 0.0259 seconds!\n",
      "Start to generate the clustering machine:\n",
      "Batch machine creation costs a total of 0.0336 seconds!\n",
      "\n",
      " Information about the content of ./tmp/\n",
      "File name: [ input_edge_weight_list.csv ]; with size: 267.9462890625 KB\n",
      "\n",
      "Start to split data into train, test, validation:\n",
      "Data splitting costs a total of 0.0006 seconds!\n",
      "Storing batch machine after training batches generation costs a total of 0.0132 seconds!\n",
      "\n",
      "====================================================================================================\n",
      "\n",
      "====================================================================================================\n",
      "Batch machine reading costs a total of 0.0449 seconds!\n",
      "Start to generate the training batches:\n",
      "*** Generate batch file for #   1 batch, writing the batch file costed 2.16 ms ***\n",
      "*** Generate batch file for #   0 batch, writing the batch file costed 2.09 ms ***\n",
      "Train batches production costs a total of 0.0259 seconds!\n",
      "\n",
      " Information about the content of ./train/\n",
      "File name: [ batch_1 ]; with size: 4239.3603515625 KB\n",
      "File name: [ batch_0 ]; with size: 4365.2978515625 KB\n",
      "\n",
      "====================================================================================================\n",
      "\n",
      "====================================================================================================\n",
      "Batch machine reading costs a total of 0.0071 seconds!\n",
      "Start to generate the validation batches:\n",
      "*** Generate batch file for #   0 batch, writing the batch file costed 6.90 ms ***\n",
      "*** Generate batch file for #   1 batch, writing the batch file costed 4.95 ms ***\n",
      "Validation batches production costs a total of 0.1059 seconds!\n",
      "\n",
      " Information about the content of ./validation/\n",
      "File name: [ batch_1 ]; with size: 11172.0654296875 KB\n",
      "File name: [ batch_0 ]; with size: 11570.6201171875 KB\n",
      "\n",
      "====================================================================================================\n",
      "\n",
      "====================================================================================================\n",
      "Start generate the trainer:\n",
      "Trainer creation costs a total of 0.0088 seconds!\n",
      "Start train the model:\n",
      "*** During training for #   1 batch, reading batch file costed 1.42 ms ***\n",
      "*** During training for #   0 batch, reading batch file costed 1.44 ms ***\n",
      "*** During training for #   1 batch, reading batch file costed 1.46 ms ***\n",
      "*** During training for #   0 batch, reading batch file costed 1.51 ms ***\n",
      "*** During training for #   1 batch, reading batch file costed 1.40 ms ***\n",
      "*** During training for #   0 batch, reading batch file costed 1.44 ms ***\n",
      "*** During training for #   0 batch, reading batch file costed 1.45 ms ***\n",
      "*** During training for #   1 batch, reading batch file costed 1.57 ms ***\n",
      "*** During training for #   0 batch, reading batch file costed 1.52 ms ***\n",
      "*** During training for #   1 batch, reading batch file costed 1.56 ms ***\n",
      "*** During training for #   1 batch, reading batch file costed 1.53 ms ***\n",
      "*** During training for #   0 batch, reading batch file costed 1.44 ms ***\n",
      "*** During training for #   0 batch, reading batch file costed 1.54 ms ***\n",
      "*** During training for #   1 batch, reading batch file costed 1.38 ms ***\n",
      "*** During training for #   1 batch, reading batch file costed 1.43 ms ***\n",
      "*** During training for #   0 batch, reading batch file costed 2.87 ms ***\n",
      "*** During training for #   0 batch, reading batch file costed 2.18 ms ***\n",
      "*** During training for #   1 batch, reading batch file costed 1.46 ms ***\n",
      "*** During training for #   0 batch, reading batch file costed 1.47 ms ***\n",
      "*** During training for #   1 batch, reading batch file costed 1.40 ms ***\n",
      "*** During training for #   0 batch, reading batch file costed 1.40 ms ***\n",
      "*** During training for #   1 batch, reading batch file costed 1.54 ms ***\n",
      "*** During training for #   0 batch, reading batch file costed 1.53 ms ***\n",
      "*** During training for #   1 batch, reading batch file costed 2.13 ms ***\n",
      "*** During training for #   0 batch, reading batch file costed 1.43 ms ***\n",
      "*** During training for #   1 batch, reading batch file costed 1.36 ms ***\n",
      "*** During training for #   1 batch, reading batch file costed 1.37 ms ***\n",
      "*** During training for #   0 batch, reading batch file costed 1.40 ms ***\n",
      "*** During training for #   1 batch, reading batch file costed 1.90 ms ***\n",
      "*** During training for #   0 batch, reading batch file costed 1.38 ms ***\n",
      "*** During training for #   0 batch, reading batch file costed 1.38 ms ***\n",
      "*** During training for #   1 batch, reading batch file costed 1.36 ms ***\n",
      "*** During training for #   0 batch, reading batch file costed 2.35 ms ***\n",
      "*** During training for #   1 batch, reading batch file costed 1.45 ms ***\n",
      "*** During training for #   1 batch, reading batch file costed 1.38 ms ***\n",
      "*** During training for #   0 batch, reading batch file costed 1.47 ms ***\n",
      "*** During training for #   1 batch, reading batch file costed 1.41 ms ***\n",
      "*** During training for #   0 batch, reading batch file costed 1.41 ms ***\n",
      "*** During training for #   0 batch, reading batch file costed 1.44 ms ***\n",
      "*** During training for #   1 batch, reading batch file costed 1.48 ms ***\n",
      "Training costs a total of 1.0742 seconds!\n",
      "Start to save the GCN trainer model (parameters: weights, bias):\n",
      "Storing the trainer costs a total of 0.0013 seconds!\n",
      "--------------------------------------------------------------------------------\n",
      "\n",
      "====================================================================================================\n",
      "Start generate the trainer:\n",
      "Trainer creation costs a total of 0.0008 seconds!\n",
      "Start train the model:\n",
      "*** During training for #   0 batch, reading batch file costed 1.51 ms ***\n",
      "*** During training for #   1 batch, reading batch file costed 1.42 ms ***\n",
      "*** During training for #   1 batch, reading batch file costed 1.41 ms ***\n",
      "*** During training for #   0 batch, reading batch file costed 1.45 ms ***\n",
      "*** During training for #   0 batch, reading batch file costed 1.41 ms ***\n",
      "*** During training for #   1 batch, reading batch file costed 1.39 ms ***\n",
      "*** During training for #   1 batch, reading batch file costed 1.51 ms ***\n",
      "*** During training for #   0 batch, reading batch file costed 3.03 ms ***\n",
      "*** During training for #   0 batch, reading batch file costed 2.02 ms ***\n",
      "*** During training for #   1 batch, reading batch file costed 1.39 ms ***\n",
      "*** During training for #   1 batch, reading batch file costed 1.49 ms ***\n",
      "*** During training for #   0 batch, reading batch file costed 1.91 ms ***\n",
      "*** During training for #   0 batch, reading batch file costed 1.38 ms ***\n",
      "*** During training for #   1 batch, reading batch file costed 1.47 ms ***\n",
      "*** During training for #   1 batch, reading batch file costed 1.70 ms ***\n",
      "*** During training for #   0 batch, reading batch file costed 1.60 ms ***\n",
      "*** During training for #   1 batch, reading batch file costed 1.51 ms ***\n",
      "*** During training for #   0 batch, reading batch file costed 1.60 ms ***\n",
      "*** During training for #   1 batch, reading batch file costed 1.59 ms ***\n",
      "*** During training for #   0 batch, reading batch file costed 1.76 ms ***\n",
      "*** During training for #   0 batch, reading batch file costed 1.62 ms ***\n",
      "*** During training for #   1 batch, reading batch file costed 2.11 ms ***\n",
      "*** During training for #   1 batch, reading batch file costed 1.91 ms ***\n",
      "*** During training for #   0 batch, reading batch file costed 1.64 ms ***\n",
      "*** During training for #   1 batch, reading batch file costed 1.58 ms ***\n",
      "*** During training for #   0 batch, reading batch file costed 1.40 ms ***\n",
      "*** During training for #   0 batch, reading batch file costed 1.42 ms ***\n",
      "*** During training for #   1 batch, reading batch file costed 1.35 ms ***\n",
      "*** During training for #   0 batch, reading batch file costed 1.60 ms ***\n",
      "*** During training for #   1 batch, reading batch file costed 2.62 ms ***\n",
      "*** During training for #   0 batch, reading batch file costed 1.61 ms ***\n",
      "*** During training for #   1 batch, reading batch file costed 1.67 ms ***\n",
      "*** During training for #   0 batch, reading batch file costed 1.73 ms ***\n",
      "*** During training for #   1 batch, reading batch file costed 2.74 ms ***\n",
      "*** During training for #   1 batch, reading batch file costed 1.62 ms ***\n"
     ]
    },
    {
     "name": "stdout",
     "output_type": "stream",
     "text": [
      "*** During training for #   0 batch, reading batch file costed 1.71 ms ***\n",
      "*** During training for #   0 batch, reading batch file costed 1.75 ms ***\n",
      "*** During training for #   1 batch, reading batch file costed 2.05 ms ***\n",
      "*** During training for #   1 batch, reading batch file costed 1.90 ms ***\n",
      "*** During training for #   0 batch, reading batch file costed 1.69 ms ***\n",
      "Training costs a total of 1.1723 seconds!\n",
      "Start to save the GCN trainer model (parameters: weights, bias):\n",
      "Storing the trainer costs a total of 0.0013 seconds!\n",
      "--------------------------------------------------------------------------------\n",
      "\n",
      "====================================================================================================\n",
      "Start generate the trainer:\n",
      "Trainer creation costs a total of 0.0008 seconds!\n",
      "Start train the model:\n",
      "*** During training for #   0 batch, reading batch file costed 1.37 ms ***\n",
      "*** During training for #   1 batch, reading batch file costed 1.99 ms ***\n",
      "*** During training for #   1 batch, reading batch file costed 1.38 ms ***\n",
      "*** During training for #   0 batch, reading batch file costed 1.76 ms ***\n",
      "*** During training for #   0 batch, reading batch file costed 2.10 ms ***\n",
      "*** During training for #   1 batch, reading batch file costed 1.53 ms ***\n",
      "*** During training for #   0 batch, reading batch file costed 1.98 ms ***\n",
      "*** During training for #   1 batch, reading batch file costed 1.73 ms ***\n",
      "*** During training for #   0 batch, reading batch file costed 2.71 ms ***\n",
      "*** During training for #   1 batch, reading batch file costed 2.10 ms ***\n",
      "*** During training for #   0 batch, reading batch file costed 1.70 ms ***\n",
      "*** During training for #   1 batch, reading batch file costed 2.37 ms ***\n",
      "*** During training for #   0 batch, reading batch file costed 1.53 ms ***\n",
      "*** During training for #   1 batch, reading batch file costed 1.68 ms ***\n",
      "*** During training for #   0 batch, reading batch file costed 1.55 ms ***\n",
      "*** During training for #   1 batch, reading batch file costed 1.38 ms ***\n",
      "*** During training for #   1 batch, reading batch file costed 1.39 ms ***\n",
      "*** During training for #   0 batch, reading batch file costed 1.38 ms ***\n",
      "*** During training for #   0 batch, reading batch file costed 1.36 ms ***\n",
      "*** During training for #   1 batch, reading batch file costed 1.43 ms ***\n",
      "*** During training for #   1 batch, reading batch file costed 2.03 ms ***\n",
      "*** During training for #   0 batch, reading batch file costed 2.29 ms ***\n",
      "*** During training for #   0 batch, reading batch file costed 4.07 ms ***\n",
      "*** During training for #   1 batch, reading batch file costed 1.54 ms ***\n",
      "*** During training for #   1 batch, reading batch file costed 1.36 ms ***\n",
      "*** During training for #   0 batch, reading batch file costed 1.39 ms ***\n",
      "*** During training for #   0 batch, reading batch file costed 1.70 ms ***\n",
      "*** During training for #   1 batch, reading batch file costed 1.67 ms ***\n",
      "*** During training for #   0 batch, reading batch file costed 1.41 ms ***\n",
      "*** During training for #   1 batch, reading batch file costed 1.52 ms ***\n",
      "*** During training for #   0 batch, reading batch file costed 1.48 ms ***\n",
      "*** During training for #   1 batch, reading batch file costed 1.62 ms ***\n",
      "*** During training for #   1 batch, reading batch file costed 1.51 ms ***\n",
      "*** During training for #   0 batch, reading batch file costed 1.46 ms ***\n",
      "*** During training for #   1 batch, reading batch file costed 1.47 ms ***\n",
      "*** During training for #   0 batch, reading batch file costed 1.55 ms ***\n",
      "*** During training for #   0 batch, reading batch file costed 1.43 ms ***\n",
      "*** During training for #   1 batch, reading batch file costed 1.52 ms ***\n",
      "*** During training for #   1 batch, reading batch file costed 1.51 ms ***\n",
      "*** During training for #   0 batch, reading batch file costed 1.58 ms ***\n",
      "Training costs a total of 1.2120 seconds!\n",
      "Start to save the GCN trainer model (parameters: weights, bias):\n",
      "Storing the trainer costs a total of 0.0014 seconds!\n",
      "--------------------------------------------------------------------------------\n",
      "\n",
      "====================================================================================================\n",
      "Start generate the trainer:\n",
      "Trainer creation costs a total of 0.0008 seconds!\n",
      "Start train the model:\n",
      "*** During training for #   0 batch, reading batch file costed 1.78 ms ***\n",
      "*** During training for #   1 batch, reading batch file costed 1.36 ms ***\n",
      "*** During training for #   0 batch, reading batch file costed 1.45 ms ***\n",
      "*** During training for #   1 batch, reading batch file costed 1.36 ms ***\n",
      "*** During training for #   1 batch, reading batch file costed 1.58 ms ***\n",
      "*** During training for #   0 batch, reading batch file costed 1.58 ms ***\n",
      "*** During training for #   1 batch, reading batch file costed 1.53 ms ***\n",
      "*** During training for #   0 batch, reading batch file costed 1.61 ms ***\n",
      "*** During training for #   0 batch, reading batch file costed 1.74 ms ***\n",
      "*** During training for #   1 batch, reading batch file costed 1.39 ms ***\n",
      "*** During training for #   1 batch, reading batch file costed 1.55 ms ***\n",
      "*** During training for #   0 batch, reading batch file costed 1.55 ms ***\n",
      "*** During training for #   1 batch, reading batch file costed 1.38 ms ***\n",
      "*** During training for #   0 batch, reading batch file costed 1.65 ms ***\n",
      "*** During training for #   0 batch, reading batch file costed 1.55 ms ***\n",
      "*** During training for #   1 batch, reading batch file costed 1.42 ms ***\n",
      "*** During training for #   1 batch, reading batch file costed 1.45 ms ***\n",
      "*** During training for #   0 batch, reading batch file costed 1.97 ms ***\n",
      "*** During training for #   1 batch, reading batch file costed 1.42 ms ***\n",
      "*** During training for #   0 batch, reading batch file costed 1.56 ms ***\n",
      "*** During training for #   0 batch, reading batch file costed 1.90 ms ***\n",
      "*** During training for #   1 batch, reading batch file costed 1.41 ms ***\n",
      "*** During training for #   0 batch, reading batch file costed 1.56 ms ***\n",
      "*** During training for #   1 batch, reading batch file costed 1.49 ms ***\n",
      "*** During training for #   0 batch, reading batch file costed 1.50 ms ***\n",
      "*** During training for #   1 batch, reading batch file costed 1.88 ms ***\n",
      "*** During training for #   0 batch, reading batch file costed 1.64 ms ***\n",
      "*** During training for #   1 batch, reading batch file costed 1.67 ms ***\n",
      "*** During training for #   0 batch, reading batch file costed 2.54 ms ***\n",
      "*** During training for #   1 batch, reading batch file costed 1.65 ms ***\n",
      "*** During training for #   0 batch, reading batch file costed 1.41 ms ***\n",
      "*** During training for #   1 batch, reading batch file costed 2.35 ms ***\n",
      "*** During training for #   0 batch, reading batch file costed 1.42 ms ***\n",
      "*** During training for #   1 batch, reading batch file costed 1.47 ms ***\n",
      "*** During training for #   0 batch, reading batch file costed 1.47 ms ***\n",
      "*** During training for #   1 batch, reading batch file costed 1.37 ms ***\n",
      "*** During training for #   0 batch, reading batch file costed 1.39 ms ***\n",
      "*** During training for #   1 batch, reading batch file costed 1.38 ms ***\n",
      "*** During training for #   0 batch, reading batch file costed 1.38 ms ***\n",
      "*** During training for #   1 batch, reading batch file costed 2.22 ms ***\n",
      "Training costs a total of 1.1117 seconds!\n",
      "Start to save the GCN trainer model (parameters: weights, bias):\n",
      "Storing the trainer costs a total of 0.0012 seconds!\n",
      "--------------------------------------------------------------------------------\n",
      "\n",
      "====================================================================================================\n",
      "Start generate the trainer:\n",
      "Trainer creation costs a total of 0.0008 seconds!\n",
      "Start train the model:\n",
      "*** During training for #   0 batch, reading batch file costed 1.75 ms ***\n",
      "*** During training for #   1 batch, reading batch file costed 1.70 ms ***\n",
      "*** During training for #   1 batch, reading batch file costed 1.57 ms ***\n",
      "*** During training for #   0 batch, reading batch file costed 1.56 ms ***\n",
      "*** During training for #   1 batch, reading batch file costed 1.59 ms ***\n",
      "*** During training for #   0 batch, reading batch file costed 2.17 ms ***\n",
      "*** During training for #   0 batch, reading batch file costed 1.53 ms ***\n"
     ]
    },
    {
     "name": "stdout",
     "output_type": "stream",
     "text": [
      "*** During training for #   1 batch, reading batch file costed 1.49 ms ***\n",
      "*** During training for #   0 batch, reading batch file costed 1.49 ms ***\n",
      "*** During training for #   1 batch, reading batch file costed 1.86 ms ***\n",
      "*** During training for #   1 batch, reading batch file costed 1.45 ms ***\n",
      "*** During training for #   0 batch, reading batch file costed 1.42 ms ***\n",
      "*** During training for #   1 batch, reading batch file costed 1.76 ms ***\n",
      "*** During training for #   0 batch, reading batch file costed 1.45 ms ***\n",
      "*** During training for #   0 batch, reading batch file costed 1.52 ms ***\n",
      "*** During training for #   1 batch, reading batch file costed 1.39 ms ***\n",
      "*** During training for #   0 batch, reading batch file costed 1.57 ms ***\n",
      "*** During training for #   1 batch, reading batch file costed 1.92 ms ***\n",
      "*** During training for #   1 batch, reading batch file costed 1.44 ms ***\n",
      "*** During training for #   0 batch, reading batch file costed 1.68 ms ***\n",
      "*** During training for #   1 batch, reading batch file costed 1.51 ms ***\n",
      "*** During training for #   0 batch, reading batch file costed 1.43 ms ***\n",
      "*** During training for #   0 batch, reading batch file costed 1.86 ms ***\n",
      "*** During training for #   1 batch, reading batch file costed 1.87 ms ***\n",
      "*** During training for #   1 batch, reading batch file costed 1.64 ms ***\n",
      "*** During training for #   0 batch, reading batch file costed 1.48 ms ***\n",
      "*** During training for #   1 batch, reading batch file costed 1.81 ms ***\n",
      "*** During training for #   0 batch, reading batch file costed 2.63 ms ***\n",
      "*** During training for #   1 batch, reading batch file costed 1.42 ms ***\n",
      "*** During training for #   0 batch, reading batch file costed 1.71 ms ***\n",
      "*** During training for #   0 batch, reading batch file costed 1.65 ms ***\n",
      "*** During training for #   1 batch, reading batch file costed 1.47 ms ***\n",
      "*** During training for #   1 batch, reading batch file costed 1.58 ms ***\n",
      "*** During training for #   0 batch, reading batch file costed 1.44 ms ***\n",
      "*** During training for #   1 batch, reading batch file costed 1.37 ms ***\n",
      "*** During training for #   0 batch, reading batch file costed 1.57 ms ***\n",
      "*** During training for #   0 batch, reading batch file costed 1.57 ms ***\n",
      "*** During training for #   1 batch, reading batch file costed 1.42 ms ***\n",
      "*** During training for #   0 batch, reading batch file costed 1.40 ms ***\n",
      "*** During training for #   1 batch, reading batch file costed 1.64 ms ***\n",
      "Training costs a total of 1.1104 seconds!\n",
      "Start to save the GCN trainer model (parameters: weights, bias):\n",
      "Storing the trainer costs a total of 0.0012 seconds!\n",
      "--------------------------------------------------------------------------------\n",
      "\n",
      "====================================================================================================\n",
      "Start generate the trainer:\n",
      "Trainer creation costs a total of 0.0007 seconds!\n",
      "Start train the model:\n",
      "*** During training for #   1 batch, reading batch file costed 1.71 ms ***\n",
      "*** During training for #   0 batch, reading batch file costed 1.43 ms ***\n",
      "*** During training for #   1 batch, reading batch file costed 1.33 ms ***\n",
      "*** During training for #   0 batch, reading batch file costed 1.40 ms ***\n",
      "*** During training for #   0 batch, reading batch file costed 1.36 ms ***\n",
      "*** During training for #   1 batch, reading batch file costed 1.36 ms ***\n",
      "*** During training for #   0 batch, reading batch file costed 1.42 ms ***\n",
      "*** During training for #   1 batch, reading batch file costed 1.34 ms ***\n",
      "*** During training for #   0 batch, reading batch file costed 1.36 ms ***\n",
      "*** During training for #   1 batch, reading batch file costed 1.48 ms ***\n",
      "*** During training for #   1 batch, reading batch file costed 1.51 ms ***\n",
      "*** During training for #   0 batch, reading batch file costed 1.70 ms ***\n",
      "*** During training for #   1 batch, reading batch file costed 1.48 ms ***\n",
      "*** During training for #   0 batch, reading batch file costed 1.51 ms ***\n",
      "*** During training for #   0 batch, reading batch file costed 1.40 ms ***\n",
      "*** During training for #   1 batch, reading batch file costed 1.43 ms ***\n",
      "*** During training for #   0 batch, reading batch file costed 1.40 ms ***\n",
      "*** During training for #   1 batch, reading batch file costed 1.63 ms ***\n",
      "*** During training for #   1 batch, reading batch file costed 1.67 ms ***\n",
      "*** During training for #   0 batch, reading batch file costed 1.40 ms ***\n",
      "*** During training for #   0 batch, reading batch file costed 1.37 ms ***\n",
      "*** During training for #   1 batch, reading batch file costed 1.38 ms ***\n",
      "*** During training for #   1 batch, reading batch file costed 1.38 ms ***\n",
      "*** During training for #   0 batch, reading batch file costed 1.41 ms ***\n",
      "*** During training for #   0 batch, reading batch file costed 1.67 ms ***\n",
      "*** During training for #   1 batch, reading batch file costed 1.46 ms ***\n",
      "*** During training for #   1 batch, reading batch file costed 1.37 ms ***\n",
      "*** During training for #   0 batch, reading batch file costed 1.54 ms ***\n",
      "*** During training for #   0 batch, reading batch file costed 1.91 ms ***\n",
      "*** During training for #   1 batch, reading batch file costed 1.49 ms ***\n",
      "*** During training for #   1 batch, reading batch file costed 1.41 ms ***\n",
      "*** During training for #   0 batch, reading batch file costed 1.41 ms ***\n",
      "*** During training for #   1 batch, reading batch file costed 1.55 ms ***\n",
      "*** During training for #   0 batch, reading batch file costed 1.64 ms ***\n",
      "*** During training for #   1 batch, reading batch file costed 1.37 ms ***\n",
      "*** During training for #   0 batch, reading batch file costed 1.48 ms ***\n",
      "*** During training for #   0 batch, reading batch file costed 1.37 ms ***\n",
      "*** During training for #   1 batch, reading batch file costed 1.37 ms ***\n",
      "*** During training for #   0 batch, reading batch file costed 1.64 ms ***\n",
      "*** During training for #   1 batch, reading batch file costed 1.66 ms ***\n",
      "Training costs a total of 1.0751 seconds!\n",
      "Start to save the GCN trainer model (parameters: weights, bias):\n",
      "Storing the trainer costs a total of 0.0012 seconds!\n",
      "--------------------------------------------------------------------------------\n",
      "\n",
      "====================================================================================================\n",
      "Start generate the trainer:\n",
      "Trainer creation costs a total of 0.0008 seconds!\n",
      "Start train the model:\n",
      "*** During training for #   0 batch, reading batch file costed 1.38 ms ***\n",
      "*** During training for #   1 batch, reading batch file costed 1.91 ms ***\n",
      "*** During training for #   1 batch, reading batch file costed 1.47 ms ***\n",
      "*** During training for #   0 batch, reading batch file costed 1.43 ms ***\n",
      "*** During training for #   0 batch, reading batch file costed 1.42 ms ***\n",
      "*** During training for #   1 batch, reading batch file costed 1.47 ms ***\n",
      "*** During training for #   0 batch, reading batch file costed 1.60 ms ***\n",
      "*** During training for #   1 batch, reading batch file costed 1.63 ms ***\n",
      "*** During training for #   1 batch, reading batch file costed 1.54 ms ***\n",
      "*** During training for #   0 batch, reading batch file costed 1.51 ms ***\n",
      "*** During training for #   1 batch, reading batch file costed 1.44 ms ***\n",
      "*** During training for #   0 batch, reading batch file costed 1.48 ms ***\n",
      "*** During training for #   1 batch, reading batch file costed 1.46 ms ***\n",
      "*** During training for #   0 batch, reading batch file costed 1.72 ms ***\n",
      "*** During training for #   0 batch, reading batch file costed 1.50 ms ***\n",
      "*** During training for #   1 batch, reading batch file costed 1.50 ms ***\n",
      "*** During training for #   0 batch, reading batch file costed 1.40 ms ***\n",
      "*** During training for #   1 batch, reading batch file costed 1.56 ms ***\n",
      "*** During training for #   1 batch, reading batch file costed 1.50 ms ***\n",
      "*** During training for #   0 batch, reading batch file costed 1.56 ms ***\n",
      "*** During training for #   1 batch, reading batch file costed 1.68 ms ***\n",
      "*** During training for #   0 batch, reading batch file costed 1.41 ms ***\n",
      "*** During training for #   0 batch, reading batch file costed 1.44 ms ***\n",
      "*** During training for #   1 batch, reading batch file costed 1.41 ms ***\n",
      "*** During training for #   0 batch, reading batch file costed 1.43 ms ***\n",
      "*** During training for #   1 batch, reading batch file costed 1.53 ms ***\n",
      "*** During training for #   1 batch, reading batch file costed 1.40 ms ***\n",
      "*** During training for #   0 batch, reading batch file costed 1.42 ms ***\n",
      "*** During training for #   1 batch, reading batch file costed 1.37 ms ***\n",
      "*** During training for #   0 batch, reading batch file costed 1.45 ms ***\n",
      "*** During training for #   0 batch, reading batch file costed 1.79 ms ***\n"
     ]
    },
    {
     "name": "stdout",
     "output_type": "stream",
     "text": [
      "*** During training for #   1 batch, reading batch file costed 1.57 ms ***\n",
      "*** During training for #   0 batch, reading batch file costed 2.44 ms ***\n",
      "*** During training for #   1 batch, reading batch file costed 1.76 ms ***\n",
      "*** During training for #   0 batch, reading batch file costed 1.61 ms ***\n",
      "*** During training for #   1 batch, reading batch file costed 1.65 ms ***\n",
      "*** During training for #   0 batch, reading batch file costed 1.40 ms ***\n",
      "*** During training for #   1 batch, reading batch file costed 1.51 ms ***\n",
      "*** During training for #   0 batch, reading batch file costed 1.40 ms ***\n",
      "*** During training for #   1 batch, reading batch file costed 1.70 ms ***\n",
      "Training costs a total of 1.1159 seconds!\n",
      "Start to save the GCN trainer model (parameters: weights, bias):\n",
      "Storing the trainer costs a total of 0.0015 seconds!\n",
      "--------------------------------------------------------------------------------\n",
      "Start to read the GCN trainer model (parameters: weights, bias):\n",
      "Reading the trainer costs a total of 1.0731 seconds!\n",
      "Start validate the model:\n",
      "*** During validation for #   0 batch, reading batch file costed 3.31 ms ***\n",
      "*** During validation for #   1 batch, reading batch file costed 3.23 ms ***\n",
      "Validatoin costs a total of 0.0130 seconds!\n",
      "====================================================================================================\n",
      "Start to read the GCN trainer model (parameters: weights, bias):\n",
      "Reading the trainer costs a total of 1.2109 seconds!\n",
      "Start validate the model:\n",
      "*** During validation for #   0 batch, reading batch file costed 3.32 ms ***\n",
      "*** During validation for #   1 batch, reading batch file costed 3.25 ms ***\n",
      "Validatoin costs a total of 0.0122 seconds!\n",
      "====================================================================================================\n",
      "Start to read the GCN trainer model (parameters: weights, bias):\n",
      "Reading the trainer costs a total of 1.2715 seconds!\n",
      "Start validate the model:\n",
      "*** During validation for #   0 batch, reading batch file costed 3.35 ms ***\n",
      "*** During validation for #   1 batch, reading batch file costed 2.91 ms ***\n",
      "Validatoin costs a total of 0.0119 seconds!\n",
      "====================================================================================================\n",
      "Start to read the GCN trainer model (parameters: weights, bias):\n",
      "Reading the trainer costs a total of 1.1444 seconds!\n",
      "Start validate the model:\n",
      "*** During validation for #   0 batch, reading batch file costed 4.18 ms ***\n",
      "*** During validation for #   1 batch, reading batch file costed 2.91 ms ***\n",
      "Validatoin costs a total of 0.0125 seconds!\n",
      "====================================================================================================\n",
      "Start to read the GCN trainer model (parameters: weights, bias):\n",
      "Reading the trainer costs a total of 0.9890 seconds!\n",
      "Start validate the model:\n",
      "*** During validation for #   0 batch, reading batch file costed 3.47 ms ***\n",
      "*** During validation for #   1 batch, reading batch file costed 3.37 ms ***\n",
      "Validatoin costs a total of 0.0129 seconds!\n",
      "====================================================================================================\n",
      "Start to read the GCN trainer model (parameters: weights, bias):\n",
      "Reading the trainer costs a total of 1.0686 seconds!\n",
      "Start validate the model:\n",
      "*** During validation for #   0 batch, reading batch file costed 3.17 ms ***\n",
      "*** During validation for #   1 batch, reading batch file costed 4.06 ms ***\n",
      "Validatoin costs a total of 0.0126 seconds!\n",
      "====================================================================================================\n",
      "Start to read the GCN trainer model (parameters: weights, bias):\n",
      "Reading the trainer costs a total of 1.0004 seconds!\n",
      "Start validate the model:\n",
      "*** During validation for #   0 batch, reading batch file costed 3.75 ms ***\n",
      "*** During validation for #   1 batch, reading batch file costed 3.66 ms ***\n",
      "Validatoin costs a total of 0.0134 seconds!\n",
      "====================================================================================================\n"
     ]
    },
    {
     "data": {
      "text/plain": [
       "<Figure size 432x288 with 0 Axes>"
      ]
     },
     "metadata": {},
     "output_type": "display_data"
    },
    {
     "data": {
      "text/plain": [
       "<Figure size 432x288 with 0 Axes>"
      ]
     },
     "metadata": {},
     "output_type": "display_data"
    },
    {
     "data": {
      "text/plain": [
       "<Figure size 360x360 with 0 Axes>"
      ]
     },
     "metadata": {},
     "output_type": "display_data"
    },
    {
     "data": {
      "text/plain": [
       "<Figure size 432x288 with 0 Axes>"
      ]
     },
     "metadata": {},
     "output_type": "display_data"
    },
    {
     "data": {
      "text/plain": [
       "<Figure size 360x360 with 0 Axes>"
      ]
     },
     "metadata": {},
     "output_type": "display_data"
    },
    {
     "data": {
      "text/plain": [
       "<Figure size 432x288 with 0 Axes>"
      ]
     },
     "metadata": {},
     "output_type": "display_data"
    },
    {
     "data": {
      "text/plain": [
       "<Figure size 360x360 with 0 Axes>"
      ]
     },
     "metadata": {},
     "output_type": "display_data"
    },
    {
     "data": {
      "text/plain": [
       "<Figure size 432x288 with 0 Axes>"
      ]
     },
     "metadata": {},
     "output_type": "display_data"
    },
    {
     "data": {
      "image/png": "[encoded data removed]",
      "text/plain": [
       "<Figure size 360x360 with 1 Axes>"
      ]
     },
     "metadata": {},
     "output_type": "display_data"
    }
   ],
   "source": [
    "# check F1-score\n",
    "output_F1_score(data, data_name, dataset, image_data_path, intermediate_data_folder, partition_nums, layers, \\\n",
    "                train_frac = 0.5, validation_frac = 0.5, valid_part_num = 2, \\\n",
    "                dropout = 0.1, lr = 0.0001, weight_decay = 0.1, mini_epoch_num = 20)"
   ]
  },
  {
   "cell_type": "markdown",
   "metadata": {},
   "source": [
    "### Tune hyper parameters"
   ]
  },
  {
   "cell_type": "code",
   "execution_count": 22,
   "metadata": {},
   "outputs": [
    {
     "name": "stdout",
     "output_type": "stream",
     "text": [
      "Start tuning for tuning param: batch_epoch_num partition num: 2 hop layer 1\n",
      "\n",
      "====================================================================================================\n",
      "Start to generate the global edge weights\n",
      "Edge weights creation costs a total of 0.0266 seconds!\n",
      "Start to generate the clustering machine:\n",
      "Batch machine creation costs a total of 0.0690 seconds!\n",
      "\n",
      " Information about the content of ./tmp/\n",
      "File name: [ input_edge_weight_list.csv ]; with size: 267.9462890625 KB\n",
      "\n",
      "Start to split data into train, test, validation:\n",
      "Data splitting costs a total of 0.0006 seconds!\n",
      "\n",
      "====================================================================================================\n",
      "\n",
      "====================================================================================================\n",
      "Batch machine reading costs a total of 0.0105 seconds!\n",
      "\n",
      " Information about the content of ./train/\n",
      "File name: [ batch_1 ]; with size: 2819.0869140625 KB\n",
      "File name: [ batch_0 ]; with size: 3466.2744140625 KB\n",
      "\n",
      "====================================================================================================\n",
      "Batch machine reading costs a total of 0.0106 seconds!\n",
      "Validation batches production costs a total of 0.0695 seconds!\n",
      "Start tuning for tuning param: batch_epoch_num partition num: 2 hop layer 2\n",
      "\n",
      "====================================================================================================\n",
      "Start to generate the global edge weights\n",
      "Edge weights creation costs a total of 0.0263 seconds!\n",
      "Start to generate the clustering machine:\n",
      "Batch machine creation costs a total of 0.0321 seconds!\n",
      "\n",
      " Information about the content of ./tmp/\n",
      "File name: [ input_edge_weight_list.csv ]; with size: 267.9462890625 KB\n",
      "\n",
      "Start to split data into train, test, validation:\n",
      "Data splitting costs a total of 0.0006 seconds!\n",
      "\n",
      "====================================================================================================\n",
      "\n",
      "====================================================================================================\n",
      "Batch machine reading costs a total of 0.0069 seconds!\n",
      "\n",
      " Information about the content of ./train/\n",
      "File name: [ batch_1 ]; with size: 9756.9775390625 KB\n",
      "File name: [ batch_0 ]; with size: 9274.0869140625 KB\n",
      "\n",
      "====================================================================================================\n",
      "Batch machine reading costs a total of 0.0073 seconds!\n",
      "Validation batches production costs a total of 0.1220 seconds!\n",
      "Start tuning for tuning param: batch_epoch_num partition num: 2 hop layer 3\n",
      "\n",
      "====================================================================================================\n",
      "Start to generate the global edge weights\n",
      "Edge weights creation costs a total of 0.0263 seconds!\n",
      "Start to generate the clustering machine:\n",
      "Batch machine creation costs a total of 0.0328 seconds!\n",
      "\n",
      " Information about the content of ./tmp/\n",
      "File name: [ input_edge_weight_list.csv ]; with size: 267.9462890625 KB\n",
      "\n",
      "Start to split data into train, test, validation:\n",
      "Data splitting costs a total of 0.0007 seconds!\n",
      "\n",
      "====================================================================================================\n",
      "\n",
      "====================================================================================================\n",
      "Batch machine reading costs a total of 0.0075 seconds!\n",
      "\n",
      " Information about the content of ./train/\n",
      "File name: [ batch_1 ]; with size: 12907.4462890625 KB\n",
      "File name: [ batch_0 ]; with size: 12849.9072265625 KB\n",
      "\n",
      "====================================================================================================\n",
      "Batch machine reading costs a total of 0.0075 seconds!\n",
      "Validation batches production costs a total of 0.0877 seconds!\n"
     ]
    },
    {
     "name": "stderr",
     "output_type": "stream",
     "text": [
      "/home/xiangli/anaconda3/envs/pytorch_geometric/lib/python3.7/site-packages/seaborn/axisgrid.py:311: RuntimeWarning: More than 20 figures have been opened. Figures created through the pyplot interface (`matplotlib.pyplot.figure`) are retained until explicitly closed and may consume too much memory. (To control this warning, see the rcParam `figure.max_open_warning`).\n",
      "  fig, axes = plt.subplots(nrow, ncol, **kwargs)\n",
      "/home/xiangli/anaconda3/envs/pytorch_geometric/lib/python3.7/site-packages/ipykernel_launcher.py:58: RuntimeWarning: More than 20 figures have been opened. Figures created through the pyplot interface (`matplotlib.pyplot.figure`) are retained until explicitly closed and may consume too much memory. (To control this warning, see the rcParam `figure.max_open_warning`).\n",
      "/home/xiangli/anaconda3/envs/pytorch_geometric/lib/python3.7/site-packages/seaborn/axisgrid.py:311: RuntimeWarning: More than 20 figures have been opened. Figures created through the pyplot interface (`matplotlib.pyplot.figure`) are retained until explicitly closed and may consume too much memory. (To control this warning, see the rcParam `figure.max_open_warning`).\n",
      "  fig, axes = plt.subplots(nrow, ncol, **kwargs)\n",
      "/home/xiangli/anaconda3/envs/pytorch_geometric/lib/python3.7/site-packages/ipykernel_launcher.py:58: RuntimeWarning: More than 20 figures have been opened. Figures created through the pyplot interface (`matplotlib.pyplot.figure`) are retained until explicitly closed and may consume too much memory. (To control this warning, see the rcParam `figure.max_open_warning`).\n",
      "/home/xiangli/anaconda3/envs/pytorch_geometric/lib/python3.7/site-packages/seaborn/axisgrid.py:311: RuntimeWarning: More than 20 figures have been opened. Figures created through the pyplot interface (`matplotlib.pyplot.figure`) are retained until explicitly closed and may consume too much memory. (To control this warning, see the rcParam `figure.max_open_warning`).\n",
      "  fig, axes = plt.subplots(nrow, ncol, **kwargs)\n"
     ]
    },
    {
     "name": "stdout",
     "output_type": "stream",
     "text": [
      "Start tuning for tuning param: batch_epoch_num partition num: 4 hop layer 1\n",
      "\n",
      "====================================================================================================\n",
      "Start to generate the global edge weights\n",
      "Edge weights creation costs a total of 0.0264 seconds!\n",
      "Start to generate the clustering machine:\n",
      "Batch machine creation costs a total of 0.0310 seconds!\n",
      "\n",
      " Information about the content of ./tmp/\n",
      "File name: [ input_edge_weight_list.csv ]; with size: 267.9462890625 KB\n",
      "\n",
      "Start to split data into train, test, validation:\n",
      "Data splitting costs a total of 0.0007 seconds!\n",
      "\n",
      "====================================================================================================\n",
      "\n",
      "====================================================================================================\n",
      "Batch machine reading costs a total of 0.0070 seconds!\n",
      "\n",
      " Information about the content of ./train/\n",
      "File name: [ batch_1 ]; with size: 2086.2197265625 KB\n",
      "File name: [ batch_3 ]; with size: 1632.3759765625 KB\n",
      "File name: [ batch_0 ]; with size: 1810.7900390625 KB\n",
      "File name: [ batch_2 ]; with size: 1805.2431640625 KB\n",
      "\n",
      "====================================================================================================\n",
      "Batch machine reading costs a total of 0.0071 seconds!\n",
      "Validation batches production costs a total of 0.0736 seconds!\n"
     ]
    },
    {
     "name": "stderr",
     "output_type": "stream",
     "text": [
      "/home/xiangli/anaconda3/envs/pytorch_geometric/lib/python3.7/site-packages/ipykernel_launcher.py:58: RuntimeWarning: More than 20 figures have been opened. Figures created through the pyplot interface (`matplotlib.pyplot.figure`) are retained until explicitly closed and may consume too much memory. (To control this warning, see the rcParam `figure.max_open_warning`).\n",
      "/home/xiangli/anaconda3/envs/pytorch_geometric/lib/python3.7/site-packages/seaborn/axisgrid.py:311: RuntimeWarning: More than 20 figures have been opened. Figures created through the pyplot interface (`matplotlib.pyplot.figure`) are retained until explicitly closed and may consume too much memory. (To control this warning, see the rcParam `figure.max_open_warning`).\n",
      "  fig, axes = plt.subplots(nrow, ncol, **kwargs)\n",
      "/home/xiangli/anaconda3/envs/pytorch_geometric/lib/python3.7/site-packages/ipykernel_launcher.py:58: RuntimeWarning: More than 20 figures have been opened. Figures created through the pyplot interface (`matplotlib.pyplot.figure`) are retained until explicitly closed and may consume too much memory. (To control this warning, see the rcParam `figure.max_open_warning`).\n",
      "/home/xiangli/anaconda3/envs/pytorch_geometric/lib/python3.7/site-packages/seaborn/axisgrid.py:311: RuntimeWarning: More than 20 figures have been opened. Figures created through the pyplot interface (`matplotlib.pyplot.figure`) are retained until explicitly closed and may consume too much memory. (To control this warning, see the rcParam `figure.max_open_warning`).\n",
      "  fig, axes = plt.subplots(nrow, ncol, **kwargs)\n",
      "/home/xiangli/anaconda3/envs/pytorch_geometric/lib/python3.7/site-packages/ipykernel_launcher.py:58: RuntimeWarning: More than 20 figures have been opened. Figures created through the pyplot interface (`matplotlib.pyplot.figure`) are retained until explicitly closed and may consume too much memory. (To control this warning, see the rcParam `figure.max_open_warning`).\n",
      "/home/xiangli/anaconda3/envs/pytorch_geometric/lib/python3.7/site-packages/seaborn/axisgrid.py:311: RuntimeWarning: More than 20 figures have been opened. Figures created through the pyplot interface (`matplotlib.pyplot.figure`) are retained until explicitly closed and may consume too much memory. (To control this warning, see the rcParam `figure.max_open_warning`).\n",
      "  fig, axes = plt.subplots(nrow, ncol, **kwargs)\n",
      "/home/xiangli/anaconda3/envs/pytorch_geometric/lib/python3.7/site-packages/ipykernel_launcher.py:58: RuntimeWarning: More than 20 figures have been opened. Figures created through the pyplot interface (`matplotlib.pyplot.figure`) are retained until explicitly closed and may consume too much memory. (To control this warning, see the rcParam `figure.max_open_warning`).\n",
      "/home/xiangli/anaconda3/envs/pytorch_geometric/lib/python3.7/site-packages/seaborn/axisgrid.py:311: RuntimeWarning: More than 20 figures have been opened. Figures created through the pyplot interface (`matplotlib.pyplot.figure`) are retained until explicitly closed and may consume too much memory. (To control this warning, see the rcParam `figure.max_open_warning`).\n",
      "  fig, axes = plt.subplots(nrow, ncol, **kwargs)\n"
     ]
    },
    {
     "name": "stdout",
     "output_type": "stream",
     "text": [
      "Start tuning for tuning param: batch_epoch_num partition num: 4 hop layer 2\n",
      "\n",
      "====================================================================================================\n",
      "Start to generate the global edge weights\n",
      "Edge weights creation costs a total of 0.0260 seconds!\n",
      "Start to generate the clustering machine:\n",
      "Batch machine creation costs a total of 0.0307 seconds!\n",
      "\n",
      " Information about the content of ./tmp/\n",
      "File name: [ input_edge_weight_list.csv ]; with size: 267.9462890625 KB\n",
      "\n",
      "Start to split data into train, test, validation:\n",
      "Data splitting costs a total of 0.0007 seconds!\n",
      "\n",
      "====================================================================================================\n",
      "\n",
      "====================================================================================================\n",
      "Batch machine reading costs a total of 0.0068 seconds!\n",
      "\n",
      " Information about the content of ./train/\n",
      "File name: [ batch_1 ]; with size: 6598.6416015625 KB\n",
      "File name: [ batch_3 ]; with size: 6112.4541015625 KB\n",
      "File name: [ batch_0 ]; with size: 6564.5009765625 KB\n",
      "File name: [ batch_2 ]; with size: 6613.2900390625 KB\n",
      "\n",
      "====================================================================================================\n",
      "Batch machine reading costs a total of 0.0070 seconds!\n",
      "Validation batches production costs a total of 0.1229 seconds!\n"
     ]
    },
    {
     "name": "stderr",
     "output_type": "stream",
     "text": [
      "/home/xiangli/anaconda3/envs/pytorch_geometric/lib/python3.7/site-packages/ipykernel_launcher.py:58: RuntimeWarning: More than 20 figures have been opened. Figures created through the pyplot interface (`matplotlib.pyplot.figure`) are retained until explicitly closed and may consume too much memory. (To control this warning, see the rcParam `figure.max_open_warning`).\n",
      "/home/xiangli/anaconda3/envs/pytorch_geometric/lib/python3.7/site-packages/seaborn/axisgrid.py:311: RuntimeWarning: More than 20 figures have been opened. Figures created through the pyplot interface (`matplotlib.pyplot.figure`) are retained until explicitly closed and may consume too much memory. (To control this warning, see the rcParam `figure.max_open_warning`).\n",
      "  fig, axes = plt.subplots(nrow, ncol, **kwargs)\n",
      "/home/xiangli/anaconda3/envs/pytorch_geometric/lib/python3.7/site-packages/ipykernel_launcher.py:58: RuntimeWarning: More than 20 figures have been opened. Figures created through the pyplot interface (`matplotlib.pyplot.figure`) are retained until explicitly closed and may consume too much memory. (To control this warning, see the rcParam `figure.max_open_warning`).\n",
      "/home/xiangli/anaconda3/envs/pytorch_geometric/lib/python3.7/site-packages/seaborn/axisgrid.py:311: RuntimeWarning: More than 20 figures have been opened. Figures created through the pyplot interface (`matplotlib.pyplot.figure`) are retained until explicitly closed and may consume too much memory. (To control this warning, see the rcParam `figure.max_open_warning`).\n",
      "  fig, axes = plt.subplots(nrow, ncol, **kwargs)\n",
      "/home/xiangli/anaconda3/envs/pytorch_geometric/lib/python3.7/site-packages/ipykernel_launcher.py:58: RuntimeWarning: More than 20 figures have been opened. Figures created through the pyplot interface (`matplotlib.pyplot.figure`) are retained until explicitly closed and may consume too much memory. (To control this warning, see the rcParam `figure.max_open_warning`).\n",
      "/home/xiangli/anaconda3/envs/pytorch_geometric/lib/python3.7/site-packages/seaborn/axisgrid.py:311: RuntimeWarning: More than 20 figures have been opened. Figures created through the pyplot interface (`matplotlib.pyplot.figure`) are retained until explicitly closed and may consume too much memory. (To control this warning, see the rcParam `figure.max_open_warning`).\n",
      "  fig, axes = plt.subplots(nrow, ncol, **kwargs)\n",
      "/home/xiangli/anaconda3/envs/pytorch_geometric/lib/python3.7/site-packages/ipykernel_launcher.py:58: RuntimeWarning: More than 20 figures have been opened. Figures created through the pyplot interface (`matplotlib.pyplot.figure`) are retained until explicitly closed and may consume too much memory. (To control this warning, see the rcParam `figure.max_open_warning`).\n",
      "/home/xiangli/anaconda3/envs/pytorch_geometric/lib/python3.7/site-packages/seaborn/axisgrid.py:311: RuntimeWarning: More than 20 figures have been opened. Figures created through the pyplot interface (`matplotlib.pyplot.figure`) are retained until explicitly closed and may consume too much memory. (To control this warning, see the rcParam `figure.max_open_warning`).\n",
      "  fig, axes = plt.subplots(nrow, ncol, **kwargs)\n"
     ]
    },
    {
     "name": "stdout",
     "output_type": "stream",
     "text": [
      "Start tuning for tuning param: batch_epoch_num partition num: 4 hop layer 3\n",
      "\n",
      "====================================================================================================\n",
      "Start to generate the global edge weights\n",
      "Edge weights creation costs a total of 0.0266 seconds!\n",
      "Start to generate the clustering machine:\n",
      "Batch machine creation costs a total of 0.0315 seconds!\n",
      "\n",
      " Information about the content of ./tmp/\n",
      "File name: [ input_edge_weight_list.csv ]; with size: 267.9462890625 KB\n",
      "\n",
      "Start to split data into train, test, validation:\n",
      "Data splitting costs a total of 0.0006 seconds!\n",
      "\n",
      "====================================================================================================\n",
      "\n",
      "====================================================================================================\n",
      "Batch machine reading costs a total of 0.0071 seconds!\n",
      "\n",
      " Information about the content of ./train/\n",
      "File name: [ batch_1 ]; with size: 12058.8369140625 KB\n",
      "File name: [ batch_3 ]; with size: 11109.8759765625 KB\n",
      "File name: [ batch_0 ]; with size: 11057.2744140625 KB\n",
      "File name: [ batch_2 ]; with size: 11035.9462890625 KB\n",
      "\n",
      "====================================================================================================\n",
      "Batch machine reading costs a total of 0.0073 seconds!\n",
      "Validation batches production costs a total of 0.1229 seconds!\n"
     ]
    },
    {
     "name": "stderr",
     "output_type": "stream",
     "text": [
      "/home/xiangli/anaconda3/envs/pytorch_geometric/lib/python3.7/site-packages/ipykernel_launcher.py:58: RuntimeWarning: More than 20 figures have been opened. Figures created through the pyplot interface (`matplotlib.pyplot.figure`) are retained until explicitly closed and may consume too much memory. (To control this warning, see the rcParam `figure.max_open_warning`).\n",
      "/home/xiangli/anaconda3/envs/pytorch_geometric/lib/python3.7/site-packages/seaborn/axisgrid.py:311: RuntimeWarning: More than 20 figures have been opened. Figures created through the pyplot interface (`matplotlib.pyplot.figure`) are retained until explicitly closed and may consume too much memory. (To control this warning, see the rcParam `figure.max_open_warning`).\n",
      "  fig, axes = plt.subplots(nrow, ncol, **kwargs)\n",
      "/home/xiangli/anaconda3/envs/pytorch_geometric/lib/python3.7/site-packages/ipykernel_launcher.py:58: RuntimeWarning: More than 20 figures have been opened. Figures created through the pyplot interface (`matplotlib.pyplot.figure`) are retained until explicitly closed and may consume too much memory. (To control this warning, see the rcParam `figure.max_open_warning`).\n",
      "/home/xiangli/anaconda3/envs/pytorch_geometric/lib/python3.7/site-packages/seaborn/axisgrid.py:311: RuntimeWarning: More than 20 figures have been opened. Figures created through the pyplot interface (`matplotlib.pyplot.figure`) are retained until explicitly closed and may consume too much memory. (To control this warning, see the rcParam `figure.max_open_warning`).\n",
      "  fig, axes = plt.subplots(nrow, ncol, **kwargs)\n",
      "/home/xiangli/anaconda3/envs/pytorch_geometric/lib/python3.7/site-packages/ipykernel_launcher.py:58: RuntimeWarning: More than 20 figures have been opened. Figures created through the pyplot interface (`matplotlib.pyplot.figure`) are retained until explicitly closed and may consume too much memory. (To control this warning, see the rcParam `figure.max_open_warning`).\n",
      "/home/xiangli/anaconda3/envs/pytorch_geometric/lib/python3.7/site-packages/seaborn/axisgrid.py:311: RuntimeWarning: More than 20 figures have been opened. Figures created through the pyplot interface (`matplotlib.pyplot.figure`) are retained until explicitly closed and may consume too much memory. (To control this warning, see the rcParam `figure.max_open_warning`).\n",
      "  fig, axes = plt.subplots(nrow, ncol, **kwargs)\n",
      "/home/xiangli/anaconda3/envs/pytorch_geometric/lib/python3.7/site-packages/ipykernel_launcher.py:58: RuntimeWarning: More than 20 figures have been opened. Figures created through the pyplot interface (`matplotlib.pyplot.figure`) are retained until explicitly closed and may consume too much memory. (To control this warning, see the rcParam `figure.max_open_warning`).\n",
      "/home/xiangli/anaconda3/envs/pytorch_geometric/lib/python3.7/site-packages/seaborn/axisgrid.py:311: RuntimeWarning: More than 20 figures have been opened. Figures created through the pyplot interface (`matplotlib.pyplot.figure`) are retained until explicitly closed and may consume too much memory. (To control this warning, see the rcParam `figure.max_open_warning`).\n",
      "  fig, axes = plt.subplots(nrow, ncol, **kwargs)\n"
     ]
    },
    {
     "name": "stdout",
     "output_type": "stream",
     "text": [
      "Start tuning for tuning param: batch_epoch_num partition num: 8 hop layer 1\n",
      "\n",
      "====================================================================================================\n",
      "Start to generate the global edge weights\n",
      "Edge weights creation costs a total of 0.0260 seconds!\n",
      "Start to generate the clustering machine:\n",
      "Batch machine creation costs a total of 0.0311 seconds!\n",
      "\n",
      " Information about the content of ./tmp/\n",
      "File name: [ input_edge_weight_list.csv ]; with size: 267.9462890625 KB\n",
      "\n",
      "Start to split data into train, test, validation:\n",
      "Data splitting costs a total of 0.0006 seconds!\n",
      "\n",
      "====================================================================================================\n",
      "\n",
      "====================================================================================================\n",
      "Batch machine reading costs a total of 0.0105 seconds!\n",
      "\n",
      " Information about the content of ./train/\n",
      "File name: [ batch_1 ]; with size: 789.935546875 KB\n",
      "File name: [ batch_7 ]; with size: 847.771484375 KB\n",
      "File name: [ batch_3 ]; with size: 813.333984375 KB\n",
      "File name: [ batch_4 ]; with size: 829.896484375 KB\n",
      "File name: [ batch_6 ]; with size: 939.115234375 KB\n",
      "File name: [ batch_0 ]; with size: 858.841796875 KB\n",
      "File name: [ batch_5 ]; with size: 881.068359375 KB\n",
      "File name: [ batch_2 ]; with size: 760.951171875 KB\n",
      "\n",
      "====================================================================================================\n",
      "Batch machine reading costs a total of 0.0072 seconds!\n",
      "Validation batches production costs a total of 0.1203 seconds!\n"
     ]
    },
    {
     "name": "stderr",
     "output_type": "stream",
     "text": [
      "/home/xiangli/anaconda3/envs/pytorch_geometric/lib/python3.7/site-packages/ipykernel_launcher.py:58: RuntimeWarning: More than 20 figures have been opened. Figures created through the pyplot interface (`matplotlib.pyplot.figure`) are retained until explicitly closed and may consume too much memory. (To control this warning, see the rcParam `figure.max_open_warning`).\n",
      "/home/xiangli/anaconda3/envs/pytorch_geometric/lib/python3.7/site-packages/seaborn/axisgrid.py:311: RuntimeWarning: More than 20 figures have been opened. Figures created through the pyplot interface (`matplotlib.pyplot.figure`) are retained until explicitly closed and may consume too much memory. (To control this warning, see the rcParam `figure.max_open_warning`).\n",
      "  fig, axes = plt.subplots(nrow, ncol, **kwargs)\n",
      "/home/xiangli/anaconda3/envs/pytorch_geometric/lib/python3.7/site-packages/ipykernel_launcher.py:58: RuntimeWarning: More than 20 figures have been opened. Figures created through the pyplot interface (`matplotlib.pyplot.figure`) are retained until explicitly closed and may consume too much memory. (To control this warning, see the rcParam `figure.max_open_warning`).\n",
      "/home/xiangli/anaconda3/envs/pytorch_geometric/lib/python3.7/site-packages/seaborn/axisgrid.py:311: RuntimeWarning: More than 20 figures have been opened. Figures created through the pyplot interface (`matplotlib.pyplot.figure`) are retained until explicitly closed and may consume too much memory. (To control this warning, see the rcParam `figure.max_open_warning`).\n",
      "  fig, axes = plt.subplots(nrow, ncol, **kwargs)\n",
      "/home/xiangli/anaconda3/envs/pytorch_geometric/lib/python3.7/site-packages/ipykernel_launcher.py:58: RuntimeWarning: More than 20 figures have been opened. Figures created through the pyplot interface (`matplotlib.pyplot.figure`) are retained until explicitly closed and may consume too much memory. (To control this warning, see the rcParam `figure.max_open_warning`).\n",
      "/home/xiangli/anaconda3/envs/pytorch_geometric/lib/python3.7/site-packages/seaborn/axisgrid.py:311: RuntimeWarning: More than 20 figures have been opened. Figures created through the pyplot interface (`matplotlib.pyplot.figure`) are retained until explicitly closed and may consume too much memory. (To control this warning, see the rcParam `figure.max_open_warning`).\n",
      "  fig, axes = plt.subplots(nrow, ncol, **kwargs)\n",
      "/home/xiangli/anaconda3/envs/pytorch_geometric/lib/python3.7/site-packages/ipykernel_launcher.py:58: RuntimeWarning: More than 20 figures have been opened. Figures created through the pyplot interface (`matplotlib.pyplot.figure`) are retained until explicitly closed and may consume too much memory. (To control this warning, see the rcParam `figure.max_open_warning`).\n",
      "/home/xiangli/anaconda3/envs/pytorch_geometric/lib/python3.7/site-packages/seaborn/axisgrid.py:311: RuntimeWarning: More than 20 figures have been opened. Figures created through the pyplot interface (`matplotlib.pyplot.figure`) are retained until explicitly closed and may consume too much memory. (To control this warning, see the rcParam `figure.max_open_warning`).\n",
      "  fig, axes = plt.subplots(nrow, ncol, **kwargs)\n"
     ]
    },
    {
     "name": "stdout",
     "output_type": "stream",
     "text": [
      "Start tuning for tuning param: batch_epoch_num partition num: 8 hop layer 2\n",
      "\n",
      "====================================================================================================\n",
      "Start to generate the global edge weights\n",
      "Edge weights creation costs a total of 0.0265 seconds!\n",
      "Start to generate the clustering machine:\n",
      "Batch machine creation costs a total of 0.0320 seconds!\n",
      "\n",
      " Information about the content of ./tmp/\n",
      "File name: [ input_edge_weight_list.csv ]; with size: 267.9462890625 KB\n",
      "\n",
      "Start to split data into train, test, validation:\n",
      "Data splitting costs a total of 0.0007 seconds!\n",
      "\n",
      "====================================================================================================\n",
      "\n",
      "====================================================================================================\n",
      "Batch machine reading costs a total of 0.0077 seconds!\n",
      "\n",
      " Information about the content of ./train/\n",
      "File name: [ batch_1 ]; with size: 3901.6181640625 KB\n",
      "File name: [ batch_7 ]; with size: 4739.7275390625 KB\n",
      "File name: [ batch_3 ]; with size: 4733.1806640625 KB\n",
      "File name: [ batch_4 ]; with size: 4423.7275390625 KB\n",
      "File name: [ batch_6 ]; with size: 5141.8525390625 KB\n",
      "File name: [ batch_0 ]; with size: 4702.0478515625 KB\n",
      "File name: [ batch_5 ]; with size: 4576.7353515625 KB\n",
      "File name: [ batch_2 ]; with size: 5296.5400390625 KB\n",
      "\n",
      "====================================================================================================\n",
      "Batch machine reading costs a total of 0.0073 seconds!\n",
      "Validation batches production costs a total of 0.0837 seconds!\n"
     ]
    },
    {
     "name": "stderr",
     "output_type": "stream",
     "text": [
      "/home/xiangli/anaconda3/envs/pytorch_geometric/lib/python3.7/site-packages/ipykernel_launcher.py:58: RuntimeWarning: More than 20 figures have been opened. Figures created through the pyplot interface (`matplotlib.pyplot.figure`) are retained until explicitly closed and may consume too much memory. (To control this warning, see the rcParam `figure.max_open_warning`).\n",
      "/home/xiangli/anaconda3/envs/pytorch_geometric/lib/python3.7/site-packages/seaborn/axisgrid.py:311: RuntimeWarning: More than 20 figures have been opened. Figures created through the pyplot interface (`matplotlib.pyplot.figure`) are retained until explicitly closed and may consume too much memory. (To control this warning, see the rcParam `figure.max_open_warning`).\n",
      "  fig, axes = plt.subplots(nrow, ncol, **kwargs)\n",
      "/home/xiangli/anaconda3/envs/pytorch_geometric/lib/python3.7/site-packages/ipykernel_launcher.py:58: RuntimeWarning: More than 20 figures have been opened. Figures created through the pyplot interface (`matplotlib.pyplot.figure`) are retained until explicitly closed and may consume too much memory. (To control this warning, see the rcParam `figure.max_open_warning`).\n",
      "/home/xiangli/anaconda3/envs/pytorch_geometric/lib/python3.7/site-packages/seaborn/axisgrid.py:311: RuntimeWarning: More than 20 figures have been opened. Figures created through the pyplot interface (`matplotlib.pyplot.figure`) are retained until explicitly closed and may consume too much memory. (To control this warning, see the rcParam `figure.max_open_warning`).\n",
      "  fig, axes = plt.subplots(nrow, ncol, **kwargs)\n",
      "/home/xiangli/anaconda3/envs/pytorch_geometric/lib/python3.7/site-packages/ipykernel_launcher.py:58: RuntimeWarning: More than 20 figures have been opened. Figures created through the pyplot interface (`matplotlib.pyplot.figure`) are retained until explicitly closed and may consume too much memory. (To control this warning, see the rcParam `figure.max_open_warning`).\n",
      "/home/xiangli/anaconda3/envs/pytorch_geometric/lib/python3.7/site-packages/seaborn/axisgrid.py:311: RuntimeWarning: More than 20 figures have been opened. Figures created through the pyplot interface (`matplotlib.pyplot.figure`) are retained until explicitly closed and may consume too much memory. (To control this warning, see the rcParam `figure.max_open_warning`).\n",
      "  fig, axes = plt.subplots(nrow, ncol, **kwargs)\n",
      "/home/xiangli/anaconda3/envs/pytorch_geometric/lib/python3.7/site-packages/ipykernel_launcher.py:58: RuntimeWarning: More than 20 figures have been opened. Figures created through the pyplot interface (`matplotlib.pyplot.figure`) are retained until explicitly closed and may consume too much memory. (To control this warning, see the rcParam `figure.max_open_warning`).\n",
      "/home/xiangli/anaconda3/envs/pytorch_geometric/lib/python3.7/site-packages/seaborn/axisgrid.py:311: RuntimeWarning: More than 20 figures have been opened. Figures created through the pyplot interface (`matplotlib.pyplot.figure`) are retained until explicitly closed and may consume too much memory. (To control this warning, see the rcParam `figure.max_open_warning`).\n",
      "  fig, axes = plt.subplots(nrow, ncol, **kwargs)\n"
     ]
    },
    {
     "name": "stdout",
     "output_type": "stream",
     "text": [
      "Start tuning for tuning param: batch_epoch_num partition num: 8 hop layer 3\n",
      "\n",
      "====================================================================================================\n",
      "Start to generate the global edge weights\n",
      "Edge weights creation costs a total of 0.0261 seconds!\n",
      "Start to generate the clustering machine:\n",
      "Batch machine creation costs a total of 0.0315 seconds!\n",
      "\n",
      " Information about the content of ./tmp/\n",
      "File name: [ input_edge_weight_list.csv ]; with size: 267.9462890625 KB\n",
      "\n",
      "Start to split data into train, test, validation:\n",
      "Data splitting costs a total of 0.0006 seconds!\n",
      "\n",
      "====================================================================================================\n",
      "\n",
      "====================================================================================================\n",
      "Batch machine reading costs a total of 0.0072 seconds!\n",
      "\n",
      " Information about the content of ./train/\n",
      "File name: [ batch_1 ]; with size: 10277.4384765625 KB\n",
      "File name: [ batch_7 ]; with size: 8562.7744140625 KB\n",
      "File name: [ batch_3 ]; with size: 9139.5869140625 KB\n",
      "File name: [ batch_4 ]; with size: 8998.7275390625 KB\n",
      "File name: [ batch_6 ]; with size: 9074.8212890625 KB\n",
      "File name: [ batch_0 ]; with size: 9070.1337890625 KB\n",
      "File name: [ batch_5 ]; with size: 9334.4697265625 KB\n",
      "File name: [ batch_2 ]; with size: 9116.8525390625 KB\n",
      "\n",
      "====================================================================================================\n",
      "Batch machine reading costs a total of 0.0073 seconds!\n",
      "Validation batches production costs a total of 0.1257 seconds!\n"
     ]
    },
    {
     "name": "stderr",
     "output_type": "stream",
     "text": [
      "/home/xiangli/anaconda3/envs/pytorch_geometric/lib/python3.7/site-packages/ipykernel_launcher.py:58: RuntimeWarning: More than 20 figures have been opened. Figures created through the pyplot interface (`matplotlib.pyplot.figure`) are retained until explicitly closed and may consume too much memory. (To control this warning, see the rcParam `figure.max_open_warning`).\n",
      "/home/xiangli/anaconda3/envs/pytorch_geometric/lib/python3.7/site-packages/seaborn/axisgrid.py:311: RuntimeWarning: More than 20 figures have been opened. Figures created through the pyplot interface (`matplotlib.pyplot.figure`) are retained until explicitly closed and may consume too much memory. (To control this warning, see the rcParam `figure.max_open_warning`).\n",
      "  fig, axes = plt.subplots(nrow, ncol, **kwargs)\n",
      "/home/xiangli/anaconda3/envs/pytorch_geometric/lib/python3.7/site-packages/ipykernel_launcher.py:58: RuntimeWarning: More than 20 figures have been opened. Figures created through the pyplot interface (`matplotlib.pyplot.figure`) are retained until explicitly closed and may consume too much memory. (To control this warning, see the rcParam `figure.max_open_warning`).\n",
      "/home/xiangli/anaconda3/envs/pytorch_geometric/lib/python3.7/site-packages/seaborn/axisgrid.py:311: RuntimeWarning: More than 20 figures have been opened. Figures created through the pyplot interface (`matplotlib.pyplot.figure`) are retained until explicitly closed and may consume too much memory. (To control this warning, see the rcParam `figure.max_open_warning`).\n",
      "  fig, axes = plt.subplots(nrow, ncol, **kwargs)\n",
      "/home/xiangli/anaconda3/envs/pytorch_geometric/lib/python3.7/site-packages/ipykernel_launcher.py:58: RuntimeWarning: More than 20 figures have been opened. Figures created through the pyplot interface (`matplotlib.pyplot.figure`) are retained until explicitly closed and may consume too much memory. (To control this warning, see the rcParam `figure.max_open_warning`).\n",
      "/home/xiangli/anaconda3/envs/pytorch_geometric/lib/python3.7/site-packages/seaborn/axisgrid.py:311: RuntimeWarning: More than 20 figures have been opened. Figures created through the pyplot interface (`matplotlib.pyplot.figure`) are retained until explicitly closed and may consume too much memory. (To control this warning, see the rcParam `figure.max_open_warning`).\n",
      "  fig, axes = plt.subplots(nrow, ncol, **kwargs)\n",
      "/home/xiangli/anaconda3/envs/pytorch_geometric/lib/python3.7/site-packages/ipykernel_launcher.py:58: RuntimeWarning: More than 20 figures have been opened. Figures created through the pyplot interface (`matplotlib.pyplot.figure`) are retained until explicitly closed and may consume too much memory. (To control this warning, see the rcParam `figure.max_open_warning`).\n",
      "/home/xiangli/anaconda3/envs/pytorch_geometric/lib/python3.7/site-packages/seaborn/axisgrid.py:311: RuntimeWarning: More than 20 figures have been opened. Figures created through the pyplot interface (`matplotlib.pyplot.figure`) are retained until explicitly closed and may consume too much memory. (To control this warning, see the rcParam `figure.max_open_warning`).\n",
      "  fig, axes = plt.subplots(nrow, ncol, **kwargs)\n"
     ]
    },
    {
     "data": {
      "text/plain": [
       "<Figure size 432x288 with 0 Axes>"
      ]
     },
     "metadata": {},
     "output_type": "display_data"
    },
    {
     "data": {
      "text/plain": [
       "<Figure size 432x288 with 0 Axes>"
      ]
     },
     "metadata": {},
     "output_type": "display_data"
    },
    {
     "data": {
      "text/plain": [
       "<Figure size 360x360 with 0 Axes>"
      ]
     },
     "metadata": {},
     "output_type": "display_data"
    },
    {
     "data": {
      "text/plain": [
       "<Figure size 432x288 with 0 Axes>"
      ]
     },
     "metadata": {},
     "output_type": "display_data"
    },
    {
     "data": {
      "text/plain": [
       "<Figure size 360x360 with 0 Axes>"
      ]
     },
     "metadata": {},
     "output_type": "display_data"
    },
    {
     "data": {
      "text/plain": [
       "<Figure size 432x288 with 0 Axes>"
      ]
     },
     "metadata": {},
     "output_type": "display_data"
    },
    {
     "data": {
      "text/plain": [
       "<Figure size 360x360 with 0 Axes>"
      ]
     },
     "metadata": {},
     "output_type": "display_data"
    },
    {
     "data": {
      "text/plain": [
       "<Figure size 432x288 with 0 Axes>"
      ]
     },
     "metadata": {},
     "output_type": "display_data"
    },
    {
     "data": {
      "text/plain": [
       "<Figure size 360x360 with 0 Axes>"
      ]
     },
     "metadata": {},
     "output_type": "display_data"
    },
    {
     "data": {
      "text/plain": [
       "<Figure size 432x288 with 0 Axes>"
      ]
     },
     "metadata": {},
     "output_type": "display_data"
    },
    {
     "data": {
      "text/plain": [
       "<Figure size 360x360 with 0 Axes>"
      ]
     },
     "metadata": {},
     "output_type": "display_data"
    },
    {
     "data": {
      "text/plain": [
       "<Figure size 432x288 with 0 Axes>"
      ]
     },
     "metadata": {},
     "output_type": "display_data"
    },
    {
     "data": {
      "text/plain": [
       "<Figure size 360x360 with 0 Axes>"
      ]
     },
     "metadata": {},
     "output_type": "display_data"
    },
    {
     "data": {
      "text/plain": [
       "<Figure size 432x288 with 0 Axes>"
      ]
     },
     "metadata": {},
     "output_type": "display_data"
    },
    {
     "data": {
      "text/plain": [
       "<Figure size 360x360 with 0 Axes>"
      ]
     },
     "metadata": {},
     "output_type": "display_data"
    },
    {
     "data": {
      "text/plain": [
       "<Figure size 432x288 with 0 Axes>"
      ]
     },
     "metadata": {},
     "output_type": "display_data"
    },
    {
     "data": {
      "text/plain": [
       "<Figure size 360x360 with 0 Axes>"
      ]
     },
     "metadata": {},
     "output_type": "display_data"
    },
    {
     "data": {
      "text/plain": [
       "<Figure size 432x288 with 0 Axes>"
      ]
     },
     "metadata": {},
     "output_type": "display_data"
    },
    {
     "data": {
      "text/plain": [
       "<Figure size 360x360 with 0 Axes>"
      ]
     },
     "metadata": {},
     "output_type": "display_data"
    },
    {
     "data": {
      "text/plain": [
       "<Figure size 432x288 with 0 Axes>"
      ]
     },
     "metadata": {},
     "output_type": "display_data"
    },
    {
     "data": {
      "text/plain": [
       "<Figure size 360x360 with 0 Axes>"
      ]
     },
     "metadata": {},
     "output_type": "display_data"
    },
    {
     "data": {
      "text/plain": [
       "<Figure size 432x288 with 0 Axes>"
      ]
     },
     "metadata": {},
     "output_type": "display_data"
    },
    {
     "data": {
      "text/plain": [
       "<Figure size 360x360 with 0 Axes>"
      ]
     },
     "metadata": {},
     "output_type": "display_data"
    },
    {
     "data": {
      "text/plain": [
       "<Figure size 432x288 with 0 Axes>"
      ]
     },
     "metadata": {},
     "output_type": "display_data"
    },
    {
     "data": {
      "text/plain": [
       "<Figure size 360x360 with 0 Axes>"
      ]
     },
     "metadata": {},
     "output_type": "display_data"
    },
    {
     "data": {
      "text/plain": [
       "<Figure size 432x288 with 0 Axes>"
      ]
     },
     "metadata": {},
     "output_type": "display_data"
    },
    {
     "data": {
      "text/plain": [
       "<Figure size 360x360 with 0 Axes>"
      ]
     },
     "metadata": {},
     "output_type": "display_data"
    },
    {
     "data": {
      "text/plain": [
       "<Figure size 432x288 with 0 Axes>"
      ]
     },
     "metadata": {},
     "output_type": "display_data"
    },
    {
     "data": {
      "text/plain": [
       "<Figure size 360x360 with 0 Axes>"
      ]
     },
     "metadata": {},
     "output_type": "display_data"
    },
    {
     "data": {
      "text/plain": [
       "<Figure size 432x288 with 0 Axes>"
      ]
     },
     "metadata": {},
     "output_type": "display_data"
    },
    {
     "data": {
      "text/plain": [
       "<Figure size 360x360 with 0 Axes>"
      ]
     },
     "metadata": {},
     "output_type": "display_data"
    },
    {
     "data": {
      "text/plain": [
       "<Figure size 432x288 with 0 Axes>"
      ]
     },
     "metadata": {},
     "output_type": "display_data"
    },
    {
     "data": {
      "text/plain": [
       "<Figure size 360x360 with 0 Axes>"
      ]
     },
     "metadata": {},
     "output_type": "display_data"
    },
    {
     "data": {
      "text/plain": [
       "<Figure size 432x288 with 0 Axes>"
      ]
     },
     "metadata": {},
     "output_type": "display_data"
    },
    {
     "data": {
      "text/plain": [
       "<Figure size 360x360 with 0 Axes>"
      ]
     },
     "metadata": {},
     "output_type": "display_data"
    },
    {
     "data": {
      "text/plain": [
       "<Figure size 432x288 with 0 Axes>"
      ]
     },
     "metadata": {},
     "output_type": "display_data"
    },
    {
     "data": {
      "text/plain": [
       "<Figure size 360x360 with 0 Axes>"
      ]
     },
     "metadata": {},
     "output_type": "display_data"
    },
    {
     "data": {
      "text/plain": [
       "<Figure size 432x288 with 0 Axes>"
      ]
     },
     "metadata": {},
     "output_type": "display_data"
    },
    {
     "data": {
      "text/plain": [
       "<Figure size 360x360 with 0 Axes>"
      ]
     },
     "metadata": {},
     "output_type": "display_data"
    },
    {
     "data": {
      "text/plain": [
       "<Figure size 432x288 with 0 Axes>"
      ]
     },
     "metadata": {},
     "output_type": "display_data"
    },
    {
     "data": {
      "text/plain": [
       "<Figure size 360x360 with 0 Axes>"
      ]
     },
     "metadata": {},
     "output_type": "display_data"
    },
    {
     "data": {
      "text/plain": [
       "<Figure size 432x288 with 0 Axes>"
      ]
     },
     "metadata": {},
     "output_type": "display_data"
    },
    {
     "data": {
      "text/plain": [
       "<Figure size 360x360 with 0 Axes>"
      ]
     },
     "metadata": {},
     "output_type": "display_data"
    },
    {
     "data": {
      "text/plain": [
       "<Figure size 432x288 with 0 Axes>"
      ]
     },
     "metadata": {},
     "output_type": "display_data"
    },
    {
     "data": {
      "text/plain": [
       "<Figure size 360x360 with 0 Axes>"
      ]
     },
     "metadata": {},
     "output_type": "display_data"
    },
    {
     "data": {
      "text/plain": [
       "<Figure size 432x288 with 0 Axes>"
      ]
     },
     "metadata": {},
     "output_type": "display_data"
    },
    {
     "data": {
      "text/plain": [
       "<Figure size 360x360 with 0 Axes>"
      ]
     },
     "metadata": {},
     "output_type": "display_data"
    },
    {
     "data": {
      "text/plain": [
       "<Figure size 432x288 with 0 Axes>"
      ]
     },
     "metadata": {},
     "output_type": "display_data"
    },
    {
     "data": {
      "text/plain": [
       "<Figure size 360x360 with 0 Axes>"
      ]
     },
     "metadata": {},
     "output_type": "display_data"
    },
    {
     "data": {
      "text/plain": [
       "<Figure size 432x288 with 0 Axes>"
      ]
     },
     "metadata": {},
     "output_type": "display_data"
    },
    {
     "data": {
      "text/plain": [
       "<Figure size 360x360 with 0 Axes>"
      ]
     },
     "metadata": {},
     "output_type": "display_data"
    },
    {
     "data": {
      "text/plain": [
       "<Figure size 432x288 with 0 Axes>"
      ]
     },
     "metadata": {},
     "output_type": "display_data"
    },
    {
     "data": {
      "text/plain": [
       "<Figure size 360x360 with 0 Axes>"
      ]
     },
     "metadata": {},
     "output_type": "display_data"
    },
    {
     "data": {
      "text/plain": [
       "<Figure size 432x288 with 0 Axes>"
      ]
     },
     "metadata": {},
     "output_type": "display_data"
    },
    {
     "data": {
      "text/plain": [
       "<Figure size 360x360 with 0 Axes>"
      ]
     },
     "metadata": {},
     "output_type": "display_data"
    },
    {
     "data": {
      "text/plain": [
       "<Figure size 432x288 with 0 Axes>"
      ]
     },
     "metadata": {},
     "output_type": "display_data"
    },
    {
     "data": {
      "text/plain": [
       "<Figure size 360x360 with 0 Axes>"
      ]
     },
     "metadata": {},
     "output_type": "display_data"
    },
    {
     "data": {
      "text/plain": [
       "<Figure size 432x288 with 0 Axes>"
      ]
     },
     "metadata": {},
     "output_type": "display_data"
    },
    {
     "data": {
      "text/plain": [
       "<Figure size 360x360 with 0 Axes>"
      ]
     },
     "metadata": {},
     "output_type": "display_data"
    },
    {
     "data": {
      "text/plain": [
       "<Figure size 432x288 with 0 Axes>"
      ]
     },
     "metadata": {},
     "output_type": "display_data"
    },
    {
     "data": {
      "text/plain": [
       "<Figure size 360x360 with 0 Axes>"
      ]
     },
     "metadata": {},
     "output_type": "display_data"
    },
    {
     "data": {
      "text/plain": [
       "<Figure size 432x288 with 0 Axes>"
      ]
     },
     "metadata": {},
     "output_type": "display_data"
    },
    {
     "data": {
      "text/plain": [
       "<Figure size 360x360 with 0 Axes>"
      ]
     },
     "metadata": {},
     "output_type": "display_data"
    },
    {
     "data": {
      "text/plain": [
       "<Figure size 432x288 with 0 Axes>"
      ]
     },
     "metadata": {},
     "output_type": "display_data"
    },
    {
     "data": {
      "text/plain": [
       "<Figure size 360x360 with 0 Axes>"
      ]
     },
     "metadata": {},
     "output_type": "display_data"
    },
    {
     "data": {
      "text/plain": [
       "<Figure size 432x288 with 0 Axes>"
      ]
     },
     "metadata": {},
     "output_type": "display_data"
    },
    {
     "data": {
      "text/plain": [
       "<Figure size 360x360 with 0 Axes>"
      ]
     },
     "metadata": {},
     "output_type": "display_data"
    },
    {
     "data": {
      "text/plain": [
       "<Figure size 432x288 with 0 Axes>"
      ]
     },
     "metadata": {},
     "output_type": "display_data"
    },
    {
     "data": {
      "text/plain": [
       "<Figure size 360x360 with 0 Axes>"
      ]
     },
     "metadata": {},
     "output_type": "display_data"
    },
    {
     "data": {
      "text/plain": [
       "<Figure size 432x288 with 0 Axes>"
      ]
     },
     "metadata": {},
     "output_type": "display_data"
    },
    {
     "data": {
      "text/plain": [
       "<Figure size 360x360 with 0 Axes>"
      ]
     },
     "metadata": {},
     "output_type": "display_data"
    },
    {
     "data": {
      "text/plain": [
       "<Figure size 432x288 with 0 Axes>"
      ]
     },
     "metadata": {},
     "output_type": "display_data"
    },
    {
     "data": {
      "image/png": "[encoded data removed]",
      "text/plain": [
       "<Figure size 360x360 with 1 Axes>"
      ]
     },
     "metadata": {},
     "output_type": "display_data"
    }
   ],
   "source": [
    "# tuning the mini_epoch\n",
    "output_tune_param(data, data_name, dataset, image_data_path, intermediate_data_folder, partition_nums, layers, \\\n",
    "                  train_frac = 1.0, validation_frac = 1.0, valid_part_num = 2, \\\n",
    "                  dropout = 0.3, lr = 0.0001, weight_decay = 0.001, mini_epoch_num = 20)"
   ]
  },
  {
   "cell_type": "markdown",
   "metadata": {},
   "source": [
    "#### Checking training loss"
   ]
  },
  {
   "cell_type": "code",
   "execution_count": 23,
   "metadata": {},
   "outputs": [
    {
     "name": "stdout",
     "output_type": "stream",
     "text": [
      "Start checking train loss for partition num: 2 hop layer: 1\n",
      "\n",
      "====================================================================================================\n",
      "Start to generate the global edge weights\n",
      "Edge weights creation costs a total of 0.0266 seconds!\n",
      "Start to generate the clustering machine:\n",
      "Batch machine creation costs a total of 0.0317 seconds!\n",
      "\n",
      " Information about the content of ./tmp/\n",
      "File name: [ input_edge_weight_list.csv ]; with size: 267.9462890625 KB\n",
      "\n",
      "Start to split data into train, test, validation:\n",
      "Data splitting costs a total of 0.0007 seconds!\n",
      "\n",
      "====================================================================================================\n",
      "\n",
      "====================================================================================================\n",
      "Batch machine reading costs a total of 0.0087 seconds!\n",
      "\n",
      " Information about the content of ./train/\n",
      "File name: [ batch_1 ]; with size: 3151.2744140625 KB\n",
      "File name: [ batch_0 ]; with size: 2952.8369140625 KB\n",
      "\n",
      "====================================================================================================\n",
      "Batch machine reading costs a total of 0.0072 seconds!\n",
      "Validation batches production costs a total of 0.1246 seconds!\n",
      "Start checking train loss for partition num: 2 hop layer: 2\n",
      "\n",
      "====================================================================================================\n",
      "Start to generate the global edge weights\n",
      "Edge weights creation costs a total of 0.0264 seconds!\n",
      "Start to generate the clustering machine:\n",
      "Batch machine creation costs a total of 0.0339 seconds!\n",
      "\n",
      " Information about the content of ./tmp/\n",
      "File name: [ input_edge_weight_list.csv ]; with size: 267.9462890625 KB\n",
      "\n",
      "Start to split data into train, test, validation:\n",
      "Data splitting costs a total of 0.0006 seconds!\n",
      "\n",
      "====================================================================================================\n",
      "\n",
      "====================================================================================================\n",
      "Batch machine reading costs a total of 0.0077 seconds!\n",
      "\n",
      " Information about the content of ./train/\n",
      "File name: [ batch_1 ]; with size: 9503.2666015625 KB\n",
      "File name: [ batch_0 ]; with size: 9309.5166015625 KB\n",
      "\n",
      "====================================================================================================\n",
      "Batch machine reading costs a total of 0.0072 seconds!\n",
      "Validation batches production costs a total of 0.1258 seconds!\n",
      "Start checking train loss for partition num: 2 hop layer: 3\n",
      "\n",
      "====================================================================================================\n",
      "Start to generate the global edge weights\n",
      "Edge weights creation costs a total of 0.0254 seconds!\n",
      "Start to generate the clustering machine:\n",
      "Batch machine creation costs a total of 0.0304 seconds!\n",
      "\n",
      " Information about the content of ./tmp/\n",
      "File name: [ input_edge_weight_list.csv ]; with size: 267.9462890625 KB\n",
      "\n",
      "Start to split data into train, test, validation:\n",
      "Data splitting costs a total of 0.0006 seconds!\n",
      "\n",
      "====================================================================================================\n",
      "\n",
      "====================================================================================================\n",
      "Batch machine reading costs a total of 0.0068 seconds!\n",
      "\n",
      " Information about the content of ./train/\n",
      "File name: [ batch_1 ]; with size: 12791.8212890625 KB\n",
      "File name: [ batch_0 ]; with size: 13056.0009765625 KB\n",
      "\n",
      "====================================================================================================\n",
      "Batch machine reading costs a total of 0.0073 seconds!\n",
      "Validation batches production costs a total of 0.0844 seconds!\n",
      "Start checking train loss for partition num: 4 hop layer: 1\n",
      "\n",
      "====================================================================================================\n",
      "Start to generate the global edge weights\n",
      "Edge weights creation costs a total of 0.0255 seconds!\n",
      "Start to generate the clustering machine:\n",
      "Batch machine creation costs a total of 0.0303 seconds!\n",
      "\n",
      " Information about the content of ./tmp/\n",
      "File name: [ input_edge_weight_list.csv ]; with size: 267.9462890625 KB\n",
      "\n",
      "Start to split data into train, test, validation:\n",
      "Data splitting costs a total of 0.0006 seconds!\n",
      "\n",
      "====================================================================================================\n",
      "\n",
      "====================================================================================================\n",
      "Batch machine reading costs a total of 0.0068 seconds!\n",
      "\n",
      " Information about the content of ./train/\n",
      "File name: [ batch_1 ]; with size: 1759.7744140625 KB\n",
      "File name: [ batch_3 ]; with size: 1613.3916015625 KB\n",
      "File name: [ batch_0 ]; with size: 1643.3291015625 KB\n",
      "File name: [ batch_2 ]; with size: 1655.2041015625 KB\n",
      "\n",
      "====================================================================================================\n",
      "Batch machine reading costs a total of 0.0072 seconds!\n",
      "Validation batches production costs a total of 0.1058 seconds!\n",
      "Start checking train loss for partition num: 4 hop layer: 2\n",
      "\n",
      "====================================================================================================\n",
      "Start to generate the global edge weights\n",
      "Edge weights creation costs a total of 0.0258 seconds!\n",
      "Start to generate the clustering machine:\n",
      "Batch machine creation costs a total of 0.0313 seconds!\n",
      "\n",
      " Information about the content of ./tmp/\n",
      "File name: [ input_edge_weight_list.csv ]; with size: 267.9462890625 KB\n",
      "\n",
      "Start to split data into train, test, validation:\n",
      "Data splitting costs a total of 0.0006 seconds!\n",
      "\n",
      "====================================================================================================\n",
      "\n",
      "====================================================================================================\n",
      "Batch machine reading costs a total of 0.0069 seconds!\n",
      "\n",
      " Information about the content of ./train/\n",
      "File name: [ batch_1 ]; with size: 6675.4775390625 KB\n",
      "File name: [ batch_3 ]; with size: 6878.0400390625 KB\n",
      "File name: [ batch_0 ]; with size: 7263.9541015625 KB\n",
      "File name: [ batch_2 ]; with size: 7969.3056640625 KB\n",
      "\n",
      "====================================================================================================\n",
      "Batch machine reading costs a total of 0.0071 seconds!\n",
      "Validation batches production costs a total of 0.0821 seconds!\n",
      "Start checking train loss for partition num: 4 hop layer: 3\n",
      "\n",
      "====================================================================================================\n",
      "Start to generate the global edge weights\n",
      "Edge weights creation costs a total of 0.0254 seconds!\n",
      "Start to generate the clustering machine:\n",
      "Batch machine creation costs a total of 0.0309 seconds!\n",
      "\n",
      " Information about the content of ./tmp/\n",
      "File name: [ input_edge_weight_list.csv ]; with size: 267.9462890625 KB\n",
      "\n",
      "Start to split data into train, test, validation:\n",
      "Data splitting costs a total of 0.0007 seconds!\n",
      "\n",
      "====================================================================================================\n",
      "\n",
      "====================================================================================================\n",
      "Batch machine reading costs a total of 0.0066 seconds!\n",
      "\n",
      " Information about the content of ./train/\n",
      "File name: [ batch_1 ]; with size: 11477.5869140625 KB\n",
      "File name: [ batch_3 ]; with size: 11150.8916015625 KB\n",
      "File name: [ batch_0 ]; with size: 11488.3681640625 KB\n",
      "File name: [ batch_2 ]; with size: 11048.2119140625 KB\n",
      "\n",
      "====================================================================================================\n",
      "Batch machine reading costs a total of 0.0071 seconds!\n",
      "Validation batches production costs a total of 0.0826 seconds!\n",
      "Start checking train loss for partition num: 8 hop layer: 1\n",
      "\n",
      "====================================================================================================\n",
      "Start to generate the global edge weights\n",
      "Edge weights creation costs a total of 0.0254 seconds!\n",
      "Start to generate the clustering machine:\n",
      "Batch machine creation costs a total of 0.0628 seconds!\n",
      "\n",
      " Information about the content of ./tmp/\n",
      "File name: [ input_edge_weight_list.csv ]; with size: 267.9462890625 KB\n",
      "\n",
      "Start to split data into train, test, validation:\n",
      "Data splitting costs a total of 0.0006 seconds!\n",
      "\n",
      "====================================================================================================\n",
      "\n",
      "====================================================================================================\n",
      "Batch machine reading costs a total of 0.0075 seconds!\n",
      "\n",
      " Information about the content of ./train/\n",
      "File name: [ batch_1 ]; with size: 957.396484375 KB\n",
      "File name: [ batch_7 ]; with size: 1139.607421875 KB\n",
      "File name: [ batch_3 ]; with size: 772.318359375 KB\n",
      "File name: [ batch_4 ]; with size: 830.013671875 KB\n",
      "File name: [ batch_6 ]; with size: 1162.162109375 KB\n",
      "File name: [ batch_0 ]; with size: 870.677734375 KB\n",
      "File name: [ batch_5 ]; with size: 1014.857421875 KB\n",
      "File name: [ batch_2 ]; with size: 946.029296875 KB\n",
      "\n",
      "====================================================================================================\n",
      "Batch machine reading costs a total of 0.0072 seconds!\n"
     ]
    },
    {
     "name": "stdout",
     "output_type": "stream",
     "text": [
      "Validation batches production costs a total of 0.0723 seconds!\n",
      "Start checking train loss for partition num: 8 hop layer: 2\n",
      "\n",
      "====================================================================================================\n",
      "Start to generate the global edge weights\n",
      "Edge weights creation costs a total of 0.0258 seconds!\n",
      "Start to generate the clustering machine:\n",
      "Batch machine creation costs a total of 0.0304 seconds!\n",
      "\n",
      " Information about the content of ./tmp/\n",
      "File name: [ input_edge_weight_list.csv ]; with size: 267.9462890625 KB\n",
      "\n",
      "Start to split data into train, test, validation:\n",
      "Data splitting costs a total of 0.0006 seconds!\n",
      "\n",
      "====================================================================================================\n",
      "\n",
      "====================================================================================================\n",
      "Batch machine reading costs a total of 0.0074 seconds!\n",
      "\n",
      " Information about the content of ./train/\n",
      "File name: [ batch_1 ]; with size: 3996.5791015625 KB\n",
      "File name: [ batch_7 ]; with size: 4564.7666015625 KB\n",
      "File name: [ batch_3 ]; with size: 4205.6416015625 KB\n",
      "File name: [ batch_4 ]; with size: 4951.2666015625 KB\n",
      "File name: [ batch_6 ]; with size: 4371.3837890625 KB\n",
      "File name: [ batch_0 ]; with size: 4074.1962890625 KB\n",
      "File name: [ batch_5 ]; with size: 3882.6728515625 KB\n",
      "File name: [ batch_2 ]; with size: 3840.7197265625 KB\n",
      "\n",
      "====================================================================================================\n",
      "Batch machine reading costs a total of 0.0072 seconds!\n",
      "Validation batches production costs a total of 0.0801 seconds!\n",
      "Start checking train loss for partition num: 8 hop layer: 3\n",
      "\n",
      "====================================================================================================\n",
      "Start to generate the global edge weights\n",
      "Edge weights creation costs a total of 0.0252 seconds!\n",
      "Start to generate the clustering machine:\n",
      "Batch machine creation costs a total of 0.0306 seconds!\n",
      "\n",
      " Information about the content of ./tmp/\n",
      "File name: [ input_edge_weight_list.csv ]; with size: 267.9462890625 KB\n",
      "\n",
      "Start to split data into train, test, validation:\n",
      "Data splitting costs a total of 0.0008 seconds!\n",
      "\n",
      "====================================================================================================\n",
      "\n",
      "====================================================================================================\n",
      "Batch machine reading costs a total of 0.0069 seconds!\n",
      "\n",
      " Information about the content of ./train/\n",
      "File name: [ batch_1 ]; with size: 9609.7041015625 KB\n",
      "File name: [ batch_7 ]; with size: 9318.1259765625 KB\n",
      "File name: [ batch_3 ]; with size: 8800.2509765625 KB\n",
      "File name: [ batch_4 ]; with size: 9106.8525390625 KB\n",
      "File name: [ batch_6 ]; with size: 9353.0244140625 KB\n",
      "File name: [ batch_0 ]; with size: 9266.1494140625 KB\n",
      "File name: [ batch_5 ]; with size: 8831.5400390625 KB\n",
      "File name: [ batch_2 ]; with size: 9692.5166015625 KB\n",
      "\n",
      "====================================================================================================\n",
      "Batch machine reading costs a total of 0.0395 seconds!\n",
      "Validation batches production costs a total of 0.0814 seconds!\n"
     ]
    },
    {
     "data": {
      "text/plain": [
       "<Figure size 432x288 with 0 Axes>"
      ]
     },
     "metadata": {},
     "output_type": "display_data"
    },
    {
     "data": {
      "text/plain": [
       "<Figure size 432x288 with 0 Axes>"
      ]
     },
     "metadata": {},
     "output_type": "display_data"
    },
    {
     "data": {
      "text/plain": [
       "<Figure size 432x288 with 0 Axes>"
      ]
     },
     "metadata": {},
     "output_type": "display_data"
    },
    {
     "data": {
      "text/plain": [
       "<Figure size 432x288 with 0 Axes>"
      ]
     },
     "metadata": {},
     "output_type": "display_data"
    },
    {
     "data": {
      "text/plain": [
       "<Figure size 432x288 with 0 Axes>"
      ]
     },
     "metadata": {},
     "output_type": "display_data"
    },
    {
     "data": {
      "text/plain": [
       "<Figure size 432x288 with 0 Axes>"
      ]
     },
     "metadata": {},
     "output_type": "display_data"
    },
    {
     "data": {
      "text/plain": [
       "<Figure size 432x288 with 0 Axes>"
      ]
     },
     "metadata": {},
     "output_type": "display_data"
    },
    {
     "data": {
      "text/plain": [
       "<Figure size 432x288 with 0 Axes>"
      ]
     },
     "metadata": {},
     "output_type": "display_data"
    },
    {
     "data": {
      "text/plain": [
       "<Figure size 432x288 with 0 Axes>"
      ]
     },
     "metadata": {},
     "output_type": "display_data"
    },
    {
     "data": {
      "image/png": "[encoded data removed]",
      "text/plain": [
       "<Figure size 432x288 with 1 Axes>"
      ]
     },
     "metadata": {},
     "output_type": "display_data"
    }
   ],
   "source": [
    "# check convergence\n",
    "output_train_loss(data, data_name, dataset, image_data_path, intermediate_data_folder, partition_nums, layers, \\\n",
    "                  train_frac = 1.0, validation_frac = 1.0, valid_part_num = 2, \\\n",
    "                  dropout = 0.3, lr = 0.0001, weight_decay = 0.001, mini_epoch_num = 20)"
   ]
  },
  {
   "cell_type": "markdown",
   "metadata": {},
   "source": [
    "### Check in_train performance"
   ]
  },
  {
   "cell_type": "code",
   "execution_count": 24,
   "metadata": {},
   "outputs": [
    {
     "name": "stdout",
     "output_type": "stream",
     "text": [
      "Start running for partition num: 2 hop layer 1\n",
      "\n",
      "====================================================================================================\n",
      "Start to generate the global edge weights\n",
      "Edge weights creation costs a total of 0.0259 seconds!\n",
      "Start to generate the clustering machine:\n",
      "Batch machine creation costs a total of 0.0319 seconds!\n",
      "\n",
      " Information about the content of ./tmp/\n",
      "File name: [ input_edge_weight_list.csv ]; with size: 267.9462890625 KB\n",
      "\n",
      "Start to split data into train, test, validation:\n",
      "Data splitting costs a total of 0.0006 seconds!\n",
      "\n",
      "====================================================================================================\n",
      "\n",
      "====================================================================================================\n",
      "Batch machine reading costs a total of 0.0070 seconds!\n",
      "\n",
      " Information about the content of ./train/\n",
      "File name: [ batch_1 ]; with size: 3387.8369140625 KB\n",
      "File name: [ batch_0 ]; with size: 3261.2744140625 KB\n",
      "\n",
      "====================================================================================================\n",
      "Batch machine reading costs a total of 0.0073 seconds!\n",
      "Validation batches production costs a total of 0.1089 seconds!\n",
      "Start running for partition num: 2 hop layer 2\n",
      "\n",
      "====================================================================================================\n",
      "Start to generate the global edge weights\n",
      "Edge weights creation costs a total of 0.0260 seconds!\n",
      "Start to generate the clustering machine:\n",
      "Batch machine creation costs a total of 0.0304 seconds!\n",
      "\n",
      " Information about the content of ./tmp/\n",
      "File name: [ input_edge_weight_list.csv ]; with size: 267.9462890625 KB\n",
      "\n",
      "Start to split data into train, test, validation:\n",
      "Data splitting costs a total of 0.0006 seconds!\n",
      "\n",
      "====================================================================================================\n",
      "\n",
      "====================================================================================================\n",
      "Batch machine reading costs a total of 0.0071 seconds!\n",
      "\n",
      " Information about the content of ./train/\n",
      "File name: [ batch_1 ]; with size: 9247.5634765625 KB\n",
      "File name: [ batch_0 ]; with size: 9631.5478515625 KB\n",
      "\n",
      "====================================================================================================\n",
      "Batch machine reading costs a total of 0.0073 seconds!\n",
      "Validation batches production costs a total of 0.0813 seconds!\n",
      "Start running for partition num: 2 hop layer 3\n",
      "\n",
      "====================================================================================================\n",
      "Start to generate the global edge weights\n",
      "Edge weights creation costs a total of 0.0254 seconds!\n",
      "Start to generate the clustering machine:\n",
      "Batch machine creation costs a total of 0.0318 seconds!\n",
      "\n",
      " Information about the content of ./tmp/\n",
      "File name: [ input_edge_weight_list.csv ]; with size: 267.9462890625 KB\n",
      "\n",
      "Start to split data into train, test, validation:\n",
      "Data splitting costs a total of 0.0006 seconds!\n",
      "\n",
      "====================================================================================================\n",
      "\n",
      "====================================================================================================\n",
      "Batch machine reading costs a total of 0.0067 seconds!\n",
      "\n",
      " Information about the content of ./train/\n",
      "File name: [ batch_1 ]; with size: 12625.8447265625 KB\n",
      "File name: [ batch_0 ]; with size: 12958.9306640625 KB\n",
      "\n",
      "====================================================================================================\n",
      "Batch machine reading costs a total of 0.0073 seconds!\n",
      "Validation batches production costs a total of 0.1243 seconds!\n",
      "Start running for partition num: 4 hop layer 1\n",
      "\n",
      "====================================================================================================\n",
      "Start to generate the global edge weights\n",
      "Edge weights creation costs a total of 0.0257 seconds!\n",
      "Start to generate the clustering machine:\n",
      "Batch machine creation costs a total of 0.0317 seconds!\n",
      "\n",
      " Information about the content of ./tmp/\n",
      "File name: [ input_edge_weight_list.csv ]; with size: 267.9462890625 KB\n",
      "\n",
      "Start to split data into train, test, validation:\n",
      "Data splitting costs a total of 0.0006 seconds!\n",
      "\n",
      "====================================================================================================\n",
      "\n",
      "====================================================================================================\n",
      "Batch machine reading costs a total of 0.0066 seconds!\n",
      "\n",
      " Information about the content of ./train/\n",
      "File name: [ batch_1 ]; with size: 1575.6728515625 KB\n",
      "File name: [ batch_3 ]; with size: 1568.8212890625 KB\n",
      "File name: [ batch_0 ]; with size: 1695.9853515625 KB\n",
      "File name: [ batch_2 ]; with size: 3063.3291015625 KB\n",
      "\n",
      "====================================================================================================\n",
      "Batch machine reading costs a total of 0.0074 seconds!\n",
      "Validation batches production costs a total of 0.1096 seconds!\n",
      "Start running for partition num: 4 hop layer 2\n",
      "\n",
      "====================================================================================================\n",
      "Start to generate the global edge weights\n",
      "Edge weights creation costs a total of 0.0256 seconds!\n",
      "Start to generate the clustering machine:\n",
      "Batch machine creation costs a total of 0.0318 seconds!\n",
      "\n",
      " Information about the content of ./tmp/\n",
      "File name: [ input_edge_weight_list.csv ]; with size: 267.9462890625 KB\n",
      "\n",
      "Start to split data into train, test, validation:\n",
      "Data splitting costs a total of 0.0006 seconds!\n",
      "\n",
      "====================================================================================================\n",
      "\n",
      "====================================================================================================\n",
      "Batch machine reading costs a total of 0.0066 seconds!\n",
      "\n",
      " Information about the content of ./train/\n",
      "File name: [ batch_1 ]; with size: 6896.7275390625 KB\n",
      "File name: [ batch_3 ]; with size: 6584.8759765625 KB\n",
      "File name: [ batch_0 ]; with size: 6464.6572265625 KB\n",
      "File name: [ batch_2 ]; with size: 6844.5400390625 KB\n",
      "\n",
      "====================================================================================================\n",
      "Batch machine reading costs a total of 0.0071 seconds!\n",
      "Validation batches production costs a total of 0.1252 seconds!\n"
     ]
    },
    {
     "name": "stderr",
     "output_type": "stream",
     "text": [
      "/home/xiangli/anaconda3/envs/pytorch_geometric/lib/python3.7/site-packages/seaborn/axisgrid.py:311: RuntimeWarning: More than 20 figures have been opened. Figures created through the pyplot interface (`matplotlib.pyplot.figure`) are retained until explicitly closed and may consume too much memory. (To control this warning, see the rcParam `figure.max_open_warning`).\n",
      "  fig, axes = plt.subplots(nrow, ncol, **kwargs)\n"
     ]
    },
    {
     "name": "stdout",
     "output_type": "stream",
     "text": [
      "Start running for partition num: 4 hop layer 3\n",
      "\n",
      "====================================================================================================\n",
      "Start to generate the global edge weights\n",
      "Edge weights creation costs a total of 0.0257 seconds!\n",
      "Start to generate the clustering machine:\n",
      "Batch machine creation costs a total of 0.0321 seconds!\n",
      "\n",
      " Information about the content of ./tmp/\n",
      "File name: [ input_edge_weight_list.csv ]; with size: 267.9462890625 KB\n",
      "\n",
      "Start to split data into train, test, validation:\n",
      "Data splitting costs a total of 0.0006 seconds!\n",
      "\n",
      "====================================================================================================\n",
      "\n",
      "====================================================================================================\n",
      "Batch machine reading costs a total of 0.0070 seconds!\n",
      "\n",
      " Information about the content of ./train/\n",
      "File name: [ batch_1 ]; with size: 11615.8291015625 KB\n",
      "File name: [ batch_3 ]; with size: 11235.6181640625 KB\n",
      "File name: [ batch_0 ]; with size: 11350.7900390625 KB\n",
      "File name: [ batch_2 ]; with size: 11242.3134765625 KB\n",
      "\n",
      "====================================================================================================\n",
      "Batch machine reading costs a total of 0.0075 seconds!\n",
      "Validation batches production costs a total of 0.1238 seconds!\n"
     ]
    },
    {
     "name": "stderr",
     "output_type": "stream",
     "text": [
      "/home/xiangli/anaconda3/envs/pytorch_geometric/lib/python3.7/site-packages/ipykernel_launcher.py:58: RuntimeWarning: More than 20 figures have been opened. Figures created through the pyplot interface (`matplotlib.pyplot.figure`) are retained until explicitly closed and may consume too much memory. (To control this warning, see the rcParam `figure.max_open_warning`).\n",
      "/home/xiangli/anaconda3/envs/pytorch_geometric/lib/python3.7/site-packages/seaborn/axisgrid.py:311: RuntimeWarning: More than 20 figures have been opened. Figures created through the pyplot interface (`matplotlib.pyplot.figure`) are retained until explicitly closed and may consume too much memory. (To control this warning, see the rcParam `figure.max_open_warning`).\n",
      "  fig, axes = plt.subplots(nrow, ncol, **kwargs)\n",
      "/home/xiangli/anaconda3/envs/pytorch_geometric/lib/python3.7/site-packages/ipykernel_launcher.py:58: RuntimeWarning: More than 20 figures have been opened. Figures created through the pyplot interface (`matplotlib.pyplot.figure`) are retained until explicitly closed and may consume too much memory. (To control this warning, see the rcParam `figure.max_open_warning`).\n",
      "/home/xiangli/anaconda3/envs/pytorch_geometric/lib/python3.7/site-packages/seaborn/axisgrid.py:311: RuntimeWarning: More than 20 figures have been opened. Figures created through the pyplot interface (`matplotlib.pyplot.figure`) are retained until explicitly closed and may consume too much memory. (To control this warning, see the rcParam `figure.max_open_warning`).\n",
      "  fig, axes = plt.subplots(nrow, ncol, **kwargs)\n"
     ]
    },
    {
     "name": "stdout",
     "output_type": "stream",
     "text": [
      "Start running for partition num: 8 hop layer 1\n",
      "\n",
      "====================================================================================================\n",
      "Start to generate the global edge weights\n",
      "Edge weights creation costs a total of 0.0255 seconds!\n",
      "Start to generate the clustering machine:\n",
      "Batch machine creation costs a total of 0.0313 seconds!\n",
      "\n",
      " Information about the content of ./tmp/\n",
      "File name: [ input_edge_weight_list.csv ]; with size: 267.9462890625 KB\n",
      "\n",
      "Start to split data into train, test, validation:\n",
      "Data splitting costs a total of 0.0006 seconds!\n",
      "\n",
      "====================================================================================================\n",
      "\n",
      "====================================================================================================\n",
      "Batch machine reading costs a total of 0.0069 seconds!\n",
      "\n",
      " Information about the content of ./train/\n",
      "File name: [ batch_1 ]; with size: 761.302734375 KB\n",
      "File name: [ batch_7 ]; with size: 852.458984375 KB\n",
      "File name: [ batch_3 ]; with size: 733.021484375 KB\n",
      "File name: [ batch_4 ]; with size: 761.888671875 KB\n",
      "File name: [ batch_6 ]; with size: 715.091796875 KB\n",
      "File name: [ batch_0 ]; with size: 807.083984375 KB\n",
      "File name: [ batch_5 ]; with size: 968.099609375 KB\n",
      "File name: [ batch_2 ]; with size: 801.380859375 KB\n",
      "\n",
      "====================================================================================================\n",
      "Batch machine reading costs a total of 0.0075 seconds!\n",
      "Validation batches production costs a total of 0.0710 seconds!\n"
     ]
    },
    {
     "name": "stderr",
     "output_type": "stream",
     "text": [
      "/home/xiangli/anaconda3/envs/pytorch_geometric/lib/python3.7/site-packages/ipykernel_launcher.py:58: RuntimeWarning: More than 20 figures have been opened. Figures created through the pyplot interface (`matplotlib.pyplot.figure`) are retained until explicitly closed and may consume too much memory. (To control this warning, see the rcParam `figure.max_open_warning`).\n",
      "/home/xiangli/anaconda3/envs/pytorch_geometric/lib/python3.7/site-packages/seaborn/axisgrid.py:311: RuntimeWarning: More than 20 figures have been opened. Figures created through the pyplot interface (`matplotlib.pyplot.figure`) are retained until explicitly closed and may consume too much memory. (To control this warning, see the rcParam `figure.max_open_warning`).\n",
      "  fig, axes = plt.subplots(nrow, ncol, **kwargs)\n",
      "/home/xiangli/anaconda3/envs/pytorch_geometric/lib/python3.7/site-packages/ipykernel_launcher.py:58: RuntimeWarning: More than 20 figures have been opened. Figures created through the pyplot interface (`matplotlib.pyplot.figure`) are retained until explicitly closed and may consume too much memory. (To control this warning, see the rcParam `figure.max_open_warning`).\n",
      "/home/xiangli/anaconda3/envs/pytorch_geometric/lib/python3.7/site-packages/seaborn/axisgrid.py:311: RuntimeWarning: More than 20 figures have been opened. Figures created through the pyplot interface (`matplotlib.pyplot.figure`) are retained until explicitly closed and may consume too much memory. (To control this warning, see the rcParam `figure.max_open_warning`).\n",
      "  fig, axes = plt.subplots(nrow, ncol, **kwargs)\n"
     ]
    },
    {
     "name": "stdout",
     "output_type": "stream",
     "text": [
      "Start running for partition num: 8 hop layer 2\n",
      "\n",
      "====================================================================================================\n",
      "Start to generate the global edge weights\n",
      "Edge weights creation costs a total of 0.0259 seconds!\n",
      "Start to generate the clustering machine:\n",
      "Batch machine creation costs a total of 0.0317 seconds!\n",
      "\n",
      " Information about the content of ./tmp/\n",
      "File name: [ input_edge_weight_list.csv ]; with size: 267.9462890625 KB\n",
      "\n",
      "Start to split data into train, test, validation:\n",
      "Data splitting costs a total of 0.0006 seconds!\n",
      "\n",
      "====================================================================================================\n",
      "\n",
      "====================================================================================================\n",
      "Batch machine reading costs a total of 0.0070 seconds!\n",
      "\n",
      " Information about the content of ./train/\n",
      "File name: [ batch_1 ]; with size: 5125.9931640625 KB\n",
      "File name: [ batch_7 ]; with size: 4558.3994140625 KB\n",
      "File name: [ batch_3 ]; with size: 4476.8916015625 KB\n",
      "File name: [ batch_4 ]; with size: 3398.2197265625 KB\n",
      "File name: [ batch_6 ]; with size: 4870.8369140625 KB\n",
      "File name: [ batch_0 ]; with size: 4703.7275390625 KB\n",
      "File name: [ batch_5 ]; with size: 4669.0009765625 KB\n",
      "File name: [ batch_2 ]; with size: 4813.4541015625 KB\n",
      "\n",
      "====================================================================================================\n",
      "Batch machine reading costs a total of 0.0072 seconds!\n",
      "Validation batches production costs a total of 0.1214 seconds!\n"
     ]
    },
    {
     "name": "stderr",
     "output_type": "stream",
     "text": [
      "/home/xiangli/anaconda3/envs/pytorch_geometric/lib/python3.7/site-packages/ipykernel_launcher.py:58: RuntimeWarning: More than 20 figures have been opened. Figures created through the pyplot interface (`matplotlib.pyplot.figure`) are retained until explicitly closed and may consume too much memory. (To control this warning, see the rcParam `figure.max_open_warning`).\n",
      "/home/xiangli/anaconda3/envs/pytorch_geometric/lib/python3.7/site-packages/seaborn/axisgrid.py:311: RuntimeWarning: More than 20 figures have been opened. Figures created through the pyplot interface (`matplotlib.pyplot.figure`) are retained until explicitly closed and may consume too much memory. (To control this warning, see the rcParam `figure.max_open_warning`).\n",
      "  fig, axes = plt.subplots(nrow, ncol, **kwargs)\n",
      "/home/xiangli/anaconda3/envs/pytorch_geometric/lib/python3.7/site-packages/ipykernel_launcher.py:58: RuntimeWarning: More than 20 figures have been opened. Figures created through the pyplot interface (`matplotlib.pyplot.figure`) are retained until explicitly closed and may consume too much memory. (To control this warning, see the rcParam `figure.max_open_warning`).\n",
      "/home/xiangli/anaconda3/envs/pytorch_geometric/lib/python3.7/site-packages/seaborn/axisgrid.py:311: RuntimeWarning: More than 20 figures have been opened. Figures created through the pyplot interface (`matplotlib.pyplot.figure`) are retained until explicitly closed and may consume too much memory. (To control this warning, see the rcParam `figure.max_open_warning`).\n",
      "  fig, axes = plt.subplots(nrow, ncol, **kwargs)\n"
     ]
    },
    {
     "name": "stdout",
     "output_type": "stream",
     "text": [
      "Start running for partition num: 8 hop layer 3\n",
      "\n",
      "====================================================================================================\n",
      "Start to generate the global edge weights\n",
      "Edge weights creation costs a total of 0.0254 seconds!\n",
      "Start to generate the clustering machine:\n",
      "Batch machine creation costs a total of 0.0313 seconds!\n",
      "\n",
      " Information about the content of ./tmp/\n",
      "File name: [ input_edge_weight_list.csv ]; with size: 267.9462890625 KB\n",
      "\n",
      "Start to split data into train, test, validation:\n",
      "Data splitting costs a total of 0.0006 seconds!\n",
      "\n",
      "====================================================================================================\n",
      "\n",
      "====================================================================================================\n",
      "Batch machine reading costs a total of 0.0070 seconds!\n",
      "\n",
      " Information about the content of ./train/\n",
      "File name: [ batch_1 ]; with size: 8920.7587890625 KB\n",
      "File name: [ batch_7 ]; with size: 8177.6181640625 KB\n",
      "File name: [ batch_3 ]; with size: 9564.1962890625 KB\n",
      "File name: [ batch_4 ]; with size: 10036.1494140625 KB\n",
      "File name: [ batch_6 ]; with size: 9069.3916015625 KB\n",
      "File name: [ batch_0 ]; with size: 8165.8369140625 KB\n",
      "File name: [ batch_5 ]; with size: 9927.6728515625 KB\n",
      "File name: [ batch_2 ]; with size: 9814.3916015625 KB\n",
      "\n",
      "====================================================================================================\n",
      "Batch machine reading costs a total of 0.0072 seconds!\n",
      "Validation batches production costs a total of 0.1234 seconds!\n"
     ]
    },
    {
     "name": "stderr",
     "output_type": "stream",
     "text": [
      "/home/xiangli/anaconda3/envs/pytorch_geometric/lib/python3.7/site-packages/ipykernel_launcher.py:58: RuntimeWarning: More than 20 figures have been opened. Figures created through the pyplot interface (`matplotlib.pyplot.figure`) are retained until explicitly closed and may consume too much memory. (To control this warning, see the rcParam `figure.max_open_warning`).\n",
      "/home/xiangli/anaconda3/envs/pytorch_geometric/lib/python3.7/site-packages/seaborn/axisgrid.py:311: RuntimeWarning: More than 20 figures have been opened. Figures created through the pyplot interface (`matplotlib.pyplot.figure`) are retained until explicitly closed and may consume too much memory. (To control this warning, see the rcParam `figure.max_open_warning`).\n",
      "  fig, axes = plt.subplots(nrow, ncol, **kwargs)\n",
      "/home/xiangli/anaconda3/envs/pytorch_geometric/lib/python3.7/site-packages/ipykernel_launcher.py:58: RuntimeWarning: More than 20 figures have been opened. Figures created through the pyplot interface (`matplotlib.pyplot.figure`) are retained until explicitly closed and may consume too much memory. (To control this warning, see the rcParam `figure.max_open_warning`).\n",
      "/home/xiangli/anaconda3/envs/pytorch_geometric/lib/python3.7/site-packages/seaborn/axisgrid.py:311: RuntimeWarning: More than 20 figures have been opened. Figures created through the pyplot interface (`matplotlib.pyplot.figure`) are retained until explicitly closed and may consume too much memory. (To control this warning, see the rcParam `figure.max_open_warning`).\n",
      "  fig, axes = plt.subplots(nrow, ncol, **kwargs)\n"
     ]
    },
    {
     "data": {
      "text/plain": [
       "<Figure size 432x288 with 0 Axes>"
      ]
     },
     "metadata": {},
     "output_type": "display_data"
    },
    {
     "data": {
      "text/plain": [
       "<Figure size 432x288 with 0 Axes>"
      ]
     },
     "metadata": {},
     "output_type": "display_data"
    },
    {
     "data": {
      "text/plain": [
       "<Figure size 360x360 with 0 Axes>"
      ]
     },
     "metadata": {},
     "output_type": "display_data"
    },
    {
     "data": {
      "text/plain": [
       "<Figure size 432x288 with 0 Axes>"
      ]
     },
     "metadata": {},
     "output_type": "display_data"
    },
    {
     "data": {
      "text/plain": [
       "<Figure size 360x360 with 0 Axes>"
      ]
     },
     "metadata": {},
     "output_type": "display_data"
    },
    {
     "data": {
      "text/plain": [
       "<Figure size 432x288 with 0 Axes>"
      ]
     },
     "metadata": {},
     "output_type": "display_data"
    },
    {
     "data": {
      "text/plain": [
       "<Figure size 360x360 with 0 Axes>"
      ]
     },
     "metadata": {},
     "output_type": "display_data"
    },
    {
     "data": {
      "text/plain": [
       "<Figure size 432x288 with 0 Axes>"
      ]
     },
     "metadata": {},
     "output_type": "display_data"
    },
    {
     "data": {
      "text/plain": [
       "<Figure size 360x360 with 0 Axes>"
      ]
     },
     "metadata": {},
     "output_type": "display_data"
    },
    {
     "data": {
      "text/plain": [
       "<Figure size 432x288 with 0 Axes>"
      ]
     },
     "metadata": {},
     "output_type": "display_data"
    },
    {
     "data": {
      "text/plain": [
       "<Figure size 360x360 with 0 Axes>"
      ]
     },
     "metadata": {},
     "output_type": "display_data"
    },
    {
     "data": {
      "text/plain": [
       "<Figure size 432x288 with 0 Axes>"
      ]
     },
     "metadata": {},
     "output_type": "display_data"
    },
    {
     "data": {
      "text/plain": [
       "<Figure size 360x360 with 0 Axes>"
      ]
     },
     "metadata": {},
     "output_type": "display_data"
    },
    {
     "data": {
      "text/plain": [
       "<Figure size 432x288 with 0 Axes>"
      ]
     },
     "metadata": {},
     "output_type": "display_data"
    },
    {
     "data": {
      "text/plain": [
       "<Figure size 360x360 with 0 Axes>"
      ]
     },
     "metadata": {},
     "output_type": "display_data"
    },
    {
     "data": {
      "text/plain": [
       "<Figure size 432x288 with 0 Axes>"
      ]
     },
     "metadata": {},
     "output_type": "display_data"
    },
    {
     "data": {
      "text/plain": [
       "<Figure size 360x360 with 0 Axes>"
      ]
     },
     "metadata": {},
     "output_type": "display_data"
    },
    {
     "data": {
      "text/plain": [
       "<Figure size 432x288 with 0 Axes>"
      ]
     },
     "metadata": {},
     "output_type": "display_data"
    },
    {
     "data": {
      "text/plain": [
       "<Figure size 360x360 with 0 Axes>"
      ]
     },
     "metadata": {},
     "output_type": "display_data"
    },
    {
     "data": {
      "text/plain": [
       "<Figure size 432x288 with 0 Axes>"
      ]
     },
     "metadata": {},
     "output_type": "display_data"
    },
    {
     "data": {
      "text/plain": [
       "<Figure size 360x360 with 0 Axes>"
      ]
     },
     "metadata": {},
     "output_type": "display_data"
    },
    {
     "data": {
      "text/plain": [
       "<Figure size 432x288 with 0 Axes>"
      ]
     },
     "metadata": {},
     "output_type": "display_data"
    },
    {
     "data": {
      "text/plain": [
       "<Figure size 360x360 with 0 Axes>"
      ]
     },
     "metadata": {},
     "output_type": "display_data"
    },
    {
     "data": {
      "text/plain": [
       "<Figure size 432x288 with 0 Axes>"
      ]
     },
     "metadata": {},
     "output_type": "display_data"
    },
    {
     "data": {
      "text/plain": [
       "<Figure size 360x360 with 0 Axes>"
      ]
     },
     "metadata": {},
     "output_type": "display_data"
    },
    {
     "data": {
      "text/plain": [
       "<Figure size 432x288 with 0 Axes>"
      ]
     },
     "metadata": {},
     "output_type": "display_data"
    },
    {
     "data": {
      "text/plain": [
       "<Figure size 360x360 with 0 Axes>"
      ]
     },
     "metadata": {},
     "output_type": "display_data"
    },
    {
     "data": {
      "text/plain": [
       "<Figure size 432x288 with 0 Axes>"
      ]
     },
     "metadata": {},
     "output_type": "display_data"
    },
    {
     "data": {
      "text/plain": [
       "<Figure size 360x360 with 0 Axes>"
      ]
     },
     "metadata": {},
     "output_type": "display_data"
    },
    {
     "data": {
      "text/plain": [
       "<Figure size 432x288 with 0 Axes>"
      ]
     },
     "metadata": {},
     "output_type": "display_data"
    },
    {
     "data": {
      "text/plain": [
       "<Figure size 360x360 with 0 Axes>"
      ]
     },
     "metadata": {},
     "output_type": "display_data"
    },
    {
     "data": {
      "text/plain": [
       "<Figure size 432x288 with 0 Axes>"
      ]
     },
     "metadata": {},
     "output_type": "display_data"
    },
    {
     "data": {
      "text/plain": [
       "<Figure size 360x360 with 0 Axes>"
      ]
     },
     "metadata": {},
     "output_type": "display_data"
    },
    {
     "data": {
      "text/plain": [
       "<Figure size 432x288 with 0 Axes>"
      ]
     },
     "metadata": {},
     "output_type": "display_data"
    },
    {
     "data": {
      "text/plain": [
       "<Figure size 360x360 with 0 Axes>"
      ]
     },
     "metadata": {},
     "output_type": "display_data"
    },
    {
     "data": {
      "text/plain": [
       "<Figure size 432x288 with 0 Axes>"
      ]
     },
     "metadata": {},
     "output_type": "display_data"
    },
    {
     "data": {
      "image/png": "[encoded data removed]",
      "text/plain": [
       "<Figure size 360x360 with 1 Axes>"
      ]
     },
     "metadata": {},
     "output_type": "display_data"
    }
   ],
   "source": [
    "output_train_investigate(data, data_name, dataset, image_data_path, intermediate_data_folder, partition_nums, layers, \\\n",
    "                         train_frac = 1.0, validation_frac = 1.0, valid_part_num = 2, \\\n",
    "                         dropout = 0.3, lr = 0.0001, weight_decay = 0.001, mini_epoch_num = 20, output_period = 40)"
   ]
  },
  {
   "cell_type": "markdown",
   "metadata": {},
   "source": [
    "### CiteSeer Dataset"
   ]
  },
  {
   "cell_type": "code",
   "execution_count": null,
   "metadata": {},
   "outputs": [],
   "source": [
    "from torch_geometric.datasets import Planetoid\n",
    "data_name = 'CiteSeer'\n",
    "dataset = Planetoid(root = local_data_root + 'Planetoid/CiteSeer', name=data_name)\n",
    "data = dataset[0]\n",
    "image_data_path = './results/' + data_name + '/' + test_folder_name\n",
    "\n",
    "partition_nums = [2, 4, 8]\n",
    "layers = [[], [16], [16, 16]]"
   ]
  },
  {
   "cell_type": "markdown",
   "metadata": {},
   "source": [
    "### Appendix"
   ]
  },
  {
   "cell_type": "code",
   "execution_count": null,
   "metadata": {},
   "outputs": [],
   "source": [
    "# free GPU memory\n",
    "# !(nvidia-smi | grep 'python' | awk '{ print $3 }' | xargs -n1 kill -9)"
   ]
  },
  {
   "cell_type": "code",
   "execution_count": null,
   "metadata": {},
   "outputs": [],
   "source": []
  }
 ],
 "metadata": {
  "kernelspec": {
   "display_name": "Python [conda env:pytorch_geometric]",
   "language": "python",
   "name": "conda-env-pytorch_geometric-py"
  },
  "language_info": {
   "codemirror_mode": {
    "name": "ipython",
    "version": 3
   },
   "file_extension": ".py",
   "mimetype": "text/x-python",
   "name": "python",
   "nbconvert_exporter": "python",
   "pygments_lexer": "ipython3",
   "version": "3.7.3"
  }
 },
 "nbformat": 4,
 "nbformat_minor": 2
}
