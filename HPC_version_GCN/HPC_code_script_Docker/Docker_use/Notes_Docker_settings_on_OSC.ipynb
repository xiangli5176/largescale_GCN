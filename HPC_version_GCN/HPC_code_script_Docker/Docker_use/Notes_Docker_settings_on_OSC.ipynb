{
 "cells": [
  {
   "cell_type": "code",
   "execution_count": 1,
   "metadata": {},
   "outputs": [
    {
     "data": {
      "text/html": [
       "<style>.container { width:85% !important; }</style>"
      ],
      "text/plain": [
       "<IPython.core.display.HTML object>"
      ]
     },
     "metadata": {},
     "output_type": "display_data"
    }
   ],
   "source": [
    "from IPython.core.display import display, HTML\n",
    "display(HTML(\"<style>.container { width:85% !important; }</style>\"))"
   ]
  },
  {
   "cell_type": "markdown",
   "metadata": {},
   "source": [
    "## Docker settings:"
   ]
  },
  {
   "cell_type": "markdown",
   "metadata": {},
   "source": [
    "### 1. Pulling (download) the image dockerfile for pytorch (similar with tensorflow)"
   ]
  },
  {
   "cell_type": "markdown",
   "metadata": {},
   "source": [
    "<font color=orange>\n",
    "NOTICE:\n",
    "\n",
    "Currently the pytorch image for development version Supporting Cuda 10\n",
    "4 GB too large for the login node on OSC\n",
    "\n",
    "For issues with larger file: See  below\n"
   ]
  },
  {
   "cell_type": "markdown",
   "metadata": {},
   "source": [
    "https://www.osc.edu/resources/available_software/software_list/singularity\n",
    "\n",
    "You might encounter an error while pulling a large Docker image:\n",
    "\n",
    "    [owens-login01]$ singularity pull docker://qimme2/core\n",
    "    FATAL: Unable to pull docker://qiime2/core While running mksquashfs: signal: killed\n",
    "    The process could killed because the image is cached in the home directory which is a slower file system or the image size might exceed a single file size limit.\n",
    "\n",
    "    The solution is to use other file systems like /fs/scratch and $TMPDIR for caches, squashfs temp files and download\n",
    "\n",
    "    [owens-login01]$ qsub -I -l nodes=1:ppn=1\n",
    "    [o0001]$ cd $TMPDIR\n",
    "    [o0001]$ export SINGULARITY_CACHEDIR=$TMPDIR\n",
    "    [o0001]$ export SINGULARITY_TMPDIR=$TMPDIR\n",
    "    [o0001]$ singularity pull docker://qiime2/core:2019.1\n",
    "    [o0001]$ cp qiime2_core_2019.1.sif /where/to/keep/image/  \n",
    "    \n",
    "**NOTE:**\n",
    "\n",
    "- DO not try to run .sif file directly from the \\$TMPDIR , Permission Denied for \\$TMPDIR"
   ]
  },
  {
   "cell_type": "markdown",
   "metadata": {},
   "source": [
    "### 2. Trial nvcc and cuda availability "
   ]
  },
  {
   "cell_type": "markdown",
   "metadata": {},
   "source": [
    "<font color=orange>\n",
    "Before you jump into the gpu version of the pytorch, \n",
    "Need to follow the following procedure to first use a GPU node, and test using torch.cuda\n"
   ]
  },
  {
   "cell_type": "markdown",
   "metadata": {},
   "source": [
    "        If you have a GPU-enabled container you can easily run it on Owens or Pitzer just by adding the --nv flag to the singularity exec or run command.  The example below comes from the exec command section of Singularity User Guide.  It runs a TensorFlow example using a GPU on Owens.  (Output has been omitted from the example for brevity.)\n",
    "\n",
    "        [owens-login01]$ qsub -I -l nodes=1:ppn=28:gpus=1\n",
    "        ...\n",
    "        [o0756]$ cd $PBS_O_WORKDIR\n",
    "        [o0756]$\n",
    "\n",
    "         git clone https://github.com/tensorflow/models.git\n",
    "\n",
    "        [o0756]$\n",
    "\n",
    "         singularity exec --nv ~/Dockers/yourDockerFile.sif python"
   ]
  },
  {
   "cell_type": "markdown",
   "metadata": {},
   "source": [
    "<font color=orange>\n",
    "When you use the python interactive\n",
    "Test the pytorch by:\n",
    "\n",
    "import torch\n",
    "torch.cuda.is_available()\n",
    "\n",
    "Test the tensorflow by:\n",
    "\n",
    "import tensorflow as tf\n",
    "tf.test.is_gpu_available()\n",
    "s"
   ]
  },
  {
   "cell_type": "markdown",
   "metadata": {},
   "source": [
    "### 3. Modify the docker"
   ]
  },
  {
   "cell_type": "markdown",
   "metadata": {},
   "source": [
    "<font color=orange>\n",
    "    \n",
    "Mainly two ways of modifying the dockers:\n",
    "\n",
    "1) modify the source code, i.e. dockerfile\n",
    "\n",
    "2) lauch an established image as a container and use the commit to modify it:\n",
    "\n",
    "    docker run -it original_image_name bash\n",
    "    exit   (after exiting, the container won't be deleted right away)\n",
    "    docker container ls --all     (through --all option, you can still track the last container)\n",
    "    docker commit container-ID To_be_modified_image-name\n"
   ]
  },
  {
   "cell_type": "markdown",
   "metadata": {},
   "source": [
    "Helpful link:\n",
    "\n",
    "https://bobcares.com/blog/edit-docker-image/"
   ]
  },
  {
   "cell_type": "markdown",
   "metadata": {},
   "source": [
    "### 4. NOTICE"
   ]
  },
  {
   "cell_type": "code",
   "execution_count": null,
   "metadata": {},
   "outputs": [],
   "source": [
    "'''\n",
    "1) as for the environmental variable:\n",
    "For the implementation in OSC: \n",
    "The system wide has the highest privileges over the environmental viriable settings:\n",
    "Load or unload specific modules can change the environmental variables:\n",
    "\n",
    "Therefore:\n",
    "a) unload modules if we do not need them\n",
    "\n",
    "b) Do not set PYTHONPATH if you use the docker image otherwise the python packages installed inside\n",
    "   the docker images may not work properly\n",
    "\n",
    "2)  if you need specific environmental settings:\n",
    "    (A) Ease but ugly way:\n",
    "        For general use: like CPATH, PATH, LD_LIBRARY_PATH\n",
    "        set them in ~/.bash_profile : user wide environment\n",
    "        Those variables may be a path relative to the docker image, which is fine\n",
    "        system will ignore it if it did not find it from left to the right\n",
    "        For specific use:\n",
    "        you can set them in the ENV in the dockerfile for a specific docker image\n",
    "        However, you should make sure the variables are not in conflict with the system wide variables\n",
    "        Otherwise, it will always be overriden by the higher privilege settings\n",
    "    (B) More wise and flexible way:\n",
    "        We need this probably because OSC has higher privileges managment of the environment variables\n",
    "        1) Since we use the singulairty to build the .sif image from an established docker image:\n",
    "           Use the entrypoint with export to set a run-time env for the container\n",
    "           The ENV set by the Dockerfile is shadowed especially the variable names conflict with\n",
    "           some system-wide env\n",
    "           However, this run time setting will always work and will append to the existing env from h\n",
    "           System-wide or user-wide anyway with higher privilege\n",
    "           Notice: only the last entrypoint will be executed if you have multiple ones in Dockerfile\n",
    "        2) When you build the singularity file from the local machine then scp to the OSC server:\n",
    "           The same thing happens although you set the %environment section in the definition file\n",
    "           Still the environment is set at runtime and appended to the higher privilege env\n",
    "           \n",
    "3) For CUDA especially:\n",
    "   We have the pytorch with cuda image, no need to load this module\n",
    "'''"
   ]
  },
  {
   "cell_type": "markdown",
   "metadata": {},
   "source": [
    "### Interacting with Singularity on OSC"
   ]
  },
  {
   "cell_type": "markdown",
   "metadata": {},
   "source": [
    "Use singularity shell script to open a shell script of the container"
   ]
  },
  {
   "cell_type": "markdown",
   "metadata": {},
   "source": [
    "#### Use pip to install packages inside the dockerfile"
   ]
  },
  {
   "cell_type": "markdown",
   "metadata": {},
   "source": [
    "Possible issues when we need to uninstall some python modules due to version issue\n",
    "\n",
    "- Uninstall:\n",
    "\n",
    "pip uninstall -y networkx\n",
    "\n",
    "pip install -I networkx==2.3.0    # since 2.4 has some incompatible issues\n",
    "\n"
   ]
  },
  {
   "cell_type": "code",
   "execution_count": null,
   "metadata": {},
   "outputs": [],
   "source": []
  }
 ],
 "metadata": {
  "kernelspec": {
   "display_name": "Python 3",
   "language": "python",
   "name": "python3"
  },
  "language_info": {
   "codemirror_mode": {
    "name": "ipython",
    "version": 3
   },
   "file_extension": ".py",
   "mimetype": "text/x-python",
   "name": "python",
   "nbconvert_exporter": "python",
   "pygments_lexer": "ipython3",
   "version": "3.7.3"
  }
 },
 "nbformat": 4,
 "nbformat_minor": 2
}
