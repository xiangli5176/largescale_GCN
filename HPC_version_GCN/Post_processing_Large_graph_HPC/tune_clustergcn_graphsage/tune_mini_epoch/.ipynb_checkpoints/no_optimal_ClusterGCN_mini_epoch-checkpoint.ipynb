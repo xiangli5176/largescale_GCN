{
 "cells": [
  {
   "cell_type": "markdown",
   "metadata": {},
   "source": [
    "## Results of tuning learning rate\n",
    "\n",
    "Comments:\n",
    "\n",
    "By using the read weighted edge list from a csv file, it saves much space on self.graph\n",
    "\n",
    "This will for specific batch number and hop-layer number"
   ]
  },
  {
   "cell_type": "code",
   "execution_count": 1,
   "metadata": {},
   "outputs": [
    {
     "data": {
      "text/html": [
       "<style>.container { width:90% !important; }</style>"
      ],
      "text/plain": [
       "<IPython.core.display.HTML object>"
      ]
     },
     "metadata": {},
     "output_type": "display_data"
    }
   ],
   "source": [
    "from IPython.core.display import display, HTML\n",
    "display(HTML(\"<style>.container { width:90% !important; }</style>\"))"
   ]
  },
  {
   "cell_type": "code",
   "execution_count": 4,
   "metadata": {},
   "outputs": [],
   "source": [
    "import copy\n",
    "import csv\n",
    "import os\n",
    "import sys\n",
    "import torch\n",
    "import matplotlib.pyplot as plt\n",
    "import networkx as nx\n",
    "import numpy as np\n",
    "import pandas as pd\n",
    "import seaborn as sns\n",
    "from collections import defaultdict\n",
    "import pickle\n",
    "import shutil\n",
    "import time\n",
    "\n",
    "from utils import *\n"
   ]
  },
  {
   "cell_type": "markdown",
   "metadata": {},
   "source": [
    "### Seperate steps for parameter tuning"
   ]
  },
  {
   "cell_type": "code",
   "execution_count": 5,
   "metadata": {},
   "outputs": [],
   "source": [
    "def step50_run_tune_summarize_whole(data_name, image_data_path, intermediate_data_path, tune_param_name, tune_val_label_list, tune_val_list, \\\n",
    "                                    train_batch_num, net_layer_num, trainer_list): \n",
    "    \n",
    "    print('Start running training for partition num: ' + str(train_batch_num))\n",
    "    # set the batch for test and train\n",
    "    img_path = image_data_path + 'cluster_num_' + str(train_batch_num) + '/' + 'net_layer_num_' + str(net_layer_num) + '/'\n",
    "    img_path += 'tuning_parameters/'  # further subfolder for different task\n",
    "\n",
    "    # start to summarize the results into images for output\n",
    "\n",
    "    test_accuracy, test_f1, time_total_train, time_data_load = summarize_tuning_res(img_path, intermediate_data_path, tune_param_name, tune_val_label_list, tune_val_list, trainer_list)\n",
    "\n",
    "    generate_tuning_raw_data_table(test_accuracy, img_path, 'test_acc.csv', tune_param_name)\n",
    "    test_accuracy_file = store_data_multi_tuning(tune_val_list, test_accuracy, data_name, img_path, 'accuracy_cluster_num_' + str(train_batch_num) + 'net_layer_num_' + str(net_layer_num))\n",
    "    draw_data_multi_tests(test_accuracy_file, data_name, 'test_cluster_num_' + str(train_batch_num) + 'net_layer_num_' + str(net_layer_num), 'epochs_per_batch', 'Accuracy')\n",
    "\n",
    "    generate_tuning_raw_data_table(test_f1, img_path, 'test_f1.csv', tune_param_name)\n",
    "    test_f1_file = store_data_multi_tuning(tune_val_list, test_f1, data_name, img_path, 'test_cluster_num_' + str(train_batch_num) + 'net_layer_num_' + str(net_layer_num))\n",
    "    draw_data_multi_tests(test_f1_file, data_name, 'vali_cluster_num_' + str(train_batch_num) + 'net_layer_num_' + str(net_layer_num), 'epochs_per_batch', 'F1 score')\n",
    "\n",
    "    generate_tuning_raw_data_table(time_total_train, img_path, 'time_train_total.csv', tune_param_name)\n",
    "    time_train_file = store_data_multi_tuning(tune_val_list, time_total_train, data_name, img_path, 'train_time_cluster_num_' + str(train_batch_num) + 'net_layer_num_' + str(net_layer_num))\n",
    "    draw_data_multi_tests(time_train_file, data_name, 'train_time_cluster_num_' + str(train_batch_num) + 'net_layer_num_' + str(net_layer_num), 'epochs_per_batch', 'Train Time (ms)')\n",
    "\n",
    "    generate_tuning_raw_data_table(time_data_load, img_path, 'time_load_data.csv', tune_param_name)\n",
    "    time_load_file = store_data_multi_tuning(tune_val_list, time_data_load, data_name, img_path, 'load_time_cluster_num_' + str(train_batch_num) + 'net_layer_num_' + str(net_layer_num))\n",
    "    draw_data_multi_tests(time_load_file, data_name, 'load_time_cluster_num_' + str(train_batch_num) + 'net_layer_num_' + str(net_layer_num), 'epochs_per_batch', 'Load Time (ms)')\n",
    " \n",
    "def step41_run_investigation_summarize_whole(data_name, image_data_path, intermediate_data_path, tune_param_name, tune_val_label, tune_val, \\\n",
    "                                    train_batch_num, net_layer_num, trainer_list, model_epoch_list): \n",
    "    \"\"\"\n",
    "        Train investigation post-processing\n",
    "        Train-validation at the same time\n",
    "    \"\"\"\n",
    "    print('Start summarizing for train batch num: ' + str(train_batch_num) )\n",
    "    # set the batch for validation and train\n",
    "    img_path = image_data_path + 'cluster_num_' + str(train_batch_num) + '/' + 'net_layer_num_' + str(net_layer_num) + '/'\n",
    "    img_path += 'validation_res/tune_' + tune_param_name + '_' + str(tune_val_label) + '/'\n",
    "    # start to summarize the results into images for output\n",
    "\n",
    "    Train_peroid_f1, Train_peroid_accuracy = summarize_investigation_distr_res(img_path, trainer_list, model_epoch_list)\n",
    "\n",
    "    Train_peroid_f1_file = store_data_each_trainer_investigate(Train_peroid_f1, data_name, 'F1_score', img_path, 'validation')\n",
    "    draw_data_validation_F1_trainer(Train_peroid_f1_file, data_name, 'validation', 'epoch number', 'F1 score')\n",
    "    \n",
    "    Train_peroid_accuracy_file = store_data_each_trainer_investigate(Train_peroid_accuracy, data_name, 'Accuracy', img_path, 'validation')\n",
    "    draw_data_validation_F1_trainer(Train_peroid_accuracy_file, data_name, 'validation', 'epoch number', 'Accuracy')\n",
    "    \n",
    "def check_train_loss_converge(image_path, mini_batch_folder, subfolder, data_name, trainer_id = 0):\n",
    "    # mini-batch, but valid also in batches\n",
    "    Trainer_folder = mini_batch_folder + subfolder\n",
    "    trainer_file_name = Trainer_folder + 'GCN_trainer_' + str(trainer_id)\n",
    "    \n",
    "    print('Start to read the GCN trainer model (parameters: weights, bias):')\n",
    "    t1 = time.time()\n",
    "    with open(trainer_file_name, \"rb\") as fp:\n",
    "        gcn_trainer = pickle.load(fp)\n",
    "    read_trainer_time = (time.time() - t1) * 1000\n",
    "    print('Reading the trainer costs a total of {0:.4f} seconds!'.format(read_trainer_time))\n",
    "    \n",
    "    # store the resulting data on the disk\n",
    "    train_loss_path = image_path + 'trainer_loss/' + subfolder\n",
    "    os.makedirs(os.path.dirname(train_loss_path), exist_ok=True)\n",
    "    loss_res_file = train_loss_path + 'loss_trainer_' + str(trainer_id)\n",
    "    \n",
    "    draw_Cluster_train_valid_batch = draw_trainer_info(data_name, gcn_trainer)\n",
    "    draw_Cluster_train_valid_batch.draw_ave_loss_per_node(loss_res_file)"
   ]
  },
  {
   "cell_type": "markdown",
   "metadata": {},
   "source": [
    "### Use data from GraphSaint dataset"
   ]
  },
  {
   "cell_type": "markdown",
   "metadata": {},
   "source": [
    "### Output for the model clusterGCN/GraphSage"
   ]
  },
  {
   "cell_type": "code",
   "execution_count": 6,
   "metadata": {},
   "outputs": [],
   "source": [
    "data_name = 'Yelp'\n",
    "# test_folder_name = 'clusterGCN/'\n",
    "test_folder_name = 'SageGCN/'\n",
    "intermediate_data_folder = './'\n",
    "# here we can switch between models\n",
    "image_data_path = intermediate_data_folder + 'Sage_tune_sample/' + data_name + '/' + test_folder_name\n",
    "# image_data_path = intermediate_data_folder + 'GraphSage_results/' + data_name + '/' + test_folder_name\n",
    "\n",
    "# this is the parts we divide the graph\n",
    "origin_train_batch_num = 64\n",
    "round_num = 1\n",
    "train_batch_num = round_num * origin_train_batch_num\n",
    "\n",
    "# here only the number of layers matter \n",
    "GCN_layer = [128, 128]\n",
    "net_layer_num = len(GCN_layer) + 1\n",
    "# for non-optimization: hop_layer_num == net_layer_num\n",
    "hop_layer_num = net_layer_num\n",
    "\n"
   ]
  },
  {
   "cell_type": "markdown",
   "metadata": {},
   "source": [
    "### Generate validation F1-score during training"
   ]
  },
  {
   "cell_type": "code",
   "execution_count": 10,
   "metadata": {},
   "outputs": [
    {
     "name": "stdout",
     "output_type": "stream",
     "text": [
      "Start summarizing for train batch num: 64\n",
      "Start summarizing for train batch num: 64\n"
     ]
    },
    {
     "ename": "FileNotFoundError",
     "evalue": "[Errno 2] No such file or directory: './Sage_tune_sample/Yelp/SageGCN/cluster_num_64/net_layer_num_3/validation_res/tune_learning_rate_3/validation_trainer_0/model_epoch_40'",
     "output_type": "error",
     "traceback": [
      "\u001b[0;31m---------------------------------------------------------------------------\u001b[0m",
      "\u001b[0;31mFileNotFoundError\u001b[0m                         Traceback (most recent call last)",
      "\u001b[0;32m<ipython-input-10-d560a7a879f8>\u001b[0m in \u001b[0;36m<module>\u001b[0;34m\u001b[0m\n\u001b[1;32m      8\u001b[0m \u001b[0;32mfor\u001b[0m \u001b[0mtune_val_label\u001b[0m\u001b[0;34m,\u001b[0m \u001b[0mtune_val\u001b[0m \u001b[0;32min\u001b[0m \u001b[0mzip\u001b[0m\u001b[0;34m(\u001b[0m\u001b[0mtune_val_label_list\u001b[0m\u001b[0;34m,\u001b[0m \u001b[0mtune_val_list\u001b[0m\u001b[0;34m)\u001b[0m\u001b[0;34m:\u001b[0m\u001b[0;34m\u001b[0m\u001b[0;34m\u001b[0m\u001b[0m\n\u001b[1;32m      9\u001b[0m     step41_run_investigation_summarize_whole(data_name, image_data_path, intermediate_data_folder, tune_param_name, tune_val_label, tune_val, \\\n\u001b[0;32m---> 10\u001b[0;31m                                     train_batch_num, net_layer_num, trainer_list, model_epoch_list)\n\u001b[0m",
      "\u001b[0;32m<ipython-input-5-e83575789cbb>\u001b[0m in \u001b[0;36mstep41_run_investigation_summarize_whole\u001b[0;34m(data_name, image_data_path, intermediate_data_path, tune_param_name, tune_val_label, tune_val, train_batch_num, net_layer_num, trainer_list, model_epoch_list)\u001b[0m\n\u001b[1;32m     39\u001b[0m     \u001b[0;31m# start to summarize the results into images for output\u001b[0m\u001b[0;34m\u001b[0m\u001b[0;34m\u001b[0m\u001b[0;34m\u001b[0m\u001b[0m\n\u001b[1;32m     40\u001b[0m \u001b[0;34m\u001b[0m\u001b[0m\n\u001b[0;32m---> 41\u001b[0;31m     \u001b[0mTrain_peroid_f1\u001b[0m\u001b[0;34m,\u001b[0m \u001b[0mTrain_peroid_accuracy\u001b[0m \u001b[0;34m=\u001b[0m \u001b[0msummarize_investigation_distr_res\u001b[0m\u001b[0;34m(\u001b[0m\u001b[0mimg_path\u001b[0m\u001b[0;34m,\u001b[0m \u001b[0mtrainer_list\u001b[0m\u001b[0;34m,\u001b[0m \u001b[0mmodel_epoch_list\u001b[0m\u001b[0;34m)\u001b[0m\u001b[0;34m\u001b[0m\u001b[0;34m\u001b[0m\u001b[0m\n\u001b[0m\u001b[1;32m     42\u001b[0m \u001b[0;34m\u001b[0m\u001b[0m\n\u001b[1;32m     43\u001b[0m     \u001b[0mTrain_peroid_f1_file\u001b[0m \u001b[0;34m=\u001b[0m \u001b[0mstore_data_each_trainer_investigate\u001b[0m\u001b[0;34m(\u001b[0m\u001b[0mTrain_peroid_f1\u001b[0m\u001b[0;34m,\u001b[0m \u001b[0mdata_name\u001b[0m\u001b[0;34m,\u001b[0m \u001b[0;34m'F1_score'\u001b[0m\u001b[0;34m,\u001b[0m \u001b[0mimg_path\u001b[0m\u001b[0;34m,\u001b[0m \u001b[0;34m'validation'\u001b[0m\u001b[0;34m)\u001b[0m\u001b[0;34m\u001b[0m\u001b[0;34m\u001b[0m\u001b[0m\n",
      "\u001b[0;32m~/projects/GCN_program/largescale_GCN/HPC_version_GCN/Post_processing_Large_graph_HPC/tune_clustergcn_graphsage/tune_mini_epoch/utils.py\u001b[0m in \u001b[0;36msummarize_investigation_distr_res\u001b[0;34m(validation_folder, trainer_list, model_epoch_list)\u001b[0m\n\u001b[1;32m    343\u001b[0m         \u001b[0;32mfor\u001b[0m \u001b[0mvalidation_epoch\u001b[0m \u001b[0;32min\u001b[0m \u001b[0mmodel_epoch_list\u001b[0m\u001b[0;34m:\u001b[0m\u001b[0;34m\u001b[0m\u001b[0;34m\u001b[0m\u001b[0m\n\u001b[1;32m    344\u001b[0m             \u001b[0mres_model_file_name\u001b[0m \u001b[0;34m=\u001b[0m \u001b[0mvalidation_res_folder\u001b[0m \u001b[0;34m+\u001b[0m \u001b[0;34m'model_epoch_'\u001b[0m \u001b[0;34m+\u001b[0m \u001b[0mstr\u001b[0m\u001b[0;34m(\u001b[0m\u001b[0mvalidation_epoch\u001b[0m\u001b[0;34m)\u001b[0m\u001b[0;34m\u001b[0m\u001b[0;34m\u001b[0m\u001b[0m\n\u001b[0;32m--> 345\u001b[0;31m             \u001b[0;32mwith\u001b[0m \u001b[0mopen\u001b[0m\u001b[0;34m(\u001b[0m\u001b[0mres_model_file_name\u001b[0m\u001b[0;34m,\u001b[0m \u001b[0;34m\"rb\"\u001b[0m\u001b[0;34m)\u001b[0m \u001b[0;32mas\u001b[0m \u001b[0mfp\u001b[0m\u001b[0;34m:\u001b[0m\u001b[0;34m\u001b[0m\u001b[0;34m\u001b[0m\u001b[0m\n\u001b[0m\u001b[1;32m    346\u001b[0m                 \u001b[0mf1_epoch\u001b[0m\u001b[0;34m[\u001b[0m\u001b[0mvalidation_epoch\u001b[0m\u001b[0;34m]\u001b[0m\u001b[0;34m,\u001b[0m \u001b[0maccuracy_epoch\u001b[0m\u001b[0;34m[\u001b[0m\u001b[0mvalidation_epoch\u001b[0m\u001b[0;34m]\u001b[0m \u001b[0;34m=\u001b[0m \u001b[0mpickle\u001b[0m\u001b[0;34m.\u001b[0m\u001b[0mload\u001b[0m\u001b[0;34m(\u001b[0m\u001b[0mfp\u001b[0m\u001b[0;34m)\u001b[0m\u001b[0;34m\u001b[0m\u001b[0;34m\u001b[0m\u001b[0m\n\u001b[1;32m    347\u001b[0m \u001b[0;34m\u001b[0m\u001b[0m\n",
      "\u001b[0;31mFileNotFoundError\u001b[0m: [Errno 2] No such file or directory: './Sage_tune_sample/Yelp/SageGCN/cluster_num_64/net_layer_num_3/validation_res/tune_learning_rate_3/validation_trainer_0/model_epoch_40'"
     ]
    },
    {
     "data": {
      "text/plain": [
       "<Figure size 432x288 with 0 Axes>"
      ]
     },
     "metadata": {},
     "output_type": "display_data"
    },
    {
     "data": {
      "text/plain": [
       "<Figure size 432x288 with 0 Axes>"
      ]
     },
     "metadata": {},
     "output_type": "display_data"
    },
    {
     "data": {
      "text/plain": [
       "<Figure size 360x360 with 0 Axes>"
      ]
     },
     "metadata": {},
     "output_type": "display_data"
    },
    {
     "data": {
      "text/plain": [
       "<Figure size 432x288 with 0 Axes>"
      ]
     },
     "metadata": {},
     "output_type": "display_data"
    },
    {
     "data": {
      "image/png": "[encoded data removed]",
      "text/plain": [
       "<Figure size 360x360 with 1 Axes>"
      ]
     },
     "metadata": {},
     "output_type": "display_data"
    }
   ],
   "source": [
    "\n",
    "tune_param_name = 'learning_rate'\n",
    "# tune_val_label_list = [5, 10, 20, 40]\n",
    "tune_val_label_list = [3, 4]\n",
    "tune_val_list = [10**(-label) for label in tune_val_label_list]\n",
    "trainer_list = list(range(2))\n",
    "model_epoch_list = list(range(40, 1201, 40))\n",
    "\n",
    "for tune_val_label, tune_val in zip(tune_val_label_list, tune_val_list):\n",
    "    step41_run_investigation_summarize_whole(data_name, image_data_path, intermediate_data_folder, tune_param_name, tune_val_label, tune_val, \\\n",
    "                                    train_batch_num, net_layer_num, trainer_list, model_epoch_list)"
   ]
  },
  {
   "cell_type": "code",
   "execution_count": 8,
   "metadata": {},
   "outputs": [
    {
     "name": "stdout",
     "output_type": "stream",
     "text": [
      "model_trainer_0  model_trainer_1\r\n"
     ]
    }
   ],
   "source": [
    "!ls ./Sage_tune_sample/Yelp/SageGCN/cluster_num_64/net_layer_num_3/validation_res/tune_learning_rate_2"
   ]
  },
  {
   "cell_type": "markdown",
   "metadata": {},
   "source": [
    "### Results after fixed number of epochs"
   ]
  },
  {
   "cell_type": "code",
   "execution_count": 11,
   "metadata": {},
   "outputs": [
    {
     "name": "stdout",
     "output_type": "stream",
     "text": [
      "Start running training for partition num: 64\n"
     ]
    },
    {
     "ename": "FileNotFoundError",
     "evalue": "[Errno 2] No such file or directory: './test_res/tune_mini_epoch_num_1/res_trainer_0'",
     "output_type": "error",
     "traceback": [
      "\u001b[0;31m---------------------------------------------------------------------------\u001b[0m",
      "\u001b[0;31mFileNotFoundError\u001b[0m                         Traceback (most recent call last)",
      "\u001b[0;32m<ipython-input-11-987aef467bde>\u001b[0m in \u001b[0;36m<module>\u001b[0;34m\u001b[0m\n\u001b[1;32m      5\u001b[0m \u001b[0;34m\u001b[0m\u001b[0m\n\u001b[1;32m      6\u001b[0m step50_run_tune_summarize_whole(data_name, image_data_path, intermediate_data_folder, tune_param_name, tune_val_label_list, tune_val_list, \\\n\u001b[0;32m----> 7\u001b[0;31m                                     train_batch_num, net_layer_num, trainer_list)\n\u001b[0m",
      "\u001b[0;32m<ipython-input-5-e83575789cbb>\u001b[0m in \u001b[0;36mstep50_run_tune_summarize_whole\u001b[0;34m(data_name, image_data_path, intermediate_data_path, tune_param_name, tune_val_label_list, tune_val_list, train_batch_num, net_layer_num, trainer_list)\u001b[0m\n\u001b[1;32m      9\u001b[0m     \u001b[0;31m# start to summarize the results into images for output\u001b[0m\u001b[0;34m\u001b[0m\u001b[0;34m\u001b[0m\u001b[0;34m\u001b[0m\u001b[0m\n\u001b[1;32m     10\u001b[0m \u001b[0;34m\u001b[0m\u001b[0m\n\u001b[0;32m---> 11\u001b[0;31m     \u001b[0mtest_accuracy\u001b[0m\u001b[0;34m,\u001b[0m \u001b[0mtest_f1\u001b[0m\u001b[0;34m,\u001b[0m \u001b[0mtime_total_train\u001b[0m\u001b[0;34m,\u001b[0m \u001b[0mtime_data_load\u001b[0m \u001b[0;34m=\u001b[0m \u001b[0msummarize_tuning_res\u001b[0m\u001b[0;34m(\u001b[0m\u001b[0mimg_path\u001b[0m\u001b[0;34m,\u001b[0m \u001b[0mintermediate_data_path\u001b[0m\u001b[0;34m,\u001b[0m \u001b[0mtune_param_name\u001b[0m\u001b[0;34m,\u001b[0m \u001b[0mtune_val_label_list\u001b[0m\u001b[0;34m,\u001b[0m \u001b[0mtune_val_list\u001b[0m\u001b[0;34m,\u001b[0m \u001b[0mtrainer_list\u001b[0m\u001b[0;34m)\u001b[0m\u001b[0;34m\u001b[0m\u001b[0;34m\u001b[0m\u001b[0m\n\u001b[0m\u001b[1;32m     12\u001b[0m \u001b[0;34m\u001b[0m\u001b[0m\n\u001b[1;32m     13\u001b[0m     \u001b[0mgenerate_tuning_raw_data_table\u001b[0m\u001b[0;34m(\u001b[0m\u001b[0mtest_accuracy\u001b[0m\u001b[0;34m,\u001b[0m \u001b[0mimg_path\u001b[0m\u001b[0;34m,\u001b[0m \u001b[0;34m'test_acc.csv'\u001b[0m\u001b[0;34m,\u001b[0m \u001b[0mtune_param_name\u001b[0m\u001b[0;34m)\u001b[0m\u001b[0;34m\u001b[0m\u001b[0;34m\u001b[0m\u001b[0m\n",
      "\u001b[0;32m~/projects/GCN_program/largescale_GCN/HPC_version_GCN/Post_processing_Large_graph_HPC/tune_clustergcn_graphsage/tune_mini_epoch/utils.py\u001b[0m in \u001b[0;36msummarize_tuning_res\u001b[0;34m(image_path, mini_batch_folder, tune_param_name, tune_val_label_list, tune_val_list, trainer_list)\u001b[0m\n\u001b[1;32m    381\u001b[0m             \u001b[0mtest_res_folder\u001b[0m \u001b[0;34m=\u001b[0m \u001b[0mmini_batch_folder\u001b[0m \u001b[0;34m+\u001b[0m \u001b[0;34m'test_res/tune_'\u001b[0m \u001b[0;34m+\u001b[0m \u001b[0mtune_param_name\u001b[0m \u001b[0;34m+\u001b[0m \u001b[0;34m'_'\u001b[0m \u001b[0;34m+\u001b[0m \u001b[0mstr\u001b[0m\u001b[0;34m(\u001b[0m\u001b[0mtune_val_label\u001b[0m\u001b[0;34m)\u001b[0m \u001b[0;34m+\u001b[0m \u001b[0;34m'/'\u001b[0m\u001b[0;34m\u001b[0m\u001b[0;34m\u001b[0m\u001b[0m\n\u001b[1;32m    382\u001b[0m             \u001b[0mtest_res_file\u001b[0m \u001b[0;34m=\u001b[0m \u001b[0mtest_res_folder\u001b[0m \u001b[0;34m+\u001b[0m \u001b[0;34m'res_trainer_'\u001b[0m \u001b[0;34m+\u001b[0m \u001b[0mstr\u001b[0m\u001b[0;34m(\u001b[0m\u001b[0mtrainer_id\u001b[0m\u001b[0;34m)\u001b[0m\u001b[0;34m\u001b[0m\u001b[0;34m\u001b[0m\u001b[0m\n\u001b[0;32m--> 383\u001b[0;31m             \u001b[0;32mwith\u001b[0m \u001b[0mopen\u001b[0m\u001b[0;34m(\u001b[0m\u001b[0mtest_res_file\u001b[0m\u001b[0;34m,\u001b[0m \u001b[0;34m\"rb\"\u001b[0m\u001b[0;34m)\u001b[0m \u001b[0;32mas\u001b[0m \u001b[0mfp\u001b[0m\u001b[0;34m:\u001b[0m\u001b[0;34m\u001b[0m\u001b[0;34m\u001b[0m\u001b[0m\n\u001b[0m\u001b[1;32m    384\u001b[0m                 \u001b[0mref\u001b[0m\u001b[0;34m[\u001b[0m\u001b[0mtune_val\u001b[0m\u001b[0;34m]\u001b[0m \u001b[0;34m+=\u001b[0m \u001b[0mlist\u001b[0m\u001b[0;34m(\u001b[0m\u001b[0mpickle\u001b[0m\u001b[0;34m.\u001b[0m\u001b[0mload\u001b[0m\u001b[0;34m(\u001b[0m\u001b[0mfp\u001b[0m\u001b[0;34m)\u001b[0m\u001b[0;34m)\u001b[0m\u001b[0;34m\u001b[0m\u001b[0;34m\u001b[0m\u001b[0m\n\u001b[1;32m    385\u001b[0m \u001b[0;34m\u001b[0m\u001b[0m\n",
      "\u001b[0;31mFileNotFoundError\u001b[0m: [Errno 2] No such file or directory: './test_res/tune_mini_epoch_num_1/res_trainer_0'"
     ]
    }
   ],
   "source": [
    "tune_param_name = 'mini_epoch_num'\n",
    "tune_val_label_list = [1, 5, 10, 20]\n",
    "tune_val_list = [label for label in tune_val_label_list]\n",
    "trainer_list = list(range(7))\n",
    "\n",
    "step50_run_tune_summarize_whole(data_name, image_data_path, intermediate_data_folder, tune_param_name, tune_val_label_list, tune_val_list, \\\n",
    "                                    train_batch_num, net_layer_num, trainer_list)"
   ]
  },
  {
   "cell_type": "markdown",
   "metadata": {},
   "source": [
    "### Check training loss"
   ]
  },
  {
   "cell_type": "code",
   "execution_count": null,
   "metadata": {},
   "outputs": [],
   "source": [
    "tune_param_name = 'mini_epoch_num'\n",
    "trainer_list = list(range(7))\n",
    "# output for the train loss\n",
    "tuning_path = intermediate_data_folder + 'GraphSaint_dataset_results/' + data_name + '/' + 'GCN_tuning/'\n",
    "for tune_val in tune_val_list:\n",
    "    trainer_path = tuning_path + 'tune_' + tune_param_name + '_' + str(tune_val) + '/'\n",
    "    img_path = image_data_path + 'train_loss/tune_val_' + str(tune_val) + '/'\n",
    "    check_train_loss_converge(img_path, trainer_path, data_name, trainer_id = 0)"
   ]
  },
  {
   "cell_type": "code",
   "execution_count": null,
   "metadata": {},
   "outputs": [],
   "source": []
  },
  {
   "cell_type": "markdown",
   "metadata": {},
   "source": [
    "### Appendix"
   ]
  },
  {
   "cell_type": "code",
   "execution_count": null,
   "metadata": {},
   "outputs": [],
   "source": [
    "# free GPU memory\n",
    "# !(nvidia-smi | grep 'python' | awk '{ print $3 }' | xargs -n1 kill -9)"
   ]
  },
  {
   "cell_type": "code",
   "execution_count": null,
   "metadata": {},
   "outputs": [],
   "source": []
  }
 ],
 "metadata": {
  "kernelspec": {
   "display_name": "Python [conda env:pytorch_1_4_geometric]",
   "language": "python",
   "name": "conda-env-pytorch_1_4_geometric-py"
  },
  "language_info": {
   "codemirror_mode": {
    "name": "ipython",
    "version": 3
   },
   "file_extension": ".py",
   "mimetype": "text/x-python",
   "name": "python",
   "nbconvert_exporter": "python",
   "pygments_lexer": "ipython3",
   "version": "3.7.6"
  }
 },
 "nbformat": 4,
 "nbformat_minor": 2
}
