{
 "cells": [
  {
   "cell_type": "code",
   "execution_count": 1,
   "metadata": {},
   "outputs": [
    {
     "data": {
      "text/html": [
       "<style>.container { width:95% !important; }</style>"
      ],
      "text/plain": [
       "<IPython.core.display.HTML object>"
      ]
     },
     "metadata": {},
     "output_type": "display_data"
    }
   ],
   "source": [
    "from IPython.core.display import display, HTML\n",
    "display(HTML(\"<style>.container { width:95% !important; }</style>\")) "
   ]
  },
  {
   "cell_type": "code",
   "execution_count": 6,
   "metadata": {},
   "outputs": [],
   "source": [
    "import shutil\n",
    "import os\n",
    "\n",
    "working_dir = \"./GraphSaint_results/\"\n",
    "res_path = \"{}/Flickr_Tune_lr/\".format(working_dir)\n",
    "\n",
    "src_tune_name = \"lr\"\n",
    "dst_tune_name = \"mini_epoch_num\"\n",
    "\n",
    "src_tune_label_list = [2, 5, 10, 20, 50, 100]\n",
    "dst_tune_label_list = [1, 5]\n",
    "\n",
    "category_folder_list = [\"test_res\", \"train_res\"]\n",
    "\n",
    "src_folder_list = [\"{}{}_{}/\".format(res_path, src_tune_name, val) for val in src_tune_label_list ]\n",
    "\n",
    "for dst_tune_label in dst_tune_label_list:\n",
    "    dst_folder = \"{}converted_{}_{}/\".format(res_path, dst_tune_name, dst_tune_label)\n",
    "    os.makedirs(os.path.dirname(dst_folder), exist_ok=True)\n",
    "    \n",
    "    for src_tune_label in src_tune_label_list:\n",
    "        src_folder = \"{}{}_{}/\".format(res_path, src_tune_name, src_tune_label)\n",
    "        for category_folder in category_folder_list:\n",
    "            src_target_folder = \"{}{}/tune_{}_{}/\".format(src_folder, category_folder, dst_tune_name, dst_tune_label)\n",
    "            dst_target_folder = \"{}{}/tune_{}_{}/\".format(dst_folder, category_folder, src_tune_name, src_tune_label)\n",
    "            \n",
    "#             os.makedirs(os.path.dirname(dst_target_folder), exist_ok=True)\n",
    "            destination = shutil.copytree(src_target_folder, dst_target_folder)  \n",
    "    \n"
   ]
  },
  {
   "cell_type": "code",
   "execution_count": null,
   "metadata": {},
   "outputs": [],
   "source": []
  }
 ],
 "metadata": {
  "kernelspec": {
   "display_name": "Python 3",
   "language": "python",
   "name": "python3"
  },
  "language_info": {
   "codemirror_mode": {
    "name": "ipython",
    "version": 3
   },
   "file_extension": ".py",
   "mimetype": "text/x-python",
   "name": "python",
   "nbconvert_exporter": "python",
   "pygments_lexer": "ipython3",
   "version": "3.7.6"
  }
 },
 "nbformat": 4,
 "nbformat_minor": 4
}
