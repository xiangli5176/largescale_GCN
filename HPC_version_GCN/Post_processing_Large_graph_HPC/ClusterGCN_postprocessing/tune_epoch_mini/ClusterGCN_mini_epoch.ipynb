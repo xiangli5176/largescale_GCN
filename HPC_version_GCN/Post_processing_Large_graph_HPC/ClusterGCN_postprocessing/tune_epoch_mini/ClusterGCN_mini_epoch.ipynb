{
 "cells": [
  {
   "cell_type": "markdown",
   "metadata": {},
   "source": [
    "## Mini-batch model for hpc run with input edge weights in csv file\n",
    "\n",
    "Comments:\n",
    "\n",
    "By using the read weighted edge list from a csv file, it saves much space on self.graph\n",
    "\n",
    "This will for specific batch number and hop-layer number"
   ]
  },
  {
   "cell_type": "code",
   "execution_count": 2,
   "metadata": {},
   "outputs": [
    {
     "data": {
      "text/html": [
       "<style>.container { width:90% !important; }</style>"
      ],
      "text/plain": [
       "<IPython.core.display.HTML object>"
      ]
     },
     "metadata": {},
     "output_type": "display_data"
    }
   ],
   "source": [
    "from IPython.core.display import display, HTML\n",
    "display(HTML(\"<style>.container { width:90% !important; }</style>\"))"
   ]
  },
  {
   "cell_type": "code",
   "execution_count": 10,
   "metadata": {},
   "outputs": [],
   "source": [
    "import copy\n",
    "import csv\n",
    "import os\n",
    "import sys\n",
    "import torch\n",
    "import matplotlib.pyplot as plt\n",
    "import networkx as nx\n",
    "import numpy as np\n",
    "import pandas as pd\n",
    "import seaborn as sns\n",
    "from collections import defaultdict\n",
    "import pickle\n",
    "import shutil\n",
    "import time\n",
    "\n",
    "from utils import *\n",
    "from multi_exec_code import *"
   ]
  },
  {
   "cell_type": "markdown",
   "metadata": {},
   "source": [
    "### Seperate steps for parameter tuning"
   ]
  },
  {
   "cell_type": "code",
   "execution_count": 24,
   "metadata": {},
   "outputs": [],
   "source": [
    "def step50_run_tune_summarize_whole(data_name, image_data_path, intermediate_data_path, tune_param_name, tune_val_label_list, tune_val_list, \\\n",
    "                                    train_batch_num, net_layer_num, trainer_list): \n",
    "    \n",
    "    print('Start running training for partition num: ' + str(train_batch_num))\n",
    "    # set the batch for validation and train\n",
    "    img_path = image_data_path + 'cluster_num_' + str(train_batch_num) + '/' + 'net_layer_num_' + str(net_layer_num) + '/'\n",
    "    img_path += 'tuning_parameters/'  # further subfolder for different task\n",
    "\n",
    "    # start to summarize the results into images for output\n",
    "\n",
    "    validation_accuracy, validation_f1, time_total_train, time_data_load = summarize_tuning_res(img_path, intermediate_data_path, tune_param_name, tune_val_label_list, tune_val_list, trainer_list)\n",
    "\n",
    "    generate_tuning_raw_data_table(validation_accuracy, img_path, 'validation_acc.csv', tune_param_name)\n",
    "    validation_accuracy_file = store_data_multi_tuning(tune_val_list, validation_accuracy, data_name, img_path, 'accuracy_cluster_num_' + str(train_batch_num) + 'net_layer_num_' + str(net_layer_num))\n",
    "    draw_data_multi_tests(validation_accuracy_file, data_name, 'vali_cluster_num_' + str(train_batch_num) + 'net_layer_num_' + str(net_layer_num), 'epochs_per_batch', 'Accuracy')\n",
    "\n",
    "    generate_tuning_raw_data_table(validation_f1, img_path, 'validation_f1.csv', tune_param_name)\n",
    "    validation_f1_file = store_data_multi_tuning(tune_val_list, validation_f1, data_name, img_path, 'validation_cluster_num_' + str(train_batch_num) + 'net_layer_num_' + str(net_layer_num))\n",
    "    draw_data_multi_tests(validation_f1_file, data_name, 'vali_cluster_num_' + str(train_batch_num) + 'net_layer_num_' + str(net_layer_num), 'epochs_per_batch', 'F1 score')\n",
    "\n",
    "    generate_tuning_raw_data_table(time_total_train, img_path, 'time_train_total.csv', tune_param_name)\n",
    "    time_train_file = store_data_multi_tuning(tune_val_list, time_total_train, data_name, img_path, 'train_time_cluster_num_' + str(train_batch_num) + 'net_layer_num_' + str(net_layer_num))\n",
    "    draw_data_multi_tests(time_train_file, data_name, 'train_time_cluster_num_' + str(train_batch_num) + 'net_layer_num_' + str(net_layer_num), 'epochs_per_batch', 'Train Time (ms)')\n",
    "\n",
    "    generate_tuning_raw_data_table(time_data_load, img_path, 'time_load_data.csv', tune_param_name)\n",
    "    time_load_file = store_data_multi_tuning(tune_val_list, time_data_load, data_name, img_path, 'load_time_cluster_num_' + str(train_batch_num) + 'net_layer_num_' + str(net_layer_num))\n",
    "    draw_data_multi_tests(time_load_file, data_name, 'load_time_cluster_num_' + str(train_batch_num) + 'net_layer_num_' + str(net_layer_num), 'epochs_per_batch', 'Load Time (ms)')\n",
    "\n",
    "\n",
    "def step41_run_investigation_summarize_whole(data_name, image_data_path, intermediate_data_path, tune_param_name, tune_val_label, tune_val, \\\n",
    "                                    train_batch_num, net_layer_num, trainer_list): \n",
    "    \"\"\"\n",
    "        Train investigation post-processing\n",
    "        Train-validation at the same time\n",
    "    \"\"\"\n",
    "    print('Start summarizing for train batch num: ' + str(train_batch_num) )\n",
    "    # set the batch for validation and train\n",
    "    img_path = image_data_path + 'cluster_num_' + str(train_batch_num) + '/' + 'net_layer_num_' + str(net_layer_num) + '/'\n",
    "    img_path += 'investigation_figures/tune_' + tune_param_name + '_' + str(tune_val_label) + '/'\n",
    "    # start to summarize the results into images for output\n",
    "\n",
    "    Train_peroid_f1, Train_peroid_accuracy = summarize_investigation_res(img_path, intermediate_data_path, trainer_list)\n",
    "\n",
    "    Train_peroid_f1 = store_data_multi_investigate(Train_peroid_f1, data_name, 'F1_score', img_path, 'invest_batch_num_' + str(train_batch_num))\n",
    "    draw_data_multi_tests(Train_peroid_f1, data_name, 'Train_process_batch_num_' + str(train_batch_num), 'epoch number', 'F1 score')\n",
    "\n",
    "    Train_peroid_accuracy = store_data_multi_investigate(Train_peroid_accuracy, data_name, 'Accuracy', img_path, 'invest_batch_num_' + str(train_batch_num) )\n",
    "    draw_data_multi_tests(Train_peroid_accuracy, data_name, 'Train_process_batch_num_' + str(train_batch_num), 'epoch number', 'Accuracy')\n",
    "\n",
    "    \n",
    "    \n",
    "def check_train_loss_converge(train_loss_path, trainer_folder, data_name, trainer_id = 0):\n",
    "    # mini-batch, but valid also in batches\n",
    "    trainer_file_name = trainer_folder + 'GCN_trainer_' + str(trainer_id)\n",
    "    \n",
    "    print('Start to read the GCN trainer model (parameters: weights, bias):')\n",
    "    t1 = time.time()\n",
    "    with open(trainer_file_name, \"rb\") as fp:\n",
    "        gcn_trainer = pickle.load(fp)\n",
    "    read_trainer_time = (time.time() - t1) * 1000\n",
    "    print('Reading the trainer costs a total of {0:.4f} ms!'.format(read_trainer_time))\n",
    "    \n",
    "    # store the resulting data on the disk\n",
    "    os.makedirs(os.path.dirname(train_loss_path), exist_ok=True)\n",
    "    loss_res_file = train_loss_path + 'loss_trainer_' + str(trainer_id)\n",
    "    \n",
    "    draw_Cluster_train_valid_batch = draw_trainer_info(data_name, gcn_trainer)\n",
    "    draw_Cluster_train_valid_batch.draw_ave_loss_per_node(loss_res_file)"
   ]
  },
  {
   "cell_type": "markdown",
   "metadata": {},
   "source": [
    "### Use data from GraphSaint dataset"
   ]
  },
  {
   "cell_type": "code",
   "execution_count": 30,
   "metadata": {},
   "outputs": [],
   "source": [
    "data_name = 'Flickr'\n",
    "test_folder_name = 'train_10%_full_neigh/'\n",
    "intermediate_data_folder = './'\n",
    "image_data_path = intermediate_data_folder + 'GraphSaint_dataset_results/' + data_name + '/' + test_folder_name\n",
    "\n",
    "# this is the parts we divide the graph\n",
    "origin_train_batch_num = 8\n",
    "round_num = 2\n",
    "train_batch_num = round_num * origin_train_batch_num\n",
    "\n",
    "GCN_layer = [128]\n",
    "net_layer_num = len(GCN_layer) + 1\n",
    "# for non-optimization: hop_layer_num == net_layer_num\n",
    "hop_layer_num = net_layer_num\n",
    "\n"
   ]
  },
  {
   "cell_type": "markdown",
   "metadata": {},
   "source": [
    "### Results of tuning learning rate"
   ]
  },
  {
   "cell_type": "code",
   "execution_count": 31,
   "metadata": {},
   "outputs": [
    {
     "name": "stdout",
     "output_type": "stream",
     "text": [
      "Start running training for partition num: 16\n"
     ]
    },
    {
     "data": {
      "text/plain": [
       "<Figure size 432x288 with 0 Axes>"
      ]
     },
     "metadata": {},
     "output_type": "display_data"
    },
    {
     "data": {
      "text/plain": [
       "<Figure size 432x288 with 0 Axes>"
      ]
     },
     "metadata": {},
     "output_type": "display_data"
    },
    {
     "data": {
      "text/plain": [
       "<Figure size 360x360 with 0 Axes>"
      ]
     },
     "metadata": {},
     "output_type": "display_data"
    },
    {
     "data": {
      "text/plain": [
       "<Figure size 432x288 with 0 Axes>"
      ]
     },
     "metadata": {},
     "output_type": "display_data"
    },
    {
     "data": {
      "text/plain": [
       "<Figure size 360x360 with 0 Axes>"
      ]
     },
     "metadata": {},
     "output_type": "display_data"
    },
    {
     "data": {
      "text/plain": [
       "<Figure size 432x288 with 0 Axes>"
      ]
     },
     "metadata": {},
     "output_type": "display_data"
    },
    {
     "data": {
      "text/plain": [
       "<Figure size 360x360 with 0 Axes>"
      ]
     },
     "metadata": {},
     "output_type": "display_data"
    },
    {
     "data": {
      "text/plain": [
       "<Figure size 432x288 with 0 Axes>"
      ]
     },
     "metadata": {},
     "output_type": "display_data"
    },
    {
     "data": {
      "image/png": "[encoded data removed]",
      "text/plain": [
       "<Figure size 360x360 with 1 Axes>"
      ]
     },
     "metadata": {},
     "output_type": "display_data"
    }
   ],
   "source": [
    "tune_param_name = 'mini_epoch_num'\n",
    "tune_val_label_list = [1, 5, 10, 20, 40, 100, 200, 400]\n",
    "tune_val_list = [label for label in tune_val_label_list]\n",
    "trainer_list = [0]\n",
    "\n",
    "step50_run_tune_summarize_whole(data_name, image_data_path, intermediate_data_folder, tune_param_name, tune_val_label_list, tune_val_list, \\\n",
    "                                    train_batch_num, net_layer_num, trainer_list)"
   ]
  },
  {
   "cell_type": "markdown",
   "metadata": {},
   "source": [
    "### Check loss"
   ]
  },
  {
   "cell_type": "code",
   "execution_count": 34,
   "metadata": {},
   "outputs": [
    {
     "name": "stdout",
     "output_type": "stream",
     "text": [
      "Start to read the GCN trainer model (parameters: weights, bias):\n",
      "Reading the trainer costs a total of 12.3968 ms!\n",
      "Start to read the GCN trainer model (parameters: weights, bias):\n",
      "Reading the trainer costs a total of 2.3906 ms!\n",
      "Start to read the GCN trainer model (parameters: weights, bias):\n",
      "Reading the trainer costs a total of 4.4858 ms!\n",
      "Start to read the GCN trainer model (parameters: weights, bias):\n",
      "Reading the trainer costs a total of 4.0150 ms!\n",
      "Start to read the GCN trainer model (parameters: weights, bias):\n",
      "Reading the trainer costs a total of 2.2905 ms!\n",
      "Start to read the GCN trainer model (parameters: weights, bias):\n",
      "Reading the trainer costs a total of 2.3675 ms!\n",
      "Start to read the GCN trainer model (parameters: weights, bias):\n",
      "Reading the trainer costs a total of 2.3510 ms!\n",
      "Start to read the GCN trainer model (parameters: weights, bias):\n",
      "Reading the trainer costs a total of 2.8899 ms!\n"
     ]
    },
    {
     "data": {
      "text/plain": [
       "<Figure size 432x288 with 0 Axes>"
      ]
     },
     "metadata": {},
     "output_type": "display_data"
    },
    {
     "data": {
      "text/plain": [
       "<Figure size 432x288 with 0 Axes>"
      ]
     },
     "metadata": {},
     "output_type": "display_data"
    },
    {
     "data": {
      "text/plain": [
       "<Figure size 432x288 with 0 Axes>"
      ]
     },
     "metadata": {},
     "output_type": "display_data"
    },
    {
     "data": {
      "text/plain": [
       "<Figure size 432x288 with 0 Axes>"
      ]
     },
     "metadata": {},
     "output_type": "display_data"
    },
    {
     "data": {
      "text/plain": [
       "<Figure size 432x288 with 0 Axes>"
      ]
     },
     "metadata": {},
     "output_type": "display_data"
    },
    {
     "data": {
      "text/plain": [
       "<Figure size 432x288 with 0 Axes>"
      ]
     },
     "metadata": {},
     "output_type": "display_data"
    },
    {
     "data": {
      "text/plain": [
       "<Figure size 432x288 with 0 Axes>"
      ]
     },
     "metadata": {},
     "output_type": "display_data"
    },
    {
     "data": {
      "text/plain": [
       "<Figure size 432x288 with 0 Axes>"
      ]
     },
     "metadata": {},
     "output_type": "display_data"
    },
    {
     "data": {
      "image/png": "[encoded data removed]",
      "text/plain": [
       "<Figure size 432x288 with 1 Axes>"
      ]
     },
     "metadata": {},
     "output_type": "display_data"
    }
   ],
   "source": [
    "tune_param_name = 'mini_epoch_num'\n",
    "tune_val_list = [400, 200, 100, 40, 20, 10, 5, 1]\n",
    "trainer_list = [0]\n",
    "# output for the train loss\n",
    "tuning_path = intermediate_data_folder + 'GraphSaint_dataset_results/' + data_name + '/' + 'GCN_tuning/'\n",
    "for tune_val in tune_val_list:\n",
    "    trainer_path = tuning_path + 'tune_' + tune_param_name + '_' + str(tune_val) + '/'\n",
    "    img_path = image_data_path + 'train_loss/tune_val_' + str(tune_val) + '/'\n",
    "    check_train_loss_converge(img_path, trainer_path, data_name, trainer_id = 0)"
   ]
  },
  {
   "cell_type": "markdown",
   "metadata": {},
   "source": [
    "### Generate Investigatoin results"
   ]
  },
  {
   "cell_type": "code",
   "execution_count": null,
   "metadata": {},
   "outputs": [],
   "source": [
    "tune_param_name = 'learning_rate'\n",
    "tune_val_label_list = [1, 2, 3, 4, 5]\n",
    "tune_val_list = [10**(-label) for label in tune_val_label_list]\n",
    "trainer_list = [0]\n",
    "for tune_val_label, tune_val in zip(tune_val_label_list, tune_val_list):\n",
    "    step41_run_investigation_summarize_whole(data_name, image_data_path, intermediate_data_folder, tune_param_name, tune_val_label, tune_val, \\\n",
    "                                    train_batch_num, net_layer_num, trainer_list)\n",
    "\n"
   ]
  },
  {
   "cell_type": "code",
   "execution_count": null,
   "metadata": {},
   "outputs": [],
   "source": [
    "data_name = 'Flickr'\n",
    "test_folder_name = 'train_10%_full_neigh/'\n",
    "intermediate_data_folder = './'\n",
    "image_data_path = intermediate_data_folder + 'GraphSaint_dataset_results/' + data_name + '/' + test_folder_name\n",
    "\n",
    "# this is the parts we divide the graph\n",
    "origin_train_batch_num = 8\n",
    "GCN_layer = [32]\n",
    "net_layer_num = len(GCN_layer) + 1\n",
    "# for non-optimization: hop_layer_num == net_layer_num\n",
    "hop_layer_num = net_layer_num\n",
    "tune_param_name = 'batch_epoch_num'\n",
    "\n",
    "round_num = 2\n",
    "train_batch_num = round_num * origin_train_batch_num"
   ]
  },
  {
   "cell_type": "code",
   "execution_count": null,
   "metadata": {},
   "outputs": [],
   "source": [
    "tune_val_list = [400, 200, 100, 50, 20, 10, 5, 1]\n",
    "trainer_list = [0]\n",
    "# output for the train loss\n",
    "trainer_path = intermediate_data_folder + 'GraphSaint_dataset_results/' + data_name + '/' + 'GCN_tuning/'\n",
    "for tune_val in tune_val_list:\n",
    "    subfolder = trainer_path + 'tune_batch_epoch_num_' + str(tune_val) + '/'\n",
    "    check_train_loss_converge(image_data_path, intermediate_data_folder, subfolder, data_name, trainer_id = 0)"
   ]
  },
  {
   "cell_type": "code",
   "execution_count": null,
   "metadata": {},
   "outputs": [],
   "source": [
    "tune_val_list = [400, 200, 100, 50, 20, 10, 5, 1]\n",
    "trainer_list = [0]\n",
    "\n",
    "step50_run_tune_summarize_whole(data_name, image_data_path, intermediate_data_folder, tune_param_name, tune_val_list, \\\n",
    "                                    train_batch_num, net_layer_num, trainer_list)"
   ]
  },
  {
   "cell_type": "markdown",
   "metadata": {},
   "source": [
    "### Appendix"
   ]
  },
  {
   "cell_type": "code",
   "execution_count": null,
   "metadata": {},
   "outputs": [],
   "source": [
    "# free GPU memory\n",
    "# !(nvidia-smi | grep 'python' | awk '{ print $3 }' | xargs -n1 kill -9)"
   ]
  },
  {
   "cell_type": "code",
   "execution_count": null,
   "metadata": {},
   "outputs": [],
   "source": []
  }
 ],
 "metadata": {
  "kernelspec": {
   "display_name": "Python [conda env:pytorch_1_4_geometric]",
   "language": "python",
   "name": "conda-env-pytorch_1_4_geometric-py"
  },
  "language_info": {
   "codemirror_mode": {
    "name": "ipython",
    "version": 3
   },
   "file_extension": ".py",
   "mimetype": "text/x-python",
   "name": "python",
   "nbconvert_exporter": "python",
   "pygments_lexer": "ipython3",
   "version": "3.7.6"
  }
 },
 "nbformat": 4,
 "nbformat_minor": 2
}
