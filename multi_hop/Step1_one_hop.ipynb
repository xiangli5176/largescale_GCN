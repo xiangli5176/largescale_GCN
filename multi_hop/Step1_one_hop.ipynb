{
 "cells": [
  {
   "cell_type": "markdown",
   "metadata": {},
   "source": [
    "## Integrate model inter-cluster with three clustering"
   ]
  },
  {
   "cell_type": "code",
   "execution_count": 3,
   "metadata": {},
   "outputs": [
    {
     "data": {
      "text/html": [
       "<style>.container { width:90% !important; }</style>"
      ],
      "text/plain": [
       "<IPython.core.display.HTML object>"
      ]
     },
     "metadata": {},
     "output_type": "display_data"
    }
   ],
   "source": [
    "from IPython.core.display import display, HTML\n",
    "display(HTML(\"<style>.container { width:90% !important; }</style>\"))"
   ]
  },
  {
   "cell_type": "code",
   "execution_count": 4,
   "metadata": {},
   "outputs": [],
   "source": [
    "import copy\n",
    "\n",
    "import os\n",
    "import torch\n",
    "import matplotlib.pyplot as plt\n",
    "import networkx as nx\n",
    "import numpy as np\n",
    "import pandas as pd\n",
    "import seaborn as sns\n",
    "from tqdm import tqdm_notebook as tqdm\n",
    "\n",
    "from utils import filter_out_isolate, draw_cluster_info, draw_isolate_cluster_info, draw_trainer_info, print_data_info\n"
   ]
  },
  {
   "cell_type": "code",
   "execution_count": 5,
   "metadata": {},
   "outputs": [],
   "source": [
    "import sys\n",
    "import inspect\n",
    "import torch\n",
    "from torch_geometric.utils import scatter_\n",
    "\n",
    "special_args = [\n",
    "    'edge_index', 'edge_index_i', 'edge_index_j', 'size', 'size_i', 'size_j'\n",
    "]\n",
    "__size_error_msg__ = ('All tensors which should get mapped to the same source '\n",
    "                      'or target nodes must be of same size in dimension 0.')\n",
    "\n",
    "is_python2 = sys.version_info[0] < 3\n",
    "getargspec = inspect.getargspec if is_python2 else inspect.getfullargspec\n",
    "\n",
    "\n",
    "class MessagePassing(torch.nn.Module):\n",
    "    r\"\"\"Base class for creating message passing layers\n",
    "\n",
    "    .. math::\n",
    "        \\mathbf{x}_i^{\\prime} = \\gamma_{\\mathbf{\\Theta}} \\left( \\mathbf{x}_i,\n",
    "        \\square_{j \\in \\mathcal{N}(i)} \\, \\phi_{\\mathbf{\\Theta}}\n",
    "        \\left(\\mathbf{x}_i, \\mathbf{x}_j,\\mathbf{e}_{i,j}\\right) \\right),\n",
    "\n",
    "    where :math:`\\square` denotes a differentiable, permutation invariant\n",
    "    function, *e.g.*, sum, mean or max, and :math:`\\gamma_{\\mathbf{\\Theta}}`\n",
    "    and :math:`\\phi_{\\mathbf{\\Theta}}` denote differentiable functions such as\n",
    "    MLPs.\n",
    "    See `here <https://pytorch-geometric.readthedocs.io/en/latest/notes/\n",
    "    create_gnn.html>`__ for the accompanying tutorial.\n",
    "\n",
    "    Args:\n",
    "        aggr (string, optional): The aggregation scheme to use\n",
    "            (:obj:`\"add\"`, :obj:`\"mean\"` or :obj:`\"max\"`).\n",
    "            (default: :obj:`\"add\"`)\n",
    "        flow (string, optional): The flow direction of message passing\n",
    "            (:obj:`\"source_to_target\"` or :obj:`\"target_to_source\"`).\n",
    "            (default: :obj:`\"source_to_target\"`)\n",
    "    \"\"\"\n",
    "\n",
    "    def __init__(self, aggr='add', flow='source_to_target'):\n",
    "        super(MessagePassing, self).__init__()\n",
    "\n",
    "        self.aggr = aggr\n",
    "        assert self.aggr in ['add', 'mean', 'max']\n",
    "\n",
    "        self.flow = flow\n",
    "        # give a warning if the option is not valid\n",
    "        assert self.flow in ['source_to_target', 'target_to_source']\n",
    "\n",
    "        self.__message_args__ = getargspec(self.message)[0][1:]\n",
    "        # we will have [x_j, norm ] put into self.__message_args__\n",
    "        \n",
    "        self.__special_args__ = [(i, arg)\n",
    "                                 for i, arg in enumerate(self.__message_args__)\n",
    "                                 if arg in special_args]\n",
    "        \n",
    "        self.__message_args__ = [arg for arg in self.__message_args__ if arg not in special_args]\n",
    "        \n",
    "        self.__update_args__ = getargspec(self.update)[0][2:]\n",
    "        # empty, since there is nothing beyond: agg_out\n",
    "\n",
    "#     function call: res = self.propagate(edge_index, x=x, norm=norm)\n",
    "    def propagate(self, edge_index, size=None, **kwargs):\n",
    "        r\"\"\"The initial call to start propagating messages.\n",
    "\n",
    "        Args:\n",
    "            edge_index (Tensor): The indices of a general (sparse) assignment\n",
    "                matrix with shape :obj:`[N, M]` (can be directed or\n",
    "                undirected).\n",
    "            size (list or tuple, optional): The size :obj:`[N, M]` of the\n",
    "                assignment matrix. If set to :obj:`None`, the size is tried to\n",
    "                get automatically inferred. (default: :obj:`None`)\n",
    "            **kwargs: Any additional data which is needed to construct messages\n",
    "                and to update node embeddings.\n",
    "        \"\"\"\n",
    "        dim = 0\n",
    "        size = [None, None] if size is None else list(size)\n",
    "        assert len(size) == 2\n",
    "\n",
    "        i, j = (0, 1) if self.flow == 'target_to_source' else (1, 0)\n",
    "        # here (i, j) == (1, 0)\n",
    "        ij = {\"_i\": i, \"_j\": j}\n",
    "\n",
    "        message_args = []\n",
    "        \n",
    "        for arg in self.__message_args__:\n",
    "#             arg[-2] == '_j'\n",
    "            if arg[-2:] in ij.keys():\n",
    "#                 tmp == x, is inside the dwargs\n",
    "                tmp = kwargs.get(arg[:-2], None)   # get the value of the parameter\n",
    "                if tmp is None:  # pragma: no cover\n",
    "                    message_args.append(tmp)\n",
    "                else:\n",
    "                    idx = ij[arg[-2:]]    # idx == 0\n",
    "                    if isinstance(tmp, tuple) or isinstance(tmp, list):\n",
    "                        assert len(tmp) == 2\n",
    "                        if tmp[1 - idx] is not None:\n",
    "                            if size[1 - idx] is None:\n",
    "                                size[1 - idx] = tmp[1 - idx].size(dim)\n",
    "                            if size[1 - idx] != tmp[1 - idx].size(dim):\n",
    "                                raise ValueError(__size_error_msg__)\n",
    "                        tmp = tmp[idx]\n",
    "                    \n",
    "                    if tmp is None:\n",
    "                        message_args.append(tmp)\n",
    "                    else:\n",
    "                        if size[idx] is None:\n",
    "                            size[idx] = tmp.size(dim)\n",
    "                        if size[idx] != tmp.size(dim):\n",
    "                            raise ValueError(__size_error_msg__)\n",
    "                        # dim == 0, we duplicate part of the embeddings x by using the edge_index[idx]\n",
    "#                         print('Inside the propagate, edge_index[idx]: \\n', edge_index[idx].shape, '\\n', edge_index[idx])\n",
    "                        tmp = torch.index_select(tmp, dim, edge_index[idx])\n",
    "                        message_args.append(tmp)   # here we append x from the kwargs\n",
    "            else:\n",
    "                message_args.append(kwargs.get(arg, None))   # here we append norm\n",
    "        \n",
    "#         message_args are: x_j, norm \n",
    "#         size:  [8, None] \n",
    "#         kwargs:  dict_keys(['x', 'norm']) \n",
    "#         special keys:  []\n",
    "        \n",
    "        size[0] = size[1] if size[0] is None else size[0]\n",
    "        size[1] = size[0] if size[1] is None else size[1]\n",
    "\n",
    "        kwargs['edge_index'] = edge_index\n",
    "        kwargs['size'] = size\n",
    "        \n",
    "        # for now self.__special_args__ is empty\n",
    "        for (idx, arg) in self.__special_args__:\n",
    "            if arg[-2:] in ij.keys():\n",
    "                # here we will change the content of x (features)\n",
    "                # features will be corresponds to edge_index\n",
    "                message_args.insert(idx, kwargs[arg[:-2]][ij[arg[-2:]]])\n",
    "            else:\n",
    "                message_args.insert(idx, kwargs[arg])\n",
    "\n",
    "        update_args = [kwargs[arg] for arg in self.__update_args__]\n",
    "#         message_args are: x_j, norm \n",
    "        out = self.message(*message_args)\n",
    "        # here i = 1, edge_index is the target endpoint of an edge, size[i] is the size of target endpoints\n",
    "        out = scatter_(self.aggr, out, edge_index[i], dim_size=size[i])\n",
    "        out = self.update(out, *update_args)\n",
    "        return out\n",
    "\n",
    "    def message(self, x_j):  # pragma: no cover\n",
    "        r\"\"\"Constructs messages in analogy to :math:`\\phi_{\\mathbf{\\Theta}}`\n",
    "        for each edge in :math:`(i,j) \\in \\mathcal{E}`.\n",
    "        Can take any argument which was initially passed to :meth:`propagate`.\n",
    "        In addition, features can be lifted to the source node :math:`i` and\n",
    "        target node :math:`j` by appending :obj:`_i` or :obj:`_j` to the\n",
    "        variable name, *.e.g.* :obj:`x_i` and :obj:`x_j`.\"\"\"\n",
    "\n",
    "        return x_j\n",
    "\n",
    "    def update(self, aggr_out):  # pragma: no cover\n",
    "        r\"\"\"Updates node embeddings in analogy to\n",
    "        :math:`\\gamma_{\\mathbf{\\Theta}}` for each node\n",
    "        :math:`i \\in \\mathcal{V}`.\n",
    "        Takes in the output of aggregation as first argument and any argument\n",
    "        which was initially passed to :meth:`propagate`.\"\"\"\n",
    "\n",
    "        return aggr_out\n"
   ]
  },
  {
   "cell_type": "code",
   "execution_count": 6,
   "metadata": {},
   "outputs": [],
   "source": [
    "import math\n",
    "import random\n",
    "\n",
    "from torch.nn import Parameter\n",
    "from torch_scatter import scatter_add\n",
    "# from torch_geometric.nn import MessagePassing\n",
    "import torch.nn.functional as F\n",
    "from torch_geometric.nn import GCNConv\n",
    "from torch_geometric.utils import add_remaining_self_loops\n",
    "\n",
    "### ================== Definition of custom GCN\n",
    "\n",
    "def glorot(tensor):\n",
    "    if tensor is not None:\n",
    "        # stdv = math.sqrt(6.0 / (tensor.size(-2) + tensor.size(-1)))\n",
    "        # tensor.data.uniform_(-stdv, stdv)\n",
    "        tensor.data.fill_(1.0)   # trivial example\n",
    "        \n",
    "def zeros(tensor):\n",
    "    if tensor is not None:\n",
    "        tensor.data.fill_(0)\n",
    "\n",
    "class custom_GCNConv(MessagePassing):\n",
    "    def __init__(self, in_channels, out_channels, improved=False, cached=False,\n",
    "                 bias=True, **kwargs):\n",
    "        super().__init__(aggr='add', **kwargs)\n",
    "\n",
    "        self.in_channels = in_channels\n",
    "        self.out_channels = out_channels\n",
    "        self.improved = improved\n",
    "        self.cached = cached\n",
    "\n",
    "        self.weight = Parameter(torch.Tensor(in_channels, out_channels))\n",
    "\n",
    "        if bias:\n",
    "            self.bias = Parameter(torch.Tensor(out_channels))\n",
    "        else:\n",
    "            self.register_parameter('bias', None)\n",
    "\n",
    "        self.reset_parameters()\n",
    "\n",
    "    def reset_parameters(self):\n",
    "        glorot(self.weight)\n",
    "        zeros(self.bias)\n",
    "        self.cached_result = None\n",
    "        self.cached_num_edges = None\n",
    "\n",
    "\n",
    "    @staticmethod\n",
    "    def norm(edge_index, num_nodes, edge_weight=None, improved=False, dtype=None):\n",
    "        \n",
    "        if edge_weight is None:\n",
    "            edge_weight = torch.ones((edge_index.size(1), ), dtype=dtype, device=edge_index.device)\n",
    "        \n",
    "        fill_value = 1 if not improved else 2\n",
    "        \n",
    "        edge_index, edge_weight = add_remaining_self_loops(\n",
    "            edge_index, edge_weight, fill_value, num_nodes)\n",
    "        \n",
    "        row, col = edge_index   \n",
    "        # row includes the starting points of the edges  (first row of edge_index)\n",
    "        # col includes the ending points of the edges   (second row of edge_index)\n",
    "\n",
    "        deg = scatter_add(edge_weight, row, dim=0, dim_size=num_nodes)\n",
    "        # row records the source nodes, which is the index we are trying to add\n",
    "        # deg will record the out-degree of each node of x_i in all edges (x_i, x_j) including self_loops\n",
    "        \n",
    "        deg_inv_sqrt = deg.pow(-0.5)\n",
    "        deg_inv_sqrt[deg_inv_sqrt == float('inf')] = 0\n",
    "        normalized_edge_weight = deg_inv_sqrt[row] * edge_weight * deg_inv_sqrt[col]\n",
    "        \n",
    "#         print('whole GCN training normalized_edge_weight: \\n', normalized_edge_weight)\n",
    "        return edge_index, normalized_edge_weight\n",
    "\n",
    "    def forward(self, x, edge_index, edge_weight = None):\n",
    "        \"\"\"\"\"\"\n",
    "#         print('current weight is: ')\n",
    "#         print(self.weight)\n",
    "#         print('current bias is: ')\n",
    "#         print(self.bias)\n",
    "        \n",
    "        x = torch.matmul(x, self.weight)   # update x (embeddings)\n",
    "        \n",
    "#         print('inside custom_GCN, edge_index: ', edge_index.shape, '\\n', edge_index)\n",
    "        res = self.propagate(edge_index, x = x, norm = edge_weight)\n",
    "        return res\n",
    "\n",
    "    # self is the first parameter of the message func\n",
    "    def message(self, x_j, norm):\n",
    "        # in source code of the MessagePassing:\n",
    "#         self.__message_args__ = getargspec(self.message)[0][1:]  : will be initialized as [x_j, norm]\n",
    "        \n",
    "        # view is to reshape the tensor, here make it only a single column\n",
    "        # use the normalized weights multiplied by the feature of the target nodes\n",
    "        '''\n",
    "        For each of extended edge_index:(x_i, x_j), assume there is N such edges\n",
    "        x_j of shape (N, k) , assume there is k features, value along each row are the same\n",
    "        norm of shape (1, m), assume there is m edges (including self loops), 1-D tensor\n",
    "        '''\n",
    "#         print('inside the message custom_GCN: norm \\n', norm.shape, '\\n', norm)\n",
    "#         print('inside the message custom_GCN: x_j \\n', x_j.shape, '\\n', x_j)\n",
    "        res = norm.view(-1, 1) * x_j  # use the element wise multiplication\n",
    "        return res\n",
    "\n",
    "    def update(self, aggr_out):\n",
    "        # update the embeddings of each node\n",
    "        if self.bias is not None:\n",
    "            aggr_out = aggr_out + self.bias\n",
    "        return aggr_out\n",
    "\n",
    "    def __repr__(self):\n",
    "        return '{}({}, {})'.format(self.__class__.__name__, self.in_channels,\n",
    "                                   self.out_channels)\n",
    "\n"
   ]
  },
  {
   "cell_type": "code",
   "execution_count": 7,
   "metadata": {},
   "outputs": [],
   "source": [
    "### ====================== Establish a GCN based model ========================\n",
    "class ListModule(torch.nn.Module):\n",
    "    \"\"\"\n",
    "    Abstract list layer class.\n",
    "    \"\"\"\n",
    "    def __init__(self, *args):\n",
    "        \"\"\"\n",
    "        Module initializing.\n",
    "        \"\"\"\n",
    "        super(ListModule, self).__init__()\n",
    "        idx = 0\n",
    "        for module in args:\n",
    "            self.add_module(str(idx), module)\n",
    "            idx += 1\n",
    "\n",
    "    def __getitem__(self, idx):\n",
    "        \"\"\"\n",
    "        Getting the indexed layer.\n",
    "        \"\"\"\n",
    "        if idx < 0 or idx >= len(self._modules):\n",
    "            raise IndexError('index {} is out of range'.format(idx))\n",
    "        it = iter(self._modules.values())\n",
    "        for i in range(idx):\n",
    "            next(it)\n",
    "        return next(it)\n",
    "\n",
    "    def __iter__(self):\n",
    "        \"\"\"\n",
    "        Iterating on the layers.\n",
    "        \"\"\"\n",
    "        return iter(self._modules.values())\n",
    "\n",
    "    def __len__(self):\n",
    "        \"\"\"\n",
    "        Number of layers.\n",
    "        \"\"\"\n",
    "        return len(self._modules)\n",
    "\n",
    "\n",
    "class Net(torch.nn.Module):\n",
    "    def __init__(self, in_channels, out_channels, input_layers = [32, 16], dropout=0.3):\n",
    "        \"\"\"\n",
    "        input layers: list of integers\n",
    "        dropout: probability of droping out \n",
    "        \"\"\"\n",
    "        super(Net, self).__init__()\n",
    "        # one trivial example\n",
    "#         self.conv1 = custom_GCNConv(in_channels, out_channels)\n",
    "#         self.conv2 = GCNConv(16, dataset.num_classes)\n",
    "        \n",
    "        self.in_channels = in_channels\n",
    "        self.out_channels = out_channels\n",
    "        self.input_layers = input_layers\n",
    "        self.dropout = dropout\n",
    "        self.setup_layers()\n",
    "\n",
    "    def setup_layers(self):\n",
    "        \"\"\"\n",
    "        Creating the layes based on the args.\n",
    "        \"\"\"\n",
    "        self.layers = []\n",
    "        self.input_layers = [self.in_channels] + self.input_layers + [self.out_channels]\n",
    "        for i, _ in enumerate(self.input_layers[:-1]):\n",
    "            self.layers.append(custom_GCNConv(self.input_layers[i],self.input_layers[i+1]))\n",
    "        self.layers = ListModule(*self.layers)\n",
    "\n",
    "\n",
    "    def forward(self, edge_index, features, edge_weights = None):\n",
    "        if len(self.layers) > 1:\n",
    "            for i, _ in enumerate(self.input_layers[:-2]):\n",
    "                features = F.relu(self.layers[i](features, edge_index, edge_weights))\n",
    "                if i>1:\n",
    "                    features = F.dropout(features, p = self.dropout, training = self.training)\n",
    "            features = self.layers[i+1](features, edge_index, edge_weights)\n",
    "        else:\n",
    "            features = self.layers[0](features, edge_index, edge_weights)    # for a single layer case\n",
    "\n",
    "        predictions = F.log_softmax(features, dim=1)\n",
    "        return predictions"
   ]
  },
  {
   "cell_type": "code",
   "execution_count": 8,
   "metadata": {},
   "outputs": [],
   "source": [
    "\n",
    "class single_Net(torch.nn.Module):\n",
    "    def __init__(self, in_channels, out_channels, input_layers = [], dropout=0.3):\n",
    "        \"\"\"\n",
    "        input layers: list of integers\n",
    "        dropout: probability of droping out \n",
    "        \"\"\"\n",
    "        super(single_Net, self).__init__()\n",
    "        \n",
    "        self.in_channels = in_channels\n",
    "        self.out_channels = out_channels\n",
    "        self.dropout = dropout\n",
    "        # here we just initialize the model\n",
    "        self.conv1 = custom_GCNConv(self.in_channels, self.out_channels)\n",
    "        \n",
    "\n",
    "    def forward(self, edge_index, features, edge_weights = None):\n",
    "        # call the instance of the custom_GCNConv\n",
    "        z = self.conv1(features, edge_index, edge_weights)    # for a single layer case, z is embeddings\n",
    "#         print('embeddings inside the net work model, result is: \\n', z)\n",
    "        \n",
    "        predictions = F.log_softmax(z, dim=1)\n",
    "#         print('calibration inside the net work model, result is: \\n', predictions)\n",
    "        return predictions"
   ]
  },
  {
   "cell_type": "markdown",
   "metadata": {},
   "source": [
    "### Partition GCN"
   ]
  },
  {
   "cell_type": "markdown",
   "metadata": {},
   "source": [
    "#### Partition method"
   ]
  },
  {
   "cell_type": "code",
   "execution_count": 9,
   "metadata": {},
   "outputs": [],
   "source": [
    "\n",
    "import metis\n",
    "import random\n",
    "import numpy as np\n",
    "import networkx as nx\n",
    "from sklearn.model_selection import train_test_split\n",
    "from itertools import chain\n",
    "\n",
    "class ClusteringMachine(object):\n",
    "    \"\"\"\n",
    "    Clustering the graph, feature set and label. Performed on the CPU side\n",
    "    \"\"\"\n",
    "    def __init__(self, edge_index, features, label, partition_num = 2):\n",
    "        \"\"\"\n",
    "        :param edge_index: COO format of the edge indices.\n",
    "        :param features: Feature matrix (ndarray).\n",
    "        :param label: label vector (ndarray).\n",
    "        \"\"\"\n",
    "        tmp = edge_index.t().numpy().tolist()\n",
    "        self.graph = nx.from_edgelist(tmp)\n",
    "        self.features = features\n",
    "        self.label = label\n",
    "        self.partition_num = partition_num\n",
    "        self._set_sizes()\n",
    "        self.edge_index = edge_index\n",
    "        # this will get the edge weights in a complete graph\n",
    "        self.get_edge_weight(self.edge_index, self.node_count)\n",
    "\n",
    "    def _set_sizes(self):\n",
    "        \"\"\"\n",
    "        Setting the feature and class count.\n",
    "        \"\"\"\n",
    "        self.node_count = self.features.shape[0]\n",
    "        self.feature_count = self.features.shape[1]    # features all always in the columns\n",
    "        self.label_count = len(np.unique(self.label.numpy()) )\n",
    "        \n",
    "    def get_edge_weight(self, edge_index, num_nodes, edge_weight=None, improved=False, dtype=None):\n",
    "        \n",
    "        if edge_weight is None:\n",
    "            edge_weight = torch.ones((edge_index.size(1), ), dtype=dtype, device=edge_index.device)\n",
    "        \n",
    "        fill_value = 1 if not improved else 2\n",
    "        # there are num_nodes self-loop edges added after the edge_index\n",
    "        edge_index, edge_weight = add_remaining_self_loops(edge_index, edge_weight, fill_value, num_nodes)\n",
    "        \n",
    "        row, col = edge_index   \n",
    "        # row includes the starting points of the edges  (first row of edge_index)\n",
    "        # col includes the ending points of the edges   (second row of edge_index)\n",
    "\n",
    "        deg = scatter_add(edge_weight, row, dim=0, dim_size=num_nodes)\n",
    "        # row records the source nodes, which is the index we are trying to add\n",
    "        # deg will record the out-degree of each node of x_i in all edges (x_i, x_j) including self_loops\n",
    "        \n",
    "        deg_inv_sqrt = deg.pow(-0.5)\n",
    "        deg_inv_sqrt[deg_inv_sqrt == float('inf')] = 0\n",
    "        normalized_edge_weight = deg_inv_sqrt[row] * edge_weight * deg_inv_sqrt[col]\n",
    "        self.edge_index_global_self_loops = edge_index\n",
    "        # transfer from tensor to the numpy to construct the dict for the edge_weights\n",
    "        edge_index = edge_index.t().numpy()\n",
    "        normalized_edge_weight = normalized_edge_weight.numpy()\n",
    "        num_edge, _ = edge_index.shape\n",
    "        # this info can also be stored as matrix considering the memory, depends whether the matrix is sparse or not\n",
    "        self.edge_weight_global_dict = {(edge_index[i][0], edge_index[i][1]) : normalized_edge_weight[i] for i in range(num_edge)}\n",
    "        \n",
    "#         print('after adding self-loops, edge_index is', edge_index)\n",
    "        self.edge_weight_global = [ self.edge_weight_global_dict[(edge[0], edge[1])] for edge in edge_index ]\n",
    "#         print('a list of the global weights : \\n', self.edge_weight_global )\n",
    "    \n",
    "        \n",
    "    def decompose(self, test_ratio, validation_ratio):\n",
    "        \"\"\"\n",
    "        Decomposing the graph, partitioning the features and label, creating Torch arrays.\n",
    "        \"\"\"\n",
    "        # to keep the edge weights of the original whole graph:\n",
    "        \n",
    "        self.metis_clustering()\n",
    "#         self.random_clustering()\n",
    "        self._set_inter_clusters()\n",
    "        self.general_global_isolate_partitioning(test_ratio, validation_ratio)\n",
    "        # for the wholeGCNTraniner Purpose\n",
    "        self.general_accumulate_partition()\n",
    "        \n",
    "    def _set_inter_clusters(self):\n",
    "        # independent of the clustering method:\n",
    "        self.intersect_cluster = []\n",
    "        for i in range(1, self.partition_num):\n",
    "            tmp = [(m, n) for m, n in zip(self.clusters, self.clusters[i:])]\n",
    "            self.intersect_cluster.extend(tmp)\n",
    "        # initialize as the totla edges (without duplicates) all over the whole graph\n",
    "        self.macro_inter_edges = set(self.graph.edges())   # a sequence of tuple to indicate edges\n",
    "\n",
    "    # just allocate each node to arandom cluster, store the membership inside each dict\n",
    "    def random_clustering(self):\n",
    "        \"\"\"\n",
    "        Random clustering the nodes.\n",
    "        \"\"\"\n",
    "        self.clusters = [cluster for cluster in range(self.partition_num)]\n",
    "        # randomly divide into two clusters\n",
    "        self.cluster_membership = {node: random.choice(self.clusters) for node in self.graph.nodes()}\n",
    "\n",
    "    def metis_clustering(self):\n",
    "        \"\"\"\n",
    "        Clustering the graph with Metis. For details see:\n",
    "        \"\"\"\n",
    "        (st, parts) = metis.part_graph(self.graph, self.partition_num)\n",
    "        self.clusters = list(set(parts))\n",
    "        self.cluster_membership = {node: membership for node, membership in enumerate(parts)}\n",
    "\n",
    "\n",
    "    def general_global_isolate_partitioning(self, test_ratio, validation_ratio):\n",
    "        \"\"\"\n",
    "        Creating data partitions and train-test splits.\n",
    "        \"\"\"\n",
    "        self.type = 'general'\n",
    "        relative_test_ratio = (test_ratio) / (1 - validation_ratio)\n",
    "        self.sg_nodes_global = {}\n",
    "        self.sg_edges_global = {}\n",
    "        \n",
    "        self.sg_model_nodes_global = {}\n",
    "        self.sg_validation_nodes_global = {}\n",
    "        self.sg_train_nodes_global = {}\n",
    "        self.sg_test_nodes_global = {}\n",
    "        \n",
    "        # keep the info of each cluster:\n",
    "        self.info_isolate_cluster_size = {}\n",
    "        self.info_model_cluster_size = {}\n",
    "        self.info_validation_cluster_size = {}\n",
    "        self.info_train_cluster_size = {}\n",
    "        self.info_test_cluster_size = {}\n",
    "        \n",
    "        for cluster in self.clusters:\n",
    "            \n",
    "            subgraph = self.graph.subgraph([node for node in sorted(self.graph.nodes()) if self.cluster_membership[node] == cluster])\n",
    "            \n",
    "            self.sg_nodes_global[cluster] = sorted(node for node in subgraph.nodes())\n",
    "            \n",
    "            self.sg_edges_global[cluster] = {edge for edge in subgraph.edges()}\n",
    "            # substract two possible directions of edges\n",
    "            self.macro_inter_edges -= set([(edge[0], edge[1]) for edge in subgraph.edges()] +  \\\n",
    "                                       [(edge[1], edge[0]) for edge in subgraph.edges()])\n",
    "            \n",
    "            self.sg_model_nodes_global[cluster], self.sg_validation_nodes_global[cluster] = train_test_split(self.sg_nodes_global[cluster], test_size = validation_ratio)\n",
    "            self.sg_model_nodes_global[cluster] = sorted(self.sg_model_nodes_global[cluster])\n",
    "            self.sg_validation_nodes_global[cluster] = sorted(self.sg_validation_nodes_global[cluster])\n",
    "            \n",
    "            self.sg_train_nodes_global[cluster], self.sg_test_nodes_global[cluster] = train_test_split(self.sg_model_nodes_global[cluster], test_size = relative_test_ratio)\n",
    "            self.sg_train_nodes_global[cluster] = sorted(self.sg_train_nodes_global[cluster])\n",
    "            self.sg_test_nodes_global[cluster] = sorted(self.sg_test_nodes_global[cluster])\n",
    "            \n",
    "            # record the information of each cluster:\n",
    "            self.info_isolate_cluster_size[cluster] = len(self.sg_nodes_global[cluster])\n",
    "            self.info_model_cluster_size[cluster] = len(self.sg_model_nodes_global[cluster])\n",
    "            self.info_validation_cluster_size[cluster] = len(self.sg_validation_nodes_global[cluster])\n",
    "            \n",
    "            self.info_train_cluster_size[cluster] = len(self.sg_train_nodes_global[cluster])\n",
    "            self.info_test_cluster_size[cluster] = len(self.sg_test_nodes_global[cluster])\n",
    "    \n",
    "    # accumulate all the train, test, and validation nodes \n",
    "    def general_accumulate_partition(self):\n",
    "        # sum up different parts of the data\n",
    "#         self.total_sg_train_nodes_global = sorted(chain.from_iterable(self.sg_train_nodes_global[cluster] for cluster in self.clusters))\n",
    "#         self.total_sg_test_nodes_global = sorted(chain.from_iterable(self.sg_test_nodes_global[cluster] for cluster in self.clusters)) \n",
    "        self.total_sg_train_nodes_global = sorted(self.sg_train_nodes_global[0])\n",
    "        self.total_sg_test_nodes_global = sorted(self.sg_test_nodes_global[0])\n",
    "        self.total_sg_validation_nodes_global = sorted(chain.from_iterable(self.sg_validation_nodes_global[cluster] for cluster in self.clusters))\n",
    "    \n",
    "    def general_base_isolate_clustering(self):\n",
    "        self.type = 'base_isolate'\n",
    "        self.sg_overlapping_nodes_global = {key : set(val) for key, val in self.sg_nodes_global.items()}\n",
    "        # global id of edges, each edge is recorded only one time\n",
    "        self.sg_overlapping_edges_global = copy.deepcopy(self.sg_edges_global)\n",
    "        \n",
    "        self.sg_edges_local = {}\n",
    "        self.sg_edge_weight_local = {}\n",
    "        self.sg_isolate_nodes_local = {}\n",
    "        \n",
    "        self.sg_train_nodes_local = {}\n",
    "        self.sg_test_nodes_local = {}\n",
    "        self.sg_validation_nodes_local = {}\n",
    "        \n",
    "        self.sg_features = {}\n",
    "        self.sg_labels = {}\n",
    "        \n",
    "        self.info_overlapping_cluster_size = {}\n",
    "        \n",
    "        for cluster in self.clusters:\n",
    "            self.sg_overlapping_nodes_global[cluster] = sorted(self.sg_overlapping_nodes_global[cluster])\n",
    "            mapper = {node: i for i, node in enumerate(sorted(self.sg_nodes_global[cluster]))}\n",
    "            self.sg_isolate_nodes_local[cluster] = [mapper[node] for node in self.sg_nodes_global[cluster]]\n",
    "            sg_node_index_local = sorted(mapper.values())\n",
    "            # the edges inside its own partition, from two directions since it is an undirected graph\n",
    "            self.sg_edges_local[cluster] = [ [mapper[edge[0]], mapper[edge[1]]] for edge in self.sg_edges_global[cluster] ] + \\\n",
    "                                           [ [mapper[edge[1]], mapper[edge[0]]] for edge in self.sg_edges_global[cluster] ] + \\\n",
    "                                           [ [i, i] for i in sg_node_index_local ]\n",
    "            # need the sg_edges_local[cluster] to also include the self-loops and also the edge_weight\n",
    "            self.sg_edge_weight_local[cluster] = [ self.edge_weight_global_dict[(edge[0], edge[1])] for edge in self.sg_edges_global[cluster] ] + \\\n",
    "                                                 [ self.edge_weight_global_dict[(edge[1], edge[0])] for edge in self.sg_edges_global[cluster] ] + \\\n",
    "                                                 [ self.edge_weight_global_dict[(i, i)] for i in self.sg_nodes_global[cluster] ]\n",
    "            \n",
    "            self.sg_train_nodes_local[cluster] = [ mapper[global_idx] for global_idx in self.sg_train_nodes_global[cluster] ]\n",
    "            self.sg_test_nodes_local[cluster] = [ mapper[global_idx] for global_idx in self.sg_test_nodes_global[cluster] ]\n",
    "            self.sg_validation_nodes_local[cluster] = [ mapper[global_idx] for global_idx in self.sg_validation_nodes_global[cluster] ] \n",
    "            \n",
    "            # extract specific rows from the feature matrix\n",
    "            self.sg_features[cluster] = self.features[self.sg_nodes_global[cluster],:]\n",
    "            # labels are 1-D tensor with class labels\n",
    "            self.sg_labels[cluster] = self.label[self.sg_nodes_global[cluster]]\n",
    "            \n",
    "        self.transfer_edges_and_nodes()\n",
    "    \n",
    "    def general_isolate_clustering(self):\n",
    "        # later will have further mini-batch train nodes\n",
    "        self.type = 'isolate'\n",
    "        self.sg_overlapping_nodes_global = {key : set(val) for key, val in self.sg_nodes_global.items()}\n",
    "        # global id of edges, each edge is recorded only one time\n",
    "        self.sg_overlapping_edges_global = copy.deepcopy(self.sg_edges_global)\n",
    "        \n",
    "        self.sg_edges_local = {}\n",
    "        self.sg_edge_weight_local = {}\n",
    "        self.sg_isolate_nodes_local = {}\n",
    "        \n",
    "        self.sg_train_nodes_local = {}\n",
    "        self.sg_test_nodes_local = {}\n",
    "        self.sg_validation_nodes_local = {}\n",
    "        \n",
    "        self.sg_features = {}\n",
    "        self.sg_labels = {}\n",
    "        \n",
    "        for cluster in self.clusters:\n",
    "            self.sg_overlapping_nodes_global[cluster] = sorted(self.sg_overlapping_nodes_global[cluster])\n",
    "            mapper = {node: i for i, node in enumerate(sorted(self.sg_nodes_global[cluster]))}\n",
    "            self.sg_isolate_nodes_local[cluster] = [mapper[node] for node in self.sg_nodes_global[cluster]]\n",
    "            sg_node_index_local = sorted(mapper.values())\n",
    "            # the edges inside its own partition, from two directions since it is an undirected graph\n",
    "            self.sg_edges_local[cluster] = [ [mapper[edge[0]], mapper[edge[1]]] for edge in self.sg_edges_global[cluster] ] + \\\n",
    "                                           [ [mapper[edge[1]], mapper[edge[0]]] for edge in self.sg_edges_global[cluster] ] + \\\n",
    "                                           [ [i, i] for i in sg_node_index_local ]\n",
    "            # need the sg_edges_local[cluster] to also include the self-loops and also the edge_weight\n",
    "            self.sg_edge_weight_local[cluster] = [ self.edge_weight_global_dict[(edge[0], edge[1])] for edge in self.sg_edges_global[cluster] ] + \\\n",
    "                                                 [ self.edge_weight_global_dict[(edge[1], edge[0])] for edge in self.sg_edges_global[cluster] ] + \\\n",
    "                                                 [ self.edge_weight_global_dict[(i, i)] for i in self.sg_nodes_global[cluster] ]\n",
    "            \n",
    "            self.sg_train_nodes_local[cluster] = [ mapper[global_idx] for global_idx in self.sg_train_nodes_global[cluster] ]\n",
    "            self.sg_test_nodes_local[cluster] = [ mapper[global_idx] for global_idx in self.sg_test_nodes_global[cluster] ]\n",
    "            self.sg_validation_nodes_local[cluster] = [ mapper[global_idx] for global_idx in self.sg_validation_nodes_global[cluster] ] \n",
    "            \n",
    "            # extract specific rows from the feature matrix\n",
    "            self.sg_features[cluster] = self.features[self.sg_nodes_global[cluster],:]\n",
    "            # labels are 1-D tensor with class labels\n",
    "            self.sg_labels[cluster] = self.label[self.sg_nodes_global[cluster]]\n",
    "            \n",
    "#         self.transfer_edges_and_nodes()\n",
    "    \n",
    "    def general_train_overlapping_clustering(self):\n",
    "        \"\"\"\n",
    "            create data intersection between different isolate partitions of data\n",
    "        \"\"\"\n",
    "        self.type = 'train_overlapping'\n",
    "        # shallow copy of the dictionaries\n",
    "        self.sg_overlapping_nodes_global = {key : set(val) for key, val in self.sg_nodes_global.items()}\n",
    "        # global id of edges, each edge is recorded only one time\n",
    "        self.sg_overlapping_edges_global = copy.deepcopy(self.sg_edges_global)\n",
    "        self.sg_edges_local = {}\n",
    "        self.sg_edge_weight_local = {}\n",
    "        self.sg_isolate_nodes_local = {}  # for check purpose, only the isolated nodes will see match embeddings with whole graph\n",
    "        \n",
    "        self.sg_train_nodes_local = {}\n",
    "        self.sg_test_nodes_local = {}\n",
    "        self.sg_validation_nodes_local = {}\n",
    "        \n",
    "        self.sg_features = {}\n",
    "        self.sg_labels = {}\n",
    "        # to keep the info one clustering\n",
    "        self.info_overlapping_cluster_size = {}\n",
    "        \n",
    "        # add inter-cluster edges endpoints to two clusters separately, this macro_inter_edges is without any duplicates\n",
    "        for start, end in self.macro_inter_edges:\n",
    "            start_cluster_id = self.cluster_membership[start]\n",
    "            # check whethether the node start is a train node in its cluster\n",
    "            if start in self.sg_train_nodes_global[start_cluster_id]:\n",
    "                self.sg_overlapping_nodes_global[start_cluster_id].add(end)\n",
    "                self.sg_overlapping_edges_global[start_cluster_id].add((start, end))\n",
    "            \n",
    "            end_cluster_id = self.cluster_membership[end]\n",
    "            # check whethether the node end is a train node in its cluster\n",
    "            if end in self.sg_train_nodes_global[end_cluster_id]:\n",
    "                self.sg_overlapping_nodes_global[end_cluster_id].add(start)\n",
    "                self.sg_overlapping_edges_global[end_cluster_id].add((start, end))\n",
    "        \n",
    "        for cluster in self.clusters:\n",
    "            # make the overlapping nodes as a sorted list\n",
    "            self.sg_overlapping_nodes_global[cluster] = sorted(self.sg_overlapping_nodes_global[cluster])\n",
    "            self.info_overlapping_cluster_size[cluster] = len(self.sg_overlapping_nodes_global[cluster])\n",
    "            mapper = {node: i for i, node in enumerate(sorted(self.sg_overlapping_nodes_global[cluster]))}\n",
    "            \n",
    "            self.sg_isolate_nodes_local[cluster] = [mapper[node] for node in self.sg_nodes_global[cluster]]\n",
    "            sg_node_index_local = sorted(mapper.values())\n",
    "    \n",
    "            self.sg_edges_local[cluster] = [ [ mapper[edge[0]], mapper[edge[1]] ] for edge in self.sg_overlapping_edges_global[cluster] ] + \\\n",
    "                                           [ [ mapper[edge[1]], mapper[edge[0]] ] for edge in self.sg_overlapping_edges_global[cluster] ] + \\\n",
    "                                           [ [i, i] for i in sg_node_index_local ]     \n",
    "            # need the sg_edges_local[cluster] to also include the self-loops and also the edge_weight\n",
    "            self.sg_edge_weight_local[cluster] = [ self.edge_weight_global_dict[(edge[0], edge[1])] for edge in self.sg_overlapping_edges_global[cluster] ] + \\\n",
    "                                                 [ self.edge_weight_global_dict[(edge[1], edge[0])] for edge in self.sg_overlapping_edges_global[cluster] ] + \\\n",
    "                                                 [ self.edge_weight_global_dict[(i, i)] for i in self.sg_overlapping_nodes_global[cluster] ]\n",
    "            \n",
    "            self.sg_train_nodes_local[cluster] = [ mapper[global_idx] for global_idx in self.sg_train_nodes_global[cluster] ]\n",
    "            self.sg_test_nodes_local[cluster] = [ mapper[global_idx] for global_idx in self.sg_test_nodes_global[cluster] ]\n",
    "            self.sg_validation_nodes_local[cluster] = [ mapper[global_idx] for global_idx in self.sg_validation_nodes_global[cluster] ] \n",
    "            \n",
    "            self.sg_features[cluster] = self.features[self.sg_overlapping_nodes_global[cluster],:]\n",
    "            self.sg_labels[cluster] = self.label[self.sg_overlapping_nodes_global[cluster]]\n",
    "        \n",
    "    \n",
    "    \n",
    "    def general_all_overlapping_clustering(self):\n",
    "        # later will have further mini-batch train nodes\n",
    "        \"\"\"\n",
    "            create data intersection between different isolate partitions of data\n",
    "        \"\"\"\n",
    "        self.type = 'all_overlapping'\n",
    "        # shallow copy of the dictionaries\n",
    "        self.sg_overlapping_nodes_global = {key : set(val) for key, val in self.sg_nodes_global.items()}\n",
    "        # global id of edges, each edge is recorded only one time\n",
    "        self.sg_overlapping_edges_global = copy.deepcopy(self.sg_edges_global)\n",
    "        self.sg_edges_local = {}\n",
    "        self.sg_edge_weight_local = {}\n",
    "        self.sg_isolate_nodes_local = {}\n",
    "        \n",
    "        self.sg_train_nodes_local = {}\n",
    "        self.sg_test_nodes_local = {}\n",
    "        self.sg_validation_nodes_local = {}\n",
    "        \n",
    "        self.sg_features = {}\n",
    "        self.sg_labels = {}\n",
    "        # to keep the info one clustering\n",
    "        self.info_overlapping_cluster_size = {}\n",
    "        \n",
    "        # add inter-cluster edges endpoints to two clusters separately\n",
    "        # this time we add nodes overlapping with any node in each isolate cluster\n",
    "        for start, end in self.macro_inter_edges:\n",
    "            # two overlapping edges should be added separately\n",
    "            start_cluster_id = self.cluster_membership[start]\n",
    "            self.sg_overlapping_nodes_global[start_cluster_id].add(end)\n",
    "            self.sg_overlapping_edges_global[start_cluster_id].add((start, end))\n",
    "            \n",
    "            end_cluster_id = self.cluster_membership[end]\n",
    "            self.sg_overlapping_nodes_global[end_cluster_id].add(start)\n",
    "            self.sg_overlapping_edges_global[end_cluster_id].add((start, end))\n",
    "        \n",
    "        # map the global id into local id of each cluster\n",
    "        for cluster in self.clusters:\n",
    "            # make the overlapping nodes as a sorted list\n",
    "            self.sg_overlapping_nodes_global[cluster] = sorted(self.sg_overlapping_nodes_global[cluster])\n",
    "            \n",
    "            self.info_overlapping_cluster_size[cluster] = len(self.sg_overlapping_nodes_global[cluster])\n",
    "            \n",
    "            mapper = {node: i for i, node in enumerate(sorted(self.sg_overlapping_nodes_global[cluster]))}\n",
    "            \n",
    "            self.sg_isolate_nodes_local[cluster] = [mapper[node] for node in self.sg_nodes_global[cluster]]\n",
    "            sg_node_index_local = sorted(mapper.values())\n",
    "    \n",
    "            self.sg_edges_local[cluster] = [ [ mapper[edge[0]], mapper[edge[1]] ] for edge in self.sg_overlapping_edges_global[cluster] ] + \\\n",
    "                                           [ [ mapper[edge[1]], mapper[edge[0]] ] for edge in self.sg_overlapping_edges_global[cluster] ] + \\\n",
    "                                           [ [i, i] for i in sg_node_index_local ]     \n",
    "            # need the sg_edges_local[cluster] to also include the self-loops and also the edge_weight\n",
    "            self.sg_edge_weight_local[cluster] = [ self.edge_weight_global_dict[(edge[0], edge[1])] for edge in self.sg_overlapping_edges_global[cluster] ] + \\\n",
    "                                                 [ self.edge_weight_global_dict[(edge[1], edge[0])] for edge in self.sg_overlapping_edges_global[cluster] ] + \\\n",
    "                                                 [ self.edge_weight_global_dict[(i, i)] for i in self.sg_overlapping_nodes_global[cluster] ]\n",
    "            \n",
    "            self.sg_train_nodes_local[cluster] = [ mapper[global_idx] for global_idx in self.sg_train_nodes_global[cluster] ]\n",
    "            self.sg_test_nodes_local[cluster] = [ mapper[global_idx] for global_idx in self.sg_test_nodes_global[cluster] ]\n",
    "            self.sg_validation_nodes_local[cluster] = [ mapper[global_idx] for global_idx in self.sg_validation_nodes_global[cluster] ] \n",
    "            \n",
    "            self.sg_features[cluster] = self.features[self.sg_overlapping_nodes_global[cluster],:]\n",
    "            self.sg_labels[cluster] = self.label[self.sg_overlapping_nodes_global[cluster]]\n",
    "        \n",
    "    # select the training nodes as the mini-batch for each cluster\n",
    "    def mini_batch_train_clustering(self):\n",
    "        \"\"\"\n",
    "            create the mini-batch focused on the train nodes only\n",
    "        \"\"\"\n",
    "        self.sg_mini_edges_global = {}\n",
    "        self.sg_overlapping_train_nodes_global = {}\n",
    "        \n",
    "        self.sg_mini_train_nodes_local = {}\n",
    "        self.sg_mini_edges_local = {}\n",
    "        self.sg_mini_edge_weight_local = {}\n",
    "        self.sg_mini_features = {}\n",
    "        self.sg_mini_labels = {}\n",
    "        \n",
    "        self.info_train_batch_size = {}\n",
    "        \n",
    "        for cluster in self.clusters:\n",
    "            # first select all the overlapping nodes of the train nodes\n",
    "            train_set = set(self.sg_train_nodes_global[cluster])\n",
    "            self.sg_mini_edges_global[cluster] = [ edge for edge in self.sg_overlapping_edges_global[cluster] if edge[0] in train_set or edge[1] in train_set]\n",
    "            \n",
    "            self.sg_overlapping_train_nodes_global[cluster] = train_set\n",
    "            for edge in self.sg_mini_edges_global[cluster]:\n",
    "                self.sg_overlapping_train_nodes_global[cluster] |= {edge[0], edge[1]}\n",
    "            self.sg_overlapping_train_nodes_global[cluster] = sorted(self.sg_overlapping_train_nodes_global[cluster])\n",
    "            \n",
    "            mini_mapper = {node: i for i, node in enumerate(self.sg_overlapping_train_nodes_global[cluster])}\n",
    "            sg_node_index_local = sorted(mini_mapper.values())\n",
    "            \n",
    "            self.sg_mini_edges_local[cluster] = \\\n",
    "                           [ [ mini_mapper[edge[0]], mini_mapper[edge[1]] ] for edge in self.sg_mini_edges_global[cluster] ] + \\\n",
    "                           [ [ mini_mapper[edge[1]], mini_mapper[edge[0]] ] for edge in self.sg_mini_edges_global[cluster] ] + \\\n",
    "                           [ [i, i] for i in sg_node_index_local ]  \n",
    "            \n",
    "            self.sg_mini_edge_weight_local[cluster] = \\\n",
    "                            [ self.edge_weight_global_dict[(edge[0], edge[1])] for edge in self.sg_mini_edges_global[cluster] ] + \\\n",
    "                            [ self.edge_weight_global_dict[(edge[1], edge[0])] for edge in self.sg_mini_edges_global[cluster] ] + \\\n",
    "                            [ self.edge_weight_global_dict[(i, i)] for i in self.sg_overlapping_train_nodes_global[cluster] ]\n",
    "            \n",
    "#             print('train nodes global for the cluster # ' + str(cluster), self.sg_train_nodes_global[cluster])\n",
    "            self.sg_mini_train_nodes_local[cluster] = [ mini_mapper[global_idx] for global_idx in self.sg_train_nodes_global[cluster] ]\n",
    "            \n",
    "            self.sg_mini_features[cluster] = self.features[self.sg_overlapping_train_nodes_global[cluster],:]\n",
    "            self.sg_mini_labels[cluster] = self.label[self.sg_overlapping_train_nodes_global[cluster]]\n",
    "            \n",
    "            # record information \n",
    "            self.info_train_batch_size[cluster] = len(self.sg_overlapping_train_nodes_global[cluster])\n",
    "        \n",
    "        # at last, out of all the cluster loop do the data transfer\n",
    "        self.transfer_edges_and_nodes()\n",
    "        self.mini_transfer_edges_and_nodes()\n",
    "    \n",
    "    def mini_transfer_edges_and_nodes(self):\n",
    "        for cluster in self.clusters:\n",
    "            self.sg_mini_edges_local[cluster] = torch.LongTensor(self.sg_mini_edges_local[cluster]).t()\n",
    "            self.sg_mini_edge_weight_local[cluster] = torch.FloatTensor(self.sg_mini_edge_weight_local[cluster])\n",
    "            self.sg_mini_train_nodes_local[cluster] = torch.LongTensor(self.sg_mini_train_nodes_local[cluster])\n",
    "            self.sg_mini_features[cluster] = torch.FloatTensor(self.sg_mini_features[cluster])\n",
    "            self.sg_mini_labels[cluster] = torch.LongTensor(self.sg_mini_labels[cluster])\n",
    "        \n",
    "    # for comparison purpose, just used as baseline\n",
    "    def general_baseline_all_overlapping_clustering(self):\n",
    "        \"\"\"\n",
    "            create data intersection between different isolate partitions of data\n",
    "        \"\"\"\n",
    "        self.type = 'all_overlapping'\n",
    "        # shallow copy of the dictionaries\n",
    "        self.sg_overlapping_nodes_global = {key : set(val) for key, val in self.sg_nodes_global.items()}\n",
    "        # global id of edges, each edge is recorded only one time\n",
    "        self.sg_overlapping_edges_global = copy.deepcopy(self.sg_edges_global)\n",
    "        self.sg_edges_local = {}\n",
    "        self.sg_edge_weight_local = {}\n",
    "        self.sg_isolate_nodes_local = {}\n",
    "#         self.sg_edges_global_check = {}\n",
    "        \n",
    "        self.sg_train_nodes_local = {}\n",
    "        self.sg_test_nodes_local = {}\n",
    "        self.sg_validation_nodes_local = {}\n",
    "        \n",
    "        self.sg_features = {}\n",
    "        self.sg_labels = {}\n",
    "        # to keep the info one clustering\n",
    "        self.info_overlapping_cluster_size = {}\n",
    "        \n",
    "        # add inter-cluster edges endpoints to two clusters separately\n",
    "        # this time we add nodes overlapping with any node in each isolate cluster\n",
    "        for start, end in self.macro_inter_edges:\n",
    "            # two overlapping edges should be added separately\n",
    "            start_cluster_id = self.cluster_membership[start]\n",
    "            self.sg_overlapping_nodes_global[start_cluster_id].add(end)\n",
    "            self.sg_overlapping_edges_global[start_cluster_id].add((start, end))\n",
    "            \n",
    "            end_cluster_id = self.cluster_membership[end]\n",
    "            self.sg_overlapping_nodes_global[end_cluster_id].add(start)\n",
    "            self.sg_overlapping_edges_global[end_cluster_id].add((start, end))\n",
    "        \n",
    "        # map the global id into local id of each cluster\n",
    "        for cluster in self.clusters:\n",
    "            # make the overlapping nodes as a sorted list\n",
    "            self.sg_overlapping_nodes_global[cluster] = sorted(self.sg_overlapping_nodes_global[cluster])\n",
    "            \n",
    "            self.info_overlapping_cluster_size[cluster] = len(self.sg_overlapping_nodes_global[cluster])\n",
    "            \n",
    "            mapper = {node: i for i, node in enumerate(sorted(self.sg_overlapping_nodes_global[cluster]))}\n",
    "            \n",
    "            self.sg_isolate_nodes_local[cluster] = [mapper[node] for node in self.sg_nodes_global[cluster]]\n",
    "            sg_node_index_local = sorted(mapper.values())\n",
    "    \n",
    "            self.sg_edges_local[cluster] = [ [ mapper[edge[0]], mapper[edge[1]] ] for edge in self.sg_overlapping_edges_global[cluster] ] + \\\n",
    "                                           [ [ mapper[edge[1]], mapper[edge[0]] ] for edge in self.sg_overlapping_edges_global[cluster] ] + \\\n",
    "                                           [ [i, i] for i in sg_node_index_local ]     \n",
    "            # need the sg_edges_local[cluster] to also include the self-loops and also the edge_weight\n",
    "            self.sg_edge_weight_local[cluster] = [ self.edge_weight_global_dict[(edge[0], edge[1])] for edge in self.sg_overlapping_edges_global[cluster] ] + \\\n",
    "                                                 [ self.edge_weight_global_dict[(edge[1], edge[0])] for edge in self.sg_overlapping_edges_global[cluster] ] + \\\n",
    "                                                 [ self.edge_weight_global_dict[(i, i)] for i in self.sg_overlapping_nodes_global[cluster] ]\n",
    "            \n",
    "            self.sg_train_nodes_local[cluster] = [ mapper[global_idx] for global_idx in self.sg_train_nodes_global[cluster] ]\n",
    "            self.sg_test_nodes_local[cluster] = [ mapper[global_idx] for global_idx in self.sg_test_nodes_global[cluster] ]\n",
    "            self.sg_validation_nodes_local[cluster] = [ mapper[global_idx] for global_idx in self.sg_validation_nodes_global[cluster] ] \n",
    "            \n",
    "            self.sg_features[cluster] = self.features[self.sg_overlapping_nodes_global[cluster],:]\n",
    "            self.sg_labels[cluster] = self.label[self.sg_overlapping_nodes_global[cluster]]\n",
    "            \n",
    "            \n",
    "        \n",
    "        self.transfer_edges_and_nodes()\n",
    "        \n",
    "    def transfer_edges_and_nodes(self):\n",
    "        \"\"\"\n",
    "        Transfering the data to PyTorch format.\n",
    "        \"\"\"\n",
    "        self.edge_weight_global = torch.FloatTensor(self.edge_weight_global)\n",
    "#         self.edge_index_global_self_loops = self.edge_index_global_self_loops\n",
    "#         self.label = torch.LongTensor(self.label)\n",
    "        for cluster in self.clusters:\n",
    "#             self.sg_nodes_global[cluster] = torch.LongTensor(self.sg_nodes_global[cluster])\n",
    "#             self.sg_edges_global_check[cluster] = torch.LongTensor(self.sg_edges_global_check[cluster]).t()\n",
    "            self.sg_edges_local[cluster] = torch.LongTensor(self.sg_edges_local[cluster]).t()\n",
    "            self.sg_edge_weight_local[cluster] = torch.FloatTensor(self.sg_edge_weight_local[cluster])\n",
    "            self.sg_isolate_nodes_local[cluster] = torch.LongTensor(self.sg_isolate_nodes_local[cluster])\n",
    "            \n",
    "            # Expects input to be <= 2-D tensor and transposes dimensions 0 and 1.\n",
    "            self.sg_train_nodes_local[cluster] = torch.LongTensor(self.sg_train_nodes_local[cluster])\n",
    "            self.sg_test_nodes_local[cluster] = torch.LongTensor(self.sg_test_nodes_local[cluster])\n",
    "            self.sg_validation_nodes_local[cluster] = torch.LongTensor(self.sg_validation_nodes_local[cluster])\n",
    "            \n",
    "            self.sg_train_nodes_global[cluster] = torch.LongTensor(self.sg_train_nodes_global[cluster])\n",
    "            self.sg_test_nodes_global[cluster] = torch.LongTensor(self.sg_test_nodes_global[cluster])\n",
    "            self.sg_validation_nodes_global[cluster] = torch.LongTensor(self.sg_validation_nodes_global[cluster])\n",
    "\n",
    "            self.sg_features[cluster] = torch.FloatTensor(self.sg_features[cluster])\n",
    "            self.sg_labels[cluster] = torch.LongTensor(self.sg_labels[cluster])\n",
    "\n"
   ]
  },
  {
   "cell_type": "markdown",
   "metadata": {},
   "source": [
    "#### Partition Graph with trainiing and testing"
   ]
  },
  {
   "cell_type": "code",
   "execution_count": 10,
   "metadata": {},
   "outputs": [],
   "source": [
    "# from Custom_GCN_layer import Net\n",
    "import time\n",
    "from tqdm import tqdm_notebook as tqdm\n",
    "from torch.autograd import Variable\n",
    "from sklearn.metrics import f1_score\n",
    "from sklearn.metrics import accuracy_score\n",
    "\n",
    "class ClusterGCNTrainer_mini_Train(object):\n",
    "    \"\"\"\n",
    "    Training a ClusterGCN.\n",
    "    \"\"\"\n",
    "    def __init__(self, clustering_machine, in_channels, out_channels, input_layers = [32, 16], dropout=0.3):\n",
    "        \"\"\"\n",
    "        :param in_channels, out_channels: input and output feature dimension\n",
    "        :param clustering_machine:\n",
    "        \"\"\"  \n",
    "        self.device = torch.device(\"cuda\" if torch.cuda.is_available() else \"cpu\")\n",
    "        self.clustering_machine = clustering_machine\n",
    "        self.in_channels = in_channels\n",
    "        self.out_channels = out_channels\n",
    "        self.input_layers = input_layers\n",
    "        self.dropout = dropout\n",
    "        \n",
    "        self.create_model()\n",
    "\n",
    "    def create_model(self):\n",
    "        \"\"\"\n",
    "        Creating a StackedGCN and transferring to CPU/GPU.\n",
    "        \"\"\"\n",
    "#         print('used layers are: ', str(self.input_layers))\n",
    "        self.model = Net(self.in_channels, self.out_channels, input_layers = self.input_layers, dropout = self.dropout)\n",
    "        self.model = self.model.to(self.device)\n",
    "    \n",
    "    # call the forward function batch by batch\n",
    "    def do_forward_pass(self, cluster):\n",
    "        \"\"\"\n",
    "        Making a forward pass with data from a given partition.\n",
    "        :param cluster: Cluster index.\n",
    "        :return average_loss: Average loss on the cluster.\n",
    "        :return node_count: Number of nodes.\n",
    "        \"\"\"\n",
    "#         print('inside overlapping do forward for cluster : ', cluster)\n",
    "        \n",
    "        edges = self.clustering_machine.sg_mini_edges_local[cluster].to(self.device)\n",
    "        features = self.clustering_machine.sg_mini_features[cluster].to(self.device)\n",
    "        edge_weights = self.clustering_machine.sg_mini_edge_weight_local[cluster].to(self.device)\n",
    "        train_nodes = self.clustering_machine.sg_mini_train_nodes_local[cluster].to(self.device)\n",
    "        # torch.squeeze()  removes all the dimension with value 1, change the target from 2-D  (N by 1) into 1-D N tensor\n",
    "        target = self.clustering_machine.sg_mini_labels[cluster].to(self.device)\n",
    "        '''Target and features are one-one mapping'''\n",
    "        # calculate the probabilites from log_sofmax\n",
    "        predictions = self.model(edges, features, edge_weights)\n",
    "        \n",
    "        ave_loss = torch.nn.functional.nll_loss(predictions[train_nodes], target[train_nodes])\n",
    "        node_count = train_nodes.shape[0]\n",
    "\n",
    "        # for each cluster keep track of the counts of the nodes\n",
    "        return ave_loss, node_count\n",
    "\n",
    "\n",
    "    def update_average_loss(self, batch_average_loss, node_count, isolate = True):\n",
    "        \"\"\"\n",
    "        Updating the average loss in the epoch.\n",
    "        :param batch_average_loss: Loss of the cluster. \n",
    "        :param node_count: Number of nodes in currently processed cluster.\n",
    "        :return average_loss: Average loss in the epoch.\n",
    "        \"\"\"\n",
    "        self.accumulated_training_loss = self.accumulated_training_loss + batch_average_loss.item()*node_count\n",
    "        if isolate:\n",
    "            self.node_count_seen = self.node_count_seen + node_count\n",
    "        average_loss = self.accumulated_training_loss / self.node_count_seen\n",
    "        return average_loss\n",
    "\n",
    "    def do_prediction(self, cluster):\n",
    "        \"\"\"\n",
    "        Scoring a cluster.\n",
    "        :param cluster: Cluster index.\n",
    "        :return prediction: Prediction matrix with probabilities.\n",
    "        :return target: Target vector.\n",
    "        \"\"\"\n",
    "        \n",
    "        edges = self.clustering_machine.sg_edges_local[cluster].to(self.device)\n",
    "        features = self.clustering_machine.sg_features[cluster].to(self.device)\n",
    "        edge_weights = self.clustering_machine.sg_edge_weight_local[cluster].to(self.device)\n",
    "        test_nodes = self.clustering_machine.sg_test_nodes_local[cluster].to(self.device)\n",
    "        target = self.clustering_machine.sg_labels[cluster].to(self.device)\n",
    "        prediction = self.model(edges, features, edge_weights)\n",
    "        \n",
    "        return prediction[test_nodes], target[test_nodes]\n",
    "\n",
    "    # iterate through epoch and also the clusters\n",
    "    def train(self, epoch_num=10, learning_rate=0.01):\n",
    "        \"\"\"\n",
    "        Training a model.\n",
    "        \"\"\"\n",
    "#         epochs = trange(epoch_num, desc = \"Train Loss\")\n",
    "#         epochs = tqdm(range(e1poch_num), desc = \"Train Loss\")\n",
    "        # A shortcut for tqdm(xrange(args), *kwargs). On Python3+ range is used instead of xrange.\n",
    "        self.optimizer = torch.optim.Adam(self.model.parameters(), lr=learning_rate)\n",
    "        self.model.train()\n",
    "        self.record_ave_training_loss = []\n",
    "        \n",
    "        t0 = time.time()\n",
    "        for epoch in range(epoch_num):\n",
    "#             For test purpose, we let the clusters to follow specific order\n",
    "            random.shuffle(self.clustering_machine.clusters)\n",
    "            self.node_count_seen = 0\n",
    "            self.accumulated_training_loss = 0\n",
    "            for cluster in self.clustering_machine.clusters:\n",
    "#             for cluster in [0]:\n",
    "#                 print('current cluster is: ', cluster)\n",
    "                self.optimizer.zero_grad()\n",
    "                batch_ave_loss, node_count = self.do_forward_pass(cluster)\n",
    "                batch_ave_loss.backward()\n",
    "                self.optimizer.step()\n",
    "                ave_loss = self.update_average_loss(batch_ave_loss, node_count)\n",
    "            \n",
    "            self.record_ave_training_loss.append(ave_loss)\n",
    "        # convert to ms\n",
    "        self.time_train_total = ((time.time() - t0) * 1000)\n",
    "        \n",
    "#         epochs.set_description(\"Ave Train Loss per node: %g \" % round(ave_loss,6))\n",
    "#         print(\"Train ave loss of overlapping clusters per node : %g\" % round(ave_loss,6))\n",
    "\n",
    "    def test(self):\n",
    "        \"\"\"\n",
    "        Scoring the test and printing the F-1 score.\n",
    "        \"\"\"\n",
    "        self.model.eval()\n",
    "        self.predictions = []\n",
    "        self.targets = []\n",
    "        for cluster in self.clustering_machine.clusters:\n",
    "            prediction, target = self.do_prediction(cluster)\n",
    "\n",
    "            self.predictions.append(prediction.cpu().detach().numpy())\n",
    "            self.targets.append(target.cpu().detach().numpy())\n",
    "        \n",
    "        # concatenate all the ndarrays inside this list\n",
    "        self.targets = np.concatenate(self.targets)\n",
    "        # along axis:    axis == 1\n",
    "        self.predictions = np.concatenate(self.predictions).argmax(1)  # return the indices of maximum probability \n",
    "#         print('shape of the targets and predictions are: ', self.targets.shape, self.predictions.shape)\n",
    "        \n",
    "        score = f1_score(self.targets, self.predictions, average=\"micro\")\n",
    "#         print(\"\\nTest F-1 score: {:.4f}\".format(score))\n",
    "        return score\n",
    "    \n",
    "    def do_validation_prediction(self, cluster):\n",
    "        \"\"\"\n",
    "        Scoring a cluster.\n",
    "        :param cluster: Cluster index.\n",
    "        :return prediction: Prediction matrix with probabilities.\n",
    "        :return target: Target vector.\n",
    "        \"\"\"\n",
    "        edges = self.clustering_machine.sg_edges_local[cluster].to(self.device)\n",
    "        features = self.clustering_machine.sg_features[cluster].to(self.device)\n",
    "        edge_weights = self.clustering_machine.sg_edge_weight_local[cluster].to(self.device)\n",
    "        validation_nodes = self.clustering_machine.sg_validation_nodes_local[cluster].to(self.device)\n",
    "        target = self.clustering_machine.sg_labels[cluster].to(self.device)\n",
    "        \n",
    "        prediction = self.model(edges, features, edge_weights)\n",
    "#         print('validation results: \\n', prediction[validation_nodes])\n",
    "        return prediction[validation_nodes], target[validation_nodes]\n",
    "\n",
    "    def validate(self):\n",
    "        \"\"\"\n",
    "        Scoring the test and printing the F-1 score.\n",
    "        \"\"\"\n",
    "        self.model.eval()\n",
    "        self.predictions = []\n",
    "        self.targets = []\n",
    "        for cluster in self.clustering_machine.clusters:\n",
    "            prediction, target = self.do_validation_prediction(cluster)\n",
    "\n",
    "            self.predictions.append(prediction.cpu().detach().numpy())\n",
    "            self.targets.append(target.cpu().detach().numpy())\n",
    "        \n",
    "        # concatenate all the ndarrays inside this list\n",
    "        self.targets = np.concatenate(self.targets)\n",
    "        # along axis:    axis == 1\n",
    "        self.predictions = np.concatenate(self.predictions).argmax(1)  # return the indices of maximum probability \n",
    "#         print('shape of the targets and predictions are: ', self.targets.shape, self.predictions.shape)\n",
    "        \n",
    "        score = f1_score(self.targets, self.predictions, average=\"micro\")\n",
    "#         print(\"\\nValidation F-1 score: {:.4f}\".format(score))\n",
    "        return score\n"
   ]
  },
  {
   "cell_type": "code",
   "execution_count": 11,
   "metadata": {},
   "outputs": [],
   "source": [
    "class ClusterGCNTrainer_baseline(object):\n",
    "    \"\"\"\n",
    "    Training a ClusterGCN.\n",
    "    \"\"\"\n",
    "    def __init__(self, clustering_machine, in_channels, out_channels, input_layers = [32, 16], dropout=0.3):\n",
    "        \"\"\"\n",
    "        :param in_channels, out_channels: input and output feature dimension\n",
    "        :param clustering_machine:\n",
    "        \"\"\"  \n",
    "        self.device = torch.device(\"cuda\" if torch.cuda.is_available() else \"cpu\")\n",
    "        self.clustering_machine = clustering_machine\n",
    "        self.in_channels = in_channels\n",
    "        self.out_channels = out_channels\n",
    "        self.input_layers = input_layers\n",
    "        self.dropout = dropout\n",
    "        \n",
    "        self.create_model()\n",
    "\n",
    "    def create_model(self):\n",
    "        \"\"\"\n",
    "        Creating a StackedGCN and transferring to CPU/GPU.\n",
    "        \"\"\"\n",
    "#         print('used layers are: ', str(self.input_layers))\n",
    "        self.model = Net(self.in_channels, self.out_channels, input_layers = self.input_layers, dropout = self.dropout)\n",
    "        self.model = self.model.to(self.device)\n",
    "    \n",
    "    # call the forward function batch by batch\n",
    "    def do_forward_pass(self, cluster):\n",
    "        \"\"\"\n",
    "        Making a forward pass with data from a given partition.\n",
    "        :param cluster: Cluster index.\n",
    "        :return average_loss: Average loss on the cluster.\n",
    "        :return node_count: Number of nodes.\n",
    "        \"\"\"\n",
    "#         print('inside overlapping do forward for cluster : ', cluster)\n",
    "        \n",
    "        edges = self.clustering_machine.sg_edges_local[cluster].to(self.device)\n",
    "        features = self.clustering_machine.sg_features[cluster].to(self.device)\n",
    "        edge_weights = self.clustering_machine.sg_edge_weight_local[cluster].to(self.device)\n",
    "        train_nodes = self.clustering_machine.sg_train_nodes_local[cluster].to(self.device)\n",
    "        \n",
    "        isolate_nodes = self.clustering_machine.sg_isolate_nodes_local[cluster].to(self.device)\n",
    "        \n",
    "        # torch.squeeze()  removes all the dimension with value 1, change the target from 2-D  (N by 1) into 1-D N tensor\n",
    "        target = self.clustering_machine.sg_labels[cluster].to(self.device)\n",
    "        '''Target and features are one-one mapping'''\n",
    "        # calculate the probabilites from log_sofmax\n",
    "        predictions = self.model(edges, features, edge_weights)\n",
    "        \n",
    "        ave_loss = torch.nn.functional.nll_loss(predictions[train_nodes], target[train_nodes])\n",
    "        node_count = train_nodes.shape[0]\n",
    "\n",
    "        # for each cluster keep track of the counts of the nodes\n",
    "        return ave_loss, node_count\n",
    "\n",
    "\n",
    "    def update_average_loss(self, batch_average_loss, node_count, isolate = True):\n",
    "        \"\"\"\n",
    "        Updating the average loss in the epoch.\n",
    "        :param batch_average_loss: Loss of the cluster. \n",
    "        :param node_count: Number of nodes in currently processed cluster.\n",
    "        :return average_loss: Average loss in the epoch.\n",
    "        \"\"\"\n",
    "        self.accumulated_training_loss = self.accumulated_training_loss + batch_average_loss.item()*node_count\n",
    "        if isolate:\n",
    "            self.node_count_seen = self.node_count_seen + node_count\n",
    "        average_loss = self.accumulated_training_loss / self.node_count_seen\n",
    "        return average_loss\n",
    "\n",
    "    def do_prediction(self, cluster):\n",
    "        \"\"\"\n",
    "        Scoring a cluster.\n",
    "        :param cluster: Cluster index.\n",
    "        :return prediction: Prediction matrix with probabilities.\n",
    "        :return target: Target vector.\n",
    "        \"\"\"\n",
    "        \n",
    "        edges = self.clustering_machine.sg_edges_local[cluster].to(self.device)\n",
    "        features = self.clustering_machine.sg_features[cluster].to(self.device)\n",
    "        edge_weights = self.clustering_machine.sg_edge_weight_local[cluster].to(self.device)\n",
    "        test_nodes = self.clustering_machine.sg_test_nodes_local[cluster].to(self.device)\n",
    "        target = self.clustering_machine.sg_labels[cluster].to(self.device)\n",
    "        prediction = self.model(edges, features, edge_weights)\n",
    "        \n",
    "        return prediction[test_nodes], target[test_nodes]\n",
    "\n",
    "    # iterate through epoch and also the clusters\n",
    "    def train(self, epoch_num=10, learning_rate=0.01):\n",
    "        \"\"\"\n",
    "        Training a model.\n",
    "        \"\"\"\n",
    "#         epochs = trange(epoch_num, desc = \"Train Loss\")\n",
    "#         epochs = tqdm(range(e1poch_num), desc = \"Train Loss\")\n",
    "        # A shortcut for tqdm(xrange(args), *kwargs). On Python3+ range is used instead of xrange.\n",
    "        self.optimizer = torch.optim.Adam(self.model.parameters(), lr=learning_rate)\n",
    "        self.model.train()\n",
    "        self.record_ave_training_loss = []\n",
    "        \n",
    "        t0 = time.time()\n",
    "        for epoch in range(epoch_num):\n",
    "#             For test purpose, we let the clusters to follow specific order\n",
    "            random.shuffle(self.clustering_machine.clusters)\n",
    "            self.node_count_seen = 0\n",
    "            self.accumulated_training_loss = 0\n",
    "            for cluster in self.clustering_machine.clusters:\n",
    "#             for cluster in [0]:\n",
    "#                 print('current cluster is: ', cluster)\n",
    "                self.optimizer.zero_grad()\n",
    "                batch_ave_loss, node_count = self.do_forward_pass(cluster)\n",
    "                batch_ave_loss.backward()\n",
    "                self.optimizer.step()\n",
    "                ave_loss = self.update_average_loss(batch_ave_loss, node_count)\n",
    "            \n",
    "            self.record_ave_training_loss.append(ave_loss)\n",
    "        # convert to ms\n",
    "        self.time_train_total = ((time.time() - t0) * 1000)\n",
    "        \n",
    "#         epochs.set_description(\"Ave Train Loss per node: %g \" % round(ave_loss,6))\n",
    "#         print(\"Train ave loss of overlapping clusters per node : %g\" % round(ave_loss,6))\n",
    "\n",
    "    def test(self):\n",
    "        \"\"\"\n",
    "        Scoring the test and printing the F-1 score.\n",
    "        \"\"\"\n",
    "        self.model.eval()\n",
    "        self.predictions = []\n",
    "        self.targets = []\n",
    "        for cluster in self.clustering_machine.clusters:\n",
    "            prediction, target = self.do_prediction(cluster)\n",
    "\n",
    "            self.predictions.append(prediction.cpu().detach().numpy())\n",
    "            self.targets.append(target.cpu().detach().numpy())\n",
    "        \n",
    "        # concatenate all the ndarrays inside this list\n",
    "        self.targets = np.concatenate(self.targets)\n",
    "        # along axis:    axis == 1\n",
    "        self.predictions = np.concatenate(self.predictions).argmax(1)  # return the indices of maximum probability \n",
    "#         print('shape of the targets and predictions are: ', self.targets.shape, self.predictions.shape)\n",
    "        \n",
    "        score = f1_score(self.targets, self.predictions, average=\"micro\")\n",
    "#         print(\"\\nTest F-1 score: {:.4f}\".format(score))\n",
    "        return score\n",
    "    \n",
    "    def do_validation_prediction(self, cluster):\n",
    "        \"\"\"\n",
    "        Scoring a cluster.\n",
    "        :param cluster: Cluster index.\n",
    "        :return prediction: Prediction matrix with probabilities.\n",
    "        :return target: Target vector.\n",
    "        \"\"\"\n",
    "        edges = self.clustering_machine.sg_edges_local[cluster].to(self.device)\n",
    "        features = self.clustering_machine.sg_features[cluster].to(self.device)\n",
    "        edge_weights = self.clustering_machine.sg_edge_weight_local[cluster].to(self.device)\n",
    "        validation_nodes = self.clustering_machine.sg_validation_nodes_local[cluster].to(self.device)\n",
    "        target = self.clustering_machine.sg_labels[cluster].to(self.device)\n",
    "        \n",
    "        prediction = self.model(edges, features, edge_weights)\n",
    "        \n",
    "#         print('validation results: \\n', prediction[validation_nodes])\n",
    "        return prediction[validation_nodes], target[validation_nodes]\n",
    "\n",
    "    def validate(self):\n",
    "        \"\"\"\n",
    "        Scoring the test and printing the F-1 score.\n",
    "        \"\"\"\n",
    "        self.model.eval()\n",
    "        self.predictions = []\n",
    "        self.targets = []\n",
    "        for cluster in self.clustering_machine.clusters:\n",
    "            prediction, target = self.do_validation_prediction(cluster)\n",
    "            \n",
    "            self.predictions.append(prediction.cpu().detach().numpy())\n",
    "            self.targets.append(target.cpu().detach().numpy())\n",
    "        \n",
    "        # concatenate all the ndarrays inside this list\n",
    "        self.targets = np.concatenate(self.targets)\n",
    "        # along axis:    axis == 1\n",
    "        self.predictions = np.concatenate(self.predictions).argmax(1)  # return the indices of maximum probability \n",
    "#         print('shape of the targets and predictions are: ', self.targets.shape, self.predictions.shape)\n",
    "        \n",
    "        score = f1_score(self.targets, self.predictions, average=\"micro\")\n",
    "#         print(\"\\nValidation F-1 score: {:.4f}\".format(score))\n",
    "        return score"
   ]
  },
  {
   "cell_type": "markdown",
   "metadata": {},
   "source": [
    "### Whole input graph as base case"
   ]
  },
  {
   "cell_type": "code",
   "execution_count": 12,
   "metadata": {},
   "outputs": [],
   "source": [
    "class wholeClusterGCNTrainer_sequence(object):\n",
    "    \"\"\"\n",
    "    Training a ClusterGCN.\n",
    "    \"\"\"\n",
    "    def __init__(self, clustering_machine, in_channels, out_channels, input_layers = [32, 16], dropout=0.3):\n",
    "        \"\"\"\n",
    "        :param in_channels, out_channels: input and output feature dimension\n",
    "        :param clustering_machine:\n",
    "        \"\"\"  \n",
    "        self.device = torch.device(\"cuda\" if torch.cuda.is_available() else \"cpu\")\n",
    "        self.clustering_machine = clustering_machine\n",
    "        self.in_channels = in_channels\n",
    "        self.out_channels = out_channels\n",
    "        self.input_layers = input_layers\n",
    "        self.dropout = dropout\n",
    "        \n",
    "        self.create_model()\n",
    "\n",
    "    def create_model(self):\n",
    "        \"\"\"\n",
    "        Creating a StackedGCN and transferring to CPU/GPU.\n",
    "        \"\"\"\n",
    "#         print('used layers are: ', str(self.input_layers))\n",
    "        self.model = Net(self.in_channels, self.out_channels, input_layers = self.input_layers, dropout = self.dropout)\n",
    "        self.model = self.model.to(self.device)\n",
    "    \n",
    "    # call the forward function batch by batch\n",
    "    def do_forward_pass(self, cluster):\n",
    "        \"\"\"\n",
    "        Making a forward pass with data from a given partition.\n",
    "        :param cluster: Cluster index.\n",
    "        :return average_loss: Average loss on the cluster.\n",
    "        :return node_count: Number of nodes.\n",
    "        \"\"\"\n",
    "        \n",
    "        train_nodes = self.clustering_machine.sg_train_nodes_global[cluster].to(self.device)\n",
    "        \n",
    "        '''Target and features are one-one mapping'''\n",
    "        # calculate the probabilites from log_sofmax\n",
    "        predictions = self.model(self.edges, self.features, self.edge_weights)\n",
    "        \n",
    "        ave_loss = torch.nn.functional.nll_loss(predictions[train_nodes], self.label[train_nodes])\n",
    "        node_count = train_nodes.shape[0]\n",
    "\n",
    "        # for each cluster keep track of the counts of the nodes\n",
    "        return ave_loss, node_count\n",
    "\n",
    "\n",
    "    def update_average_loss(self, batch_average_loss, node_count, isolate = True):\n",
    "        \"\"\"\n",
    "        Updating the average loss in the epoch.\n",
    "        :param batch_average_loss: Loss of the cluster. \n",
    "        :param node_count: Number of nodes in currently processed cluster.\n",
    "        :return average_loss: Average loss in the epoch.\n",
    "        \"\"\"\n",
    "        self.accumulated_training_loss = self.accumulated_training_loss + batch_average_loss.item()*node_count\n",
    "        if isolate:\n",
    "            self.node_count_seen = self.node_count_seen + node_count\n",
    "        average_loss = self.accumulated_training_loss / self.node_count_seen\n",
    "        return average_loss\n",
    "\n",
    "    def do_prediction(self, cluster):\n",
    "        \"\"\"\n",
    "        Scoring a cluster.\n",
    "        :param cluster: Cluster index.\n",
    "        :return prediction: Prediction matrix with probabilities.\n",
    "        :return target: Target vector.\n",
    "        \"\"\"\n",
    "        edges = self.clustering_machine.edge_index_global_self_loops.to(self.device)\n",
    "        features = self.clustering_machine.features.to(self.device)\n",
    "        edge_weights = self.clustering_machine.edge_weight_global.to(self.device)\n",
    "        test_nodes = self.clustering_machine.sg_test_nodes_global[cluster].to(self.device)\n",
    "        target = self.clustering_machine.label.to(self.device)\n",
    "        prediction = self.model(edges, features, edge_weights)\n",
    "        \n",
    "        return prediction[test_nodes], target[test_nodes]\n",
    "\n",
    "    # iterate through epoch and also the clusters\n",
    "    def train(self, epoch_num=10, learning_rate=0.01):\n",
    "        \"\"\"\n",
    "        Training a model.\n",
    "        \"\"\"\n",
    "        self.optimizer = torch.optim.Adam(self.model.parameters(), lr=learning_rate)\n",
    "        self.model.train()\n",
    "        self.record_ave_training_loss = []\n",
    "        \n",
    "        t0 = time.time()\n",
    "        # first transfer the whole graph data to the GPU device\n",
    "        self.edges = self.clustering_machine.edge_index_global_self_loops.to(self.device)\n",
    "        self.features = self.clustering_machine.features.to(self.device)\n",
    "        self.edge_weights = self.clustering_machine.edge_weight_global.to(self.device)\n",
    "        self.label = self.clustering_machine.label.to(self.device)\n",
    "        \n",
    "        for epoch in range(epoch_num):\n",
    "            random.shuffle(self.clustering_machine.clusters)\n",
    "            self.node_count_seen = 0\n",
    "            self.accumulated_training_loss = 0\n",
    "            for cluster in self.clustering_machine.clusters:\n",
    "                self.optimizer.zero_grad()\n",
    "                batch_ave_loss, node_count = self.do_forward_pass(cluster)\n",
    "                batch_ave_loss.backward()\n",
    "                self.optimizer.step()\n",
    "                ave_loss = self.update_average_loss(batch_ave_loss, node_count)\n",
    "            \n",
    "            self.record_ave_training_loss.append(ave_loss)\n",
    "        # convert to ms\n",
    "        self.time_train_total = ((time.time() - t0) * 1000)\n",
    "        \n",
    "#         epochs.set_description(\"Ave Train Loss per node: %g \" % round(ave_loss,6))\n",
    "#         print(\"Train ave loss of overlapping clusters per node : %g\" % round(ave_loss,6))\n",
    "\n",
    "    def test(self):\n",
    "        \"\"\"\n",
    "        Scoring the test and printing the F-1 score.\n",
    "        \"\"\"\n",
    "        self.model.eval()\n",
    "        self.predictions = []\n",
    "        self.targets = []\n",
    "        for cluster in self.clustering_machine.clusters:\n",
    "            prediction, target = self.do_prediction(cluster)\n",
    "\n",
    "            self.predictions.append(prediction.cpu().detach().numpy())\n",
    "            self.targets.append(target.cpu().detach().numpy())\n",
    "        \n",
    "        # concatenate all the ndarrays inside this list\n",
    "        self.targets = np.concatenate(self.targets)\n",
    "        # along axis:    axis == 1\n",
    "        self.predictions = np.concatenate(self.predictions).argmax(1)  # return the indices of maximum probability \n",
    "#         print('shape of the targets and predictions are: ', self.targets.shape, self.predictions.shape)\n",
    "        \n",
    "        score = f1_score(self.targets, self.predictions, average=\"micro\")\n",
    "#         print(\"\\nTest F-1 score: {:.4f}\".format(score))\n",
    "        return score\n",
    "    \n",
    "    def do_validation_prediction(self, cluster):\n",
    "        \"\"\"\n",
    "        Scoring a cluster.\n",
    "        :param cluster: Cluster index.\n",
    "        :return prediction: Prediction matrix with probabilities.\n",
    "        :return target: Target vector.\n",
    "        \"\"\"\n",
    "        edges = self.clustering_machine.edge_index_global_self_loops.to(self.device)\n",
    "        features = self.clustering_machine.features.to(self.device)\n",
    "        edge_weights = self.clustering_machine.edge_weight_global.to(self.device)\n",
    "        validation_nodes = self.clustering_machine.sg_validation_nodes_global[cluster].to(self.device)\n",
    "        target = self.clustering_machine.label.to(self.device)\n",
    "        \n",
    "        prediction = self.model(edges, features, edge_weights)\n",
    "        \n",
    "        return prediction[validation_nodes], target[validation_nodes]\n",
    "\n",
    "    def validate(self):\n",
    "        \"\"\"\n",
    "        Scoring the test and printing the F-1 score.\n",
    "        \"\"\"\n",
    "        self.model.eval()\n",
    "        self.predictions = []\n",
    "        self.targets = []\n",
    "        for cluster in self.clustering_machine.clusters:\n",
    "            prediction, target = self.do_validation_prediction(cluster)\n",
    "\n",
    "            self.predictions.append(prediction.cpu().detach().numpy())\n",
    "            self.targets.append(target.cpu().detach().numpy())\n",
    "        \n",
    "        # concatenate all the ndarrays inside this list\n",
    "        self.targets = np.concatenate(self.targets)\n",
    "        # along axis:    axis == 1\n",
    "        self.predictions = np.concatenate(self.predictions).argmax(1)  # return the indices of maximum probability \n",
    "#         print('shape of the targets and predictions are: ', self.targets.shape, self.predictions.shape)\n",
    "        \n",
    "        score = f1_score(self.targets, self.predictions, average=\"micro\")\n",
    "#         print(\"\\nValidation F-1 score: {:.4f}\".format(score))\n",
    "        return score\n"
   ]
  },
  {
   "cell_type": "markdown",
   "metadata": {},
   "source": [
    "#### Check the clustering basic info"
   ]
  },
  {
   "cell_type": "code",
   "execution_count": 13,
   "metadata": {},
   "outputs": [],
   "source": [
    "def check_clustering(clustering_machine, mini_train = False):\n",
    "    whole_graph = clustering_machine.graph\n",
    "\n",
    "    isolate_clusters_global = [ clustering_machine.sg_nodes_global[cluster]\n",
    "                             for cluster in clustering_machine.clusters]\n",
    "    \n",
    "    modeling_clusters_global = [ clustering_machine.sg_model_nodes_global[cluster]\n",
    "                             for cluster in clustering_machine.clusters]\n",
    "\n",
    "    validation_clusters_global = [ clustering_machine.sg_validation_nodes_global[cluster]\n",
    "                             for cluster in clustering_machine.clusters]\n",
    "\n",
    "    training_clusters_global = clustering_machine.sg_train_nodes_global\n",
    "\n",
    "    testing_clusters_global =  clustering_machine.sg_test_nodes_global\n",
    "\n",
    "    sg_edges_clusters_global = [  clustering_machine.sg_edges_global[cluster]\n",
    "                             for cluster in clustering_machine.clusters]\n",
    "    # checking the local id and edges\n",
    "    training_clusters_local = clustering_machine.sg_train_nodes_local\n",
    "    sg_edges_clusters_local = clustering_machine.sg_edges_local\n",
    "    \n",
    "    sg_features_clusters = [ list(clustering_machine.sg_features[cluster].cpu().numpy())\n",
    "                             for cluster in clustering_machine.clusters]\n",
    "\n",
    "    sg_labels_clusters = [ list(clustering_machine.sg_labels[cluster].cpu().numpy())\n",
    "                             for cluster in clustering_machine.clusters]\n",
    "\n",
    "    print('node cluster memeber ship: ', clustering_machine.cluster_membership)\n",
    "    print('isolated clusters are: ', isolate_clusters_global)\n",
    "    \n",
    "    if clustering_machine.type != 'isolate':\n",
    "        overlappihng_clusters_nodes_global = [ clustering_machine.sg_overlapping_nodes_global[cluster]\n",
    "                                 for cluster in clustering_machine.clusters]\n",
    "        overlappihng_clusters_edges_global = [ clustering_machine.sg_overlapping_edges_global[cluster]\n",
    "                                 for cluster in clustering_machine.clusters]\n",
    "        print('info for non-isolate clusters: ')\n",
    "        \n",
    "        print('overlapping cluster nodes global are: \\n', overlappihng_clusters_nodes_global)\n",
    "        print('overlapping cluster edges global are: \\n', overlappihng_clusters_edges_global)\n",
    "\n",
    "    print('training nodes global ids are: \\n', training_clusters_global)\n",
    "    print('training nodes local ids are: \\n', training_clusters_local)\n",
    "    print('overlapping clusters local edges are: \\n', sg_edges_clusters_local)\n",
    "    \n",
    "    print('testing global clusters are: ', testing_clusters_global)\n",
    "    print('modeling global clusters are: ', modeling_clusters_global)\n",
    "    print('validation global clusters are: ', validation_clusters_global)\n",
    "\n",
    "    subgraphs = [clustering_machine.graph.subgraph(isolate_clusters_global[cluster]) \\\n",
    "                                               for cluster in clustering_machine.clusters]\n",
    "    plt.subplot(131)\n",
    "    nx.draw(whole_graph, with_labels=True, font_weight='bold')\n",
    "    # 2) the two halves of the graph\n",
    "    plt.subplot(132)\n",
    "    nx.draw(subgraphs[0], with_labels=True, font_weight='bold')\n",
    "    plt.subplot(133)\n",
    "    nx.draw(subgraphs[1], with_labels=True, font_weight='bold')\n",
    "    \n",
    "    if mini_train:\n",
    "        print('Info about the mini_batch only with training nodes: ')\n",
    "        sg_mini_edges_clusters_global = [  clustering_machine.sg_mini_edges_global[cluster] for cluster in clustering_machine.clusters]\n",
    "        overlapping_train_nodes_clusters_global = clustering_machine.sg_overlapping_train_nodes_global\n",
    "        print('mini train edges of each cluster, global ids: ', sg_mini_edges_clusters_global)\n",
    "        print('mini train overlapping nodes global ids: ', overlapping_train_nodes_clusters_global)\n",
    "        \n"
   ]
  },
  {
   "cell_type": "markdown",
   "metadata": {},
   "source": [
    "### Use Trivial data"
   ]
  },
  {
   "cell_type": "code",
   "execution_count": 14,
   "metadata": {},
   "outputs": [
    {
     "name": "stdout",
     "output_type": "stream",
     "text": [
      "tensor([[0., 0.],\n",
      "        [0., 1.],\n",
      "        [0., 2.],\n",
      "        [0., 3.],\n",
      "        [0., 4.],\n",
      "        [0., 5.],\n",
      "        [0., 6.],\n",
      "        [0., 7.],\n",
      "        [0., 8.],\n",
      "        [0., 9.]]) torch.Size([10, 2])\n"
     ]
    }
   ],
   "source": [
    "'''Trivial data'''\n",
    "edge_index = torch.tensor([[0, 1, 1, 3, 1, 2, 4, 2, 4, 6, 6, 7, 7, 9, 2, 5, 9, 8], \n",
    "                           [1, 0, 3, 1, 2, 1, 2, 4, 6, 4, 7, 6, 9, 7, 5, 2, 8, 9]])\n",
    "# features = torch.rand(10, 3)\n",
    "features = torch.tensor([[0, 0], [0, 1], [0, 2], [0, 3], [0, 4],  \n",
    "                           [0, 5], [0, 6], [0, 7], [0, 8], [0, 9]], dtype = torch.float)\n",
    "# label = torch.tensor([0, 1, 2, 3, 4, 5, 6, 7, 8, 9])\n",
    "\n",
    "label = torch.tensor([0, 1, 1, 0, 1, 1, 1, 0, 0, 0])\n",
    "print(features, features.shape)\n",
    "\n",
    "check_clustering_machine = ClusteringMachine(edge_index, features, label, partition_num = 2)\n",
    "check_clustering_machine.decompose(0.2, 0.4)"
   ]
  },
  {
   "cell_type": "markdown",
   "metadata": {},
   "source": [
    "#### all_overlap, embeddings on the whole overlapping clusters"
   ]
  },
  {
   "cell_type": "code",
   "execution_count": 15,
   "metadata": {},
   "outputs": [
    {
     "name": "stdout",
     "output_type": "stream",
     "text": [
      "node cluster memeber ship:  {0: 0, 1: 0, 2: 0, 3: 0, 4: 1, 5: 1, 6: 1, 7: 1, 8: 0, 9: 1}\n",
      "isolated clusters are:  [[0, 1, 2, 3, 8], [4, 5, 6, 7, 9]]\n",
      "info for non-isolate clusters: \n",
      "overlapping cluster nodes global are: \n",
      " [[0, 1, 2, 3, 4, 5, 8, 9], [2, 4, 5, 6, 7, 8, 9]]\n",
      "overlapping cluster edges global are: \n",
      " [{(0, 1), (1, 2), (1, 3), (9, 8), (2, 5), (2, 4)}, {(6, 7), (4, 6), (9, 8), (2, 5), (2, 4), (7, 9)}]\n",
      "training nodes global ids are: \n",
      " {0: tensor([0, 2]), 1: tensor([7, 9])}\n",
      "training nodes local ids are: \n",
      " {0: tensor([0, 2]), 1: tensor([4, 6])}\n",
      "overlapping clusters local edges are: \n",
      " {0: tensor([[0, 1, 1, 7, 2, 2, 1, 2, 3, 6, 5, 4, 0, 1, 2, 3, 4, 5, 6, 7],\n",
      "        [1, 2, 3, 6, 5, 4, 0, 1, 1, 7, 2, 2, 0, 1, 2, 3, 4, 5, 6, 7]]), 1: tensor([[3, 1, 6, 0, 0, 4, 4, 3, 5, 2, 1, 6, 0, 1, 2, 3, 4, 5, 6],\n",
      "        [4, 3, 5, 2, 1, 6, 3, 1, 6, 0, 0, 4, 0, 1, 2, 3, 4, 5, 6]])}\n",
      "testing global clusters are:  {0: tensor([3]), 1: tensor([5])}\n",
      "modeling global clusters are:  [[0, 2, 3], [5, 7, 9]]\n",
      "validation global clusters are:  [tensor([1, 8]), tensor([4, 6])]\n"
     ]
    },
    {
     "name": "stderr",
     "output_type": "stream",
     "text": [
      "/home/xiangli/anaconda3/envs/pytorch_geometric/lib/python3.7/site-packages/networkx/drawing/nx_pylab.py:579: MatplotlibDeprecationWarning: \n",
      "The iterable function was deprecated in Matplotlib 3.1 and will be removed in 3.3. Use np.iterable instead.\n",
      "  if not cb.iterable(width):\n"
     ]
    },
    {
     "data": {
      "text/plain": [
       "0.5"
      ]
     },
     "execution_count": 15,
     "metadata": {},
     "output_type": "execute_result"
    },
    {
     "data": {
      "image/png": "[encoded data removed]",
      "text/plain": [
       "<Figure size 432x288 with 3 Axes>"
      ]
     },
     "metadata": {},
     "output_type": "display_data"
    }
   ],
   "source": [
    "# baseline case: all_overlap with all nodes inside the cluster calculated\n",
    "clustering_machine = copy.deepcopy(check_clustering_machine)\n",
    "clustering_machine.general_baseline_all_overlapping_clustering()\n",
    "check_clustering(clustering_machine)\n",
    "gcn_trainer_overlap = ClusterGCNTrainer_baseline(clustering_machine, 2, 2, input_layers = [])\n",
    "gcn_trainer_overlap.train(1)\n",
    "gcn_trainer_overlap.validate()"
   ]
  },
  {
   "cell_type": "markdown",
   "metadata": {},
   "source": [
    "#### mini batch train nodes only of all_overlap case"
   ]
  },
  {
   "cell_type": "markdown",
   "metadata": {},
   "source": [
    "<font color=orange>\n",
    "Note: the all_overlap and train_overlap are the same effects in the train process\n",
    "    \n",
    "These two differ in the validation part. Train_overlap will lose some overalpping in the validation nodes which affect F1 score"
   ]
  },
  {
   "cell_type": "code",
   "execution_count": 16,
   "metadata": {},
   "outputs": [
    {
     "data": {
      "text/plain": [
       "0.5"
      ]
     },
     "execution_count": 16,
     "metadata": {},
     "output_type": "execute_result"
    }
   ],
   "source": [
    "# mini-batch of the all_overlap\n",
    "clustering_machine = copy.deepcopy(check_clustering_machine)\n",
    "clustering_machine.general_all_overlapping_clustering()\n",
    "clustering_machine.mini_batch_train_clustering()\n",
    "# check_clustering(clustering_machine, True)\n",
    "gcn_trainer_overlap = ClusterGCNTrainer_mini_Train(clustering_machine, 2, 2, input_layers = [])\n",
    "gcn_trainer_overlap.train(1)\n",
    "gcn_trainer_overlap.validate()"
   ]
  },
  {
   "cell_type": "markdown",
   "metadata": {},
   "source": [
    "#### mini batch train nodes only of train_overlap case"
   ]
  },
  {
   "cell_type": "code",
   "execution_count": 17,
   "metadata": {},
   "outputs": [
    {
     "data": {
      "text/plain": [
       "0.25"
      ]
     },
     "execution_count": 17,
     "metadata": {},
     "output_type": "execute_result"
    }
   ],
   "source": [
    "# mini-batch of the train_overlap\n",
    "clustering_machine = copy.deepcopy(check_clustering_machine)\n",
    "clustering_machine.general_train_overlapping_clustering() \n",
    "clustering_machine.mini_batch_train_clustering()\n",
    "# check_clustering(clustering_machine, True)\n",
    "gcn_trainer_train_overlap = ClusterGCNTrainer_mini_Train(clustering_machine, 2, 2, input_layers = [])\n",
    "gcn_trainer_train_overlap.train(1)\n",
    "gcn_trainer_train_overlap.validate()"
   ]
  },
  {
   "cell_type": "markdown",
   "metadata": {
    "scrolled": true
   },
   "source": [
    "#### mini-batch train nodes only in the isolated cluster"
   ]
  },
  {
   "cell_type": "code",
   "execution_count": 18,
   "metadata": {},
   "outputs": [
    {
     "data": {
      "text/plain": [
       "0.5"
      ]
     },
     "execution_count": 18,
     "metadata": {},
     "output_type": "execute_result"
    }
   ],
   "source": [
    "# mini-batch of the isolate\n",
    "clustering_machine = copy.deepcopy(check_clustering_machine)\n",
    "clustering_machine.general_isolate_clustering() \n",
    "clustering_machine.mini_batch_train_clustering()\n",
    "# check_clustering(clustering_machine, True)\n",
    "gcn_trainer_isolate = ClusterGCNTrainer_mini_Train(clustering_machine, 2, 2, input_layers = [])\n",
    "gcn_trainer_isolate.train(1)\n",
    "gcn_trainer_isolate.validate()"
   ]
  },
  {
   "cell_type": "markdown",
   "metadata": {},
   "source": [
    "#### Default whole graph (recombine train nodes)"
   ]
  },
  {
   "cell_type": "code",
   "execution_count": 19,
   "metadata": {},
   "outputs": [
    {
     "data": {
      "text/plain": [
       "0.5"
      ]
     },
     "execution_count": 19,
     "metadata": {},
     "output_type": "execute_result"
    }
   ],
   "source": [
    "# default brute force case: recombination whole graph\n",
    "clustering_machine = copy.deepcopy(check_clustering_machine)\n",
    "clustering_machine.general_baseline_all_overlapping_clustering()\n",
    "\n",
    "gcn_trainer_whole = wholeClusterGCNTrainer_sequence(clustering_machine, 2, 2, input_layers = [])\n",
    "gcn_trainer_whole.train(1)\n",
    "gcn_trainer_isolate.validate()"
   ]
  },
  {
   "cell_type": "markdown",
   "metadata": {},
   "source": [
    "#### base isolate: GCN calculated on the whole isolated cluster nodes"
   ]
  },
  {
   "cell_type": "code",
   "execution_count": 20,
   "metadata": {},
   "outputs": [
    {
     "data": {
      "text/plain": [
       "0.5"
      ]
     },
     "execution_count": 20,
     "metadata": {},
     "output_type": "execute_result"
    }
   ],
   "source": [
    "# whole isolate cluster of the baseline isolate\n",
    "clustering_machine = copy.deepcopy(check_clustering_machine)\n",
    "clustering_machine.general_base_isolate_clustering() \n",
    "# check_clustering(clustering_machine, True)\n",
    "gcn_trainer_base_isolate = ClusterGCNTrainer_baseline(clustering_machine, 2, 2, input_layers = [])\n",
    "gcn_trainer_base_isolate.train(1)\n",
    "gcn_trainer_base_isolate.validate()"
   ]
  },
  {
   "cell_type": "markdown",
   "metadata": {},
   "source": [
    "### Use library data to check the results\n"
   ]
  },
  {
   "cell_type": "code",
   "execution_count": 21,
   "metadata": {},
   "outputs": [],
   "source": [
    "def set_clustering_machine(data, partition_num = 10, test_ratio = 0.05, validation_ratio = 0.75):\n",
    "    connect_edge_index, connect_features, connect_label = filter_out_isolate(data.edge_index, data.x, data.y)\n",
    "    clustering_machine = ClusteringMachine(connect_edge_index, connect_features, connect_label, partition_num = partition_num)\n",
    "    clustering_machine.decompose(test_ratio, validation_ratio)\n",
    "    return clustering_machine"
   ]
  },
  {
   "cell_type": "markdown",
   "metadata": {},
   "source": [
    "### Formal Test"
   ]
  },
  {
   "cell_type": "code",
   "execution_count": 22,
   "metadata": {},
   "outputs": [],
   "source": [
    "def No_partition_run(local_clustering_machine, data_name, dataset, image_path, input_layer = [32, 16], epochs=300):\n",
    "    \"\"\"\n",
    "    # the partition num: will determine the training, testing and validation data\n",
    "    return: test F-1 value, validation F-1 value\n",
    "    \"\"\"\n",
    "    clustering_machine = copy.deepcopy(local_clustering_machine)\n",
    "    clustering_machine.general_baseline_all_overlapping_clustering()\n",
    "    # 0) train the data as a whole with no parition\n",
    "    gcn_trainer = wholeClusterGCNTrainer_sequence(clustering_machine, dataset.num_node_features, dataset.num_classes, input_layers = input_layer)\n",
    "    gcn_trainer.train(epochs)\n",
    "    \n",
    "    test_F1 = gcn_trainer.test()\n",
    "    validation_F1 = gcn_trainer.validate()\n",
    "    time_train_total = gcn_trainer.time_train_total\n",
    "    return test_F1, validation_F1, time_train_total, gcn_trainer\n",
    "\n",
    "def Cluster_baseline_all_overlapping_run(local_clustering_machine, data_name, dataset, image_path, input_layer = [32, 16], epochs=300):\n",
    "    \"\"\"\n",
    "    # the partition num: will determine the training, testing and validation data\n",
    "    return: test F-1 value, validation F-1 value\n",
    "    \"\"\"\n",
    "    # use a dict to record 1.no partition 2. isolate clustering 3. train node overlapping clustering 4. all node overlapping clustering\n",
    "    clustering_machine = copy.deepcopy(local_clustering_machine)\n",
    "    # 3) train all nodes overlapping clustering\n",
    "    clustering_machine.general_baseline_all_overlapping_clustering()\n",
    "    \n",
    "    # training process:\n",
    "    gcn_trainer = ClusterGCNTrainer_baseline(clustering_machine, dataset.num_node_features, dataset.num_classes, input_layers = input_layer)\n",
    "    gcn_trainer.train(epochs)\n",
    "    \n",
    "    test_F1 = gcn_trainer.test()\n",
    "    validation_F1 = gcn_trainer.validate()\n",
    "    time_train_total = gcn_trainer.time_train_total\n",
    "    return test_F1, validation_F1, time_train_total, gcn_trainer\n",
    "\n",
    "def Cluster_all_overlapping_run(local_clustering_machine, data_name, dataset, image_path, input_layer = [32, 16], epochs=300):\n",
    "    \"\"\"\n",
    "    # the partition num: will determine the training, testing and validation data\n",
    "    return: test F-1 value, validation F-1 value\n",
    "    \"\"\"\n",
    "    # use a dict to record 1.no partition 2. isolate clustering 3. train node overlapping clustering 4. all node overlapping clustering\n",
    "    clustering_machine = copy.deepcopy(local_clustering_machine)\n",
    "    # 3) train all nodes overlapping clustering\n",
    "    clustering_machine.general_all_overlapping_clustering()\n",
    "    clustering_machine.mini_batch_train_clustering()\n",
    "    gcn_trainer = ClusterGCNTrainer_mini_Train(clustering_machine, dataset.num_node_features, dataset.num_classes, input_layers = input_layer)\n",
    "    gcn_trainer.train(epochs)\n",
    "    \n",
    "#     trainer_drawer = draw_trainer_info(data_name, gcn_trainer, image_path, 'isolate_clustering')\n",
    "#     trainer_drawer.draw_ave_loss_per_node()\n",
    "    test_F1 = gcn_trainer.test()\n",
    "    validation_F1 = gcn_trainer.validate()\n",
    "    time_train_total = gcn_trainer.time_train_total\n",
    "    return test_F1, validation_F1, time_train_total, gcn_trainer\n",
    "\n",
    "\n",
    "def Isolate_clustering_run(local_clustering_machine, data_name, dataset, image_path, input_layer = [32, 16], epochs=300):\n",
    "    \"\"\"\n",
    "    # the partition num: will determine the training, testing and validation data\n",
    "    return: test F-1 value, validation F-1 value\n",
    "    \"\"\"\n",
    "    # use a dict to record 1.no partition 2. isolate clustering 3. train node overlapping clustering 4. all node overlapping clustering\n",
    "    clustering_machine = copy.deepcopy(local_clustering_machine)\n",
    "    # 1) train the isolated clustering\n",
    "    clustering_machine.general_isolate_clustering()\n",
    "    clustering_machine.mini_batch_train_clustering()\n",
    "    gcn_trainer = ClusterGCNTrainer_mini_Train(clustering_machine, dataset.num_node_features, dataset.num_classes, input_layers = input_layer)\n",
    "    gcn_trainer.train(epochs)\n",
    "    \n",
    "#     trainer_drawer = draw_trainer_info(data_name, gcn_trainer, image_path, 'isolate_clustering')\n",
    "#     trainer_drawer.draw_ave_loss_per_node()\n",
    "    test_F1 = gcn_trainer.test()\n",
    "    validation_F1 = gcn_trainer.validate()\n",
    "    time_train_total = gcn_trainer.time_train_total\n",
    "    return test_F1, validation_F1, time_train_total, gcn_trainer\n",
    "\n",
    "def Train_overlapping_run(local_clustering_machine, data_name, dataset, image_path, input_layer = [32, 16], epochs=300):\n",
    "    \"\"\"\n",
    "    # the partition num: will determine the training, testing and validation data\n",
    "    return: test F-1 value, validation F-1 value\n",
    "    \"\"\"\n",
    "    # use a dict to record 1.no partition 2. isolate clustering 3. train node overlapping clustering 4. all node overlapping clustering\n",
    "    clustering_machine = copy.deepcopy(local_clustering_machine)\n",
    "    # 2) train the train node overlapping clustering\n",
    "    clustering_machine.general_train_overlapping_clustering()\n",
    "    clustering_machine.mini_batch_train_clustering()\n",
    "    gcn_trainer = ClusterGCNTrainer_mini_Train(clustering_machine, dataset.num_node_features, dataset.num_classes, input_layers = input_layer)\n",
    "    gcn_trainer.train(epochs)\n",
    "    \n",
    "#     trainer_drawer = draw_trainer_info(data_name, gcn_trainer, image_path, 'isolate_clustering')\n",
    "#     trainer_drawer.draw_ave_loss_per_node()\n",
    "    test_F1 = gcn_trainer.test()\n",
    "    validation_F1 = gcn_trainer.validate()\n",
    "    time_train_total = gcn_trainer.time_train_total\n",
    "    return test_F1, validation_F1, time_train_total, gcn_trainer\n",
    "\n",
    "def Isolate_base_clustering_run(local_clustering_machine, data_name, dataset, image_path, input_layer = [32, 16], epochs=300):\n",
    "    \"\"\"\n",
    "    # the partition num: will determine the training, testing and validation data\n",
    "    return: test F-1 value, validation F-1 value\n",
    "    \"\"\"\n",
    "    # use a dict to record 1.no partition 2. isolate clustering 3. train node overlapping clustering 4. all node overlapping clustering\n",
    "    clustering_machine = copy.deepcopy(local_clustering_machine)\n",
    "    # 1) train the isolated clustering\n",
    "    clustering_machine.general_base_isolate_clustering()\n",
    "    gcn_trainer = ClusterGCNTrainer_baseline(clustering_machine, dataset.num_node_features, dataset.num_classes, input_layers = input_layer)\n",
    "    gcn_trainer.train(epochs)\n",
    "    \n",
    "#     trainer_drawer = draw_trainer_info(data_name, gcn_trainer, image_path, 'isolate_clustering')\n",
    "#     trainer_drawer.draw_ave_loss_per_node()\n",
    "    test_F1 = gcn_trainer.test()\n",
    "    validation_F1 = gcn_trainer.validate()\n",
    "    time_train_total = gcn_trainer.time_train_total\n",
    "    return test_F1, validation_F1, time_train_total, gcn_trainer"
   ]
  },
  {
   "cell_type": "code",
   "execution_count": 23,
   "metadata": {},
   "outputs": [],
   "source": [
    "def check_train_loss_converge(clustering_machine, data_name, dataset, image_path,  comments, input_layer = [32, 16]):\n",
    "    t0, v0, time0, baseline_overlap_trainer = Cluster_baseline_all_overlapping_run(clustering_machine, data_name, dataset, image_path, input_layer = input_layer, epochs=2000)\n",
    "    draw_baseline_Cluster_all_overlapping = draw_trainer_info(data_name, baseline_overlap_trainer, image_path, 'baseline_overlap_' + comments)\n",
    "    draw_baseline_Cluster_all_overlapping.draw_ave_loss_per_node()\n",
    "    \n",
    "    t1, v1, time1, Isolate_clustering_trainer = Isolate_clustering_run(clustering_machine, data_name, dataset, image_path, input_layer = input_layer, epochs=2000)\n",
    "    draw_Isolate_clustering = draw_trainer_info(data_name, Isolate_clustering_trainer, image_path, 'Isolate_' + comments)\n",
    "    draw_Isolate_clustering.draw_ave_loss_per_node()\n",
    "    \n",
    "    t2, v2, time2, Cluster_all_overlapping_trainer = Cluster_all_overlapping_run(clustering_machine, data_name, dataset, image_path, input_layer = input_layer, epochs=2000)\n",
    "    draw_Cluster_all_overlapping = draw_trainer_info(data_name, Cluster_all_overlapping_trainer, image_path, 'train_batch_' + comments)\n",
    "    draw_Cluster_all_overlapping.draw_ave_loss_per_node()\n",
    "    \n",
    "    t3, v3, time3, No_partition_trainer = No_partition_run(clustering_machine, data_name, dataset, image_path, input_layer = input_layer, epochs=2000)\n",
    "    draw_No_partition = draw_trainer_info(data_name, No_partition_trainer, image_path, 'recombine_' + comments)\n",
    "    draw_No_partition.draw_ave_loss_per_node()\n",
    "    \n",
    "    t4, v4, time4, Isolate_base_clustering_trainer = Isolate_base_clustering_run(clustering_machine, data_name, dataset, image_path, input_layer = input_layer, epochs=2000)\n",
    "    draw_base_Isolate_clustering = draw_trainer_info(data_name, Isolate_base_clustering_trainer, image_path, 'Isolate_base_' + comments)\n",
    "    draw_base_Isolate_clustering.draw_ave_loss_per_node()"
   ]
  },
  {
   "cell_type": "code",
   "execution_count": null,
   "metadata": {},
   "outputs": [],
   "source": [
    "''' Draw the information about the GCN calculating batch size '''\n",
    "def draw_cluster_info(clustering_machine, data_name, dataset, img_path, comment):\n",
    "    cluster_id = clustering_machine.clusters    # a list of cluster indices\n",
    "    cluster_datapoints = {'cluster_id': cluster_id,  \\\n",
    "                          'overlapping' : [clustering_machine.info_overlapping_cluster_size[idx] for idx in cluster_id], \\\n",
    "                          'isolate' : [clustering_machine.info_isolate_cluster_size[idx] for idx in cluster_id], \\\n",
    "                          'train' : [clustering_machine.info_train_cluster_size[idx] for idx in cluster_id], \\\n",
    "                          'test' : [clustering_machine.info_test_cluster_size[idx] for idx in cluster_id], \\\n",
    "                          'validation' : [clustering_machine.info_validation_cluster_size[idx] for idx in cluster_id]\n",
    "                         }\n",
    "                         \n",
    "    df = pd.DataFrame(data=cluster_datapoints, dtype=np.int32)\n",
    "    # print(df)\n",
    "    df_reshape = df.melt('cluster_id', var_name = 'clusters', value_name = 'node_num')\n",
    "    \n",
    "    # print(newdf)\n",
    "    sns.set(style='whitegrid')\n",
    "    g = sns.catplot(x=\"cluster_id\", y=\"node_num\", hue='clusters', kind='bar', data=df_reshape)\n",
    "    g.despine(left=True)\n",
    "    g.fig.suptitle(data_name + ' cluster node distribution')\n",
    "    g.set_xlabels(\"Cluster ID\")\n",
    "    g.set_ylabels(\"Number of nodes\")\n",
    "    g.savefig(image_path+data_name+'_cluster_node_distr', bbox_inches='tight')"
   ]
  },
  {
   "cell_type": "code",
   "execution_count": 24,
   "metadata": {},
   "outputs": [],
   "source": [
    "''' Execute the testing program '''\n",
    "def execute_one(clustering_machine, image_path, repeate_time = 5, input_layer = [32, 16]):\n",
    "    \"\"\"\n",
    "    return all test-F1 and validation-F1 for all four models\n",
    "    \"\"\"\n",
    "    test_f1 = {}\n",
    "    validation_f1 = {}\n",
    "    time_total_train = {}\n",
    "    for i in range(repeate_time):\n",
    "        t0, v0, time0, _ = Cluster_baseline_all_overlapping_run(clustering_machine, data_name, dataset, image_path, input_layer = input_layer, epochs=2000)\n",
    "        t1, v1, time1, _ = Isolate_clustering_run(clustering_machine, data_name, dataset, image_path, input_layer = input_layer, epochs=2000)\n",
    "        t2, v2, time2, _ = Cluster_all_overlapping_run(clustering_machine, data_name, dataset, image_path, input_layer = input_layer, epochs=2000)\n",
    "        t3, v3, time3, _ = No_partition_run(clustering_machine, data_name, dataset, image_path, input_layer = input_layer, epochs=2000)\n",
    "#         t4, v4, time4, _ = Isolate_base_clustering_run(clustering_machine, data_name, dataset, image_path, input_layer = input_layer, epochs=2000)\n",
    "        \n",
    "        test_f1[i] = [t0, t1, t2, t3]\n",
    "        validation_f1[i] = [v0, v1, v2, v3]\n",
    "        time_total_train[i] = [time0, time1, time2, time3]\n",
    "    return test_f1, validation_f1, time_total_train\n",
    "\n",
    "def store_data_multi_tests(f1_data, data_name, img_path, comments):\n",
    "    run_id = sorted(f1_data.keys())\n",
    "    run_data = {'run_id': run_id,  \\\n",
    "                'baseline_overlap' : [f1_data[key][0] for key in run_id], \\\n",
    "                'isolate' : [f1_data[key][1] for key in run_id], \\\n",
    "                'train_batch' : [f1_data[key][2] for key in run_id], \\\n",
    "                'recombine_whole_graph' : [f1_data[key][3] for key in run_id], \\\n",
    "                }\n",
    "    \n",
    "    pickle_filename = img_path + data_name + '_' + comments + '.pkl'\n",
    "    os.makedirs(os.path.dirname(pickle_filename), exist_ok=True)\n",
    "    df = pd.DataFrame(data=run_data, dtype=np.int32)\n",
    "    df.to_pickle(pickle_filename)\n",
    "    return pickle_filename\n",
    "\n",
    "def draw_data_multi_tests(pickle_filename, data_name, comments, ylabel):\n",
    "    df = pd.read_pickle(pickle_filename)\n",
    "    df_reshape = df.melt('run_id', var_name = 'model', value_name = ylabel)\n",
    "\n",
    "    plt.clf()\n",
    "    plt.figure()\n",
    "    sns.set(style='whitegrid')\n",
    "    g = sns.catplot(x=\"model\", y=ylabel, kind='box', data=df_reshape)\n",
    "    g.despine(left=True)\n",
    "    g.fig.suptitle(data_name + ' ' + ylabel + ' ' + comments)\n",
    "    g.set_xlabels(\"models\")\n",
    "    g.set_ylabels(ylabel)\n",
    "\n",
    "    img_name = pickle_filename[:-4] + '_img'\n",
    "    os.makedirs(os.path.dirname(img_name), exist_ok=True)\n",
    "    plt.savefig(img_name, bbox_inches='tight')"
   ]
  },
  {
   "cell_type": "markdown",
   "metadata": {},
   "source": [
    "### Use data from pytorch geometric datasets"
   ]
  },
  {
   "cell_type": "code",
   "execution_count": 25,
   "metadata": {},
   "outputs": [],
   "source": [
    "test_folder_name = 'Onehop_Net/'"
   ]
  },
  {
   "cell_type": "markdown",
   "metadata": {},
   "source": [
    "### PubMed dataset"
   ]
  },
  {
   "cell_type": "code",
   "execution_count": null,
   "metadata": {},
   "outputs": [],
   "source": [
    "# this data is also used the in the trivial example of the cluster-GCN paper\n",
    "from torch_geometric.datasets import Planetoid\n",
    "data_name = 'PubMed'\n",
    "dataset = Planetoid(root='~/tmp/Planetoid/PubMed', name=data_name)\n",
    "# print('\\n Number of data inside the dataset: ', len(dataset) )\n",
    "# print_data_info(dataset)\n",
    "data = dataset[0]\n",
    "\n",
    "image_data_path = './results/' + data_name + '/' + test_folder_name\n",
    "partition_nums = [2, 5, 10]"
   ]
  },
  {
   "cell_type": "code",
   "execution_count": null,
   "metadata": {},
   "outputs": [],
   "source": [
    "# check convergence\n",
    "for partn in partition_nums:\n",
    "    clustering_machine = set_clustering_machine(data, partition_num = partn, test_ratio = 0.05, validation_ratio = 0.75)\n",
    "    print('Start checking train loss for partition num: ' + str(partn))\n",
    "    img_path = image_data_path + 'cluster_num_' + str(partn) + '/'\n",
    "    check_train_loss_converge(clustering_machine, data_name, dataset, img_path, 'part_num_' + str(partn), input_layer = [])"
   ]
  },
  {
   "cell_type": "code",
   "execution_count": null,
   "metadata": {},
   "outputs": [],
   "source": [
    "for partn in partition_nums:\n",
    "    clustering_machine = set_clustering_machine(data, partition_num = partn, test_ratio = 0.05, validation_ratio = 0.75)\n",
    "    print('Start running for partition num: ' + str(partn))\n",
    "    img_path = image_data_path + 'cluster_num_' + str(partn) + '/'\n",
    "    test_f1, validation_f1, time_total_train = execute_one(clustering_machine, img_path, repeate_time = 10, input_layer = [])\n",
    "    validation_res = store_data_multi_tests(validation_f1, data_name, img_path, 'validation_cluster_num_' + str(partn))\n",
    "    draw_data_multi_tests(validation_res, data_name, 'validation_cluster_num_' + str(partn), 'F1 score')\n",
    "    test_res = store_data_multi_tests(test_f1, data_name, img_path, 'test_cluster_num_' + str(partn))\n",
    "    draw_data_multi_tests(test_res, data_name, 'test_cluster_num_' + str(partn), 'F1 score')\n",
    "    time_res = store_data_multi_tests(time_total_train, data_name, img_path, 'train_time_cluster_num_' + str(partn))\n",
    "    draw_data_multi_tests(time_res, data_name, 'train_time_cluster_num_' + str(partn), 'Train Time (ms)')\n"
   ]
  },
  {
   "cell_type": "markdown",
   "metadata": {},
   "source": [
    "### Cora dataset"
   ]
  },
  {
   "cell_type": "code",
   "execution_count": 26,
   "metadata": {},
   "outputs": [],
   "source": [
    "from torch_geometric.datasets import Planetoid\n",
    "data_name = 'Cora'\n",
    "dataset = Planetoid(root='~/tmp/Planetoid/Cora', name=data_name)\n",
    "data = dataset[0]\n",
    "image_data_path = './results/' + data_name + '/' + test_folder_name\n",
    "partition_nums = [2, 5, 10]\n"
   ]
  },
  {
   "cell_type": "code",
   "execution_count": 27,
   "metadata": {},
   "outputs": [
    {
     "name": "stdout",
     "output_type": "stream",
     "text": [
      "Start checking train loss for partition num: 2\n",
      "Start checking train loss for partition num: 5\n",
      "Start checking train loss for partition num: 10\n"
     ]
    },
    {
     "data": {
      "text/plain": [
       "<Figure size 432x288 with 0 Axes>"
      ]
     },
     "metadata": {},
     "output_type": "display_data"
    },
    {
     "data": {
      "text/plain": [
       "<Figure size 432x288 with 0 Axes>"
      ]
     },
     "metadata": {},
     "output_type": "display_data"
    },
    {
     "data": {
      "text/plain": [
       "<Figure size 432x288 with 0 Axes>"
      ]
     },
     "metadata": {},
     "output_type": "display_data"
    },
    {
     "data": {
      "text/plain": [
       "<Figure size 432x288 with 0 Axes>"
      ]
     },
     "metadata": {},
     "output_type": "display_data"
    },
    {
     "data": {
      "text/plain": [
       "<Figure size 432x288 with 0 Axes>"
      ]
     },
     "metadata": {},
     "output_type": "display_data"
    },
    {
     "data": {
      "text/plain": [
       "<Figure size 432x288 with 0 Axes>"
      ]
     },
     "metadata": {},
     "output_type": "display_data"
    },
    {
     "data": {
      "text/plain": [
       "<Figure size 432x288 with 0 Axes>"
      ]
     },
     "metadata": {},
     "output_type": "display_data"
    },
    {
     "data": {
      "text/plain": [
       "<Figure size 432x288 with 0 Axes>"
      ]
     },
     "metadata": {},
     "output_type": "display_data"
    },
    {
     "data": {
      "text/plain": [
       "<Figure size 432x288 with 0 Axes>"
      ]
     },
     "metadata": {},
     "output_type": "display_data"
    },
    {
     "data": {
      "text/plain": [
       "<Figure size 432x288 with 0 Axes>"
      ]
     },
     "metadata": {},
     "output_type": "display_data"
    },
    {
     "data": {
      "text/plain": [
       "<Figure size 432x288 with 0 Axes>"
      ]
     },
     "metadata": {},
     "output_type": "display_data"
    },
    {
     "data": {
      "text/plain": [
       "<Figure size 432x288 with 0 Axes>"
      ]
     },
     "metadata": {},
     "output_type": "display_data"
    },
    {
     "data": {
      "text/plain": [
       "<Figure size 432x288 with 0 Axes>"
      ]
     },
     "metadata": {},
     "output_type": "display_data"
    },
    {
     "data": {
      "text/plain": [
       "<Figure size 432x288 with 0 Axes>"
      ]
     },
     "metadata": {},
     "output_type": "display_data"
    },
    {
     "data": {
      "text/plain": [
       "<Figure size 432x288 with 0 Axes>"
      ]
     },
     "metadata": {},
     "output_type": "display_data"
    },
    {
     "data": {
      "image/png": "[encoded data removed]",
      "text/plain": [
       "<Figure size 432x288 with 1 Axes>"
      ]
     },
     "metadata": {},
     "output_type": "display_data"
    }
   ],
   "source": [
    "# check convergence\n",
    "for partn in partition_nums:\n",
    "    clustering_machine = set_clustering_machine(data, partition_num = partn, test_ratio = 0.05, validation_ratio = 0.75)\n",
    "    print('Start checking train loss for partition num: ' + str(partn))\n",
    "    img_path = image_data_path + 'cluster_num_' + str(partn) + '/'\n",
    "    check_train_loss_converge(clustering_machine, data_name, dataset, img_path, 'part_num_' + str(partn), input_layer = [])"
   ]
  },
  {
   "cell_type": "code",
   "execution_count": 28,
   "metadata": {},
   "outputs": [
    {
     "name": "stdout",
     "output_type": "stream",
     "text": [
      "Start running for partition num: 2\n",
      "Start running for partition num: 5\n",
      "Start running for partition num: 10\n"
     ]
    },
    {
     "data": {
      "text/plain": [
       "<Figure size 432x288 with 0 Axes>"
      ]
     },
     "metadata": {},
     "output_type": "display_data"
    },
    {
     "data": {
      "text/plain": [
       "<Figure size 432x288 with 0 Axes>"
      ]
     },
     "metadata": {},
     "output_type": "display_data"
    },
    {
     "data": {
      "text/plain": [
       "<Figure size 360x360 with 0 Axes>"
      ]
     },
     "metadata": {},
     "output_type": "display_data"
    },
    {
     "data": {
      "text/plain": [
       "<Figure size 432x288 with 0 Axes>"
      ]
     },
     "metadata": {},
     "output_type": "display_data"
    },
    {
     "data": {
      "text/plain": [
       "<Figure size 360x360 with 0 Axes>"
      ]
     },
     "metadata": {},
     "output_type": "display_data"
    },
    {
     "data": {
      "text/plain": [
       "<Figure size 432x288 with 0 Axes>"
      ]
     },
     "metadata": {},
     "output_type": "display_data"
    },
    {
     "data": {
      "text/plain": [
       "<Figure size 360x360 with 0 Axes>"
      ]
     },
     "metadata": {},
     "output_type": "display_data"
    },
    {
     "data": {
      "text/plain": [
       "<Figure size 432x288 with 0 Axes>"
      ]
     },
     "metadata": {},
     "output_type": "display_data"
    },
    {
     "data": {
      "text/plain": [
       "<Figure size 360x360 with 0 Axes>"
      ]
     },
     "metadata": {},
     "output_type": "display_data"
    },
    {
     "data": {
      "text/plain": [
       "<Figure size 432x288 with 0 Axes>"
      ]
     },
     "metadata": {},
     "output_type": "display_data"
    },
    {
     "data": {
      "text/plain": [
       "<Figure size 360x360 with 0 Axes>"
      ]
     },
     "metadata": {},
     "output_type": "display_data"
    },
    {
     "data": {
      "text/plain": [
       "<Figure size 432x288 with 0 Axes>"
      ]
     },
     "metadata": {},
     "output_type": "display_data"
    },
    {
     "data": {
      "text/plain": [
       "<Figure size 360x360 with 0 Axes>"
      ]
     },
     "metadata": {},
     "output_type": "display_data"
    },
    {
     "data": {
      "text/plain": [
       "<Figure size 432x288 with 0 Axes>"
      ]
     },
     "metadata": {},
     "output_type": "display_data"
    },
    {
     "data": {
      "text/plain": [
       "<Figure size 360x360 with 0 Axes>"
      ]
     },
     "metadata": {},
     "output_type": "display_data"
    },
    {
     "data": {
      "text/plain": [
       "<Figure size 432x288 with 0 Axes>"
      ]
     },
     "metadata": {},
     "output_type": "display_data"
    },
    {
     "data": {
      "text/plain": [
       "<Figure size 360x360 with 0 Axes>"
      ]
     },
     "metadata": {},
     "output_type": "display_data"
    },
    {
     "data": {
      "text/plain": [
       "<Figure size 432x288 with 0 Axes>"
      ]
     },
     "metadata": {},
     "output_type": "display_data"
    },
    {
     "data": {
      "image/png": "[encoded data removed]",
      "text/plain": [
       "<Figure size 360x360 with 1 Axes>"
      ]
     },
     "metadata": {},
     "output_type": "display_data"
    }
   ],
   "source": [
    "for partn in partition_nums:\n",
    "    clustering_machine = set_clustering_machine(data, partition_num = partn, test_ratio = 0.05, validation_ratio = 0.75)\n",
    "    print('Start running for partition num: ' + str(partn))\n",
    "    img_path = image_data_path + 'cluster_num_' + str(partn) + '/'\n",
    "    test_f1, validation_f1, time_total_train = execute_one(clustering_machine, img_path, repeate_time = 10, input_layer = [])\n",
    "    validation_res = store_data_multi_tests(validation_f1, data_name, img_path, 'validation_cluster_num_' + str(partn))\n",
    "    draw_data_multi_tests(validation_res, data_name, 'validation_cluster_num_' + str(partn), 'F1 score')\n",
    "    test_res = store_data_multi_tests(test_f1, data_name, img_path, 'test_cluster_num_' + str(partn))\n",
    "    draw_data_multi_tests(test_res, data_name, 'test_cluster_num_' + str(partn), 'F1 score')\n",
    "    time_res = store_data_multi_tests(time_total_train, data_name, img_path, 'train_time_cluster_num_' + str(partn))\n",
    "    draw_data_multi_tests(time_res, data_name, 'train_time_cluster_num_' + str(partn), 'Train Time (ms)')"
   ]
  },
  {
   "cell_type": "markdown",
   "metadata": {},
   "source": [
    "### CiteSeer Dataset"
   ]
  },
  {
   "cell_type": "code",
   "execution_count": 29,
   "metadata": {},
   "outputs": [],
   "source": [
    "from torch_geometric.datasets import Planetoid\n",
    "data_name = 'CiteSeer'\n",
    "dataset = Planetoid(root='~/tmp/Planetoid/CiteSeer', name=data_name)\n",
    "data = dataset[0]\n",
    "image_data_path = './results/' + data_name + '/' + test_folder_name\n",
    "partition_nums = [2, 5, 10]\n",
    "\n"
   ]
  },
  {
   "cell_type": "code",
   "execution_count": 30,
   "metadata": {},
   "outputs": [
    {
     "name": "stdout",
     "output_type": "stream",
     "text": [
      "Start checking train loss for partition num: 2\n",
      "Start checking train loss for partition num: 5\n",
      "Start checking train loss for partition num: 10\n"
     ]
    },
    {
     "data": {
      "text/plain": [
       "<Figure size 432x288 with 0 Axes>"
      ]
     },
     "metadata": {},
     "output_type": "display_data"
    },
    {
     "data": {
      "text/plain": [
       "<Figure size 432x288 with 0 Axes>"
      ]
     },
     "metadata": {},
     "output_type": "display_data"
    },
    {
     "data": {
      "text/plain": [
       "<Figure size 432x288 with 0 Axes>"
      ]
     },
     "metadata": {},
     "output_type": "display_data"
    },
    {
     "data": {
      "text/plain": [
       "<Figure size 432x288 with 0 Axes>"
      ]
     },
     "metadata": {},
     "output_type": "display_data"
    },
    {
     "data": {
      "text/plain": [
       "<Figure size 432x288 with 0 Axes>"
      ]
     },
     "metadata": {},
     "output_type": "display_data"
    },
    {
     "data": {
      "text/plain": [
       "<Figure size 432x288 with 0 Axes>"
      ]
     },
     "metadata": {},
     "output_type": "display_data"
    },
    {
     "data": {
      "text/plain": [
       "<Figure size 432x288 with 0 Axes>"
      ]
     },
     "metadata": {},
     "output_type": "display_data"
    },
    {
     "data": {
      "text/plain": [
       "<Figure size 432x288 with 0 Axes>"
      ]
     },
     "metadata": {},
     "output_type": "display_data"
    },
    {
     "data": {
      "text/plain": [
       "<Figure size 432x288 with 0 Axes>"
      ]
     },
     "metadata": {},
     "output_type": "display_data"
    },
    {
     "data": {
      "text/plain": [
       "<Figure size 432x288 with 0 Axes>"
      ]
     },
     "metadata": {},
     "output_type": "display_data"
    },
    {
     "data": {
      "text/plain": [
       "<Figure size 432x288 with 0 Axes>"
      ]
     },
     "metadata": {},
     "output_type": "display_data"
    },
    {
     "data": {
      "text/plain": [
       "<Figure size 432x288 with 0 Axes>"
      ]
     },
     "metadata": {},
     "output_type": "display_data"
    },
    {
     "data": {
      "text/plain": [
       "<Figure size 432x288 with 0 Axes>"
      ]
     },
     "metadata": {},
     "output_type": "display_data"
    },
    {
     "data": {
      "text/plain": [
       "<Figure size 432x288 with 0 Axes>"
      ]
     },
     "metadata": {},
     "output_type": "display_data"
    },
    {
     "data": {
      "text/plain": [
       "<Figure size 432x288 with 0 Axes>"
      ]
     },
     "metadata": {},
     "output_type": "display_data"
    },
    {
     "data": {
      "image/png": "[encoded data removed]",
      "text/plain": [
       "<Figure size 432x288 with 1 Axes>"
      ]
     },
     "metadata": {},
     "output_type": "display_data"
    }
   ],
   "source": [
    "# check convergence\n",
    "for partn in partition_nums:\n",
    "    clustering_machine = set_clustering_machine(data, partition_num = partn, test_ratio = 0.05, validation_ratio = 0.75)\n",
    "    print('Start checking train loss for partition num: ' + str(partn))\n",
    "    img_path = image_data_path + 'cluster_num_' + str(partn) + '/'\n",
    "    check_train_loss_converge(clustering_machine, data_name, dataset, img_path, 'part_num_' + str(partn), input_layer = [])"
   ]
  },
  {
   "cell_type": "code",
   "execution_count": 31,
   "metadata": {},
   "outputs": [
    {
     "name": "stdout",
     "output_type": "stream",
     "text": [
      "Start running for partition num: 2\n",
      "Start running for partition num: 5\n",
      "Start running for partition num: 10\n"
     ]
    },
    {
     "data": {
      "text/plain": [
       "<Figure size 432x288 with 0 Axes>"
      ]
     },
     "metadata": {},
     "output_type": "display_data"
    },
    {
     "data": {
      "text/plain": [
       "<Figure size 432x288 with 0 Axes>"
      ]
     },
     "metadata": {},
     "output_type": "display_data"
    },
    {
     "data": {
      "text/plain": [
       "<Figure size 360x360 with 0 Axes>"
      ]
     },
     "metadata": {},
     "output_type": "display_data"
    },
    {
     "data": {
      "text/plain": [
       "<Figure size 432x288 with 0 Axes>"
      ]
     },
     "metadata": {},
     "output_type": "display_data"
    },
    {
     "data": {
      "text/plain": [
       "<Figure size 360x360 with 0 Axes>"
      ]
     },
     "metadata": {},
     "output_type": "display_data"
    },
    {
     "data": {
      "text/plain": [
       "<Figure size 432x288 with 0 Axes>"
      ]
     },
     "metadata": {},
     "output_type": "display_data"
    },
    {
     "data": {
      "text/plain": [
       "<Figure size 360x360 with 0 Axes>"
      ]
     },
     "metadata": {},
     "output_type": "display_data"
    },
    {
     "data": {
      "text/plain": [
       "<Figure size 432x288 with 0 Axes>"
      ]
     },
     "metadata": {},
     "output_type": "display_data"
    },
    {
     "data": {
      "text/plain": [
       "<Figure size 360x360 with 0 Axes>"
      ]
     },
     "metadata": {},
     "output_type": "display_data"
    },
    {
     "data": {
      "text/plain": [
       "<Figure size 432x288 with 0 Axes>"
      ]
     },
     "metadata": {},
     "output_type": "display_data"
    },
    {
     "data": {
      "text/plain": [
       "<Figure size 360x360 with 0 Axes>"
      ]
     },
     "metadata": {},
     "output_type": "display_data"
    },
    {
     "data": {
      "text/plain": [
       "<Figure size 432x288 with 0 Axes>"
      ]
     },
     "metadata": {},
     "output_type": "display_data"
    },
    {
     "data": {
      "text/plain": [
       "<Figure size 360x360 with 0 Axes>"
      ]
     },
     "metadata": {},
     "output_type": "display_data"
    },
    {
     "data": {
      "text/plain": [
       "<Figure size 432x288 with 0 Axes>"
      ]
     },
     "metadata": {},
     "output_type": "display_data"
    },
    {
     "data": {
      "text/plain": [
       "<Figure size 360x360 with 0 Axes>"
      ]
     },
     "metadata": {},
     "output_type": "display_data"
    },
    {
     "data": {
      "text/plain": [
       "<Figure size 432x288 with 0 Axes>"
      ]
     },
     "metadata": {},
     "output_type": "display_data"
    },
    {
     "data": {
      "text/plain": [
       "<Figure size 360x360 with 0 Axes>"
      ]
     },
     "metadata": {},
     "output_type": "display_data"
    },
    {
     "data": {
      "text/plain": [
       "<Figure size 432x288 with 0 Axes>"
      ]
     },
     "metadata": {},
     "output_type": "display_data"
    },
    {
     "data": {
      "image/png": "[encoded data removed]",
      "text/plain": [
       "<Figure size 360x360 with 1 Axes>"
      ]
     },
     "metadata": {},
     "output_type": "display_data"
    }
   ],
   "source": [
    "for partn in partition_nums:\n",
    "    clustering_machine = set_clustering_machine(data, partition_num = partn, test_ratio = 0.05, validation_ratio = 0.75)\n",
    "    print('Start running for partition num: ' + str(partn))\n",
    "    img_path = image_data_path + 'cluster_num_' + str(partn) + '/'\n",
    "    test_f1, validation_f1, time_total_train = execute_one(clustering_machine, img_path, repeate_time = 10, input_layer = [])\n",
    "    validation_res = store_data_multi_tests(validation_f1, data_name, img_path, 'validation_cluster_num_' + str(partn))\n",
    "    draw_data_multi_tests(validation_res, data_name, 'validation_cluster_num_' + str(partn), 'F1 score')\n",
    "    test_res = store_data_multi_tests(test_f1, data_name, img_path, 'test_cluster_num_' + str(partn))\n",
    "    draw_data_multi_tests(test_res, data_name, 'test_cluster_num_' + str(partn), 'F1 score')\n",
    "    time_res = store_data_multi_tests(time_total_train, data_name, img_path, 'train_time_cluster_num_' + str(partn))\n",
    "    draw_data_multi_tests(time_res, data_name, 'train_time_cluster_num_' + str(partn), 'Train Time (ms)')"
   ]
  },
  {
   "cell_type": "markdown",
   "metadata": {},
   "source": [
    "### Appendix"
   ]
  },
  {
   "cell_type": "code",
   "execution_count": null,
   "metadata": {},
   "outputs": [],
   "source": [
    "# free GPU memory\n",
    "# !(nvidia-smi | grep 'python' | awk '{ print $3 }' | xargs -n1 kill -9)"
   ]
  },
  {
   "cell_type": "code",
   "execution_count": null,
   "metadata": {},
   "outputs": [],
   "source": []
  }
 ],
 "metadata": {
  "kernelspec": {
   "display_name": "Python [conda env:pytorch_geometric]",
   "language": "python",
   "name": "conda-env-pytorch_geometric-py"
  },
  "language_info": {
   "codemirror_mode": {
    "name": "ipython",
    "version": 3
   },
   "file_extension": ".py",
   "mimetype": "text/x-python",
   "name": "python",
   "nbconvert_exporter": "python",
   "pygments_lexer": "ipython3",
   "version": "3.7.3"
  }
 },
 "nbformat": 4,
 "nbformat_minor": 2
}
