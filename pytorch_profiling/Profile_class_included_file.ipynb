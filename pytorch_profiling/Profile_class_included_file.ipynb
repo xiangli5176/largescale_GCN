{
 "cells": [
  {
   "cell_type": "code",
   "execution_count": 1,
   "metadata": {},
   "outputs": [],
   "source": [
    "%load_ext line_profiler"
   ]
  },
  {
   "cell_type": "code",
   "execution_count": 2,
   "metadata": {},
   "outputs": [
    {
     "name": "stdout",
     "output_type": "stream",
     "text": [
      "Overwriting simulation_example.py\n"
     ]
    }
   ],
   "source": [
    "%%writefile simulation_example.py\n",
    "import numpy as np\n",
    "import torch\n",
    "import torch.nn.functional as F\n",
    "from torch_geometric.nn import GCNConv\n",
    "\n",
    "\n",
    "class Net(torch.nn.Module):\n",
    "    def __init__(self):\n",
    "        super(Net, self).__init__()\n",
    "        self.conv1 = GCNConv(dataset.num_node_features, 16)\n",
    "        self.conv2 = GCNConv(16, dataset.num_classes)\n",
    "\n",
    "    def forward(self, data):\n",
    "        x, edge_index = data.x, data.edge_index\n",
    "\n",
    "        x = self.conv1(x, edge_index)\n",
    "        x = F.relu(x)\n",
    "        x = F.dropout(x, training=self.training)\n",
    "        x = self.conv2(x, edge_index)\n",
    "\n",
    "        return F.log_softmax(x, dim=1)\n",
    "\n",
    "def step(*shape):\n",
    "    return 2 * (np.random.random_sample(shape)<.5) - 1\n",
    "\n",
    "def simulate(iterations, n=10000):\n",
    "    s = step(iterations, n)\n",
    "    x = np.cumsum(s, axis=0)\n",
    "    bins = np.arange(-30, 30, 1)\n",
    "    y = np.vstack([np.histogram(x[i,:], bins)[0]\n",
    "                   for i in range(iterations)])\n",
    "    return y"
   ]
  },
  {
   "cell_type": "code",
   "execution_count": 3,
   "metadata": {},
   "outputs": [
    {
     "name": "stdout",
     "output_type": "stream",
     "text": [
      "\n",
      "*** Profile printout saved to text file 'lprof0_example.txt'. \n",
      "Timer unit: 1e-06 s\n",
      "\n",
      "Total time: 0.016201 s\n",
      "File: /home/xiangli/projects/pytorch_tutorial/simulation_example.py\n",
      "Function: simulate at line 29\n",
      "\n",
      "Line #      Hits         Time  Per Hit   % Time  Line Contents\n",
      "==============================================================\n",
      "    29                                           def simulate(iterations, n=10000):\n",
      "    30         1       4880.0   4880.0     30.1      s = step(iterations, n)\n",
      "    31         1       1411.0   1411.0      8.7      x = np.cumsum(s, axis=0)\n",
      "    32         1          7.0      7.0      0.0      bins = np.arange(-30, 30, 1)\n",
      "    33         1          1.0      1.0      0.0      y = np.vstack([np.histogram(x[i,:], bins)[0]\n",
      "    34         1       9901.0   9901.0     61.1                     for i in range(iterations)])\n",
      "    35         1          1.0      1.0      0.0      return y\n"
     ]
    }
   ],
   "source": [
    "from simulation_example import simulate\n",
    "%lprun -T lprof0_gcn.txt -f simulate simulate(200)\n",
    "print(open('lprof0_gcn.txt', 'r').read())"
   ]
  },
  {
   "cell_type": "code",
   "execution_count": null,
   "metadata": {},
   "outputs": [],
   "source": []
  }
 ],
 "metadata": {
  "kernelspec": {
   "display_name": "Python [conda env:pytorch_geometric]",
   "language": "python",
   "name": "conda-env-pytorch_geometric-py"
  },
  "language_info": {
   "codemirror_mode": {
    "name": "ipython",
    "version": 3
   },
   "file_extension": ".py",
   "mimetype": "text/x-python",
   "name": "python",
   "nbconvert_exporter": "python",
   "pygments_lexer": "ipython3",
   "version": "3.7.3"
  }
 },
 "nbformat": 4,
 "nbformat_minor": 2
}
