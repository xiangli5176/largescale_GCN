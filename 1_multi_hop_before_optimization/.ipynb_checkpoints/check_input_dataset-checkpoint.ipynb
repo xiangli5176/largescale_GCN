{
 "cells": [
  {
   "cell_type": "code",
   "execution_count": 1,
   "metadata": {},
   "outputs": [
    {
     "data": {
      "text/html": [
       "<style>.container { width:90% !important; }</style>"
      ],
      "text/plain": [
       "<IPython.core.display.HTML object>"
      ]
     },
     "metadata": {},
     "output_type": "display_data"
    }
   ],
   "source": [
    "from IPython.core.display import display, HTML\n",
    "display(HTML(\"<style>.container { width:90% !important; }</style>\"))"
   ]
  },
  {
   "cell_type": "code",
   "execution_count": 2,
   "metadata": {},
   "outputs": [],
   "source": [
    "import copy\n",
    "\n",
    "import os\n",
    "import sys\n",
    "import torch\n",
    "import matplotlib.pyplot as plt\n",
    "import networkx as nx\n",
    "import numpy as np\n",
    "import pandas as pd\n",
    "import seaborn as sns\n",
    "from collections import defaultdict\n",
    "from tqdm import tqdm_notebook as tqdm\n",
    "\n",
    "from utils import filter_out_isolate, draw_cluster_info, draw_isolate_cluster_info, draw_trainer_info, print_data_info\n"
   ]
  },
  {
   "cell_type": "code",
   "execution_count": 3,
   "metadata": {},
   "outputs": [],
   "source": [
    "device = torch.device('cuda' if torch.cuda.is_available() else 'cpu')\n",
    "def print_data_info(data):\n",
    "    \n",
    "    print('Info (attributes) of a single data instance')\n",
    "    print(data, '\\n number of nodes: ', data.num_nodes, '\\n number of edges: ', data.num_edges, \\\n",
    "      '\\n number of features per ndoe: ', data.num_node_features, '\\n number of edge features: ', data.num_edge_features, \\\n",
    "#       '\\n number of classifying labels of dataset: ', dataset.num_classes, \\\n",
    "      '\\n all the attributes of data: ', data.keys)"
   ]
  },
  {
   "cell_type": "code",
   "execution_count": 4,
   "metadata": {},
   "outputs": [],
   "source": [
    "local_data_root = '/media/xiangli/storage1/projects/tmpdata/'"
   ]
  },
  {
   "cell_type": "markdown",
   "metadata": {},
   "source": [
    "## Belong to the Planetoid series"
   ]
  },
  {
   "cell_type": "markdown",
   "metadata": {},
   "source": [
    "### Cora dataset"
   ]
  },
  {
   "cell_type": "code",
   "execution_count": 5,
   "metadata": {},
   "outputs": [
    {
     "name": "stdout",
     "output_type": "stream",
     "text": [
      "Downloading https://github.com/kimiyoung/planetoid/raw/master/data/ind.cora.x\n",
      "Downloading https://github.com/kimiyoung/planetoid/raw/master/data/ind.cora.tx\n",
      "Downloading https://github.com/kimiyoung/planetoid/raw/master/data/ind.cora.allx\n",
      "Downloading https://github.com/kimiyoung/planetoid/raw/master/data/ind.cora.y\n",
      "Downloading https://github.com/kimiyoung/planetoid/raw/master/data/ind.cora.ty\n",
      "Downloading https://github.com/kimiyoung/planetoid/raw/master/data/ind.cora.ally\n",
      "Downloading https://github.com/kimiyoung/planetoid/raw/master/data/ind.cora.graph\n",
      "Downloading https://github.com/kimiyoung/planetoid/raw/master/data/ind.cora.test.index\n",
      "Processing...\n",
      "Done!\n",
      "Info (attributes) of a single data instance\n",
      "Data(edge_index=[2, 10556], test_mask=[2708], train_mask=[2708], val_mask=[2708], x=[2708, 1433], y=[2708]) \n",
      " number of nodes:  2708 \n",
      " number of edges:  10556 \n",
      " number of features per ndoe:  1433 \n",
      " number of edge features:  0 \n",
      " all the attributes of data:  ['x', 'edge_index', 'y', 'train_mask', 'val_mask', 'test_mask']\n"
     ]
    }
   ],
   "source": [
    "from torch_geometric.datasets import Planetoid\n",
    "data_name = 'Cora'\n",
    "dataset = Planetoid(root = local_data_root + 'Planetoid/Cora', name=data_name)\n",
    "data = dataset[0]\n",
    "print_data_info(data)"
   ]
  },
  {
   "cell_type": "markdown",
   "metadata": {},
   "source": [
    "### Citeseer Dataset"
   ]
  },
  {
   "cell_type": "code",
   "execution_count": 6,
   "metadata": {},
   "outputs": [
    {
     "name": "stdout",
     "output_type": "stream",
     "text": [
      "Downloading https://github.com/kimiyoung/planetoid/raw/master/data/ind.citeseer.x\n",
      "Downloading https://github.com/kimiyoung/planetoid/raw/master/data/ind.citeseer.tx\n",
      "Downloading https://github.com/kimiyoung/planetoid/raw/master/data/ind.citeseer.allx\n",
      "Downloading https://github.com/kimiyoung/planetoid/raw/master/data/ind.citeseer.y\n",
      "Downloading https://github.com/kimiyoung/planetoid/raw/master/data/ind.citeseer.ty\n",
      "Downloading https://github.com/kimiyoung/planetoid/raw/master/data/ind.citeseer.ally\n",
      "Downloading https://github.com/kimiyoung/planetoid/raw/master/data/ind.citeseer.graph\n",
      "Downloading https://github.com/kimiyoung/planetoid/raw/master/data/ind.citeseer.test.index\n",
      "Processing...\n",
      "Done!\n",
      "Info (attributes) of a single data instance\n",
      "Data(edge_index=[2, 9104], test_mask=[3327], train_mask=[3327], val_mask=[3327], x=[3327, 3703], y=[3327]) \n",
      " number of nodes:  3327 \n",
      " number of edges:  9104 \n",
      " number of features per ndoe:  3703 \n",
      " number of edge features:  0 \n",
      " all the attributes of data:  ['x', 'edge_index', 'y', 'train_mask', 'val_mask', 'test_mask']\n"
     ]
    }
   ],
   "source": [
    "from torch_geometric.datasets import Planetoid\n",
    "data_name = 'CiteSeer'\n",
    "dataset = Planetoid(root = local_data_root + 'Planetoid/CiteSeer', name=data_name)\n",
    "data = dataset[0]\n",
    "print_data_info(data)"
   ]
  },
  {
   "cell_type": "markdown",
   "metadata": {},
   "source": [
    "### PubMed Dataset"
   ]
  },
  {
   "cell_type": "code",
   "execution_count": 7,
   "metadata": {},
   "outputs": [
    {
     "name": "stdout",
     "output_type": "stream",
     "text": [
      "Downloading https://github.com/kimiyoung/planetoid/raw/master/data/ind.pubmed.x\n",
      "Downloading https://github.com/kimiyoung/planetoid/raw/master/data/ind.pubmed.tx\n",
      "Downloading https://github.com/kimiyoung/planetoid/raw/master/data/ind.pubmed.allx\n",
      "Downloading https://github.com/kimiyoung/planetoid/raw/master/data/ind.pubmed.y\n",
      "Downloading https://github.com/kimiyoung/planetoid/raw/master/data/ind.pubmed.ty\n",
      "Downloading https://github.com/kimiyoung/planetoid/raw/master/data/ind.pubmed.ally\n",
      "Downloading https://github.com/kimiyoung/planetoid/raw/master/data/ind.pubmed.graph\n",
      "Downloading https://github.com/kimiyoung/planetoid/raw/master/data/ind.pubmed.test.index\n",
      "Processing...\n",
      "Done!\n",
      "Info (attributes) of a single data instance\n",
      "Data(edge_index=[2, 88648], test_mask=[19717], train_mask=[19717], val_mask=[19717], x=[19717, 500], y=[19717]) \n",
      " number of nodes:  19717 \n",
      " number of edges:  88648 \n",
      " number of features per ndoe:  500 \n",
      " number of edge features:  0 \n",
      " all the attributes of data:  ['x', 'edge_index', 'y', 'train_mask', 'val_mask', 'test_mask']\n"
     ]
    }
   ],
   "source": [
    "from torch_geometric.datasets import Planetoid\n",
    "data_name = 'PubMed'\n",
    "dataset = Planetoid(root = local_data_root + 'Planetoid/PubMed', name=data_name)\n",
    "data = dataset[0]\n",
    "print_data_info(data)"
   ]
  },
  {
   "cell_type": "markdown",
   "metadata": {},
   "source": [
    "### Stanford Education Dataset"
   ]
  },
  {
   "cell_type": "code",
   "execution_count": 6,
   "metadata": {},
   "outputs": [
    {
     "name": "stdout",
     "output_type": "stream",
     "text": [
      "number of data:  10\n",
      "Info (attributes) of a single data instance\n",
      "Data(circle=[325], circle_batch=[325], edge_index=[2, 5732], x=[348, 1406]) \n",
      " number of nodes:  348 \n",
      " number of edges:  5732 \n",
      " number of features per ndoe:  1406 \n",
      " number of edge features:  0 \n",
      " all the attributes of data:  ['x', 'edge_index', 'circle', 'circle_batch']\n"
     ]
    }
   ],
   "source": [
    "from torch_geometric.datasets import SNAPDataset\n",
    "# available_datasets = {\n",
    "#         'ego-facebook': ['facebook.tar.gz'],\n",
    "#         'ego-gplus': ['gplus.tar.gz'],   # data format failure\n",
    "#         'ego-twitter': ['twitter.tar.gz'],    # too large for processing\n",
    "#         'soc-epinions1': ['soc-Epinions1.txt.gz'],\n",
    "#         'soc-livejournal1': ['soc-LiveJournal1.txt.gz'],\n",
    "#         'soc-pokec': ['soc-pokec-relationships.txt.gz'],\n",
    "#         'soc-slashdot0811': ['soc-Slashdot0811.txt.gz'],\n",
    "#         'soc-slashdot0922': ['soc-Slashdot0902.txt.gz'],\n",
    "#         'wiki-vote': ['wiki-Vote.txt.gz'],\n",
    "#     }\n",
    "data_name = 'ego-facebook'\n",
    "dataset = SNAPDataset(root = local_data_root + data_name, name=data_name)\n",
    "print('number of data: ', len(dataset))\n",
    "data = dataset[0]\n",
    "print_data_info(data)"
   ]
  },
  {
   "cell_type": "code",
   "execution_count": null,
   "metadata": {},
   "outputs": [
    {
     "name": "stdout",
     "output_type": "stream",
     "text": [
      "Processing...\n"
     ]
    }
   ],
   "source": [
    "data_name = 'ego-twitter'\n",
    "dataset = SNAPDataset(root = local_data_root + data_name, name=data_name)\n",
    "print('number of data: ', len(dataset))\n",
    "data = dataset[0]\n",
    "print_data_info(data)"
   ]
  },
  {
   "cell_type": "code",
   "execution_count": 7,
   "metadata": {},
   "outputs": [
    {
     "name": "stdout",
     "output_type": "stream",
     "text": [
      "number of data:  1\n",
      "Info (attributes) of a single data instance\n",
      "Data(edge_index=[2, 103689]) \n",
      " number of nodes:  7115 \n",
      " number of edges:  103689 \n",
      " number of features per ndoe:  0 \n",
      " number of edge features:  0 \n",
      " all the attributes of data:  ['edge_index']\n"
     ]
    }
   ],
   "source": [
    "data_name = 'wiki-vote'\n",
    "dataset = SNAPDataset(root = local_data_root + data_name, name=data_name)\n",
    "print('number of data: ', len(dataset))\n",
    "data = dataset[0]\n",
    "print_data_info(data)"
   ]
  },
  {
   "cell_type": "code",
   "execution_count": 8,
   "metadata": {},
   "outputs": [
    {
     "name": "stdout",
     "output_type": "stream",
     "text": [
      "number of data:  1\n",
      "Info (attributes) of a single data instance\n",
      "Data(edge_index=[2, 30622560]) \n",
      " number of nodes:  1632804 \n",
      " number of edges:  30622560 \n",
      " number of features per ndoe:  0 \n",
      " number of edge features:  0 \n",
      " all the attributes of data:  ['edge_index']\n"
     ]
    }
   ],
   "source": [
    "data_name = 'soc-pokec'\n",
    "dataset = SNAPDataset(root = local_data_root + data_name, name=data_name)\n",
    "print('number of data: ', len(dataset))\n",
    "data = dataset[0]\n",
    "print_data_info(data)"
   ]
  },
  {
   "cell_type": "code",
   "execution_count": 9,
   "metadata": {},
   "outputs": [
    {
     "name": "stdout",
     "output_type": "stream",
     "text": [
      "Downloading https://snap.stanford.edu/data/soc-LiveJournal1.txt.gz\n",
      "/media/xiangli/storage1/projects/tmpdata/soc-livejournal1/soc-livejournal1/raw/soc-LiveJournal1.txt.gz\n",
      "Extracting /media/xiangli/storage1/projects/tmpdata/soc-livejournal1/soc-livejournal1/raw/soc-LiveJournal1.txt.gz\n",
      "Processing...\n",
      "Done!\n",
      "number of data:  1\n",
      "Info (attributes) of a single data instance\n",
      "Data(edge_index=[2, 68993773]) \n",
      " number of nodes:  4847571 \n",
      " number of edges:  68993773 \n",
      " number of features per ndoe:  0 \n",
      " number of edge features:  0 \n",
      " all the attributes of data:  ['edge_index']\n"
     ]
    }
   ],
   "source": [
    "data_name = 'soc-livejournal1'\n",
    "dataset = SNAPDataset(root = local_data_root + data_name, name=data_name)\n",
    "print('number of data: ', len(dataset))\n",
    "data = dataset[0]\n",
    "print_data_info(data)"
   ]
  },
  {
   "cell_type": "code",
   "execution_count": 10,
   "metadata": {},
   "outputs": [
    {
     "name": "stdout",
     "output_type": "stream",
     "text": [
      "Downloading https://snap.stanford.edu/data/soc-Slashdot0811.txt.gz\n",
      "/media/xiangli/storage1/projects/tmpdata/soc-slashdot0811/soc-slashdot0811/raw/soc-Slashdot0811.txt.gz\n",
      "Extracting /media/xiangli/storage1/projects/tmpdata/soc-slashdot0811/soc-slashdot0811/raw/soc-Slashdot0811.txt.gz\n",
      "Processing...\n",
      "Done!\n",
      "number of data:  1\n",
      "Info (attributes) of a single data instance\n",
      "Data(edge_index=[2, 905468]) \n",
      " number of nodes:  77360 \n",
      " number of edges:  905468 \n",
      " number of features per ndoe:  0 \n",
      " number of edge features:  0 \n",
      " all the attributes of data:  ['edge_index']\n"
     ]
    }
   ],
   "source": [
    "data_name = 'soc-slashdot0811'\n",
    "dataset = SNAPDataset(root = local_data_root + data_name, name=data_name)\n",
    "print('number of data: ', len(dataset))\n",
    "data = dataset[0]\n",
    "print_data_info(data)\n"
   ]
  },
  {
   "cell_type": "markdown",
   "metadata": {},
   "source": [
    "### TUD dataset"
   ]
  },
  {
   "cell_type": "code",
   "execution_count": 14,
   "metadata": {},
   "outputs": [
    {
     "name": "stdout",
     "output_type": "stream",
     "text": [
      "Downloading http://ls11-www.cs.tu-dortmund.de/people/morris/graphkerneldatasets/FIRSTMM_DB.zip\n",
      "Extracting /media/xiangli/storage1/projects/tmpdata/FIRSTMM_DB/FIRSTMM_DB/FIRSTMM_DB.zip\n",
      "Processing...\n",
      "Done!\n",
      "number of data:  41\n",
      "Info (attributes) of a single data instance\n",
      "Data(edge_attr=[6420, 0], edge_index=[2, 6420], x=[1432, 5], y=[1]) \n",
      " number of nodes:  1432 \n",
      " number of edges:  6420 \n",
      " number of features per ndoe:  5 \n",
      " number of edge features:  0 \n",
      " all the attributes of data:  ['x', 'edge_index', 'edge_attr', 'y']\n"
     ]
    }
   ],
   "source": [
    "from torch_geometric.datasets import TUDataset\n",
    "data_name = 'FIRSTMM_DB'\n",
    "dataset = TUDataset(root = local_data_root + data_name, name=data_name)\n",
    "print('number of data: ', len(dataset))\n",
    "data = dataset[0]\n",
    "print_data_info(data)\n"
   ]
  },
  {
   "cell_type": "code",
   "execution_count": 32,
   "metadata": {},
   "outputs": [
    {
     "name": "stdout",
     "output_type": "stream",
     "text": [
      "Downloading http://ls11-www.cs.tu-dortmund.de/people/morris/graphkerneldatasets/REDDIT-MULTI-12K.zip\n",
      "Extracting /media/xiangli/storage1/projects/tmpdata/REDDIT-MULTI-12K/REDDIT-MULTI-12K/REDDIT-MULTI-12K.zip\n",
      "Processing...\n",
      "Done!\n",
      "number of data:  11929\n",
      "Info (attributes) of a single data instance\n",
      "Data(edge_index=[2, 118], y=[1]) \n",
      " number of nodes:  59 \n",
      " number of edges:  118 \n",
      " number of features per ndoe:  0 \n",
      " number of edge features:  0 \n",
      " all the attributes of data:  ['edge_index', 'y']\n"
     ]
    }
   ],
   "source": [
    "from torch_geometric.datasets import TUDataset\n",
    "data_name = 'REDDIT-MULTI-12K'\n",
    "dataset = TUDataset(root = local_data_root + data_name, name=data_name)\n",
    "print('number of data: ', len(dataset))\n",
    "data = dataset[0]\n",
    "print_data_info(data)\n"
   ]
  },
  {
   "cell_type": "markdown",
   "metadata": {},
   "source": [
    "## Belong to the CitationFull series"
   ]
  },
  {
   "cell_type": "code",
   "execution_count": 16,
   "metadata": {},
   "outputs": [
    {
     "name": "stdout",
     "output_type": "stream",
     "text": [
      "Downloading https://github.com/abojchevski/graph2gauss/raw/master/data/cora_ml.npz\n",
      "Processing...\n",
      "Done!\n",
      "number of data:  1\n",
      "Info (attributes) of a single data instance\n",
      "Data(edge_index=[2, 16316], x=[2995, 2879], y=[2995]) \n",
      " number of nodes:  2995 \n",
      " number of edges:  16316 \n",
      " number of features per ndoe:  2879 \n",
      " number of edge features:  0 \n",
      " all the attributes of data:  ['x', 'edge_index', 'y']\n"
     ]
    }
   ],
   "source": [
    "# assert name in ['cora', 'cora_ml', 'citeseer', 'dblp', 'pubmed']\n",
    "from torch_geometric.datasets import CitationFull\n",
    "data_name = 'cora_ml'\n",
    "dataset = CitationFull(root = local_data_root + data_name,  name=data_name)\n",
    "print('number of data: ', len(dataset))\n",
    "data = dataset[0]\n",
    "print_data_info(data)"
   ]
  },
  {
   "cell_type": "code",
   "execution_count": 17,
   "metadata": {},
   "outputs": [
    {
     "name": "stdout",
     "output_type": "stream",
     "text": [
      "Downloading https://github.com/abojchevski/graph2gauss/raw/master/data/citeseer.npz\n",
      "Processing...\n",
      "Done!\n",
      "number of data:  1\n",
      "Info (attributes) of a single data instance\n",
      "Data(edge_index=[2, 10674], x=[4230, 602], y=[4230]) \n",
      " number of nodes:  4230 \n",
      " number of edges:  10674 \n",
      " number of features per ndoe:  602 \n",
      " number of edge features:  0 \n",
      " all the attributes of data:  ['x', 'edge_index', 'y']\n"
     ]
    }
   ],
   "source": [
    "data_name = 'citeseer'\n",
    "dataset = CitationFull(root = local_data_root + data_name,  name=data_name)\n",
    "print('number of data: ', len(dataset))\n",
    "data = dataset[0]\n",
    "print_data_info(data)"
   ]
  },
  {
   "cell_type": "code",
   "execution_count": 19,
   "metadata": {},
   "outputs": [
    {
     "name": "stdout",
     "output_type": "stream",
     "text": [
      "Downloading https://github.com/abojchevski/graph2gauss/raw/master/data/dblp.npz\n",
      "Processing...\n",
      "Done!\n",
      "number of data:  1\n",
      "Info (attributes) of a single data instance\n",
      "Data(edge_index=[2, 105734], x=[17716, 1639], y=[17716]) \n",
      " number of nodes:  17716 \n",
      " number of edges:  105734 \n",
      " number of features per ndoe:  1639 \n",
      " number of edge features:  0 \n",
      " all the attributes of data:  ['x', 'edge_index', 'y']\n"
     ]
    }
   ],
   "source": [
    "data_name = 'dblp'\n",
    "dataset = CitationFull(root = local_data_root + data_name,  name=data_name)\n",
    "print('number of data: ', len(dataset))\n",
    "data = dataset[0]\n",
    "print_data_info(data)"
   ]
  },
  {
   "cell_type": "code",
   "execution_count": 20,
   "metadata": {},
   "outputs": [
    {
     "name": "stdout",
     "output_type": "stream",
     "text": [
      "Downloading https://github.com/abojchevski/graph2gauss/raw/master/data/pubmed.npz\n",
      "Processing...\n",
      "Done!\n",
      "number of data:  1\n",
      "Info (attributes) of a single data instance\n",
      "Data(edge_index=[2, 88648], x=[19717, 500], y=[19717]) \n",
      " number of nodes:  19717 \n",
      " number of edges:  88648 \n",
      " number of features per ndoe:  500 \n",
      " number of edge features:  0 \n",
      " all the attributes of data:  ['x', 'edge_index', 'y']\n"
     ]
    }
   ],
   "source": [
    "data_name = 'pubmed'\n",
    "dataset = CitationFull(root = local_data_root + data_name,  name=data_name)\n",
    "print('number of data: ', len(dataset))\n",
    "data = dataset[0]\n",
    "print_data_info(data)"
   ]
  },
  {
   "cell_type": "markdown",
   "metadata": {},
   "source": [
    "### CoraFull dataset (alias for CitationFull with name \"Cora\")"
   ]
  },
  {
   "cell_type": "code",
   "execution_count": 18,
   "metadata": {},
   "outputs": [
    {
     "name": "stdout",
     "output_type": "stream",
     "text": [
      "Downloading https://github.com/abojchevski/graph2gauss/raw/master/data/cora.npz\n",
      "Processing...\n",
      "Done!\n",
      "number of data:  1\n",
      "Info (attributes) of a single data instance\n",
      "Data(edge_index=[2, 126842], x=[19793, 8710], y=[19793]) \n",
      " number of nodes:  19793 \n",
      " number of edges:  126842 \n",
      " number of features per ndoe:  8710 \n",
      " number of edge features:  0 \n",
      " all the attributes of data:  ['x', 'edge_index', 'y']\n"
     ]
    }
   ],
   "source": [
    "from torch_geometric.datasets import CoraFull\n",
    "data_name = 'CoraFull'\n",
    "dataset = CoraFull(root = local_data_root + 'CoralFull')\n",
    "print('number of data: ', len(dataset))\n",
    "data = dataset[0]\n",
    "print_data_info(data)"
   ]
  },
  {
   "cell_type": "markdown",
   "metadata": {},
   "source": [
    "### Coauthor dataset"
   ]
  },
  {
   "cell_type": "code",
   "execution_count": 21,
   "metadata": {},
   "outputs": [
    {
     "name": "stdout",
     "output_type": "stream",
     "text": [
      "number of data:  1\n",
      "Info (attributes) of a single data instance\n",
      "Data(edge_index=[2, 163788], x=[18333, 6805], y=[18333]) \n",
      " number of nodes:  18333 \n",
      " number of edges:  163788 \n",
      " number of features per ndoe:  6805 \n",
      " number of edge features:  0 \n",
      " all the attributes of data:  ['x', 'edge_index', 'y']\n"
     ]
    }
   ],
   "source": [
    "from torch_geometric.datasets import Coauthor\n",
    "data_name = 'cs'\n",
    "dataset = Coauthor(root = local_data_root + 'Coauthor/' + data_name, name=data_name)\n",
    "print('number of data: ', len(dataset))\n",
    "data = dataset[0]\n",
    "print_data_info(data)"
   ]
  },
  {
   "cell_type": "markdown",
   "metadata": {},
   "source": [
    "### Amazon dataset"
   ]
  },
  {
   "cell_type": "code",
   "execution_count": 16,
   "metadata": {},
   "outputs": [
    {
     "name": "stdout",
     "output_type": "stream",
     "text": [
      "number of data:  1\n",
      "Info (attributes) of a single data instance\n",
      "Data(edge_index=[2, 491722], x=[13752, 767], y=[13752]) \n",
      " number of nodes:  13752 \n",
      " number of edges:  491722 \n",
      " number of features per ndoe:  767 \n",
      " number of edge features:  0 \n",
      " all the attributes of data:  ['x', 'edge_index', 'y']\n"
     ]
    }
   ],
   "source": [
    "from torch_geometric.datasets import Amazon\n",
    "data_name = 'computers'    # can also be 'computers', 'photos'\n",
    "dataset = Amazon(root = local_data_root + 'Amazon/' + data_name, name=data_name)\n",
    "print('number of data: ', len(dataset))\n",
    "data = dataset[0]\n",
    "print_data_info(data)"
   ]
  },
  {
   "cell_type": "code",
   "execution_count": 17,
   "metadata": {},
   "outputs": [
    {
     "name": "stdout",
     "output_type": "stream",
     "text": [
      "number of data:  1\n",
      "Info (attributes) of a single data instance\n",
      "Data(edge_index=[2, 238162], x=[7650, 745], y=[7650]) \n",
      " number of nodes:  7650 \n",
      " number of edges:  238162 \n",
      " number of features per ndoe:  745 \n",
      " number of edge features:  0 \n",
      " all the attributes of data:  ['x', 'edge_index', 'y']\n"
     ]
    }
   ],
   "source": [
    "data_name = 'photo'    # can also be 'computers', 'photos'\n",
    "dataset = Amazon(root = local_data_root + 'Amazon/' + data_name, name=data_name)\n",
    "print('number of data: ', len(dataset))\n",
    "data = dataset[0]\n",
    "print_data_info(data)"
   ]
  },
  {
   "cell_type": "markdown",
   "metadata": {},
   "source": [
    "### PPI dataset"
   ]
  },
  {
   "cell_type": "code",
   "execution_count": 19,
   "metadata": {},
   "outputs": [
    {
     "name": "stdout",
     "output_type": "stream",
     "text": [
      "number of data:  20\n",
      "Infor for the data #[0]\n",
      "Info (attributes) of a single data instance\n",
      "Data(edge_index=[2, 32318], x=[1767, 50], y=[1767, 121]) \n",
      " number of nodes:  1767 \n",
      " number of edges:  32318 \n",
      " number of features per ndoe:  50 \n",
      " number of edge features:  0 \n",
      " all the attributes of data:  ['x', 'edge_index', 'y']\n",
      "Infor for the data #[1]\n",
      "Info (attributes) of a single data instance\n",
      "Data(edge_index=[2, 29704], x=[1377, 50], y=[1377, 121]) \n",
      " number of nodes:  1377 \n",
      " number of edges:  29704 \n",
      " number of features per ndoe:  50 \n",
      " number of edge features:  0 \n",
      " all the attributes of data:  ['x', 'edge_index', 'y']\n",
      "Infor for the data #[2]\n",
      "Info (attributes) of a single data instance\n",
      "Data(edge_index=[2, 59644], x=[2263, 50], y=[2263, 121]) \n",
      " number of nodes:  2263 \n",
      " number of edges:  59644 \n",
      " number of features per ndoe:  50 \n",
      " number of edge features:  0 \n",
      " all the attributes of data:  ['x', 'edge_index', 'y']\n",
      "Infor for the data #[3]\n",
      "Info (attributes) of a single data instance\n",
      "Data(edge_index=[2, 65430], x=[2339, 50], y=[2339, 121]) \n",
      " number of nodes:  2339 \n",
      " number of edges:  65430 \n",
      " number of features per ndoe:  50 \n",
      " number of edge features:  0 \n",
      " all the attributes of data:  ['x', 'edge_index', 'y']\n",
      "Infor for the data #[4]\n",
      "Info (attributes) of a single data instance\n",
      "Data(edge_index=[2, 36162], x=[1578, 50], y=[1578, 121]) \n",
      " number of nodes:  1578 \n",
      " number of edges:  36162 \n",
      " number of features per ndoe:  50 \n",
      " number of edge features:  0 \n",
      " all the attributes of data:  ['x', 'edge_index', 'y']\n",
      "Infor for the data #[5]\n",
      "Info (attributes) of a single data instance\n",
      "Data(edge_index=[2, 18216], x=[1021, 50], y=[1021, 121]) \n",
      " number of nodes:  1021 \n",
      " number of edges:  18216 \n",
      " number of features per ndoe:  50 \n",
      " number of edge features:  0 \n",
      " all the attributes of data:  ['x', 'edge_index', 'y']\n",
      "Infor for the data #[6]\n",
      "Info (attributes) of a single data instance\n",
      "Data(edge_index=[2, 44330], x=[1823, 50], y=[1823, 121]) \n",
      " number of nodes:  1823 \n",
      " number of edges:  44330 \n",
      " number of features per ndoe:  50 \n",
      " number of edge features:  0 \n",
      " all the attributes of data:  ['x', 'edge_index', 'y']\n",
      "Infor for the data #[7]\n",
      "Info (attributes) of a single data instance\n",
      "Data(edge_index=[2, 70390], x=[2488, 50], y=[2488, 121]) \n",
      " number of nodes:  2488 \n",
      " number of edges:  70390 \n",
      " number of features per ndoe:  50 \n",
      " number of edge features:  0 \n",
      " all the attributes of data:  ['x', 'edge_index', 'y']\n",
      "Infor for the data #[8]\n",
      "Info (attributes) of a single data instance\n",
      "Data(edge_index=[2, 7708], x=[591, 50], y=[591, 121]) \n",
      " number of nodes:  591 \n",
      " number of edges:  7708 \n",
      " number of features per ndoe:  50 \n",
      " number of edge features:  0 \n",
      " all the attributes of data:  ['x', 'edge_index', 'y']\n",
      "Infor for the data #[9]\n",
      "Info (attributes) of a single data instance\n",
      "Data(edge_index=[2, 106198], x=[3312, 50], y=[3312, 121]) \n",
      " number of nodes:  3312 \n",
      " number of edges:  106198 \n",
      " number of features per ndoe:  50 \n",
      " number of edge features:  0 \n",
      " all the attributes of data:  ['x', 'edge_index', 'y']\n",
      "Infor for the data #[10]\n",
      "Info (attributes) of a single data instance\n",
      "Data(edge_index=[2, 64218], x=[2401, 50], y=[2401, 121]) \n",
      " number of nodes:  2401 \n",
      " number of edges:  64218 \n",
      " number of features per ndoe:  50 \n",
      " number of edge features:  0 \n",
      " all the attributes of data:  ['x', 'edge_index', 'y']\n",
      "Infor for the data #[11]\n",
      "Info (attributes) of a single data instance\n",
      "Data(edge_index=[2, 46268], x=[1878, 50], y=[1878, 121]) \n",
      " number of nodes:  1878 \n",
      " number of edges:  46268 \n",
      " number of features per ndoe:  50 \n",
      " number of edge features:  0 \n",
      " all the attributes of data:  ['x', 'edge_index', 'y']\n",
      "Infor for the data #[12]\n",
      "Info (attributes) of a single data instance\n",
      "Data(edge_index=[2, 45768], x=[1819, 50], y=[1819, 121]) \n",
      " number of nodes:  1819 \n",
      " number of edges:  45768 \n",
      " number of features per ndoe:  50 \n",
      " number of edge features:  0 \n",
      " all the attributes of data:  ['x', 'edge_index', 'y']\n",
      "Infor for the data #[13]\n",
      "Info (attributes) of a single data instance\n",
      "Data(edge_index=[2, 106754], x=[3480, 50], y=[3480, 121]) \n",
      " number of nodes:  3480 \n",
      " number of edges:  106754 \n",
      " number of features per ndoe:  50 \n",
      " number of edge features:  0 \n",
      " all the attributes of data:  ['x', 'edge_index', 'y']\n",
      "Infor for the data #[14]\n",
      "Info (attributes) of a single data instance\n",
      "Data(edge_index=[2, 85318], x=[2794, 50], y=[2794, 121]) \n",
      " number of nodes:  2794 \n",
      " number of edges:  85318 \n",
      " number of features per ndoe:  50 \n",
      " number of edge features:  0 \n",
      " all the attributes of data:  ['x', 'edge_index', 'y']\n",
      "Infor for the data #[15]\n",
      "Info (attributes) of a single data instance\n",
      "Data(edge_index=[2, 59862], x=[2326, 50], y=[2326, 121]) \n",
      " number of nodes:  2326 \n",
      " number of edges:  59862 \n",
      " number of features per ndoe:  50 \n",
      " number of edge features:  0 \n",
      " all the attributes of data:  ['x', 'edge_index', 'y']\n",
      "Infor for the data #[16]\n",
      "Info (attributes) of a single data instance\n",
      "Data(edge_index=[2, 77064], x=[2650, 50], y=[2650, 121]) \n",
      " number of nodes:  2650 \n",
      " number of edges:  77064 \n",
      " number of features per ndoe:  50 \n",
      " number of edge features:  0 \n",
      " all the attributes of data:  ['x', 'edge_index', 'y']\n",
      "Infor for the data #[17]\n",
      "Info (attributes) of a single data instance\n",
      "Data(edge_index=[2, 85520], x=[2815, 50], y=[2815, 121]) \n",
      " number of nodes:  2815 \n",
      " number of edges:  85520 \n",
      " number of features per ndoe:  50 \n",
      " number of edge features:  0 \n",
      " all the attributes of data:  ['x', 'edge_index', 'y']\n",
      "Infor for the data #[18]\n",
      "Info (attributes) of a single data instance\n",
      "Data(edge_index=[2, 94158], x=[3163, 50], y=[3163, 121]) \n",
      " number of nodes:  3163 \n",
      " number of edges:  94158 \n",
      " number of features per ndoe:  50 \n",
      " number of edge features:  0 \n",
      " all the attributes of data:  ['x', 'edge_index', 'y']\n",
      "Infor for the data #[19]\n",
      "Info (attributes) of a single data instance\n",
      "Data(edge_index=[2, 91338], x=[3021, 50], y=[3021, 121]) \n",
      " number of nodes:  3021 \n",
      " number of edges:  91338 \n",
      " number of features per ndoe:  50 \n",
      " number of edge features:  0 \n",
      " all the attributes of data:  ['x', 'edge_index', 'y']\n"
     ]
    }
   ],
   "source": [
    "from torch_geometric.datasets import PPI\n",
    "data_name = 'PPI'    # can also be 'computers'\n",
    "dataset = PPI(root = local_data_root + 'PPI/' + data_name)\n",
    "print('number of data: ', len(dataset))\n",
    "for i in range(len(dataset)):\n",
    "    print('Infor for the data #[{}]'.format(i))\n",
    "    data = dataset[i]\n",
    "    print_data_info(data)"
   ]
  },
  {
   "cell_type": "code",
   "execution_count": 18,
   "metadata": {},
   "outputs": [
    {
     "name": "stdout",
     "output_type": "stream",
     "text": [
      "number of data:  2\n",
      "Infor for the data #[0]\n",
      "Info (attributes) of a single data instance\n",
      "Data(edge_index=[2, 100648], x=[3224, 50], y=[3224, 121]) \n",
      " number of nodes:  3224 \n",
      " number of edges:  100648 \n",
      " number of features per ndoe:  50 \n",
      " number of edge features:  0 \n",
      " all the attributes of data:  ['x', 'edge_index', 'y']\n",
      "Infor for the data #[1]\n",
      "Info (attributes) of a single data instance\n",
      "Data(edge_index=[2, 61328], x=[2300, 50], y=[2300, 121]) \n",
      " number of nodes:  2300 \n",
      " number of edges:  61328 \n",
      " number of features per ndoe:  50 \n",
      " number of edge features:  0 \n",
      " all the attributes of data:  ['x', 'edge_index', 'y']\n"
     ]
    }
   ],
   "source": [
    "from torch_geometric.datasets import PPI\n",
    "data_name = 'PPI'    # can also be 'computers'\n",
    "dataset = PPI(root = local_data_root + 'PPI/' + data_name, split=\"test\")\n",
    "print('number of data: ', len(dataset))\n",
    "for i in range(len(dataset)):\n",
    "    print('Infor for the data #[{}]'.format(i))\n",
    "    data = dataset[i]\n",
    "    print_data_info(data)"
   ]
  },
  {
   "cell_type": "code",
   "execution_count": 8,
   "metadata": {},
   "outputs": [
    {
     "name": "stdout",
     "output_type": "stream",
     "text": [
      "number of data:  2\n",
      "Info (attributes) of a single data instance\n",
      "Data(edge_index=[2, 97446], x=[3230, 50], y=[3230, 121]) \n",
      " number of nodes:  3230 \n",
      " number of edges:  97446 \n",
      " number of features per ndoe:  50 \n",
      " number of edge features:  0 \n",
      " all the attributes of data:  ['x', 'edge_index', 'y']\n"
     ]
    }
   ],
   "source": [
    "from torch_geometric.datasets import PPI\n",
    "data_name = 'PPI'    # can also be 'computers'\n",
    "dataset = PPI(root = local_data_root + 'PPI/' + data_name, split=\"val\")\n",
    "print('number of data: ', len(dataset))\n",
    "data = dataset[0]\n",
    "print_data_info(data)"
   ]
  },
  {
   "cell_type": "markdown",
   "metadata": {},
   "source": [
    "### Reddit dataset"
   ]
  },
  {
   "cell_type": "code",
   "execution_count": 20,
   "metadata": {},
   "outputs": [
    {
     "name": "stdout",
     "output_type": "stream",
     "text": [
      "number of data:  1\n",
      "Info (attributes) of a single data instance\n",
      "Data(edge_index=[2, 114615892], test_mask=[232965], train_mask=[232965], val_mask=[232965], x=[232965, 602], y=[232965]) \n",
      " number of nodes:  232965 \n",
      " number of edges:  114615892 \n",
      " number of features per ndoe:  602 \n",
      " number of edge features:  0 \n",
      " all the attributes of data:  ['x', 'edge_index', 'y', 'train_mask', 'val_mask', 'test_mask']\n"
     ]
    }
   ],
   "source": [
    "from torch_geometric.datasets import Reddit\n",
    "data_name = 'Reddit'    # can also be 'computers'\n",
    "dataset = Reddit(root = local_data_root + '/' + data_name)\n",
    "print('number of data: ', len(dataset))\n",
    "data = dataset[0]\n",
    "print_data_info(data)"
   ]
  },
  {
   "cell_type": "code",
   "execution_count": null,
   "metadata": {},
   "outputs": [],
   "source": [
    "from torch_geometric.datasets import Flickr"
   ]
  },
  {
   "cell_type": "markdown",
   "metadata": {},
   "source": [
    "### QM7b dataset"
   ]
  },
  {
   "cell_type": "code",
   "execution_count": 21,
   "metadata": {},
   "outputs": [
    {
     "name": "stdout",
     "output_type": "stream",
     "text": [
      "number of data:  7211\n",
      "Info (attributes) of a single data instance\n",
      "Data(edge_attr=[25], edge_index=[2, 25], y=[1, 14]) \n",
      " number of nodes:  5 \n",
      " number of edges:  25 \n",
      " number of features per ndoe:  0 \n",
      " number of edge features:  1 \n",
      " all the attributes of data:  ['edge_index', 'edge_attr', 'y']\n"
     ]
    }
   ],
   "source": [
    "from torch_geometric.datasets import QM7b\n",
    "data_name = 'QM7b'    # can also be 'computers'\n",
    "dataset = QM7b(root = local_data_root + '/' + data_name)\n",
    "print('number of data: ', len(dataset))\n",
    "data = dataset[0]\n",
    "print_data_info(data)"
   ]
  },
  {
   "cell_type": "markdown",
   "metadata": {},
   "source": [
    "### QM9 dataset"
   ]
  },
  {
   "cell_type": "code",
   "execution_count": 9,
   "metadata": {},
   "outputs": [
    {
     "name": "stdout",
     "output_type": "stream",
     "text": [
      "number of data:  133246\n",
      "Info (attributes) of a single data instance\n",
      "Data(edge_attr=[8, 4], edge_index=[2, 8], pos=[5, 3], x=[5, 13], y=[1, 12]) \n",
      " number of nodes:  5 \n",
      " number of edges:  8 \n",
      " number of features per ndoe:  13 \n",
      " number of edge features:  4 \n",
      " all the attributes of data:  ['x', 'edge_index', 'edge_attr', 'y', 'pos']\n"
     ]
    }
   ],
   "source": [
    "from torch_geometric.datasets import QM9\n",
    "data_name = 'QM9'    # can also be 'computers'\n",
    "dataset = QM9(root = local_data_root + '/' + data_name)\n",
    "print('number of data: ', len(dataset))\n",
    "data = dataset[0]\n",
    "print_data_info(data)"
   ]
  },
  {
   "cell_type": "markdown",
   "metadata": {},
   "source": [
    "### Entities"
   ]
  },
  {
   "cell_type": "code",
   "execution_count": 23,
   "metadata": {},
   "outputs": [
    {
     "name": "stdout",
     "output_type": "stream",
     "text": [
      "number of data:  1\n",
      "Info (attributes) of a single data instance\n",
      "Data(edge_index=[2, 58086], edge_norm=[58086], edge_type=[58086], test_idx=[36], test_y=[36], train_idx=[140], train_y=[140]) \n",
      " number of nodes:  8285 \n",
      " number of edges:  58086 \n",
      " number of features per ndoe:  0 \n",
      " number of edge features:  0 \n",
      " all the attributes of data:  ['edge_index', 'edge_type', 'edge_norm', 'train_idx', 'train_y', 'test_idx', 'test_y']\n"
     ]
    }
   ],
   "source": [
    "from torch_geometric.datasets import Entities\n",
    "data_name = 'AIFB'    # can also be 'computers'\n",
    "dataset = Entities(root = local_data_root + 'Entities/' + data_name, name=data_name)\n",
    "print('number of data: ', len(dataset))\n",
    "data = dataset[0]\n",
    "print_data_info(data)"
   ]
  },
  {
   "cell_type": "markdown",
   "metadata": {},
   "source": [
    "#### Large data scale :  Entities  AM"
   ]
  },
  {
   "cell_type": "code",
   "execution_count": 24,
   "metadata": {},
   "outputs": [
    {
     "name": "stdout",
     "output_type": "stream",
     "text": [
      "number of data:  1\n",
      "Info (attributes) of a single data instance\n",
      "Data(edge_index=[2, 148454], edge_norm=[148454], edge_type=[148454], test_idx=[68], test_y=[68], train_idx=[272], train_y=[272]) \n",
      " number of nodes:  23644 \n",
      " number of edges:  148454 \n",
      " number of features per ndoe:  0 \n",
      " number of edge features:  0 \n",
      " all the attributes of data:  ['edge_index', 'edge_type', 'edge_norm', 'train_idx', 'train_y', 'test_idx', 'test_y']\n"
     ]
    }
   ],
   "source": [
    "data_name = 'MUTAG'    # can also be 'computers'\n",
    "dataset = Entities(root = local_data_root + 'Entities/' + data_name, name=data_name)\n",
    "print('number of data: ', len(dataset))\n",
    "data = dataset[0]\n",
    "print_data_info(data)"
   ]
  },
  {
   "cell_type": "markdown",
   "metadata": {},
   "source": [
    "##### No node features but with labels"
   ]
  },
  {
   "cell_type": "code",
   "execution_count": 26,
   "metadata": {},
   "outputs": [
    {
     "name": "stdout",
     "output_type": "stream",
     "text": [
      "number of data:  1\n",
      "Info (attributes) of a single data instance\n",
      "Data(edge_index=[2, 1832398], edge_norm=[1832398], edge_type=[1832398], test_idx=[29], test_y=[29], train_idx=[117], train_y=[117]) \n",
      " number of nodes:  333845 \n",
      " number of edges:  1832398 \n",
      " number of features per ndoe:  0 \n",
      " number of edge features:  0 \n",
      " all the attributes of data:  ['edge_index', 'edge_type', 'edge_norm', 'train_idx', 'train_y', 'test_idx', 'test_y']\n"
     ]
    }
   ],
   "source": [
    "data_name = 'BGS'    # can also be 'computers'\n",
    "dataset = Entities(root = local_data_root + 'Entities/' + data_name, name=data_name)\n",
    "print('number of data: ', len(dataset))\n",
    "data = dataset[0]\n",
    "print_data_info(data)"
   ]
  },
  {
   "cell_type": "markdown",
   "metadata": {},
   "source": [
    "### GEDDataset"
   ]
  },
  {
   "cell_type": "code",
   "execution_count": 27,
   "metadata": {},
   "outputs": [
    {
     "name": "stdout",
     "output_type": "stream",
     "text": [
      "number of data:  800\n",
      "Info (attributes) of a single data instance\n",
      "Data(edge_index=[2, 18], i=[1]) \n",
      " number of nodes:  8 \n",
      " number of edges:  18 \n",
      " number of features per ndoe:  0 \n",
      " number of edge features:  0 \n",
      " all the attributes of data:  ['edge_index', 'i']\n"
     ]
    }
   ],
   "source": [
    "from torch_geometric.datasets import GEDDataset\n",
    "data_name = 'LINUX'    # can also be 'computers'\n",
    "dataset = GEDDataset(root = local_data_root + 'GEDDataset/' + data_name, name=data_name)\n",
    "print('number of data: ', len(dataset))\n",
    "data = dataset[0]\n",
    "print('Info (attributes) of a single data instance')\n",
    "print(data, '\\n number of nodes: ', data.num_nodes, '\\n number of edges: ', data.num_edges, \\\n",
    "  '\\n number of features per ndoe: ', data.num_node_features, '\\n number of edge features: ', data.num_edge_features, \\\n",
    "  '\\n all the attributes of data: ', data.keys)"
   ]
  },
  {
   "cell_type": "markdown",
   "metadata": {},
   "source": [
    "### MNISTSuperpixels"
   ]
  },
  {
   "cell_type": "code",
   "execution_count": 28,
   "metadata": {},
   "outputs": [
    {
     "name": "stdout",
     "output_type": "stream",
     "text": [
      "number of data:  60000\n",
      "Info (attributes) of a single data instance\n",
      "Data(edge_index=[2, 1399], pos=[75, 2], x=[75, 1], y=[1]) \n",
      " number of nodes:  75 \n",
      " number of edges:  1399 \n",
      " number of features per ndoe:  1 \n",
      " number of edge features:  0 \n",
      " all the attributes of data:  ['x', 'edge_index', 'y', 'pos']\n"
     ]
    }
   ],
   "source": [
    "from torch_geometric.datasets import MNISTSuperpixels\n",
    "data_name = 'MNISTSuperpixels'    # can also be 'computers'\n",
    "dataset = MNISTSuperpixels(root = local_data_root + '/' + data_name)\n",
    "print('number of data: ', len(dataset))\n",
    "data = dataset[0]\n",
    "print_data_info(data)"
   ]
  },
  {
   "cell_type": "markdown",
   "metadata": {},
   "source": [
    "### ShapeNet"
   ]
  },
  {
   "cell_type": "code",
   "execution_count": 29,
   "metadata": {},
   "outputs": [
    {
     "name": "stdout",
     "output_type": "stream",
     "text": [
      "Downloading https://shapenet.cs.stanford.edu/media/shapenetcore_partanno_segmentation_benchmark_v0_normal.zip\n",
      "Extracting /media/xiangli/storage1/projects/tmpdata/ShapeNet/shapenetcore_partanno_segmentation_benchmark_v0_normal.zip\n",
      "Processing...\n",
      "Done!\n",
      "number of data:  14007\n",
      "Info (attributes) of a single data instance\n",
      "Data(category=[1], pos=[2252, 3], x=[2252, 3], y=[2252]) \n",
      " number of nodes:  2252 \n",
      " number of edges:  None \n",
      " number of features per ndoe:  3 \n",
      " number of edge features:  0 \n",
      " all the attributes of data:  ['x', 'y', 'pos', 'category']\n"
     ]
    }
   ],
   "source": [
    "from torch_geometric.datasets import ShapeNet\n",
    "data_name = 'ShapeNet'    # can also be 'computers'\n",
    "dataset = ShapeNet(root = local_data_root + '/' + data_name)\n",
    "print('number of data: ', len(dataset))\n",
    "data = dataset[0]\n",
    "print_data_info(data)"
   ]
  },
  {
   "cell_type": "markdown",
   "metadata": {},
   "source": [
    "### PCPNetDataset"
   ]
  },
  {
   "cell_type": "code",
   "execution_count": 30,
   "metadata": {},
   "outputs": [
    {
     "name": "stdout",
     "output_type": "stream",
     "text": [
      "number of data:  32\n",
      "Info (attributes) of a single data instance\n",
      "Data(pos=[100000, 3], test_idx=[5000], x=[100000, 5]) \n",
      " number of nodes:  100000 \n",
      " number of edges:  None \n",
      " number of features per ndoe:  5 \n",
      " number of edge features:  0 \n",
      " all the attributes of data:  ['x', 'pos', 'test_idx']\n"
     ]
    }
   ],
   "source": [
    "from torch_geometric.datasets import PCPNetDataset\n",
    "data_name = 'Noisy'    # can also be 'computers'\n",
    "dataset = PCPNetDataset(root = local_data_root + 'PCPNetDataset/' + data_name, category = 'Noisy')\n",
    "print('number of data: ', len(dataset))\n",
    "data = dataset[0]\n",
    "print('Info (attributes) of a single data instance')\n",
    "print(data, '\\n number of nodes: ', data.num_nodes, '\\n number of edges: ', data.num_edges, \\\n",
    "  '\\n number of features per ndoe: ', data.num_node_features, '\\n number of edge features: ', data.num_edge_features, \\\n",
    "  '\\n all the attributes of data: ', data.keys)"
   ]
  },
  {
   "cell_type": "markdown",
   "metadata": {},
   "source": [
    "### S3DIS"
   ]
  },
  {
   "cell_type": "markdown",
   "metadata": {},
   "source": [
    "All the data set here contains 4096 nodes, with a total number of 20291 data\n",
    "\n",
    "This dataset can be used as the mini-batch directly"
   ]
  },
  {
   "cell_type": "code",
   "execution_count": 31,
   "metadata": {},
   "outputs": [
    {
     "name": "stdout",
     "output_type": "stream",
     "text": [
      "number of data:  20291\n",
      "Info (attributes) of a single data instance\n",
      "Data(pos=[4096, 3], x=[4096, 6], y=[4096]) \n",
      " number of nodes:  4096 \n",
      " number of edges:  None \n",
      " number of features per ndoe:  6 \n",
      " number of edge features:  0 \n",
      " all the attributes of data:  ['x', 'y', 'pos']\n"
     ]
    }
   ],
   "source": [
    "from torch_geometric.datasets import S3DIS\n",
    "data_name = 'S3DIS'    # can also be 'computers'\n",
    "dataset = S3DIS(root = local_data_root + '/' + data_name)\n",
    "print('number of data: ', len(dataset))\n",
    "data = dataset[0]\n",
    "print_data_info(data)"
   ]
  },
  {
   "cell_type": "code",
   "execution_count": null,
   "metadata": {},
   "outputs": [],
   "source": [
    "select = [(idx, data.num_nodes) for idx, data in enumerate(dataset) if data.num_nodes > 5000]\n",
    "print(select)\n",
    "    "
   ]
  },
  {
   "cell_type": "code",
   "execution_count": null,
   "metadata": {},
   "outputs": [],
   "source": [
    "# free GPU memory\n",
    "!(nvidia-smi | grep 'python' | awk '{ print $3 }' | xargs -n1 kill -9)"
   ]
  },
  {
   "cell_type": "code",
   "execution_count": null,
   "metadata": {},
   "outputs": [],
   "source": []
  }
 ],
 "metadata": {
  "kernelspec": {
   "display_name": "Python [conda env:pytorch_1_4_0_geometric]",
   "language": "python",
   "name": "conda-env-pytorch_1_4_0_geometric-py"
  },
  "language_info": {
   "codemirror_mode": {
    "name": "ipython",
    "version": 3
   },
   "file_extension": ".py",
   "mimetype": "text/x-python",
   "name": "python",
   "nbconvert_exporter": "python",
   "pygments_lexer": "ipython3",
   "version": "3.7.3"
  }
 },
 "nbformat": 4,
 "nbformat_minor": 2
}
